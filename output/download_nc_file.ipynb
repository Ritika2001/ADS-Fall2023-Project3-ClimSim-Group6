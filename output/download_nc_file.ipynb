{
 "cells": [
  {
   "cell_type": "code",
   "execution_count": 5,
   "id": "c704e1d6",
   "metadata": {
    "ExecuteTime": {
     "end_time": "2023-11-01T22:39:51.489166Z",
     "start_time": "2023-11-01T22:39:51.320658Z"
    }
   },
   "outputs": [],
   "source": [
    "from huggingface_hub import hf_hub_download"
   ]
  },
  {
   "cell_type": "markdown",
   "id": "3ac64b8d",
   "metadata": {},
   "source": [
    "## Generate Flie List"
   ]
  },
  {
   "cell_type": "code",
   "execution_count": 3,
   "id": "408a2830",
   "metadata": {
    "ExecuteTime": {
     "end_time": "2023-11-01T22:34:59.387468Z",
     "start_time": "2023-11-01T22:34:59.366306Z"
    }
   },
   "outputs": [],
   "source": [
    "def calculate_total_days(start_year, start_month, end_year, end_month):\n",
    "    # Define the number of days in each month\n",
    "    days_in_month = {\n",
    "        1: 31,\n",
    "        2: 28,  \n",
    "        3: 31,\n",
    "        4: 30,\n",
    "        5: 31,\n",
    "        6: 30,\n",
    "        7: 31,\n",
    "        8: 31,\n",
    "        9: 30,\n",
    "        10: 31,\n",
    "        11: 30,\n",
    "        12: 31,\n",
    "    }\n",
    "\n",
    "    # Calculate the number of full years\n",
    "    full_years = end_year - start_year-1\n",
    "\n",
    "    # Calculate the number of days in full years\n",
    "    total_days = full_years * 365  # Ignoring leap years\n",
    "\n",
    "    # Add days for each month from start_month to the end of the last year\n",
    "    for month in range(start_month, 13):\n",
    "        total_days += days_in_month[month]\n",
    "\n",
    "    # Add days for each month from the first month of the end year to end_month\n",
    "    for month in range(1, end_month + 1):\n",
    "        total_days += days_in_month[month]\n",
    "\n",
    "    return total_days\n",
    "\n",
    "\n",
    "def generate_file_list(time_period):\n",
    "    current_time = 0\n",
    "    current_day = 1\n",
    "    current_month = int(time_period[0].split(\"-\")[1])\n",
    "    current_year = int(time_period[0].split(\"-\")[0])\n",
    "    end_month = int(time_period[1].split(\"-\")[1])\n",
    "    end_year = int(time_period[1].split(\"-\")[0])\n",
    "    start_date = (current_year, current_month) \n",
    "    end_date = (end_year, end_month)   \n",
    "    total_days = calculate_total_days(start_date[0], start_date[1], end_date[0], end_date[1])\n",
    "    end_time = 86400 * total_days # Adjust as needed for the number of days in the month\n",
    "\n",
    "    # Define the time step (in seconds)\n",
    "    time_step = 1200\n",
    "\n",
    "    days_in_month = {\n",
    "        1: 31,\n",
    "        2: 28, \n",
    "        3: 31,\n",
    "        4: 30,\n",
    "        5: 31,\n",
    "        6: 30,\n",
    "        7: 31,\n",
    "        8: 31,\n",
    "        9: 30,\n",
    "        10: 31,\n",
    "        11: 30,\n",
    "        12: 31,\n",
    "    }\n",
    "\n",
    "    file_list = []\n",
    "    folder_list = []\n",
    "    target_list = []\n",
    "    current_target_file_list = []\n",
    "    current_file_list = []\n",
    "    current_folder = []\n",
    "\n",
    "    # Loop through the time range and download the files\n",
    "    while current_time <= end_time:\n",
    "        # Calculate the day and time in day\n",
    "        day = current_day\n",
    "        time_in_day = current_time % 86400\n",
    "\n",
    "        # Generate the file name based on the current date and time\n",
    "        sub_folder = f\"train/{current_year:04d}-{current_month:02d}\"\n",
    "        file_name = f\"E3SM-MMF.mli.{current_year:04d}-{current_month:02d}-{day:02d}-{time_in_day:05d}.nc\"\n",
    "        target_file_name = f\"E3SM-MMF.mlo.{current_year:04d}-{current_month:02d}-{day:02d}-{time_in_day:05d}.nc\"\n",
    "\n",
    "        current_target_file_list.append(target_file_name)\n",
    "        current_file_list.append(file_name)\n",
    "        current_folder.append(sub_folder)\n",
    "\n",
    "        # Update the current_time and date\n",
    "        current_time += time_step\n",
    "        if time_in_day + time_step >= 86400:\n",
    "            current_day += 1\n",
    "            if current_day > days_in_month[current_month]:\n",
    "                file_list.append(current_file_list)\n",
    "                folder_list.append(current_folder)\n",
    "                target_list.append(current_target_file_list)\n",
    "                current_target_file_list = []\n",
    "                current_file_list = []\n",
    "                current_folder = []\n",
    "                current_month += 1\n",
    "                current_day = 1\n",
    "                if current_month > 12:\n",
    "                    current_year += 1\n",
    "                    current_month = 1    \n",
    "    return file_list, target_list, folder_list"
   ]
  },
  {
   "cell_type": "markdown",
   "id": "195b405e",
   "metadata": {},
   "source": [
    "## Downloading files"
   ]
  },
  {
   "cell_type": "code",
   "execution_count": 6,
   "id": "3af2d7c6",
   "metadata": {
    "ExecuteTime": {
     "end_time": "2023-11-01T22:45:46.302881Z",
     "start_time": "2023-11-01T22:45:46.285881Z"
    }
   },
   "outputs": [],
   "source": [
    "def download_nc(time_period, local_dir):\n",
    "    file_list = generate_file_list(time_period)[0]\n",
    "    target_list = generate_file_list(time_period)[1]\n",
    "    folder_list = generate_file_list(time_period)[2]\n",
    "    repo_id = \"LEAP/ClimSim_low-res\"\n",
    "    \n",
    "    #Download file list\n",
    "    for i in range(len(file_list)):\n",
    "        for j in range(len(file_list[i])):\n",
    "            local_filepath = hf_hub_download(repo_id=repo_id, filename=file_list[i][j], subfolder = folder_list[i][j], repo_type=\"dataset\", local_dir = local_dir, local_dir_use_symlinks = 'auto')\n",
    "\n",
    "    #Download target file list\n",
    "    for i in range(len(target_list)):\n",
    "        for j in range(len(target_list[i])):\n",
    "            local_filepath = hf_hub_download(repo_id=repo_id, filename=target_list[i][j], subfolder = folder_list[i][j], repo_type=\"dataset\", local_dir = local_dir, local_dir_use_symlinks = 'auto')"
   ]
  },
  {
   "cell_type": "code",
   "execution_count": null,
   "id": "466f3d1b",
   "metadata": {},
   "outputs": [],
   "source": []
  }
 ],
 "metadata": {
  "kernelspec": {
   "display_name": "Python 3 (ipykernel)",
   "language": "python",
   "name": "python3"
  },
  "language_info": {
   "codemirror_mode": {
    "name": "ipython",
    "version": 3
   },
   "file_extension": ".py",
   "mimetype": "text/x-python",
   "name": "python",
   "nbconvert_exporter": "python",
   "pygments_lexer": "ipython3",
   "version": "3.9.18"
  }
 },
 "nbformat": 4,
 "nbformat_minor": 5
}
