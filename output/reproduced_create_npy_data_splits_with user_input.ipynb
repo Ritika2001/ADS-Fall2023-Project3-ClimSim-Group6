{
 "cells": [
  {
   "cell_type": "markdown",
   "metadata": {},
   "source": [
    "### Importing packages and data_utils.py"
   ]
  },
  {
   "cell_type": "code",
   "execution_count": 1,
   "metadata": {
    "ExecuteTime": {
     "end_time": "2023-11-01T23:05:00.865677Z",
     "start_time": "2023-11-01T23:04:53.428709Z"
    }
   },
   "outputs": [
    {
     "name": "stdout",
     "output_type": "stream",
     "text": [
      "importing Jupyter notebook from climsim_geo_temporal_data_finder_function_definition.ipynb\n",
      "importing Jupyter notebook from download_nc_file.ipynb\n"
     ]
    }
   ],
   "source": [
    "from climsim_utils.data_utils import *\n",
    "import import_ipynb\n",
    "from revised_climsim_geo_temporal_data_finder_function import climsim_geo_temporal_data_finder\n",
    "from download_nc_file import download_nc"
   ]
  },
  {
   "cell_type": "code",
   "execution_count": 2,
   "metadata": {
    "ExecuteTime": {
     "end_time": "2023-11-01T23:05:07.885631Z",
     "start_time": "2023-11-01T23:05:04.474375Z"
    }
   },
   "outputs": [
    {
     "data": {
      "text/plain": [
       "([325, 178, 243, 248, 250, 251, 222],\n",
       " ['E3SM-MMF.mli.0001-0[67]-*-*.nc'],\n",
       " ['E3SM-MMF.mli.0008-0[12]-*-*.nc'])"
      ]
     },
     "execution_count": 2,
     "metadata": {},
     "output_type": "execute_result"
    }
   ],
   "source": [
    "#Example user input\n",
    "locations = [\"New York, USA\", \"Tokyo\", \"Detroit, MI\", \"Havana, Cuba\", (40.7128, -74.0060), (35.682839, 139.759455), (34.0522, -118.2437), (51.5074, -0.1278), \"Manaus, Brazil\"]\n",
    "training_period = [\"0001-06\", \"0001-07\"]\n",
    "validation_period = [\"0008-01\", \"0008-02\"]\n",
    "data_filter = climsim_geo_temporal_data_finder(locations, training_period, validation_period)\n",
    "data_filter"
   ]
  },
  {
   "cell_type": "code",
   "execution_count": 15,
   "metadata": {
    "ExecuteTime": {
     "end_time": "2023-11-02T02:19:22.250962Z",
     "start_time": "2023-11-02T01:52:37.666979Z"
    }
   },
   "outputs": [
    {
     "data": {
      "application/vnd.jupyter.widget-view+json": {
       "model_id": "8b61ad5a017e438782afed5d66ed5018",
       "version_major": 2,
       "version_minor": 0
      },
      "text/plain": [
       "E3SM-MMF.mlo.0008-01-29-81600.nc:   0%|          | 0.00/1.13M [00:00<?, ?B/s]"
      ]
     },
     "metadata": {},
     "output_type": "display_data"
    },
    {
     "data": {
      "application/vnd.jupyter.widget-view+json": {
       "model_id": "6b2906448bce4c9f92a4d738128d7396",
       "version_major": 2,
       "version_minor": 0
      },
      "text/plain": [
       "E3SM-MMF.mlo.0008-01-29-82800.nc:   0%|          | 0.00/1.13M [00:00<?, ?B/s]"
      ]
     },
     "metadata": {},
     "output_type": "display_data"
    },
    {
     "data": {
      "application/vnd.jupyter.widget-view+json": {
       "model_id": "b2b24a386c2f40f0ae061dc5dff85ac8",
       "version_major": 2,
       "version_minor": 0
      },
      "text/plain": [
       "E3SM-MMF.mlo.0008-01-29-84000.nc:   0%|          | 0.00/1.13M [00:00<?, ?B/s]"
      ]
     },
     "metadata": {},
     "output_type": "display_data"
    },
    {
     "data": {
      "application/vnd.jupyter.widget-view+json": {
       "model_id": "8b72b0e741644c8d945db5fc56a4526f",
       "version_major": 2,
       "version_minor": 0
      },
      "text/plain": [
       "E3SM-MMF.mlo.0008-01-29-85200.nc:   0%|          | 0.00/1.13M [00:00<?, ?B/s]"
      ]
     },
     "metadata": {},
     "output_type": "display_data"
    },
    {
     "data": {
      "application/vnd.jupyter.widget-view+json": {
       "model_id": "9ca66ebfbc974c03856403d4bc9607bb",
       "version_major": 2,
       "version_minor": 0
      },
      "text/plain": [
       "E3SM-MMF.mlo.0008-01-30-00000.nc:   0%|          | 0.00/1.13M [00:00<?, ?B/s]"
      ]
     },
     "metadata": {},
     "output_type": "display_data"
    },
    {
     "data": {
      "application/vnd.jupyter.widget-view+json": {
       "model_id": "f13494dbac8f4e9e978f0824c5813c00",
       "version_major": 2,
       "version_minor": 0
      },
      "text/plain": [
       "E3SM-MMF.mlo.0008-01-30-01200.nc:   0%|          | 0.00/1.13M [00:00<?, ?B/s]"
      ]
     },
     "metadata": {},
     "output_type": "display_data"
    },
    {
     "data": {
      "application/vnd.jupyter.widget-view+json": {
       "model_id": "0957d88da4b94fda83705f5daa7d6b52",
       "version_major": 2,
       "version_minor": 0
      },
      "text/plain": [
       "E3SM-MMF.mlo.0008-01-30-02400.nc:   0%|          | 0.00/1.13M [00:00<?, ?B/s]"
      ]
     },
     "metadata": {},
     "output_type": "display_data"
    },
    {
     "data": {
      "application/vnd.jupyter.widget-view+json": {
       "model_id": "79dba8298eda4672b58d31b2c6aa6bb1",
       "version_major": 2,
       "version_minor": 0
      },
      "text/plain": [
       "E3SM-MMF.mlo.0008-01-30-03600.nc:   0%|          | 0.00/1.13M [00:00<?, ?B/s]"
      ]
     },
     "metadata": {},
     "output_type": "display_data"
    },
    {
     "data": {
      "application/vnd.jupyter.widget-view+json": {
       "model_id": "5b7fc88ae0cf4457b0b59fd71ebf17f7",
       "version_major": 2,
       "version_minor": 0
      },
      "text/plain": [
       "E3SM-MMF.mlo.0008-01-30-04800.nc:   0%|          | 0.00/1.13M [00:00<?, ?B/s]"
      ]
     },
     "metadata": {},
     "output_type": "display_data"
    },
    {
     "data": {
      "application/vnd.jupyter.widget-view+json": {
       "model_id": "ec27939f7815492486107b8c960ab82f",
       "version_major": 2,
       "version_minor": 0
      },
      "text/plain": [
       "E3SM-MMF.mlo.0008-01-30-06000.nc:   0%|          | 0.00/1.13M [00:00<?, ?B/s]"
      ]
     },
     "metadata": {},
     "output_type": "display_data"
    },
    {
     "data": {
      "application/vnd.jupyter.widget-view+json": {
       "model_id": "aae560c9d06a4bcf89a5ce6f5cc9b511",
       "version_major": 2,
       "version_minor": 0
      },
      "text/plain": [
       "E3SM-MMF.mlo.0008-01-30-07200.nc:   0%|          | 0.00/1.13M [00:00<?, ?B/s]"
      ]
     },
     "metadata": {},
     "output_type": "display_data"
    },
    {
     "data": {
      "application/vnd.jupyter.widget-view+json": {
       "model_id": "a1a5c005d40f419993c3616245e2c57a",
       "version_major": 2,
       "version_minor": 0
      },
      "text/plain": [
       "E3SM-MMF.mlo.0008-01-30-08400.nc:   0%|          | 0.00/1.13M [00:00<?, ?B/s]"
      ]
     },
     "metadata": {},
     "output_type": "display_data"
    },
    {
     "data": {
      "application/vnd.jupyter.widget-view+json": {
       "model_id": "65ee96715cfa42c5806c00035643ef63",
       "version_major": 2,
       "version_minor": 0
      },
      "text/plain": [
       "E3SM-MMF.mlo.0008-01-30-09600.nc:   0%|          | 0.00/1.13M [00:00<?, ?B/s]"
      ]
     },
     "metadata": {},
     "output_type": "display_data"
    },
    {
     "data": {
      "application/vnd.jupyter.widget-view+json": {
       "model_id": "d55e37731a024ba0b883a63cb2d19e75",
       "version_major": 2,
       "version_minor": 0
      },
      "text/plain": [
       "E3SM-MMF.mlo.0008-01-30-10800.nc:   0%|          | 0.00/1.13M [00:00<?, ?B/s]"
      ]
     },
     "metadata": {},
     "output_type": "display_data"
    },
    {
     "data": {
      "application/vnd.jupyter.widget-view+json": {
       "model_id": "5d2738f3e1804951a34355eb65588ca6",
       "version_major": 2,
       "version_minor": 0
      },
      "text/plain": [
       "E3SM-MMF.mlo.0008-01-30-12000.nc:   0%|          | 0.00/1.13M [00:00<?, ?B/s]"
      ]
     },
     "metadata": {},
     "output_type": "display_data"
    },
    {
     "data": {
      "application/vnd.jupyter.widget-view+json": {
       "model_id": "8984b5a7b5a64df98c3d9d9072403e62",
       "version_major": 2,
       "version_minor": 0
      },
      "text/plain": [
       "E3SM-MMF.mlo.0008-01-30-13200.nc:   0%|          | 0.00/1.13M [00:00<?, ?B/s]"
      ]
     },
     "metadata": {},
     "output_type": "display_data"
    },
    {
     "data": {
      "application/vnd.jupyter.widget-view+json": {
       "model_id": "0c6f6aaa22694637b42754557b7ad581",
       "version_major": 2,
       "version_minor": 0
      },
      "text/plain": [
       "E3SM-MMF.mlo.0008-01-30-14400.nc:   0%|          | 0.00/1.13M [00:00<?, ?B/s]"
      ]
     },
     "metadata": {},
     "output_type": "display_data"
    },
    {
     "data": {
      "application/vnd.jupyter.widget-view+json": {
       "model_id": "912fd00d8b244a099f9ab81a3a8fa12a",
       "version_major": 2,
       "version_minor": 0
      },
      "text/plain": [
       "E3SM-MMF.mlo.0008-01-30-15600.nc:   0%|          | 0.00/1.13M [00:00<?, ?B/s]"
      ]
     },
     "metadata": {},
     "output_type": "display_data"
    },
    {
     "data": {
      "application/vnd.jupyter.widget-view+json": {
       "model_id": "60fd1409fded4fcc89b35f38b378db74",
       "version_major": 2,
       "version_minor": 0
      },
      "text/plain": [
       "E3SM-MMF.mlo.0008-01-30-16800.nc:   0%|          | 0.00/1.13M [00:00<?, ?B/s]"
      ]
     },
     "metadata": {},
     "output_type": "display_data"
    },
    {
     "data": {
      "application/vnd.jupyter.widget-view+json": {
       "model_id": "b7b8ec6726e046f6b9d69f42e05c52e5",
       "version_major": 2,
       "version_minor": 0
      },
      "text/plain": [
       "E3SM-MMF.mlo.0008-01-30-18000.nc:   0%|          | 0.00/1.13M [00:00<?, ?B/s]"
      ]
     },
     "metadata": {},
     "output_type": "display_data"
    },
    {
     "data": {
      "application/vnd.jupyter.widget-view+json": {
       "model_id": "56b91983c82d45cfa63ac30a36604379",
       "version_major": 2,
       "version_minor": 0
      },
      "text/plain": [
       "E3SM-MMF.mlo.0008-01-30-19200.nc:   0%|          | 0.00/1.13M [00:00<?, ?B/s]"
      ]
     },
     "metadata": {},
     "output_type": "display_data"
    },
    {
     "data": {
      "application/vnd.jupyter.widget-view+json": {
       "model_id": "b2e36ebb5325438985a6dc043c164e73",
       "version_major": 2,
       "version_minor": 0
      },
      "text/plain": [
       "E3SM-MMF.mlo.0008-01-30-20400.nc:   0%|          | 0.00/1.13M [00:00<?, ?B/s]"
      ]
     },
     "metadata": {},
     "output_type": "display_data"
    },
    {
     "data": {
      "application/vnd.jupyter.widget-view+json": {
       "model_id": "99b523100bb84d3ead969c6e3cf10a38",
       "version_major": 2,
       "version_minor": 0
      },
      "text/plain": [
       "E3SM-MMF.mlo.0008-01-30-21600.nc:   0%|          | 0.00/1.13M [00:00<?, ?B/s]"
      ]
     },
     "metadata": {},
     "output_type": "display_data"
    },
    {
     "data": {
      "application/vnd.jupyter.widget-view+json": {
       "model_id": "4dc2fa97774f457c8341872d31c74491",
       "version_major": 2,
       "version_minor": 0
      },
      "text/plain": [
       "E3SM-MMF.mlo.0008-01-30-22800.nc:   0%|          | 0.00/1.13M [00:00<?, ?B/s]"
      ]
     },
     "metadata": {},
     "output_type": "display_data"
    },
    {
     "data": {
      "application/vnd.jupyter.widget-view+json": {
       "model_id": "ffadfa3a91e8423495efadc06405f7bb",
       "version_major": 2,
       "version_minor": 0
      },
      "text/plain": [
       "E3SM-MMF.mlo.0008-01-30-24000.nc:   0%|          | 0.00/1.13M [00:00<?, ?B/s]"
      ]
     },
     "metadata": {},
     "output_type": "display_data"
    },
    {
     "data": {
      "application/vnd.jupyter.widget-view+json": {
       "model_id": "aafb9f79e844489c95fc4741ec07a106",
       "version_major": 2,
       "version_minor": 0
      },
      "text/plain": [
       "E3SM-MMF.mlo.0008-01-30-25200.nc:   0%|          | 0.00/1.13M [00:00<?, ?B/s]"
      ]
     },
     "metadata": {},
     "output_type": "display_data"
    },
    {
     "data": {
      "application/vnd.jupyter.widget-view+json": {
       "model_id": "99c55e4404c343869ac7eb4bee91677c",
       "version_major": 2,
       "version_minor": 0
      },
      "text/plain": [
       "E3SM-MMF.mlo.0008-01-30-26400.nc:   0%|          | 0.00/1.13M [00:00<?, ?B/s]"
      ]
     },
     "metadata": {},
     "output_type": "display_data"
    },
    {
     "data": {
      "application/vnd.jupyter.widget-view+json": {
       "model_id": "c39349d0632c4cb6aab5ded82a5a3134",
       "version_major": 2,
       "version_minor": 0
      },
      "text/plain": [
       "E3SM-MMF.mlo.0008-01-30-27600.nc:   0%|          | 0.00/1.13M [00:00<?, ?B/s]"
      ]
     },
     "metadata": {},
     "output_type": "display_data"
    },
    {
     "data": {
      "application/vnd.jupyter.widget-view+json": {
       "model_id": "c8284fafa6594b0f9341d105d2a1fd58",
       "version_major": 2,
       "version_minor": 0
      },
      "text/plain": [
       "E3SM-MMF.mlo.0008-01-30-28800.nc:   0%|          | 0.00/1.13M [00:00<?, ?B/s]"
      ]
     },
     "metadata": {},
     "output_type": "display_data"
    },
    {
     "data": {
      "application/vnd.jupyter.widget-view+json": {
       "model_id": "e71e29f7a08641aa8fa8375b2f4013b0",
       "version_major": 2,
       "version_minor": 0
      },
      "text/plain": [
       "E3SM-MMF.mlo.0008-01-30-30000.nc:   0%|          | 0.00/1.13M [00:00<?, ?B/s]"
      ]
     },
     "metadata": {},
     "output_type": "display_data"
    },
    {
     "data": {
      "application/vnd.jupyter.widget-view+json": {
       "model_id": "cf17cf9fa236442c8f8e585cf144c598",
       "version_major": 2,
       "version_minor": 0
      },
      "text/plain": [
       "E3SM-MMF.mlo.0008-01-30-31200.nc:   0%|          | 0.00/1.13M [00:00<?, ?B/s]"
      ]
     },
     "metadata": {},
     "output_type": "display_data"
    },
    {
     "data": {
      "application/vnd.jupyter.widget-view+json": {
       "model_id": "f6ff13d938df413e93654fb3b7adfa8b",
       "version_major": 2,
       "version_minor": 0
      },
      "text/plain": [
       "E3SM-MMF.mlo.0008-01-30-32400.nc:   0%|          | 0.00/1.13M [00:00<?, ?B/s]"
      ]
     },
     "metadata": {},
     "output_type": "display_data"
    },
    {
     "data": {
      "application/vnd.jupyter.widget-view+json": {
       "model_id": "dd6b06753bbe43fca8383eaaad87fa66",
       "version_major": 2,
       "version_minor": 0
      },
      "text/plain": [
       "E3SM-MMF.mlo.0008-01-30-33600.nc:   0%|          | 0.00/1.13M [00:00<?, ?B/s]"
      ]
     },
     "metadata": {},
     "output_type": "display_data"
    },
    {
     "data": {
      "application/vnd.jupyter.widget-view+json": {
       "model_id": "e9326eda21b042c793798025afe3eafd",
       "version_major": 2,
       "version_minor": 0
      },
      "text/plain": [
       "E3SM-MMF.mlo.0008-01-30-34800.nc:   0%|          | 0.00/1.13M [00:00<?, ?B/s]"
      ]
     },
     "metadata": {},
     "output_type": "display_data"
    },
    {
     "data": {
      "application/vnd.jupyter.widget-view+json": {
       "model_id": "619000d0fc8b47f484be4752319775c7",
       "version_major": 2,
       "version_minor": 0
      },
      "text/plain": [
       "E3SM-MMF.mlo.0008-01-30-36000.nc:   0%|          | 0.00/1.13M [00:00<?, ?B/s]"
      ]
     },
     "metadata": {},
     "output_type": "display_data"
    },
    {
     "data": {
      "application/vnd.jupyter.widget-view+json": {
       "model_id": "0cdc1d71edc44b20a3ba3dcdba6ddc40",
       "version_major": 2,
       "version_minor": 0
      },
      "text/plain": [
       "E3SM-MMF.mlo.0008-01-30-37200.nc:   0%|          | 0.00/1.13M [00:00<?, ?B/s]"
      ]
     },
     "metadata": {},
     "output_type": "display_data"
    },
    {
     "data": {
      "application/vnd.jupyter.widget-view+json": {
       "model_id": "459a4ada873c435f918f8cb4e06e5f42",
       "version_major": 2,
       "version_minor": 0
      },
      "text/plain": [
       "E3SM-MMF.mlo.0008-01-30-38400.nc:   0%|          | 0.00/1.13M [00:00<?, ?B/s]"
      ]
     },
     "metadata": {},
     "output_type": "display_data"
    },
    {
     "data": {
      "application/vnd.jupyter.widget-view+json": {
       "model_id": "31c0d6f884ed463198641dee245ce75b",
       "version_major": 2,
       "version_minor": 0
      },
      "text/plain": [
       "E3SM-MMF.mlo.0008-01-30-39600.nc:   0%|          | 0.00/1.13M [00:00<?, ?B/s]"
      ]
     },
     "metadata": {},
     "output_type": "display_data"
    },
    {
     "data": {
      "application/vnd.jupyter.widget-view+json": {
       "model_id": "cca3e7678e664275a39175d804197728",
       "version_major": 2,
       "version_minor": 0
      },
      "text/plain": [
       "E3SM-MMF.mlo.0008-01-30-40800.nc:   0%|          | 0.00/1.13M [00:00<?, ?B/s]"
      ]
     },
     "metadata": {},
     "output_type": "display_data"
    },
    {
     "data": {
      "application/vnd.jupyter.widget-view+json": {
       "model_id": "eaf5a3313c944fa38b5e423b862f1835",
       "version_major": 2,
       "version_minor": 0
      },
      "text/plain": [
       "E3SM-MMF.mlo.0008-01-30-42000.nc:   0%|          | 0.00/1.13M [00:00<?, ?B/s]"
      ]
     },
     "metadata": {},
     "output_type": "display_data"
    },
    {
     "data": {
      "application/vnd.jupyter.widget-view+json": {
       "model_id": "0eef83c0d5944c7badcba3b1782b2a40",
       "version_major": 2,
       "version_minor": 0
      },
      "text/plain": [
       "E3SM-MMF.mlo.0008-01-30-43200.nc:   0%|          | 0.00/1.13M [00:00<?, ?B/s]"
      ]
     },
     "metadata": {},
     "output_type": "display_data"
    },
    {
     "data": {
      "application/vnd.jupyter.widget-view+json": {
       "model_id": "207eae46be8140b085b72fa700c9b8d6",
       "version_major": 2,
       "version_minor": 0
      },
      "text/plain": [
       "E3SM-MMF.mlo.0008-01-30-44400.nc:   0%|          | 0.00/1.13M [00:00<?, ?B/s]"
      ]
     },
     "metadata": {},
     "output_type": "display_data"
    },
    {
     "data": {
      "application/vnd.jupyter.widget-view+json": {
       "model_id": "7d47c0ef210d4254832d667e8661c13b",
       "version_major": 2,
       "version_minor": 0
      },
      "text/plain": [
       "E3SM-MMF.mlo.0008-01-30-45600.nc:   0%|          | 0.00/1.13M [00:00<?, ?B/s]"
      ]
     },
     "metadata": {},
     "output_type": "display_data"
    },
    {
     "data": {
      "application/vnd.jupyter.widget-view+json": {
       "model_id": "2de8c7bdf16e4852896a254723456c08",
       "version_major": 2,
       "version_minor": 0
      },
      "text/plain": [
       "E3SM-MMF.mlo.0008-01-30-46800.nc:   0%|          | 0.00/1.13M [00:00<?, ?B/s]"
      ]
     },
     "metadata": {},
     "output_type": "display_data"
    },
    {
     "data": {
      "application/vnd.jupyter.widget-view+json": {
       "model_id": "ac6ffd9227e24b31bb659c6755108583",
       "version_major": 2,
       "version_minor": 0
      },
      "text/plain": [
       "E3SM-MMF.mlo.0008-01-30-48000.nc:   0%|          | 0.00/1.13M [00:00<?, ?B/s]"
      ]
     },
     "metadata": {},
     "output_type": "display_data"
    },
    {
     "data": {
      "application/vnd.jupyter.widget-view+json": {
       "model_id": "0d4f9e450dc34775b1a4c6a740daeced",
       "version_major": 2,
       "version_minor": 0
      },
      "text/plain": [
       "E3SM-MMF.mlo.0008-01-30-49200.nc:   0%|          | 0.00/1.13M [00:00<?, ?B/s]"
      ]
     },
     "metadata": {},
     "output_type": "display_data"
    },
    {
     "data": {
      "application/vnd.jupyter.widget-view+json": {
       "model_id": "3ef262dea9d948f1935dabf4e3f16721",
       "version_major": 2,
       "version_minor": 0
      },
      "text/plain": [
       "E3SM-MMF.mlo.0008-01-30-50400.nc:   0%|          | 0.00/1.13M [00:00<?, ?B/s]"
      ]
     },
     "metadata": {},
     "output_type": "display_data"
    },
    {
     "data": {
      "application/vnd.jupyter.widget-view+json": {
       "model_id": "2640183f8bf447069fc2c2ab7bff8463",
       "version_major": 2,
       "version_minor": 0
      },
      "text/plain": [
       "E3SM-MMF.mlo.0008-01-30-51600.nc:   0%|          | 0.00/1.13M [00:00<?, ?B/s]"
      ]
     },
     "metadata": {},
     "output_type": "display_data"
    },
    {
     "data": {
      "application/vnd.jupyter.widget-view+json": {
       "model_id": "8f35c26f8d1e4325a6e2868147fac5ee",
       "version_major": 2,
       "version_minor": 0
      },
      "text/plain": [
       "E3SM-MMF.mlo.0008-01-30-52800.nc:   0%|          | 0.00/1.13M [00:00<?, ?B/s]"
      ]
     },
     "metadata": {},
     "output_type": "display_data"
    },
    {
     "data": {
      "application/vnd.jupyter.widget-view+json": {
       "model_id": "524da321266f49c78010debcbfa0b20e",
       "version_major": 2,
       "version_minor": 0
      },
      "text/plain": [
       "E3SM-MMF.mlo.0008-01-30-54000.nc:   0%|          | 0.00/1.13M [00:00<?, ?B/s]"
      ]
     },
     "metadata": {},
     "output_type": "display_data"
    },
    {
     "data": {
      "application/vnd.jupyter.widget-view+json": {
       "model_id": "0dec70fb386f42a6bd3785aab78b3693",
       "version_major": 2,
       "version_minor": 0
      },
      "text/plain": [
       "E3SM-MMF.mlo.0008-01-30-55200.nc:   0%|          | 0.00/1.13M [00:00<?, ?B/s]"
      ]
     },
     "metadata": {},
     "output_type": "display_data"
    },
    {
     "data": {
      "application/vnd.jupyter.widget-view+json": {
       "model_id": "042355dba80743649b168bef79978dbd",
       "version_major": 2,
       "version_minor": 0
      },
      "text/plain": [
       "E3SM-MMF.mlo.0008-01-30-56400.nc:   0%|          | 0.00/1.13M [00:00<?, ?B/s]"
      ]
     },
     "metadata": {},
     "output_type": "display_data"
    },
    {
     "data": {
      "application/vnd.jupyter.widget-view+json": {
       "model_id": "e1e1e4cb20ce448e80a1cc405f9e8c6f",
       "version_major": 2,
       "version_minor": 0
      },
      "text/plain": [
       "E3SM-MMF.mlo.0008-01-30-57600.nc:   0%|          | 0.00/1.13M [00:00<?, ?B/s]"
      ]
     },
     "metadata": {},
     "output_type": "display_data"
    },
    {
     "data": {
      "application/vnd.jupyter.widget-view+json": {
       "model_id": "780a5198728348d4a891ee8a8888a6f4",
       "version_major": 2,
       "version_minor": 0
      },
      "text/plain": [
       "E3SM-MMF.mlo.0008-01-30-58800.nc:   0%|          | 0.00/1.13M [00:00<?, ?B/s]"
      ]
     },
     "metadata": {},
     "output_type": "display_data"
    },
    {
     "data": {
      "application/vnd.jupyter.widget-view+json": {
       "model_id": "8d6f0b54faf84796913bc59d222e600c",
       "version_major": 2,
       "version_minor": 0
      },
      "text/plain": [
       "E3SM-MMF.mlo.0008-01-30-60000.nc:   0%|          | 0.00/1.13M [00:00<?, ?B/s]"
      ]
     },
     "metadata": {},
     "output_type": "display_data"
    },
    {
     "data": {
      "application/vnd.jupyter.widget-view+json": {
       "model_id": "2ceee2e79e8245b68ceb48d1f785a30a",
       "version_major": 2,
       "version_minor": 0
      },
      "text/plain": [
       "E3SM-MMF.mlo.0008-01-30-61200.nc:   0%|          | 0.00/1.13M [00:00<?, ?B/s]"
      ]
     },
     "metadata": {},
     "output_type": "display_data"
    },
    {
     "data": {
      "application/vnd.jupyter.widget-view+json": {
       "model_id": "84001a48a0444b43802ba3d797aae7d1",
       "version_major": 2,
       "version_minor": 0
      },
      "text/plain": [
       "E3SM-MMF.mlo.0008-01-30-62400.nc:   0%|          | 0.00/1.13M [00:00<?, ?B/s]"
      ]
     },
     "metadata": {},
     "output_type": "display_data"
    },
    {
     "data": {
      "application/vnd.jupyter.widget-view+json": {
       "model_id": "0b65ff70ed5f4a57a431686ac2cc4880",
       "version_major": 2,
       "version_minor": 0
      },
      "text/plain": [
       "E3SM-MMF.mlo.0008-01-30-63600.nc:   0%|          | 0.00/1.13M [00:00<?, ?B/s]"
      ]
     },
     "metadata": {},
     "output_type": "display_data"
    },
    {
     "data": {
      "application/vnd.jupyter.widget-view+json": {
       "model_id": "3b9485489e2a4fb5b36a92b29f2c649f",
       "version_major": 2,
       "version_minor": 0
      },
      "text/plain": [
       "E3SM-MMF.mlo.0008-01-30-64800.nc:   0%|          | 0.00/1.13M [00:00<?, ?B/s]"
      ]
     },
     "metadata": {},
     "output_type": "display_data"
    },
    {
     "data": {
      "application/vnd.jupyter.widget-view+json": {
       "model_id": "cc6440db73554d02acf585d54cfe2b9e",
       "version_major": 2,
       "version_minor": 0
      },
      "text/plain": [
       "E3SM-MMF.mlo.0008-01-30-66000.nc:   0%|          | 0.00/1.13M [00:00<?, ?B/s]"
      ]
     },
     "metadata": {},
     "output_type": "display_data"
    },
    {
     "data": {
      "application/vnd.jupyter.widget-view+json": {
       "model_id": "53a21434ccb940b78e8ad410c0f32a83",
       "version_major": 2,
       "version_minor": 0
      },
      "text/plain": [
       "E3SM-MMF.mlo.0008-01-30-67200.nc:   0%|          | 0.00/1.13M [00:00<?, ?B/s]"
      ]
     },
     "metadata": {},
     "output_type": "display_data"
    },
    {
     "data": {
      "application/vnd.jupyter.widget-view+json": {
       "model_id": "8bf071a771394c80bba4b9b6f184f14e",
       "version_major": 2,
       "version_minor": 0
      },
      "text/plain": [
       "E3SM-MMF.mlo.0008-01-30-68400.nc:   0%|          | 0.00/1.13M [00:00<?, ?B/s]"
      ]
     },
     "metadata": {},
     "output_type": "display_data"
    },
    {
     "data": {
      "application/vnd.jupyter.widget-view+json": {
       "model_id": "27d0ff8ecb50480684ac3620d17ff46b",
       "version_major": 2,
       "version_minor": 0
      },
      "text/plain": [
       "E3SM-MMF.mlo.0008-01-30-69600.nc:   0%|          | 0.00/1.13M [00:00<?, ?B/s]"
      ]
     },
     "metadata": {},
     "output_type": "display_data"
    },
    {
     "data": {
      "application/vnd.jupyter.widget-view+json": {
       "model_id": "35b17b36b1824ff6ab114b3505909cea",
       "version_major": 2,
       "version_minor": 0
      },
      "text/plain": [
       "E3SM-MMF.mlo.0008-01-30-70800.nc:   0%|          | 0.00/1.13M [00:00<?, ?B/s]"
      ]
     },
     "metadata": {},
     "output_type": "display_data"
    },
    {
     "data": {
      "application/vnd.jupyter.widget-view+json": {
       "model_id": "ed7063c13bb44ba5bf880226fba43fb7",
       "version_major": 2,
       "version_minor": 0
      },
      "text/plain": [
       "E3SM-MMF.mlo.0008-01-30-72000.nc:   0%|          | 0.00/1.13M [00:00<?, ?B/s]"
      ]
     },
     "metadata": {},
     "output_type": "display_data"
    },
    {
     "data": {
      "application/vnd.jupyter.widget-view+json": {
       "model_id": "35f96b4c2baa4b3d8c8cd57aa11ddcc5",
       "version_major": 2,
       "version_minor": 0
      },
      "text/plain": [
       "E3SM-MMF.mlo.0008-01-30-73200.nc:   0%|          | 0.00/1.13M [00:00<?, ?B/s]"
      ]
     },
     "metadata": {},
     "output_type": "display_data"
    },
    {
     "data": {
      "application/vnd.jupyter.widget-view+json": {
       "model_id": "02c78849653640e9870c290ba013b2d7",
       "version_major": 2,
       "version_minor": 0
      },
      "text/plain": [
       "E3SM-MMF.mlo.0008-01-30-74400.nc:   0%|          | 0.00/1.13M [00:00<?, ?B/s]"
      ]
     },
     "metadata": {},
     "output_type": "display_data"
    },
    {
     "data": {
      "application/vnd.jupyter.widget-view+json": {
       "model_id": "819f4426193d460bab0342bdaad04f7b",
       "version_major": 2,
       "version_minor": 0
      },
      "text/plain": [
       "E3SM-MMF.mlo.0008-01-30-75600.nc:   0%|          | 0.00/1.13M [00:00<?, ?B/s]"
      ]
     },
     "metadata": {},
     "output_type": "display_data"
    },
    {
     "data": {
      "application/vnd.jupyter.widget-view+json": {
       "model_id": "5bc8f1b90f6b42a5a49626488110a61f",
       "version_major": 2,
       "version_minor": 0
      },
      "text/plain": [
       "E3SM-MMF.mlo.0008-01-30-76800.nc:   0%|          | 0.00/1.13M [00:00<?, ?B/s]"
      ]
     },
     "metadata": {},
     "output_type": "display_data"
    },
    {
     "data": {
      "application/vnd.jupyter.widget-view+json": {
       "model_id": "410e7eed2d6645a697cb49b22b125d9d",
       "version_major": 2,
       "version_minor": 0
      },
      "text/plain": [
       "E3SM-MMF.mlo.0008-01-30-78000.nc:   0%|          | 0.00/1.13M [00:00<?, ?B/s]"
      ]
     },
     "metadata": {},
     "output_type": "display_data"
    },
    {
     "data": {
      "application/vnd.jupyter.widget-view+json": {
       "model_id": "8fbea432ce7541149ace6a5a64a62a38",
       "version_major": 2,
       "version_minor": 0
      },
      "text/plain": [
       "E3SM-MMF.mlo.0008-01-30-79200.nc:   0%|          | 0.00/1.13M [00:00<?, ?B/s]"
      ]
     },
     "metadata": {},
     "output_type": "display_data"
    },
    {
     "data": {
      "application/vnd.jupyter.widget-view+json": {
       "model_id": "c013f312d9e94e42a77f9ff75ad6428d",
       "version_major": 2,
       "version_minor": 0
      },
      "text/plain": [
       "E3SM-MMF.mlo.0008-01-30-80400.nc:   0%|          | 0.00/1.13M [00:00<?, ?B/s]"
      ]
     },
     "metadata": {},
     "output_type": "display_data"
    },
    {
     "data": {
      "application/vnd.jupyter.widget-view+json": {
       "model_id": "a64c07c41c964319b00ee66f4e0f3cbb",
       "version_major": 2,
       "version_minor": 0
      },
      "text/plain": [
       "E3SM-MMF.mlo.0008-01-30-81600.nc:   0%|          | 0.00/1.13M [00:00<?, ?B/s]"
      ]
     },
     "metadata": {},
     "output_type": "display_data"
    },
    {
     "data": {
      "application/vnd.jupyter.widget-view+json": {
       "model_id": "4af36d36df1d4f398f078ee2929da070",
       "version_major": 2,
       "version_minor": 0
      },
      "text/plain": [
       "E3SM-MMF.mlo.0008-01-30-82800.nc:   0%|          | 0.00/1.13M [00:00<?, ?B/s]"
      ]
     },
     "metadata": {},
     "output_type": "display_data"
    },
    {
     "data": {
      "application/vnd.jupyter.widget-view+json": {
       "model_id": "c20114014b59417db96b5fb9ca2db396",
       "version_major": 2,
       "version_minor": 0
      },
      "text/plain": [
       "E3SM-MMF.mlo.0008-01-30-84000.nc:   0%|          | 0.00/1.13M [00:00<?, ?B/s]"
      ]
     },
     "metadata": {},
     "output_type": "display_data"
    },
    {
     "data": {
      "application/vnd.jupyter.widget-view+json": {
       "model_id": "423ceec1e02f471e924d671ceb1be596",
       "version_major": 2,
       "version_minor": 0
      },
      "text/plain": [
       "E3SM-MMF.mlo.0008-01-30-85200.nc:   0%|          | 0.00/1.13M [00:00<?, ?B/s]"
      ]
     },
     "metadata": {},
     "output_type": "display_data"
    },
    {
     "data": {
      "application/vnd.jupyter.widget-view+json": {
       "model_id": "75125aeb018443f78b86df685ef0ca7a",
       "version_major": 2,
       "version_minor": 0
      },
      "text/plain": [
       "E3SM-MMF.mlo.0008-01-31-00000.nc:   0%|          | 0.00/1.13M [00:00<?, ?B/s]"
      ]
     },
     "metadata": {},
     "output_type": "display_data"
    },
    {
     "data": {
      "application/vnd.jupyter.widget-view+json": {
       "model_id": "3988816967994a6489d9d8df10647dac",
       "version_major": 2,
       "version_minor": 0
      },
      "text/plain": [
       "E3SM-MMF.mlo.0008-01-31-01200.nc:   0%|          | 0.00/1.13M [00:00<?, ?B/s]"
      ]
     },
     "metadata": {},
     "output_type": "display_data"
    },
    {
     "data": {
      "application/vnd.jupyter.widget-view+json": {
       "model_id": "6a730a42a5b14f068e382d108ca089ce",
       "version_major": 2,
       "version_minor": 0
      },
      "text/plain": [
       "E3SM-MMF.mlo.0008-01-31-02400.nc:   0%|          | 0.00/1.13M [00:00<?, ?B/s]"
      ]
     },
     "metadata": {},
     "output_type": "display_data"
    },
    {
     "data": {
      "application/vnd.jupyter.widget-view+json": {
       "model_id": "4aa4aa9d575e437d9a8089ae8b1a5eb4",
       "version_major": 2,
       "version_minor": 0
      },
      "text/plain": [
       "E3SM-MMF.mlo.0008-01-31-03600.nc:   0%|          | 0.00/1.13M [00:00<?, ?B/s]"
      ]
     },
     "metadata": {},
     "output_type": "display_data"
    },
    {
     "data": {
      "application/vnd.jupyter.widget-view+json": {
       "model_id": "81baa15bf30340d38014dd47cabfb4c2",
       "version_major": 2,
       "version_minor": 0
      },
      "text/plain": [
       "E3SM-MMF.mlo.0008-01-31-04800.nc:   0%|          | 0.00/1.13M [00:00<?, ?B/s]"
      ]
     },
     "metadata": {},
     "output_type": "display_data"
    },
    {
     "data": {
      "application/vnd.jupyter.widget-view+json": {
       "model_id": "8f8839075dd648f9891bccc32ac33169",
       "version_major": 2,
       "version_minor": 0
      },
      "text/plain": [
       "E3SM-MMF.mlo.0008-01-31-06000.nc:   0%|          | 0.00/1.13M [00:00<?, ?B/s]"
      ]
     },
     "metadata": {},
     "output_type": "display_data"
    },
    {
     "data": {
      "application/vnd.jupyter.widget-view+json": {
       "model_id": "a687b9431a7e416583fbd226045fccfc",
       "version_major": 2,
       "version_minor": 0
      },
      "text/plain": [
       "E3SM-MMF.mlo.0008-01-31-07200.nc:   0%|          | 0.00/1.13M [00:00<?, ?B/s]"
      ]
     },
     "metadata": {},
     "output_type": "display_data"
    },
    {
     "data": {
      "application/vnd.jupyter.widget-view+json": {
       "model_id": "fd02510b57a5423ab42bfb8002d3cca2",
       "version_major": 2,
       "version_minor": 0
      },
      "text/plain": [
       "E3SM-MMF.mlo.0008-01-31-08400.nc:   0%|          | 0.00/1.13M [00:00<?, ?B/s]"
      ]
     },
     "metadata": {},
     "output_type": "display_data"
    },
    {
     "data": {
      "application/vnd.jupyter.widget-view+json": {
       "model_id": "2ae74f2f8696488a82e750682ae6d598",
       "version_major": 2,
       "version_minor": 0
      },
      "text/plain": [
       "E3SM-MMF.mlo.0008-01-31-09600.nc:   0%|          | 0.00/1.13M [00:00<?, ?B/s]"
      ]
     },
     "metadata": {},
     "output_type": "display_data"
    },
    {
     "data": {
      "application/vnd.jupyter.widget-view+json": {
       "model_id": "08284c24e5f04aa08dc193a399d5154b",
       "version_major": 2,
       "version_minor": 0
      },
      "text/plain": [
       "E3SM-MMF.mlo.0008-01-31-10800.nc:   0%|          | 0.00/1.13M [00:00<?, ?B/s]"
      ]
     },
     "metadata": {},
     "output_type": "display_data"
    },
    {
     "data": {
      "application/vnd.jupyter.widget-view+json": {
       "model_id": "e40acdf768b54c09a530fe49d99796c9",
       "version_major": 2,
       "version_minor": 0
      },
      "text/plain": [
       "E3SM-MMF.mlo.0008-01-31-12000.nc:   0%|          | 0.00/1.13M [00:00<?, ?B/s]"
      ]
     },
     "metadata": {},
     "output_type": "display_data"
    },
    {
     "data": {
      "application/vnd.jupyter.widget-view+json": {
       "model_id": "746a6c5ab93a4eff97aa77884b989bd3",
       "version_major": 2,
       "version_minor": 0
      },
      "text/plain": [
       "E3SM-MMF.mlo.0008-01-31-13200.nc:   0%|          | 0.00/1.13M [00:00<?, ?B/s]"
      ]
     },
     "metadata": {},
     "output_type": "display_data"
    },
    {
     "data": {
      "application/vnd.jupyter.widget-view+json": {
       "model_id": "7cf9aa6f064841be9953b67aa588d462",
       "version_major": 2,
       "version_minor": 0
      },
      "text/plain": [
       "E3SM-MMF.mlo.0008-01-31-14400.nc:   0%|          | 0.00/1.13M [00:00<?, ?B/s]"
      ]
     },
     "metadata": {},
     "output_type": "display_data"
    },
    {
     "data": {
      "application/vnd.jupyter.widget-view+json": {
       "model_id": "3d7d0a7947fc4d0a93b8f1a3cf0e3dd9",
       "version_major": 2,
       "version_minor": 0
      },
      "text/plain": [
       "E3SM-MMF.mlo.0008-01-31-15600.nc:   0%|          | 0.00/1.13M [00:00<?, ?B/s]"
      ]
     },
     "metadata": {},
     "output_type": "display_data"
    },
    {
     "data": {
      "application/vnd.jupyter.widget-view+json": {
       "model_id": "e11d75161809474487a883f307579339",
       "version_major": 2,
       "version_minor": 0
      },
      "text/plain": [
       "E3SM-MMF.mlo.0008-01-31-16800.nc:   0%|          | 0.00/1.13M [00:00<?, ?B/s]"
      ]
     },
     "metadata": {},
     "output_type": "display_data"
    },
    {
     "data": {
      "application/vnd.jupyter.widget-view+json": {
       "model_id": "c78335f775d344c1a6cbf9d0d7be6db9",
       "version_major": 2,
       "version_minor": 0
      },
      "text/plain": [
       "E3SM-MMF.mlo.0008-01-31-18000.nc:   0%|          | 0.00/1.13M [00:00<?, ?B/s]"
      ]
     },
     "metadata": {},
     "output_type": "display_data"
    },
    {
     "data": {
      "application/vnd.jupyter.widget-view+json": {
       "model_id": "ae200e1d4f6a4ed4bba917177450b7dc",
       "version_major": 2,
       "version_minor": 0
      },
      "text/plain": [
       "E3SM-MMF.mlo.0008-01-31-19200.nc:   0%|          | 0.00/1.13M [00:00<?, ?B/s]"
      ]
     },
     "metadata": {},
     "output_type": "display_data"
    },
    {
     "data": {
      "application/vnd.jupyter.widget-view+json": {
       "model_id": "dc88a05740f94bedb533b49152f42764",
       "version_major": 2,
       "version_minor": 0
      },
      "text/plain": [
       "E3SM-MMF.mlo.0008-01-31-20400.nc:   0%|          | 0.00/1.13M [00:00<?, ?B/s]"
      ]
     },
     "metadata": {},
     "output_type": "display_data"
    },
    {
     "data": {
      "application/vnd.jupyter.widget-view+json": {
       "model_id": "38e95e7a32a04274b539bb44bbdb7832",
       "version_major": 2,
       "version_minor": 0
      },
      "text/plain": [
       "E3SM-MMF.mlo.0008-01-31-21600.nc:   0%|          | 0.00/1.13M [00:00<?, ?B/s]"
      ]
     },
     "metadata": {},
     "output_type": "display_data"
    },
    {
     "data": {
      "application/vnd.jupyter.widget-view+json": {
       "model_id": "b8e22e4a1666490196345469eb141818",
       "version_major": 2,
       "version_minor": 0
      },
      "text/plain": [
       "E3SM-MMF.mlo.0008-01-31-22800.nc:   0%|          | 0.00/1.13M [00:00<?, ?B/s]"
      ]
     },
     "metadata": {},
     "output_type": "display_data"
    },
    {
     "data": {
      "application/vnd.jupyter.widget-view+json": {
       "model_id": "4a9667c238204d3b9ccaa374cfd0fb7b",
       "version_major": 2,
       "version_minor": 0
      },
      "text/plain": [
       "E3SM-MMF.mlo.0008-01-31-24000.nc:   0%|          | 0.00/1.13M [00:00<?, ?B/s]"
      ]
     },
     "metadata": {},
     "output_type": "display_data"
    },
    {
     "data": {
      "application/vnd.jupyter.widget-view+json": {
       "model_id": "7b1b6f377fd543eda0abbf9adbfb469d",
       "version_major": 2,
       "version_minor": 0
      },
      "text/plain": [
       "E3SM-MMF.mlo.0008-01-31-25200.nc:   0%|          | 0.00/1.13M [00:00<?, ?B/s]"
      ]
     },
     "metadata": {},
     "output_type": "display_data"
    },
    {
     "data": {
      "application/vnd.jupyter.widget-view+json": {
       "model_id": "b69a82c802124fd1aec2af25ef42ac77",
       "version_major": 2,
       "version_minor": 0
      },
      "text/plain": [
       "E3SM-MMF.mlo.0008-01-31-26400.nc:   0%|          | 0.00/1.13M [00:00<?, ?B/s]"
      ]
     },
     "metadata": {},
     "output_type": "display_data"
    },
    {
     "data": {
      "application/vnd.jupyter.widget-view+json": {
       "model_id": "207b93f7f51f4ee5ad1de583e6751003",
       "version_major": 2,
       "version_minor": 0
      },
      "text/plain": [
       "E3SM-MMF.mlo.0008-01-31-27600.nc:   0%|          | 0.00/1.13M [00:00<?, ?B/s]"
      ]
     },
     "metadata": {},
     "output_type": "display_data"
    },
    {
     "data": {
      "application/vnd.jupyter.widget-view+json": {
       "model_id": "2c6e354eff36452bb8d8d15660d29918",
       "version_major": 2,
       "version_minor": 0
      },
      "text/plain": [
       "E3SM-MMF.mlo.0008-01-31-28800.nc:   0%|          | 0.00/1.13M [00:00<?, ?B/s]"
      ]
     },
     "metadata": {},
     "output_type": "display_data"
    },
    {
     "data": {
      "application/vnd.jupyter.widget-view+json": {
       "model_id": "df66c40854e84760a4eac48d091d0da1",
       "version_major": 2,
       "version_minor": 0
      },
      "text/plain": [
       "E3SM-MMF.mlo.0008-01-31-30000.nc:   0%|          | 0.00/1.13M [00:00<?, ?B/s]"
      ]
     },
     "metadata": {},
     "output_type": "display_data"
    },
    {
     "data": {
      "application/vnd.jupyter.widget-view+json": {
       "model_id": "1fda145188624de3be8329d335565d99",
       "version_major": 2,
       "version_minor": 0
      },
      "text/plain": [
       "E3SM-MMF.mlo.0008-01-31-31200.nc:   0%|          | 0.00/1.13M [00:00<?, ?B/s]"
      ]
     },
     "metadata": {},
     "output_type": "display_data"
    },
    {
     "data": {
      "application/vnd.jupyter.widget-view+json": {
       "model_id": "4830113039ab4f50b3d0bffc2b0fba40",
       "version_major": 2,
       "version_minor": 0
      },
      "text/plain": [
       "E3SM-MMF.mlo.0008-01-31-32400.nc:   0%|          | 0.00/1.13M [00:00<?, ?B/s]"
      ]
     },
     "metadata": {},
     "output_type": "display_data"
    },
    {
     "data": {
      "application/vnd.jupyter.widget-view+json": {
       "model_id": "691e663dc3664ec8b2ed03d91447b06f",
       "version_major": 2,
       "version_minor": 0
      },
      "text/plain": [
       "E3SM-MMF.mlo.0008-01-31-33600.nc:   0%|          | 0.00/1.13M [00:00<?, ?B/s]"
      ]
     },
     "metadata": {},
     "output_type": "display_data"
    },
    {
     "data": {
      "application/vnd.jupyter.widget-view+json": {
       "model_id": "895b06a7251c4dce9247f6a0f20eaa4c",
       "version_major": 2,
       "version_minor": 0
      },
      "text/plain": [
       "E3SM-MMF.mlo.0008-01-31-34800.nc:   0%|          | 0.00/1.13M [00:00<?, ?B/s]"
      ]
     },
     "metadata": {},
     "output_type": "display_data"
    },
    {
     "data": {
      "application/vnd.jupyter.widget-view+json": {
       "model_id": "f84a6e2df0564fee98c8c0256fc68fac",
       "version_major": 2,
       "version_minor": 0
      },
      "text/plain": [
       "E3SM-MMF.mlo.0008-01-31-36000.nc:   0%|          | 0.00/1.13M [00:00<?, ?B/s]"
      ]
     },
     "metadata": {},
     "output_type": "display_data"
    },
    {
     "data": {
      "application/vnd.jupyter.widget-view+json": {
       "model_id": "40620df5ffe3489c808cb847e6269411",
       "version_major": 2,
       "version_minor": 0
      },
      "text/plain": [
       "E3SM-MMF.mlo.0008-01-31-37200.nc:   0%|          | 0.00/1.13M [00:00<?, ?B/s]"
      ]
     },
     "metadata": {},
     "output_type": "display_data"
    },
    {
     "data": {
      "application/vnd.jupyter.widget-view+json": {
       "model_id": "4eea1ab424884950adfa124efe520fd6",
       "version_major": 2,
       "version_minor": 0
      },
      "text/plain": [
       "E3SM-MMF.mlo.0008-01-31-38400.nc:   0%|          | 0.00/1.13M [00:00<?, ?B/s]"
      ]
     },
     "metadata": {},
     "output_type": "display_data"
    },
    {
     "data": {
      "application/vnd.jupyter.widget-view+json": {
       "model_id": "bfc9ea75a898482581d860d7bd9e13bd",
       "version_major": 2,
       "version_minor": 0
      },
      "text/plain": [
       "E3SM-MMF.mlo.0008-01-31-39600.nc:   0%|          | 0.00/1.13M [00:00<?, ?B/s]"
      ]
     },
     "metadata": {},
     "output_type": "display_data"
    },
    {
     "data": {
      "application/vnd.jupyter.widget-view+json": {
       "model_id": "1fb0aa4994594221af84525283c73f06",
       "version_major": 2,
       "version_minor": 0
      },
      "text/plain": [
       "E3SM-MMF.mlo.0008-01-31-40800.nc:   0%|          | 0.00/1.13M [00:00<?, ?B/s]"
      ]
     },
     "metadata": {},
     "output_type": "display_data"
    },
    {
     "data": {
      "application/vnd.jupyter.widget-view+json": {
       "model_id": "d16595f57b27436096019749ce3a07e1",
       "version_major": 2,
       "version_minor": 0
      },
      "text/plain": [
       "E3SM-MMF.mlo.0008-01-31-42000.nc:   0%|          | 0.00/1.13M [00:00<?, ?B/s]"
      ]
     },
     "metadata": {},
     "output_type": "display_data"
    },
    {
     "data": {
      "application/vnd.jupyter.widget-view+json": {
       "model_id": "64e3e61518d741f89ecd7d42984a624d",
       "version_major": 2,
       "version_minor": 0
      },
      "text/plain": [
       "E3SM-MMF.mlo.0008-01-31-43200.nc:   0%|          | 0.00/1.13M [00:00<?, ?B/s]"
      ]
     },
     "metadata": {},
     "output_type": "display_data"
    },
    {
     "data": {
      "application/vnd.jupyter.widget-view+json": {
       "model_id": "975e71ca5c9744609a75699bf2355c16",
       "version_major": 2,
       "version_minor": 0
      },
      "text/plain": [
       "E3SM-MMF.mlo.0008-01-31-44400.nc:   0%|          | 0.00/1.13M [00:00<?, ?B/s]"
      ]
     },
     "metadata": {},
     "output_type": "display_data"
    },
    {
     "data": {
      "application/vnd.jupyter.widget-view+json": {
       "model_id": "ecf500d80aa94b80a327459c1bd6f066",
       "version_major": 2,
       "version_minor": 0
      },
      "text/plain": [
       "E3SM-MMF.mlo.0008-01-31-45600.nc:   0%|          | 0.00/1.13M [00:00<?, ?B/s]"
      ]
     },
     "metadata": {},
     "output_type": "display_data"
    },
    {
     "data": {
      "application/vnd.jupyter.widget-view+json": {
       "model_id": "f3df1fc1b52c46a4b2b67217d8ece722",
       "version_major": 2,
       "version_minor": 0
      },
      "text/plain": [
       "E3SM-MMF.mlo.0008-01-31-46800.nc:   0%|          | 0.00/1.13M [00:00<?, ?B/s]"
      ]
     },
     "metadata": {},
     "output_type": "display_data"
    },
    {
     "data": {
      "application/vnd.jupyter.widget-view+json": {
       "model_id": "341f6543d33a49a3b8c12b4e2c930bc2",
       "version_major": 2,
       "version_minor": 0
      },
      "text/plain": [
       "E3SM-MMF.mlo.0008-01-31-48000.nc:   0%|          | 0.00/1.13M [00:00<?, ?B/s]"
      ]
     },
     "metadata": {},
     "output_type": "display_data"
    },
    {
     "data": {
      "application/vnd.jupyter.widget-view+json": {
       "model_id": "ecedef265da742aba7d5c98088310b71",
       "version_major": 2,
       "version_minor": 0
      },
      "text/plain": [
       "E3SM-MMF.mlo.0008-01-31-49200.nc:   0%|          | 0.00/1.13M [00:00<?, ?B/s]"
      ]
     },
     "metadata": {},
     "output_type": "display_data"
    },
    {
     "data": {
      "application/vnd.jupyter.widget-view+json": {
       "model_id": "1001eaf18c8c4ff8b93594ffbf83c137",
       "version_major": 2,
       "version_minor": 0
      },
      "text/plain": [
       "E3SM-MMF.mlo.0008-01-31-50400.nc:   0%|          | 0.00/1.13M [00:00<?, ?B/s]"
      ]
     },
     "metadata": {},
     "output_type": "display_data"
    },
    {
     "data": {
      "application/vnd.jupyter.widget-view+json": {
       "model_id": "4772897de6ca4f03823997c7841dab79",
       "version_major": 2,
       "version_minor": 0
      },
      "text/plain": [
       "E3SM-MMF.mlo.0008-01-31-51600.nc:   0%|          | 0.00/1.13M [00:00<?, ?B/s]"
      ]
     },
     "metadata": {},
     "output_type": "display_data"
    },
    {
     "data": {
      "application/vnd.jupyter.widget-view+json": {
       "model_id": "49def8a07bf041319d7a50d5701325a7",
       "version_major": 2,
       "version_minor": 0
      },
      "text/plain": [
       "E3SM-MMF.mlo.0008-01-31-52800.nc:   0%|          | 0.00/1.13M [00:00<?, ?B/s]"
      ]
     },
     "metadata": {},
     "output_type": "display_data"
    },
    {
     "data": {
      "application/vnd.jupyter.widget-view+json": {
       "model_id": "b54ddcc8ced0431b8d0ef6d0b0e0fbdc",
       "version_major": 2,
       "version_minor": 0
      },
      "text/plain": [
       "E3SM-MMF.mlo.0008-01-31-54000.nc:   0%|          | 0.00/1.13M [00:00<?, ?B/s]"
      ]
     },
     "metadata": {},
     "output_type": "display_data"
    },
    {
     "data": {
      "application/vnd.jupyter.widget-view+json": {
       "model_id": "485f3170969e4ec785aa6273bffdbd0b",
       "version_major": 2,
       "version_minor": 0
      },
      "text/plain": [
       "E3SM-MMF.mlo.0008-01-31-55200.nc:   0%|          | 0.00/1.13M [00:00<?, ?B/s]"
      ]
     },
     "metadata": {},
     "output_type": "display_data"
    },
    {
     "data": {
      "application/vnd.jupyter.widget-view+json": {
       "model_id": "a916f0b6c6b649259c3bac7b314cfa04",
       "version_major": 2,
       "version_minor": 0
      },
      "text/plain": [
       "E3SM-MMF.mlo.0008-01-31-56400.nc:   0%|          | 0.00/1.13M [00:00<?, ?B/s]"
      ]
     },
     "metadata": {},
     "output_type": "display_data"
    },
    {
     "data": {
      "application/vnd.jupyter.widget-view+json": {
       "model_id": "a42fd3f3303847209a8da99096d47974",
       "version_major": 2,
       "version_minor": 0
      },
      "text/plain": [
       "E3SM-MMF.mlo.0008-01-31-57600.nc:   0%|          | 0.00/1.13M [00:00<?, ?B/s]"
      ]
     },
     "metadata": {},
     "output_type": "display_data"
    },
    {
     "data": {
      "application/vnd.jupyter.widget-view+json": {
       "model_id": "af8e927a05874334b045bfdbf96c96d3",
       "version_major": 2,
       "version_minor": 0
      },
      "text/plain": [
       "E3SM-MMF.mlo.0008-01-31-58800.nc:   0%|          | 0.00/1.13M [00:00<?, ?B/s]"
      ]
     },
     "metadata": {},
     "output_type": "display_data"
    },
    {
     "data": {
      "application/vnd.jupyter.widget-view+json": {
       "model_id": "4d0bee5ef3654afdb993b6af368ac252",
       "version_major": 2,
       "version_minor": 0
      },
      "text/plain": [
       "E3SM-MMF.mlo.0008-01-31-60000.nc:   0%|          | 0.00/1.13M [00:00<?, ?B/s]"
      ]
     },
     "metadata": {},
     "output_type": "display_data"
    },
    {
     "data": {
      "application/vnd.jupyter.widget-view+json": {
       "model_id": "f59b0f31e4fa47ab8612ca0ce426b711",
       "version_major": 2,
       "version_minor": 0
      },
      "text/plain": [
       "E3SM-MMF.mlo.0008-01-31-61200.nc:   0%|          | 0.00/1.13M [00:00<?, ?B/s]"
      ]
     },
     "metadata": {},
     "output_type": "display_data"
    },
    {
     "data": {
      "application/vnd.jupyter.widget-view+json": {
       "model_id": "43ab9ffdf12f44b2aaa4acfa5e22e333",
       "version_major": 2,
       "version_minor": 0
      },
      "text/plain": [
       "E3SM-MMF.mlo.0008-01-31-62400.nc:   0%|          | 0.00/1.13M [00:00<?, ?B/s]"
      ]
     },
     "metadata": {},
     "output_type": "display_data"
    },
    {
     "data": {
      "application/vnd.jupyter.widget-view+json": {
       "model_id": "7491bd896b49450ea7a69897e229431e",
       "version_major": 2,
       "version_minor": 0
      },
      "text/plain": [
       "E3SM-MMF.mlo.0008-01-31-63600.nc:   0%|          | 0.00/1.13M [00:00<?, ?B/s]"
      ]
     },
     "metadata": {},
     "output_type": "display_data"
    },
    {
     "data": {
      "application/vnd.jupyter.widget-view+json": {
       "model_id": "706717b826f4451e80f90417218b7304",
       "version_major": 2,
       "version_minor": 0
      },
      "text/plain": [
       "E3SM-MMF.mlo.0008-01-31-64800.nc:   0%|          | 0.00/1.13M [00:00<?, ?B/s]"
      ]
     },
     "metadata": {},
     "output_type": "display_data"
    },
    {
     "data": {
      "application/vnd.jupyter.widget-view+json": {
       "model_id": "c919fa8cd6fc48ac99b6b0394e913f5a",
       "version_major": 2,
       "version_minor": 0
      },
      "text/plain": [
       "E3SM-MMF.mlo.0008-01-31-66000.nc:   0%|          | 0.00/1.13M [00:00<?, ?B/s]"
      ]
     },
     "metadata": {},
     "output_type": "display_data"
    },
    {
     "data": {
      "application/vnd.jupyter.widget-view+json": {
       "model_id": "bd1813c5f8224e08b9e849246c4cb6e3",
       "version_major": 2,
       "version_minor": 0
      },
      "text/plain": [
       "E3SM-MMF.mlo.0008-01-31-67200.nc:   0%|          | 0.00/1.13M [00:00<?, ?B/s]"
      ]
     },
     "metadata": {},
     "output_type": "display_data"
    },
    {
     "data": {
      "application/vnd.jupyter.widget-view+json": {
       "model_id": "9402f9c5741c444e902f18e2ffbddb16",
       "version_major": 2,
       "version_minor": 0
      },
      "text/plain": [
       "E3SM-MMF.mlo.0008-01-31-68400.nc:   0%|          | 0.00/1.13M [00:00<?, ?B/s]"
      ]
     },
     "metadata": {},
     "output_type": "display_data"
    },
    {
     "data": {
      "application/vnd.jupyter.widget-view+json": {
       "model_id": "ec199835f91249979b34a197c41e1b71",
       "version_major": 2,
       "version_minor": 0
      },
      "text/plain": [
       "E3SM-MMF.mlo.0008-01-31-69600.nc:   0%|          | 0.00/1.13M [00:00<?, ?B/s]"
      ]
     },
     "metadata": {},
     "output_type": "display_data"
    },
    {
     "data": {
      "application/vnd.jupyter.widget-view+json": {
       "model_id": "6cf0c44bba844a898db38d9bb03fdedb",
       "version_major": 2,
       "version_minor": 0
      },
      "text/plain": [
       "E3SM-MMF.mlo.0008-01-31-70800.nc:   0%|          | 0.00/1.13M [00:00<?, ?B/s]"
      ]
     },
     "metadata": {},
     "output_type": "display_data"
    },
    {
     "data": {
      "application/vnd.jupyter.widget-view+json": {
       "model_id": "7dd2b3d26f2d4e0d9592a83c3909d275",
       "version_major": 2,
       "version_minor": 0
      },
      "text/plain": [
       "E3SM-MMF.mlo.0008-01-31-72000.nc:   0%|          | 0.00/1.13M [00:00<?, ?B/s]"
      ]
     },
     "metadata": {},
     "output_type": "display_data"
    },
    {
     "data": {
      "application/vnd.jupyter.widget-view+json": {
       "model_id": "c28fecbd32f34558ad97033ade76d91f",
       "version_major": 2,
       "version_minor": 0
      },
      "text/plain": [
       "E3SM-MMF.mlo.0008-01-31-73200.nc:   0%|          | 0.00/1.13M [00:00<?, ?B/s]"
      ]
     },
     "metadata": {},
     "output_type": "display_data"
    },
    {
     "data": {
      "application/vnd.jupyter.widget-view+json": {
       "model_id": "a2edee8d2a184bad919f33847b28ad0d",
       "version_major": 2,
       "version_minor": 0
      },
      "text/plain": [
       "E3SM-MMF.mlo.0008-01-31-74400.nc:   0%|          | 0.00/1.13M [00:00<?, ?B/s]"
      ]
     },
     "metadata": {},
     "output_type": "display_data"
    },
    {
     "data": {
      "application/vnd.jupyter.widget-view+json": {
       "model_id": "929ab5e294fe495c8fcd05ef333341cd",
       "version_major": 2,
       "version_minor": 0
      },
      "text/plain": [
       "E3SM-MMF.mlo.0008-01-31-75600.nc:   0%|          | 0.00/1.13M [00:00<?, ?B/s]"
      ]
     },
     "metadata": {},
     "output_type": "display_data"
    },
    {
     "data": {
      "application/vnd.jupyter.widget-view+json": {
       "model_id": "d182f0daea39478d893a46a577e6c77c",
       "version_major": 2,
       "version_minor": 0
      },
      "text/plain": [
       "E3SM-MMF.mlo.0008-01-31-76800.nc:   0%|          | 0.00/1.13M [00:00<?, ?B/s]"
      ]
     },
     "metadata": {},
     "output_type": "display_data"
    },
    {
     "data": {
      "application/vnd.jupyter.widget-view+json": {
       "model_id": "518002aabf0948ca8243219718c8ed41",
       "version_major": 2,
       "version_minor": 0
      },
      "text/plain": [
       "E3SM-MMF.mlo.0008-01-31-78000.nc:   0%|          | 0.00/1.13M [00:00<?, ?B/s]"
      ]
     },
     "metadata": {},
     "output_type": "display_data"
    },
    {
     "data": {
      "application/vnd.jupyter.widget-view+json": {
       "model_id": "a343556e34b2450eaf3c1c8e56375a81",
       "version_major": 2,
       "version_minor": 0
      },
      "text/plain": [
       "E3SM-MMF.mlo.0008-01-31-79200.nc:   0%|          | 0.00/1.13M [00:00<?, ?B/s]"
      ]
     },
     "metadata": {},
     "output_type": "display_data"
    },
    {
     "data": {
      "application/vnd.jupyter.widget-view+json": {
       "model_id": "2094fbdbbdd34c118cbac510e09e4b71",
       "version_major": 2,
       "version_minor": 0
      },
      "text/plain": [
       "E3SM-MMF.mlo.0008-01-31-80400.nc:   0%|          | 0.00/1.13M [00:00<?, ?B/s]"
      ]
     },
     "metadata": {},
     "output_type": "display_data"
    },
    {
     "data": {
      "application/vnd.jupyter.widget-view+json": {
       "model_id": "5b9f079571b04b41b0968051e44425b4",
       "version_major": 2,
       "version_minor": 0
      },
      "text/plain": [
       "E3SM-MMF.mlo.0008-01-31-81600.nc:   0%|          | 0.00/1.13M [00:00<?, ?B/s]"
      ]
     },
     "metadata": {},
     "output_type": "display_data"
    },
    {
     "data": {
      "application/vnd.jupyter.widget-view+json": {
       "model_id": "0d4ad99554c146b18d5be92fd6762930",
       "version_major": 2,
       "version_minor": 0
      },
      "text/plain": [
       "E3SM-MMF.mlo.0008-01-31-82800.nc:   0%|          | 0.00/1.13M [00:00<?, ?B/s]"
      ]
     },
     "metadata": {},
     "output_type": "display_data"
    },
    {
     "data": {
      "application/vnd.jupyter.widget-view+json": {
       "model_id": "c08a3b80963c4cfd842694cc8c33c2b2",
       "version_major": 2,
       "version_minor": 0
      },
      "text/plain": [
       "E3SM-MMF.mlo.0008-01-31-84000.nc:   0%|          | 0.00/1.13M [00:00<?, ?B/s]"
      ]
     },
     "metadata": {},
     "output_type": "display_data"
    },
    {
     "data": {
      "application/vnd.jupyter.widget-view+json": {
       "model_id": "4ae15361bf1c451ab4f98f411266b2c9",
       "version_major": 2,
       "version_minor": 0
      },
      "text/plain": [
       "E3SM-MMF.mlo.0008-01-31-85200.nc:   0%|          | 0.00/1.13M [00:00<?, ?B/s]"
      ]
     },
     "metadata": {},
     "output_type": "display_data"
    },
    {
     "data": {
      "application/vnd.jupyter.widget-view+json": {
       "model_id": "d629cfd1da6b47eba5876825d3ed1b6e",
       "version_major": 2,
       "version_minor": 0
      },
      "text/plain": [
       "E3SM-MMF.mlo.0008-02-01-00000.nc:   0%|          | 0.00/1.13M [00:00<?, ?B/s]"
      ]
     },
     "metadata": {},
     "output_type": "display_data"
    },
    {
     "data": {
      "application/vnd.jupyter.widget-view+json": {
       "model_id": "bdfd8e39727f418b8b81a54ca6db11a2",
       "version_major": 2,
       "version_minor": 0
      },
      "text/plain": [
       "E3SM-MMF.mlo.0008-02-01-01200.nc:   0%|          | 0.00/1.13M [00:00<?, ?B/s]"
      ]
     },
     "metadata": {},
     "output_type": "display_data"
    },
    {
     "data": {
      "application/vnd.jupyter.widget-view+json": {
       "model_id": "fe5d9505aa5f404180d8a27b2b96b597",
       "version_major": 2,
       "version_minor": 0
      },
      "text/plain": [
       "E3SM-MMF.mlo.0008-02-01-02400.nc:   0%|          | 0.00/1.13M [00:00<?, ?B/s]"
      ]
     },
     "metadata": {},
     "output_type": "display_data"
    },
    {
     "data": {
      "application/vnd.jupyter.widget-view+json": {
       "model_id": "7c65b3ef28df4823b43d5953ad33ade5",
       "version_major": 2,
       "version_minor": 0
      },
      "text/plain": [
       "E3SM-MMF.mlo.0008-02-01-03600.nc:   0%|          | 0.00/1.13M [00:00<?, ?B/s]"
      ]
     },
     "metadata": {},
     "output_type": "display_data"
    },
    {
     "data": {
      "application/vnd.jupyter.widget-view+json": {
       "model_id": "f1c1fb0a788a42b3993dd6492261b7c4",
       "version_major": 2,
       "version_minor": 0
      },
      "text/plain": [
       "E3SM-MMF.mlo.0008-02-01-04800.nc:   0%|          | 0.00/1.13M [00:00<?, ?B/s]"
      ]
     },
     "metadata": {},
     "output_type": "display_data"
    },
    {
     "data": {
      "application/vnd.jupyter.widget-view+json": {
       "model_id": "5935eb58e9fe4c4aab55535ce0634a53",
       "version_major": 2,
       "version_minor": 0
      },
      "text/plain": [
       "E3SM-MMF.mlo.0008-02-01-06000.nc:   0%|          | 0.00/1.13M [00:00<?, ?B/s]"
      ]
     },
     "metadata": {},
     "output_type": "display_data"
    },
    {
     "data": {
      "application/vnd.jupyter.widget-view+json": {
       "model_id": "3c8ecbebbfc540a3b64d2e216600755c",
       "version_major": 2,
       "version_minor": 0
      },
      "text/plain": [
       "E3SM-MMF.mlo.0008-02-01-07200.nc:   0%|          | 0.00/1.13M [00:00<?, ?B/s]"
      ]
     },
     "metadata": {},
     "output_type": "display_data"
    },
    {
     "data": {
      "application/vnd.jupyter.widget-view+json": {
       "model_id": "a53841875cca46b6ae4e5ce3d59bfd78",
       "version_major": 2,
       "version_minor": 0
      },
      "text/plain": [
       "E3SM-MMF.mlo.0008-02-01-08400.nc:   0%|          | 0.00/1.13M [00:00<?, ?B/s]"
      ]
     },
     "metadata": {},
     "output_type": "display_data"
    },
    {
     "data": {
      "application/vnd.jupyter.widget-view+json": {
       "model_id": "9c6bb089bdc849da924402f99592c9bb",
       "version_major": 2,
       "version_minor": 0
      },
      "text/plain": [
       "E3SM-MMF.mlo.0008-02-01-09600.nc:   0%|          | 0.00/1.13M [00:00<?, ?B/s]"
      ]
     },
     "metadata": {},
     "output_type": "display_data"
    },
    {
     "data": {
      "application/vnd.jupyter.widget-view+json": {
       "model_id": "fa36e874db4a49dd9cf06f79dc03e620",
       "version_major": 2,
       "version_minor": 0
      },
      "text/plain": [
       "E3SM-MMF.mlo.0008-02-01-10800.nc:   0%|          | 0.00/1.13M [00:00<?, ?B/s]"
      ]
     },
     "metadata": {},
     "output_type": "display_data"
    },
    {
     "data": {
      "application/vnd.jupyter.widget-view+json": {
       "model_id": "bf7b37c2f66a449fb35352acb35d6299",
       "version_major": 2,
       "version_minor": 0
      },
      "text/plain": [
       "E3SM-MMF.mlo.0008-02-01-12000.nc:   0%|          | 0.00/1.13M [00:00<?, ?B/s]"
      ]
     },
     "metadata": {},
     "output_type": "display_data"
    },
    {
     "data": {
      "application/vnd.jupyter.widget-view+json": {
       "model_id": "054016df670b4fb2a6db987b5faa5b01",
       "version_major": 2,
       "version_minor": 0
      },
      "text/plain": [
       "E3SM-MMF.mlo.0008-02-01-13200.nc:   0%|          | 0.00/1.13M [00:00<?, ?B/s]"
      ]
     },
     "metadata": {},
     "output_type": "display_data"
    },
    {
     "data": {
      "application/vnd.jupyter.widget-view+json": {
       "model_id": "81686d9008714e4dba874b58e9d45eb5",
       "version_major": 2,
       "version_minor": 0
      },
      "text/plain": [
       "E3SM-MMF.mlo.0008-02-01-14400.nc:   0%|          | 0.00/1.13M [00:00<?, ?B/s]"
      ]
     },
     "metadata": {},
     "output_type": "display_data"
    },
    {
     "data": {
      "application/vnd.jupyter.widget-view+json": {
       "model_id": "e53c276f78644aa99b9319399165b56d",
       "version_major": 2,
       "version_minor": 0
      },
      "text/plain": [
       "E3SM-MMF.mlo.0008-02-01-15600.nc:   0%|          | 0.00/1.13M [00:00<?, ?B/s]"
      ]
     },
     "metadata": {},
     "output_type": "display_data"
    },
    {
     "data": {
      "application/vnd.jupyter.widget-view+json": {
       "model_id": "81b765df97734309b2ff3f5e603c39f8",
       "version_major": 2,
       "version_minor": 0
      },
      "text/plain": [
       "E3SM-MMF.mlo.0008-02-01-16800.nc:   0%|          | 0.00/1.13M [00:00<?, ?B/s]"
      ]
     },
     "metadata": {},
     "output_type": "display_data"
    },
    {
     "data": {
      "application/vnd.jupyter.widget-view+json": {
       "model_id": "c6482e257de64b65bd88dded04965c46",
       "version_major": 2,
       "version_minor": 0
      },
      "text/plain": [
       "E3SM-MMF.mlo.0008-02-01-18000.nc:   0%|          | 0.00/1.13M [00:00<?, ?B/s]"
      ]
     },
     "metadata": {},
     "output_type": "display_data"
    },
    {
     "data": {
      "application/vnd.jupyter.widget-view+json": {
       "model_id": "6e90a3ebbb86406abdb2394dc2830929",
       "version_major": 2,
       "version_minor": 0
      },
      "text/plain": [
       "E3SM-MMF.mlo.0008-02-01-19200.nc:   0%|          | 0.00/1.13M [00:00<?, ?B/s]"
      ]
     },
     "metadata": {},
     "output_type": "display_data"
    },
    {
     "data": {
      "application/vnd.jupyter.widget-view+json": {
       "model_id": "04fb5d91826a405ea8eed2c7d9bd7af7",
       "version_major": 2,
       "version_minor": 0
      },
      "text/plain": [
       "E3SM-MMF.mlo.0008-02-01-20400.nc:   0%|          | 0.00/1.13M [00:00<?, ?B/s]"
      ]
     },
     "metadata": {},
     "output_type": "display_data"
    },
    {
     "data": {
      "application/vnd.jupyter.widget-view+json": {
       "model_id": "9fdf34ea89c4425daa04cf2477c1c5b8",
       "version_major": 2,
       "version_minor": 0
      },
      "text/plain": [
       "E3SM-MMF.mlo.0008-02-01-21600.nc:   0%|          | 0.00/1.13M [00:00<?, ?B/s]"
      ]
     },
     "metadata": {},
     "output_type": "display_data"
    },
    {
     "data": {
      "application/vnd.jupyter.widget-view+json": {
       "model_id": "f255f6787fba45a7800ffb658d604603",
       "version_major": 2,
       "version_minor": 0
      },
      "text/plain": [
       "E3SM-MMF.mlo.0008-02-01-22800.nc:   0%|          | 0.00/1.13M [00:00<?, ?B/s]"
      ]
     },
     "metadata": {},
     "output_type": "display_data"
    },
    {
     "data": {
      "application/vnd.jupyter.widget-view+json": {
       "model_id": "dd16fc2657dd446690e186483910c152",
       "version_major": 2,
       "version_minor": 0
      },
      "text/plain": [
       "E3SM-MMF.mlo.0008-02-01-24000.nc:   0%|          | 0.00/1.13M [00:00<?, ?B/s]"
      ]
     },
     "metadata": {},
     "output_type": "display_data"
    },
    {
     "data": {
      "application/vnd.jupyter.widget-view+json": {
       "model_id": "eb7df02ba9ca42488a480988e4a69a3f",
       "version_major": 2,
       "version_minor": 0
      },
      "text/plain": [
       "E3SM-MMF.mlo.0008-02-01-25200.nc:   0%|          | 0.00/1.13M [00:00<?, ?B/s]"
      ]
     },
     "metadata": {},
     "output_type": "display_data"
    },
    {
     "data": {
      "application/vnd.jupyter.widget-view+json": {
       "model_id": "fe5e44401b2445a7b33d6ab000acd709",
       "version_major": 2,
       "version_minor": 0
      },
      "text/plain": [
       "E3SM-MMF.mlo.0008-02-01-26400.nc:   0%|          | 0.00/1.13M [00:00<?, ?B/s]"
      ]
     },
     "metadata": {},
     "output_type": "display_data"
    },
    {
     "data": {
      "application/vnd.jupyter.widget-view+json": {
       "model_id": "edfe673c4a50454b8a40ed0d56087095",
       "version_major": 2,
       "version_minor": 0
      },
      "text/plain": [
       "E3SM-MMF.mlo.0008-02-01-27600.nc:   0%|          | 0.00/1.13M [00:00<?, ?B/s]"
      ]
     },
     "metadata": {},
     "output_type": "display_data"
    },
    {
     "data": {
      "application/vnd.jupyter.widget-view+json": {
       "model_id": "df77becc4d6a41c2b96c1bc185d017c0",
       "version_major": 2,
       "version_minor": 0
      },
      "text/plain": [
       "E3SM-MMF.mlo.0008-02-01-28800.nc:   0%|          | 0.00/1.13M [00:00<?, ?B/s]"
      ]
     },
     "metadata": {},
     "output_type": "display_data"
    },
    {
     "data": {
      "application/vnd.jupyter.widget-view+json": {
       "model_id": "aed8aa25d7d44afcb743f79a38d87408",
       "version_major": 2,
       "version_minor": 0
      },
      "text/plain": [
       "E3SM-MMF.mlo.0008-02-01-30000.nc:   0%|          | 0.00/1.13M [00:00<?, ?B/s]"
      ]
     },
     "metadata": {},
     "output_type": "display_data"
    },
    {
     "data": {
      "application/vnd.jupyter.widget-view+json": {
       "model_id": "ce97793ebe7149e78e97e5cce6f3083b",
       "version_major": 2,
       "version_minor": 0
      },
      "text/plain": [
       "E3SM-MMF.mlo.0008-02-01-31200.nc:   0%|          | 0.00/1.13M [00:00<?, ?B/s]"
      ]
     },
     "metadata": {},
     "output_type": "display_data"
    },
    {
     "data": {
      "application/vnd.jupyter.widget-view+json": {
       "model_id": "37309c7fd7054a14838db80be0a806f6",
       "version_major": 2,
       "version_minor": 0
      },
      "text/plain": [
       "E3SM-MMF.mlo.0008-02-01-32400.nc:   0%|          | 0.00/1.13M [00:00<?, ?B/s]"
      ]
     },
     "metadata": {},
     "output_type": "display_data"
    },
    {
     "data": {
      "application/vnd.jupyter.widget-view+json": {
       "model_id": "853255754a9d46d28bec3d751b6a31a8",
       "version_major": 2,
       "version_minor": 0
      },
      "text/plain": [
       "E3SM-MMF.mlo.0008-02-01-33600.nc:   0%|          | 0.00/1.13M [00:00<?, ?B/s]"
      ]
     },
     "metadata": {},
     "output_type": "display_data"
    },
    {
     "data": {
      "application/vnd.jupyter.widget-view+json": {
       "model_id": "a0e2bfea8e514e6e84f0f47f5918d958",
       "version_major": 2,
       "version_minor": 0
      },
      "text/plain": [
       "E3SM-MMF.mlo.0008-02-01-34800.nc:   0%|          | 0.00/1.13M [00:00<?, ?B/s]"
      ]
     },
     "metadata": {},
     "output_type": "display_data"
    },
    {
     "data": {
      "application/vnd.jupyter.widget-view+json": {
       "model_id": "67cb7f89348549b0846815de89d1ffe2",
       "version_major": 2,
       "version_minor": 0
      },
      "text/plain": [
       "E3SM-MMF.mlo.0008-02-01-36000.nc:   0%|          | 0.00/1.13M [00:00<?, ?B/s]"
      ]
     },
     "metadata": {},
     "output_type": "display_data"
    },
    {
     "data": {
      "application/vnd.jupyter.widget-view+json": {
       "model_id": "3d06513efb8e4e27994bf106dfab36af",
       "version_major": 2,
       "version_minor": 0
      },
      "text/plain": [
       "E3SM-MMF.mlo.0008-02-01-37200.nc:   0%|          | 0.00/1.13M [00:00<?, ?B/s]"
      ]
     },
     "metadata": {},
     "output_type": "display_data"
    },
    {
     "data": {
      "application/vnd.jupyter.widget-view+json": {
       "model_id": "fb26d07769474c4abad11b4a5bff2414",
       "version_major": 2,
       "version_minor": 0
      },
      "text/plain": [
       "E3SM-MMF.mlo.0008-02-01-38400.nc:   0%|          | 0.00/1.13M [00:00<?, ?B/s]"
      ]
     },
     "metadata": {},
     "output_type": "display_data"
    },
    {
     "data": {
      "application/vnd.jupyter.widget-view+json": {
       "model_id": "d4d8965d6f7a4f6eb6555834c52598c5",
       "version_major": 2,
       "version_minor": 0
      },
      "text/plain": [
       "E3SM-MMF.mlo.0008-02-01-39600.nc:   0%|          | 0.00/1.13M [00:00<?, ?B/s]"
      ]
     },
     "metadata": {},
     "output_type": "display_data"
    },
    {
     "data": {
      "application/vnd.jupyter.widget-view+json": {
       "model_id": "5e072f61f3804d67b7c97143d5c5aa62",
       "version_major": 2,
       "version_minor": 0
      },
      "text/plain": [
       "E3SM-MMF.mlo.0008-02-01-40800.nc:   0%|          | 0.00/1.13M [00:00<?, ?B/s]"
      ]
     },
     "metadata": {},
     "output_type": "display_data"
    },
    {
     "data": {
      "application/vnd.jupyter.widget-view+json": {
       "model_id": "1875c8993d7444e4b39ec0413be13e17",
       "version_major": 2,
       "version_minor": 0
      },
      "text/plain": [
       "E3SM-MMF.mlo.0008-02-01-42000.nc:   0%|          | 0.00/1.13M [00:00<?, ?B/s]"
      ]
     },
     "metadata": {},
     "output_type": "display_data"
    },
    {
     "data": {
      "application/vnd.jupyter.widget-view+json": {
       "model_id": "bb8bde3444dc4568bda8fe40c27a2b58",
       "version_major": 2,
       "version_minor": 0
      },
      "text/plain": [
       "E3SM-MMF.mlo.0008-02-01-43200.nc:   0%|          | 0.00/1.13M [00:00<?, ?B/s]"
      ]
     },
     "metadata": {},
     "output_type": "display_data"
    },
    {
     "data": {
      "application/vnd.jupyter.widget-view+json": {
       "model_id": "f99c445052114faf81866567c067f6cf",
       "version_major": 2,
       "version_minor": 0
      },
      "text/plain": [
       "E3SM-MMF.mlo.0008-02-01-44400.nc:   0%|          | 0.00/1.13M [00:00<?, ?B/s]"
      ]
     },
     "metadata": {},
     "output_type": "display_data"
    },
    {
     "data": {
      "application/vnd.jupyter.widget-view+json": {
       "model_id": "5bc721995421436aa918701f7a41e327",
       "version_major": 2,
       "version_minor": 0
      },
      "text/plain": [
       "E3SM-MMF.mlo.0008-02-01-45600.nc:   0%|          | 0.00/1.13M [00:00<?, ?B/s]"
      ]
     },
     "metadata": {},
     "output_type": "display_data"
    },
    {
     "data": {
      "application/vnd.jupyter.widget-view+json": {
       "model_id": "9a423a50b24a40af8b82d80d1085aa71",
       "version_major": 2,
       "version_minor": 0
      },
      "text/plain": [
       "E3SM-MMF.mlo.0008-02-01-46800.nc:   0%|          | 0.00/1.13M [00:00<?, ?B/s]"
      ]
     },
     "metadata": {},
     "output_type": "display_data"
    },
    {
     "data": {
      "application/vnd.jupyter.widget-view+json": {
       "model_id": "4abf57e034fd4a3fadd28e97a6a8fe76",
       "version_major": 2,
       "version_minor": 0
      },
      "text/plain": [
       "E3SM-MMF.mlo.0008-02-01-48000.nc:   0%|          | 0.00/1.13M [00:00<?, ?B/s]"
      ]
     },
     "metadata": {},
     "output_type": "display_data"
    },
    {
     "data": {
      "application/vnd.jupyter.widget-view+json": {
       "model_id": "17ae0f068d0a49a39d0fe5b7d284c989",
       "version_major": 2,
       "version_minor": 0
      },
      "text/plain": [
       "E3SM-MMF.mlo.0008-02-01-49200.nc:   0%|          | 0.00/1.13M [00:00<?, ?B/s]"
      ]
     },
     "metadata": {},
     "output_type": "display_data"
    },
    {
     "data": {
      "application/vnd.jupyter.widget-view+json": {
       "model_id": "c0bf7337104a4f8fb3bf3fe85d0d973c",
       "version_major": 2,
       "version_minor": 0
      },
      "text/plain": [
       "E3SM-MMF.mlo.0008-02-01-50400.nc:   0%|          | 0.00/1.13M [00:00<?, ?B/s]"
      ]
     },
     "metadata": {},
     "output_type": "display_data"
    },
    {
     "data": {
      "application/vnd.jupyter.widget-view+json": {
       "model_id": "cca6a941ba4948dcbe8e5cbff8e26dd8",
       "version_major": 2,
       "version_minor": 0
      },
      "text/plain": [
       "E3SM-MMF.mlo.0008-02-01-51600.nc:   0%|          | 0.00/1.13M [00:00<?, ?B/s]"
      ]
     },
     "metadata": {},
     "output_type": "display_data"
    },
    {
     "data": {
      "application/vnd.jupyter.widget-view+json": {
       "model_id": "2577adb7f40948088b9ec82b966164bc",
       "version_major": 2,
       "version_minor": 0
      },
      "text/plain": [
       "E3SM-MMF.mlo.0008-02-01-52800.nc:   0%|          | 0.00/1.13M [00:00<?, ?B/s]"
      ]
     },
     "metadata": {},
     "output_type": "display_data"
    },
    {
     "data": {
      "application/vnd.jupyter.widget-view+json": {
       "model_id": "c4a45ad85c6d4c56a2f2c1c407035f38",
       "version_major": 2,
       "version_minor": 0
      },
      "text/plain": [
       "E3SM-MMF.mlo.0008-02-01-54000.nc:   0%|          | 0.00/1.13M [00:00<?, ?B/s]"
      ]
     },
     "metadata": {},
     "output_type": "display_data"
    },
    {
     "data": {
      "application/vnd.jupyter.widget-view+json": {
       "model_id": "a4f0cbbb7e66413d981336e7a0acdf82",
       "version_major": 2,
       "version_minor": 0
      },
      "text/plain": [
       "E3SM-MMF.mlo.0008-02-01-55200.nc:   0%|          | 0.00/1.13M [00:00<?, ?B/s]"
      ]
     },
     "metadata": {},
     "output_type": "display_data"
    },
    {
     "data": {
      "application/vnd.jupyter.widget-view+json": {
       "model_id": "bf14a480c2f645388652b5637b104609",
       "version_major": 2,
       "version_minor": 0
      },
      "text/plain": [
       "E3SM-MMF.mlo.0008-02-01-56400.nc:   0%|          | 0.00/1.13M [00:00<?, ?B/s]"
      ]
     },
     "metadata": {},
     "output_type": "display_data"
    },
    {
     "data": {
      "application/vnd.jupyter.widget-view+json": {
       "model_id": "3601d38f19b24c0fa3ad8a9aa375623b",
       "version_major": 2,
       "version_minor": 0
      },
      "text/plain": [
       "E3SM-MMF.mlo.0008-02-01-57600.nc:   0%|          | 0.00/1.13M [00:00<?, ?B/s]"
      ]
     },
     "metadata": {},
     "output_type": "display_data"
    },
    {
     "data": {
      "application/vnd.jupyter.widget-view+json": {
       "model_id": "5fd5c350f723473b824a8efa099cf750",
       "version_major": 2,
       "version_minor": 0
      },
      "text/plain": [
       "E3SM-MMF.mlo.0008-02-01-58800.nc:   0%|          | 0.00/1.13M [00:00<?, ?B/s]"
      ]
     },
     "metadata": {},
     "output_type": "display_data"
    },
    {
     "data": {
      "application/vnd.jupyter.widget-view+json": {
       "model_id": "f6a3b73c46974a18b8af57ad6a3d1a7e",
       "version_major": 2,
       "version_minor": 0
      },
      "text/plain": [
       "E3SM-MMF.mlo.0008-02-01-60000.nc:   0%|          | 0.00/1.13M [00:00<?, ?B/s]"
      ]
     },
     "metadata": {},
     "output_type": "display_data"
    },
    {
     "data": {
      "application/vnd.jupyter.widget-view+json": {
       "model_id": "ce7e940484c84183995f0a3615bcb064",
       "version_major": 2,
       "version_minor": 0
      },
      "text/plain": [
       "E3SM-MMF.mlo.0008-02-01-61200.nc:   0%|          | 0.00/1.13M [00:00<?, ?B/s]"
      ]
     },
     "metadata": {},
     "output_type": "display_data"
    },
    {
     "data": {
      "application/vnd.jupyter.widget-view+json": {
       "model_id": "656c07c432164f8292f4c7ec8e232cf0",
       "version_major": 2,
       "version_minor": 0
      },
      "text/plain": [
       "E3SM-MMF.mlo.0008-02-01-62400.nc:   0%|          | 0.00/1.13M [00:00<?, ?B/s]"
      ]
     },
     "metadata": {},
     "output_type": "display_data"
    },
    {
     "data": {
      "application/vnd.jupyter.widget-view+json": {
       "model_id": "eb13218d691243d8aa1dd811822d85e7",
       "version_major": 2,
       "version_minor": 0
      },
      "text/plain": [
       "E3SM-MMF.mlo.0008-02-01-63600.nc:   0%|          | 0.00/1.13M [00:00<?, ?B/s]"
      ]
     },
     "metadata": {},
     "output_type": "display_data"
    },
    {
     "data": {
      "application/vnd.jupyter.widget-view+json": {
       "model_id": "1702243f9837425f89b7e6627112f44b",
       "version_major": 2,
       "version_minor": 0
      },
      "text/plain": [
       "E3SM-MMF.mlo.0008-02-01-64800.nc:   0%|          | 0.00/1.13M [00:00<?, ?B/s]"
      ]
     },
     "metadata": {},
     "output_type": "display_data"
    },
    {
     "data": {
      "application/vnd.jupyter.widget-view+json": {
       "model_id": "f4ead0cc69f540aba4b29f7ec712818f",
       "version_major": 2,
       "version_minor": 0
      },
      "text/plain": [
       "E3SM-MMF.mlo.0008-02-01-66000.nc:   0%|          | 0.00/1.13M [00:00<?, ?B/s]"
      ]
     },
     "metadata": {},
     "output_type": "display_data"
    },
    {
     "data": {
      "application/vnd.jupyter.widget-view+json": {
       "model_id": "1fb14f25147f46ae8a0baddfb62adfb8",
       "version_major": 2,
       "version_minor": 0
      },
      "text/plain": [
       "E3SM-MMF.mlo.0008-02-01-67200.nc:   0%|          | 0.00/1.13M [00:00<?, ?B/s]"
      ]
     },
     "metadata": {},
     "output_type": "display_data"
    },
    {
     "data": {
      "application/vnd.jupyter.widget-view+json": {
       "model_id": "1ab7c83f91344d9ebfa5a88ad3d3f52a",
       "version_major": 2,
       "version_minor": 0
      },
      "text/plain": [
       "E3SM-MMF.mlo.0008-02-01-68400.nc:   0%|          | 0.00/1.13M [00:00<?, ?B/s]"
      ]
     },
     "metadata": {},
     "output_type": "display_data"
    },
    {
     "data": {
      "application/vnd.jupyter.widget-view+json": {
       "model_id": "256b1543d8fa49e193c6803188862c8d",
       "version_major": 2,
       "version_minor": 0
      },
      "text/plain": [
       "E3SM-MMF.mlo.0008-02-01-69600.nc:   0%|          | 0.00/1.13M [00:00<?, ?B/s]"
      ]
     },
     "metadata": {},
     "output_type": "display_data"
    },
    {
     "data": {
      "application/vnd.jupyter.widget-view+json": {
       "model_id": "77e169af04f044a28585c51268f0e14c",
       "version_major": 2,
       "version_minor": 0
      },
      "text/plain": [
       "E3SM-MMF.mlo.0008-02-01-70800.nc:   0%|          | 0.00/1.13M [00:00<?, ?B/s]"
      ]
     },
     "metadata": {},
     "output_type": "display_data"
    },
    {
     "data": {
      "application/vnd.jupyter.widget-view+json": {
       "model_id": "4608af7383224671a72939ad39f8b438",
       "version_major": 2,
       "version_minor": 0
      },
      "text/plain": [
       "E3SM-MMF.mlo.0008-02-01-72000.nc:   0%|          | 0.00/1.13M [00:00<?, ?B/s]"
      ]
     },
     "metadata": {},
     "output_type": "display_data"
    },
    {
     "data": {
      "application/vnd.jupyter.widget-view+json": {
       "model_id": "74abb711a7d94e5894842a2f472043b9",
       "version_major": 2,
       "version_minor": 0
      },
      "text/plain": [
       "E3SM-MMF.mlo.0008-02-01-73200.nc:   0%|          | 0.00/1.13M [00:00<?, ?B/s]"
      ]
     },
     "metadata": {},
     "output_type": "display_data"
    },
    {
     "data": {
      "application/vnd.jupyter.widget-view+json": {
       "model_id": "804a943c1ab143c3b302c7ae87483a4a",
       "version_major": 2,
       "version_minor": 0
      },
      "text/plain": [
       "E3SM-MMF.mlo.0008-02-01-74400.nc:   0%|          | 0.00/1.13M [00:00<?, ?B/s]"
      ]
     },
     "metadata": {},
     "output_type": "display_data"
    },
    {
     "data": {
      "application/vnd.jupyter.widget-view+json": {
       "model_id": "bd63991f5e6c4842ab452811f54ee3d1",
       "version_major": 2,
       "version_minor": 0
      },
      "text/plain": [
       "E3SM-MMF.mlo.0008-02-01-75600.nc:   0%|          | 0.00/1.13M [00:00<?, ?B/s]"
      ]
     },
     "metadata": {},
     "output_type": "display_data"
    },
    {
     "data": {
      "application/vnd.jupyter.widget-view+json": {
       "model_id": "7a5de08814de42c5a8813f64f115da37",
       "version_major": 2,
       "version_minor": 0
      },
      "text/plain": [
       "E3SM-MMF.mlo.0008-02-01-76800.nc:   0%|          | 0.00/1.13M [00:00<?, ?B/s]"
      ]
     },
     "metadata": {},
     "output_type": "display_data"
    },
    {
     "data": {
      "application/vnd.jupyter.widget-view+json": {
       "model_id": "efb143adc53b45e7867ccaad1c8e2563",
       "version_major": 2,
       "version_minor": 0
      },
      "text/plain": [
       "E3SM-MMF.mlo.0008-02-01-78000.nc:   0%|          | 0.00/1.13M [00:00<?, ?B/s]"
      ]
     },
     "metadata": {},
     "output_type": "display_data"
    },
    {
     "data": {
      "application/vnd.jupyter.widget-view+json": {
       "model_id": "b214c0169a4947fb8237bcb37c334d00",
       "version_major": 2,
       "version_minor": 0
      },
      "text/plain": [
       "E3SM-MMF.mlo.0008-02-01-79200.nc:   0%|          | 0.00/1.13M [00:00<?, ?B/s]"
      ]
     },
     "metadata": {},
     "output_type": "display_data"
    },
    {
     "data": {
      "application/vnd.jupyter.widget-view+json": {
       "model_id": "5c0f38298536496eb83d408d1c10c3af",
       "version_major": 2,
       "version_minor": 0
      },
      "text/plain": [
       "E3SM-MMF.mlo.0008-02-01-80400.nc:   0%|          | 0.00/1.13M [00:00<?, ?B/s]"
      ]
     },
     "metadata": {},
     "output_type": "display_data"
    },
    {
     "data": {
      "application/vnd.jupyter.widget-view+json": {
       "model_id": "afc2211d188a4b4cad99094b7c23e3b0",
       "version_major": 2,
       "version_minor": 0
      },
      "text/plain": [
       "E3SM-MMF.mlo.0008-02-01-81600.nc:   0%|          | 0.00/1.13M [00:00<?, ?B/s]"
      ]
     },
     "metadata": {},
     "output_type": "display_data"
    },
    {
     "data": {
      "application/vnd.jupyter.widget-view+json": {
       "model_id": "54708032a2b34017abadf24db2f602ec",
       "version_major": 2,
       "version_minor": 0
      },
      "text/plain": [
       "E3SM-MMF.mlo.0008-02-01-82800.nc:   0%|          | 0.00/1.13M [00:00<?, ?B/s]"
      ]
     },
     "metadata": {},
     "output_type": "display_data"
    },
    {
     "data": {
      "application/vnd.jupyter.widget-view+json": {
       "model_id": "e8f61a3d064f4f7aba4fb3af1622e606",
       "version_major": 2,
       "version_minor": 0
      },
      "text/plain": [
       "E3SM-MMF.mlo.0008-02-01-84000.nc:   0%|          | 0.00/1.13M [00:00<?, ?B/s]"
      ]
     },
     "metadata": {},
     "output_type": "display_data"
    },
    {
     "data": {
      "application/vnd.jupyter.widget-view+json": {
       "model_id": "51475765d3a6403ab994382e776d5d0b",
       "version_major": 2,
       "version_minor": 0
      },
      "text/plain": [
       "E3SM-MMF.mlo.0008-02-01-85200.nc:   0%|          | 0.00/1.13M [00:00<?, ?B/s]"
      ]
     },
     "metadata": {},
     "output_type": "display_data"
    },
    {
     "data": {
      "application/vnd.jupyter.widget-view+json": {
       "model_id": "4d496fd0a0df4c02a9bb686768bca6ab",
       "version_major": 2,
       "version_minor": 0
      },
      "text/plain": [
       "E3SM-MMF.mlo.0008-02-02-00000.nc:   0%|          | 0.00/1.13M [00:00<?, ?B/s]"
      ]
     },
     "metadata": {},
     "output_type": "display_data"
    },
    {
     "data": {
      "application/vnd.jupyter.widget-view+json": {
       "model_id": "8248b36e348e44c3b48f51a0a4e24e03",
       "version_major": 2,
       "version_minor": 0
      },
      "text/plain": [
       "E3SM-MMF.mlo.0008-02-02-01200.nc:   0%|          | 0.00/1.13M [00:00<?, ?B/s]"
      ]
     },
     "metadata": {},
     "output_type": "display_data"
    },
    {
     "data": {
      "application/vnd.jupyter.widget-view+json": {
       "model_id": "397a215337cb4351a4f4f42defbfa053",
       "version_major": 2,
       "version_minor": 0
      },
      "text/plain": [
       "E3SM-MMF.mlo.0008-02-02-02400.nc:   0%|          | 0.00/1.13M [00:00<?, ?B/s]"
      ]
     },
     "metadata": {},
     "output_type": "display_data"
    },
    {
     "data": {
      "application/vnd.jupyter.widget-view+json": {
       "model_id": "4480e1dcb3604bc3b3671b3e89b748de",
       "version_major": 2,
       "version_minor": 0
      },
      "text/plain": [
       "E3SM-MMF.mlo.0008-02-02-03600.nc:   0%|          | 0.00/1.13M [00:00<?, ?B/s]"
      ]
     },
     "metadata": {},
     "output_type": "display_data"
    },
    {
     "data": {
      "application/vnd.jupyter.widget-view+json": {
       "model_id": "f5be76a331514e86b36b658a278d089f",
       "version_major": 2,
       "version_minor": 0
      },
      "text/plain": [
       "E3SM-MMF.mlo.0008-02-02-04800.nc:   0%|          | 0.00/1.13M [00:00<?, ?B/s]"
      ]
     },
     "metadata": {},
     "output_type": "display_data"
    },
    {
     "data": {
      "application/vnd.jupyter.widget-view+json": {
       "model_id": "1f090450870f470387e90276864a8dac",
       "version_major": 2,
       "version_minor": 0
      },
      "text/plain": [
       "E3SM-MMF.mlo.0008-02-02-06000.nc:   0%|          | 0.00/1.13M [00:00<?, ?B/s]"
      ]
     },
     "metadata": {},
     "output_type": "display_data"
    },
    {
     "data": {
      "application/vnd.jupyter.widget-view+json": {
       "model_id": "debdcd9d9cd24dee954cadbc6af3c745",
       "version_major": 2,
       "version_minor": 0
      },
      "text/plain": [
       "E3SM-MMF.mlo.0008-02-02-07200.nc:   0%|          | 0.00/1.13M [00:00<?, ?B/s]"
      ]
     },
     "metadata": {},
     "output_type": "display_data"
    },
    {
     "data": {
      "application/vnd.jupyter.widget-view+json": {
       "model_id": "15433ef53886485ab927c3065458eee6",
       "version_major": 2,
       "version_minor": 0
      },
      "text/plain": [
       "E3SM-MMF.mlo.0008-02-02-08400.nc:   0%|          | 0.00/1.13M [00:00<?, ?B/s]"
      ]
     },
     "metadata": {},
     "output_type": "display_data"
    },
    {
     "data": {
      "application/vnd.jupyter.widget-view+json": {
       "model_id": "36a4c6b84c544e2cb5222bf3e62b1114",
       "version_major": 2,
       "version_minor": 0
      },
      "text/plain": [
       "E3SM-MMF.mlo.0008-02-02-09600.nc:   0%|          | 0.00/1.13M [00:00<?, ?B/s]"
      ]
     },
     "metadata": {},
     "output_type": "display_data"
    },
    {
     "data": {
      "application/vnd.jupyter.widget-view+json": {
       "model_id": "5b0ca2a166bd4d7b96eb1b7334180ee1",
       "version_major": 2,
       "version_minor": 0
      },
      "text/plain": [
       "E3SM-MMF.mlo.0008-02-02-10800.nc:   0%|          | 0.00/1.13M [00:00<?, ?B/s]"
      ]
     },
     "metadata": {},
     "output_type": "display_data"
    },
    {
     "data": {
      "application/vnd.jupyter.widget-view+json": {
       "model_id": "569fca0d4487470f9057f09d084f335c",
       "version_major": 2,
       "version_minor": 0
      },
      "text/plain": [
       "E3SM-MMF.mlo.0008-02-02-12000.nc:   0%|          | 0.00/1.13M [00:00<?, ?B/s]"
      ]
     },
     "metadata": {},
     "output_type": "display_data"
    },
    {
     "data": {
      "application/vnd.jupyter.widget-view+json": {
       "model_id": "126df47073e34173b20c8f06df9aa135",
       "version_major": 2,
       "version_minor": 0
      },
      "text/plain": [
       "E3SM-MMF.mlo.0008-02-02-13200.nc:   0%|          | 0.00/1.13M [00:00<?, ?B/s]"
      ]
     },
     "metadata": {},
     "output_type": "display_data"
    },
    {
     "data": {
      "application/vnd.jupyter.widget-view+json": {
       "model_id": "0103266296c444c3a34a510a664bd122",
       "version_major": 2,
       "version_minor": 0
      },
      "text/plain": [
       "E3SM-MMF.mlo.0008-02-02-14400.nc:   0%|          | 0.00/1.13M [00:00<?, ?B/s]"
      ]
     },
     "metadata": {},
     "output_type": "display_data"
    },
    {
     "data": {
      "application/vnd.jupyter.widget-view+json": {
       "model_id": "daa3e0caa74f4457b4fc1d6cea5bc9c7",
       "version_major": 2,
       "version_minor": 0
      },
      "text/plain": [
       "E3SM-MMF.mlo.0008-02-02-15600.nc:   0%|          | 0.00/1.13M [00:00<?, ?B/s]"
      ]
     },
     "metadata": {},
     "output_type": "display_data"
    },
    {
     "data": {
      "application/vnd.jupyter.widget-view+json": {
       "model_id": "c95c0083a65047c0966c97a84788edfc",
       "version_major": 2,
       "version_minor": 0
      },
      "text/plain": [
       "E3SM-MMF.mlo.0008-02-02-16800.nc:   0%|          | 0.00/1.13M [00:00<?, ?B/s]"
      ]
     },
     "metadata": {},
     "output_type": "display_data"
    },
    {
     "data": {
      "application/vnd.jupyter.widget-view+json": {
       "model_id": "82968724af84467b8e78f2acf8318360",
       "version_major": 2,
       "version_minor": 0
      },
      "text/plain": [
       "E3SM-MMF.mlo.0008-02-02-18000.nc:   0%|          | 0.00/1.13M [00:00<?, ?B/s]"
      ]
     },
     "metadata": {},
     "output_type": "display_data"
    },
    {
     "data": {
      "application/vnd.jupyter.widget-view+json": {
       "model_id": "d220508e15474883949a507602d3a233",
       "version_major": 2,
       "version_minor": 0
      },
      "text/plain": [
       "E3SM-MMF.mlo.0008-02-02-19200.nc:   0%|          | 0.00/1.13M [00:00<?, ?B/s]"
      ]
     },
     "metadata": {},
     "output_type": "display_data"
    },
    {
     "data": {
      "application/vnd.jupyter.widget-view+json": {
       "model_id": "c623fb90c82e4467a2e6765533bc8d88",
       "version_major": 2,
       "version_minor": 0
      },
      "text/plain": [
       "E3SM-MMF.mlo.0008-02-02-20400.nc:   0%|          | 0.00/1.13M [00:00<?, ?B/s]"
      ]
     },
     "metadata": {},
     "output_type": "display_data"
    },
    {
     "data": {
      "application/vnd.jupyter.widget-view+json": {
       "model_id": "b221d14fb3d146acbba340b5340516ed",
       "version_major": 2,
       "version_minor": 0
      },
      "text/plain": [
       "E3SM-MMF.mlo.0008-02-02-21600.nc:   0%|          | 0.00/1.13M [00:00<?, ?B/s]"
      ]
     },
     "metadata": {},
     "output_type": "display_data"
    },
    {
     "data": {
      "application/vnd.jupyter.widget-view+json": {
       "model_id": "d6834ca5aa584fb8811f35af958ca068",
       "version_major": 2,
       "version_minor": 0
      },
      "text/plain": [
       "E3SM-MMF.mlo.0008-02-02-22800.nc:   0%|          | 0.00/1.13M [00:00<?, ?B/s]"
      ]
     },
     "metadata": {},
     "output_type": "display_data"
    },
    {
     "data": {
      "application/vnd.jupyter.widget-view+json": {
       "model_id": "99bda09cfc2f45b3b6a18bad4c9aeddb",
       "version_major": 2,
       "version_minor": 0
      },
      "text/plain": [
       "E3SM-MMF.mlo.0008-02-02-24000.nc:   0%|          | 0.00/1.13M [00:00<?, ?B/s]"
      ]
     },
     "metadata": {},
     "output_type": "display_data"
    },
    {
     "data": {
      "application/vnd.jupyter.widget-view+json": {
       "model_id": "fa316354b2df4301b2d1dce980f0c1e5",
       "version_major": 2,
       "version_minor": 0
      },
      "text/plain": [
       "E3SM-MMF.mlo.0008-02-02-25200.nc:   0%|          | 0.00/1.13M [00:00<?, ?B/s]"
      ]
     },
     "metadata": {},
     "output_type": "display_data"
    },
    {
     "data": {
      "application/vnd.jupyter.widget-view+json": {
       "model_id": "a46478a0061f47db9f9e61921ac7b4a1",
       "version_major": 2,
       "version_minor": 0
      },
      "text/plain": [
       "E3SM-MMF.mlo.0008-02-02-26400.nc:   0%|          | 0.00/1.13M [00:00<?, ?B/s]"
      ]
     },
     "metadata": {},
     "output_type": "display_data"
    },
    {
     "data": {
      "application/vnd.jupyter.widget-view+json": {
       "model_id": "641997c6fc134f68a3f7e7b2dfca17a1",
       "version_major": 2,
       "version_minor": 0
      },
      "text/plain": [
       "E3SM-MMF.mlo.0008-02-02-27600.nc:   0%|          | 0.00/1.13M [00:00<?, ?B/s]"
      ]
     },
     "metadata": {},
     "output_type": "display_data"
    },
    {
     "data": {
      "application/vnd.jupyter.widget-view+json": {
       "model_id": "7e52419ca4e4477ea4fd839c8b73d53f",
       "version_major": 2,
       "version_minor": 0
      },
      "text/plain": [
       "E3SM-MMF.mlo.0008-02-02-28800.nc:   0%|          | 0.00/1.13M [00:00<?, ?B/s]"
      ]
     },
     "metadata": {},
     "output_type": "display_data"
    },
    {
     "data": {
      "application/vnd.jupyter.widget-view+json": {
       "model_id": "fef3aa0ede1a42168d430d93876a5cec",
       "version_major": 2,
       "version_minor": 0
      },
      "text/plain": [
       "E3SM-MMF.mlo.0008-02-02-30000.nc:   0%|          | 0.00/1.13M [00:00<?, ?B/s]"
      ]
     },
     "metadata": {},
     "output_type": "display_data"
    },
    {
     "data": {
      "application/vnd.jupyter.widget-view+json": {
       "model_id": "8b725d2023a74475a5e573554a0d54dd",
       "version_major": 2,
       "version_minor": 0
      },
      "text/plain": [
       "E3SM-MMF.mlo.0008-02-02-31200.nc:   0%|          | 0.00/1.13M [00:00<?, ?B/s]"
      ]
     },
     "metadata": {},
     "output_type": "display_data"
    },
    {
     "data": {
      "application/vnd.jupyter.widget-view+json": {
       "model_id": "01de4ee797f14719b702f11a4b680bcd",
       "version_major": 2,
       "version_minor": 0
      },
      "text/plain": [
       "E3SM-MMF.mlo.0008-02-02-32400.nc:   0%|          | 0.00/1.13M [00:00<?, ?B/s]"
      ]
     },
     "metadata": {},
     "output_type": "display_data"
    },
    {
     "data": {
      "application/vnd.jupyter.widget-view+json": {
       "model_id": "41cf7810cb1c4c4397522e856688b242",
       "version_major": 2,
       "version_minor": 0
      },
      "text/plain": [
       "E3SM-MMF.mlo.0008-02-02-33600.nc:   0%|          | 0.00/1.13M [00:00<?, ?B/s]"
      ]
     },
     "metadata": {},
     "output_type": "display_data"
    },
    {
     "data": {
      "application/vnd.jupyter.widget-view+json": {
       "model_id": "3ca922c87095484ab7b3300f2949c538",
       "version_major": 2,
       "version_minor": 0
      },
      "text/plain": [
       "E3SM-MMF.mlo.0008-02-02-34800.nc:   0%|          | 0.00/1.13M [00:00<?, ?B/s]"
      ]
     },
     "metadata": {},
     "output_type": "display_data"
    },
    {
     "data": {
      "application/vnd.jupyter.widget-view+json": {
       "model_id": "0b77d3fde23c4633a836257c393addfe",
       "version_major": 2,
       "version_minor": 0
      },
      "text/plain": [
       "E3SM-MMF.mlo.0008-02-02-36000.nc:   0%|          | 0.00/1.13M [00:00<?, ?B/s]"
      ]
     },
     "metadata": {},
     "output_type": "display_data"
    },
    {
     "data": {
      "application/vnd.jupyter.widget-view+json": {
       "model_id": "d7b18d09a13a4e32a31135e9c8db2cc1",
       "version_major": 2,
       "version_minor": 0
      },
      "text/plain": [
       "E3SM-MMF.mlo.0008-02-02-37200.nc:   0%|          | 0.00/1.13M [00:00<?, ?B/s]"
      ]
     },
     "metadata": {},
     "output_type": "display_data"
    },
    {
     "data": {
      "application/vnd.jupyter.widget-view+json": {
       "model_id": "1f14c0af475444f9bdd4cd3d7f92b66a",
       "version_major": 2,
       "version_minor": 0
      },
      "text/plain": [
       "E3SM-MMF.mlo.0008-02-02-38400.nc:   0%|          | 0.00/1.13M [00:00<?, ?B/s]"
      ]
     },
     "metadata": {},
     "output_type": "display_data"
    },
    {
     "data": {
      "application/vnd.jupyter.widget-view+json": {
       "model_id": "4dab99190de147afb1aa3cf892dc1c62",
       "version_major": 2,
       "version_minor": 0
      },
      "text/plain": [
       "E3SM-MMF.mlo.0008-02-02-39600.nc:   0%|          | 0.00/1.13M [00:00<?, ?B/s]"
      ]
     },
     "metadata": {},
     "output_type": "display_data"
    },
    {
     "data": {
      "application/vnd.jupyter.widget-view+json": {
       "model_id": "603caedc2b624a28b7645edbf72898bc",
       "version_major": 2,
       "version_minor": 0
      },
      "text/plain": [
       "E3SM-MMF.mlo.0008-02-02-40800.nc:   0%|          | 0.00/1.13M [00:00<?, ?B/s]"
      ]
     },
     "metadata": {},
     "output_type": "display_data"
    },
    {
     "data": {
      "application/vnd.jupyter.widget-view+json": {
       "model_id": "b05134bde5f04c34a1fd5f0fa79ebcfc",
       "version_major": 2,
       "version_minor": 0
      },
      "text/plain": [
       "E3SM-MMF.mlo.0008-02-02-42000.nc:   0%|          | 0.00/1.13M [00:00<?, ?B/s]"
      ]
     },
     "metadata": {},
     "output_type": "display_data"
    },
    {
     "data": {
      "application/vnd.jupyter.widget-view+json": {
       "model_id": "291accb8ab3b4aebbc6029528ce54068",
       "version_major": 2,
       "version_minor": 0
      },
      "text/plain": [
       "E3SM-MMF.mlo.0008-02-02-43200.nc:   0%|          | 0.00/1.13M [00:00<?, ?B/s]"
      ]
     },
     "metadata": {},
     "output_type": "display_data"
    },
    {
     "data": {
      "application/vnd.jupyter.widget-view+json": {
       "model_id": "604289b0d6824293838780bc814b725f",
       "version_major": 2,
       "version_minor": 0
      },
      "text/plain": [
       "E3SM-MMF.mlo.0008-02-02-44400.nc:   0%|          | 0.00/1.13M [00:00<?, ?B/s]"
      ]
     },
     "metadata": {},
     "output_type": "display_data"
    },
    {
     "data": {
      "application/vnd.jupyter.widget-view+json": {
       "model_id": "38f5d352c7e544309d6851081fc2b2b6",
       "version_major": 2,
       "version_minor": 0
      },
      "text/plain": [
       "E3SM-MMF.mlo.0008-02-02-45600.nc:   0%|          | 0.00/1.13M [00:00<?, ?B/s]"
      ]
     },
     "metadata": {},
     "output_type": "display_data"
    },
    {
     "data": {
      "application/vnd.jupyter.widget-view+json": {
       "model_id": "c47ec1e327a94deaa90afc8246b5abb5",
       "version_major": 2,
       "version_minor": 0
      },
      "text/plain": [
       "E3SM-MMF.mlo.0008-02-02-46800.nc:   0%|          | 0.00/1.13M [00:00<?, ?B/s]"
      ]
     },
     "metadata": {},
     "output_type": "display_data"
    },
    {
     "data": {
      "application/vnd.jupyter.widget-view+json": {
       "model_id": "53d8755e0a814f75b97c218ab23c9c6d",
       "version_major": 2,
       "version_minor": 0
      },
      "text/plain": [
       "E3SM-MMF.mlo.0008-02-02-48000.nc:   0%|          | 0.00/1.13M [00:00<?, ?B/s]"
      ]
     },
     "metadata": {},
     "output_type": "display_data"
    },
    {
     "data": {
      "application/vnd.jupyter.widget-view+json": {
       "model_id": "f131e332ba7f468687b2cb6847bf01a2",
       "version_major": 2,
       "version_minor": 0
      },
      "text/plain": [
       "E3SM-MMF.mlo.0008-02-02-49200.nc:   0%|          | 0.00/1.13M [00:00<?, ?B/s]"
      ]
     },
     "metadata": {},
     "output_type": "display_data"
    },
    {
     "data": {
      "application/vnd.jupyter.widget-view+json": {
       "model_id": "0f4ed6f8661a4bce84e8240374bc2554",
       "version_major": 2,
       "version_minor": 0
      },
      "text/plain": [
       "E3SM-MMF.mlo.0008-02-02-50400.nc:   0%|          | 0.00/1.13M [00:00<?, ?B/s]"
      ]
     },
     "metadata": {},
     "output_type": "display_data"
    },
    {
     "data": {
      "application/vnd.jupyter.widget-view+json": {
       "model_id": "cc0a87cdaefe4aa495682e098a86b6c6",
       "version_major": 2,
       "version_minor": 0
      },
      "text/plain": [
       "E3SM-MMF.mlo.0008-02-02-51600.nc:   0%|          | 0.00/1.13M [00:00<?, ?B/s]"
      ]
     },
     "metadata": {},
     "output_type": "display_data"
    },
    {
     "data": {
      "application/vnd.jupyter.widget-view+json": {
       "model_id": "906ac3cd19fa4ca7af5c845434e1df9e",
       "version_major": 2,
       "version_minor": 0
      },
      "text/plain": [
       "E3SM-MMF.mlo.0008-02-02-52800.nc:   0%|          | 0.00/1.13M [00:00<?, ?B/s]"
      ]
     },
     "metadata": {},
     "output_type": "display_data"
    },
    {
     "data": {
      "application/vnd.jupyter.widget-view+json": {
       "model_id": "2c3c03b34cd44b62beeab203260dee8b",
       "version_major": 2,
       "version_minor": 0
      },
      "text/plain": [
       "E3SM-MMF.mlo.0008-02-02-54000.nc:   0%|          | 0.00/1.13M [00:00<?, ?B/s]"
      ]
     },
     "metadata": {},
     "output_type": "display_data"
    },
    {
     "data": {
      "application/vnd.jupyter.widget-view+json": {
       "model_id": "46661d5c0fc141aab01f0f78218e8a43",
       "version_major": 2,
       "version_minor": 0
      },
      "text/plain": [
       "E3SM-MMF.mlo.0008-02-02-55200.nc:   0%|          | 0.00/1.13M [00:00<?, ?B/s]"
      ]
     },
     "metadata": {},
     "output_type": "display_data"
    },
    {
     "data": {
      "application/vnd.jupyter.widget-view+json": {
       "model_id": "faaef97eeeae442ca58af1976abd00c8",
       "version_major": 2,
       "version_minor": 0
      },
      "text/plain": [
       "E3SM-MMF.mlo.0008-02-02-56400.nc:   0%|          | 0.00/1.13M [00:00<?, ?B/s]"
      ]
     },
     "metadata": {},
     "output_type": "display_data"
    },
    {
     "data": {
      "application/vnd.jupyter.widget-view+json": {
       "model_id": "752c2bfae05645b88e02c32031454f3e",
       "version_major": 2,
       "version_minor": 0
      },
      "text/plain": [
       "E3SM-MMF.mlo.0008-02-02-57600.nc:   0%|          | 0.00/1.13M [00:00<?, ?B/s]"
      ]
     },
     "metadata": {},
     "output_type": "display_data"
    },
    {
     "data": {
      "application/vnd.jupyter.widget-view+json": {
       "model_id": "3bcd74d13d57480cb229c7a826299105",
       "version_major": 2,
       "version_minor": 0
      },
      "text/plain": [
       "E3SM-MMF.mlo.0008-02-02-58800.nc:   0%|          | 0.00/1.13M [00:00<?, ?B/s]"
      ]
     },
     "metadata": {},
     "output_type": "display_data"
    },
    {
     "data": {
      "application/vnd.jupyter.widget-view+json": {
       "model_id": "9b9511bef7fb4a589c972ba3059a644e",
       "version_major": 2,
       "version_minor": 0
      },
      "text/plain": [
       "E3SM-MMF.mlo.0008-02-02-60000.nc:   0%|          | 0.00/1.13M [00:00<?, ?B/s]"
      ]
     },
     "metadata": {},
     "output_type": "display_data"
    },
    {
     "data": {
      "application/vnd.jupyter.widget-view+json": {
       "model_id": "814d2dcdb9d94f0db646b9d338fe3111",
       "version_major": 2,
       "version_minor": 0
      },
      "text/plain": [
       "E3SM-MMF.mlo.0008-02-02-61200.nc:   0%|          | 0.00/1.13M [00:00<?, ?B/s]"
      ]
     },
     "metadata": {},
     "output_type": "display_data"
    },
    {
     "data": {
      "application/vnd.jupyter.widget-view+json": {
       "model_id": "edf0342ef09e4cab894fbb2a8c64ed2a",
       "version_major": 2,
       "version_minor": 0
      },
      "text/plain": [
       "E3SM-MMF.mlo.0008-02-02-62400.nc:   0%|          | 0.00/1.13M [00:00<?, ?B/s]"
      ]
     },
     "metadata": {},
     "output_type": "display_data"
    },
    {
     "data": {
      "application/vnd.jupyter.widget-view+json": {
       "model_id": "303de1ca34524cfba35101f53f84afe7",
       "version_major": 2,
       "version_minor": 0
      },
      "text/plain": [
       "E3SM-MMF.mlo.0008-02-02-63600.nc:   0%|          | 0.00/1.13M [00:00<?, ?B/s]"
      ]
     },
     "metadata": {},
     "output_type": "display_data"
    },
    {
     "data": {
      "application/vnd.jupyter.widget-view+json": {
       "model_id": "ab542e9a928f4e28b5b2bac6df3b059c",
       "version_major": 2,
       "version_minor": 0
      },
      "text/plain": [
       "E3SM-MMF.mlo.0008-02-02-64800.nc:   0%|          | 0.00/1.13M [00:00<?, ?B/s]"
      ]
     },
     "metadata": {},
     "output_type": "display_data"
    },
    {
     "data": {
      "application/vnd.jupyter.widget-view+json": {
       "model_id": "5c22a8f4f6c94677bded3bcf3f4cbbc4",
       "version_major": 2,
       "version_minor": 0
      },
      "text/plain": [
       "E3SM-MMF.mlo.0008-02-02-66000.nc:   0%|          | 0.00/1.13M [00:00<?, ?B/s]"
      ]
     },
     "metadata": {},
     "output_type": "display_data"
    },
    {
     "data": {
      "application/vnd.jupyter.widget-view+json": {
       "model_id": "94ec35ea0d774c99856cb916c5fea21a",
       "version_major": 2,
       "version_minor": 0
      },
      "text/plain": [
       "E3SM-MMF.mlo.0008-02-02-67200.nc:   0%|          | 0.00/1.13M [00:00<?, ?B/s]"
      ]
     },
     "metadata": {},
     "output_type": "display_data"
    },
    {
     "data": {
      "application/vnd.jupyter.widget-view+json": {
       "model_id": "d1029be0a40144ff8b2ce43212400ec7",
       "version_major": 2,
       "version_minor": 0
      },
      "text/plain": [
       "E3SM-MMF.mlo.0008-02-02-68400.nc:   0%|          | 0.00/1.13M [00:00<?, ?B/s]"
      ]
     },
     "metadata": {},
     "output_type": "display_data"
    },
    {
     "data": {
      "application/vnd.jupyter.widget-view+json": {
       "model_id": "6ea4f8908a86468a8a72590b85ab7e10",
       "version_major": 2,
       "version_minor": 0
      },
      "text/plain": [
       "E3SM-MMF.mlo.0008-02-02-69600.nc:   0%|          | 0.00/1.13M [00:00<?, ?B/s]"
      ]
     },
     "metadata": {},
     "output_type": "display_data"
    },
    {
     "data": {
      "application/vnd.jupyter.widget-view+json": {
       "model_id": "0e68be93a53447f7b5bb1bd14a642d46",
       "version_major": 2,
       "version_minor": 0
      },
      "text/plain": [
       "E3SM-MMF.mlo.0008-02-02-70800.nc:   0%|          | 0.00/1.13M [00:00<?, ?B/s]"
      ]
     },
     "metadata": {},
     "output_type": "display_data"
    },
    {
     "data": {
      "application/vnd.jupyter.widget-view+json": {
       "model_id": "1290c645499646b4b5b0383382575fe5",
       "version_major": 2,
       "version_minor": 0
      },
      "text/plain": [
       "E3SM-MMF.mlo.0008-02-02-72000.nc:   0%|          | 0.00/1.13M [00:00<?, ?B/s]"
      ]
     },
     "metadata": {},
     "output_type": "display_data"
    },
    {
     "data": {
      "application/vnd.jupyter.widget-view+json": {
       "model_id": "6f4898ef20e542f6ac3fedafdcb7ce4b",
       "version_major": 2,
       "version_minor": 0
      },
      "text/plain": [
       "E3SM-MMF.mlo.0008-02-02-73200.nc:   0%|          | 0.00/1.13M [00:00<?, ?B/s]"
      ]
     },
     "metadata": {},
     "output_type": "display_data"
    },
    {
     "data": {
      "application/vnd.jupyter.widget-view+json": {
       "model_id": "c329a751d169424fa2db42c370150c51",
       "version_major": 2,
       "version_minor": 0
      },
      "text/plain": [
       "E3SM-MMF.mlo.0008-02-02-74400.nc:   0%|          | 0.00/1.13M [00:00<?, ?B/s]"
      ]
     },
     "metadata": {},
     "output_type": "display_data"
    },
    {
     "data": {
      "application/vnd.jupyter.widget-view+json": {
       "model_id": "21631ae0e4464d1295ea4def4a924897",
       "version_major": 2,
       "version_minor": 0
      },
      "text/plain": [
       "E3SM-MMF.mlo.0008-02-02-75600.nc:   0%|          | 0.00/1.13M [00:00<?, ?B/s]"
      ]
     },
     "metadata": {},
     "output_type": "display_data"
    },
    {
     "data": {
      "application/vnd.jupyter.widget-view+json": {
       "model_id": "85b93f6355b04b548c13db5c013dd484",
       "version_major": 2,
       "version_minor": 0
      },
      "text/plain": [
       "E3SM-MMF.mlo.0008-02-02-76800.nc:   0%|          | 0.00/1.13M [00:00<?, ?B/s]"
      ]
     },
     "metadata": {},
     "output_type": "display_data"
    },
    {
     "data": {
      "application/vnd.jupyter.widget-view+json": {
       "model_id": "ac84520c8e5a4339a83a5063047eec99",
       "version_major": 2,
       "version_minor": 0
      },
      "text/plain": [
       "E3SM-MMF.mlo.0008-02-02-78000.nc:   0%|          | 0.00/1.13M [00:00<?, ?B/s]"
      ]
     },
     "metadata": {},
     "output_type": "display_data"
    },
    {
     "data": {
      "application/vnd.jupyter.widget-view+json": {
       "model_id": "e2a9e37f770a4089919864416c7c1c27",
       "version_major": 2,
       "version_minor": 0
      },
      "text/plain": [
       "E3SM-MMF.mlo.0008-02-02-79200.nc:   0%|          | 0.00/1.13M [00:00<?, ?B/s]"
      ]
     },
     "metadata": {},
     "output_type": "display_data"
    },
    {
     "data": {
      "application/vnd.jupyter.widget-view+json": {
       "model_id": "b68447c29fbc4b8886b3b8eb24966e39",
       "version_major": 2,
       "version_minor": 0
      },
      "text/plain": [
       "E3SM-MMF.mlo.0008-02-02-80400.nc:   0%|          | 0.00/1.13M [00:00<?, ?B/s]"
      ]
     },
     "metadata": {},
     "output_type": "display_data"
    },
    {
     "data": {
      "application/vnd.jupyter.widget-view+json": {
       "model_id": "c747ef414abc4c4a9eebf65503bf2926",
       "version_major": 2,
       "version_minor": 0
      },
      "text/plain": [
       "E3SM-MMF.mlo.0008-02-02-81600.nc:   0%|          | 0.00/1.13M [00:00<?, ?B/s]"
      ]
     },
     "metadata": {},
     "output_type": "display_data"
    },
    {
     "data": {
      "application/vnd.jupyter.widget-view+json": {
       "model_id": "47d90a7d1a774604aaa0b1478c59f9c2",
       "version_major": 2,
       "version_minor": 0
      },
      "text/plain": [
       "E3SM-MMF.mlo.0008-02-02-82800.nc:   0%|          | 0.00/1.13M [00:00<?, ?B/s]"
      ]
     },
     "metadata": {},
     "output_type": "display_data"
    },
    {
     "data": {
      "application/vnd.jupyter.widget-view+json": {
       "model_id": "82572d9294f743b8bbda667bd5803c6b",
       "version_major": 2,
       "version_minor": 0
      },
      "text/plain": [
       "E3SM-MMF.mlo.0008-02-02-84000.nc:   0%|          | 0.00/1.13M [00:00<?, ?B/s]"
      ]
     },
     "metadata": {},
     "output_type": "display_data"
    },
    {
     "data": {
      "application/vnd.jupyter.widget-view+json": {
       "model_id": "20fffa01a06b4d8594852e1c555d6454",
       "version_major": 2,
       "version_minor": 0
      },
      "text/plain": [
       "E3SM-MMF.mlo.0008-02-02-85200.nc:   0%|          | 0.00/1.13M [00:00<?, ?B/s]"
      ]
     },
     "metadata": {},
     "output_type": "display_data"
    },
    {
     "data": {
      "application/vnd.jupyter.widget-view+json": {
       "model_id": "2b4efd594a484e33b0c6b6b5c588c613",
       "version_major": 2,
       "version_minor": 0
      },
      "text/plain": [
       "E3SM-MMF.mlo.0008-02-03-00000.nc:   0%|          | 0.00/1.13M [00:00<?, ?B/s]"
      ]
     },
     "metadata": {},
     "output_type": "display_data"
    },
    {
     "data": {
      "application/vnd.jupyter.widget-view+json": {
       "model_id": "15abd504484a48f0ad242ffbae714bee",
       "version_major": 2,
       "version_minor": 0
      },
      "text/plain": [
       "E3SM-MMF.mlo.0008-02-03-01200.nc:   0%|          | 0.00/1.13M [00:00<?, ?B/s]"
      ]
     },
     "metadata": {},
     "output_type": "display_data"
    },
    {
     "data": {
      "application/vnd.jupyter.widget-view+json": {
       "model_id": "f253ed820c3947338bca498315e21ae0",
       "version_major": 2,
       "version_minor": 0
      },
      "text/plain": [
       "E3SM-MMF.mlo.0008-02-03-02400.nc:   0%|          | 0.00/1.13M [00:00<?, ?B/s]"
      ]
     },
     "metadata": {},
     "output_type": "display_data"
    },
    {
     "data": {
      "application/vnd.jupyter.widget-view+json": {
       "model_id": "adad75f2d400496ba40a593635e91a83",
       "version_major": 2,
       "version_minor": 0
      },
      "text/plain": [
       "E3SM-MMF.mlo.0008-02-03-03600.nc:   0%|          | 0.00/1.13M [00:00<?, ?B/s]"
      ]
     },
     "metadata": {},
     "output_type": "display_data"
    },
    {
     "data": {
      "application/vnd.jupyter.widget-view+json": {
       "model_id": "522fdd60a86142e99c3f5a467f28f46c",
       "version_major": 2,
       "version_minor": 0
      },
      "text/plain": [
       "E3SM-MMF.mlo.0008-02-03-04800.nc:   0%|          | 0.00/1.13M [00:00<?, ?B/s]"
      ]
     },
     "metadata": {},
     "output_type": "display_data"
    },
    {
     "data": {
      "application/vnd.jupyter.widget-view+json": {
       "model_id": "fc32251c849844868ce6e39fe4407a47",
       "version_major": 2,
       "version_minor": 0
      },
      "text/plain": [
       "E3SM-MMF.mlo.0008-02-03-06000.nc:   0%|          | 0.00/1.13M [00:00<?, ?B/s]"
      ]
     },
     "metadata": {},
     "output_type": "display_data"
    },
    {
     "data": {
      "application/vnd.jupyter.widget-view+json": {
       "model_id": "fbb25265b113497ca016bfb7621dde40",
       "version_major": 2,
       "version_minor": 0
      },
      "text/plain": [
       "E3SM-MMF.mlo.0008-02-03-07200.nc:   0%|          | 0.00/1.13M [00:00<?, ?B/s]"
      ]
     },
     "metadata": {},
     "output_type": "display_data"
    },
    {
     "data": {
      "application/vnd.jupyter.widget-view+json": {
       "model_id": "deaf8314f1b84f4a98b221e769a5ecf4",
       "version_major": 2,
       "version_minor": 0
      },
      "text/plain": [
       "E3SM-MMF.mlo.0008-02-03-08400.nc:   0%|          | 0.00/1.13M [00:00<?, ?B/s]"
      ]
     },
     "metadata": {},
     "output_type": "display_data"
    },
    {
     "data": {
      "application/vnd.jupyter.widget-view+json": {
       "model_id": "b9ce3e2bdb9e49048b3081659c196b4d",
       "version_major": 2,
       "version_minor": 0
      },
      "text/plain": [
       "E3SM-MMF.mlo.0008-02-03-09600.nc:   0%|          | 0.00/1.13M [00:00<?, ?B/s]"
      ]
     },
     "metadata": {},
     "output_type": "display_data"
    },
    {
     "data": {
      "application/vnd.jupyter.widget-view+json": {
       "model_id": "9053f6cc8cd847bdb8ce9f33e5897425",
       "version_major": 2,
       "version_minor": 0
      },
      "text/plain": [
       "E3SM-MMF.mlo.0008-02-03-10800.nc:   0%|          | 0.00/1.13M [00:00<?, ?B/s]"
      ]
     },
     "metadata": {},
     "output_type": "display_data"
    },
    {
     "data": {
      "application/vnd.jupyter.widget-view+json": {
       "model_id": "62df5c326e8c48aaae0a493f02acb705",
       "version_major": 2,
       "version_minor": 0
      },
      "text/plain": [
       "E3SM-MMF.mlo.0008-02-03-12000.nc:   0%|          | 0.00/1.13M [00:00<?, ?B/s]"
      ]
     },
     "metadata": {},
     "output_type": "display_data"
    },
    {
     "data": {
      "application/vnd.jupyter.widget-view+json": {
       "model_id": "2565c184cc8d418aba576bda7e7d6279",
       "version_major": 2,
       "version_minor": 0
      },
      "text/plain": [
       "E3SM-MMF.mlo.0008-02-03-13200.nc:   0%|          | 0.00/1.13M [00:00<?, ?B/s]"
      ]
     },
     "metadata": {},
     "output_type": "display_data"
    },
    {
     "data": {
      "application/vnd.jupyter.widget-view+json": {
       "model_id": "8045900f6f5949a8969f3297a7567084",
       "version_major": 2,
       "version_minor": 0
      },
      "text/plain": [
       "E3SM-MMF.mlo.0008-02-03-14400.nc:   0%|          | 0.00/1.13M [00:00<?, ?B/s]"
      ]
     },
     "metadata": {},
     "output_type": "display_data"
    },
    {
     "data": {
      "application/vnd.jupyter.widget-view+json": {
       "model_id": "502a429c914644f699e151bbdcaec0e4",
       "version_major": 2,
       "version_minor": 0
      },
      "text/plain": [
       "E3SM-MMF.mlo.0008-02-03-15600.nc:   0%|          | 0.00/1.13M [00:00<?, ?B/s]"
      ]
     },
     "metadata": {},
     "output_type": "display_data"
    },
    {
     "data": {
      "application/vnd.jupyter.widget-view+json": {
       "model_id": "dc2145f4e0304c6b83d9fa131694fc8a",
       "version_major": 2,
       "version_minor": 0
      },
      "text/plain": [
       "E3SM-MMF.mlo.0008-02-03-16800.nc:   0%|          | 0.00/1.13M [00:00<?, ?B/s]"
      ]
     },
     "metadata": {},
     "output_type": "display_data"
    },
    {
     "data": {
      "application/vnd.jupyter.widget-view+json": {
       "model_id": "e077f12ad2154e1d82aafde21b6b48e8",
       "version_major": 2,
       "version_minor": 0
      },
      "text/plain": [
       "E3SM-MMF.mlo.0008-02-03-18000.nc:   0%|          | 0.00/1.13M [00:00<?, ?B/s]"
      ]
     },
     "metadata": {},
     "output_type": "display_data"
    },
    {
     "data": {
      "application/vnd.jupyter.widget-view+json": {
       "model_id": "d22fb3a130784e8fb15c4e592758c331",
       "version_major": 2,
       "version_minor": 0
      },
      "text/plain": [
       "E3SM-MMF.mlo.0008-02-03-19200.nc:   0%|          | 0.00/1.13M [00:00<?, ?B/s]"
      ]
     },
     "metadata": {},
     "output_type": "display_data"
    },
    {
     "data": {
      "application/vnd.jupyter.widget-view+json": {
       "model_id": "2b6d4f391f2c47209b1d183f6fe655a1",
       "version_major": 2,
       "version_minor": 0
      },
      "text/plain": [
       "E3SM-MMF.mlo.0008-02-03-20400.nc:   0%|          | 0.00/1.13M [00:00<?, ?B/s]"
      ]
     },
     "metadata": {},
     "output_type": "display_data"
    },
    {
     "data": {
      "application/vnd.jupyter.widget-view+json": {
       "model_id": "0ebb22321d5e45f3ad061c1ef34665c4",
       "version_major": 2,
       "version_minor": 0
      },
      "text/plain": [
       "E3SM-MMF.mlo.0008-02-03-21600.nc:   0%|          | 0.00/1.13M [00:00<?, ?B/s]"
      ]
     },
     "metadata": {},
     "output_type": "display_data"
    },
    {
     "data": {
      "application/vnd.jupyter.widget-view+json": {
       "model_id": "38c25f87327b4b85a8a151411d39e3bd",
       "version_major": 2,
       "version_minor": 0
      },
      "text/plain": [
       "E3SM-MMF.mlo.0008-02-03-22800.nc:   0%|          | 0.00/1.13M [00:00<?, ?B/s]"
      ]
     },
     "metadata": {},
     "output_type": "display_data"
    },
    {
     "data": {
      "application/vnd.jupyter.widget-view+json": {
       "model_id": "43258671c9594e5fa2eeb9603643d9ed",
       "version_major": 2,
       "version_minor": 0
      },
      "text/plain": [
       "E3SM-MMF.mlo.0008-02-03-24000.nc:   0%|          | 0.00/1.13M [00:00<?, ?B/s]"
      ]
     },
     "metadata": {},
     "output_type": "display_data"
    },
    {
     "data": {
      "application/vnd.jupyter.widget-view+json": {
       "model_id": "559e8cbce9e84fd09346ded0038776c0",
       "version_major": 2,
       "version_minor": 0
      },
      "text/plain": [
       "E3SM-MMF.mlo.0008-02-03-25200.nc:   0%|          | 0.00/1.13M [00:00<?, ?B/s]"
      ]
     },
     "metadata": {},
     "output_type": "display_data"
    },
    {
     "data": {
      "application/vnd.jupyter.widget-view+json": {
       "model_id": "6ce46682bf3f4026be1a0a3747fb67dc",
       "version_major": 2,
       "version_minor": 0
      },
      "text/plain": [
       "E3SM-MMF.mlo.0008-02-03-26400.nc:   0%|          | 0.00/1.13M [00:00<?, ?B/s]"
      ]
     },
     "metadata": {},
     "output_type": "display_data"
    },
    {
     "data": {
      "application/vnd.jupyter.widget-view+json": {
       "model_id": "e1d9bbc01605420486279d60ee56a8b6",
       "version_major": 2,
       "version_minor": 0
      },
      "text/plain": [
       "E3SM-MMF.mlo.0008-02-03-27600.nc:   0%|          | 0.00/1.13M [00:00<?, ?B/s]"
      ]
     },
     "metadata": {},
     "output_type": "display_data"
    },
    {
     "data": {
      "application/vnd.jupyter.widget-view+json": {
       "model_id": "37c2d3288f5b40269e141ad1720eb2a3",
       "version_major": 2,
       "version_minor": 0
      },
      "text/plain": [
       "E3SM-MMF.mlo.0008-02-03-28800.nc:   0%|          | 0.00/1.13M [00:00<?, ?B/s]"
      ]
     },
     "metadata": {},
     "output_type": "display_data"
    },
    {
     "data": {
      "application/vnd.jupyter.widget-view+json": {
       "model_id": "cd88b234f904400d9aa1b1be0589e2cb",
       "version_major": 2,
       "version_minor": 0
      },
      "text/plain": [
       "E3SM-MMF.mlo.0008-02-03-30000.nc:   0%|          | 0.00/1.13M [00:00<?, ?B/s]"
      ]
     },
     "metadata": {},
     "output_type": "display_data"
    },
    {
     "data": {
      "application/vnd.jupyter.widget-view+json": {
       "model_id": "1ae3c87e4075423f8fe37c5413de6668",
       "version_major": 2,
       "version_minor": 0
      },
      "text/plain": [
       "E3SM-MMF.mlo.0008-02-03-31200.nc:   0%|          | 0.00/1.13M [00:00<?, ?B/s]"
      ]
     },
     "metadata": {},
     "output_type": "display_data"
    },
    {
     "data": {
      "application/vnd.jupyter.widget-view+json": {
       "model_id": "e689e9d5da744a96927c1fc2f58e92ab",
       "version_major": 2,
       "version_minor": 0
      },
      "text/plain": [
       "E3SM-MMF.mlo.0008-02-03-32400.nc:   0%|          | 0.00/1.13M [00:00<?, ?B/s]"
      ]
     },
     "metadata": {},
     "output_type": "display_data"
    },
    {
     "data": {
      "application/vnd.jupyter.widget-view+json": {
       "model_id": "283f80bad4f24b9abc2c07596c92ed35",
       "version_major": 2,
       "version_minor": 0
      },
      "text/plain": [
       "E3SM-MMF.mlo.0008-02-03-33600.nc:   0%|          | 0.00/1.13M [00:00<?, ?B/s]"
      ]
     },
     "metadata": {},
     "output_type": "display_data"
    },
    {
     "data": {
      "application/vnd.jupyter.widget-view+json": {
       "model_id": "9be6e9b185b54382a97364662a5bd188",
       "version_major": 2,
       "version_minor": 0
      },
      "text/plain": [
       "E3SM-MMF.mlo.0008-02-03-34800.nc:   0%|          | 0.00/1.13M [00:00<?, ?B/s]"
      ]
     },
     "metadata": {},
     "output_type": "display_data"
    },
    {
     "data": {
      "application/vnd.jupyter.widget-view+json": {
       "model_id": "7ca3166066bf47939f7d2c166b9c78bd",
       "version_major": 2,
       "version_minor": 0
      },
      "text/plain": [
       "E3SM-MMF.mlo.0008-02-03-36000.nc:   0%|          | 0.00/1.13M [00:00<?, ?B/s]"
      ]
     },
     "metadata": {},
     "output_type": "display_data"
    },
    {
     "data": {
      "application/vnd.jupyter.widget-view+json": {
       "model_id": "c8ee6a8bdf10452ebeae3a7927582b66",
       "version_major": 2,
       "version_minor": 0
      },
      "text/plain": [
       "E3SM-MMF.mlo.0008-02-03-37200.nc:   0%|          | 0.00/1.13M [00:00<?, ?B/s]"
      ]
     },
     "metadata": {},
     "output_type": "display_data"
    },
    {
     "data": {
      "application/vnd.jupyter.widget-view+json": {
       "model_id": "e71e4420e6ed48f18f87ef872b84729e",
       "version_major": 2,
       "version_minor": 0
      },
      "text/plain": [
       "E3SM-MMF.mlo.0008-02-03-38400.nc:   0%|          | 0.00/1.13M [00:00<?, ?B/s]"
      ]
     },
     "metadata": {},
     "output_type": "display_data"
    },
    {
     "data": {
      "application/vnd.jupyter.widget-view+json": {
       "model_id": "6329c0dcca1c455a952e31dea140be2e",
       "version_major": 2,
       "version_minor": 0
      },
      "text/plain": [
       "E3SM-MMF.mlo.0008-02-03-39600.nc:   0%|          | 0.00/1.13M [00:00<?, ?B/s]"
      ]
     },
     "metadata": {},
     "output_type": "display_data"
    },
    {
     "data": {
      "application/vnd.jupyter.widget-view+json": {
       "model_id": "efef9c2ccbca41f2bf3f8b8336cba460",
       "version_major": 2,
       "version_minor": 0
      },
      "text/plain": [
       "E3SM-MMF.mlo.0008-02-03-40800.nc:   0%|          | 0.00/1.13M [00:00<?, ?B/s]"
      ]
     },
     "metadata": {},
     "output_type": "display_data"
    },
    {
     "data": {
      "application/vnd.jupyter.widget-view+json": {
       "model_id": "dc8ebee320f54a769fcfeaaeca46358e",
       "version_major": 2,
       "version_minor": 0
      },
      "text/plain": [
       "E3SM-MMF.mlo.0008-02-03-42000.nc:   0%|          | 0.00/1.13M [00:00<?, ?B/s]"
      ]
     },
     "metadata": {},
     "output_type": "display_data"
    },
    {
     "data": {
      "application/vnd.jupyter.widget-view+json": {
       "model_id": "7e894e28ac4a420d8da3674d15080067",
       "version_major": 2,
       "version_minor": 0
      },
      "text/plain": [
       "E3SM-MMF.mlo.0008-02-03-43200.nc:   0%|          | 0.00/1.13M [00:00<?, ?B/s]"
      ]
     },
     "metadata": {},
     "output_type": "display_data"
    },
    {
     "data": {
      "application/vnd.jupyter.widget-view+json": {
       "model_id": "2aab18e92a334e408bd780a1301ce2d6",
       "version_major": 2,
       "version_minor": 0
      },
      "text/plain": [
       "E3SM-MMF.mlo.0008-02-03-44400.nc:   0%|          | 0.00/1.13M [00:00<?, ?B/s]"
      ]
     },
     "metadata": {},
     "output_type": "display_data"
    },
    {
     "data": {
      "application/vnd.jupyter.widget-view+json": {
       "model_id": "9b1800f0e0834c649842512819ae7c95",
       "version_major": 2,
       "version_minor": 0
      },
      "text/plain": [
       "E3SM-MMF.mlo.0008-02-03-45600.nc:   0%|          | 0.00/1.13M [00:00<?, ?B/s]"
      ]
     },
     "metadata": {},
     "output_type": "display_data"
    },
    {
     "data": {
      "application/vnd.jupyter.widget-view+json": {
       "model_id": "ca981f9fa18c46929a30aee7f561b522",
       "version_major": 2,
       "version_minor": 0
      },
      "text/plain": [
       "E3SM-MMF.mlo.0008-02-03-46800.nc:   0%|          | 0.00/1.13M [00:00<?, ?B/s]"
      ]
     },
     "metadata": {},
     "output_type": "display_data"
    },
    {
     "data": {
      "application/vnd.jupyter.widget-view+json": {
       "model_id": "54a5a70df8fa47fc9785d0dfb5a432cf",
       "version_major": 2,
       "version_minor": 0
      },
      "text/plain": [
       "E3SM-MMF.mlo.0008-02-03-48000.nc:   0%|          | 0.00/1.13M [00:00<?, ?B/s]"
      ]
     },
     "metadata": {},
     "output_type": "display_data"
    },
    {
     "data": {
      "application/vnd.jupyter.widget-view+json": {
       "model_id": "ded68020a8834a048dfdec7b91fc431b",
       "version_major": 2,
       "version_minor": 0
      },
      "text/plain": [
       "E3SM-MMF.mlo.0008-02-03-49200.nc:   0%|          | 0.00/1.13M [00:00<?, ?B/s]"
      ]
     },
     "metadata": {},
     "output_type": "display_data"
    },
    {
     "data": {
      "application/vnd.jupyter.widget-view+json": {
       "model_id": "47bc5de6d5794fc8ac81cb9b6e876233",
       "version_major": 2,
       "version_minor": 0
      },
      "text/plain": [
       "E3SM-MMF.mlo.0008-02-03-50400.nc:   0%|          | 0.00/1.13M [00:00<?, ?B/s]"
      ]
     },
     "metadata": {},
     "output_type": "display_data"
    },
    {
     "data": {
      "application/vnd.jupyter.widget-view+json": {
       "model_id": "a878bbf8162d45caa252fa98a9a777b5",
       "version_major": 2,
       "version_minor": 0
      },
      "text/plain": [
       "E3SM-MMF.mlo.0008-02-03-51600.nc:   0%|          | 0.00/1.13M [00:00<?, ?B/s]"
      ]
     },
     "metadata": {},
     "output_type": "display_data"
    },
    {
     "data": {
      "application/vnd.jupyter.widget-view+json": {
       "model_id": "002fd2d3df5f45218b464160d9ab58f5",
       "version_major": 2,
       "version_minor": 0
      },
      "text/plain": [
       "E3SM-MMF.mlo.0008-02-03-52800.nc:   0%|          | 0.00/1.13M [00:00<?, ?B/s]"
      ]
     },
     "metadata": {},
     "output_type": "display_data"
    },
    {
     "data": {
      "application/vnd.jupyter.widget-view+json": {
       "model_id": "6f2cdd4a1b584958b149f4d1d15a473a",
       "version_major": 2,
       "version_minor": 0
      },
      "text/plain": [
       "E3SM-MMF.mlo.0008-02-03-54000.nc:   0%|          | 0.00/1.13M [00:00<?, ?B/s]"
      ]
     },
     "metadata": {},
     "output_type": "display_data"
    },
    {
     "data": {
      "application/vnd.jupyter.widget-view+json": {
       "model_id": "8280b90e4050429fbdb37f8e475930d5",
       "version_major": 2,
       "version_minor": 0
      },
      "text/plain": [
       "E3SM-MMF.mlo.0008-02-03-55200.nc:   0%|          | 0.00/1.13M [00:00<?, ?B/s]"
      ]
     },
     "metadata": {},
     "output_type": "display_data"
    },
    {
     "data": {
      "application/vnd.jupyter.widget-view+json": {
       "model_id": "822b4921ffa54f58ba463dfced44048b",
       "version_major": 2,
       "version_minor": 0
      },
      "text/plain": [
       "E3SM-MMF.mlo.0008-02-03-56400.nc:   0%|          | 0.00/1.13M [00:00<?, ?B/s]"
      ]
     },
     "metadata": {},
     "output_type": "display_data"
    },
    {
     "data": {
      "application/vnd.jupyter.widget-view+json": {
       "model_id": "ee695479fb754279a2c6ea5b3aacf67d",
       "version_major": 2,
       "version_minor": 0
      },
      "text/plain": [
       "E3SM-MMF.mlo.0008-02-03-57600.nc:   0%|          | 0.00/1.13M [00:00<?, ?B/s]"
      ]
     },
     "metadata": {},
     "output_type": "display_data"
    },
    {
     "data": {
      "application/vnd.jupyter.widget-view+json": {
       "model_id": "d3955a646cf74e3da06866ebf27e8243",
       "version_major": 2,
       "version_minor": 0
      },
      "text/plain": [
       "E3SM-MMF.mlo.0008-02-03-58800.nc:   0%|          | 0.00/1.13M [00:00<?, ?B/s]"
      ]
     },
     "metadata": {},
     "output_type": "display_data"
    },
    {
     "data": {
      "application/vnd.jupyter.widget-view+json": {
       "model_id": "a1b03e4624984b848a052ff70db101ef",
       "version_major": 2,
       "version_minor": 0
      },
      "text/plain": [
       "E3SM-MMF.mlo.0008-02-03-60000.nc:   0%|          | 0.00/1.13M [00:00<?, ?B/s]"
      ]
     },
     "metadata": {},
     "output_type": "display_data"
    },
    {
     "data": {
      "application/vnd.jupyter.widget-view+json": {
       "model_id": "2ac0475702e94e868d2c364dd7d0d856",
       "version_major": 2,
       "version_minor": 0
      },
      "text/plain": [
       "E3SM-MMF.mlo.0008-02-03-61200.nc:   0%|          | 0.00/1.13M [00:00<?, ?B/s]"
      ]
     },
     "metadata": {},
     "output_type": "display_data"
    },
    {
     "data": {
      "application/vnd.jupyter.widget-view+json": {
       "model_id": "fdd4f6e155a2435d80e43433d9414d1d",
       "version_major": 2,
       "version_minor": 0
      },
      "text/plain": [
       "E3SM-MMF.mlo.0008-02-03-62400.nc:   0%|          | 0.00/1.13M [00:00<?, ?B/s]"
      ]
     },
     "metadata": {},
     "output_type": "display_data"
    },
    {
     "data": {
      "application/vnd.jupyter.widget-view+json": {
       "model_id": "54d3a0ac755f4def84d04d483ee67df7",
       "version_major": 2,
       "version_minor": 0
      },
      "text/plain": [
       "E3SM-MMF.mlo.0008-02-03-63600.nc:   0%|          | 0.00/1.13M [00:00<?, ?B/s]"
      ]
     },
     "metadata": {},
     "output_type": "display_data"
    },
    {
     "data": {
      "application/vnd.jupyter.widget-view+json": {
       "model_id": "6c3843cc813c49a8830bb2befec7675c",
       "version_major": 2,
       "version_minor": 0
      },
      "text/plain": [
       "E3SM-MMF.mlo.0008-02-03-64800.nc:   0%|          | 0.00/1.13M [00:00<?, ?B/s]"
      ]
     },
     "metadata": {},
     "output_type": "display_data"
    },
    {
     "data": {
      "application/vnd.jupyter.widget-view+json": {
       "model_id": "4c46d88a08f74fd2bd75ccc245cd6355",
       "version_major": 2,
       "version_minor": 0
      },
      "text/plain": [
       "E3SM-MMF.mlo.0008-02-03-66000.nc:   0%|          | 0.00/1.13M [00:00<?, ?B/s]"
      ]
     },
     "metadata": {},
     "output_type": "display_data"
    },
    {
     "data": {
      "application/vnd.jupyter.widget-view+json": {
       "model_id": "7e5d400d698345eda60ffa986bc71035",
       "version_major": 2,
       "version_minor": 0
      },
      "text/plain": [
       "E3SM-MMF.mlo.0008-02-03-67200.nc:   0%|          | 0.00/1.13M [00:00<?, ?B/s]"
      ]
     },
     "metadata": {},
     "output_type": "display_data"
    },
    {
     "data": {
      "application/vnd.jupyter.widget-view+json": {
       "model_id": "dda3a736f3774bf2a648742d40fd0c0e",
       "version_major": 2,
       "version_minor": 0
      },
      "text/plain": [
       "E3SM-MMF.mlo.0008-02-03-68400.nc:   0%|          | 0.00/1.13M [00:00<?, ?B/s]"
      ]
     },
     "metadata": {},
     "output_type": "display_data"
    },
    {
     "data": {
      "application/vnd.jupyter.widget-view+json": {
       "model_id": "83f9f24215124d57b17fb6cbc9b37971",
       "version_major": 2,
       "version_minor": 0
      },
      "text/plain": [
       "E3SM-MMF.mlo.0008-02-03-69600.nc:   0%|          | 0.00/1.13M [00:00<?, ?B/s]"
      ]
     },
     "metadata": {},
     "output_type": "display_data"
    },
    {
     "data": {
      "application/vnd.jupyter.widget-view+json": {
       "model_id": "e19d363494c84dd58b673eba4ed2afec",
       "version_major": 2,
       "version_minor": 0
      },
      "text/plain": [
       "E3SM-MMF.mlo.0008-02-03-70800.nc:   0%|          | 0.00/1.13M [00:00<?, ?B/s]"
      ]
     },
     "metadata": {},
     "output_type": "display_data"
    },
    {
     "data": {
      "application/vnd.jupyter.widget-view+json": {
       "model_id": "15cac649685b4fcfb0bc7f36cd616faa",
       "version_major": 2,
       "version_minor": 0
      },
      "text/plain": [
       "E3SM-MMF.mlo.0008-02-03-72000.nc:   0%|          | 0.00/1.13M [00:00<?, ?B/s]"
      ]
     },
     "metadata": {},
     "output_type": "display_data"
    },
    {
     "data": {
      "application/vnd.jupyter.widget-view+json": {
       "model_id": "48d2f0ed13154fcdb974e60bf7e4cf44",
       "version_major": 2,
       "version_minor": 0
      },
      "text/plain": [
       "E3SM-MMF.mlo.0008-02-03-73200.nc:   0%|          | 0.00/1.13M [00:00<?, ?B/s]"
      ]
     },
     "metadata": {},
     "output_type": "display_data"
    },
    {
     "data": {
      "application/vnd.jupyter.widget-view+json": {
       "model_id": "e7130adfe25c418bb1009df5a6073a09",
       "version_major": 2,
       "version_minor": 0
      },
      "text/plain": [
       "E3SM-MMF.mlo.0008-02-03-74400.nc:   0%|          | 0.00/1.13M [00:00<?, ?B/s]"
      ]
     },
     "metadata": {},
     "output_type": "display_data"
    },
    {
     "data": {
      "application/vnd.jupyter.widget-view+json": {
       "model_id": "533a12c070524b1292277d4fcefd08a4",
       "version_major": 2,
       "version_minor": 0
      },
      "text/plain": [
       "E3SM-MMF.mlo.0008-02-03-75600.nc:   0%|          | 0.00/1.13M [00:00<?, ?B/s]"
      ]
     },
     "metadata": {},
     "output_type": "display_data"
    },
    {
     "data": {
      "application/vnd.jupyter.widget-view+json": {
       "model_id": "16e356afd4244e37a37b93784729c499",
       "version_major": 2,
       "version_minor": 0
      },
      "text/plain": [
       "E3SM-MMF.mlo.0008-02-03-76800.nc:   0%|          | 0.00/1.13M [00:00<?, ?B/s]"
      ]
     },
     "metadata": {},
     "output_type": "display_data"
    },
    {
     "data": {
      "application/vnd.jupyter.widget-view+json": {
       "model_id": "988af82f3fc2474cb1b942b90da89aab",
       "version_major": 2,
       "version_minor": 0
      },
      "text/plain": [
       "E3SM-MMF.mlo.0008-02-03-78000.nc:   0%|          | 0.00/1.13M [00:00<?, ?B/s]"
      ]
     },
     "metadata": {},
     "output_type": "display_data"
    },
    {
     "data": {
      "application/vnd.jupyter.widget-view+json": {
       "model_id": "c9f442bd019c4dfd983514d8bc697983",
       "version_major": 2,
       "version_minor": 0
      },
      "text/plain": [
       "E3SM-MMF.mlo.0008-02-03-79200.nc:   0%|          | 0.00/1.13M [00:00<?, ?B/s]"
      ]
     },
     "metadata": {},
     "output_type": "display_data"
    },
    {
     "data": {
      "application/vnd.jupyter.widget-view+json": {
       "model_id": "7180e6aeb81b4f6fba615947137d8448",
       "version_major": 2,
       "version_minor": 0
      },
      "text/plain": [
       "E3SM-MMF.mlo.0008-02-03-80400.nc:   0%|          | 0.00/1.13M [00:00<?, ?B/s]"
      ]
     },
     "metadata": {},
     "output_type": "display_data"
    },
    {
     "data": {
      "application/vnd.jupyter.widget-view+json": {
       "model_id": "ab330a91d23741f7bf002c12b5831e33",
       "version_major": 2,
       "version_minor": 0
      },
      "text/plain": [
       "E3SM-MMF.mlo.0008-02-03-81600.nc:   0%|          | 0.00/1.13M [00:00<?, ?B/s]"
      ]
     },
     "metadata": {},
     "output_type": "display_data"
    },
    {
     "data": {
      "application/vnd.jupyter.widget-view+json": {
       "model_id": "22ba8e06165a4a1590399803db53d68a",
       "version_major": 2,
       "version_minor": 0
      },
      "text/plain": [
       "E3SM-MMF.mlo.0008-02-03-82800.nc:   0%|          | 0.00/1.13M [00:00<?, ?B/s]"
      ]
     },
     "metadata": {},
     "output_type": "display_data"
    },
    {
     "data": {
      "application/vnd.jupyter.widget-view+json": {
       "model_id": "16fefad6b75647f689d24c1539266c45",
       "version_major": 2,
       "version_minor": 0
      },
      "text/plain": [
       "E3SM-MMF.mlo.0008-02-03-84000.nc:   0%|          | 0.00/1.13M [00:00<?, ?B/s]"
      ]
     },
     "metadata": {},
     "output_type": "display_data"
    },
    {
     "data": {
      "application/vnd.jupyter.widget-view+json": {
       "model_id": "592f1e26b4d4400499a88454bc17c6c9",
       "version_major": 2,
       "version_minor": 0
      },
      "text/plain": [
       "E3SM-MMF.mlo.0008-02-03-85200.nc:   0%|          | 0.00/1.13M [00:00<?, ?B/s]"
      ]
     },
     "metadata": {},
     "output_type": "display_data"
    },
    {
     "data": {
      "application/vnd.jupyter.widget-view+json": {
       "model_id": "322ea3d63d164f4bb230cb0d24cd9b51",
       "version_major": 2,
       "version_minor": 0
      },
      "text/plain": [
       "E3SM-MMF.mlo.0008-02-04-00000.nc:   0%|          | 0.00/1.13M [00:00<?, ?B/s]"
      ]
     },
     "metadata": {},
     "output_type": "display_data"
    },
    {
     "data": {
      "application/vnd.jupyter.widget-view+json": {
       "model_id": "273c83c8b9dc4b3dad77a70c38e863fb",
       "version_major": 2,
       "version_minor": 0
      },
      "text/plain": [
       "E3SM-MMF.mlo.0008-02-04-01200.nc:   0%|          | 0.00/1.13M [00:00<?, ?B/s]"
      ]
     },
     "metadata": {},
     "output_type": "display_data"
    },
    {
     "data": {
      "application/vnd.jupyter.widget-view+json": {
       "model_id": "474eab8ca95b4e769d00cdf684656f18",
       "version_major": 2,
       "version_minor": 0
      },
      "text/plain": [
       "E3SM-MMF.mlo.0008-02-04-02400.nc:   0%|          | 0.00/1.13M [00:00<?, ?B/s]"
      ]
     },
     "metadata": {},
     "output_type": "display_data"
    },
    {
     "data": {
      "application/vnd.jupyter.widget-view+json": {
       "model_id": "e34dd5d8fda14c4f8bed392f550c8909",
       "version_major": 2,
       "version_minor": 0
      },
      "text/plain": [
       "E3SM-MMF.mlo.0008-02-04-03600.nc:   0%|          | 0.00/1.13M [00:00<?, ?B/s]"
      ]
     },
     "metadata": {},
     "output_type": "display_data"
    },
    {
     "data": {
      "application/vnd.jupyter.widget-view+json": {
       "model_id": "687d1b109d0947d78105fe33a454da0b",
       "version_major": 2,
       "version_minor": 0
      },
      "text/plain": [
       "E3SM-MMF.mlo.0008-02-04-04800.nc:   0%|          | 0.00/1.13M [00:00<?, ?B/s]"
      ]
     },
     "metadata": {},
     "output_type": "display_data"
    },
    {
     "data": {
      "application/vnd.jupyter.widget-view+json": {
       "model_id": "99e6042088f64022bd441e78b8df5696",
       "version_major": 2,
       "version_minor": 0
      },
      "text/plain": [
       "E3SM-MMF.mlo.0008-02-04-06000.nc:   0%|          | 0.00/1.13M [00:00<?, ?B/s]"
      ]
     },
     "metadata": {},
     "output_type": "display_data"
    },
    {
     "data": {
      "application/vnd.jupyter.widget-view+json": {
       "model_id": "6b0c4e374e594c52ac5ed7c6337c1008",
       "version_major": 2,
       "version_minor": 0
      },
      "text/plain": [
       "E3SM-MMF.mlo.0008-02-04-07200.nc:   0%|          | 0.00/1.13M [00:00<?, ?B/s]"
      ]
     },
     "metadata": {},
     "output_type": "display_data"
    },
    {
     "data": {
      "application/vnd.jupyter.widget-view+json": {
       "model_id": "b37d5d0db1674e9b858ca4595add1294",
       "version_major": 2,
       "version_minor": 0
      },
      "text/plain": [
       "E3SM-MMF.mlo.0008-02-04-08400.nc:   0%|          | 0.00/1.13M [00:00<?, ?B/s]"
      ]
     },
     "metadata": {},
     "output_type": "display_data"
    },
    {
     "data": {
      "application/vnd.jupyter.widget-view+json": {
       "model_id": "abbed2ffd82849e7a152560dd5328dc8",
       "version_major": 2,
       "version_minor": 0
      },
      "text/plain": [
       "E3SM-MMF.mlo.0008-02-04-09600.nc:   0%|          | 0.00/1.13M [00:00<?, ?B/s]"
      ]
     },
     "metadata": {},
     "output_type": "display_data"
    },
    {
     "data": {
      "application/vnd.jupyter.widget-view+json": {
       "model_id": "a2a4d125a91c49a98b8d30bcf99d1766",
       "version_major": 2,
       "version_minor": 0
      },
      "text/plain": [
       "E3SM-MMF.mlo.0008-02-04-10800.nc:   0%|          | 0.00/1.13M [00:00<?, ?B/s]"
      ]
     },
     "metadata": {},
     "output_type": "display_data"
    },
    {
     "data": {
      "application/vnd.jupyter.widget-view+json": {
       "model_id": "4ea4d323fa0541ceaed738a53289ff5f",
       "version_major": 2,
       "version_minor": 0
      },
      "text/plain": [
       "E3SM-MMF.mlo.0008-02-04-12000.nc:   0%|          | 0.00/1.13M [00:00<?, ?B/s]"
      ]
     },
     "metadata": {},
     "output_type": "display_data"
    },
    {
     "data": {
      "application/vnd.jupyter.widget-view+json": {
       "model_id": "fdd7cabf76b7420ea0ddb7a3eae8830b",
       "version_major": 2,
       "version_minor": 0
      },
      "text/plain": [
       "E3SM-MMF.mlo.0008-02-04-13200.nc:   0%|          | 0.00/1.13M [00:00<?, ?B/s]"
      ]
     },
     "metadata": {},
     "output_type": "display_data"
    },
    {
     "data": {
      "application/vnd.jupyter.widget-view+json": {
       "model_id": "040be474f4ec4f12b6d8a0513898b97d",
       "version_major": 2,
       "version_minor": 0
      },
      "text/plain": [
       "E3SM-MMF.mlo.0008-02-04-14400.nc:   0%|          | 0.00/1.13M [00:00<?, ?B/s]"
      ]
     },
     "metadata": {},
     "output_type": "display_data"
    },
    {
     "data": {
      "application/vnd.jupyter.widget-view+json": {
       "model_id": "17dd0b6cbb084103b5a4df17c0328824",
       "version_major": 2,
       "version_minor": 0
      },
      "text/plain": [
       "E3SM-MMF.mlo.0008-02-04-15600.nc:   0%|          | 0.00/1.13M [00:00<?, ?B/s]"
      ]
     },
     "metadata": {},
     "output_type": "display_data"
    },
    {
     "data": {
      "application/vnd.jupyter.widget-view+json": {
       "model_id": "fd85bda535234103a7c8d50578c00f6b",
       "version_major": 2,
       "version_minor": 0
      },
      "text/plain": [
       "E3SM-MMF.mlo.0008-02-04-16800.nc:   0%|          | 0.00/1.13M [00:00<?, ?B/s]"
      ]
     },
     "metadata": {},
     "output_type": "display_data"
    },
    {
     "data": {
      "application/vnd.jupyter.widget-view+json": {
       "model_id": "8dc3ad047ebf4d62a6416938507835d6",
       "version_major": 2,
       "version_minor": 0
      },
      "text/plain": [
       "E3SM-MMF.mlo.0008-02-04-18000.nc:   0%|          | 0.00/1.13M [00:00<?, ?B/s]"
      ]
     },
     "metadata": {},
     "output_type": "display_data"
    },
    {
     "data": {
      "application/vnd.jupyter.widget-view+json": {
       "model_id": "518af18fca1848e5ae5697323536a52d",
       "version_major": 2,
       "version_minor": 0
      },
      "text/plain": [
       "E3SM-MMF.mlo.0008-02-04-19200.nc:   0%|          | 0.00/1.13M [00:00<?, ?B/s]"
      ]
     },
     "metadata": {},
     "output_type": "display_data"
    },
    {
     "data": {
      "application/vnd.jupyter.widget-view+json": {
       "model_id": "ac71032d47e84907b5f42baac39b511b",
       "version_major": 2,
       "version_minor": 0
      },
      "text/plain": [
       "E3SM-MMF.mlo.0008-02-04-20400.nc:   0%|          | 0.00/1.13M [00:00<?, ?B/s]"
      ]
     },
     "metadata": {},
     "output_type": "display_data"
    },
    {
     "data": {
      "application/vnd.jupyter.widget-view+json": {
       "model_id": "acdfa105b6844b2fb052b5e66bc8e1d9",
       "version_major": 2,
       "version_minor": 0
      },
      "text/plain": [
       "E3SM-MMF.mlo.0008-02-04-21600.nc:   0%|          | 0.00/1.13M [00:00<?, ?B/s]"
      ]
     },
     "metadata": {},
     "output_type": "display_data"
    },
    {
     "data": {
      "application/vnd.jupyter.widget-view+json": {
       "model_id": "39bf965edfda4e39826993fc0a24d7ce",
       "version_major": 2,
       "version_minor": 0
      },
      "text/plain": [
       "E3SM-MMF.mlo.0008-02-04-22800.nc:   0%|          | 0.00/1.13M [00:00<?, ?B/s]"
      ]
     },
     "metadata": {},
     "output_type": "display_data"
    },
    {
     "data": {
      "application/vnd.jupyter.widget-view+json": {
       "model_id": "dddf1cfdd4414cfb9cf1beb97c2508d8",
       "version_major": 2,
       "version_minor": 0
      },
      "text/plain": [
       "E3SM-MMF.mlo.0008-02-04-24000.nc:   0%|          | 0.00/1.13M [00:00<?, ?B/s]"
      ]
     },
     "metadata": {},
     "output_type": "display_data"
    },
    {
     "data": {
      "application/vnd.jupyter.widget-view+json": {
       "model_id": "eeccbb6eda844ec6b8efc6bf259cdcfc",
       "version_major": 2,
       "version_minor": 0
      },
      "text/plain": [
       "E3SM-MMF.mlo.0008-02-04-25200.nc:   0%|          | 0.00/1.13M [00:00<?, ?B/s]"
      ]
     },
     "metadata": {},
     "output_type": "display_data"
    },
    {
     "data": {
      "application/vnd.jupyter.widget-view+json": {
       "model_id": "682c206b7172424595dc80580924d541",
       "version_major": 2,
       "version_minor": 0
      },
      "text/plain": [
       "E3SM-MMF.mlo.0008-02-04-26400.nc:   0%|          | 0.00/1.13M [00:00<?, ?B/s]"
      ]
     },
     "metadata": {},
     "output_type": "display_data"
    },
    {
     "data": {
      "application/vnd.jupyter.widget-view+json": {
       "model_id": "a4ad7d33b25d49ebb16923a14455c6c2",
       "version_major": 2,
       "version_minor": 0
      },
      "text/plain": [
       "E3SM-MMF.mlo.0008-02-04-27600.nc:   0%|          | 0.00/1.13M [00:00<?, ?B/s]"
      ]
     },
     "metadata": {},
     "output_type": "display_data"
    },
    {
     "data": {
      "application/vnd.jupyter.widget-view+json": {
       "model_id": "e510a0d6d51643e7aec0c118889d4bed",
       "version_major": 2,
       "version_minor": 0
      },
      "text/plain": [
       "E3SM-MMF.mlo.0008-02-04-28800.nc:   0%|          | 0.00/1.13M [00:00<?, ?B/s]"
      ]
     },
     "metadata": {},
     "output_type": "display_data"
    },
    {
     "data": {
      "application/vnd.jupyter.widget-view+json": {
       "model_id": "9f1590581baa47d3b384a956c529048a",
       "version_major": 2,
       "version_minor": 0
      },
      "text/plain": [
       "E3SM-MMF.mlo.0008-02-04-30000.nc:   0%|          | 0.00/1.13M [00:00<?, ?B/s]"
      ]
     },
     "metadata": {},
     "output_type": "display_data"
    },
    {
     "data": {
      "application/vnd.jupyter.widget-view+json": {
       "model_id": "7b9e89ed99a04b859b431b0be84b6e87",
       "version_major": 2,
       "version_minor": 0
      },
      "text/plain": [
       "E3SM-MMF.mlo.0008-02-04-31200.nc:   0%|          | 0.00/1.13M [00:00<?, ?B/s]"
      ]
     },
     "metadata": {},
     "output_type": "display_data"
    },
    {
     "data": {
      "application/vnd.jupyter.widget-view+json": {
       "model_id": "1a88e0f9975d49a4835ea376db6192f6",
       "version_major": 2,
       "version_minor": 0
      },
      "text/plain": [
       "E3SM-MMF.mlo.0008-02-04-32400.nc:   0%|          | 0.00/1.13M [00:00<?, ?B/s]"
      ]
     },
     "metadata": {},
     "output_type": "display_data"
    },
    {
     "data": {
      "application/vnd.jupyter.widget-view+json": {
       "model_id": "fafecbb53b974642899ef64fe99d6960",
       "version_major": 2,
       "version_minor": 0
      },
      "text/plain": [
       "E3SM-MMF.mlo.0008-02-04-33600.nc:   0%|          | 0.00/1.13M [00:00<?, ?B/s]"
      ]
     },
     "metadata": {},
     "output_type": "display_data"
    },
    {
     "data": {
      "application/vnd.jupyter.widget-view+json": {
       "model_id": "23ec5167e387475b90a40cd97cc57fa4",
       "version_major": 2,
       "version_minor": 0
      },
      "text/plain": [
       "E3SM-MMF.mlo.0008-02-04-34800.nc:   0%|          | 0.00/1.13M [00:00<?, ?B/s]"
      ]
     },
     "metadata": {},
     "output_type": "display_data"
    },
    {
     "data": {
      "application/vnd.jupyter.widget-view+json": {
       "model_id": "ae87c0c8f2bb4330a11eda74ba18805a",
       "version_major": 2,
       "version_minor": 0
      },
      "text/plain": [
       "E3SM-MMF.mlo.0008-02-04-36000.nc:   0%|          | 0.00/1.13M [00:00<?, ?B/s]"
      ]
     },
     "metadata": {},
     "output_type": "display_data"
    },
    {
     "data": {
      "application/vnd.jupyter.widget-view+json": {
       "model_id": "5e82cb0ab1804f4993cda1c4857dec4d",
       "version_major": 2,
       "version_minor": 0
      },
      "text/plain": [
       "E3SM-MMF.mlo.0008-02-04-37200.nc:   0%|          | 0.00/1.13M [00:00<?, ?B/s]"
      ]
     },
     "metadata": {},
     "output_type": "display_data"
    },
    {
     "data": {
      "application/vnd.jupyter.widget-view+json": {
       "model_id": "0ad677c1deb64a4593c844fbc041075d",
       "version_major": 2,
       "version_minor": 0
      },
      "text/plain": [
       "E3SM-MMF.mlo.0008-02-04-38400.nc:   0%|          | 0.00/1.13M [00:00<?, ?B/s]"
      ]
     },
     "metadata": {},
     "output_type": "display_data"
    },
    {
     "data": {
      "application/vnd.jupyter.widget-view+json": {
       "model_id": "8b19a6c3307140a38322c1b50ada2027",
       "version_major": 2,
       "version_minor": 0
      },
      "text/plain": [
       "E3SM-MMF.mlo.0008-02-04-39600.nc:   0%|          | 0.00/1.13M [00:00<?, ?B/s]"
      ]
     },
     "metadata": {},
     "output_type": "display_data"
    },
    {
     "data": {
      "application/vnd.jupyter.widget-view+json": {
       "model_id": "febc2daeaf5e4424b0704a8fcae248f0",
       "version_major": 2,
       "version_minor": 0
      },
      "text/plain": [
       "E3SM-MMF.mlo.0008-02-04-40800.nc:   0%|          | 0.00/1.13M [00:00<?, ?B/s]"
      ]
     },
     "metadata": {},
     "output_type": "display_data"
    },
    {
     "data": {
      "application/vnd.jupyter.widget-view+json": {
       "model_id": "b9481f456f62403797dd809caa4b7c30",
       "version_major": 2,
       "version_minor": 0
      },
      "text/plain": [
       "E3SM-MMF.mlo.0008-02-04-42000.nc:   0%|          | 0.00/1.13M [00:00<?, ?B/s]"
      ]
     },
     "metadata": {},
     "output_type": "display_data"
    },
    {
     "data": {
      "application/vnd.jupyter.widget-view+json": {
       "model_id": "ab4d29156204404c88692f84d51430d3",
       "version_major": 2,
       "version_minor": 0
      },
      "text/plain": [
       "E3SM-MMF.mlo.0008-02-04-43200.nc:   0%|          | 0.00/1.13M [00:00<?, ?B/s]"
      ]
     },
     "metadata": {},
     "output_type": "display_data"
    },
    {
     "data": {
      "application/vnd.jupyter.widget-view+json": {
       "model_id": "a7c46aa89fab44a5ae10b5317cb9a769",
       "version_major": 2,
       "version_minor": 0
      },
      "text/plain": [
       "E3SM-MMF.mlo.0008-02-04-44400.nc:   0%|          | 0.00/1.13M [00:00<?, ?B/s]"
      ]
     },
     "metadata": {},
     "output_type": "display_data"
    },
    {
     "data": {
      "application/vnd.jupyter.widget-view+json": {
       "model_id": "70c972965a1e439588ab5a610bdd25bd",
       "version_major": 2,
       "version_minor": 0
      },
      "text/plain": [
       "E3SM-MMF.mlo.0008-02-04-45600.nc:   0%|          | 0.00/1.13M [00:00<?, ?B/s]"
      ]
     },
     "metadata": {},
     "output_type": "display_data"
    },
    {
     "data": {
      "application/vnd.jupyter.widget-view+json": {
       "model_id": "a614a48f8da54dbfa76cd173b02ea7b1",
       "version_major": 2,
       "version_minor": 0
      },
      "text/plain": [
       "E3SM-MMF.mlo.0008-02-04-46800.nc:   0%|          | 0.00/1.13M [00:00<?, ?B/s]"
      ]
     },
     "metadata": {},
     "output_type": "display_data"
    },
    {
     "data": {
      "application/vnd.jupyter.widget-view+json": {
       "model_id": "a1cda438dd764de29be6e22ace198bb7",
       "version_major": 2,
       "version_minor": 0
      },
      "text/plain": [
       "E3SM-MMF.mlo.0008-02-04-48000.nc:   0%|          | 0.00/1.13M [00:00<?, ?B/s]"
      ]
     },
     "metadata": {},
     "output_type": "display_data"
    },
    {
     "data": {
      "application/vnd.jupyter.widget-view+json": {
       "model_id": "5b674ab6ed8e40ccbe66de50733e013c",
       "version_major": 2,
       "version_minor": 0
      },
      "text/plain": [
       "E3SM-MMF.mlo.0008-02-04-49200.nc:   0%|          | 0.00/1.13M [00:00<?, ?B/s]"
      ]
     },
     "metadata": {},
     "output_type": "display_data"
    },
    {
     "data": {
      "application/vnd.jupyter.widget-view+json": {
       "model_id": "7dcbe018d8f7401b8dd11ae6499d32d3",
       "version_major": 2,
       "version_minor": 0
      },
      "text/plain": [
       "E3SM-MMF.mlo.0008-02-04-50400.nc:   0%|          | 0.00/1.13M [00:00<?, ?B/s]"
      ]
     },
     "metadata": {},
     "output_type": "display_data"
    },
    {
     "data": {
      "application/vnd.jupyter.widget-view+json": {
       "model_id": "fde6407e5f03437f85966a5792100759",
       "version_major": 2,
       "version_minor": 0
      },
      "text/plain": [
       "E3SM-MMF.mlo.0008-02-04-51600.nc:   0%|          | 0.00/1.13M [00:00<?, ?B/s]"
      ]
     },
     "metadata": {},
     "output_type": "display_data"
    },
    {
     "data": {
      "application/vnd.jupyter.widget-view+json": {
       "model_id": "d04a13be113c454fbd613945ef7bbbcd",
       "version_major": 2,
       "version_minor": 0
      },
      "text/plain": [
       "E3SM-MMF.mlo.0008-02-04-52800.nc:   0%|          | 0.00/1.13M [00:00<?, ?B/s]"
      ]
     },
     "metadata": {},
     "output_type": "display_data"
    },
    {
     "data": {
      "application/vnd.jupyter.widget-view+json": {
       "model_id": "af94d7b3f8e74d14b5eaac7a2c91ff06",
       "version_major": 2,
       "version_minor": 0
      },
      "text/plain": [
       "E3SM-MMF.mlo.0008-02-04-54000.nc:   0%|          | 0.00/1.13M [00:00<?, ?B/s]"
      ]
     },
     "metadata": {},
     "output_type": "display_data"
    },
    {
     "data": {
      "application/vnd.jupyter.widget-view+json": {
       "model_id": "239e8352f34b40beabadfcdb8df20611",
       "version_major": 2,
       "version_minor": 0
      },
      "text/plain": [
       "E3SM-MMF.mlo.0008-02-04-55200.nc:   0%|          | 0.00/1.13M [00:00<?, ?B/s]"
      ]
     },
     "metadata": {},
     "output_type": "display_data"
    },
    {
     "data": {
      "application/vnd.jupyter.widget-view+json": {
       "model_id": "87b10c777c754dd7936dd6fd45d4c3c8",
       "version_major": 2,
       "version_minor": 0
      },
      "text/plain": [
       "E3SM-MMF.mlo.0008-02-04-56400.nc:   0%|          | 0.00/1.13M [00:00<?, ?B/s]"
      ]
     },
     "metadata": {},
     "output_type": "display_data"
    },
    {
     "data": {
      "application/vnd.jupyter.widget-view+json": {
       "model_id": "47ed68f7781f430591c9c5c1a4909295",
       "version_major": 2,
       "version_minor": 0
      },
      "text/plain": [
       "E3SM-MMF.mlo.0008-02-04-57600.nc:   0%|          | 0.00/1.13M [00:00<?, ?B/s]"
      ]
     },
     "metadata": {},
     "output_type": "display_data"
    },
    {
     "data": {
      "application/vnd.jupyter.widget-view+json": {
       "model_id": "025cde3d4926401581ffdc2a7cf9f8fd",
       "version_major": 2,
       "version_minor": 0
      },
      "text/plain": [
       "E3SM-MMF.mlo.0008-02-04-58800.nc:   0%|          | 0.00/1.13M [00:00<?, ?B/s]"
      ]
     },
     "metadata": {},
     "output_type": "display_data"
    },
    {
     "data": {
      "application/vnd.jupyter.widget-view+json": {
       "model_id": "194563f628de4294bd27314a73ef5665",
       "version_major": 2,
       "version_minor": 0
      },
      "text/plain": [
       "E3SM-MMF.mlo.0008-02-04-60000.nc:   0%|          | 0.00/1.13M [00:00<?, ?B/s]"
      ]
     },
     "metadata": {},
     "output_type": "display_data"
    },
    {
     "data": {
      "application/vnd.jupyter.widget-view+json": {
       "model_id": "2778803d2a594ff09c0d2d9128fe763e",
       "version_major": 2,
       "version_minor": 0
      },
      "text/plain": [
       "E3SM-MMF.mlo.0008-02-04-61200.nc:   0%|          | 0.00/1.13M [00:00<?, ?B/s]"
      ]
     },
     "metadata": {},
     "output_type": "display_data"
    },
    {
     "data": {
      "application/vnd.jupyter.widget-view+json": {
       "model_id": "2f8d4896ddb44427ab80de86ed7be936",
       "version_major": 2,
       "version_minor": 0
      },
      "text/plain": [
       "E3SM-MMF.mlo.0008-02-04-62400.nc:   0%|          | 0.00/1.13M [00:00<?, ?B/s]"
      ]
     },
     "metadata": {},
     "output_type": "display_data"
    },
    {
     "data": {
      "application/vnd.jupyter.widget-view+json": {
       "model_id": "aded60de33b649e8a0d439e68b7a2c34",
       "version_major": 2,
       "version_minor": 0
      },
      "text/plain": [
       "E3SM-MMF.mlo.0008-02-04-63600.nc:   0%|          | 0.00/1.13M [00:00<?, ?B/s]"
      ]
     },
     "metadata": {},
     "output_type": "display_data"
    },
    {
     "data": {
      "application/vnd.jupyter.widget-view+json": {
       "model_id": "b1b4fb89415849aca8d71eb03f30b14a",
       "version_major": 2,
       "version_minor": 0
      },
      "text/plain": [
       "E3SM-MMF.mlo.0008-02-04-64800.nc:   0%|          | 0.00/1.13M [00:00<?, ?B/s]"
      ]
     },
     "metadata": {},
     "output_type": "display_data"
    },
    {
     "data": {
      "application/vnd.jupyter.widget-view+json": {
       "model_id": "99a86aa30e15428f813b0e2b414d59ef",
       "version_major": 2,
       "version_minor": 0
      },
      "text/plain": [
       "E3SM-MMF.mlo.0008-02-04-66000.nc:   0%|          | 0.00/1.13M [00:00<?, ?B/s]"
      ]
     },
     "metadata": {},
     "output_type": "display_data"
    },
    {
     "data": {
      "application/vnd.jupyter.widget-view+json": {
       "model_id": "9c2073f938fb48cea8751fa570249868",
       "version_major": 2,
       "version_minor": 0
      },
      "text/plain": [
       "E3SM-MMF.mlo.0008-02-04-67200.nc:   0%|          | 0.00/1.13M [00:00<?, ?B/s]"
      ]
     },
     "metadata": {},
     "output_type": "display_data"
    },
    {
     "data": {
      "application/vnd.jupyter.widget-view+json": {
       "model_id": "a5677f56f5e74549ad35b8626dbb7eff",
       "version_major": 2,
       "version_minor": 0
      },
      "text/plain": [
       "E3SM-MMF.mlo.0008-02-04-68400.nc:   0%|          | 0.00/1.13M [00:00<?, ?B/s]"
      ]
     },
     "metadata": {},
     "output_type": "display_data"
    },
    {
     "data": {
      "application/vnd.jupyter.widget-view+json": {
       "model_id": "67c4c56c872544cca48f09cb380457cb",
       "version_major": 2,
       "version_minor": 0
      },
      "text/plain": [
       "E3SM-MMF.mlo.0008-02-04-69600.nc:   0%|          | 0.00/1.13M [00:00<?, ?B/s]"
      ]
     },
     "metadata": {},
     "output_type": "display_data"
    },
    {
     "data": {
      "application/vnd.jupyter.widget-view+json": {
       "model_id": "74aa09bebf8545c7a11109de43363557",
       "version_major": 2,
       "version_minor": 0
      },
      "text/plain": [
       "E3SM-MMF.mlo.0008-02-04-70800.nc:   0%|          | 0.00/1.13M [00:00<?, ?B/s]"
      ]
     },
     "metadata": {},
     "output_type": "display_data"
    },
    {
     "data": {
      "application/vnd.jupyter.widget-view+json": {
       "model_id": "41c7962219ab426fa6c4da94f7d2317b",
       "version_major": 2,
       "version_minor": 0
      },
      "text/plain": [
       "E3SM-MMF.mlo.0008-02-04-72000.nc:   0%|          | 0.00/1.13M [00:00<?, ?B/s]"
      ]
     },
     "metadata": {},
     "output_type": "display_data"
    },
    {
     "data": {
      "application/vnd.jupyter.widget-view+json": {
       "model_id": "e2a1276617f2467f844aa9c536ea18b7",
       "version_major": 2,
       "version_minor": 0
      },
      "text/plain": [
       "E3SM-MMF.mlo.0008-02-04-73200.nc:   0%|          | 0.00/1.13M [00:00<?, ?B/s]"
      ]
     },
     "metadata": {},
     "output_type": "display_data"
    },
    {
     "data": {
      "application/vnd.jupyter.widget-view+json": {
       "model_id": "6a04ea1b4a3d422eadfc2bf4197578ca",
       "version_major": 2,
       "version_minor": 0
      },
      "text/plain": [
       "E3SM-MMF.mlo.0008-02-04-74400.nc:   0%|          | 0.00/1.13M [00:00<?, ?B/s]"
      ]
     },
     "metadata": {},
     "output_type": "display_data"
    },
    {
     "data": {
      "application/vnd.jupyter.widget-view+json": {
       "model_id": "87bc0273348f4823932d5ba4f2107270",
       "version_major": 2,
       "version_minor": 0
      },
      "text/plain": [
       "E3SM-MMF.mlo.0008-02-04-75600.nc:   0%|          | 0.00/1.13M [00:00<?, ?B/s]"
      ]
     },
     "metadata": {},
     "output_type": "display_data"
    },
    {
     "data": {
      "application/vnd.jupyter.widget-view+json": {
       "model_id": "8a6a970d5a374a2fbe2013eab9fb2de1",
       "version_major": 2,
       "version_minor": 0
      },
      "text/plain": [
       "E3SM-MMF.mlo.0008-02-04-76800.nc:   0%|          | 0.00/1.13M [00:00<?, ?B/s]"
      ]
     },
     "metadata": {},
     "output_type": "display_data"
    },
    {
     "data": {
      "application/vnd.jupyter.widget-view+json": {
       "model_id": "2acee61df2874e9587993af760392cde",
       "version_major": 2,
       "version_minor": 0
      },
      "text/plain": [
       "E3SM-MMF.mlo.0008-02-04-78000.nc:   0%|          | 0.00/1.13M [00:00<?, ?B/s]"
      ]
     },
     "metadata": {},
     "output_type": "display_data"
    },
    {
     "data": {
      "application/vnd.jupyter.widget-view+json": {
       "model_id": "8e8c5b16f73f461bbc3d52443864d8b0",
       "version_major": 2,
       "version_minor": 0
      },
      "text/plain": [
       "E3SM-MMF.mlo.0008-02-04-79200.nc:   0%|          | 0.00/1.13M [00:00<?, ?B/s]"
      ]
     },
     "metadata": {},
     "output_type": "display_data"
    },
    {
     "data": {
      "application/vnd.jupyter.widget-view+json": {
       "model_id": "ca911483726d4e9b9224a58937e455de",
       "version_major": 2,
       "version_minor": 0
      },
      "text/plain": [
       "E3SM-MMF.mlo.0008-02-04-80400.nc:   0%|          | 0.00/1.13M [00:00<?, ?B/s]"
      ]
     },
     "metadata": {},
     "output_type": "display_data"
    },
    {
     "data": {
      "application/vnd.jupyter.widget-view+json": {
       "model_id": "ae020d28d39d441e830e1f782336015c",
       "version_major": 2,
       "version_minor": 0
      },
      "text/plain": [
       "E3SM-MMF.mlo.0008-02-04-81600.nc:   0%|          | 0.00/1.13M [00:00<?, ?B/s]"
      ]
     },
     "metadata": {},
     "output_type": "display_data"
    },
    {
     "data": {
      "application/vnd.jupyter.widget-view+json": {
       "model_id": "43e2523838224acab77271264cb6c06d",
       "version_major": 2,
       "version_minor": 0
      },
      "text/plain": [
       "E3SM-MMF.mlo.0008-02-04-82800.nc:   0%|          | 0.00/1.13M [00:00<?, ?B/s]"
      ]
     },
     "metadata": {},
     "output_type": "display_data"
    },
    {
     "data": {
      "application/vnd.jupyter.widget-view+json": {
       "model_id": "7e9ccb1e45c345f681654d378030f4f4",
       "version_major": 2,
       "version_minor": 0
      },
      "text/plain": [
       "E3SM-MMF.mlo.0008-02-04-84000.nc:   0%|          | 0.00/1.13M [00:00<?, ?B/s]"
      ]
     },
     "metadata": {},
     "output_type": "display_data"
    },
    {
     "data": {
      "application/vnd.jupyter.widget-view+json": {
       "model_id": "2aa7db08fbb540eeb227e9f58c9acc83",
       "version_major": 2,
       "version_minor": 0
      },
      "text/plain": [
       "E3SM-MMF.mlo.0008-02-04-85200.nc:   0%|          | 0.00/1.13M [00:01<?, ?B/s]"
      ]
     },
     "metadata": {},
     "output_type": "display_data"
    },
    {
     "data": {
      "application/vnd.jupyter.widget-view+json": {
       "model_id": "ca5814e1cd1642e7b120d0b05683eb41",
       "version_major": 2,
       "version_minor": 0
      },
      "text/plain": [
       "E3SM-MMF.mlo.0008-02-05-00000.nc:   0%|          | 0.00/1.13M [00:00<?, ?B/s]"
      ]
     },
     "metadata": {},
     "output_type": "display_data"
    },
    {
     "data": {
      "application/vnd.jupyter.widget-view+json": {
       "model_id": "1e0700bdf0484f308682dd6196c0b58d",
       "version_major": 2,
       "version_minor": 0
      },
      "text/plain": [
       "E3SM-MMF.mlo.0008-02-05-01200.nc:   0%|          | 0.00/1.13M [00:00<?, ?B/s]"
      ]
     },
     "metadata": {},
     "output_type": "display_data"
    },
    {
     "data": {
      "application/vnd.jupyter.widget-view+json": {
       "model_id": "72b96ae72c7d4133a4330bbe1ce7dc00",
       "version_major": 2,
       "version_minor": 0
      },
      "text/plain": [
       "E3SM-MMF.mlo.0008-02-05-02400.nc:   0%|          | 0.00/1.13M [00:00<?, ?B/s]"
      ]
     },
     "metadata": {},
     "output_type": "display_data"
    },
    {
     "data": {
      "application/vnd.jupyter.widget-view+json": {
       "model_id": "578302705624405ca5e2a604bc926840",
       "version_major": 2,
       "version_minor": 0
      },
      "text/plain": [
       "E3SM-MMF.mlo.0008-02-05-03600.nc:   0%|          | 0.00/1.13M [00:00<?, ?B/s]"
      ]
     },
     "metadata": {},
     "output_type": "display_data"
    },
    {
     "data": {
      "application/vnd.jupyter.widget-view+json": {
       "model_id": "130982aa5535490a812b2b5bcd7e033f",
       "version_major": 2,
       "version_minor": 0
      },
      "text/plain": [
       "E3SM-MMF.mlo.0008-02-05-04800.nc:   0%|          | 0.00/1.13M [00:00<?, ?B/s]"
      ]
     },
     "metadata": {},
     "output_type": "display_data"
    },
    {
     "data": {
      "application/vnd.jupyter.widget-view+json": {
       "model_id": "205367e055ea4421aeb02730df5e3a77",
       "version_major": 2,
       "version_minor": 0
      },
      "text/plain": [
       "E3SM-MMF.mlo.0008-02-05-06000.nc:   0%|          | 0.00/1.13M [00:00<?, ?B/s]"
      ]
     },
     "metadata": {},
     "output_type": "display_data"
    },
    {
     "data": {
      "application/vnd.jupyter.widget-view+json": {
       "model_id": "da45dd0673544e52a9aea7fa8c2f8eb3",
       "version_major": 2,
       "version_minor": 0
      },
      "text/plain": [
       "E3SM-MMF.mlo.0008-02-05-07200.nc:   0%|          | 0.00/1.13M [00:00<?, ?B/s]"
      ]
     },
     "metadata": {},
     "output_type": "display_data"
    },
    {
     "data": {
      "application/vnd.jupyter.widget-view+json": {
       "model_id": "4ac8f58514e9423abec2d44f3f5f5a03",
       "version_major": 2,
       "version_minor": 0
      },
      "text/plain": [
       "E3SM-MMF.mlo.0008-02-05-08400.nc:   0%|          | 0.00/1.13M [00:00<?, ?B/s]"
      ]
     },
     "metadata": {},
     "output_type": "display_data"
    },
    {
     "data": {
      "application/vnd.jupyter.widget-view+json": {
       "model_id": "3c853d26f708407dbf15086aa67440a6",
       "version_major": 2,
       "version_minor": 0
      },
      "text/plain": [
       "E3SM-MMF.mlo.0008-02-05-09600.nc:   0%|          | 0.00/1.13M [00:00<?, ?B/s]"
      ]
     },
     "metadata": {},
     "output_type": "display_data"
    },
    {
     "data": {
      "application/vnd.jupyter.widget-view+json": {
       "model_id": "3767256f1fff4f92a8fb4181b066103a",
       "version_major": 2,
       "version_minor": 0
      },
      "text/plain": [
       "E3SM-MMF.mlo.0008-02-05-10800.nc:   0%|          | 0.00/1.13M [00:00<?, ?B/s]"
      ]
     },
     "metadata": {},
     "output_type": "display_data"
    },
    {
     "data": {
      "application/vnd.jupyter.widget-view+json": {
       "model_id": "61820dd03b254c8794fe583fe02ad4e9",
       "version_major": 2,
       "version_minor": 0
      },
      "text/plain": [
       "E3SM-MMF.mlo.0008-02-05-12000.nc:   0%|          | 0.00/1.13M [00:00<?, ?B/s]"
      ]
     },
     "metadata": {},
     "output_type": "display_data"
    },
    {
     "data": {
      "application/vnd.jupyter.widget-view+json": {
       "model_id": "482848107ed14d6a8bdada7edb043c90",
       "version_major": 2,
       "version_minor": 0
      },
      "text/plain": [
       "E3SM-MMF.mlo.0008-02-05-13200.nc:   0%|          | 0.00/1.13M [00:00<?, ?B/s]"
      ]
     },
     "metadata": {},
     "output_type": "display_data"
    },
    {
     "data": {
      "application/vnd.jupyter.widget-view+json": {
       "model_id": "7e8f4cb55b104107b48c52f51159990b",
       "version_major": 2,
       "version_minor": 0
      },
      "text/plain": [
       "E3SM-MMF.mlo.0008-02-05-14400.nc:   0%|          | 0.00/1.13M [00:00<?, ?B/s]"
      ]
     },
     "metadata": {},
     "output_type": "display_data"
    },
    {
     "data": {
      "application/vnd.jupyter.widget-view+json": {
       "model_id": "b4f4dcc818a843339468c43539161c01",
       "version_major": 2,
       "version_minor": 0
      },
      "text/plain": [
       "E3SM-MMF.mlo.0008-02-05-15600.nc:   0%|          | 0.00/1.13M [00:00<?, ?B/s]"
      ]
     },
     "metadata": {},
     "output_type": "display_data"
    },
    {
     "data": {
      "application/vnd.jupyter.widget-view+json": {
       "model_id": "d467974b0963426fb2477d4252b76dfc",
       "version_major": 2,
       "version_minor": 0
      },
      "text/plain": [
       "E3SM-MMF.mlo.0008-02-05-16800.nc:   0%|          | 0.00/1.13M [00:00<?, ?B/s]"
      ]
     },
     "metadata": {},
     "output_type": "display_data"
    },
    {
     "data": {
      "application/vnd.jupyter.widget-view+json": {
       "model_id": "f7e9e96e7c2143d0b75e6fd1c2946e83",
       "version_major": 2,
       "version_minor": 0
      },
      "text/plain": [
       "E3SM-MMF.mlo.0008-02-05-18000.nc:   0%|          | 0.00/1.13M [00:00<?, ?B/s]"
      ]
     },
     "metadata": {},
     "output_type": "display_data"
    },
    {
     "data": {
      "application/vnd.jupyter.widget-view+json": {
       "model_id": "4a69415081314b929065b4d60a9f4ace",
       "version_major": 2,
       "version_minor": 0
      },
      "text/plain": [
       "E3SM-MMF.mlo.0008-02-05-19200.nc:   0%|          | 0.00/1.13M [00:00<?, ?B/s]"
      ]
     },
     "metadata": {},
     "output_type": "display_data"
    },
    {
     "data": {
      "application/vnd.jupyter.widget-view+json": {
       "model_id": "cec3fba027914742ab8f3e074acbefc0",
       "version_major": 2,
       "version_minor": 0
      },
      "text/plain": [
       "E3SM-MMF.mlo.0008-02-05-20400.nc:   0%|          | 0.00/1.13M [00:00<?, ?B/s]"
      ]
     },
     "metadata": {},
     "output_type": "display_data"
    },
    {
     "data": {
      "application/vnd.jupyter.widget-view+json": {
       "model_id": "2eb8d00e7ee84a65b7faea77780ef036",
       "version_major": 2,
       "version_minor": 0
      },
      "text/plain": [
       "E3SM-MMF.mlo.0008-02-05-21600.nc:   0%|          | 0.00/1.13M [00:00<?, ?B/s]"
      ]
     },
     "metadata": {},
     "output_type": "display_data"
    },
    {
     "data": {
      "application/vnd.jupyter.widget-view+json": {
       "model_id": "4c3cf065d7c94f4586869e94ef9f7752",
       "version_major": 2,
       "version_minor": 0
      },
      "text/plain": [
       "E3SM-MMF.mlo.0008-02-05-22800.nc:   0%|          | 0.00/1.13M [00:00<?, ?B/s]"
      ]
     },
     "metadata": {},
     "output_type": "display_data"
    },
    {
     "data": {
      "application/vnd.jupyter.widget-view+json": {
       "model_id": "052d8353c0bb4bde9610d7386606701c",
       "version_major": 2,
       "version_minor": 0
      },
      "text/plain": [
       "E3SM-MMF.mlo.0008-02-05-24000.nc:   0%|          | 0.00/1.13M [00:00<?, ?B/s]"
      ]
     },
     "metadata": {},
     "output_type": "display_data"
    },
    {
     "data": {
      "application/vnd.jupyter.widget-view+json": {
       "model_id": "51e810eb8234426ab5bf1c9c6e321068",
       "version_major": 2,
       "version_minor": 0
      },
      "text/plain": [
       "E3SM-MMF.mlo.0008-02-05-25200.nc:   0%|          | 0.00/1.13M [00:00<?, ?B/s]"
      ]
     },
     "metadata": {},
     "output_type": "display_data"
    },
    {
     "data": {
      "application/vnd.jupyter.widget-view+json": {
       "model_id": "b15befc79da64ce6a9ce5e0a94354d5a",
       "version_major": 2,
       "version_minor": 0
      },
      "text/plain": [
       "E3SM-MMF.mlo.0008-02-05-26400.nc:   0%|          | 0.00/1.13M [00:00<?, ?B/s]"
      ]
     },
     "metadata": {},
     "output_type": "display_data"
    },
    {
     "data": {
      "application/vnd.jupyter.widget-view+json": {
       "model_id": "a31b6fb3b5444e25a1d055534bcf59ee",
       "version_major": 2,
       "version_minor": 0
      },
      "text/plain": [
       "E3SM-MMF.mlo.0008-02-05-27600.nc:   0%|          | 0.00/1.13M [00:00<?, ?B/s]"
      ]
     },
     "metadata": {},
     "output_type": "display_data"
    },
    {
     "data": {
      "application/vnd.jupyter.widget-view+json": {
       "model_id": "5341b5e59b3d4defb3efcd8b7a399215",
       "version_major": 2,
       "version_minor": 0
      },
      "text/plain": [
       "E3SM-MMF.mlo.0008-02-05-28800.nc:   0%|          | 0.00/1.13M [00:00<?, ?B/s]"
      ]
     },
     "metadata": {},
     "output_type": "display_data"
    },
    {
     "data": {
      "application/vnd.jupyter.widget-view+json": {
       "model_id": "29c25814a1a546e3aa9e713c4a5b3add",
       "version_major": 2,
       "version_minor": 0
      },
      "text/plain": [
       "E3SM-MMF.mlo.0008-02-05-30000.nc:   0%|          | 0.00/1.13M [00:00<?, ?B/s]"
      ]
     },
     "metadata": {},
     "output_type": "display_data"
    },
    {
     "data": {
      "application/vnd.jupyter.widget-view+json": {
       "model_id": "093a998bd95c4e85a0f0a3072f072b62",
       "version_major": 2,
       "version_minor": 0
      },
      "text/plain": [
       "E3SM-MMF.mlo.0008-02-05-31200.nc:   0%|          | 0.00/1.13M [00:00<?, ?B/s]"
      ]
     },
     "metadata": {},
     "output_type": "display_data"
    },
    {
     "data": {
      "application/vnd.jupyter.widget-view+json": {
       "model_id": "0e9905534f8c46ba9b529131be38a46a",
       "version_major": 2,
       "version_minor": 0
      },
      "text/plain": [
       "E3SM-MMF.mlo.0008-02-05-32400.nc:   0%|          | 0.00/1.13M [00:00<?, ?B/s]"
      ]
     },
     "metadata": {},
     "output_type": "display_data"
    },
    {
     "data": {
      "application/vnd.jupyter.widget-view+json": {
       "model_id": "feea882fb9374341a1954f8e411954af",
       "version_major": 2,
       "version_minor": 0
      },
      "text/plain": [
       "E3SM-MMF.mlo.0008-02-05-33600.nc:   0%|          | 0.00/1.13M [00:00<?, ?B/s]"
      ]
     },
     "metadata": {},
     "output_type": "display_data"
    },
    {
     "data": {
      "application/vnd.jupyter.widget-view+json": {
       "model_id": "d54fe74beceb42a69af43b0c906768c4",
       "version_major": 2,
       "version_minor": 0
      },
      "text/plain": [
       "E3SM-MMF.mlo.0008-02-05-34800.nc:   0%|          | 0.00/1.13M [00:00<?, ?B/s]"
      ]
     },
     "metadata": {},
     "output_type": "display_data"
    },
    {
     "data": {
      "application/vnd.jupyter.widget-view+json": {
       "model_id": "6d55ef12722841aca9eb19ad8d808bef",
       "version_major": 2,
       "version_minor": 0
      },
      "text/plain": [
       "E3SM-MMF.mlo.0008-02-05-36000.nc:   0%|          | 0.00/1.13M [00:00<?, ?B/s]"
      ]
     },
     "metadata": {},
     "output_type": "display_data"
    },
    {
     "data": {
      "application/vnd.jupyter.widget-view+json": {
       "model_id": "8a755a00b03a415cb99555577ee730d4",
       "version_major": 2,
       "version_minor": 0
      },
      "text/plain": [
       "E3SM-MMF.mlo.0008-02-05-37200.nc:   0%|          | 0.00/1.13M [00:00<?, ?B/s]"
      ]
     },
     "metadata": {},
     "output_type": "display_data"
    },
    {
     "data": {
      "application/vnd.jupyter.widget-view+json": {
       "model_id": "15840eee475346b584811520a43889fd",
       "version_major": 2,
       "version_minor": 0
      },
      "text/plain": [
       "E3SM-MMF.mlo.0008-02-05-38400.nc:   0%|          | 0.00/1.13M [00:00<?, ?B/s]"
      ]
     },
     "metadata": {},
     "output_type": "display_data"
    },
    {
     "data": {
      "application/vnd.jupyter.widget-view+json": {
       "model_id": "7cc5152d1a82479b9cd00ad6fd1660f6",
       "version_major": 2,
       "version_minor": 0
      },
      "text/plain": [
       "E3SM-MMF.mlo.0008-02-05-39600.nc:   0%|          | 0.00/1.13M [00:00<?, ?B/s]"
      ]
     },
     "metadata": {},
     "output_type": "display_data"
    },
    {
     "data": {
      "application/vnd.jupyter.widget-view+json": {
       "model_id": "7a687174fdd84fca9b628d34c3bd1eb1",
       "version_major": 2,
       "version_minor": 0
      },
      "text/plain": [
       "E3SM-MMF.mlo.0008-02-05-40800.nc:   0%|          | 0.00/1.13M [00:00<?, ?B/s]"
      ]
     },
     "metadata": {},
     "output_type": "display_data"
    },
    {
     "data": {
      "application/vnd.jupyter.widget-view+json": {
       "model_id": "20395a6d38ca4ff7b3cbfb447d6d2eba",
       "version_major": 2,
       "version_minor": 0
      },
      "text/plain": [
       "E3SM-MMF.mlo.0008-02-05-42000.nc:   0%|          | 0.00/1.13M [00:00<?, ?B/s]"
      ]
     },
     "metadata": {},
     "output_type": "display_data"
    },
    {
     "data": {
      "application/vnd.jupyter.widget-view+json": {
       "model_id": "6cfdf68c046d4dd8b9f5feb185959638",
       "version_major": 2,
       "version_minor": 0
      },
      "text/plain": [
       "E3SM-MMF.mlo.0008-02-05-43200.nc:   0%|          | 0.00/1.13M [00:00<?, ?B/s]"
      ]
     },
     "metadata": {},
     "output_type": "display_data"
    },
    {
     "data": {
      "application/vnd.jupyter.widget-view+json": {
       "model_id": "50adf2a4c4324691ac0be488522c5ec3",
       "version_major": 2,
       "version_minor": 0
      },
      "text/plain": [
       "E3SM-MMF.mlo.0008-02-05-44400.nc:   0%|          | 0.00/1.13M [00:00<?, ?B/s]"
      ]
     },
     "metadata": {},
     "output_type": "display_data"
    },
    {
     "data": {
      "application/vnd.jupyter.widget-view+json": {
       "model_id": "62f7f65996cc4f32b2e109ef6ae52af5",
       "version_major": 2,
       "version_minor": 0
      },
      "text/plain": [
       "E3SM-MMF.mlo.0008-02-05-45600.nc:   0%|          | 0.00/1.13M [00:00<?, ?B/s]"
      ]
     },
     "metadata": {},
     "output_type": "display_data"
    },
    {
     "data": {
      "application/vnd.jupyter.widget-view+json": {
       "model_id": "712d3f790e8b47ea9f7e766b3156eae7",
       "version_major": 2,
       "version_minor": 0
      },
      "text/plain": [
       "E3SM-MMF.mlo.0008-02-05-46800.nc:   0%|          | 0.00/1.13M [00:00<?, ?B/s]"
      ]
     },
     "metadata": {},
     "output_type": "display_data"
    },
    {
     "data": {
      "application/vnd.jupyter.widget-view+json": {
       "model_id": "8add998506594783ad2ccf547bc388cc",
       "version_major": 2,
       "version_minor": 0
      },
      "text/plain": [
       "E3SM-MMF.mlo.0008-02-05-48000.nc:   0%|          | 0.00/1.13M [00:00<?, ?B/s]"
      ]
     },
     "metadata": {},
     "output_type": "display_data"
    },
    {
     "data": {
      "application/vnd.jupyter.widget-view+json": {
       "model_id": "dbd2190a438a4ea5be01a944eacec376",
       "version_major": 2,
       "version_minor": 0
      },
      "text/plain": [
       "E3SM-MMF.mlo.0008-02-05-49200.nc:   0%|          | 0.00/1.13M [00:00<?, ?B/s]"
      ]
     },
     "metadata": {},
     "output_type": "display_data"
    },
    {
     "data": {
      "application/vnd.jupyter.widget-view+json": {
       "model_id": "e61cd9ffedfc4573b9a6cdf3fca1d6a2",
       "version_major": 2,
       "version_minor": 0
      },
      "text/plain": [
       "E3SM-MMF.mlo.0008-02-05-50400.nc:   0%|          | 0.00/1.13M [00:00<?, ?B/s]"
      ]
     },
     "metadata": {},
     "output_type": "display_data"
    },
    {
     "data": {
      "application/vnd.jupyter.widget-view+json": {
       "model_id": "d634174a55a04e759cdd1382a289de15",
       "version_major": 2,
       "version_minor": 0
      },
      "text/plain": [
       "E3SM-MMF.mlo.0008-02-05-51600.nc:   0%|          | 0.00/1.13M [00:00<?, ?B/s]"
      ]
     },
     "metadata": {},
     "output_type": "display_data"
    },
    {
     "data": {
      "application/vnd.jupyter.widget-view+json": {
       "model_id": "f58efae3c74b42bd989f4e1fa9e30009",
       "version_major": 2,
       "version_minor": 0
      },
      "text/plain": [
       "E3SM-MMF.mlo.0008-02-05-52800.nc:   0%|          | 0.00/1.13M [00:00<?, ?B/s]"
      ]
     },
     "metadata": {},
     "output_type": "display_data"
    },
    {
     "data": {
      "application/vnd.jupyter.widget-view+json": {
       "model_id": "33d4c2262ff24da89bc27702b111a501",
       "version_major": 2,
       "version_minor": 0
      },
      "text/plain": [
       "E3SM-MMF.mlo.0008-02-05-54000.nc:   0%|          | 0.00/1.13M [00:00<?, ?B/s]"
      ]
     },
     "metadata": {},
     "output_type": "display_data"
    },
    {
     "data": {
      "application/vnd.jupyter.widget-view+json": {
       "model_id": "d919209325a948b69b5f693bb8eec75d",
       "version_major": 2,
       "version_minor": 0
      },
      "text/plain": [
       "E3SM-MMF.mlo.0008-02-05-55200.nc:   0%|          | 0.00/1.13M [00:00<?, ?B/s]"
      ]
     },
     "metadata": {},
     "output_type": "display_data"
    },
    {
     "data": {
      "application/vnd.jupyter.widget-view+json": {
       "model_id": "21a42f8251b942b882bd2f3b13ac70be",
       "version_major": 2,
       "version_minor": 0
      },
      "text/plain": [
       "E3SM-MMF.mlo.0008-02-05-56400.nc:   0%|          | 0.00/1.13M [00:00<?, ?B/s]"
      ]
     },
     "metadata": {},
     "output_type": "display_data"
    },
    {
     "data": {
      "application/vnd.jupyter.widget-view+json": {
       "model_id": "02052f05ae4d4445b1dda4d39dbe3472",
       "version_major": 2,
       "version_minor": 0
      },
      "text/plain": [
       "E3SM-MMF.mlo.0008-02-05-57600.nc:   0%|          | 0.00/1.13M [00:00<?, ?B/s]"
      ]
     },
     "metadata": {},
     "output_type": "display_data"
    },
    {
     "data": {
      "application/vnd.jupyter.widget-view+json": {
       "model_id": "ef07328e743d4d8f8fab1ea36367ed3a",
       "version_major": 2,
       "version_minor": 0
      },
      "text/plain": [
       "E3SM-MMF.mlo.0008-02-05-58800.nc:   0%|          | 0.00/1.13M [00:00<?, ?B/s]"
      ]
     },
     "metadata": {},
     "output_type": "display_data"
    },
    {
     "data": {
      "application/vnd.jupyter.widget-view+json": {
       "model_id": "3c5f085d7331433d9074aa1f749c0774",
       "version_major": 2,
       "version_minor": 0
      },
      "text/plain": [
       "E3SM-MMF.mlo.0008-02-05-60000.nc:   0%|          | 0.00/1.13M [00:00<?, ?B/s]"
      ]
     },
     "metadata": {},
     "output_type": "display_data"
    },
    {
     "data": {
      "application/vnd.jupyter.widget-view+json": {
       "model_id": "d84aa596c9954adabbbdfba30e25a1fd",
       "version_major": 2,
       "version_minor": 0
      },
      "text/plain": [
       "E3SM-MMF.mlo.0008-02-05-61200.nc:   0%|          | 0.00/1.13M [00:00<?, ?B/s]"
      ]
     },
     "metadata": {},
     "output_type": "display_data"
    },
    {
     "data": {
      "application/vnd.jupyter.widget-view+json": {
       "model_id": "be04f15e7f524375bc76e7cdf6bb0188",
       "version_major": 2,
       "version_minor": 0
      },
      "text/plain": [
       "E3SM-MMF.mlo.0008-02-05-62400.nc:   0%|          | 0.00/1.13M [00:00<?, ?B/s]"
      ]
     },
     "metadata": {},
     "output_type": "display_data"
    },
    {
     "data": {
      "application/vnd.jupyter.widget-view+json": {
       "model_id": "a359ceb966ee491697f6be050d72ba56",
       "version_major": 2,
       "version_minor": 0
      },
      "text/plain": [
       "E3SM-MMF.mlo.0008-02-05-63600.nc:   0%|          | 0.00/1.13M [00:00<?, ?B/s]"
      ]
     },
     "metadata": {},
     "output_type": "display_data"
    },
    {
     "data": {
      "application/vnd.jupyter.widget-view+json": {
       "model_id": "931970eb64004da9b0cbf740a08b279e",
       "version_major": 2,
       "version_minor": 0
      },
      "text/plain": [
       "E3SM-MMF.mlo.0008-02-05-64800.nc:   0%|          | 0.00/1.13M [00:00<?, ?B/s]"
      ]
     },
     "metadata": {},
     "output_type": "display_data"
    },
    {
     "data": {
      "application/vnd.jupyter.widget-view+json": {
       "model_id": "80b3c448e0724c24b454339b0b72f49a",
       "version_major": 2,
       "version_minor": 0
      },
      "text/plain": [
       "E3SM-MMF.mlo.0008-02-05-66000.nc:   0%|          | 0.00/1.13M [00:00<?, ?B/s]"
      ]
     },
     "metadata": {},
     "output_type": "display_data"
    },
    {
     "data": {
      "application/vnd.jupyter.widget-view+json": {
       "model_id": "2f59de2f59ac47da8fb5a586d4aa5ee2",
       "version_major": 2,
       "version_minor": 0
      },
      "text/plain": [
       "E3SM-MMF.mlo.0008-02-05-67200.nc:   0%|          | 0.00/1.13M [00:00<?, ?B/s]"
      ]
     },
     "metadata": {},
     "output_type": "display_data"
    },
    {
     "data": {
      "application/vnd.jupyter.widget-view+json": {
       "model_id": "900f105c4b4943f9968a072ad195a42f",
       "version_major": 2,
       "version_minor": 0
      },
      "text/plain": [
       "E3SM-MMF.mlo.0008-02-05-68400.nc:   0%|          | 0.00/1.13M [00:00<?, ?B/s]"
      ]
     },
     "metadata": {},
     "output_type": "display_data"
    },
    {
     "data": {
      "application/vnd.jupyter.widget-view+json": {
       "model_id": "f21984334ad64d11be3c831c23806a55",
       "version_major": 2,
       "version_minor": 0
      },
      "text/plain": [
       "E3SM-MMF.mlo.0008-02-05-69600.nc:   0%|          | 0.00/1.13M [00:00<?, ?B/s]"
      ]
     },
     "metadata": {},
     "output_type": "display_data"
    },
    {
     "data": {
      "application/vnd.jupyter.widget-view+json": {
       "model_id": "cc308bbf32da4dc19d04ad7f07412030",
       "version_major": 2,
       "version_minor": 0
      },
      "text/plain": [
       "E3SM-MMF.mlo.0008-02-05-70800.nc:   0%|          | 0.00/1.13M [00:00<?, ?B/s]"
      ]
     },
     "metadata": {},
     "output_type": "display_data"
    },
    {
     "data": {
      "application/vnd.jupyter.widget-view+json": {
       "model_id": "0a28a2c25e1e49d9adcf134870e67632",
       "version_major": 2,
       "version_minor": 0
      },
      "text/plain": [
       "E3SM-MMF.mlo.0008-02-05-72000.nc:   0%|          | 0.00/1.13M [00:00<?, ?B/s]"
      ]
     },
     "metadata": {},
     "output_type": "display_data"
    },
    {
     "data": {
      "application/vnd.jupyter.widget-view+json": {
       "model_id": "90472129eedf4c3e9a2f44881012a808",
       "version_major": 2,
       "version_minor": 0
      },
      "text/plain": [
       "E3SM-MMF.mlo.0008-02-05-73200.nc:   0%|          | 0.00/1.13M [00:00<?, ?B/s]"
      ]
     },
     "metadata": {},
     "output_type": "display_data"
    },
    {
     "data": {
      "application/vnd.jupyter.widget-view+json": {
       "model_id": "c3a6053f51154b1f9a591496c2196e21",
       "version_major": 2,
       "version_minor": 0
      },
      "text/plain": [
       "E3SM-MMF.mlo.0008-02-05-74400.nc:   0%|          | 0.00/1.13M [00:00<?, ?B/s]"
      ]
     },
     "metadata": {},
     "output_type": "display_data"
    },
    {
     "data": {
      "application/vnd.jupyter.widget-view+json": {
       "model_id": "56e7b6e74e62454bad99334dc0f89e93",
       "version_major": 2,
       "version_minor": 0
      },
      "text/plain": [
       "E3SM-MMF.mlo.0008-02-05-75600.nc:   0%|          | 0.00/1.13M [00:00<?, ?B/s]"
      ]
     },
     "metadata": {},
     "output_type": "display_data"
    },
    {
     "data": {
      "application/vnd.jupyter.widget-view+json": {
       "model_id": "7e7eeeaf4e2648dc901b1ff9d4ec2984",
       "version_major": 2,
       "version_minor": 0
      },
      "text/plain": [
       "E3SM-MMF.mlo.0008-02-05-76800.nc:   0%|          | 0.00/1.13M [00:00<?, ?B/s]"
      ]
     },
     "metadata": {},
     "output_type": "display_data"
    },
    {
     "data": {
      "application/vnd.jupyter.widget-view+json": {
       "model_id": "b2defacb378742d086eb86b8d04b003c",
       "version_major": 2,
       "version_minor": 0
      },
      "text/plain": [
       "E3SM-MMF.mlo.0008-02-05-78000.nc:   0%|          | 0.00/1.13M [00:00<?, ?B/s]"
      ]
     },
     "metadata": {},
     "output_type": "display_data"
    },
    {
     "data": {
      "application/vnd.jupyter.widget-view+json": {
       "model_id": "0dc1c541f6204627ac21cf2457b0c73d",
       "version_major": 2,
       "version_minor": 0
      },
      "text/plain": [
       "E3SM-MMF.mlo.0008-02-05-79200.nc:   0%|          | 0.00/1.13M [00:00<?, ?B/s]"
      ]
     },
     "metadata": {},
     "output_type": "display_data"
    },
    {
     "data": {
      "application/vnd.jupyter.widget-view+json": {
       "model_id": "cd01f7f063a6467899e1ceb6708a1e6a",
       "version_major": 2,
       "version_minor": 0
      },
      "text/plain": [
       "E3SM-MMF.mlo.0008-02-05-80400.nc:   0%|          | 0.00/1.13M [00:00<?, ?B/s]"
      ]
     },
     "metadata": {},
     "output_type": "display_data"
    },
    {
     "data": {
      "application/vnd.jupyter.widget-view+json": {
       "model_id": "d9b3375295fb4806889196e695f81fdd",
       "version_major": 2,
       "version_minor": 0
      },
      "text/plain": [
       "E3SM-MMF.mlo.0008-02-05-81600.nc:   0%|          | 0.00/1.13M [00:00<?, ?B/s]"
      ]
     },
     "metadata": {},
     "output_type": "display_data"
    },
    {
     "data": {
      "application/vnd.jupyter.widget-view+json": {
       "model_id": "f1e9acfa80814109974ab71dde96802e",
       "version_major": 2,
       "version_minor": 0
      },
      "text/plain": [
       "E3SM-MMF.mlo.0008-02-05-82800.nc:   0%|          | 0.00/1.13M [00:00<?, ?B/s]"
      ]
     },
     "metadata": {},
     "output_type": "display_data"
    },
    {
     "data": {
      "application/vnd.jupyter.widget-view+json": {
       "model_id": "5c52e63eff64486eb2efafa9ef38d39a",
       "version_major": 2,
       "version_minor": 0
      },
      "text/plain": [
       "E3SM-MMF.mlo.0008-02-05-84000.nc:   0%|          | 0.00/1.13M [00:00<?, ?B/s]"
      ]
     },
     "metadata": {},
     "output_type": "display_data"
    },
    {
     "data": {
      "application/vnd.jupyter.widget-view+json": {
       "model_id": "695baa3fffc649e08d5d7249c8bbb09c",
       "version_major": 2,
       "version_minor": 0
      },
      "text/plain": [
       "E3SM-MMF.mlo.0008-02-05-85200.nc:   0%|          | 0.00/1.13M [00:00<?, ?B/s]"
      ]
     },
     "metadata": {},
     "output_type": "display_data"
    },
    {
     "data": {
      "application/vnd.jupyter.widget-view+json": {
       "model_id": "79fdacbe6008468696bf1f03cb79d8a4",
       "version_major": 2,
       "version_minor": 0
      },
      "text/plain": [
       "E3SM-MMF.mlo.0008-02-06-00000.nc:   0%|          | 0.00/1.13M [00:00<?, ?B/s]"
      ]
     },
     "metadata": {},
     "output_type": "display_data"
    },
    {
     "data": {
      "application/vnd.jupyter.widget-view+json": {
       "model_id": "e147edaeda074d2b847be4ec3c7b3d67",
       "version_major": 2,
       "version_minor": 0
      },
      "text/plain": [
       "E3SM-MMF.mlo.0008-02-06-01200.nc:   0%|          | 0.00/1.13M [00:00<?, ?B/s]"
      ]
     },
     "metadata": {},
     "output_type": "display_data"
    },
    {
     "data": {
      "application/vnd.jupyter.widget-view+json": {
       "model_id": "aa019f13cfed477c807c378bda709d33",
       "version_major": 2,
       "version_minor": 0
      },
      "text/plain": [
       "E3SM-MMF.mlo.0008-02-06-02400.nc:   0%|          | 0.00/1.13M [00:00<?, ?B/s]"
      ]
     },
     "metadata": {},
     "output_type": "display_data"
    },
    {
     "data": {
      "application/vnd.jupyter.widget-view+json": {
       "model_id": "112fb5ec73334058ac163534b23e7a7b",
       "version_major": 2,
       "version_minor": 0
      },
      "text/plain": [
       "E3SM-MMF.mlo.0008-02-06-03600.nc:   0%|          | 0.00/1.13M [00:00<?, ?B/s]"
      ]
     },
     "metadata": {},
     "output_type": "display_data"
    },
    {
     "data": {
      "application/vnd.jupyter.widget-view+json": {
       "model_id": "a176b642714a4b14883f471f66695705",
       "version_major": 2,
       "version_minor": 0
      },
      "text/plain": [
       "E3SM-MMF.mlo.0008-02-06-04800.nc:   0%|          | 0.00/1.13M [00:00<?, ?B/s]"
      ]
     },
     "metadata": {},
     "output_type": "display_data"
    },
    {
     "data": {
      "application/vnd.jupyter.widget-view+json": {
       "model_id": "11e188fe75f348d88eb74a594fb9f14f",
       "version_major": 2,
       "version_minor": 0
      },
      "text/plain": [
       "E3SM-MMF.mlo.0008-02-06-06000.nc:   0%|          | 0.00/1.13M [00:00<?, ?B/s]"
      ]
     },
     "metadata": {},
     "output_type": "display_data"
    },
    {
     "data": {
      "application/vnd.jupyter.widget-view+json": {
       "model_id": "3fce31d229864f3fb7b0a89df1cd9350",
       "version_major": 2,
       "version_minor": 0
      },
      "text/plain": [
       "E3SM-MMF.mlo.0008-02-06-07200.nc:   0%|          | 0.00/1.13M [00:00<?, ?B/s]"
      ]
     },
     "metadata": {},
     "output_type": "display_data"
    },
    {
     "data": {
      "application/vnd.jupyter.widget-view+json": {
       "model_id": "63c6c79dcbc64407b63332abe24c067f",
       "version_major": 2,
       "version_minor": 0
      },
      "text/plain": [
       "E3SM-MMF.mlo.0008-02-06-08400.nc:   0%|          | 0.00/1.13M [00:00<?, ?B/s]"
      ]
     },
     "metadata": {},
     "output_type": "display_data"
    },
    {
     "data": {
      "application/vnd.jupyter.widget-view+json": {
       "model_id": "0038dbec555341eea652aaef721d3008",
       "version_major": 2,
       "version_minor": 0
      },
      "text/plain": [
       "E3SM-MMF.mlo.0008-02-06-09600.nc:   0%|          | 0.00/1.13M [00:00<?, ?B/s]"
      ]
     },
     "metadata": {},
     "output_type": "display_data"
    },
    {
     "data": {
      "application/vnd.jupyter.widget-view+json": {
       "model_id": "f7745951eeef4da5a7f5b32e9297588f",
       "version_major": 2,
       "version_minor": 0
      },
      "text/plain": [
       "E3SM-MMF.mlo.0008-02-06-10800.nc:   0%|          | 0.00/1.13M [00:00<?, ?B/s]"
      ]
     },
     "metadata": {},
     "output_type": "display_data"
    },
    {
     "data": {
      "application/vnd.jupyter.widget-view+json": {
       "model_id": "c99df91f5a6f467f8e09a487dac51fbc",
       "version_major": 2,
       "version_minor": 0
      },
      "text/plain": [
       "E3SM-MMF.mlo.0008-02-06-12000.nc:   0%|          | 0.00/1.13M [00:00<?, ?B/s]"
      ]
     },
     "metadata": {},
     "output_type": "display_data"
    },
    {
     "data": {
      "application/vnd.jupyter.widget-view+json": {
       "model_id": "6f739f77d2614f118b5138849f638583",
       "version_major": 2,
       "version_minor": 0
      },
      "text/plain": [
       "E3SM-MMF.mlo.0008-02-06-13200.nc:   0%|          | 0.00/1.13M [00:00<?, ?B/s]"
      ]
     },
     "metadata": {},
     "output_type": "display_data"
    },
    {
     "data": {
      "application/vnd.jupyter.widget-view+json": {
       "model_id": "f501b3252c3a48c88f7e901ee1d6628f",
       "version_major": 2,
       "version_minor": 0
      },
      "text/plain": [
       "E3SM-MMF.mlo.0008-02-06-14400.nc:   0%|          | 0.00/1.13M [00:00<?, ?B/s]"
      ]
     },
     "metadata": {},
     "output_type": "display_data"
    },
    {
     "data": {
      "application/vnd.jupyter.widget-view+json": {
       "model_id": "d22e53a220b746c78e7127665086d63b",
       "version_major": 2,
       "version_minor": 0
      },
      "text/plain": [
       "E3SM-MMF.mlo.0008-02-06-15600.nc:   0%|          | 0.00/1.13M [00:00<?, ?B/s]"
      ]
     },
     "metadata": {},
     "output_type": "display_data"
    },
    {
     "data": {
      "application/vnd.jupyter.widget-view+json": {
       "model_id": "cc35c412b35b4e7d9fd48a1d5a680995",
       "version_major": 2,
       "version_minor": 0
      },
      "text/plain": [
       "E3SM-MMF.mlo.0008-02-06-16800.nc:   0%|          | 0.00/1.13M [00:00<?, ?B/s]"
      ]
     },
     "metadata": {},
     "output_type": "display_data"
    },
    {
     "data": {
      "application/vnd.jupyter.widget-view+json": {
       "model_id": "b4a38303c1e8450cbd897b462e6bf5ed",
       "version_major": 2,
       "version_minor": 0
      },
      "text/plain": [
       "E3SM-MMF.mlo.0008-02-06-18000.nc:   0%|          | 0.00/1.13M [00:00<?, ?B/s]"
      ]
     },
     "metadata": {},
     "output_type": "display_data"
    },
    {
     "data": {
      "application/vnd.jupyter.widget-view+json": {
       "model_id": "5254b3732a4e4de6be39f0c62bafaa1c",
       "version_major": 2,
       "version_minor": 0
      },
      "text/plain": [
       "E3SM-MMF.mlo.0008-02-06-19200.nc:   0%|          | 0.00/1.13M [00:00<?, ?B/s]"
      ]
     },
     "metadata": {},
     "output_type": "display_data"
    },
    {
     "data": {
      "application/vnd.jupyter.widget-view+json": {
       "model_id": "3bda00b864c14d33aa7ae3c95d380c53",
       "version_major": 2,
       "version_minor": 0
      },
      "text/plain": [
       "E3SM-MMF.mlo.0008-02-06-20400.nc:   0%|          | 0.00/1.13M [00:00<?, ?B/s]"
      ]
     },
     "metadata": {},
     "output_type": "display_data"
    },
    {
     "data": {
      "application/vnd.jupyter.widget-view+json": {
       "model_id": "d01e40f56cdd471eabdb1fd7f2f7bc90",
       "version_major": 2,
       "version_minor": 0
      },
      "text/plain": [
       "E3SM-MMF.mlo.0008-02-06-21600.nc:   0%|          | 0.00/1.13M [00:00<?, ?B/s]"
      ]
     },
     "metadata": {},
     "output_type": "display_data"
    },
    {
     "data": {
      "application/vnd.jupyter.widget-view+json": {
       "model_id": "55d4bd205b6e49d78d6f0cd7e3db2810",
       "version_major": 2,
       "version_minor": 0
      },
      "text/plain": [
       "E3SM-MMF.mlo.0008-02-06-22800.nc:   0%|          | 0.00/1.13M [00:00<?, ?B/s]"
      ]
     },
     "metadata": {},
     "output_type": "display_data"
    },
    {
     "data": {
      "application/vnd.jupyter.widget-view+json": {
       "model_id": "b4f7c0284c20417d8bb95601ae13804f",
       "version_major": 2,
       "version_minor": 0
      },
      "text/plain": [
       "E3SM-MMF.mlo.0008-02-06-24000.nc:   0%|          | 0.00/1.13M [00:00<?, ?B/s]"
      ]
     },
     "metadata": {},
     "output_type": "display_data"
    },
    {
     "data": {
      "application/vnd.jupyter.widget-view+json": {
       "model_id": "f5bc06c915f6488b8d9fedbe3ebb37cb",
       "version_major": 2,
       "version_minor": 0
      },
      "text/plain": [
       "E3SM-MMF.mlo.0008-02-06-25200.nc:   0%|          | 0.00/1.13M [00:00<?, ?B/s]"
      ]
     },
     "metadata": {},
     "output_type": "display_data"
    },
    {
     "data": {
      "application/vnd.jupyter.widget-view+json": {
       "model_id": "bcedee3bd0e345659207c236743d46de",
       "version_major": 2,
       "version_minor": 0
      },
      "text/plain": [
       "E3SM-MMF.mlo.0008-02-06-26400.nc:   0%|          | 0.00/1.13M [00:00<?, ?B/s]"
      ]
     },
     "metadata": {},
     "output_type": "display_data"
    },
    {
     "data": {
      "application/vnd.jupyter.widget-view+json": {
       "model_id": "ea2b9ec68aa441ccb143d88b243ed1e7",
       "version_major": 2,
       "version_minor": 0
      },
      "text/plain": [
       "E3SM-MMF.mlo.0008-02-06-27600.nc:   0%|          | 0.00/1.13M [00:00<?, ?B/s]"
      ]
     },
     "metadata": {},
     "output_type": "display_data"
    },
    {
     "data": {
      "application/vnd.jupyter.widget-view+json": {
       "model_id": "04c57d52bbb64da5833ee8b1f9bd0ea6",
       "version_major": 2,
       "version_minor": 0
      },
      "text/plain": [
       "E3SM-MMF.mlo.0008-02-06-28800.nc:   0%|          | 0.00/1.13M [00:00<?, ?B/s]"
      ]
     },
     "metadata": {},
     "output_type": "display_data"
    },
    {
     "data": {
      "application/vnd.jupyter.widget-view+json": {
       "model_id": "c7b68403352843d2b584611519d9d0b5",
       "version_major": 2,
       "version_minor": 0
      },
      "text/plain": [
       "E3SM-MMF.mlo.0008-02-06-30000.nc:   0%|          | 0.00/1.13M [00:00<?, ?B/s]"
      ]
     },
     "metadata": {},
     "output_type": "display_data"
    },
    {
     "data": {
      "application/vnd.jupyter.widget-view+json": {
       "model_id": "b627267b39f8441ea5be9dc3dfbde100",
       "version_major": 2,
       "version_minor": 0
      },
      "text/plain": [
       "E3SM-MMF.mlo.0008-02-06-31200.nc:   0%|          | 0.00/1.13M [00:00<?, ?B/s]"
      ]
     },
     "metadata": {},
     "output_type": "display_data"
    },
    {
     "data": {
      "application/vnd.jupyter.widget-view+json": {
       "model_id": "8d37dfdb33db453ebb6c6b89d8c95653",
       "version_major": 2,
       "version_minor": 0
      },
      "text/plain": [
       "E3SM-MMF.mlo.0008-02-06-32400.nc:   0%|          | 0.00/1.13M [00:00<?, ?B/s]"
      ]
     },
     "metadata": {},
     "output_type": "display_data"
    },
    {
     "data": {
      "application/vnd.jupyter.widget-view+json": {
       "model_id": "2e2ff712ffc44f9faecbca6726e7db0e",
       "version_major": 2,
       "version_minor": 0
      },
      "text/plain": [
       "E3SM-MMF.mlo.0008-02-06-33600.nc:   0%|          | 0.00/1.13M [00:00<?, ?B/s]"
      ]
     },
     "metadata": {},
     "output_type": "display_data"
    },
    {
     "data": {
      "application/vnd.jupyter.widget-view+json": {
       "model_id": "ff4781771c3f46ec8a75edbaa90c4517",
       "version_major": 2,
       "version_minor": 0
      },
      "text/plain": [
       "E3SM-MMF.mlo.0008-02-06-34800.nc:   0%|          | 0.00/1.13M [00:00<?, ?B/s]"
      ]
     },
     "metadata": {},
     "output_type": "display_data"
    },
    {
     "data": {
      "application/vnd.jupyter.widget-view+json": {
       "model_id": "f16feebf0e934651973abc6afd292841",
       "version_major": 2,
       "version_minor": 0
      },
      "text/plain": [
       "E3SM-MMF.mlo.0008-02-06-36000.nc:   0%|          | 0.00/1.13M [00:00<?, ?B/s]"
      ]
     },
     "metadata": {},
     "output_type": "display_data"
    },
    {
     "data": {
      "application/vnd.jupyter.widget-view+json": {
       "model_id": "031a45d1142444c2adfd0300f8a32b49",
       "version_major": 2,
       "version_minor": 0
      },
      "text/plain": [
       "E3SM-MMF.mlo.0008-02-06-37200.nc:   0%|          | 0.00/1.13M [00:00<?, ?B/s]"
      ]
     },
     "metadata": {},
     "output_type": "display_data"
    },
    {
     "data": {
      "application/vnd.jupyter.widget-view+json": {
       "model_id": "b076edbe1c254341b466da0d41a48111",
       "version_major": 2,
       "version_minor": 0
      },
      "text/plain": [
       "E3SM-MMF.mlo.0008-02-06-38400.nc:   0%|          | 0.00/1.13M [00:00<?, ?B/s]"
      ]
     },
     "metadata": {},
     "output_type": "display_data"
    },
    {
     "data": {
      "application/vnd.jupyter.widget-view+json": {
       "model_id": "391bb3687d8948d192808ecddfa834e3",
       "version_major": 2,
       "version_minor": 0
      },
      "text/plain": [
       "E3SM-MMF.mlo.0008-02-06-39600.nc:   0%|          | 0.00/1.13M [00:00<?, ?B/s]"
      ]
     },
     "metadata": {},
     "output_type": "display_data"
    },
    {
     "data": {
      "application/vnd.jupyter.widget-view+json": {
       "model_id": "8c2ae834cc044858a85cecf53ad8cf64",
       "version_major": 2,
       "version_minor": 0
      },
      "text/plain": [
       "E3SM-MMF.mlo.0008-02-06-40800.nc:   0%|          | 0.00/1.13M [00:00<?, ?B/s]"
      ]
     },
     "metadata": {},
     "output_type": "display_data"
    },
    {
     "data": {
      "application/vnd.jupyter.widget-view+json": {
       "model_id": "178b44abc54a4ce78cef601b468208e2",
       "version_major": 2,
       "version_minor": 0
      },
      "text/plain": [
       "E3SM-MMF.mlo.0008-02-06-42000.nc:   0%|          | 0.00/1.13M [00:00<?, ?B/s]"
      ]
     },
     "metadata": {},
     "output_type": "display_data"
    },
    {
     "data": {
      "application/vnd.jupyter.widget-view+json": {
       "model_id": "433e41874f3a4857a0a142bc2734b9f8",
       "version_major": 2,
       "version_minor": 0
      },
      "text/plain": [
       "E3SM-MMF.mlo.0008-02-06-43200.nc:   0%|          | 0.00/1.13M [00:00<?, ?B/s]"
      ]
     },
     "metadata": {},
     "output_type": "display_data"
    },
    {
     "data": {
      "application/vnd.jupyter.widget-view+json": {
       "model_id": "a833e76210e44374b2bc45bb3e095eea",
       "version_major": 2,
       "version_minor": 0
      },
      "text/plain": [
       "E3SM-MMF.mlo.0008-02-06-44400.nc:   0%|          | 0.00/1.13M [00:00<?, ?B/s]"
      ]
     },
     "metadata": {},
     "output_type": "display_data"
    },
    {
     "data": {
      "application/vnd.jupyter.widget-view+json": {
       "model_id": "f6bb725bdab84f169bcb216e60898883",
       "version_major": 2,
       "version_minor": 0
      },
      "text/plain": [
       "E3SM-MMF.mlo.0008-02-06-45600.nc:   0%|          | 0.00/1.13M [00:00<?, ?B/s]"
      ]
     },
     "metadata": {},
     "output_type": "display_data"
    },
    {
     "data": {
      "application/vnd.jupyter.widget-view+json": {
       "model_id": "f3ec94f51191497185e9eeec92f3eb49",
       "version_major": 2,
       "version_minor": 0
      },
      "text/plain": [
       "E3SM-MMF.mlo.0008-02-06-46800.nc:   0%|          | 0.00/1.13M [00:00<?, ?B/s]"
      ]
     },
     "metadata": {},
     "output_type": "display_data"
    },
    {
     "data": {
      "application/vnd.jupyter.widget-view+json": {
       "model_id": "2d3d573d2b524815a79a7a5288b52a71",
       "version_major": 2,
       "version_minor": 0
      },
      "text/plain": [
       "E3SM-MMF.mlo.0008-02-06-48000.nc:   0%|          | 0.00/1.13M [00:00<?, ?B/s]"
      ]
     },
     "metadata": {},
     "output_type": "display_data"
    },
    {
     "data": {
      "application/vnd.jupyter.widget-view+json": {
       "model_id": "1834f15658764c4ca0c670c2ed1b976a",
       "version_major": 2,
       "version_minor": 0
      },
      "text/plain": [
       "E3SM-MMF.mlo.0008-02-06-49200.nc:   0%|          | 0.00/1.13M [00:00<?, ?B/s]"
      ]
     },
     "metadata": {},
     "output_type": "display_data"
    },
    {
     "data": {
      "application/vnd.jupyter.widget-view+json": {
       "model_id": "03abf4ec9d164df4ad142276ad89ec3e",
       "version_major": 2,
       "version_minor": 0
      },
      "text/plain": [
       "E3SM-MMF.mlo.0008-02-06-50400.nc:   0%|          | 0.00/1.13M [00:00<?, ?B/s]"
      ]
     },
     "metadata": {},
     "output_type": "display_data"
    },
    {
     "data": {
      "application/vnd.jupyter.widget-view+json": {
       "model_id": "3754bbfebab741ec8d7922b81ceab0a3",
       "version_major": 2,
       "version_minor": 0
      },
      "text/plain": [
       "E3SM-MMF.mlo.0008-02-06-51600.nc:   0%|          | 0.00/1.13M [00:00<?, ?B/s]"
      ]
     },
     "metadata": {},
     "output_type": "display_data"
    },
    {
     "data": {
      "application/vnd.jupyter.widget-view+json": {
       "model_id": "663ee6977ab34ee5bea3e6837eba58d8",
       "version_major": 2,
       "version_minor": 0
      },
      "text/plain": [
       "E3SM-MMF.mlo.0008-02-06-52800.nc:   0%|          | 0.00/1.13M [00:00<?, ?B/s]"
      ]
     },
     "metadata": {},
     "output_type": "display_data"
    },
    {
     "data": {
      "application/vnd.jupyter.widget-view+json": {
       "model_id": "65d4dea99af24c61893fa22632e6438b",
       "version_major": 2,
       "version_minor": 0
      },
      "text/plain": [
       "E3SM-MMF.mlo.0008-02-06-54000.nc:   0%|          | 0.00/1.13M [00:00<?, ?B/s]"
      ]
     },
     "metadata": {},
     "output_type": "display_data"
    },
    {
     "data": {
      "application/vnd.jupyter.widget-view+json": {
       "model_id": "4a790b3501bc4292903beafa3a61ad44",
       "version_major": 2,
       "version_minor": 0
      },
      "text/plain": [
       "E3SM-MMF.mlo.0008-02-06-55200.nc:   0%|          | 0.00/1.13M [00:00<?, ?B/s]"
      ]
     },
     "metadata": {},
     "output_type": "display_data"
    },
    {
     "data": {
      "application/vnd.jupyter.widget-view+json": {
       "model_id": "b3590e8c09794648bf0c1bd025eedd42",
       "version_major": 2,
       "version_minor": 0
      },
      "text/plain": [
       "E3SM-MMF.mlo.0008-02-06-56400.nc:   0%|          | 0.00/1.13M [00:00<?, ?B/s]"
      ]
     },
     "metadata": {},
     "output_type": "display_data"
    },
    {
     "data": {
      "application/vnd.jupyter.widget-view+json": {
       "model_id": "67efdcf10cd94eb08ef5734fa7c589c2",
       "version_major": 2,
       "version_minor": 0
      },
      "text/plain": [
       "E3SM-MMF.mlo.0008-02-06-57600.nc:   0%|          | 0.00/1.13M [00:00<?, ?B/s]"
      ]
     },
     "metadata": {},
     "output_type": "display_data"
    },
    {
     "data": {
      "application/vnd.jupyter.widget-view+json": {
       "model_id": "e6dfb723a9664fa2bf46b5132e6bd1ea",
       "version_major": 2,
       "version_minor": 0
      },
      "text/plain": [
       "E3SM-MMF.mlo.0008-02-06-58800.nc:   0%|          | 0.00/1.13M [00:00<?, ?B/s]"
      ]
     },
     "metadata": {},
     "output_type": "display_data"
    },
    {
     "data": {
      "application/vnd.jupyter.widget-view+json": {
       "model_id": "70ef41aac7ef44709f3a4132acdb4152",
       "version_major": 2,
       "version_minor": 0
      },
      "text/plain": [
       "E3SM-MMF.mlo.0008-02-06-60000.nc:   0%|          | 0.00/1.13M [00:00<?, ?B/s]"
      ]
     },
     "metadata": {},
     "output_type": "display_data"
    },
    {
     "data": {
      "application/vnd.jupyter.widget-view+json": {
       "model_id": "082f829c11ce478c83592d5e66fdf55f",
       "version_major": 2,
       "version_minor": 0
      },
      "text/plain": [
       "E3SM-MMF.mlo.0008-02-06-61200.nc:   0%|          | 0.00/1.13M [00:00<?, ?B/s]"
      ]
     },
     "metadata": {},
     "output_type": "display_data"
    },
    {
     "data": {
      "application/vnd.jupyter.widget-view+json": {
       "model_id": "1dca00a6d0dc4474a8bf0b1b8cbb6f28",
       "version_major": 2,
       "version_minor": 0
      },
      "text/plain": [
       "E3SM-MMF.mlo.0008-02-06-62400.nc:   0%|          | 0.00/1.13M [00:00<?, ?B/s]"
      ]
     },
     "metadata": {},
     "output_type": "display_data"
    },
    {
     "data": {
      "application/vnd.jupyter.widget-view+json": {
       "model_id": "b201a59c57864d59bb4b7a72fea67b87",
       "version_major": 2,
       "version_minor": 0
      },
      "text/plain": [
       "E3SM-MMF.mlo.0008-02-06-63600.nc:   0%|          | 0.00/1.13M [00:00<?, ?B/s]"
      ]
     },
     "metadata": {},
     "output_type": "display_data"
    },
    {
     "data": {
      "application/vnd.jupyter.widget-view+json": {
       "model_id": "76b5bb94c90a4ae99e16cc6680a5a010",
       "version_major": 2,
       "version_minor": 0
      },
      "text/plain": [
       "E3SM-MMF.mlo.0008-02-06-64800.nc:   0%|          | 0.00/1.13M [00:00<?, ?B/s]"
      ]
     },
     "metadata": {},
     "output_type": "display_data"
    },
    {
     "data": {
      "application/vnd.jupyter.widget-view+json": {
       "model_id": "006dd1dd0347404bbfd4fe9776ccc4ec",
       "version_major": 2,
       "version_minor": 0
      },
      "text/plain": [
       "E3SM-MMF.mlo.0008-02-06-66000.nc:   0%|          | 0.00/1.13M [00:00<?, ?B/s]"
      ]
     },
     "metadata": {},
     "output_type": "display_data"
    },
    {
     "data": {
      "application/vnd.jupyter.widget-view+json": {
       "model_id": "fc1cd84802aa4359b7a2b01b8374edd8",
       "version_major": 2,
       "version_minor": 0
      },
      "text/plain": [
       "E3SM-MMF.mlo.0008-02-06-67200.nc:   0%|          | 0.00/1.13M [00:00<?, ?B/s]"
      ]
     },
     "metadata": {},
     "output_type": "display_data"
    },
    {
     "data": {
      "application/vnd.jupyter.widget-view+json": {
       "model_id": "c15b336f677447da86f9f8a924ea7c4a",
       "version_major": 2,
       "version_minor": 0
      },
      "text/plain": [
       "E3SM-MMF.mlo.0008-02-06-68400.nc:   0%|          | 0.00/1.13M [00:00<?, ?B/s]"
      ]
     },
     "metadata": {},
     "output_type": "display_data"
    },
    {
     "data": {
      "application/vnd.jupyter.widget-view+json": {
       "model_id": "dad20860a89a40ec8d42d0df900c64c5",
       "version_major": 2,
       "version_minor": 0
      },
      "text/plain": [
       "E3SM-MMF.mlo.0008-02-06-69600.nc:   0%|          | 0.00/1.13M [00:00<?, ?B/s]"
      ]
     },
     "metadata": {},
     "output_type": "display_data"
    },
    {
     "data": {
      "application/vnd.jupyter.widget-view+json": {
       "model_id": "b0849a31a8024a3cb6761ff62674dda3",
       "version_major": 2,
       "version_minor": 0
      },
      "text/plain": [
       "E3SM-MMF.mlo.0008-02-06-70800.nc:   0%|          | 0.00/1.13M [00:00<?, ?B/s]"
      ]
     },
     "metadata": {},
     "output_type": "display_data"
    },
    {
     "data": {
      "application/vnd.jupyter.widget-view+json": {
       "model_id": "4517d4b486f345bc99669e4adca1fd67",
       "version_major": 2,
       "version_minor": 0
      },
      "text/plain": [
       "E3SM-MMF.mlo.0008-02-06-72000.nc:   0%|          | 0.00/1.13M [00:00<?, ?B/s]"
      ]
     },
     "metadata": {},
     "output_type": "display_data"
    },
    {
     "data": {
      "application/vnd.jupyter.widget-view+json": {
       "model_id": "36c891106673485d95457009e7a2e35e",
       "version_major": 2,
       "version_minor": 0
      },
      "text/plain": [
       "E3SM-MMF.mlo.0008-02-06-73200.nc:   0%|          | 0.00/1.13M [00:00<?, ?B/s]"
      ]
     },
     "metadata": {},
     "output_type": "display_data"
    },
    {
     "data": {
      "application/vnd.jupyter.widget-view+json": {
       "model_id": "b642970a44d546feb92a1844b57e8f5a",
       "version_major": 2,
       "version_minor": 0
      },
      "text/plain": [
       "E3SM-MMF.mlo.0008-02-06-74400.nc:   0%|          | 0.00/1.13M [00:00<?, ?B/s]"
      ]
     },
     "metadata": {},
     "output_type": "display_data"
    },
    {
     "data": {
      "application/vnd.jupyter.widget-view+json": {
       "model_id": "ad01a85da3794a61ae68dfd6090c45c8",
       "version_major": 2,
       "version_minor": 0
      },
      "text/plain": [
       "E3SM-MMF.mlo.0008-02-06-75600.nc:   0%|          | 0.00/1.13M [00:00<?, ?B/s]"
      ]
     },
     "metadata": {},
     "output_type": "display_data"
    },
    {
     "data": {
      "application/vnd.jupyter.widget-view+json": {
       "model_id": "0a503d3d8fe146adb1fff6dd3f77e0f3",
       "version_major": 2,
       "version_minor": 0
      },
      "text/plain": [
       "E3SM-MMF.mlo.0008-02-06-76800.nc:   0%|          | 0.00/1.13M [00:00<?, ?B/s]"
      ]
     },
     "metadata": {},
     "output_type": "display_data"
    },
    {
     "data": {
      "application/vnd.jupyter.widget-view+json": {
       "model_id": "fb288042a55c414ab415391b96b57c4e",
       "version_major": 2,
       "version_minor": 0
      },
      "text/plain": [
       "E3SM-MMF.mlo.0008-02-06-78000.nc:   0%|          | 0.00/1.13M [00:00<?, ?B/s]"
      ]
     },
     "metadata": {},
     "output_type": "display_data"
    },
    {
     "data": {
      "application/vnd.jupyter.widget-view+json": {
       "model_id": "0028d235e66341afb71bb9d3749d07d5",
       "version_major": 2,
       "version_minor": 0
      },
      "text/plain": [
       "E3SM-MMF.mlo.0008-02-06-79200.nc:   0%|          | 0.00/1.13M [00:00<?, ?B/s]"
      ]
     },
     "metadata": {},
     "output_type": "display_data"
    },
    {
     "data": {
      "application/vnd.jupyter.widget-view+json": {
       "model_id": "1696011876014fa9a4bf9b89a9de5db4",
       "version_major": 2,
       "version_minor": 0
      },
      "text/plain": [
       "E3SM-MMF.mlo.0008-02-06-80400.nc:   0%|          | 0.00/1.13M [00:00<?, ?B/s]"
      ]
     },
     "metadata": {},
     "output_type": "display_data"
    },
    {
     "data": {
      "application/vnd.jupyter.widget-view+json": {
       "model_id": "3a7d92d3f01a42edbb3febfeca471421",
       "version_major": 2,
       "version_minor": 0
      },
      "text/plain": [
       "E3SM-MMF.mlo.0008-02-06-81600.nc:   0%|          | 0.00/1.13M [00:00<?, ?B/s]"
      ]
     },
     "metadata": {},
     "output_type": "display_data"
    },
    {
     "data": {
      "application/vnd.jupyter.widget-view+json": {
       "model_id": "ad386fd24a0b4e2f9dc6143e439ed252",
       "version_major": 2,
       "version_minor": 0
      },
      "text/plain": [
       "E3SM-MMF.mlo.0008-02-06-82800.nc:   0%|          | 0.00/1.13M [00:00<?, ?B/s]"
      ]
     },
     "metadata": {},
     "output_type": "display_data"
    },
    {
     "data": {
      "application/vnd.jupyter.widget-view+json": {
       "model_id": "e5b3e0d21aaa44ef80efa228374c3631",
       "version_major": 2,
       "version_minor": 0
      },
      "text/plain": [
       "E3SM-MMF.mlo.0008-02-06-84000.nc:   0%|          | 0.00/1.13M [00:00<?, ?B/s]"
      ]
     },
     "metadata": {},
     "output_type": "display_data"
    },
    {
     "data": {
      "application/vnd.jupyter.widget-view+json": {
       "model_id": "e43c2c63c38844538c5d4ccfa46df9cb",
       "version_major": 2,
       "version_minor": 0
      },
      "text/plain": [
       "E3SM-MMF.mlo.0008-02-06-85200.nc:   0%|          | 0.00/1.13M [00:00<?, ?B/s]"
      ]
     },
     "metadata": {},
     "output_type": "display_data"
    },
    {
     "data": {
      "application/vnd.jupyter.widget-view+json": {
       "model_id": "e94d257b547b445fb0f1c26c97c05158",
       "version_major": 2,
       "version_minor": 0
      },
      "text/plain": [
       "E3SM-MMF.mlo.0008-02-07-00000.nc:   0%|          | 0.00/1.13M [00:00<?, ?B/s]"
      ]
     },
     "metadata": {},
     "output_type": "display_data"
    },
    {
     "data": {
      "application/vnd.jupyter.widget-view+json": {
       "model_id": "1ff8061ba45948d4866f973f2789c43e",
       "version_major": 2,
       "version_minor": 0
      },
      "text/plain": [
       "E3SM-MMF.mlo.0008-02-07-01200.nc:   0%|          | 0.00/1.13M [00:00<?, ?B/s]"
      ]
     },
     "metadata": {},
     "output_type": "display_data"
    },
    {
     "data": {
      "application/vnd.jupyter.widget-view+json": {
       "model_id": "b0beef8a4c2a4c5585c7e21d9e668504",
       "version_major": 2,
       "version_minor": 0
      },
      "text/plain": [
       "E3SM-MMF.mlo.0008-02-07-02400.nc:   0%|          | 0.00/1.13M [00:00<?, ?B/s]"
      ]
     },
     "metadata": {},
     "output_type": "display_data"
    },
    {
     "data": {
      "application/vnd.jupyter.widget-view+json": {
       "model_id": "f8e58a49d520469ead2a4c535c2b791b",
       "version_major": 2,
       "version_minor": 0
      },
      "text/plain": [
       "E3SM-MMF.mlo.0008-02-07-03600.nc:   0%|          | 0.00/1.13M [00:00<?, ?B/s]"
      ]
     },
     "metadata": {},
     "output_type": "display_data"
    },
    {
     "data": {
      "application/vnd.jupyter.widget-view+json": {
       "model_id": "7e590ea2b1d44eee8e2c37ab134ed9ba",
       "version_major": 2,
       "version_minor": 0
      },
      "text/plain": [
       "E3SM-MMF.mlo.0008-02-07-04800.nc:   0%|          | 0.00/1.13M [00:00<?, ?B/s]"
      ]
     },
     "metadata": {},
     "output_type": "display_data"
    },
    {
     "data": {
      "application/vnd.jupyter.widget-view+json": {
       "model_id": "3ccd4d832ce44139bb0d0be733acdfe0",
       "version_major": 2,
       "version_minor": 0
      },
      "text/plain": [
       "E3SM-MMF.mlo.0008-02-07-06000.nc:   0%|          | 0.00/1.13M [00:00<?, ?B/s]"
      ]
     },
     "metadata": {},
     "output_type": "display_data"
    },
    {
     "data": {
      "application/vnd.jupyter.widget-view+json": {
       "model_id": "98da7e4832cd4f16ad1ea5ab93a9af40",
       "version_major": 2,
       "version_minor": 0
      },
      "text/plain": [
       "E3SM-MMF.mlo.0008-02-07-07200.nc:   0%|          | 0.00/1.13M [00:00<?, ?B/s]"
      ]
     },
     "metadata": {},
     "output_type": "display_data"
    },
    {
     "data": {
      "application/vnd.jupyter.widget-view+json": {
       "model_id": "346737cebdc742769f80c98f7968c462",
       "version_major": 2,
       "version_minor": 0
      },
      "text/plain": [
       "E3SM-MMF.mlo.0008-02-07-08400.nc:   0%|          | 0.00/1.13M [00:00<?, ?B/s]"
      ]
     },
     "metadata": {},
     "output_type": "display_data"
    },
    {
     "data": {
      "application/vnd.jupyter.widget-view+json": {
       "model_id": "ed616252fa8643859bd99347c6fd16bf",
       "version_major": 2,
       "version_minor": 0
      },
      "text/plain": [
       "E3SM-MMF.mlo.0008-02-07-09600.nc:   0%|          | 0.00/1.13M [00:00<?, ?B/s]"
      ]
     },
     "metadata": {},
     "output_type": "display_data"
    },
    {
     "data": {
      "application/vnd.jupyter.widget-view+json": {
       "model_id": "8563d9aa8ac84add9b07d06c72b9b979",
       "version_major": 2,
       "version_minor": 0
      },
      "text/plain": [
       "E3SM-MMF.mlo.0008-02-07-10800.nc:   0%|          | 0.00/1.13M [00:00<?, ?B/s]"
      ]
     },
     "metadata": {},
     "output_type": "display_data"
    },
    {
     "data": {
      "application/vnd.jupyter.widget-view+json": {
       "model_id": "93822bb526ac4f0b93a738d7d432f62b",
       "version_major": 2,
       "version_minor": 0
      },
      "text/plain": [
       "E3SM-MMF.mlo.0008-02-07-12000.nc:   0%|          | 0.00/1.13M [00:00<?, ?B/s]"
      ]
     },
     "metadata": {},
     "output_type": "display_data"
    },
    {
     "data": {
      "application/vnd.jupyter.widget-view+json": {
       "model_id": "82f5c12e884642479c873d12f93f7e12",
       "version_major": 2,
       "version_minor": 0
      },
      "text/plain": [
       "E3SM-MMF.mlo.0008-02-07-13200.nc:   0%|          | 0.00/1.13M [00:00<?, ?B/s]"
      ]
     },
     "metadata": {},
     "output_type": "display_data"
    },
    {
     "data": {
      "application/vnd.jupyter.widget-view+json": {
       "model_id": "09390069d2c3495c8a71b30c306e18e4",
       "version_major": 2,
       "version_minor": 0
      },
      "text/plain": [
       "E3SM-MMF.mlo.0008-02-07-14400.nc:   0%|          | 0.00/1.13M [00:00<?, ?B/s]"
      ]
     },
     "metadata": {},
     "output_type": "display_data"
    },
    {
     "data": {
      "application/vnd.jupyter.widget-view+json": {
       "model_id": "d458cbf48c4a4cd1b422c1b035647f31",
       "version_major": 2,
       "version_minor": 0
      },
      "text/plain": [
       "E3SM-MMF.mlo.0008-02-07-15600.nc:   0%|          | 0.00/1.13M [00:00<?, ?B/s]"
      ]
     },
     "metadata": {},
     "output_type": "display_data"
    },
    {
     "data": {
      "application/vnd.jupyter.widget-view+json": {
       "model_id": "66e5910a07264ee782949f90cc042a81",
       "version_major": 2,
       "version_minor": 0
      },
      "text/plain": [
       "E3SM-MMF.mlo.0008-02-07-16800.nc:   0%|          | 0.00/1.13M [00:00<?, ?B/s]"
      ]
     },
     "metadata": {},
     "output_type": "display_data"
    },
    {
     "data": {
      "application/vnd.jupyter.widget-view+json": {
       "model_id": "40e1e389ae5e45eca1b8249c40160dd8",
       "version_major": 2,
       "version_minor": 0
      },
      "text/plain": [
       "E3SM-MMF.mlo.0008-02-07-18000.nc:   0%|          | 0.00/1.13M [00:00<?, ?B/s]"
      ]
     },
     "metadata": {},
     "output_type": "display_data"
    },
    {
     "data": {
      "application/vnd.jupyter.widget-view+json": {
       "model_id": "4411bc40ef0649eabdafaddca5e2de40",
       "version_major": 2,
       "version_minor": 0
      },
      "text/plain": [
       "E3SM-MMF.mlo.0008-02-07-19200.nc:   0%|          | 0.00/1.13M [00:00<?, ?B/s]"
      ]
     },
     "metadata": {},
     "output_type": "display_data"
    },
    {
     "data": {
      "application/vnd.jupyter.widget-view+json": {
       "model_id": "d35690ad7b12481b95446f5581da5070",
       "version_major": 2,
       "version_minor": 0
      },
      "text/plain": [
       "E3SM-MMF.mlo.0008-02-07-20400.nc:   0%|          | 0.00/1.13M [00:00<?, ?B/s]"
      ]
     },
     "metadata": {},
     "output_type": "display_data"
    },
    {
     "data": {
      "application/vnd.jupyter.widget-view+json": {
       "model_id": "57d912adb2474ba991b9e2239d91fdb7",
       "version_major": 2,
       "version_minor": 0
      },
      "text/plain": [
       "E3SM-MMF.mlo.0008-02-07-21600.nc:   0%|          | 0.00/1.13M [00:00<?, ?B/s]"
      ]
     },
     "metadata": {},
     "output_type": "display_data"
    },
    {
     "data": {
      "application/vnd.jupyter.widget-view+json": {
       "model_id": "3764b5a53d7448a68ed710777cdf6350",
       "version_major": 2,
       "version_minor": 0
      },
      "text/plain": [
       "E3SM-MMF.mlo.0008-02-07-22800.nc:   0%|          | 0.00/1.13M [00:00<?, ?B/s]"
      ]
     },
     "metadata": {},
     "output_type": "display_data"
    },
    {
     "data": {
      "application/vnd.jupyter.widget-view+json": {
       "model_id": "0819403951204bb4839e9cfa0edf2832",
       "version_major": 2,
       "version_minor": 0
      },
      "text/plain": [
       "E3SM-MMF.mlo.0008-02-07-24000.nc:   0%|          | 0.00/1.13M [00:00<?, ?B/s]"
      ]
     },
     "metadata": {},
     "output_type": "display_data"
    },
    {
     "data": {
      "application/vnd.jupyter.widget-view+json": {
       "model_id": "9508f2f6ddef4471b3e67e9e81ba34b8",
       "version_major": 2,
       "version_minor": 0
      },
      "text/plain": [
       "E3SM-MMF.mlo.0008-02-07-25200.nc:   0%|          | 0.00/1.13M [00:00<?, ?B/s]"
      ]
     },
     "metadata": {},
     "output_type": "display_data"
    },
    {
     "data": {
      "application/vnd.jupyter.widget-view+json": {
       "model_id": "b60f79471c0348c9bfa20e64014209d6",
       "version_major": 2,
       "version_minor": 0
      },
      "text/plain": [
       "E3SM-MMF.mlo.0008-02-07-26400.nc:   0%|          | 0.00/1.13M [00:00<?, ?B/s]"
      ]
     },
     "metadata": {},
     "output_type": "display_data"
    },
    {
     "data": {
      "application/vnd.jupyter.widget-view+json": {
       "model_id": "611b526a9ed945eb9a82365b6c0d8ebb",
       "version_major": 2,
       "version_minor": 0
      },
      "text/plain": [
       "E3SM-MMF.mlo.0008-02-07-27600.nc:   0%|          | 0.00/1.13M [00:00<?, ?B/s]"
      ]
     },
     "metadata": {},
     "output_type": "display_data"
    },
    {
     "data": {
      "application/vnd.jupyter.widget-view+json": {
       "model_id": "20440a00fe1948f8961cd992dba4d91f",
       "version_major": 2,
       "version_minor": 0
      },
      "text/plain": [
       "E3SM-MMF.mlo.0008-02-07-28800.nc:   0%|          | 0.00/1.13M [00:00<?, ?B/s]"
      ]
     },
     "metadata": {},
     "output_type": "display_data"
    },
    {
     "data": {
      "application/vnd.jupyter.widget-view+json": {
       "model_id": "6302b6f03b924daf81f19d33a8a7e8df",
       "version_major": 2,
       "version_minor": 0
      },
      "text/plain": [
       "E3SM-MMF.mlo.0008-02-07-30000.nc:   0%|          | 0.00/1.13M [00:00<?, ?B/s]"
      ]
     },
     "metadata": {},
     "output_type": "display_data"
    },
    {
     "data": {
      "application/vnd.jupyter.widget-view+json": {
       "model_id": "961dc0d3a2924ed38e14c92e498aaf80",
       "version_major": 2,
       "version_minor": 0
      },
      "text/plain": [
       "E3SM-MMF.mlo.0008-02-07-31200.nc:   0%|          | 0.00/1.13M [00:00<?, ?B/s]"
      ]
     },
     "metadata": {},
     "output_type": "display_data"
    },
    {
     "data": {
      "application/vnd.jupyter.widget-view+json": {
       "model_id": "a48a807488ba4307b977e183fe87461d",
       "version_major": 2,
       "version_minor": 0
      },
      "text/plain": [
       "E3SM-MMF.mlo.0008-02-07-32400.nc:   0%|          | 0.00/1.13M [00:00<?, ?B/s]"
      ]
     },
     "metadata": {},
     "output_type": "display_data"
    },
    {
     "data": {
      "application/vnd.jupyter.widget-view+json": {
       "model_id": "4a3a88621fc94fb4985350acc293f5e9",
       "version_major": 2,
       "version_minor": 0
      },
      "text/plain": [
       "E3SM-MMF.mlo.0008-02-07-33600.nc:   0%|          | 0.00/1.13M [00:00<?, ?B/s]"
      ]
     },
     "metadata": {},
     "output_type": "display_data"
    },
    {
     "data": {
      "application/vnd.jupyter.widget-view+json": {
       "model_id": "6d0d18e9608a4e05ab29d83f8931e934",
       "version_major": 2,
       "version_minor": 0
      },
      "text/plain": [
       "E3SM-MMF.mlo.0008-02-07-34800.nc:   0%|          | 0.00/1.13M [00:00<?, ?B/s]"
      ]
     },
     "metadata": {},
     "output_type": "display_data"
    },
    {
     "data": {
      "application/vnd.jupyter.widget-view+json": {
       "model_id": "9a871695ebec4cf988466ba512a08342",
       "version_major": 2,
       "version_minor": 0
      },
      "text/plain": [
       "E3SM-MMF.mlo.0008-02-07-36000.nc:   0%|          | 0.00/1.13M [00:00<?, ?B/s]"
      ]
     },
     "metadata": {},
     "output_type": "display_data"
    },
    {
     "data": {
      "application/vnd.jupyter.widget-view+json": {
       "model_id": "6f7805965e9e447794e7c74b9d1d64da",
       "version_major": 2,
       "version_minor": 0
      },
      "text/plain": [
       "E3SM-MMF.mlo.0008-02-07-37200.nc:   0%|          | 0.00/1.13M [00:00<?, ?B/s]"
      ]
     },
     "metadata": {},
     "output_type": "display_data"
    },
    {
     "data": {
      "application/vnd.jupyter.widget-view+json": {
       "model_id": "8094b59841f54ce7a97a4b3bbc7cd44a",
       "version_major": 2,
       "version_minor": 0
      },
      "text/plain": [
       "E3SM-MMF.mlo.0008-02-07-38400.nc:   0%|          | 0.00/1.13M [00:00<?, ?B/s]"
      ]
     },
     "metadata": {},
     "output_type": "display_data"
    },
    {
     "data": {
      "application/vnd.jupyter.widget-view+json": {
       "model_id": "6fbb28e2942448b592cdee70a2c8fdfe",
       "version_major": 2,
       "version_minor": 0
      },
      "text/plain": [
       "E3SM-MMF.mlo.0008-02-07-39600.nc:   0%|          | 0.00/1.13M [00:00<?, ?B/s]"
      ]
     },
     "metadata": {},
     "output_type": "display_data"
    },
    {
     "data": {
      "application/vnd.jupyter.widget-view+json": {
       "model_id": "068fdcd37aba47279d50212dbd245af3",
       "version_major": 2,
       "version_minor": 0
      },
      "text/plain": [
       "E3SM-MMF.mlo.0008-02-07-40800.nc:   0%|          | 0.00/1.13M [00:00<?, ?B/s]"
      ]
     },
     "metadata": {},
     "output_type": "display_data"
    },
    {
     "data": {
      "application/vnd.jupyter.widget-view+json": {
       "model_id": "3b46fa5ec2594fcea9d9330423096658",
       "version_major": 2,
       "version_minor": 0
      },
      "text/plain": [
       "E3SM-MMF.mlo.0008-02-07-42000.nc:   0%|          | 0.00/1.13M [00:00<?, ?B/s]"
      ]
     },
     "metadata": {},
     "output_type": "display_data"
    },
    {
     "data": {
      "application/vnd.jupyter.widget-view+json": {
       "model_id": "be122ad45a6d4c95bbdbdfb7c9d2bcfa",
       "version_major": 2,
       "version_minor": 0
      },
      "text/plain": [
       "E3SM-MMF.mlo.0008-02-07-43200.nc:   0%|          | 0.00/1.13M [00:00<?, ?B/s]"
      ]
     },
     "metadata": {},
     "output_type": "display_data"
    },
    {
     "data": {
      "application/vnd.jupyter.widget-view+json": {
       "model_id": "16aebc8ef6b14c4493341341889ba461",
       "version_major": 2,
       "version_minor": 0
      },
      "text/plain": [
       "E3SM-MMF.mlo.0008-02-07-44400.nc:   0%|          | 0.00/1.13M [00:00<?, ?B/s]"
      ]
     },
     "metadata": {},
     "output_type": "display_data"
    },
    {
     "data": {
      "application/vnd.jupyter.widget-view+json": {
       "model_id": "6459a795173f4a8c859f99cee814b574",
       "version_major": 2,
       "version_minor": 0
      },
      "text/plain": [
       "E3SM-MMF.mlo.0008-02-07-45600.nc:   0%|          | 0.00/1.13M [00:00<?, ?B/s]"
      ]
     },
     "metadata": {},
     "output_type": "display_data"
    },
    {
     "data": {
      "application/vnd.jupyter.widget-view+json": {
       "model_id": "63229f445cb54c5288d966f51dedafe6",
       "version_major": 2,
       "version_minor": 0
      },
      "text/plain": [
       "E3SM-MMF.mlo.0008-02-07-46800.nc:   0%|          | 0.00/1.13M [00:00<?, ?B/s]"
      ]
     },
     "metadata": {},
     "output_type": "display_data"
    },
    {
     "data": {
      "application/vnd.jupyter.widget-view+json": {
       "model_id": "27477fedaacb4de78df8958d4c8763b7",
       "version_major": 2,
       "version_minor": 0
      },
      "text/plain": [
       "E3SM-MMF.mlo.0008-02-07-48000.nc:   0%|          | 0.00/1.13M [00:00<?, ?B/s]"
      ]
     },
     "metadata": {},
     "output_type": "display_data"
    },
    {
     "data": {
      "application/vnd.jupyter.widget-view+json": {
       "model_id": "e841ef5b9d0444f7b469ba5c154162d6",
       "version_major": 2,
       "version_minor": 0
      },
      "text/plain": [
       "E3SM-MMF.mlo.0008-02-07-49200.nc:   0%|          | 0.00/1.13M [00:00<?, ?B/s]"
      ]
     },
     "metadata": {},
     "output_type": "display_data"
    },
    {
     "data": {
      "application/vnd.jupyter.widget-view+json": {
       "model_id": "fc1eaf5b8ee24e4cbd8f7ed20b87adb0",
       "version_major": 2,
       "version_minor": 0
      },
      "text/plain": [
       "E3SM-MMF.mlo.0008-02-07-50400.nc:   0%|          | 0.00/1.13M [00:00<?, ?B/s]"
      ]
     },
     "metadata": {},
     "output_type": "display_data"
    },
    {
     "data": {
      "application/vnd.jupyter.widget-view+json": {
       "model_id": "079144ba1c984bb28790cf8eb7d5f012",
       "version_major": 2,
       "version_minor": 0
      },
      "text/plain": [
       "E3SM-MMF.mlo.0008-02-07-51600.nc:   0%|          | 0.00/1.13M [00:00<?, ?B/s]"
      ]
     },
     "metadata": {},
     "output_type": "display_data"
    },
    {
     "data": {
      "application/vnd.jupyter.widget-view+json": {
       "model_id": "0b907227518e4ef8841bcce4308f1187",
       "version_major": 2,
       "version_minor": 0
      },
      "text/plain": [
       "E3SM-MMF.mlo.0008-02-07-52800.nc:   0%|          | 0.00/1.13M [00:00<?, ?B/s]"
      ]
     },
     "metadata": {},
     "output_type": "display_data"
    },
    {
     "data": {
      "application/vnd.jupyter.widget-view+json": {
       "model_id": "6c35e443447846cbab794bf1e24abbdd",
       "version_major": 2,
       "version_minor": 0
      },
      "text/plain": [
       "E3SM-MMF.mlo.0008-02-07-54000.nc:   0%|          | 0.00/1.13M [00:00<?, ?B/s]"
      ]
     },
     "metadata": {},
     "output_type": "display_data"
    },
    {
     "data": {
      "application/vnd.jupyter.widget-view+json": {
       "model_id": "550bee99b1d64147afc1eb640c039060",
       "version_major": 2,
       "version_minor": 0
      },
      "text/plain": [
       "E3SM-MMF.mlo.0008-02-07-55200.nc:   0%|          | 0.00/1.13M [00:00<?, ?B/s]"
      ]
     },
     "metadata": {},
     "output_type": "display_data"
    },
    {
     "data": {
      "application/vnd.jupyter.widget-view+json": {
       "model_id": "70fd21acfe7c40f698f2d03d22ca5f24",
       "version_major": 2,
       "version_minor": 0
      },
      "text/plain": [
       "E3SM-MMF.mlo.0008-02-07-56400.nc:   0%|          | 0.00/1.13M [00:00<?, ?B/s]"
      ]
     },
     "metadata": {},
     "output_type": "display_data"
    },
    {
     "data": {
      "application/vnd.jupyter.widget-view+json": {
       "model_id": "3466b4e4d2a6447785e8b19f97faa41f",
       "version_major": 2,
       "version_minor": 0
      },
      "text/plain": [
       "E3SM-MMF.mlo.0008-02-07-57600.nc:   0%|          | 0.00/1.13M [00:00<?, ?B/s]"
      ]
     },
     "metadata": {},
     "output_type": "display_data"
    },
    {
     "data": {
      "application/vnd.jupyter.widget-view+json": {
       "model_id": "224a564142b54a88ac7f7cd1637eb0dd",
       "version_major": 2,
       "version_minor": 0
      },
      "text/plain": [
       "E3SM-MMF.mlo.0008-02-07-58800.nc:   0%|          | 0.00/1.13M [00:00<?, ?B/s]"
      ]
     },
     "metadata": {},
     "output_type": "display_data"
    },
    {
     "data": {
      "application/vnd.jupyter.widget-view+json": {
       "model_id": "27fdb2469f1d48ccbec0e1c0991acdf2",
       "version_major": 2,
       "version_minor": 0
      },
      "text/plain": [
       "E3SM-MMF.mlo.0008-02-07-60000.nc:   0%|          | 0.00/1.13M [00:00<?, ?B/s]"
      ]
     },
     "metadata": {},
     "output_type": "display_data"
    },
    {
     "data": {
      "application/vnd.jupyter.widget-view+json": {
       "model_id": "aa0c890b8120424ba60b57f0ab371c02",
       "version_major": 2,
       "version_minor": 0
      },
      "text/plain": [
       "E3SM-MMF.mlo.0008-02-07-61200.nc:   0%|          | 0.00/1.13M [00:00<?, ?B/s]"
      ]
     },
     "metadata": {},
     "output_type": "display_data"
    },
    {
     "data": {
      "application/vnd.jupyter.widget-view+json": {
       "model_id": "75118fb6fc0a44f9896d194e1f213266",
       "version_major": 2,
       "version_minor": 0
      },
      "text/plain": [
       "E3SM-MMF.mlo.0008-02-07-62400.nc:   0%|          | 0.00/1.13M [00:00<?, ?B/s]"
      ]
     },
     "metadata": {},
     "output_type": "display_data"
    },
    {
     "data": {
      "application/vnd.jupyter.widget-view+json": {
       "model_id": "2a56fdb68b20490c94d0a8027cc00d10",
       "version_major": 2,
       "version_minor": 0
      },
      "text/plain": [
       "E3SM-MMF.mlo.0008-02-07-63600.nc:   0%|          | 0.00/1.13M [00:00<?, ?B/s]"
      ]
     },
     "metadata": {},
     "output_type": "display_data"
    },
    {
     "data": {
      "application/vnd.jupyter.widget-view+json": {
       "model_id": "700c941e0a284e1f8344a8ca48cb304b",
       "version_major": 2,
       "version_minor": 0
      },
      "text/plain": [
       "E3SM-MMF.mlo.0008-02-07-64800.nc:   0%|          | 0.00/1.13M [00:00<?, ?B/s]"
      ]
     },
     "metadata": {},
     "output_type": "display_data"
    },
    {
     "data": {
      "application/vnd.jupyter.widget-view+json": {
       "model_id": "51f3c18df9b2415c8becc24ffdc75c7c",
       "version_major": 2,
       "version_minor": 0
      },
      "text/plain": [
       "E3SM-MMF.mlo.0008-02-07-66000.nc:   0%|          | 0.00/1.13M [00:00<?, ?B/s]"
      ]
     },
     "metadata": {},
     "output_type": "display_data"
    },
    {
     "data": {
      "application/vnd.jupyter.widget-view+json": {
       "model_id": "5687ccb862d54cd099dfa8dfa66b2fab",
       "version_major": 2,
       "version_minor": 0
      },
      "text/plain": [
       "E3SM-MMF.mlo.0008-02-07-67200.nc:   0%|          | 0.00/1.13M [00:00<?, ?B/s]"
      ]
     },
     "metadata": {},
     "output_type": "display_data"
    },
    {
     "data": {
      "application/vnd.jupyter.widget-view+json": {
       "model_id": "e8bdefc3a22e433896b5badcdae6cf41",
       "version_major": 2,
       "version_minor": 0
      },
      "text/plain": [
       "E3SM-MMF.mlo.0008-02-07-68400.nc:   0%|          | 0.00/1.13M [00:00<?, ?B/s]"
      ]
     },
     "metadata": {},
     "output_type": "display_data"
    },
    {
     "data": {
      "application/vnd.jupyter.widget-view+json": {
       "model_id": "5f11bb29a60742e591dd90fe87c324ba",
       "version_major": 2,
       "version_minor": 0
      },
      "text/plain": [
       "E3SM-MMF.mlo.0008-02-07-69600.nc:   0%|          | 0.00/1.13M [00:00<?, ?B/s]"
      ]
     },
     "metadata": {},
     "output_type": "display_data"
    },
    {
     "data": {
      "application/vnd.jupyter.widget-view+json": {
       "model_id": "bfb3876398ef47ff963be42e8f1ed97b",
       "version_major": 2,
       "version_minor": 0
      },
      "text/plain": [
       "E3SM-MMF.mlo.0008-02-07-70800.nc:   0%|          | 0.00/1.13M [00:00<?, ?B/s]"
      ]
     },
     "metadata": {},
     "output_type": "display_data"
    },
    {
     "data": {
      "application/vnd.jupyter.widget-view+json": {
       "model_id": "cb3a7c2af4a74f1ab94e135d9f5c0aae",
       "version_major": 2,
       "version_minor": 0
      },
      "text/plain": [
       "E3SM-MMF.mlo.0008-02-07-72000.nc:   0%|          | 0.00/1.13M [00:00<?, ?B/s]"
      ]
     },
     "metadata": {},
     "output_type": "display_data"
    },
    {
     "data": {
      "application/vnd.jupyter.widget-view+json": {
       "model_id": "2a0a1b3739e2475fac46ad5e29fee055",
       "version_major": 2,
       "version_minor": 0
      },
      "text/plain": [
       "E3SM-MMF.mlo.0008-02-07-73200.nc:   0%|          | 0.00/1.13M [00:00<?, ?B/s]"
      ]
     },
     "metadata": {},
     "output_type": "display_data"
    },
    {
     "data": {
      "application/vnd.jupyter.widget-view+json": {
       "model_id": "c72e059570b34ce7a39049affe8cd0de",
       "version_major": 2,
       "version_minor": 0
      },
      "text/plain": [
       "E3SM-MMF.mlo.0008-02-07-74400.nc:   0%|          | 0.00/1.13M [00:00<?, ?B/s]"
      ]
     },
     "metadata": {},
     "output_type": "display_data"
    },
    {
     "data": {
      "application/vnd.jupyter.widget-view+json": {
       "model_id": "c3cf18edc4c54ffbaaefa4b7d122376a",
       "version_major": 2,
       "version_minor": 0
      },
      "text/plain": [
       "E3SM-MMF.mlo.0008-02-07-75600.nc:   0%|          | 0.00/1.13M [00:00<?, ?B/s]"
      ]
     },
     "metadata": {},
     "output_type": "display_data"
    },
    {
     "data": {
      "application/vnd.jupyter.widget-view+json": {
       "model_id": "0e3725d0003b40fb9b161adf7cb74d87",
       "version_major": 2,
       "version_minor": 0
      },
      "text/plain": [
       "E3SM-MMF.mlo.0008-02-07-76800.nc:   0%|          | 0.00/1.13M [00:00<?, ?B/s]"
      ]
     },
     "metadata": {},
     "output_type": "display_data"
    },
    {
     "data": {
      "application/vnd.jupyter.widget-view+json": {
       "model_id": "0940b80ffbb046db9dff36beed7c4f9f",
       "version_major": 2,
       "version_minor": 0
      },
      "text/plain": [
       "E3SM-MMF.mlo.0008-02-07-78000.nc:   0%|          | 0.00/1.13M [00:00<?, ?B/s]"
      ]
     },
     "metadata": {},
     "output_type": "display_data"
    },
    {
     "data": {
      "application/vnd.jupyter.widget-view+json": {
       "model_id": "805464cad93a4705a14d60388b223f3d",
       "version_major": 2,
       "version_minor": 0
      },
      "text/plain": [
       "E3SM-MMF.mlo.0008-02-07-79200.nc:   0%|          | 0.00/1.13M [00:00<?, ?B/s]"
      ]
     },
     "metadata": {},
     "output_type": "display_data"
    },
    {
     "data": {
      "application/vnd.jupyter.widget-view+json": {
       "model_id": "e8a1ea8ecee54e8b9125cfaa879afb43",
       "version_major": 2,
       "version_minor": 0
      },
      "text/plain": [
       "E3SM-MMF.mlo.0008-02-07-80400.nc:   0%|          | 0.00/1.13M [00:00<?, ?B/s]"
      ]
     },
     "metadata": {},
     "output_type": "display_data"
    },
    {
     "data": {
      "application/vnd.jupyter.widget-view+json": {
       "model_id": "a4fa9951802e42f2b998b6597bb8b4ba",
       "version_major": 2,
       "version_minor": 0
      },
      "text/plain": [
       "E3SM-MMF.mlo.0008-02-07-81600.nc:   0%|          | 0.00/1.13M [00:00<?, ?B/s]"
      ]
     },
     "metadata": {},
     "output_type": "display_data"
    },
    {
     "data": {
      "application/vnd.jupyter.widget-view+json": {
       "model_id": "c6d2f3bba7f84c5fa6e75d329509525b",
       "version_major": 2,
       "version_minor": 0
      },
      "text/plain": [
       "E3SM-MMF.mlo.0008-02-07-82800.nc:   0%|          | 0.00/1.13M [00:00<?, ?B/s]"
      ]
     },
     "metadata": {},
     "output_type": "display_data"
    },
    {
     "data": {
      "application/vnd.jupyter.widget-view+json": {
       "model_id": "96a9fe08dd2b41d1ae5f4f63a6e7f2ba",
       "version_major": 2,
       "version_minor": 0
      },
      "text/plain": [
       "E3SM-MMF.mlo.0008-02-07-84000.nc:   0%|          | 0.00/1.13M [00:00<?, ?B/s]"
      ]
     },
     "metadata": {},
     "output_type": "display_data"
    },
    {
     "data": {
      "application/vnd.jupyter.widget-view+json": {
       "model_id": "e2a1f84e7990425d9ce70f3fa732d814",
       "version_major": 2,
       "version_minor": 0
      },
      "text/plain": [
       "E3SM-MMF.mlo.0008-02-07-85200.nc:   0%|          | 0.00/1.13M [00:00<?, ?B/s]"
      ]
     },
     "metadata": {},
     "output_type": "display_data"
    },
    {
     "data": {
      "application/vnd.jupyter.widget-view+json": {
       "model_id": "981582be2c034081bb8d4a4d51782965",
       "version_major": 2,
       "version_minor": 0
      },
      "text/plain": [
       "E3SM-MMF.mlo.0008-02-08-00000.nc:   0%|          | 0.00/1.13M [00:00<?, ?B/s]"
      ]
     },
     "metadata": {},
     "output_type": "display_data"
    },
    {
     "data": {
      "application/vnd.jupyter.widget-view+json": {
       "model_id": "1aebe36cef46441da40e4ccfecf75f34",
       "version_major": 2,
       "version_minor": 0
      },
      "text/plain": [
       "E3SM-MMF.mlo.0008-02-08-01200.nc:   0%|          | 0.00/1.13M [00:00<?, ?B/s]"
      ]
     },
     "metadata": {},
     "output_type": "display_data"
    },
    {
     "data": {
      "application/vnd.jupyter.widget-view+json": {
       "model_id": "78b20dc7ed3c40cba0cde92ba4c01412",
       "version_major": 2,
       "version_minor": 0
      },
      "text/plain": [
       "E3SM-MMF.mlo.0008-02-08-02400.nc:   0%|          | 0.00/1.13M [00:00<?, ?B/s]"
      ]
     },
     "metadata": {},
     "output_type": "display_data"
    },
    {
     "data": {
      "application/vnd.jupyter.widget-view+json": {
       "model_id": "b4e706b7655b4e9eb1b596aef381e7ec",
       "version_major": 2,
       "version_minor": 0
      },
      "text/plain": [
       "E3SM-MMF.mlo.0008-02-08-03600.nc:   0%|          | 0.00/1.13M [00:00<?, ?B/s]"
      ]
     },
     "metadata": {},
     "output_type": "display_data"
    },
    {
     "data": {
      "application/vnd.jupyter.widget-view+json": {
       "model_id": "6b89bd63babb4b7287604aba301aa1ae",
       "version_major": 2,
       "version_minor": 0
      },
      "text/plain": [
       "E3SM-MMF.mlo.0008-02-08-04800.nc:   0%|          | 0.00/1.13M [00:00<?, ?B/s]"
      ]
     },
     "metadata": {},
     "output_type": "display_data"
    },
    {
     "data": {
      "application/vnd.jupyter.widget-view+json": {
       "model_id": "cb402cfc4db64752977982f584db3dc2",
       "version_major": 2,
       "version_minor": 0
      },
      "text/plain": [
       "E3SM-MMF.mlo.0008-02-08-06000.nc:   0%|          | 0.00/1.13M [00:00<?, ?B/s]"
      ]
     },
     "metadata": {},
     "output_type": "display_data"
    },
    {
     "data": {
      "application/vnd.jupyter.widget-view+json": {
       "model_id": "59407cd80c674630aa5f9e8d6b14f3a4",
       "version_major": 2,
       "version_minor": 0
      },
      "text/plain": [
       "E3SM-MMF.mlo.0008-02-08-07200.nc:   0%|          | 0.00/1.13M [00:00<?, ?B/s]"
      ]
     },
     "metadata": {},
     "output_type": "display_data"
    },
    {
     "data": {
      "application/vnd.jupyter.widget-view+json": {
       "model_id": "4e461b9960d44af799f71665c92e635d",
       "version_major": 2,
       "version_minor": 0
      },
      "text/plain": [
       "E3SM-MMF.mlo.0008-02-08-08400.nc:   0%|          | 0.00/1.13M [00:00<?, ?B/s]"
      ]
     },
     "metadata": {},
     "output_type": "display_data"
    },
    {
     "data": {
      "application/vnd.jupyter.widget-view+json": {
       "model_id": "e5fd8041402f4b6bb9d5f2bedaa13e14",
       "version_major": 2,
       "version_minor": 0
      },
      "text/plain": [
       "E3SM-MMF.mlo.0008-02-08-09600.nc:   0%|          | 0.00/1.13M [00:00<?, ?B/s]"
      ]
     },
     "metadata": {},
     "output_type": "display_data"
    },
    {
     "data": {
      "application/vnd.jupyter.widget-view+json": {
       "model_id": "a80b875b62604f6abb21f33b3ce70d2e",
       "version_major": 2,
       "version_minor": 0
      },
      "text/plain": [
       "E3SM-MMF.mlo.0008-02-08-10800.nc:   0%|          | 0.00/1.13M [00:00<?, ?B/s]"
      ]
     },
     "metadata": {},
     "output_type": "display_data"
    },
    {
     "data": {
      "application/vnd.jupyter.widget-view+json": {
       "model_id": "beac9529eb7944ed859ab7e72a93100d",
       "version_major": 2,
       "version_minor": 0
      },
      "text/plain": [
       "E3SM-MMF.mlo.0008-02-08-12000.nc:   0%|          | 0.00/1.13M [00:00<?, ?B/s]"
      ]
     },
     "metadata": {},
     "output_type": "display_data"
    },
    {
     "data": {
      "application/vnd.jupyter.widget-view+json": {
       "model_id": "6118b473419f41168bde421d221ae1bf",
       "version_major": 2,
       "version_minor": 0
      },
      "text/plain": [
       "E3SM-MMF.mlo.0008-02-08-13200.nc:   0%|          | 0.00/1.13M [00:00<?, ?B/s]"
      ]
     },
     "metadata": {},
     "output_type": "display_data"
    },
    {
     "data": {
      "application/vnd.jupyter.widget-view+json": {
       "model_id": "cc500e4ed75643c0a93533c2e4691d87",
       "version_major": 2,
       "version_minor": 0
      },
      "text/plain": [
       "E3SM-MMF.mlo.0008-02-08-14400.nc:   0%|          | 0.00/1.13M [00:00<?, ?B/s]"
      ]
     },
     "metadata": {},
     "output_type": "display_data"
    },
    {
     "data": {
      "application/vnd.jupyter.widget-view+json": {
       "model_id": "83f55807e448495089d054173271fb44",
       "version_major": 2,
       "version_minor": 0
      },
      "text/plain": [
       "E3SM-MMF.mlo.0008-02-08-15600.nc:   0%|          | 0.00/1.13M [00:00<?, ?B/s]"
      ]
     },
     "metadata": {},
     "output_type": "display_data"
    },
    {
     "data": {
      "application/vnd.jupyter.widget-view+json": {
       "model_id": "1ee147ca2d414ecb855fb2e8831f8823",
       "version_major": 2,
       "version_minor": 0
      },
      "text/plain": [
       "E3SM-MMF.mlo.0008-02-08-16800.nc:   0%|          | 0.00/1.13M [00:00<?, ?B/s]"
      ]
     },
     "metadata": {},
     "output_type": "display_data"
    },
    {
     "data": {
      "application/vnd.jupyter.widget-view+json": {
       "model_id": "e265394c392042eb96fc36ec01ec6322",
       "version_major": 2,
       "version_minor": 0
      },
      "text/plain": [
       "E3SM-MMF.mlo.0008-02-08-18000.nc:   0%|          | 0.00/1.13M [00:00<?, ?B/s]"
      ]
     },
     "metadata": {},
     "output_type": "display_data"
    },
    {
     "data": {
      "application/vnd.jupyter.widget-view+json": {
       "model_id": "164470f821da4a79a5034271c3bccfa0",
       "version_major": 2,
       "version_minor": 0
      },
      "text/plain": [
       "E3SM-MMF.mlo.0008-02-08-19200.nc:   0%|          | 0.00/1.13M [00:00<?, ?B/s]"
      ]
     },
     "metadata": {},
     "output_type": "display_data"
    },
    {
     "data": {
      "application/vnd.jupyter.widget-view+json": {
       "model_id": "34539e82bc86424982d3aa55a8a4254a",
       "version_major": 2,
       "version_minor": 0
      },
      "text/plain": [
       "E3SM-MMF.mlo.0008-02-08-20400.nc:   0%|          | 0.00/1.13M [00:00<?, ?B/s]"
      ]
     },
     "metadata": {},
     "output_type": "display_data"
    },
    {
     "data": {
      "application/vnd.jupyter.widget-view+json": {
       "model_id": "e8e2e9ad3caf4eb785d6d068380a9abf",
       "version_major": 2,
       "version_minor": 0
      },
      "text/plain": [
       "E3SM-MMF.mlo.0008-02-08-21600.nc:   0%|          | 0.00/1.13M [00:00<?, ?B/s]"
      ]
     },
     "metadata": {},
     "output_type": "display_data"
    },
    {
     "data": {
      "application/vnd.jupyter.widget-view+json": {
       "model_id": "097e728736d249a3aa9a72508d111a1e",
       "version_major": 2,
       "version_minor": 0
      },
      "text/plain": [
       "E3SM-MMF.mlo.0008-02-08-22800.nc:   0%|          | 0.00/1.13M [00:00<?, ?B/s]"
      ]
     },
     "metadata": {},
     "output_type": "display_data"
    },
    {
     "data": {
      "application/vnd.jupyter.widget-view+json": {
       "model_id": "7a8cb1f1bc1d4b879c325eea68773229",
       "version_major": 2,
       "version_minor": 0
      },
      "text/plain": [
       "E3SM-MMF.mlo.0008-02-08-24000.nc:   0%|          | 0.00/1.13M [00:00<?, ?B/s]"
      ]
     },
     "metadata": {},
     "output_type": "display_data"
    },
    {
     "data": {
      "application/vnd.jupyter.widget-view+json": {
       "model_id": "330ffa34c3aa4defa0a657f42771a9cb",
       "version_major": 2,
       "version_minor": 0
      },
      "text/plain": [
       "E3SM-MMF.mlo.0008-02-08-25200.nc:   0%|          | 0.00/1.13M [00:00<?, ?B/s]"
      ]
     },
     "metadata": {},
     "output_type": "display_data"
    },
    {
     "data": {
      "application/vnd.jupyter.widget-view+json": {
       "model_id": "d1e37844d84f42088f6d93396c49de7c",
       "version_major": 2,
       "version_minor": 0
      },
      "text/plain": [
       "E3SM-MMF.mlo.0008-02-08-26400.nc:   0%|          | 0.00/1.13M [00:00<?, ?B/s]"
      ]
     },
     "metadata": {},
     "output_type": "display_data"
    },
    {
     "data": {
      "application/vnd.jupyter.widget-view+json": {
       "model_id": "cc5fb128e21949db8ca04e61c8333080",
       "version_major": 2,
       "version_minor": 0
      },
      "text/plain": [
       "E3SM-MMF.mlo.0008-02-08-27600.nc:   0%|          | 0.00/1.13M [00:00<?, ?B/s]"
      ]
     },
     "metadata": {},
     "output_type": "display_data"
    },
    {
     "data": {
      "application/vnd.jupyter.widget-view+json": {
       "model_id": "3fe5f56f47354f92931ce9e995ba8c72",
       "version_major": 2,
       "version_minor": 0
      },
      "text/plain": [
       "E3SM-MMF.mlo.0008-02-08-28800.nc:   0%|          | 0.00/1.13M [00:00<?, ?B/s]"
      ]
     },
     "metadata": {},
     "output_type": "display_data"
    },
    {
     "data": {
      "application/vnd.jupyter.widget-view+json": {
       "model_id": "d536817432824d9780a050bf25c10bb1",
       "version_major": 2,
       "version_minor": 0
      },
      "text/plain": [
       "E3SM-MMF.mlo.0008-02-08-30000.nc:   0%|          | 0.00/1.13M [00:00<?, ?B/s]"
      ]
     },
     "metadata": {},
     "output_type": "display_data"
    },
    {
     "data": {
      "application/vnd.jupyter.widget-view+json": {
       "model_id": "a4e81beaad714d17a3c88380f3c39bf9",
       "version_major": 2,
       "version_minor": 0
      },
      "text/plain": [
       "E3SM-MMF.mlo.0008-02-08-31200.nc:   0%|          | 0.00/1.13M [00:00<?, ?B/s]"
      ]
     },
     "metadata": {},
     "output_type": "display_data"
    },
    {
     "data": {
      "application/vnd.jupyter.widget-view+json": {
       "model_id": "6fc65d05bec64bdf8b77a86fb3205447",
       "version_major": 2,
       "version_minor": 0
      },
      "text/plain": [
       "E3SM-MMF.mlo.0008-02-08-32400.nc:   0%|          | 0.00/1.13M [00:00<?, ?B/s]"
      ]
     },
     "metadata": {},
     "output_type": "display_data"
    },
    {
     "data": {
      "application/vnd.jupyter.widget-view+json": {
       "model_id": "a7528eed20664a9f8d41e54cfd1ed1a8",
       "version_major": 2,
       "version_minor": 0
      },
      "text/plain": [
       "E3SM-MMF.mlo.0008-02-08-33600.nc:   0%|          | 0.00/1.13M [00:00<?, ?B/s]"
      ]
     },
     "metadata": {},
     "output_type": "display_data"
    },
    {
     "data": {
      "application/vnd.jupyter.widget-view+json": {
       "model_id": "b82078b657b14d1189da9cf33d211d39",
       "version_major": 2,
       "version_minor": 0
      },
      "text/plain": [
       "E3SM-MMF.mlo.0008-02-08-34800.nc:   0%|          | 0.00/1.13M [00:00<?, ?B/s]"
      ]
     },
     "metadata": {},
     "output_type": "display_data"
    },
    {
     "data": {
      "application/vnd.jupyter.widget-view+json": {
       "model_id": "8b0a6104d60b465d8e578a7706667d60",
       "version_major": 2,
       "version_minor": 0
      },
      "text/plain": [
       "E3SM-MMF.mlo.0008-02-08-36000.nc:   0%|          | 0.00/1.13M [00:00<?, ?B/s]"
      ]
     },
     "metadata": {},
     "output_type": "display_data"
    },
    {
     "data": {
      "application/vnd.jupyter.widget-view+json": {
       "model_id": "9ad041f6ce84457ba575c95c440dad8c",
       "version_major": 2,
       "version_minor": 0
      },
      "text/plain": [
       "E3SM-MMF.mlo.0008-02-08-37200.nc:   0%|          | 0.00/1.13M [00:00<?, ?B/s]"
      ]
     },
     "metadata": {},
     "output_type": "display_data"
    },
    {
     "data": {
      "application/vnd.jupyter.widget-view+json": {
       "model_id": "153930dea98a489fb4bcd41590912ca7",
       "version_major": 2,
       "version_minor": 0
      },
      "text/plain": [
       "E3SM-MMF.mlo.0008-02-08-38400.nc:   0%|          | 0.00/1.13M [00:00<?, ?B/s]"
      ]
     },
     "metadata": {},
     "output_type": "display_data"
    },
    {
     "data": {
      "application/vnd.jupyter.widget-view+json": {
       "model_id": "e4aade906b1b4eb3b3bff14bbe052204",
       "version_major": 2,
       "version_minor": 0
      },
      "text/plain": [
       "E3SM-MMF.mlo.0008-02-08-39600.nc:   0%|          | 0.00/1.13M [00:00<?, ?B/s]"
      ]
     },
     "metadata": {},
     "output_type": "display_data"
    },
    {
     "data": {
      "application/vnd.jupyter.widget-view+json": {
       "model_id": "bcf6dfc4d3ae47a7b6332db1a52e5ac0",
       "version_major": 2,
       "version_minor": 0
      },
      "text/plain": [
       "E3SM-MMF.mlo.0008-02-08-40800.nc:   0%|          | 0.00/1.13M [00:00<?, ?B/s]"
      ]
     },
     "metadata": {},
     "output_type": "display_data"
    },
    {
     "data": {
      "application/vnd.jupyter.widget-view+json": {
       "model_id": "c3eac9ed873741379a9ff1355bd87911",
       "version_major": 2,
       "version_minor": 0
      },
      "text/plain": [
       "E3SM-MMF.mlo.0008-02-08-42000.nc:   0%|          | 0.00/1.13M [00:00<?, ?B/s]"
      ]
     },
     "metadata": {},
     "output_type": "display_data"
    },
    {
     "data": {
      "application/vnd.jupyter.widget-view+json": {
       "model_id": "7f43a20006794070bc9534eb17cf0044",
       "version_major": 2,
       "version_minor": 0
      },
      "text/plain": [
       "E3SM-MMF.mlo.0008-02-08-43200.nc:   0%|          | 0.00/1.13M [00:00<?, ?B/s]"
      ]
     },
     "metadata": {},
     "output_type": "display_data"
    },
    {
     "data": {
      "application/vnd.jupyter.widget-view+json": {
       "model_id": "9bc060a5978c4334839ff467966fcef0",
       "version_major": 2,
       "version_minor": 0
      },
      "text/plain": [
       "E3SM-MMF.mlo.0008-02-08-44400.nc:   0%|          | 0.00/1.13M [00:00<?, ?B/s]"
      ]
     },
     "metadata": {},
     "output_type": "display_data"
    },
    {
     "data": {
      "application/vnd.jupyter.widget-view+json": {
       "model_id": "6a8ec1be261b435c81e3a85a6d01ce8b",
       "version_major": 2,
       "version_minor": 0
      },
      "text/plain": [
       "E3SM-MMF.mlo.0008-02-08-45600.nc:   0%|          | 0.00/1.13M [00:00<?, ?B/s]"
      ]
     },
     "metadata": {},
     "output_type": "display_data"
    },
    {
     "data": {
      "application/vnd.jupyter.widget-view+json": {
       "model_id": "f85b8ed4d2e5416788d796f88c47b06a",
       "version_major": 2,
       "version_minor": 0
      },
      "text/plain": [
       "E3SM-MMF.mlo.0008-02-08-46800.nc:   0%|          | 0.00/1.13M [00:00<?, ?B/s]"
      ]
     },
     "metadata": {},
     "output_type": "display_data"
    },
    {
     "data": {
      "application/vnd.jupyter.widget-view+json": {
       "model_id": "45a7ca6f19c040ecb39f6ed974e86b57",
       "version_major": 2,
       "version_minor": 0
      },
      "text/plain": [
       "E3SM-MMF.mlo.0008-02-08-48000.nc:   0%|          | 0.00/1.13M [00:00<?, ?B/s]"
      ]
     },
     "metadata": {},
     "output_type": "display_data"
    },
    {
     "data": {
      "application/vnd.jupyter.widget-view+json": {
       "model_id": "29e9c29c71074b0ba5d2aa4166e97ac7",
       "version_major": 2,
       "version_minor": 0
      },
      "text/plain": [
       "E3SM-MMF.mlo.0008-02-08-49200.nc:   0%|          | 0.00/1.13M [00:00<?, ?B/s]"
      ]
     },
     "metadata": {},
     "output_type": "display_data"
    },
    {
     "data": {
      "application/vnd.jupyter.widget-view+json": {
       "model_id": "3d3688db251a4951830322ed1cfec65c",
       "version_major": 2,
       "version_minor": 0
      },
      "text/plain": [
       "E3SM-MMF.mlo.0008-02-08-50400.nc:   0%|          | 0.00/1.13M [00:00<?, ?B/s]"
      ]
     },
     "metadata": {},
     "output_type": "display_data"
    },
    {
     "data": {
      "application/vnd.jupyter.widget-view+json": {
       "model_id": "afc6e88b94364d96a61d935e673f4fa9",
       "version_major": 2,
       "version_minor": 0
      },
      "text/plain": [
       "E3SM-MMF.mlo.0008-02-08-51600.nc:   0%|          | 0.00/1.13M [00:00<?, ?B/s]"
      ]
     },
     "metadata": {},
     "output_type": "display_data"
    },
    {
     "data": {
      "application/vnd.jupyter.widget-view+json": {
       "model_id": "d267f708ec59479ca7a4f6a215c8ded6",
       "version_major": 2,
       "version_minor": 0
      },
      "text/plain": [
       "E3SM-MMF.mlo.0008-02-08-52800.nc:   0%|          | 0.00/1.13M [00:00<?, ?B/s]"
      ]
     },
     "metadata": {},
     "output_type": "display_data"
    },
    {
     "data": {
      "application/vnd.jupyter.widget-view+json": {
       "model_id": "cb7b13df5a124539a292d7c8026321af",
       "version_major": 2,
       "version_minor": 0
      },
      "text/plain": [
       "E3SM-MMF.mlo.0008-02-08-54000.nc:   0%|          | 0.00/1.13M [00:00<?, ?B/s]"
      ]
     },
     "metadata": {},
     "output_type": "display_data"
    },
    {
     "data": {
      "application/vnd.jupyter.widget-view+json": {
       "model_id": "9cecd83936d942d49af3a5fde501f88e",
       "version_major": 2,
       "version_minor": 0
      },
      "text/plain": [
       "E3SM-MMF.mlo.0008-02-08-55200.nc:   0%|          | 0.00/1.13M [00:00<?, ?B/s]"
      ]
     },
     "metadata": {},
     "output_type": "display_data"
    },
    {
     "data": {
      "application/vnd.jupyter.widget-view+json": {
       "model_id": "b7f2c81ca40a45a08b060d2638a518da",
       "version_major": 2,
       "version_minor": 0
      },
      "text/plain": [
       "E3SM-MMF.mlo.0008-02-08-56400.nc:   0%|          | 0.00/1.13M [00:00<?, ?B/s]"
      ]
     },
     "metadata": {},
     "output_type": "display_data"
    },
    {
     "data": {
      "application/vnd.jupyter.widget-view+json": {
       "model_id": "adf2bab5621e4e058ea4975a7421aeeb",
       "version_major": 2,
       "version_minor": 0
      },
      "text/plain": [
       "E3SM-MMF.mlo.0008-02-08-57600.nc:   0%|          | 0.00/1.13M [00:00<?, ?B/s]"
      ]
     },
     "metadata": {},
     "output_type": "display_data"
    },
    {
     "data": {
      "application/vnd.jupyter.widget-view+json": {
       "model_id": "3dae9c81a2414a609c1871cdf20d6f96",
       "version_major": 2,
       "version_minor": 0
      },
      "text/plain": [
       "E3SM-MMF.mlo.0008-02-08-58800.nc:   0%|          | 0.00/1.13M [00:00<?, ?B/s]"
      ]
     },
     "metadata": {},
     "output_type": "display_data"
    },
    {
     "data": {
      "application/vnd.jupyter.widget-view+json": {
       "model_id": "3734e1d4d4ec4d2986367c9bba69554d",
       "version_major": 2,
       "version_minor": 0
      },
      "text/plain": [
       "E3SM-MMF.mlo.0008-02-08-60000.nc:   0%|          | 0.00/1.13M [00:00<?, ?B/s]"
      ]
     },
     "metadata": {},
     "output_type": "display_data"
    },
    {
     "data": {
      "application/vnd.jupyter.widget-view+json": {
       "model_id": "73421ff66abe4e01aa3f590cf5e7a827",
       "version_major": 2,
       "version_minor": 0
      },
      "text/plain": [
       "E3SM-MMF.mlo.0008-02-08-61200.nc:   0%|          | 0.00/1.13M [00:00<?, ?B/s]"
      ]
     },
     "metadata": {},
     "output_type": "display_data"
    },
    {
     "data": {
      "application/vnd.jupyter.widget-view+json": {
       "model_id": "c7250da6256d4bb5a22d8c5bee4ec9f4",
       "version_major": 2,
       "version_minor": 0
      },
      "text/plain": [
       "E3SM-MMF.mlo.0008-02-08-62400.nc:   0%|          | 0.00/1.13M [00:00<?, ?B/s]"
      ]
     },
     "metadata": {},
     "output_type": "display_data"
    },
    {
     "data": {
      "application/vnd.jupyter.widget-view+json": {
       "model_id": "bc0997b555f64f45989e495bea5cfbb0",
       "version_major": 2,
       "version_minor": 0
      },
      "text/plain": [
       "E3SM-MMF.mlo.0008-02-08-63600.nc:   0%|          | 0.00/1.13M [00:00<?, ?B/s]"
      ]
     },
     "metadata": {},
     "output_type": "display_data"
    },
    {
     "data": {
      "application/vnd.jupyter.widget-view+json": {
       "model_id": "9b7fbf448b384bebad5a59b00975785b",
       "version_major": 2,
       "version_minor": 0
      },
      "text/plain": [
       "E3SM-MMF.mlo.0008-02-08-64800.nc:   0%|          | 0.00/1.13M [00:00<?, ?B/s]"
      ]
     },
     "metadata": {},
     "output_type": "display_data"
    },
    {
     "data": {
      "application/vnd.jupyter.widget-view+json": {
       "model_id": "e762a70a5fb34cb5858cc153f3c46d7a",
       "version_major": 2,
       "version_minor": 0
      },
      "text/plain": [
       "E3SM-MMF.mlo.0008-02-08-66000.nc:   0%|          | 0.00/1.13M [00:00<?, ?B/s]"
      ]
     },
     "metadata": {},
     "output_type": "display_data"
    },
    {
     "data": {
      "application/vnd.jupyter.widget-view+json": {
       "model_id": "e5124789003e40ebb8ba6cd7fd1311a9",
       "version_major": 2,
       "version_minor": 0
      },
      "text/plain": [
       "E3SM-MMF.mlo.0008-02-08-67200.nc:   0%|          | 0.00/1.13M [00:00<?, ?B/s]"
      ]
     },
     "metadata": {},
     "output_type": "display_data"
    },
    {
     "data": {
      "application/vnd.jupyter.widget-view+json": {
       "model_id": "73540160f38243cb83a24c33a126bc6e",
       "version_major": 2,
       "version_minor": 0
      },
      "text/plain": [
       "E3SM-MMF.mlo.0008-02-08-68400.nc:   0%|          | 0.00/1.13M [00:00<?, ?B/s]"
      ]
     },
     "metadata": {},
     "output_type": "display_data"
    },
    {
     "data": {
      "application/vnd.jupyter.widget-view+json": {
       "model_id": "366f03a1167d4a0a8a37462b87b3b07d",
       "version_major": 2,
       "version_minor": 0
      },
      "text/plain": [
       "E3SM-MMF.mlo.0008-02-08-69600.nc:   0%|          | 0.00/1.13M [00:00<?, ?B/s]"
      ]
     },
     "metadata": {},
     "output_type": "display_data"
    },
    {
     "data": {
      "application/vnd.jupyter.widget-view+json": {
       "model_id": "88039be36d48467c90833fbe3dad7896",
       "version_major": 2,
       "version_minor": 0
      },
      "text/plain": [
       "E3SM-MMF.mlo.0008-02-08-70800.nc:   0%|          | 0.00/1.13M [00:00<?, ?B/s]"
      ]
     },
     "metadata": {},
     "output_type": "display_data"
    },
    {
     "data": {
      "application/vnd.jupyter.widget-view+json": {
       "model_id": "b0c670b753ae49ce8f5ddb9634e08c93",
       "version_major": 2,
       "version_minor": 0
      },
      "text/plain": [
       "E3SM-MMF.mlo.0008-02-08-72000.nc:   0%|          | 0.00/1.13M [00:00<?, ?B/s]"
      ]
     },
     "metadata": {},
     "output_type": "display_data"
    },
    {
     "data": {
      "application/vnd.jupyter.widget-view+json": {
       "model_id": "1bda12cf652b4a0eb6a344b280cd7bbc",
       "version_major": 2,
       "version_minor": 0
      },
      "text/plain": [
       "E3SM-MMF.mlo.0008-02-08-73200.nc:   0%|          | 0.00/1.13M [00:00<?, ?B/s]"
      ]
     },
     "metadata": {},
     "output_type": "display_data"
    },
    {
     "data": {
      "application/vnd.jupyter.widget-view+json": {
       "model_id": "dc6ff891b4924aab9540b6b16139692e",
       "version_major": 2,
       "version_minor": 0
      },
      "text/plain": [
       "E3SM-MMF.mlo.0008-02-08-74400.nc:   0%|          | 0.00/1.13M [00:00<?, ?B/s]"
      ]
     },
     "metadata": {},
     "output_type": "display_data"
    },
    {
     "data": {
      "application/vnd.jupyter.widget-view+json": {
       "model_id": "8a97378470ce44ffa80c92db1586c9f1",
       "version_major": 2,
       "version_minor": 0
      },
      "text/plain": [
       "E3SM-MMF.mlo.0008-02-08-75600.nc:   0%|          | 0.00/1.13M [00:00<?, ?B/s]"
      ]
     },
     "metadata": {},
     "output_type": "display_data"
    },
    {
     "data": {
      "application/vnd.jupyter.widget-view+json": {
       "model_id": "ef8caf57add547e5ab6070b6d76674dc",
       "version_major": 2,
       "version_minor": 0
      },
      "text/plain": [
       "E3SM-MMF.mlo.0008-02-08-76800.nc:   0%|          | 0.00/1.13M [00:00<?, ?B/s]"
      ]
     },
     "metadata": {},
     "output_type": "display_data"
    },
    {
     "data": {
      "application/vnd.jupyter.widget-view+json": {
       "model_id": "4a47f2e3bd48463197284d0e60dbf62c",
       "version_major": 2,
       "version_minor": 0
      },
      "text/plain": [
       "E3SM-MMF.mlo.0008-02-08-78000.nc:   0%|          | 0.00/1.13M [00:00<?, ?B/s]"
      ]
     },
     "metadata": {},
     "output_type": "display_data"
    },
    {
     "data": {
      "application/vnd.jupyter.widget-view+json": {
       "model_id": "127075a6c0224dc189d60af7e086b942",
       "version_major": 2,
       "version_minor": 0
      },
      "text/plain": [
       "E3SM-MMF.mlo.0008-02-08-79200.nc:   0%|          | 0.00/1.13M [00:00<?, ?B/s]"
      ]
     },
     "metadata": {},
     "output_type": "display_data"
    },
    {
     "data": {
      "application/vnd.jupyter.widget-view+json": {
       "model_id": "3c091df07ad54828b07dd6f654677d39",
       "version_major": 2,
       "version_minor": 0
      },
      "text/plain": [
       "E3SM-MMF.mlo.0008-02-08-80400.nc:   0%|          | 0.00/1.13M [00:00<?, ?B/s]"
      ]
     },
     "metadata": {},
     "output_type": "display_data"
    },
    {
     "data": {
      "application/vnd.jupyter.widget-view+json": {
       "model_id": "1e081410f0d6474e991cdd42b79cb6f3",
       "version_major": 2,
       "version_minor": 0
      },
      "text/plain": [
       "E3SM-MMF.mlo.0008-02-08-81600.nc:   0%|          | 0.00/1.13M [00:00<?, ?B/s]"
      ]
     },
     "metadata": {},
     "output_type": "display_data"
    },
    {
     "data": {
      "application/vnd.jupyter.widget-view+json": {
       "model_id": "0f8e15fc0ac54c1e92538a15f9c18eaa",
       "version_major": 2,
       "version_minor": 0
      },
      "text/plain": [
       "E3SM-MMF.mlo.0008-02-08-82800.nc:   0%|          | 0.00/1.13M [00:00<?, ?B/s]"
      ]
     },
     "metadata": {},
     "output_type": "display_data"
    },
    {
     "data": {
      "application/vnd.jupyter.widget-view+json": {
       "model_id": "8f680f3cb51b405c97995162a57362d2",
       "version_major": 2,
       "version_minor": 0
      },
      "text/plain": [
       "E3SM-MMF.mlo.0008-02-08-84000.nc:   0%|          | 0.00/1.13M [00:00<?, ?B/s]"
      ]
     },
     "metadata": {},
     "output_type": "display_data"
    },
    {
     "data": {
      "application/vnd.jupyter.widget-view+json": {
       "model_id": "0bbcfd5888b4449fa4c37424ee5b953b",
       "version_major": 2,
       "version_minor": 0
      },
      "text/plain": [
       "E3SM-MMF.mlo.0008-02-08-85200.nc:   0%|          | 0.00/1.13M [00:00<?, ?B/s]"
      ]
     },
     "metadata": {},
     "output_type": "display_data"
    },
    {
     "data": {
      "application/vnd.jupyter.widget-view+json": {
       "model_id": "196e40a61f0e42828f9146eb81653cea",
       "version_major": 2,
       "version_minor": 0
      },
      "text/plain": [
       "E3SM-MMF.mlo.0008-02-09-00000.nc:   0%|          | 0.00/1.13M [00:00<?, ?B/s]"
      ]
     },
     "metadata": {},
     "output_type": "display_data"
    },
    {
     "data": {
      "application/vnd.jupyter.widget-view+json": {
       "model_id": "a3b799b931d04a409b80e1eee0f0e204",
       "version_major": 2,
       "version_minor": 0
      },
      "text/plain": [
       "E3SM-MMF.mlo.0008-02-09-01200.nc:   0%|          | 0.00/1.13M [00:00<?, ?B/s]"
      ]
     },
     "metadata": {},
     "output_type": "display_data"
    },
    {
     "data": {
      "application/vnd.jupyter.widget-view+json": {
       "model_id": "2e2b533c9ce64896a6e10ac433b5b20c",
       "version_major": 2,
       "version_minor": 0
      },
      "text/plain": [
       "E3SM-MMF.mlo.0008-02-09-02400.nc:   0%|          | 0.00/1.13M [00:00<?, ?B/s]"
      ]
     },
     "metadata": {},
     "output_type": "display_data"
    },
    {
     "data": {
      "application/vnd.jupyter.widget-view+json": {
       "model_id": "2506aac378e9401a883a87251784b151",
       "version_major": 2,
       "version_minor": 0
      },
      "text/plain": [
       "E3SM-MMF.mlo.0008-02-09-03600.nc:   0%|          | 0.00/1.13M [00:00<?, ?B/s]"
      ]
     },
     "metadata": {},
     "output_type": "display_data"
    },
    {
     "data": {
      "application/vnd.jupyter.widget-view+json": {
       "model_id": "89357a9ef3294621851ec5bb35f5a7aa",
       "version_major": 2,
       "version_minor": 0
      },
      "text/plain": [
       "E3SM-MMF.mlo.0008-02-09-04800.nc:   0%|          | 0.00/1.13M [00:00<?, ?B/s]"
      ]
     },
     "metadata": {},
     "output_type": "display_data"
    },
    {
     "data": {
      "application/vnd.jupyter.widget-view+json": {
       "model_id": "b10393b055f34efe8bc7f06149177bd1",
       "version_major": 2,
       "version_minor": 0
      },
      "text/plain": [
       "E3SM-MMF.mlo.0008-02-09-06000.nc:   0%|          | 0.00/1.13M [00:00<?, ?B/s]"
      ]
     },
     "metadata": {},
     "output_type": "display_data"
    },
    {
     "data": {
      "application/vnd.jupyter.widget-view+json": {
       "model_id": "aec759c941bf4a7e9467e9e326140e5e",
       "version_major": 2,
       "version_minor": 0
      },
      "text/plain": [
       "E3SM-MMF.mlo.0008-02-09-07200.nc:   0%|          | 0.00/1.13M [00:00<?, ?B/s]"
      ]
     },
     "metadata": {},
     "output_type": "display_data"
    },
    {
     "data": {
      "application/vnd.jupyter.widget-view+json": {
       "model_id": "51b751f49b5441219908c4d7b2f593c8",
       "version_major": 2,
       "version_minor": 0
      },
      "text/plain": [
       "E3SM-MMF.mlo.0008-02-09-08400.nc:   0%|          | 0.00/1.13M [00:00<?, ?B/s]"
      ]
     },
     "metadata": {},
     "output_type": "display_data"
    },
    {
     "data": {
      "application/vnd.jupyter.widget-view+json": {
       "model_id": "5c9b3b83d74c4712a0676e339394dacd",
       "version_major": 2,
       "version_minor": 0
      },
      "text/plain": [
       "E3SM-MMF.mlo.0008-02-09-09600.nc:   0%|          | 0.00/1.13M [00:00<?, ?B/s]"
      ]
     },
     "metadata": {},
     "output_type": "display_data"
    },
    {
     "data": {
      "application/vnd.jupyter.widget-view+json": {
       "model_id": "758649d4bf4d49c3bdcb70c7cf24f33f",
       "version_major": 2,
       "version_minor": 0
      },
      "text/plain": [
       "E3SM-MMF.mlo.0008-02-09-10800.nc:   0%|          | 0.00/1.13M [00:00<?, ?B/s]"
      ]
     },
     "metadata": {},
     "output_type": "display_data"
    },
    {
     "data": {
      "application/vnd.jupyter.widget-view+json": {
       "model_id": "c864ce6e15c14e1ca9dbbf4fc1671aaf",
       "version_major": 2,
       "version_minor": 0
      },
      "text/plain": [
       "E3SM-MMF.mlo.0008-02-09-12000.nc:   0%|          | 0.00/1.13M [00:00<?, ?B/s]"
      ]
     },
     "metadata": {},
     "output_type": "display_data"
    },
    {
     "data": {
      "application/vnd.jupyter.widget-view+json": {
       "model_id": "eedcf9a8a1be417c8d20ee29bf1558e3",
       "version_major": 2,
       "version_minor": 0
      },
      "text/plain": [
       "E3SM-MMF.mlo.0008-02-09-13200.nc:   0%|          | 0.00/1.13M [00:00<?, ?B/s]"
      ]
     },
     "metadata": {},
     "output_type": "display_data"
    },
    {
     "data": {
      "application/vnd.jupyter.widget-view+json": {
       "model_id": "1c283f8be5d24690a648c6b99a9cd07f",
       "version_major": 2,
       "version_minor": 0
      },
      "text/plain": [
       "E3SM-MMF.mlo.0008-02-09-14400.nc:   0%|          | 0.00/1.13M [00:00<?, ?B/s]"
      ]
     },
     "metadata": {},
     "output_type": "display_data"
    },
    {
     "data": {
      "application/vnd.jupyter.widget-view+json": {
       "model_id": "6bc051acd93340a2a1d7bb622858993a",
       "version_major": 2,
       "version_minor": 0
      },
      "text/plain": [
       "E3SM-MMF.mlo.0008-02-09-15600.nc:   0%|          | 0.00/1.13M [00:00<?, ?B/s]"
      ]
     },
     "metadata": {},
     "output_type": "display_data"
    },
    {
     "data": {
      "application/vnd.jupyter.widget-view+json": {
       "model_id": "3b5a79b79e6d4e4da6cc60fc1468a7a8",
       "version_major": 2,
       "version_minor": 0
      },
      "text/plain": [
       "E3SM-MMF.mlo.0008-02-09-16800.nc:   0%|          | 0.00/1.13M [00:00<?, ?B/s]"
      ]
     },
     "metadata": {},
     "output_type": "display_data"
    },
    {
     "data": {
      "application/vnd.jupyter.widget-view+json": {
       "model_id": "a5d19b3d09a9431bbca82bd04f3d5734",
       "version_major": 2,
       "version_minor": 0
      },
      "text/plain": [
       "E3SM-MMF.mlo.0008-02-09-18000.nc:   0%|          | 0.00/1.13M [00:00<?, ?B/s]"
      ]
     },
     "metadata": {},
     "output_type": "display_data"
    },
    {
     "data": {
      "application/vnd.jupyter.widget-view+json": {
       "model_id": "967841bb08e7417480fee13cdad43ec6",
       "version_major": 2,
       "version_minor": 0
      },
      "text/plain": [
       "E3SM-MMF.mlo.0008-02-09-19200.nc:   0%|          | 0.00/1.13M [00:00<?, ?B/s]"
      ]
     },
     "metadata": {},
     "output_type": "display_data"
    },
    {
     "data": {
      "application/vnd.jupyter.widget-view+json": {
       "model_id": "33f3f28b1fbb4e57bf142676da311169",
       "version_major": 2,
       "version_minor": 0
      },
      "text/plain": [
       "E3SM-MMF.mlo.0008-02-09-20400.nc:   0%|          | 0.00/1.13M [00:00<?, ?B/s]"
      ]
     },
     "metadata": {},
     "output_type": "display_data"
    },
    {
     "data": {
      "application/vnd.jupyter.widget-view+json": {
       "model_id": "22567aaa0e7b4afeb02b207a04a80d0f",
       "version_major": 2,
       "version_minor": 0
      },
      "text/plain": [
       "E3SM-MMF.mlo.0008-02-09-21600.nc:   0%|          | 0.00/1.13M [00:00<?, ?B/s]"
      ]
     },
     "metadata": {},
     "output_type": "display_data"
    },
    {
     "data": {
      "application/vnd.jupyter.widget-view+json": {
       "model_id": "f772c4dddafe470daad3cbf4ad69b330",
       "version_major": 2,
       "version_minor": 0
      },
      "text/plain": [
       "E3SM-MMF.mlo.0008-02-09-22800.nc:   0%|          | 0.00/1.13M [00:00<?, ?B/s]"
      ]
     },
     "metadata": {},
     "output_type": "display_data"
    },
    {
     "data": {
      "application/vnd.jupyter.widget-view+json": {
       "model_id": "b26a82016360481cac0dc695beb4b41d",
       "version_major": 2,
       "version_minor": 0
      },
      "text/plain": [
       "E3SM-MMF.mlo.0008-02-09-24000.nc:   0%|          | 0.00/1.13M [00:00<?, ?B/s]"
      ]
     },
     "metadata": {},
     "output_type": "display_data"
    },
    {
     "data": {
      "application/vnd.jupyter.widget-view+json": {
       "model_id": "e0629cfc922f4491b6d3acde8ee23a6a",
       "version_major": 2,
       "version_minor": 0
      },
      "text/plain": [
       "E3SM-MMF.mlo.0008-02-09-25200.nc:   0%|          | 0.00/1.13M [00:00<?, ?B/s]"
      ]
     },
     "metadata": {},
     "output_type": "display_data"
    },
    {
     "data": {
      "application/vnd.jupyter.widget-view+json": {
       "model_id": "20866ff121eb428db2774d1721439cf5",
       "version_major": 2,
       "version_minor": 0
      },
      "text/plain": [
       "E3SM-MMF.mlo.0008-02-09-26400.nc:   0%|          | 0.00/1.13M [00:00<?, ?B/s]"
      ]
     },
     "metadata": {},
     "output_type": "display_data"
    },
    {
     "data": {
      "application/vnd.jupyter.widget-view+json": {
       "model_id": "a6cbaff2d35b4cc2b9bdae4cde522a7a",
       "version_major": 2,
       "version_minor": 0
      },
      "text/plain": [
       "E3SM-MMF.mlo.0008-02-09-27600.nc:   0%|          | 0.00/1.13M [00:00<?, ?B/s]"
      ]
     },
     "metadata": {},
     "output_type": "display_data"
    },
    {
     "data": {
      "application/vnd.jupyter.widget-view+json": {
       "model_id": "dc03fa6605794af5a03afe7f02bdf97d",
       "version_major": 2,
       "version_minor": 0
      },
      "text/plain": [
       "E3SM-MMF.mlo.0008-02-09-28800.nc:   0%|          | 0.00/1.13M [00:00<?, ?B/s]"
      ]
     },
     "metadata": {},
     "output_type": "display_data"
    },
    {
     "data": {
      "application/vnd.jupyter.widget-view+json": {
       "model_id": "8d93f8c6a4d74762bed72ce72e387ae4",
       "version_major": 2,
       "version_minor": 0
      },
      "text/plain": [
       "E3SM-MMF.mlo.0008-02-09-30000.nc:   0%|          | 0.00/1.13M [00:00<?, ?B/s]"
      ]
     },
     "metadata": {},
     "output_type": "display_data"
    },
    {
     "data": {
      "application/vnd.jupyter.widget-view+json": {
       "model_id": "ed30ea833f5745e1a3323c9aececaecc",
       "version_major": 2,
       "version_minor": 0
      },
      "text/plain": [
       "E3SM-MMF.mlo.0008-02-09-31200.nc:   0%|          | 0.00/1.13M [00:00<?, ?B/s]"
      ]
     },
     "metadata": {},
     "output_type": "display_data"
    },
    {
     "data": {
      "application/vnd.jupyter.widget-view+json": {
       "model_id": "69645f60d61b49bb8bf24a1906fe8f26",
       "version_major": 2,
       "version_minor": 0
      },
      "text/plain": [
       "E3SM-MMF.mlo.0008-02-09-32400.nc:   0%|          | 0.00/1.13M [00:00<?, ?B/s]"
      ]
     },
     "metadata": {},
     "output_type": "display_data"
    },
    {
     "data": {
      "application/vnd.jupyter.widget-view+json": {
       "model_id": "97c00c14f1b8439dace8f039da04b62e",
       "version_major": 2,
       "version_minor": 0
      },
      "text/plain": [
       "E3SM-MMF.mlo.0008-02-09-33600.nc:   0%|          | 0.00/1.13M [00:00<?, ?B/s]"
      ]
     },
     "metadata": {},
     "output_type": "display_data"
    },
    {
     "data": {
      "application/vnd.jupyter.widget-view+json": {
       "model_id": "fc9d2247aaeb454e8474936754b05014",
       "version_major": 2,
       "version_minor": 0
      },
      "text/plain": [
       "E3SM-MMF.mlo.0008-02-09-34800.nc:   0%|          | 0.00/1.13M [00:00<?, ?B/s]"
      ]
     },
     "metadata": {},
     "output_type": "display_data"
    },
    {
     "data": {
      "application/vnd.jupyter.widget-view+json": {
       "model_id": "81f21ff2b884454ba017b06f6ad15935",
       "version_major": 2,
       "version_minor": 0
      },
      "text/plain": [
       "E3SM-MMF.mlo.0008-02-09-36000.nc:   0%|          | 0.00/1.13M [00:00<?, ?B/s]"
      ]
     },
     "metadata": {},
     "output_type": "display_data"
    },
    {
     "data": {
      "application/vnd.jupyter.widget-view+json": {
       "model_id": "ea3fcea4538741c2bb1a142271c567c9",
       "version_major": 2,
       "version_minor": 0
      },
      "text/plain": [
       "E3SM-MMF.mlo.0008-02-09-37200.nc:   0%|          | 0.00/1.13M [00:00<?, ?B/s]"
      ]
     },
     "metadata": {},
     "output_type": "display_data"
    },
    {
     "data": {
      "application/vnd.jupyter.widget-view+json": {
       "model_id": "d91e4851310847b1a3528a9dcef31c67",
       "version_major": 2,
       "version_minor": 0
      },
      "text/plain": [
       "E3SM-MMF.mlo.0008-02-09-38400.nc:   0%|          | 0.00/1.13M [00:00<?, ?B/s]"
      ]
     },
     "metadata": {},
     "output_type": "display_data"
    },
    {
     "data": {
      "application/vnd.jupyter.widget-view+json": {
       "model_id": "45f4895903724a4c8c8033710dbecb8e",
       "version_major": 2,
       "version_minor": 0
      },
      "text/plain": [
       "E3SM-MMF.mlo.0008-02-09-39600.nc:   0%|          | 0.00/1.13M [00:00<?, ?B/s]"
      ]
     },
     "metadata": {},
     "output_type": "display_data"
    },
    {
     "data": {
      "application/vnd.jupyter.widget-view+json": {
       "model_id": "e1fc70080c484e7c81471c3104ece4ac",
       "version_major": 2,
       "version_minor": 0
      },
      "text/plain": [
       "E3SM-MMF.mlo.0008-02-09-40800.nc:   0%|          | 0.00/1.13M [00:00<?, ?B/s]"
      ]
     },
     "metadata": {},
     "output_type": "display_data"
    },
    {
     "data": {
      "application/vnd.jupyter.widget-view+json": {
       "model_id": "f48b87fc9ff94d30ba637b2a1f012f3d",
       "version_major": 2,
       "version_minor": 0
      },
      "text/plain": [
       "E3SM-MMF.mlo.0008-02-09-42000.nc:   0%|          | 0.00/1.13M [00:00<?, ?B/s]"
      ]
     },
     "metadata": {},
     "output_type": "display_data"
    },
    {
     "data": {
      "application/vnd.jupyter.widget-view+json": {
       "model_id": "7bf84e35f8ed4e6898c8573169b7ba55",
       "version_major": 2,
       "version_minor": 0
      },
      "text/plain": [
       "E3SM-MMF.mlo.0008-02-09-43200.nc:   0%|          | 0.00/1.13M [00:00<?, ?B/s]"
      ]
     },
     "metadata": {},
     "output_type": "display_data"
    },
    {
     "data": {
      "application/vnd.jupyter.widget-view+json": {
       "model_id": "0d0c959f1c0843e99aa0f3031ca552f1",
       "version_major": 2,
       "version_minor": 0
      },
      "text/plain": [
       "E3SM-MMF.mlo.0008-02-09-44400.nc:   0%|          | 0.00/1.13M [00:00<?, ?B/s]"
      ]
     },
     "metadata": {},
     "output_type": "display_data"
    },
    {
     "data": {
      "application/vnd.jupyter.widget-view+json": {
       "model_id": "232310ecb72b43c3be1969ae219ab88c",
       "version_major": 2,
       "version_minor": 0
      },
      "text/plain": [
       "E3SM-MMF.mlo.0008-02-09-45600.nc:   0%|          | 0.00/1.13M [00:00<?, ?B/s]"
      ]
     },
     "metadata": {},
     "output_type": "display_data"
    },
    {
     "data": {
      "application/vnd.jupyter.widget-view+json": {
       "model_id": "042f7d0e49c844aca7f08be2fed5cc74",
       "version_major": 2,
       "version_minor": 0
      },
      "text/plain": [
       "E3SM-MMF.mlo.0008-02-09-46800.nc:   0%|          | 0.00/1.13M [00:00<?, ?B/s]"
      ]
     },
     "metadata": {},
     "output_type": "display_data"
    },
    {
     "data": {
      "application/vnd.jupyter.widget-view+json": {
       "model_id": "ff0e4219e9564d7a9ffb3f4e13fe90f4",
       "version_major": 2,
       "version_minor": 0
      },
      "text/plain": [
       "E3SM-MMF.mlo.0008-02-09-48000.nc:   0%|          | 0.00/1.13M [00:00<?, ?B/s]"
      ]
     },
     "metadata": {},
     "output_type": "display_data"
    },
    {
     "data": {
      "application/vnd.jupyter.widget-view+json": {
       "model_id": "f75670447a044173883231c16755bc13",
       "version_major": 2,
       "version_minor": 0
      },
      "text/plain": [
       "E3SM-MMF.mlo.0008-02-09-49200.nc:   0%|          | 0.00/1.13M [00:00<?, ?B/s]"
      ]
     },
     "metadata": {},
     "output_type": "display_data"
    },
    {
     "data": {
      "application/vnd.jupyter.widget-view+json": {
       "model_id": "109d72f35a5549958e4607b7ec55f016",
       "version_major": 2,
       "version_minor": 0
      },
      "text/plain": [
       "E3SM-MMF.mlo.0008-02-09-50400.nc:   0%|          | 0.00/1.13M [00:00<?, ?B/s]"
      ]
     },
     "metadata": {},
     "output_type": "display_data"
    },
    {
     "data": {
      "application/vnd.jupyter.widget-view+json": {
       "model_id": "9a7a38eb30404546a7120a99069b7759",
       "version_major": 2,
       "version_minor": 0
      },
      "text/plain": [
       "E3SM-MMF.mlo.0008-02-09-51600.nc:   0%|          | 0.00/1.13M [00:00<?, ?B/s]"
      ]
     },
     "metadata": {},
     "output_type": "display_data"
    },
    {
     "data": {
      "application/vnd.jupyter.widget-view+json": {
       "model_id": "573cf956dae949118101af36c59d1fff",
       "version_major": 2,
       "version_minor": 0
      },
      "text/plain": [
       "E3SM-MMF.mlo.0008-02-09-52800.nc:   0%|          | 0.00/1.13M [00:00<?, ?B/s]"
      ]
     },
     "metadata": {},
     "output_type": "display_data"
    },
    {
     "data": {
      "application/vnd.jupyter.widget-view+json": {
       "model_id": "d88bdda8a59743c48a3a6593c4983b5b",
       "version_major": 2,
       "version_minor": 0
      },
      "text/plain": [
       "E3SM-MMF.mlo.0008-02-09-54000.nc:   0%|          | 0.00/1.13M [00:00<?, ?B/s]"
      ]
     },
     "metadata": {},
     "output_type": "display_data"
    },
    {
     "data": {
      "application/vnd.jupyter.widget-view+json": {
       "model_id": "d18f39fdb64d4a5f9fd47309b04ecab5",
       "version_major": 2,
       "version_minor": 0
      },
      "text/plain": [
       "E3SM-MMF.mlo.0008-02-09-55200.nc:   0%|          | 0.00/1.13M [00:00<?, ?B/s]"
      ]
     },
     "metadata": {},
     "output_type": "display_data"
    },
    {
     "data": {
      "application/vnd.jupyter.widget-view+json": {
       "model_id": "c76798d11ca14675a6f51a25a3d79649",
       "version_major": 2,
       "version_minor": 0
      },
      "text/plain": [
       "E3SM-MMF.mlo.0008-02-09-56400.nc:   0%|          | 0.00/1.13M [00:00<?, ?B/s]"
      ]
     },
     "metadata": {},
     "output_type": "display_data"
    },
    {
     "data": {
      "application/vnd.jupyter.widget-view+json": {
       "model_id": "c86b132360db4718bca32f5b151ef9ab",
       "version_major": 2,
       "version_minor": 0
      },
      "text/plain": [
       "E3SM-MMF.mlo.0008-02-09-57600.nc:   0%|          | 0.00/1.13M [00:00<?, ?B/s]"
      ]
     },
     "metadata": {},
     "output_type": "display_data"
    },
    {
     "data": {
      "application/vnd.jupyter.widget-view+json": {
       "model_id": "26fcd7863fda4a43add57846b1675715",
       "version_major": 2,
       "version_minor": 0
      },
      "text/plain": [
       "E3SM-MMF.mlo.0008-02-09-58800.nc:   0%|          | 0.00/1.13M [00:00<?, ?B/s]"
      ]
     },
     "metadata": {},
     "output_type": "display_data"
    },
    {
     "data": {
      "application/vnd.jupyter.widget-view+json": {
       "model_id": "4df1b51812ce4ea7973202296a341142",
       "version_major": 2,
       "version_minor": 0
      },
      "text/plain": [
       "E3SM-MMF.mlo.0008-02-09-60000.nc:   0%|          | 0.00/1.13M [00:00<?, ?B/s]"
      ]
     },
     "metadata": {},
     "output_type": "display_data"
    },
    {
     "data": {
      "application/vnd.jupyter.widget-view+json": {
       "model_id": "08ea64205c1e4fcd9b7957b6f03aede1",
       "version_major": 2,
       "version_minor": 0
      },
      "text/plain": [
       "E3SM-MMF.mlo.0008-02-09-61200.nc:   0%|          | 0.00/1.13M [00:00<?, ?B/s]"
      ]
     },
     "metadata": {},
     "output_type": "display_data"
    },
    {
     "data": {
      "application/vnd.jupyter.widget-view+json": {
       "model_id": "584f5d10dea4457182c45cfe707b1f5b",
       "version_major": 2,
       "version_minor": 0
      },
      "text/plain": [
       "E3SM-MMF.mlo.0008-02-09-62400.nc:   0%|          | 0.00/1.13M [00:00<?, ?B/s]"
      ]
     },
     "metadata": {},
     "output_type": "display_data"
    },
    {
     "data": {
      "application/vnd.jupyter.widget-view+json": {
       "model_id": "86d10d54972f45f393f2f9d47dcc16b2",
       "version_major": 2,
       "version_minor": 0
      },
      "text/plain": [
       "E3SM-MMF.mlo.0008-02-09-63600.nc:   0%|          | 0.00/1.13M [00:00<?, ?B/s]"
      ]
     },
     "metadata": {},
     "output_type": "display_data"
    },
    {
     "data": {
      "application/vnd.jupyter.widget-view+json": {
       "model_id": "7dcbe5114ea24f5588516a56b63d225a",
       "version_major": 2,
       "version_minor": 0
      },
      "text/plain": [
       "E3SM-MMF.mlo.0008-02-09-64800.nc:   0%|          | 0.00/1.13M [00:00<?, ?B/s]"
      ]
     },
     "metadata": {},
     "output_type": "display_data"
    },
    {
     "data": {
      "application/vnd.jupyter.widget-view+json": {
       "model_id": "dad25dd01beb4d2c8202495e28540bf0",
       "version_major": 2,
       "version_minor": 0
      },
      "text/plain": [
       "E3SM-MMF.mlo.0008-02-09-66000.nc:   0%|          | 0.00/1.13M [00:00<?, ?B/s]"
      ]
     },
     "metadata": {},
     "output_type": "display_data"
    },
    {
     "data": {
      "application/vnd.jupyter.widget-view+json": {
       "model_id": "5f96b62df36041db965190184652e5cf",
       "version_major": 2,
       "version_minor": 0
      },
      "text/plain": [
       "E3SM-MMF.mlo.0008-02-09-67200.nc:   0%|          | 0.00/1.13M [00:00<?, ?B/s]"
      ]
     },
     "metadata": {},
     "output_type": "display_data"
    },
    {
     "data": {
      "application/vnd.jupyter.widget-view+json": {
       "model_id": "0df534c7a1574b748d881965997c6520",
       "version_major": 2,
       "version_minor": 0
      },
      "text/plain": [
       "E3SM-MMF.mlo.0008-02-09-68400.nc:   0%|          | 0.00/1.13M [00:00<?, ?B/s]"
      ]
     },
     "metadata": {},
     "output_type": "display_data"
    },
    {
     "data": {
      "application/vnd.jupyter.widget-view+json": {
       "model_id": "06d3ae500ac64117af811bd4de2077a3",
       "version_major": 2,
       "version_minor": 0
      },
      "text/plain": [
       "E3SM-MMF.mlo.0008-02-09-69600.nc:   0%|          | 0.00/1.13M [00:00<?, ?B/s]"
      ]
     },
     "metadata": {},
     "output_type": "display_data"
    },
    {
     "data": {
      "application/vnd.jupyter.widget-view+json": {
       "model_id": "46f8194b4f994f5381dec42506683fbd",
       "version_major": 2,
       "version_minor": 0
      },
      "text/plain": [
       "E3SM-MMF.mlo.0008-02-09-70800.nc:   0%|          | 0.00/1.13M [00:00<?, ?B/s]"
      ]
     },
     "metadata": {},
     "output_type": "display_data"
    },
    {
     "data": {
      "application/vnd.jupyter.widget-view+json": {
       "model_id": "39d99c310387457d8036831c2ed6d370",
       "version_major": 2,
       "version_minor": 0
      },
      "text/plain": [
       "E3SM-MMF.mlo.0008-02-09-72000.nc:   0%|          | 0.00/1.13M [00:00<?, ?B/s]"
      ]
     },
     "metadata": {},
     "output_type": "display_data"
    },
    {
     "data": {
      "application/vnd.jupyter.widget-view+json": {
       "model_id": "ba906f84d23c4400bac9986794d0b6a4",
       "version_major": 2,
       "version_minor": 0
      },
      "text/plain": [
       "E3SM-MMF.mlo.0008-02-09-73200.nc:   0%|          | 0.00/1.13M [00:00<?, ?B/s]"
      ]
     },
     "metadata": {},
     "output_type": "display_data"
    },
    {
     "data": {
      "application/vnd.jupyter.widget-view+json": {
       "model_id": "8003fa78090d4d2b877b610537f344c7",
       "version_major": 2,
       "version_minor": 0
      },
      "text/plain": [
       "E3SM-MMF.mlo.0008-02-09-74400.nc:   0%|          | 0.00/1.13M [00:00<?, ?B/s]"
      ]
     },
     "metadata": {},
     "output_type": "display_data"
    },
    {
     "data": {
      "application/vnd.jupyter.widget-view+json": {
       "model_id": "9d793e1270a0437283a0aac64b9f44b5",
       "version_major": 2,
       "version_minor": 0
      },
      "text/plain": [
       "E3SM-MMF.mlo.0008-02-09-75600.nc:   0%|          | 0.00/1.13M [00:00<?, ?B/s]"
      ]
     },
     "metadata": {},
     "output_type": "display_data"
    },
    {
     "data": {
      "application/vnd.jupyter.widget-view+json": {
       "model_id": "2f0a342ec6c541409c2faac32455dfae",
       "version_major": 2,
       "version_minor": 0
      },
      "text/plain": [
       "E3SM-MMF.mlo.0008-02-09-76800.nc:   0%|          | 0.00/1.13M [00:00<?, ?B/s]"
      ]
     },
     "metadata": {},
     "output_type": "display_data"
    },
    {
     "data": {
      "application/vnd.jupyter.widget-view+json": {
       "model_id": "fd73a84db3e5437e87b3e3c02425136f",
       "version_major": 2,
       "version_minor": 0
      },
      "text/plain": [
       "E3SM-MMF.mlo.0008-02-09-78000.nc:   0%|          | 0.00/1.13M [00:00<?, ?B/s]"
      ]
     },
     "metadata": {},
     "output_type": "display_data"
    },
    {
     "data": {
      "application/vnd.jupyter.widget-view+json": {
       "model_id": "6b39847592e74a959dddfef6e76b160b",
       "version_major": 2,
       "version_minor": 0
      },
      "text/plain": [
       "E3SM-MMF.mlo.0008-02-09-79200.nc:   0%|          | 0.00/1.13M [00:00<?, ?B/s]"
      ]
     },
     "metadata": {},
     "output_type": "display_data"
    },
    {
     "data": {
      "application/vnd.jupyter.widget-view+json": {
       "model_id": "57599e2016c74f28873a5bd5ecfdf706",
       "version_major": 2,
       "version_minor": 0
      },
      "text/plain": [
       "E3SM-MMF.mlo.0008-02-09-80400.nc:   0%|          | 0.00/1.13M [00:00<?, ?B/s]"
      ]
     },
     "metadata": {},
     "output_type": "display_data"
    },
    {
     "data": {
      "application/vnd.jupyter.widget-view+json": {
       "model_id": "32fd60af5ba84ebdabdbb3bfaeef336d",
       "version_major": 2,
       "version_minor": 0
      },
      "text/plain": [
       "E3SM-MMF.mlo.0008-02-09-81600.nc:   0%|          | 0.00/1.13M [00:00<?, ?B/s]"
      ]
     },
     "metadata": {},
     "output_type": "display_data"
    },
    {
     "data": {
      "application/vnd.jupyter.widget-view+json": {
       "model_id": "622e958c36684953a9b5f72e86fe9fea",
       "version_major": 2,
       "version_minor": 0
      },
      "text/plain": [
       "E3SM-MMF.mlo.0008-02-09-82800.nc:   0%|          | 0.00/1.13M [00:00<?, ?B/s]"
      ]
     },
     "metadata": {},
     "output_type": "display_data"
    },
    {
     "data": {
      "application/vnd.jupyter.widget-view+json": {
       "model_id": "ac18ed8adbe74a82b74f9b1d39cfff8a",
       "version_major": 2,
       "version_minor": 0
      },
      "text/plain": [
       "E3SM-MMF.mlo.0008-02-09-84000.nc:   0%|          | 0.00/1.13M [00:00<?, ?B/s]"
      ]
     },
     "metadata": {},
     "output_type": "display_data"
    },
    {
     "data": {
      "application/vnd.jupyter.widget-view+json": {
       "model_id": "a6ea2542e7e840de9f5890924059f7a4",
       "version_major": 2,
       "version_minor": 0
      },
      "text/plain": [
       "E3SM-MMF.mlo.0008-02-09-85200.nc:   0%|          | 0.00/1.13M [00:00<?, ?B/s]"
      ]
     },
     "metadata": {},
     "output_type": "display_data"
    },
    {
     "data": {
      "application/vnd.jupyter.widget-view+json": {
       "model_id": "91d76329fa1446b0a6470a6901e8ecb8",
       "version_major": 2,
       "version_minor": 0
      },
      "text/plain": [
       "E3SM-MMF.mlo.0008-02-10-00000.nc:   0%|          | 0.00/1.13M [00:00<?, ?B/s]"
      ]
     },
     "metadata": {},
     "output_type": "display_data"
    },
    {
     "data": {
      "application/vnd.jupyter.widget-view+json": {
       "model_id": "5bc00477127349ea9fba097099889d7c",
       "version_major": 2,
       "version_minor": 0
      },
      "text/plain": [
       "E3SM-MMF.mlo.0008-02-10-01200.nc:   0%|          | 0.00/1.13M [00:00<?, ?B/s]"
      ]
     },
     "metadata": {},
     "output_type": "display_data"
    },
    {
     "data": {
      "application/vnd.jupyter.widget-view+json": {
       "model_id": "89c02e283fbe4c0f95be0616950cccd7",
       "version_major": 2,
       "version_minor": 0
      },
      "text/plain": [
       "E3SM-MMF.mlo.0008-02-10-02400.nc:   0%|          | 0.00/1.13M [00:00<?, ?B/s]"
      ]
     },
     "metadata": {},
     "output_type": "display_data"
    },
    {
     "data": {
      "application/vnd.jupyter.widget-view+json": {
       "model_id": "6124274623c54d34a73ee594bb66a733",
       "version_major": 2,
       "version_minor": 0
      },
      "text/plain": [
       "E3SM-MMF.mlo.0008-02-10-03600.nc:   0%|          | 0.00/1.13M [00:00<?, ?B/s]"
      ]
     },
     "metadata": {},
     "output_type": "display_data"
    },
    {
     "data": {
      "application/vnd.jupyter.widget-view+json": {
       "model_id": "c395d10cbcf042b0bafcafb433ed2c8c",
       "version_major": 2,
       "version_minor": 0
      },
      "text/plain": [
       "E3SM-MMF.mlo.0008-02-10-04800.nc:   0%|          | 0.00/1.13M [00:00<?, ?B/s]"
      ]
     },
     "metadata": {},
     "output_type": "display_data"
    },
    {
     "data": {
      "application/vnd.jupyter.widget-view+json": {
       "model_id": "3cecf166757f4fa8b0e0beb927bd10de",
       "version_major": 2,
       "version_minor": 0
      },
      "text/plain": [
       "E3SM-MMF.mlo.0008-02-10-06000.nc:   0%|          | 0.00/1.13M [00:00<?, ?B/s]"
      ]
     },
     "metadata": {},
     "output_type": "display_data"
    },
    {
     "data": {
      "application/vnd.jupyter.widget-view+json": {
       "model_id": "e6ab4148855049f9bc85f37ac322105a",
       "version_major": 2,
       "version_minor": 0
      },
      "text/plain": [
       "E3SM-MMF.mlo.0008-02-10-07200.nc:   0%|          | 0.00/1.13M [00:00<?, ?B/s]"
      ]
     },
     "metadata": {},
     "output_type": "display_data"
    },
    {
     "data": {
      "application/vnd.jupyter.widget-view+json": {
       "model_id": "9d048999d0ef4259a9ac61e2371a6fe5",
       "version_major": 2,
       "version_minor": 0
      },
      "text/plain": [
       "E3SM-MMF.mlo.0008-02-10-08400.nc:   0%|          | 0.00/1.13M [00:00<?, ?B/s]"
      ]
     },
     "metadata": {},
     "output_type": "display_data"
    },
    {
     "data": {
      "application/vnd.jupyter.widget-view+json": {
       "model_id": "fa388d92c5784766a062782b7b8e9ef1",
       "version_major": 2,
       "version_minor": 0
      },
      "text/plain": [
       "E3SM-MMF.mlo.0008-02-10-09600.nc:   0%|          | 0.00/1.13M [00:00<?, ?B/s]"
      ]
     },
     "metadata": {},
     "output_type": "display_data"
    },
    {
     "data": {
      "application/vnd.jupyter.widget-view+json": {
       "model_id": "9d686e3d62184f1ca9023f9c1a205c31",
       "version_major": 2,
       "version_minor": 0
      },
      "text/plain": [
       "E3SM-MMF.mlo.0008-02-10-10800.nc:   0%|          | 0.00/1.13M [00:00<?, ?B/s]"
      ]
     },
     "metadata": {},
     "output_type": "display_data"
    },
    {
     "data": {
      "application/vnd.jupyter.widget-view+json": {
       "model_id": "ffeba891cd0c48249287cfaca7c0c389",
       "version_major": 2,
       "version_minor": 0
      },
      "text/plain": [
       "E3SM-MMF.mlo.0008-02-10-12000.nc:   0%|          | 0.00/1.13M [00:00<?, ?B/s]"
      ]
     },
     "metadata": {},
     "output_type": "display_data"
    },
    {
     "data": {
      "application/vnd.jupyter.widget-view+json": {
       "model_id": "2d40318e14604f46a25d6561d2f705cd",
       "version_major": 2,
       "version_minor": 0
      },
      "text/plain": [
       "E3SM-MMF.mlo.0008-02-10-13200.nc:   0%|          | 0.00/1.13M [00:00<?, ?B/s]"
      ]
     },
     "metadata": {},
     "output_type": "display_data"
    },
    {
     "data": {
      "application/vnd.jupyter.widget-view+json": {
       "model_id": "670cd888e353426e820a205cb0e9a855",
       "version_major": 2,
       "version_minor": 0
      },
      "text/plain": [
       "E3SM-MMF.mlo.0008-02-10-14400.nc:   0%|          | 0.00/1.13M [00:00<?, ?B/s]"
      ]
     },
     "metadata": {},
     "output_type": "display_data"
    },
    {
     "data": {
      "application/vnd.jupyter.widget-view+json": {
       "model_id": "a9e301c8f0114b3b9b58729d26b8051a",
       "version_major": 2,
       "version_minor": 0
      },
      "text/plain": [
       "E3SM-MMF.mlo.0008-02-10-15600.nc:   0%|          | 0.00/1.13M [00:00<?, ?B/s]"
      ]
     },
     "metadata": {},
     "output_type": "display_data"
    },
    {
     "data": {
      "application/vnd.jupyter.widget-view+json": {
       "model_id": "7b358eeacb784f688026adbbe3b6c36b",
       "version_major": 2,
       "version_minor": 0
      },
      "text/plain": [
       "E3SM-MMF.mlo.0008-02-10-16800.nc:   0%|          | 0.00/1.13M [00:00<?, ?B/s]"
      ]
     },
     "metadata": {},
     "output_type": "display_data"
    },
    {
     "data": {
      "application/vnd.jupyter.widget-view+json": {
       "model_id": "a364925e3b494054bb95d84c47e2b74b",
       "version_major": 2,
       "version_minor": 0
      },
      "text/plain": [
       "E3SM-MMF.mlo.0008-02-10-18000.nc:   0%|          | 0.00/1.13M [00:00<?, ?B/s]"
      ]
     },
     "metadata": {},
     "output_type": "display_data"
    },
    {
     "data": {
      "application/vnd.jupyter.widget-view+json": {
       "model_id": "e573b6ce5da444c5a521941d97979340",
       "version_major": 2,
       "version_minor": 0
      },
      "text/plain": [
       "E3SM-MMF.mlo.0008-02-10-19200.nc:   0%|          | 0.00/1.13M [00:00<?, ?B/s]"
      ]
     },
     "metadata": {},
     "output_type": "display_data"
    },
    {
     "data": {
      "application/vnd.jupyter.widget-view+json": {
       "model_id": "ffd50bc119614ae188101fbcbd39093d",
       "version_major": 2,
       "version_minor": 0
      },
      "text/plain": [
       "E3SM-MMF.mlo.0008-02-10-20400.nc:   0%|          | 0.00/1.13M [00:00<?, ?B/s]"
      ]
     },
     "metadata": {},
     "output_type": "display_data"
    },
    {
     "data": {
      "application/vnd.jupyter.widget-view+json": {
       "model_id": "7eeeb92ad7ed42378255c21ed43c63bd",
       "version_major": 2,
       "version_minor": 0
      },
      "text/plain": [
       "E3SM-MMF.mlo.0008-02-10-21600.nc:   0%|          | 0.00/1.13M [00:00<?, ?B/s]"
      ]
     },
     "metadata": {},
     "output_type": "display_data"
    },
    {
     "data": {
      "application/vnd.jupyter.widget-view+json": {
       "model_id": "e2b725d5676448dc9bf54519e7f429a6",
       "version_major": 2,
       "version_minor": 0
      },
      "text/plain": [
       "E3SM-MMF.mlo.0008-02-10-22800.nc:   0%|          | 0.00/1.13M [00:00<?, ?B/s]"
      ]
     },
     "metadata": {},
     "output_type": "display_data"
    },
    {
     "data": {
      "application/vnd.jupyter.widget-view+json": {
       "model_id": "9f8c974a1bed46dabf2a179540205b81",
       "version_major": 2,
       "version_minor": 0
      },
      "text/plain": [
       "E3SM-MMF.mlo.0008-02-10-24000.nc:   0%|          | 0.00/1.13M [00:00<?, ?B/s]"
      ]
     },
     "metadata": {},
     "output_type": "display_data"
    },
    {
     "data": {
      "application/vnd.jupyter.widget-view+json": {
       "model_id": "62a002e3aacf4080af1fb4987adf3c23",
       "version_major": 2,
       "version_minor": 0
      },
      "text/plain": [
       "E3SM-MMF.mlo.0008-02-10-25200.nc:   0%|          | 0.00/1.13M [00:00<?, ?B/s]"
      ]
     },
     "metadata": {},
     "output_type": "display_data"
    },
    {
     "data": {
      "application/vnd.jupyter.widget-view+json": {
       "model_id": "424e29f5c0994b2598195dff90810e0f",
       "version_major": 2,
       "version_minor": 0
      },
      "text/plain": [
       "E3SM-MMF.mlo.0008-02-10-26400.nc:   0%|          | 0.00/1.13M [00:00<?, ?B/s]"
      ]
     },
     "metadata": {},
     "output_type": "display_data"
    },
    {
     "data": {
      "application/vnd.jupyter.widget-view+json": {
       "model_id": "bbd74e986f804a7e8522811c2b1d42e8",
       "version_major": 2,
       "version_minor": 0
      },
      "text/plain": [
       "E3SM-MMF.mlo.0008-02-10-27600.nc:   0%|          | 0.00/1.13M [00:00<?, ?B/s]"
      ]
     },
     "metadata": {},
     "output_type": "display_data"
    },
    {
     "data": {
      "application/vnd.jupyter.widget-view+json": {
       "model_id": "cfffabf559d54f689f7206b8b403422f",
       "version_major": 2,
       "version_minor": 0
      },
      "text/plain": [
       "E3SM-MMF.mlo.0008-02-10-28800.nc:   0%|          | 0.00/1.13M [00:00<?, ?B/s]"
      ]
     },
     "metadata": {},
     "output_type": "display_data"
    },
    {
     "data": {
      "application/vnd.jupyter.widget-view+json": {
       "model_id": "dd9245fa572e40d2b3bcca8526d82827",
       "version_major": 2,
       "version_minor": 0
      },
      "text/plain": [
       "E3SM-MMF.mlo.0008-02-10-30000.nc:   0%|          | 0.00/1.13M [00:00<?, ?B/s]"
      ]
     },
     "metadata": {},
     "output_type": "display_data"
    },
    {
     "data": {
      "application/vnd.jupyter.widget-view+json": {
       "model_id": "38105205ce244d289ead530f1b4daae4",
       "version_major": 2,
       "version_minor": 0
      },
      "text/plain": [
       "E3SM-MMF.mlo.0008-02-10-31200.nc:   0%|          | 0.00/1.13M [00:00<?, ?B/s]"
      ]
     },
     "metadata": {},
     "output_type": "display_data"
    },
    {
     "data": {
      "application/vnd.jupyter.widget-view+json": {
       "model_id": "151aacf11c6b4a298399ce68a85ac41f",
       "version_major": 2,
       "version_minor": 0
      },
      "text/plain": [
       "E3SM-MMF.mlo.0008-02-10-32400.nc:   0%|          | 0.00/1.13M [00:00<?, ?B/s]"
      ]
     },
     "metadata": {},
     "output_type": "display_data"
    },
    {
     "data": {
      "application/vnd.jupyter.widget-view+json": {
       "model_id": "054e5a1ee58f48939bc571cac9c9541e",
       "version_major": 2,
       "version_minor": 0
      },
      "text/plain": [
       "E3SM-MMF.mlo.0008-02-10-33600.nc:   0%|          | 0.00/1.13M [00:00<?, ?B/s]"
      ]
     },
     "metadata": {},
     "output_type": "display_data"
    },
    {
     "data": {
      "application/vnd.jupyter.widget-view+json": {
       "model_id": "571ff354411a4ca6a4cd4984906910aa",
       "version_major": 2,
       "version_minor": 0
      },
      "text/plain": [
       "E3SM-MMF.mlo.0008-02-10-34800.nc:   0%|          | 0.00/1.13M [00:00<?, ?B/s]"
      ]
     },
     "metadata": {},
     "output_type": "display_data"
    },
    {
     "data": {
      "application/vnd.jupyter.widget-view+json": {
       "model_id": "d41b2e56ca34403a90e7d435c740b4e8",
       "version_major": 2,
       "version_minor": 0
      },
      "text/plain": [
       "E3SM-MMF.mlo.0008-02-10-36000.nc:   0%|          | 0.00/1.13M [00:00<?, ?B/s]"
      ]
     },
     "metadata": {},
     "output_type": "display_data"
    },
    {
     "data": {
      "application/vnd.jupyter.widget-view+json": {
       "model_id": "f48c776c3181488088e20a84f8c073db",
       "version_major": 2,
       "version_minor": 0
      },
      "text/plain": [
       "E3SM-MMF.mlo.0008-02-10-37200.nc:   0%|          | 0.00/1.13M [00:00<?, ?B/s]"
      ]
     },
     "metadata": {},
     "output_type": "display_data"
    },
    {
     "data": {
      "application/vnd.jupyter.widget-view+json": {
       "model_id": "4847fbd6570941c78c32cfc84fab833b",
       "version_major": 2,
       "version_minor": 0
      },
      "text/plain": [
       "E3SM-MMF.mlo.0008-02-10-38400.nc:   0%|          | 0.00/1.13M [00:00<?, ?B/s]"
      ]
     },
     "metadata": {},
     "output_type": "display_data"
    },
    {
     "data": {
      "application/vnd.jupyter.widget-view+json": {
       "model_id": "a202ce65e93b4974b49d3d246d1708c3",
       "version_major": 2,
       "version_minor": 0
      },
      "text/plain": [
       "E3SM-MMF.mlo.0008-02-10-39600.nc:   0%|          | 0.00/1.13M [00:00<?, ?B/s]"
      ]
     },
     "metadata": {},
     "output_type": "display_data"
    },
    {
     "data": {
      "application/vnd.jupyter.widget-view+json": {
       "model_id": "642652a5bd7c488c81c5cb346c4299bc",
       "version_major": 2,
       "version_minor": 0
      },
      "text/plain": [
       "E3SM-MMF.mlo.0008-02-10-40800.nc:   0%|          | 0.00/1.13M [00:00<?, ?B/s]"
      ]
     },
     "metadata": {},
     "output_type": "display_data"
    },
    {
     "data": {
      "application/vnd.jupyter.widget-view+json": {
       "model_id": "d7c9bd1c047440919b1dc31d6d0dcf4d",
       "version_major": 2,
       "version_minor": 0
      },
      "text/plain": [
       "E3SM-MMF.mlo.0008-02-10-42000.nc:   0%|          | 0.00/1.13M [00:00<?, ?B/s]"
      ]
     },
     "metadata": {},
     "output_type": "display_data"
    },
    {
     "data": {
      "application/vnd.jupyter.widget-view+json": {
       "model_id": "c3893cdfde5048ee809116f3b9fc3d03",
       "version_major": 2,
       "version_minor": 0
      },
      "text/plain": [
       "E3SM-MMF.mlo.0008-02-10-43200.nc:   0%|          | 0.00/1.13M [00:00<?, ?B/s]"
      ]
     },
     "metadata": {},
     "output_type": "display_data"
    },
    {
     "data": {
      "application/vnd.jupyter.widget-view+json": {
       "model_id": "502af744793048098fa89875355eca43",
       "version_major": 2,
       "version_minor": 0
      },
      "text/plain": [
       "E3SM-MMF.mlo.0008-02-10-44400.nc:   0%|          | 0.00/1.13M [00:00<?, ?B/s]"
      ]
     },
     "metadata": {},
     "output_type": "display_data"
    },
    {
     "data": {
      "application/vnd.jupyter.widget-view+json": {
       "model_id": "0ef1b7a63356496480cfc1f2757ca179",
       "version_major": 2,
       "version_minor": 0
      },
      "text/plain": [
       "E3SM-MMF.mlo.0008-02-10-45600.nc:   0%|          | 0.00/1.13M [00:00<?, ?B/s]"
      ]
     },
     "metadata": {},
     "output_type": "display_data"
    },
    {
     "data": {
      "application/vnd.jupyter.widget-view+json": {
       "model_id": "0ac2d74998d34c06b84429c6e3214e64",
       "version_major": 2,
       "version_minor": 0
      },
      "text/plain": [
       "E3SM-MMF.mlo.0008-02-10-46800.nc:   0%|          | 0.00/1.13M [00:00<?, ?B/s]"
      ]
     },
     "metadata": {},
     "output_type": "display_data"
    },
    {
     "data": {
      "application/vnd.jupyter.widget-view+json": {
       "model_id": "0b51903b2b2b4c698360e467d2845a03",
       "version_major": 2,
       "version_minor": 0
      },
      "text/plain": [
       "E3SM-MMF.mlo.0008-02-10-48000.nc:   0%|          | 0.00/1.13M [00:00<?, ?B/s]"
      ]
     },
     "metadata": {},
     "output_type": "display_data"
    },
    {
     "data": {
      "application/vnd.jupyter.widget-view+json": {
       "model_id": "5249a2b0bdff40dab375c6e7e58b42dd",
       "version_major": 2,
       "version_minor": 0
      },
      "text/plain": [
       "E3SM-MMF.mlo.0008-02-10-49200.nc:   0%|          | 0.00/1.13M [00:00<?, ?B/s]"
      ]
     },
     "metadata": {},
     "output_type": "display_data"
    },
    {
     "data": {
      "application/vnd.jupyter.widget-view+json": {
       "model_id": "948714443acf4f9c9cd31f8687bdda5c",
       "version_major": 2,
       "version_minor": 0
      },
      "text/plain": [
       "E3SM-MMF.mlo.0008-02-10-50400.nc:   0%|          | 0.00/1.13M [00:00<?, ?B/s]"
      ]
     },
     "metadata": {},
     "output_type": "display_data"
    },
    {
     "data": {
      "application/vnd.jupyter.widget-view+json": {
       "model_id": "eaf0a4403bd54aac9c015570a4ad656f",
       "version_major": 2,
       "version_minor": 0
      },
      "text/plain": [
       "E3SM-MMF.mlo.0008-02-10-51600.nc:   0%|          | 0.00/1.13M [00:00<?, ?B/s]"
      ]
     },
     "metadata": {},
     "output_type": "display_data"
    },
    {
     "data": {
      "application/vnd.jupyter.widget-view+json": {
       "model_id": "ca87cf3f0fa14a2fa87db4d63e249888",
       "version_major": 2,
       "version_minor": 0
      },
      "text/plain": [
       "E3SM-MMF.mlo.0008-02-10-52800.nc:   0%|          | 0.00/1.13M [00:00<?, ?B/s]"
      ]
     },
     "metadata": {},
     "output_type": "display_data"
    },
    {
     "data": {
      "application/vnd.jupyter.widget-view+json": {
       "model_id": "694a29c87b32485c93cb63055efe1978",
       "version_major": 2,
       "version_minor": 0
      },
      "text/plain": [
       "E3SM-MMF.mlo.0008-02-10-54000.nc:   0%|          | 0.00/1.13M [00:00<?, ?B/s]"
      ]
     },
     "metadata": {},
     "output_type": "display_data"
    },
    {
     "data": {
      "application/vnd.jupyter.widget-view+json": {
       "model_id": "4747783873414a329ba32b00eb84876a",
       "version_major": 2,
       "version_minor": 0
      },
      "text/plain": [
       "E3SM-MMF.mlo.0008-02-10-55200.nc:   0%|          | 0.00/1.13M [00:00<?, ?B/s]"
      ]
     },
     "metadata": {},
     "output_type": "display_data"
    },
    {
     "data": {
      "application/vnd.jupyter.widget-view+json": {
       "model_id": "86ae3aa538a44261a0549b7b9b7e1c3d",
       "version_major": 2,
       "version_minor": 0
      },
      "text/plain": [
       "E3SM-MMF.mlo.0008-02-10-56400.nc:   0%|          | 0.00/1.13M [00:00<?, ?B/s]"
      ]
     },
     "metadata": {},
     "output_type": "display_data"
    },
    {
     "data": {
      "application/vnd.jupyter.widget-view+json": {
       "model_id": "102f21300a2640e69373dc6167360116",
       "version_major": 2,
       "version_minor": 0
      },
      "text/plain": [
       "E3SM-MMF.mlo.0008-02-10-57600.nc:   0%|          | 0.00/1.13M [00:00<?, ?B/s]"
      ]
     },
     "metadata": {},
     "output_type": "display_data"
    },
    {
     "data": {
      "application/vnd.jupyter.widget-view+json": {
       "model_id": "9ed66c629185420a871ecb5d99737022",
       "version_major": 2,
       "version_minor": 0
      },
      "text/plain": [
       "E3SM-MMF.mlo.0008-02-10-58800.nc:   0%|          | 0.00/1.13M [00:00<?, ?B/s]"
      ]
     },
     "metadata": {},
     "output_type": "display_data"
    },
    {
     "data": {
      "application/vnd.jupyter.widget-view+json": {
       "model_id": "5df7878625d342689555c8078e295501",
       "version_major": 2,
       "version_minor": 0
      },
      "text/plain": [
       "E3SM-MMF.mlo.0008-02-10-60000.nc:   0%|          | 0.00/1.13M [00:00<?, ?B/s]"
      ]
     },
     "metadata": {},
     "output_type": "display_data"
    },
    {
     "data": {
      "application/vnd.jupyter.widget-view+json": {
       "model_id": "38f94e31c0034a4f8af7556430113150",
       "version_major": 2,
       "version_minor": 0
      },
      "text/plain": [
       "E3SM-MMF.mlo.0008-02-10-61200.nc:   0%|          | 0.00/1.13M [00:00<?, ?B/s]"
      ]
     },
     "metadata": {},
     "output_type": "display_data"
    },
    {
     "data": {
      "application/vnd.jupyter.widget-view+json": {
       "model_id": "054d1ddee4504b53919cc80feb9ab798",
       "version_major": 2,
       "version_minor": 0
      },
      "text/plain": [
       "E3SM-MMF.mlo.0008-02-10-62400.nc:   0%|          | 0.00/1.13M [00:00<?, ?B/s]"
      ]
     },
     "metadata": {},
     "output_type": "display_data"
    },
    {
     "data": {
      "application/vnd.jupyter.widget-view+json": {
       "model_id": "ba38cbe48b6045b0b8f4610cdf538e21",
       "version_major": 2,
       "version_minor": 0
      },
      "text/plain": [
       "E3SM-MMF.mlo.0008-02-10-63600.nc:   0%|          | 0.00/1.13M [00:00<?, ?B/s]"
      ]
     },
     "metadata": {},
     "output_type": "display_data"
    },
    {
     "data": {
      "application/vnd.jupyter.widget-view+json": {
       "model_id": "eaa04c853a8340dc8b940164dc7f905c",
       "version_major": 2,
       "version_minor": 0
      },
      "text/plain": [
       "E3SM-MMF.mlo.0008-02-10-64800.nc:   0%|          | 0.00/1.13M [00:00<?, ?B/s]"
      ]
     },
     "metadata": {},
     "output_type": "display_data"
    },
    {
     "data": {
      "application/vnd.jupyter.widget-view+json": {
       "model_id": "f4da133f1da24fb08e4fe1d4032564e9",
       "version_major": 2,
       "version_minor": 0
      },
      "text/plain": [
       "E3SM-MMF.mlo.0008-02-10-66000.nc:   0%|          | 0.00/1.13M [00:00<?, ?B/s]"
      ]
     },
     "metadata": {},
     "output_type": "display_data"
    },
    {
     "data": {
      "application/vnd.jupyter.widget-view+json": {
       "model_id": "2fbb0042821a49cb9955c0e446887056",
       "version_major": 2,
       "version_minor": 0
      },
      "text/plain": [
       "E3SM-MMF.mlo.0008-02-10-67200.nc:   0%|          | 0.00/1.13M [00:00<?, ?B/s]"
      ]
     },
     "metadata": {},
     "output_type": "display_data"
    },
    {
     "data": {
      "application/vnd.jupyter.widget-view+json": {
       "model_id": "ad13b040b1a54d229c0ad50dd0d54e8b",
       "version_major": 2,
       "version_minor": 0
      },
      "text/plain": [
       "E3SM-MMF.mlo.0008-02-10-68400.nc:   0%|          | 0.00/1.13M [00:00<?, ?B/s]"
      ]
     },
     "metadata": {},
     "output_type": "display_data"
    },
    {
     "data": {
      "application/vnd.jupyter.widget-view+json": {
       "model_id": "e7fbe3fa78c148399f172a0ec30e06e7",
       "version_major": 2,
       "version_minor": 0
      },
      "text/plain": [
       "E3SM-MMF.mlo.0008-02-10-69600.nc:   0%|          | 0.00/1.13M [00:00<?, ?B/s]"
      ]
     },
     "metadata": {},
     "output_type": "display_data"
    },
    {
     "data": {
      "application/vnd.jupyter.widget-view+json": {
       "model_id": "16b095a1ed1d4fe59bf8a323da67d54c",
       "version_major": 2,
       "version_minor": 0
      },
      "text/plain": [
       "E3SM-MMF.mlo.0008-02-10-70800.nc:   0%|          | 0.00/1.13M [00:00<?, ?B/s]"
      ]
     },
     "metadata": {},
     "output_type": "display_data"
    },
    {
     "data": {
      "application/vnd.jupyter.widget-view+json": {
       "model_id": "5e13a3f272414176a37f1792a2f8fcb7",
       "version_major": 2,
       "version_minor": 0
      },
      "text/plain": [
       "E3SM-MMF.mlo.0008-02-10-72000.nc:   0%|          | 0.00/1.13M [00:00<?, ?B/s]"
      ]
     },
     "metadata": {},
     "output_type": "display_data"
    },
    {
     "data": {
      "application/vnd.jupyter.widget-view+json": {
       "model_id": "b6c6c48c311243af838c23483fe590bd",
       "version_major": 2,
       "version_minor": 0
      },
      "text/plain": [
       "E3SM-MMF.mlo.0008-02-10-73200.nc:   0%|          | 0.00/1.13M [00:00<?, ?B/s]"
      ]
     },
     "metadata": {},
     "output_type": "display_data"
    },
    {
     "data": {
      "application/vnd.jupyter.widget-view+json": {
       "model_id": "54d8123e7f094ddaa4b1a69391014309",
       "version_major": 2,
       "version_minor": 0
      },
      "text/plain": [
       "E3SM-MMF.mlo.0008-02-10-74400.nc:   0%|          | 0.00/1.13M [00:00<?, ?B/s]"
      ]
     },
     "metadata": {},
     "output_type": "display_data"
    },
    {
     "data": {
      "application/vnd.jupyter.widget-view+json": {
       "model_id": "9cc2ba13791848d1bc957a16ffa0a776",
       "version_major": 2,
       "version_minor": 0
      },
      "text/plain": [
       "E3SM-MMF.mlo.0008-02-10-75600.nc:   0%|          | 0.00/1.13M [00:00<?, ?B/s]"
      ]
     },
     "metadata": {},
     "output_type": "display_data"
    },
    {
     "data": {
      "application/vnd.jupyter.widget-view+json": {
       "model_id": "011b101981d44832b5ed3c25c0c539fd",
       "version_major": 2,
       "version_minor": 0
      },
      "text/plain": [
       "E3SM-MMF.mlo.0008-02-10-76800.nc:   0%|          | 0.00/1.13M [00:00<?, ?B/s]"
      ]
     },
     "metadata": {},
     "output_type": "display_data"
    },
    {
     "data": {
      "application/vnd.jupyter.widget-view+json": {
       "model_id": "f7beabbe246141fa877e7021b2b99348",
       "version_major": 2,
       "version_minor": 0
      },
      "text/plain": [
       "E3SM-MMF.mlo.0008-02-10-78000.nc:   0%|          | 0.00/1.13M [00:00<?, ?B/s]"
      ]
     },
     "metadata": {},
     "output_type": "display_data"
    },
    {
     "data": {
      "application/vnd.jupyter.widget-view+json": {
       "model_id": "95b80193b1d543ac9c1b00e8a2e1a24e",
       "version_major": 2,
       "version_minor": 0
      },
      "text/plain": [
       "E3SM-MMF.mlo.0008-02-10-79200.nc:   0%|          | 0.00/1.13M [00:00<?, ?B/s]"
      ]
     },
     "metadata": {},
     "output_type": "display_data"
    },
    {
     "data": {
      "application/vnd.jupyter.widget-view+json": {
       "model_id": "1689873c69cb4733af931bfb17d99d86",
       "version_major": 2,
       "version_minor": 0
      },
      "text/plain": [
       "E3SM-MMF.mlo.0008-02-10-80400.nc:   0%|          | 0.00/1.13M [00:00<?, ?B/s]"
      ]
     },
     "metadata": {},
     "output_type": "display_data"
    },
    {
     "data": {
      "application/vnd.jupyter.widget-view+json": {
       "model_id": "d5463cfef6094831a95e02cbfa1d80a6",
       "version_major": 2,
       "version_minor": 0
      },
      "text/plain": [
       "E3SM-MMF.mlo.0008-02-10-81600.nc:   0%|          | 0.00/1.13M [00:00<?, ?B/s]"
      ]
     },
     "metadata": {},
     "output_type": "display_data"
    },
    {
     "data": {
      "application/vnd.jupyter.widget-view+json": {
       "model_id": "a2403c2a4da945d5b583a052526527bc",
       "version_major": 2,
       "version_minor": 0
      },
      "text/plain": [
       "E3SM-MMF.mlo.0008-02-10-82800.nc:   0%|          | 0.00/1.13M [00:00<?, ?B/s]"
      ]
     },
     "metadata": {},
     "output_type": "display_data"
    },
    {
     "data": {
      "application/vnd.jupyter.widget-view+json": {
       "model_id": "7cfd332afade4045a5fedc05ffcb3007",
       "version_major": 2,
       "version_minor": 0
      },
      "text/plain": [
       "E3SM-MMF.mlo.0008-02-10-84000.nc:   0%|          | 0.00/1.13M [00:00<?, ?B/s]"
      ]
     },
     "metadata": {},
     "output_type": "display_data"
    },
    {
     "data": {
      "application/vnd.jupyter.widget-view+json": {
       "model_id": "679cc2c73df7486fa07ab59420635ec8",
       "version_major": 2,
       "version_minor": 0
      },
      "text/plain": [
       "E3SM-MMF.mlo.0008-02-10-85200.nc:   0%|          | 0.00/1.13M [00:00<?, ?B/s]"
      ]
     },
     "metadata": {},
     "output_type": "display_data"
    },
    {
     "data": {
      "application/vnd.jupyter.widget-view+json": {
       "model_id": "61477e6164424889b70c4b789d2d57f6",
       "version_major": 2,
       "version_minor": 0
      },
      "text/plain": [
       "E3SM-MMF.mlo.0008-02-11-00000.nc:   0%|          | 0.00/1.13M [00:00<?, ?B/s]"
      ]
     },
     "metadata": {},
     "output_type": "display_data"
    },
    {
     "data": {
      "application/vnd.jupyter.widget-view+json": {
       "model_id": "31dd99bfd71840efa9114831175d7f16",
       "version_major": 2,
       "version_minor": 0
      },
      "text/plain": [
       "E3SM-MMF.mlo.0008-02-11-01200.nc:   0%|          | 0.00/1.13M [00:00<?, ?B/s]"
      ]
     },
     "metadata": {},
     "output_type": "display_data"
    },
    {
     "data": {
      "application/vnd.jupyter.widget-view+json": {
       "model_id": "b0057f8a6f654ab18586cf88537969d5",
       "version_major": 2,
       "version_minor": 0
      },
      "text/plain": [
       "E3SM-MMF.mlo.0008-02-11-02400.nc:   0%|          | 0.00/1.13M [00:00<?, ?B/s]"
      ]
     },
     "metadata": {},
     "output_type": "display_data"
    },
    {
     "data": {
      "application/vnd.jupyter.widget-view+json": {
       "model_id": "72d62608f9be43459d4f42c003875506",
       "version_major": 2,
       "version_minor": 0
      },
      "text/plain": [
       "E3SM-MMF.mlo.0008-02-11-03600.nc:   0%|          | 0.00/1.13M [00:00<?, ?B/s]"
      ]
     },
     "metadata": {},
     "output_type": "display_data"
    },
    {
     "data": {
      "application/vnd.jupyter.widget-view+json": {
       "model_id": "92fce4c9f3a2476db05c662098ed5d5b",
       "version_major": 2,
       "version_minor": 0
      },
      "text/plain": [
       "E3SM-MMF.mlo.0008-02-11-04800.nc:   0%|          | 0.00/1.13M [00:00<?, ?B/s]"
      ]
     },
     "metadata": {},
     "output_type": "display_data"
    },
    {
     "data": {
      "application/vnd.jupyter.widget-view+json": {
       "model_id": "3e199e97c42640908c30c4bfc788206a",
       "version_major": 2,
       "version_minor": 0
      },
      "text/plain": [
       "E3SM-MMF.mlo.0008-02-11-06000.nc:   0%|          | 0.00/1.13M [00:00<?, ?B/s]"
      ]
     },
     "metadata": {},
     "output_type": "display_data"
    },
    {
     "data": {
      "application/vnd.jupyter.widget-view+json": {
       "model_id": "adde8b2611784a3cbab4eade210c55da",
       "version_major": 2,
       "version_minor": 0
      },
      "text/plain": [
       "E3SM-MMF.mlo.0008-02-11-07200.nc:   0%|          | 0.00/1.13M [00:00<?, ?B/s]"
      ]
     },
     "metadata": {},
     "output_type": "display_data"
    },
    {
     "data": {
      "application/vnd.jupyter.widget-view+json": {
       "model_id": "3eb7dcc3bada4e10a81b05f2cf0b2e2f",
       "version_major": 2,
       "version_minor": 0
      },
      "text/plain": [
       "E3SM-MMF.mlo.0008-02-11-08400.nc:   0%|          | 0.00/1.13M [00:00<?, ?B/s]"
      ]
     },
     "metadata": {},
     "output_type": "display_data"
    },
    {
     "data": {
      "application/vnd.jupyter.widget-view+json": {
       "model_id": "fb7b84df65ae458db547f0f63e2edf08",
       "version_major": 2,
       "version_minor": 0
      },
      "text/plain": [
       "E3SM-MMF.mlo.0008-02-11-09600.nc:   0%|          | 0.00/1.13M [00:00<?, ?B/s]"
      ]
     },
     "metadata": {},
     "output_type": "display_data"
    },
    {
     "data": {
      "application/vnd.jupyter.widget-view+json": {
       "model_id": "a7bcf90e91c8492aaa489402319b2ade",
       "version_major": 2,
       "version_minor": 0
      },
      "text/plain": [
       "E3SM-MMF.mlo.0008-02-11-10800.nc:   0%|          | 0.00/1.13M [00:00<?, ?B/s]"
      ]
     },
     "metadata": {},
     "output_type": "display_data"
    },
    {
     "data": {
      "application/vnd.jupyter.widget-view+json": {
       "model_id": "9b781e18484748529effd026baf788fc",
       "version_major": 2,
       "version_minor": 0
      },
      "text/plain": [
       "E3SM-MMF.mlo.0008-02-11-12000.nc:   0%|          | 0.00/1.13M [00:00<?, ?B/s]"
      ]
     },
     "metadata": {},
     "output_type": "display_data"
    },
    {
     "data": {
      "application/vnd.jupyter.widget-view+json": {
       "model_id": "2c01cb0b2c794762841d1c18d77e24f8",
       "version_major": 2,
       "version_minor": 0
      },
      "text/plain": [
       "E3SM-MMF.mlo.0008-02-11-13200.nc:   0%|          | 0.00/1.13M [00:00<?, ?B/s]"
      ]
     },
     "metadata": {},
     "output_type": "display_data"
    },
    {
     "data": {
      "application/vnd.jupyter.widget-view+json": {
       "model_id": "1f8f9424d3574db1b1144889e6a55d56",
       "version_major": 2,
       "version_minor": 0
      },
      "text/plain": [
       "E3SM-MMF.mlo.0008-02-11-14400.nc:   0%|          | 0.00/1.13M [00:00<?, ?B/s]"
      ]
     },
     "metadata": {},
     "output_type": "display_data"
    },
    {
     "data": {
      "application/vnd.jupyter.widget-view+json": {
       "model_id": "4625b82b79914b25a24fe1dd55e875ca",
       "version_major": 2,
       "version_minor": 0
      },
      "text/plain": [
       "E3SM-MMF.mlo.0008-02-11-15600.nc:   0%|          | 0.00/1.13M [00:00<?, ?B/s]"
      ]
     },
     "metadata": {},
     "output_type": "display_data"
    },
    {
     "data": {
      "application/vnd.jupyter.widget-view+json": {
       "model_id": "06a1f96d6fcf4761acb22e0f0b098ac9",
       "version_major": 2,
       "version_minor": 0
      },
      "text/plain": [
       "E3SM-MMF.mlo.0008-02-11-16800.nc:   0%|          | 0.00/1.13M [00:00<?, ?B/s]"
      ]
     },
     "metadata": {},
     "output_type": "display_data"
    },
    {
     "data": {
      "application/vnd.jupyter.widget-view+json": {
       "model_id": "cd9f1c62c38d48f09bbfce20520934fc",
       "version_major": 2,
       "version_minor": 0
      },
      "text/plain": [
       "E3SM-MMF.mlo.0008-02-11-18000.nc:   0%|          | 0.00/1.13M [00:00<?, ?B/s]"
      ]
     },
     "metadata": {},
     "output_type": "display_data"
    },
    {
     "data": {
      "application/vnd.jupyter.widget-view+json": {
       "model_id": "6ad69bfc88c04fca9816681cfe2dfd81",
       "version_major": 2,
       "version_minor": 0
      },
      "text/plain": [
       "E3SM-MMF.mlo.0008-02-11-19200.nc:   0%|          | 0.00/1.13M [00:00<?, ?B/s]"
      ]
     },
     "metadata": {},
     "output_type": "display_data"
    },
    {
     "data": {
      "application/vnd.jupyter.widget-view+json": {
       "model_id": "b62a6550ff724150b28ab549cf5b5ede",
       "version_major": 2,
       "version_minor": 0
      },
      "text/plain": [
       "E3SM-MMF.mlo.0008-02-11-20400.nc:   0%|          | 0.00/1.13M [00:00<?, ?B/s]"
      ]
     },
     "metadata": {},
     "output_type": "display_data"
    },
    {
     "data": {
      "application/vnd.jupyter.widget-view+json": {
       "model_id": "885560b1424a4c45bc3f04b60c45b33e",
       "version_major": 2,
       "version_minor": 0
      },
      "text/plain": [
       "E3SM-MMF.mlo.0008-02-11-21600.nc:   0%|          | 0.00/1.13M [00:00<?, ?B/s]"
      ]
     },
     "metadata": {},
     "output_type": "display_data"
    },
    {
     "data": {
      "application/vnd.jupyter.widget-view+json": {
       "model_id": "cd8fdc49b0f0468c911c569d050f3b45",
       "version_major": 2,
       "version_minor": 0
      },
      "text/plain": [
       "E3SM-MMF.mlo.0008-02-11-22800.nc:   0%|          | 0.00/1.13M [00:00<?, ?B/s]"
      ]
     },
     "metadata": {},
     "output_type": "display_data"
    },
    {
     "data": {
      "application/vnd.jupyter.widget-view+json": {
       "model_id": "c0096c6fb87b4a4c8407581a22dd3d35",
       "version_major": 2,
       "version_minor": 0
      },
      "text/plain": [
       "E3SM-MMF.mlo.0008-02-11-24000.nc:   0%|          | 0.00/1.13M [00:00<?, ?B/s]"
      ]
     },
     "metadata": {},
     "output_type": "display_data"
    },
    {
     "data": {
      "application/vnd.jupyter.widget-view+json": {
       "model_id": "088b471219434a888021eaf39031d394",
       "version_major": 2,
       "version_minor": 0
      },
      "text/plain": [
       "E3SM-MMF.mlo.0008-02-11-25200.nc:   0%|          | 0.00/1.13M [00:00<?, ?B/s]"
      ]
     },
     "metadata": {},
     "output_type": "display_data"
    },
    {
     "data": {
      "application/vnd.jupyter.widget-view+json": {
       "model_id": "5aff95f39a7345dcbe58fa581c992928",
       "version_major": 2,
       "version_minor": 0
      },
      "text/plain": [
       "E3SM-MMF.mlo.0008-02-11-26400.nc:   0%|          | 0.00/1.13M [00:00<?, ?B/s]"
      ]
     },
     "metadata": {},
     "output_type": "display_data"
    },
    {
     "data": {
      "application/vnd.jupyter.widget-view+json": {
       "model_id": "5daf61886261450b8324c60e9db39ea7",
       "version_major": 2,
       "version_minor": 0
      },
      "text/plain": [
       "E3SM-MMF.mlo.0008-02-11-27600.nc:   0%|          | 0.00/1.13M [00:00<?, ?B/s]"
      ]
     },
     "metadata": {},
     "output_type": "display_data"
    },
    {
     "data": {
      "application/vnd.jupyter.widget-view+json": {
       "model_id": "1ae3b431b0054078b8817d661a10b614",
       "version_major": 2,
       "version_minor": 0
      },
      "text/plain": [
       "E3SM-MMF.mlo.0008-02-11-28800.nc:   0%|          | 0.00/1.13M [00:00<?, ?B/s]"
      ]
     },
     "metadata": {},
     "output_type": "display_data"
    },
    {
     "data": {
      "application/vnd.jupyter.widget-view+json": {
       "model_id": "3c2684bbfd8f458c854c661a024d510f",
       "version_major": 2,
       "version_minor": 0
      },
      "text/plain": [
       "E3SM-MMF.mlo.0008-02-11-30000.nc:   0%|          | 0.00/1.13M [00:00<?, ?B/s]"
      ]
     },
     "metadata": {},
     "output_type": "display_data"
    },
    {
     "data": {
      "application/vnd.jupyter.widget-view+json": {
       "model_id": "dfa77bfbd3b343bab45e1563328c8877",
       "version_major": 2,
       "version_minor": 0
      },
      "text/plain": [
       "E3SM-MMF.mlo.0008-02-11-31200.nc:   0%|          | 0.00/1.13M [00:00<?, ?B/s]"
      ]
     },
     "metadata": {},
     "output_type": "display_data"
    },
    {
     "data": {
      "application/vnd.jupyter.widget-view+json": {
       "model_id": "20a645f8cf4e4187aa9d834c399f6bfb",
       "version_major": 2,
       "version_minor": 0
      },
      "text/plain": [
       "E3SM-MMF.mlo.0008-02-11-32400.nc:   0%|          | 0.00/1.13M [00:00<?, ?B/s]"
      ]
     },
     "metadata": {},
     "output_type": "display_data"
    },
    {
     "data": {
      "application/vnd.jupyter.widget-view+json": {
       "model_id": "5f39e51b34444059aa23a85fedca129b",
       "version_major": 2,
       "version_minor": 0
      },
      "text/plain": [
       "E3SM-MMF.mlo.0008-02-11-33600.nc:   0%|          | 0.00/1.13M [00:00<?, ?B/s]"
      ]
     },
     "metadata": {},
     "output_type": "display_data"
    },
    {
     "data": {
      "application/vnd.jupyter.widget-view+json": {
       "model_id": "526eeeb1c52c41c08a90b0fcb2d4cdd8",
       "version_major": 2,
       "version_minor": 0
      },
      "text/plain": [
       "E3SM-MMF.mlo.0008-02-11-34800.nc:   0%|          | 0.00/1.13M [00:00<?, ?B/s]"
      ]
     },
     "metadata": {},
     "output_type": "display_data"
    },
    {
     "data": {
      "application/vnd.jupyter.widget-view+json": {
       "model_id": "784b9b4d0ead494f8020dcb021c81c19",
       "version_major": 2,
       "version_minor": 0
      },
      "text/plain": [
       "E3SM-MMF.mlo.0008-02-11-36000.nc:   0%|          | 0.00/1.13M [00:00<?, ?B/s]"
      ]
     },
     "metadata": {},
     "output_type": "display_data"
    },
    {
     "data": {
      "application/vnd.jupyter.widget-view+json": {
       "model_id": "e47554c65ea84108bdc8e04f72ac3105",
       "version_major": 2,
       "version_minor": 0
      },
      "text/plain": [
       "E3SM-MMF.mlo.0008-02-11-37200.nc:   0%|          | 0.00/1.13M [00:00<?, ?B/s]"
      ]
     },
     "metadata": {},
     "output_type": "display_data"
    },
    {
     "data": {
      "application/vnd.jupyter.widget-view+json": {
       "model_id": "16d3319e1b014fd3aebd26d9166abc1f",
       "version_major": 2,
       "version_minor": 0
      },
      "text/plain": [
       "E3SM-MMF.mlo.0008-02-11-38400.nc:   0%|          | 0.00/1.13M [00:00<?, ?B/s]"
      ]
     },
     "metadata": {},
     "output_type": "display_data"
    },
    {
     "data": {
      "application/vnd.jupyter.widget-view+json": {
       "model_id": "44379720caa8499bbd886d318366a169",
       "version_major": 2,
       "version_minor": 0
      },
      "text/plain": [
       "E3SM-MMF.mlo.0008-02-11-39600.nc:   0%|          | 0.00/1.13M [00:00<?, ?B/s]"
      ]
     },
     "metadata": {},
     "output_type": "display_data"
    },
    {
     "data": {
      "application/vnd.jupyter.widget-view+json": {
       "model_id": "5763272bf84a442faae48e297e0384f2",
       "version_major": 2,
       "version_minor": 0
      },
      "text/plain": [
       "E3SM-MMF.mlo.0008-02-11-40800.nc:   0%|          | 0.00/1.13M [00:00<?, ?B/s]"
      ]
     },
     "metadata": {},
     "output_type": "display_data"
    },
    {
     "data": {
      "application/vnd.jupyter.widget-view+json": {
       "model_id": "a291683ce23142118ebc303b73f68669",
       "version_major": 2,
       "version_minor": 0
      },
      "text/plain": [
       "E3SM-MMF.mlo.0008-02-11-42000.nc:   0%|          | 0.00/1.13M [00:00<?, ?B/s]"
      ]
     },
     "metadata": {},
     "output_type": "display_data"
    },
    {
     "data": {
      "application/vnd.jupyter.widget-view+json": {
       "model_id": "8738dd831ac6459da1fafe4113369b21",
       "version_major": 2,
       "version_minor": 0
      },
      "text/plain": [
       "E3SM-MMF.mlo.0008-02-11-43200.nc:   0%|          | 0.00/1.13M [00:00<?, ?B/s]"
      ]
     },
     "metadata": {},
     "output_type": "display_data"
    },
    {
     "data": {
      "application/vnd.jupyter.widget-view+json": {
       "model_id": "c7e90b15faba4dd3b29b00d2de9a2970",
       "version_major": 2,
       "version_minor": 0
      },
      "text/plain": [
       "E3SM-MMF.mlo.0008-02-11-44400.nc:   0%|          | 0.00/1.13M [00:00<?, ?B/s]"
      ]
     },
     "metadata": {},
     "output_type": "display_data"
    },
    {
     "data": {
      "application/vnd.jupyter.widget-view+json": {
       "model_id": "072002480a024f1eb5e3d8c6d34199d0",
       "version_major": 2,
       "version_minor": 0
      },
      "text/plain": [
       "E3SM-MMF.mlo.0008-02-11-45600.nc:   0%|          | 0.00/1.13M [00:00<?, ?B/s]"
      ]
     },
     "metadata": {},
     "output_type": "display_data"
    },
    {
     "data": {
      "application/vnd.jupyter.widget-view+json": {
       "model_id": "19fba7e03db04984b07757efea375eb1",
       "version_major": 2,
       "version_minor": 0
      },
      "text/plain": [
       "E3SM-MMF.mlo.0008-02-11-46800.nc:   0%|          | 0.00/1.13M [00:00<?, ?B/s]"
      ]
     },
     "metadata": {},
     "output_type": "display_data"
    },
    {
     "data": {
      "application/vnd.jupyter.widget-view+json": {
       "model_id": "e0f37f6e9f174f7ba5bbe8b12dd15ba9",
       "version_major": 2,
       "version_minor": 0
      },
      "text/plain": [
       "E3SM-MMF.mlo.0008-02-11-48000.nc:   0%|          | 0.00/1.13M [00:00<?, ?B/s]"
      ]
     },
     "metadata": {},
     "output_type": "display_data"
    },
    {
     "data": {
      "application/vnd.jupyter.widget-view+json": {
       "model_id": "245effce2b414b45a1ad5d9db37dc1a6",
       "version_major": 2,
       "version_minor": 0
      },
      "text/plain": [
       "E3SM-MMF.mlo.0008-02-11-49200.nc:   0%|          | 0.00/1.13M [00:00<?, ?B/s]"
      ]
     },
     "metadata": {},
     "output_type": "display_data"
    },
    {
     "data": {
      "application/vnd.jupyter.widget-view+json": {
       "model_id": "b7b251c1dd57457b9bfea1bd925801ff",
       "version_major": 2,
       "version_minor": 0
      },
      "text/plain": [
       "E3SM-MMF.mlo.0008-02-11-50400.nc:   0%|          | 0.00/1.13M [00:00<?, ?B/s]"
      ]
     },
     "metadata": {},
     "output_type": "display_data"
    },
    {
     "data": {
      "application/vnd.jupyter.widget-view+json": {
       "model_id": "9382143f267f4a0aa1e692ef2d7d2504",
       "version_major": 2,
       "version_minor": 0
      },
      "text/plain": [
       "E3SM-MMF.mlo.0008-02-11-51600.nc:   0%|          | 0.00/1.13M [00:00<?, ?B/s]"
      ]
     },
     "metadata": {},
     "output_type": "display_data"
    },
    {
     "data": {
      "application/vnd.jupyter.widget-view+json": {
       "model_id": "f72d05b767c3401689efc6840ec451a5",
       "version_major": 2,
       "version_minor": 0
      },
      "text/plain": [
       "E3SM-MMF.mlo.0008-02-11-52800.nc:   0%|          | 0.00/1.13M [00:00<?, ?B/s]"
      ]
     },
     "metadata": {},
     "output_type": "display_data"
    },
    {
     "data": {
      "application/vnd.jupyter.widget-view+json": {
       "model_id": "fc464550297d453c9394b810173c7ed9",
       "version_major": 2,
       "version_minor": 0
      },
      "text/plain": [
       "E3SM-MMF.mlo.0008-02-11-54000.nc:   0%|          | 0.00/1.13M [00:00<?, ?B/s]"
      ]
     },
     "metadata": {},
     "output_type": "display_data"
    },
    {
     "data": {
      "application/vnd.jupyter.widget-view+json": {
       "model_id": "6a38347465514073adfa16a927af45a8",
       "version_major": 2,
       "version_minor": 0
      },
      "text/plain": [
       "E3SM-MMF.mlo.0008-02-11-55200.nc:   0%|          | 0.00/1.13M [00:00<?, ?B/s]"
      ]
     },
     "metadata": {},
     "output_type": "display_data"
    },
    {
     "data": {
      "application/vnd.jupyter.widget-view+json": {
       "model_id": "beca5eb65f95485286594694020bfeb4",
       "version_major": 2,
       "version_minor": 0
      },
      "text/plain": [
       "E3SM-MMF.mlo.0008-02-11-56400.nc:   0%|          | 0.00/1.13M [00:00<?, ?B/s]"
      ]
     },
     "metadata": {},
     "output_type": "display_data"
    },
    {
     "data": {
      "application/vnd.jupyter.widget-view+json": {
       "model_id": "a4fdf353e63b4a2c90f236f502c5250f",
       "version_major": 2,
       "version_minor": 0
      },
      "text/plain": [
       "E3SM-MMF.mlo.0008-02-11-57600.nc:   0%|          | 0.00/1.13M [00:00<?, ?B/s]"
      ]
     },
     "metadata": {},
     "output_type": "display_data"
    },
    {
     "data": {
      "application/vnd.jupyter.widget-view+json": {
       "model_id": "b41b93e2e0d74378bd4b82a2804ab2ff",
       "version_major": 2,
       "version_minor": 0
      },
      "text/plain": [
       "E3SM-MMF.mlo.0008-02-11-58800.nc:   0%|          | 0.00/1.13M [00:00<?, ?B/s]"
      ]
     },
     "metadata": {},
     "output_type": "display_data"
    },
    {
     "data": {
      "application/vnd.jupyter.widget-view+json": {
       "model_id": "c39d09ccf174419482187b2f459808b9",
       "version_major": 2,
       "version_minor": 0
      },
      "text/plain": [
       "E3SM-MMF.mlo.0008-02-11-60000.nc:   0%|          | 0.00/1.13M [00:00<?, ?B/s]"
      ]
     },
     "metadata": {},
     "output_type": "display_data"
    },
    {
     "data": {
      "application/vnd.jupyter.widget-view+json": {
       "model_id": "2d89acf75d4f4f8ba16a58fd0a2489f1",
       "version_major": 2,
       "version_minor": 0
      },
      "text/plain": [
       "E3SM-MMF.mlo.0008-02-11-61200.nc:   0%|          | 0.00/1.13M [00:00<?, ?B/s]"
      ]
     },
     "metadata": {},
     "output_type": "display_data"
    },
    {
     "data": {
      "application/vnd.jupyter.widget-view+json": {
       "model_id": "56ef88f7f5f440c891635e577cc16839",
       "version_major": 2,
       "version_minor": 0
      },
      "text/plain": [
       "E3SM-MMF.mlo.0008-02-11-62400.nc:   0%|          | 0.00/1.13M [00:00<?, ?B/s]"
      ]
     },
     "metadata": {},
     "output_type": "display_data"
    },
    {
     "data": {
      "application/vnd.jupyter.widget-view+json": {
       "model_id": "dccccf8f2c3649d1bfc7b9db37497ca0",
       "version_major": 2,
       "version_minor": 0
      },
      "text/plain": [
       "E3SM-MMF.mlo.0008-02-11-63600.nc:   0%|          | 0.00/1.13M [00:00<?, ?B/s]"
      ]
     },
     "metadata": {},
     "output_type": "display_data"
    },
    {
     "data": {
      "application/vnd.jupyter.widget-view+json": {
       "model_id": "624f75301b304af8a252808ca2817765",
       "version_major": 2,
       "version_minor": 0
      },
      "text/plain": [
       "E3SM-MMF.mlo.0008-02-11-64800.nc:   0%|          | 0.00/1.13M [00:00<?, ?B/s]"
      ]
     },
     "metadata": {},
     "output_type": "display_data"
    },
    {
     "data": {
      "application/vnd.jupyter.widget-view+json": {
       "model_id": "5685e8e065c842939e69a111f38aa638",
       "version_major": 2,
       "version_minor": 0
      },
      "text/plain": [
       "E3SM-MMF.mlo.0008-02-11-66000.nc:   0%|          | 0.00/1.13M [00:00<?, ?B/s]"
      ]
     },
     "metadata": {},
     "output_type": "display_data"
    },
    {
     "data": {
      "application/vnd.jupyter.widget-view+json": {
       "model_id": "33e7214514234cfa9fbb4681d4ce4906",
       "version_major": 2,
       "version_minor": 0
      },
      "text/plain": [
       "E3SM-MMF.mlo.0008-02-11-67200.nc:   0%|          | 0.00/1.13M [00:00<?, ?B/s]"
      ]
     },
     "metadata": {},
     "output_type": "display_data"
    },
    {
     "data": {
      "application/vnd.jupyter.widget-view+json": {
       "model_id": "9688443d24cb4c529da70d4a44119598",
       "version_major": 2,
       "version_minor": 0
      },
      "text/plain": [
       "E3SM-MMF.mlo.0008-02-11-68400.nc:   0%|          | 0.00/1.13M [00:00<?, ?B/s]"
      ]
     },
     "metadata": {},
     "output_type": "display_data"
    },
    {
     "data": {
      "application/vnd.jupyter.widget-view+json": {
       "model_id": "e1d3db2397a845bdb38e24894a0ca1a0",
       "version_major": 2,
       "version_minor": 0
      },
      "text/plain": [
       "E3SM-MMF.mlo.0008-02-11-69600.nc:   0%|          | 0.00/1.13M [00:00<?, ?B/s]"
      ]
     },
     "metadata": {},
     "output_type": "display_data"
    },
    {
     "data": {
      "application/vnd.jupyter.widget-view+json": {
       "model_id": "2c00a3c2b41a4a76bee8d1a497f69250",
       "version_major": 2,
       "version_minor": 0
      },
      "text/plain": [
       "E3SM-MMF.mlo.0008-02-11-70800.nc:   0%|          | 0.00/1.13M [00:00<?, ?B/s]"
      ]
     },
     "metadata": {},
     "output_type": "display_data"
    },
    {
     "data": {
      "application/vnd.jupyter.widget-view+json": {
       "model_id": "be16efe6a46a4233a984c2744b7681bc",
       "version_major": 2,
       "version_minor": 0
      },
      "text/plain": [
       "E3SM-MMF.mlo.0008-02-11-72000.nc:   0%|          | 0.00/1.13M [00:00<?, ?B/s]"
      ]
     },
     "metadata": {},
     "output_type": "display_data"
    },
    {
     "data": {
      "application/vnd.jupyter.widget-view+json": {
       "model_id": "308bf25aa79f4c9ba0acaae2b47a2915",
       "version_major": 2,
       "version_minor": 0
      },
      "text/plain": [
       "E3SM-MMF.mlo.0008-02-11-73200.nc:   0%|          | 0.00/1.13M [00:00<?, ?B/s]"
      ]
     },
     "metadata": {},
     "output_type": "display_data"
    },
    {
     "data": {
      "application/vnd.jupyter.widget-view+json": {
       "model_id": "66f30234db87476eb33c1820f1b0a614",
       "version_major": 2,
       "version_minor": 0
      },
      "text/plain": [
       "E3SM-MMF.mlo.0008-02-11-74400.nc:   0%|          | 0.00/1.13M [00:00<?, ?B/s]"
      ]
     },
     "metadata": {},
     "output_type": "display_data"
    },
    {
     "data": {
      "application/vnd.jupyter.widget-view+json": {
       "model_id": "774b06c9ff1c45f7af4b2b6df9c303aa",
       "version_major": 2,
       "version_minor": 0
      },
      "text/plain": [
       "E3SM-MMF.mlo.0008-02-11-75600.nc:   0%|          | 0.00/1.13M [00:00<?, ?B/s]"
      ]
     },
     "metadata": {},
     "output_type": "display_data"
    },
    {
     "data": {
      "application/vnd.jupyter.widget-view+json": {
       "model_id": "f234f92a0a384770a0a893eb8002326e",
       "version_major": 2,
       "version_minor": 0
      },
      "text/plain": [
       "E3SM-MMF.mlo.0008-02-11-76800.nc:   0%|          | 0.00/1.13M [00:00<?, ?B/s]"
      ]
     },
     "metadata": {},
     "output_type": "display_data"
    },
    {
     "data": {
      "application/vnd.jupyter.widget-view+json": {
       "model_id": "06ad1acb94804d938548da8dbd054e19",
       "version_major": 2,
       "version_minor": 0
      },
      "text/plain": [
       "E3SM-MMF.mlo.0008-02-11-78000.nc:   0%|          | 0.00/1.13M [00:00<?, ?B/s]"
      ]
     },
     "metadata": {},
     "output_type": "display_data"
    },
    {
     "data": {
      "application/vnd.jupyter.widget-view+json": {
       "model_id": "3d6aff38fdee4da885b799416b212e49",
       "version_major": 2,
       "version_minor": 0
      },
      "text/plain": [
       "E3SM-MMF.mlo.0008-02-11-79200.nc:   0%|          | 0.00/1.13M [00:00<?, ?B/s]"
      ]
     },
     "metadata": {},
     "output_type": "display_data"
    },
    {
     "data": {
      "application/vnd.jupyter.widget-view+json": {
       "model_id": "fe29314c866c47da94b2675c4e0a2cdc",
       "version_major": 2,
       "version_minor": 0
      },
      "text/plain": [
       "E3SM-MMF.mlo.0008-02-11-80400.nc:   0%|          | 0.00/1.13M [00:00<?, ?B/s]"
      ]
     },
     "metadata": {},
     "output_type": "display_data"
    },
    {
     "data": {
      "application/vnd.jupyter.widget-view+json": {
       "model_id": "f9e8e516fd914c5c89a5b6b73192043e",
       "version_major": 2,
       "version_minor": 0
      },
      "text/plain": [
       "E3SM-MMF.mlo.0008-02-11-81600.nc:   0%|          | 0.00/1.13M [00:00<?, ?B/s]"
      ]
     },
     "metadata": {},
     "output_type": "display_data"
    },
    {
     "data": {
      "application/vnd.jupyter.widget-view+json": {
       "model_id": "0798954c06c040658535a16992e8fde9",
       "version_major": 2,
       "version_minor": 0
      },
      "text/plain": [
       "E3SM-MMF.mlo.0008-02-11-82800.nc:   0%|          | 0.00/1.13M [00:00<?, ?B/s]"
      ]
     },
     "metadata": {},
     "output_type": "display_data"
    },
    {
     "data": {
      "application/vnd.jupyter.widget-view+json": {
       "model_id": "88ee1fe071e24ccb8c5ea6746f94553b",
       "version_major": 2,
       "version_minor": 0
      },
      "text/plain": [
       "E3SM-MMF.mlo.0008-02-11-84000.nc:   0%|          | 0.00/1.13M [00:00<?, ?B/s]"
      ]
     },
     "metadata": {},
     "output_type": "display_data"
    },
    {
     "data": {
      "application/vnd.jupyter.widget-view+json": {
       "model_id": "5b656c4e146048c9b88517542ebd302c",
       "version_major": 2,
       "version_minor": 0
      },
      "text/plain": [
       "E3SM-MMF.mlo.0008-02-11-85200.nc:   0%|          | 0.00/1.13M [00:00<?, ?B/s]"
      ]
     },
     "metadata": {},
     "output_type": "display_data"
    },
    {
     "data": {
      "application/vnd.jupyter.widget-view+json": {
       "model_id": "ab153f72ba0049f5b9c93cf6c6553712",
       "version_major": 2,
       "version_minor": 0
      },
      "text/plain": [
       "E3SM-MMF.mlo.0008-02-12-00000.nc:   0%|          | 0.00/1.13M [00:00<?, ?B/s]"
      ]
     },
     "metadata": {},
     "output_type": "display_data"
    },
    {
     "data": {
      "application/vnd.jupyter.widget-view+json": {
       "model_id": "affcfbde66ce4d92be9e73df63001509",
       "version_major": 2,
       "version_minor": 0
      },
      "text/plain": [
       "E3SM-MMF.mlo.0008-02-12-01200.nc:   0%|          | 0.00/1.13M [00:00<?, ?B/s]"
      ]
     },
     "metadata": {},
     "output_type": "display_data"
    },
    {
     "data": {
      "application/vnd.jupyter.widget-view+json": {
       "model_id": "8e0fe5096cc84314aa223c62ef27860d",
       "version_major": 2,
       "version_minor": 0
      },
      "text/plain": [
       "E3SM-MMF.mlo.0008-02-12-02400.nc:   0%|          | 0.00/1.13M [00:00<?, ?B/s]"
      ]
     },
     "metadata": {},
     "output_type": "display_data"
    },
    {
     "data": {
      "application/vnd.jupyter.widget-view+json": {
       "model_id": "be7294cfde1740cbb26896fa16cf4664",
       "version_major": 2,
       "version_minor": 0
      },
      "text/plain": [
       "E3SM-MMF.mlo.0008-02-12-03600.nc:   0%|          | 0.00/1.13M [00:00<?, ?B/s]"
      ]
     },
     "metadata": {},
     "output_type": "display_data"
    },
    {
     "data": {
      "application/vnd.jupyter.widget-view+json": {
       "model_id": "458a0a5f4b35483186ddbc7f9439bb19",
       "version_major": 2,
       "version_minor": 0
      },
      "text/plain": [
       "E3SM-MMF.mlo.0008-02-12-04800.nc:   0%|          | 0.00/1.13M [00:00<?, ?B/s]"
      ]
     },
     "metadata": {},
     "output_type": "display_data"
    },
    {
     "data": {
      "application/vnd.jupyter.widget-view+json": {
       "model_id": "a8c6ca0d6af44d25915c3da42408b622",
       "version_major": 2,
       "version_minor": 0
      },
      "text/plain": [
       "E3SM-MMF.mlo.0008-02-12-06000.nc:   0%|          | 0.00/1.13M [00:00<?, ?B/s]"
      ]
     },
     "metadata": {},
     "output_type": "display_data"
    },
    {
     "data": {
      "application/vnd.jupyter.widget-view+json": {
       "model_id": "bbd7aca39aef431182787f98013c463e",
       "version_major": 2,
       "version_minor": 0
      },
      "text/plain": [
       "E3SM-MMF.mlo.0008-02-12-07200.nc:   0%|          | 0.00/1.13M [00:00<?, ?B/s]"
      ]
     },
     "metadata": {},
     "output_type": "display_data"
    },
    {
     "data": {
      "application/vnd.jupyter.widget-view+json": {
       "model_id": "51d15363973144458ac6299ef6144580",
       "version_major": 2,
       "version_minor": 0
      },
      "text/plain": [
       "E3SM-MMF.mlo.0008-02-12-08400.nc:   0%|          | 0.00/1.13M [00:00<?, ?B/s]"
      ]
     },
     "metadata": {},
     "output_type": "display_data"
    },
    {
     "data": {
      "application/vnd.jupyter.widget-view+json": {
       "model_id": "e610bb794213432abe11ec49e3f90776",
       "version_major": 2,
       "version_minor": 0
      },
      "text/plain": [
       "E3SM-MMF.mlo.0008-02-12-09600.nc:   0%|          | 0.00/1.13M [00:00<?, ?B/s]"
      ]
     },
     "metadata": {},
     "output_type": "display_data"
    },
    {
     "data": {
      "application/vnd.jupyter.widget-view+json": {
       "model_id": "82a3483e403442f6a7348ee4fa365595",
       "version_major": 2,
       "version_minor": 0
      },
      "text/plain": [
       "E3SM-MMF.mlo.0008-02-12-10800.nc:   0%|          | 0.00/1.13M [00:00<?, ?B/s]"
      ]
     },
     "metadata": {},
     "output_type": "display_data"
    },
    {
     "data": {
      "application/vnd.jupyter.widget-view+json": {
       "model_id": "bc3484f6431b43809b7a4f59a38b3178",
       "version_major": 2,
       "version_minor": 0
      },
      "text/plain": [
       "E3SM-MMF.mlo.0008-02-12-12000.nc:   0%|          | 0.00/1.13M [00:00<?, ?B/s]"
      ]
     },
     "metadata": {},
     "output_type": "display_data"
    },
    {
     "data": {
      "application/vnd.jupyter.widget-view+json": {
       "model_id": "753f8294e8b746ffabd9b895bf74345c",
       "version_major": 2,
       "version_minor": 0
      },
      "text/plain": [
       "E3SM-MMF.mlo.0008-02-12-13200.nc:   0%|          | 0.00/1.13M [00:00<?, ?B/s]"
      ]
     },
     "metadata": {},
     "output_type": "display_data"
    },
    {
     "data": {
      "application/vnd.jupyter.widget-view+json": {
       "model_id": "230e04db4f704ec4bab3b845954bbd89",
       "version_major": 2,
       "version_minor": 0
      },
      "text/plain": [
       "E3SM-MMF.mlo.0008-02-12-14400.nc:   0%|          | 0.00/1.13M [00:00<?, ?B/s]"
      ]
     },
     "metadata": {},
     "output_type": "display_data"
    },
    {
     "data": {
      "application/vnd.jupyter.widget-view+json": {
       "model_id": "2a3ada9791fc46a58b2816d56d70c800",
       "version_major": 2,
       "version_minor": 0
      },
      "text/plain": [
       "E3SM-MMF.mlo.0008-02-12-15600.nc:   0%|          | 0.00/1.13M [00:00<?, ?B/s]"
      ]
     },
     "metadata": {},
     "output_type": "display_data"
    },
    {
     "data": {
      "application/vnd.jupyter.widget-view+json": {
       "model_id": "38dc46b32e2b4418ac470606075e3574",
       "version_major": 2,
       "version_minor": 0
      },
      "text/plain": [
       "E3SM-MMF.mlo.0008-02-12-16800.nc:   0%|          | 0.00/1.13M [00:00<?, ?B/s]"
      ]
     },
     "metadata": {},
     "output_type": "display_data"
    },
    {
     "data": {
      "application/vnd.jupyter.widget-view+json": {
       "model_id": "a6711a03b79c4a3db5cab13cee375c94",
       "version_major": 2,
       "version_minor": 0
      },
      "text/plain": [
       "E3SM-MMF.mlo.0008-02-12-18000.nc:   0%|          | 0.00/1.13M [00:00<?, ?B/s]"
      ]
     },
     "metadata": {},
     "output_type": "display_data"
    },
    {
     "data": {
      "application/vnd.jupyter.widget-view+json": {
       "model_id": "3cd99e3d221c4672969ed98fda4afd01",
       "version_major": 2,
       "version_minor": 0
      },
      "text/plain": [
       "E3SM-MMF.mlo.0008-02-12-19200.nc:   0%|          | 0.00/1.13M [00:00<?, ?B/s]"
      ]
     },
     "metadata": {},
     "output_type": "display_data"
    },
    {
     "data": {
      "application/vnd.jupyter.widget-view+json": {
       "model_id": "0333e767bdce43de95627d86e464202c",
       "version_major": 2,
       "version_minor": 0
      },
      "text/plain": [
       "E3SM-MMF.mlo.0008-02-12-20400.nc:   0%|          | 0.00/1.13M [00:00<?, ?B/s]"
      ]
     },
     "metadata": {},
     "output_type": "display_data"
    },
    {
     "data": {
      "application/vnd.jupyter.widget-view+json": {
       "model_id": "ec19a9424d90401a938c4ff901c99fc2",
       "version_major": 2,
       "version_minor": 0
      },
      "text/plain": [
       "E3SM-MMF.mlo.0008-02-12-21600.nc:   0%|          | 0.00/1.13M [00:00<?, ?B/s]"
      ]
     },
     "metadata": {},
     "output_type": "display_data"
    },
    {
     "data": {
      "application/vnd.jupyter.widget-view+json": {
       "model_id": "5a53cc999c49483d9d52e00a2ed3ae5c",
       "version_major": 2,
       "version_minor": 0
      },
      "text/plain": [
       "E3SM-MMF.mlo.0008-02-12-22800.nc:   0%|          | 0.00/1.13M [00:00<?, ?B/s]"
      ]
     },
     "metadata": {},
     "output_type": "display_data"
    },
    {
     "data": {
      "application/vnd.jupyter.widget-view+json": {
       "model_id": "b0bb7027b4bb4e50af50947eae0b830c",
       "version_major": 2,
       "version_minor": 0
      },
      "text/plain": [
       "E3SM-MMF.mlo.0008-02-12-24000.nc:   0%|          | 0.00/1.13M [00:00<?, ?B/s]"
      ]
     },
     "metadata": {},
     "output_type": "display_data"
    },
    {
     "data": {
      "application/vnd.jupyter.widget-view+json": {
       "model_id": "a28e82b5582a46fc8f32f5473ded87d0",
       "version_major": 2,
       "version_minor": 0
      },
      "text/plain": [
       "E3SM-MMF.mlo.0008-02-12-25200.nc:   0%|          | 0.00/1.13M [00:00<?, ?B/s]"
      ]
     },
     "metadata": {},
     "output_type": "display_data"
    },
    {
     "data": {
      "application/vnd.jupyter.widget-view+json": {
       "model_id": "50e8f3c4b4614b1aa09b1e382619f174",
       "version_major": 2,
       "version_minor": 0
      },
      "text/plain": [
       "E3SM-MMF.mlo.0008-02-12-26400.nc:   0%|          | 0.00/1.13M [00:00<?, ?B/s]"
      ]
     },
     "metadata": {},
     "output_type": "display_data"
    },
    {
     "data": {
      "application/vnd.jupyter.widget-view+json": {
       "model_id": "448a8a982e6149a59b96f66d1578e588",
       "version_major": 2,
       "version_minor": 0
      },
      "text/plain": [
       "E3SM-MMF.mlo.0008-02-12-27600.nc:   0%|          | 0.00/1.13M [00:00<?, ?B/s]"
      ]
     },
     "metadata": {},
     "output_type": "display_data"
    },
    {
     "data": {
      "application/vnd.jupyter.widget-view+json": {
       "model_id": "e0c65c837a1548de8c2bec55e13063e2",
       "version_major": 2,
       "version_minor": 0
      },
      "text/plain": [
       "E3SM-MMF.mlo.0008-02-12-28800.nc:   0%|          | 0.00/1.13M [00:00<?, ?B/s]"
      ]
     },
     "metadata": {},
     "output_type": "display_data"
    },
    {
     "data": {
      "application/vnd.jupyter.widget-view+json": {
       "model_id": "2e7ac977db8f4a1da039e97539f570e6",
       "version_major": 2,
       "version_minor": 0
      },
      "text/plain": [
       "E3SM-MMF.mlo.0008-02-12-30000.nc:   0%|          | 0.00/1.13M [00:00<?, ?B/s]"
      ]
     },
     "metadata": {},
     "output_type": "display_data"
    },
    {
     "data": {
      "application/vnd.jupyter.widget-view+json": {
       "model_id": "26b12368e49741b8a0e87d23ef983ab3",
       "version_major": 2,
       "version_minor": 0
      },
      "text/plain": [
       "E3SM-MMF.mlo.0008-02-12-31200.nc:   0%|          | 0.00/1.13M [00:00<?, ?B/s]"
      ]
     },
     "metadata": {},
     "output_type": "display_data"
    },
    {
     "data": {
      "application/vnd.jupyter.widget-view+json": {
       "model_id": "4b9b41e1ac5c4818ac3bd58d52ef8267",
       "version_major": 2,
       "version_minor": 0
      },
      "text/plain": [
       "E3SM-MMF.mlo.0008-02-12-32400.nc:   0%|          | 0.00/1.13M [00:00<?, ?B/s]"
      ]
     },
     "metadata": {},
     "output_type": "display_data"
    },
    {
     "data": {
      "application/vnd.jupyter.widget-view+json": {
       "model_id": "a8578aa277754544b8f2313db80fad44",
       "version_major": 2,
       "version_minor": 0
      },
      "text/plain": [
       "E3SM-MMF.mlo.0008-02-12-33600.nc:   0%|          | 0.00/1.13M [00:00<?, ?B/s]"
      ]
     },
     "metadata": {},
     "output_type": "display_data"
    },
    {
     "data": {
      "application/vnd.jupyter.widget-view+json": {
       "model_id": "deb43c7b55f74436b840e875386d34d6",
       "version_major": 2,
       "version_minor": 0
      },
      "text/plain": [
       "E3SM-MMF.mlo.0008-02-12-34800.nc:   0%|          | 0.00/1.13M [00:00<?, ?B/s]"
      ]
     },
     "metadata": {},
     "output_type": "display_data"
    },
    {
     "data": {
      "application/vnd.jupyter.widget-view+json": {
       "model_id": "9a1d9ee9070f4852a2ced73f29e08383",
       "version_major": 2,
       "version_minor": 0
      },
      "text/plain": [
       "E3SM-MMF.mlo.0008-02-12-36000.nc:   0%|          | 0.00/1.13M [00:00<?, ?B/s]"
      ]
     },
     "metadata": {},
     "output_type": "display_data"
    },
    {
     "data": {
      "application/vnd.jupyter.widget-view+json": {
       "model_id": "139732662db44c0cb281eff2e6f23852",
       "version_major": 2,
       "version_minor": 0
      },
      "text/plain": [
       "E3SM-MMF.mlo.0008-02-12-37200.nc:   0%|          | 0.00/1.13M [00:00<?, ?B/s]"
      ]
     },
     "metadata": {},
     "output_type": "display_data"
    },
    {
     "data": {
      "application/vnd.jupyter.widget-view+json": {
       "model_id": "0dcca367ca1f4f69bc5548953b5da391",
       "version_major": 2,
       "version_minor": 0
      },
      "text/plain": [
       "E3SM-MMF.mlo.0008-02-12-38400.nc:   0%|          | 0.00/1.13M [00:00<?, ?B/s]"
      ]
     },
     "metadata": {},
     "output_type": "display_data"
    },
    {
     "data": {
      "application/vnd.jupyter.widget-view+json": {
       "model_id": "43d8301975454540a66022ccfdda2aae",
       "version_major": 2,
       "version_minor": 0
      },
      "text/plain": [
       "E3SM-MMF.mlo.0008-02-12-39600.nc:   0%|          | 0.00/1.13M [00:00<?, ?B/s]"
      ]
     },
     "metadata": {},
     "output_type": "display_data"
    },
    {
     "data": {
      "application/vnd.jupyter.widget-view+json": {
       "model_id": "8fac62f8e49a47c0b5a238cc9493967a",
       "version_major": 2,
       "version_minor": 0
      },
      "text/plain": [
       "E3SM-MMF.mlo.0008-02-12-40800.nc:   0%|          | 0.00/1.13M [00:00<?, ?B/s]"
      ]
     },
     "metadata": {},
     "output_type": "display_data"
    },
    {
     "data": {
      "application/vnd.jupyter.widget-view+json": {
       "model_id": "1d00e65b0d8944c5b9e731f58acd6b6a",
       "version_major": 2,
       "version_minor": 0
      },
      "text/plain": [
       "E3SM-MMF.mlo.0008-02-12-42000.nc:   0%|          | 0.00/1.13M [00:00<?, ?B/s]"
      ]
     },
     "metadata": {},
     "output_type": "display_data"
    },
    {
     "data": {
      "application/vnd.jupyter.widget-view+json": {
       "model_id": "cd4bc4bf14284bb5b8a4e720e231cad3",
       "version_major": 2,
       "version_minor": 0
      },
      "text/plain": [
       "E3SM-MMF.mlo.0008-02-12-43200.nc:   0%|          | 0.00/1.13M [00:00<?, ?B/s]"
      ]
     },
     "metadata": {},
     "output_type": "display_data"
    },
    {
     "data": {
      "application/vnd.jupyter.widget-view+json": {
       "model_id": "194d98f7091b4d3784d06ff0cd972652",
       "version_major": 2,
       "version_minor": 0
      },
      "text/plain": [
       "E3SM-MMF.mlo.0008-02-12-44400.nc:   0%|          | 0.00/1.13M [00:00<?, ?B/s]"
      ]
     },
     "metadata": {},
     "output_type": "display_data"
    },
    {
     "data": {
      "application/vnd.jupyter.widget-view+json": {
       "model_id": "971d04a161234afd8dfafde405755173",
       "version_major": 2,
       "version_minor": 0
      },
      "text/plain": [
       "E3SM-MMF.mlo.0008-02-12-45600.nc:   0%|          | 0.00/1.13M [00:00<?, ?B/s]"
      ]
     },
     "metadata": {},
     "output_type": "display_data"
    },
    {
     "data": {
      "application/vnd.jupyter.widget-view+json": {
       "model_id": "8491b5ffa5ca4be5af04a44f5a75dbfc",
       "version_major": 2,
       "version_minor": 0
      },
      "text/plain": [
       "E3SM-MMF.mlo.0008-02-12-46800.nc:   0%|          | 0.00/1.13M [00:00<?, ?B/s]"
      ]
     },
     "metadata": {},
     "output_type": "display_data"
    },
    {
     "data": {
      "application/vnd.jupyter.widget-view+json": {
       "model_id": "4601b5d8b35841698b45c2d5c5d66e63",
       "version_major": 2,
       "version_minor": 0
      },
      "text/plain": [
       "E3SM-MMF.mlo.0008-02-12-48000.nc:   0%|          | 0.00/1.13M [00:00<?, ?B/s]"
      ]
     },
     "metadata": {},
     "output_type": "display_data"
    },
    {
     "data": {
      "application/vnd.jupyter.widget-view+json": {
       "model_id": "820a7f0a7f7843d88c32eeaca17acf30",
       "version_major": 2,
       "version_minor": 0
      },
      "text/plain": [
       "E3SM-MMF.mlo.0008-02-12-49200.nc:   0%|          | 0.00/1.13M [00:00<?, ?B/s]"
      ]
     },
     "metadata": {},
     "output_type": "display_data"
    },
    {
     "data": {
      "application/vnd.jupyter.widget-view+json": {
       "model_id": "71737683297645c6992c1f700f81f44e",
       "version_major": 2,
       "version_minor": 0
      },
      "text/plain": [
       "E3SM-MMF.mlo.0008-02-12-50400.nc:   0%|          | 0.00/1.13M [00:00<?, ?B/s]"
      ]
     },
     "metadata": {},
     "output_type": "display_data"
    },
    {
     "data": {
      "application/vnd.jupyter.widget-view+json": {
       "model_id": "8015a1e0610c4e718583149908f696e6",
       "version_major": 2,
       "version_minor": 0
      },
      "text/plain": [
       "E3SM-MMF.mlo.0008-02-12-51600.nc:   0%|          | 0.00/1.13M [00:00<?, ?B/s]"
      ]
     },
     "metadata": {},
     "output_type": "display_data"
    },
    {
     "data": {
      "application/vnd.jupyter.widget-view+json": {
       "model_id": "6912eeb133f440e28cdff6921c45d165",
       "version_major": 2,
       "version_minor": 0
      },
      "text/plain": [
       "E3SM-MMF.mlo.0008-02-12-52800.nc:   0%|          | 0.00/1.13M [00:00<?, ?B/s]"
      ]
     },
     "metadata": {},
     "output_type": "display_data"
    },
    {
     "data": {
      "application/vnd.jupyter.widget-view+json": {
       "model_id": "44fc4d4e6b174995b554a98b17575231",
       "version_major": 2,
       "version_minor": 0
      },
      "text/plain": [
       "E3SM-MMF.mlo.0008-02-12-54000.nc:   0%|          | 0.00/1.13M [00:00<?, ?B/s]"
      ]
     },
     "metadata": {},
     "output_type": "display_data"
    },
    {
     "data": {
      "application/vnd.jupyter.widget-view+json": {
       "model_id": "94cbdd7be3044d769e6aeae1b1719ef1",
       "version_major": 2,
       "version_minor": 0
      },
      "text/plain": [
       "E3SM-MMF.mlo.0008-02-12-55200.nc:   0%|          | 0.00/1.13M [00:00<?, ?B/s]"
      ]
     },
     "metadata": {},
     "output_type": "display_data"
    },
    {
     "data": {
      "application/vnd.jupyter.widget-view+json": {
       "model_id": "46ef076eadde429f81188e5969033f59",
       "version_major": 2,
       "version_minor": 0
      },
      "text/plain": [
       "E3SM-MMF.mlo.0008-02-12-56400.nc:   0%|          | 0.00/1.13M [00:00<?, ?B/s]"
      ]
     },
     "metadata": {},
     "output_type": "display_data"
    },
    {
     "data": {
      "application/vnd.jupyter.widget-view+json": {
       "model_id": "4f3c43fd03df4d61854bca9cdccdac85",
       "version_major": 2,
       "version_minor": 0
      },
      "text/plain": [
       "E3SM-MMF.mlo.0008-02-12-57600.nc:   0%|          | 0.00/1.13M [00:00<?, ?B/s]"
      ]
     },
     "metadata": {},
     "output_type": "display_data"
    },
    {
     "data": {
      "application/vnd.jupyter.widget-view+json": {
       "model_id": "d2504ce5ad514172a9f200ec0fc8866e",
       "version_major": 2,
       "version_minor": 0
      },
      "text/plain": [
       "E3SM-MMF.mlo.0008-02-12-58800.nc:   0%|          | 0.00/1.13M [00:00<?, ?B/s]"
      ]
     },
     "metadata": {},
     "output_type": "display_data"
    },
    {
     "data": {
      "application/vnd.jupyter.widget-view+json": {
       "model_id": "b5d85f1afbc44912a860169093c8f168",
       "version_major": 2,
       "version_minor": 0
      },
      "text/plain": [
       "E3SM-MMF.mlo.0008-02-12-60000.nc:   0%|          | 0.00/1.13M [00:00<?, ?B/s]"
      ]
     },
     "metadata": {},
     "output_type": "display_data"
    },
    {
     "data": {
      "application/vnd.jupyter.widget-view+json": {
       "model_id": "58bac178fa8943a0b2dfdd167b3bc1b8",
       "version_major": 2,
       "version_minor": 0
      },
      "text/plain": [
       "E3SM-MMF.mlo.0008-02-12-61200.nc:   0%|          | 0.00/1.13M [00:00<?, ?B/s]"
      ]
     },
     "metadata": {},
     "output_type": "display_data"
    },
    {
     "data": {
      "application/vnd.jupyter.widget-view+json": {
       "model_id": "d8c567a7029449439bbfc6ac865d41a6",
       "version_major": 2,
       "version_minor": 0
      },
      "text/plain": [
       "E3SM-MMF.mlo.0008-02-12-62400.nc:   0%|          | 0.00/1.13M [00:00<?, ?B/s]"
      ]
     },
     "metadata": {},
     "output_type": "display_data"
    },
    {
     "data": {
      "application/vnd.jupyter.widget-view+json": {
       "model_id": "9cffb0b9bca04df0a0ad2b256621fd89",
       "version_major": 2,
       "version_minor": 0
      },
      "text/plain": [
       "E3SM-MMF.mlo.0008-02-12-63600.nc:   0%|          | 0.00/1.13M [00:00<?, ?B/s]"
      ]
     },
     "metadata": {},
     "output_type": "display_data"
    },
    {
     "data": {
      "application/vnd.jupyter.widget-view+json": {
       "model_id": "6be1542abc3c4c56b990afa1a11bf6b5",
       "version_major": 2,
       "version_minor": 0
      },
      "text/plain": [
       "E3SM-MMF.mlo.0008-02-12-64800.nc:   0%|          | 0.00/1.13M [00:00<?, ?B/s]"
      ]
     },
     "metadata": {},
     "output_type": "display_data"
    },
    {
     "data": {
      "application/vnd.jupyter.widget-view+json": {
       "model_id": "f679284c68de4a96ac6f05eb090ceb01",
       "version_major": 2,
       "version_minor": 0
      },
      "text/plain": [
       "E3SM-MMF.mlo.0008-02-12-66000.nc:   0%|          | 0.00/1.13M [00:00<?, ?B/s]"
      ]
     },
     "metadata": {},
     "output_type": "display_data"
    },
    {
     "data": {
      "application/vnd.jupyter.widget-view+json": {
       "model_id": "764246922ad14c1da80ca3f26870de88",
       "version_major": 2,
       "version_minor": 0
      },
      "text/plain": [
       "E3SM-MMF.mlo.0008-02-12-67200.nc:   0%|          | 0.00/1.13M [00:00<?, ?B/s]"
      ]
     },
     "metadata": {},
     "output_type": "display_data"
    },
    {
     "data": {
      "application/vnd.jupyter.widget-view+json": {
       "model_id": "2490fb90e0e3456db041014184760459",
       "version_major": 2,
       "version_minor": 0
      },
      "text/plain": [
       "E3SM-MMF.mlo.0008-02-12-68400.nc:   0%|          | 0.00/1.13M [00:00<?, ?B/s]"
      ]
     },
     "metadata": {},
     "output_type": "display_data"
    },
    {
     "data": {
      "application/vnd.jupyter.widget-view+json": {
       "model_id": "80672041b47c4c4cb567241d135074ac",
       "version_major": 2,
       "version_minor": 0
      },
      "text/plain": [
       "E3SM-MMF.mlo.0008-02-12-69600.nc:   0%|          | 0.00/1.13M [00:00<?, ?B/s]"
      ]
     },
     "metadata": {},
     "output_type": "display_data"
    },
    {
     "data": {
      "application/vnd.jupyter.widget-view+json": {
       "model_id": "e99aa3e2b11b43769cdc374e8556cdd5",
       "version_major": 2,
       "version_minor": 0
      },
      "text/plain": [
       "E3SM-MMF.mlo.0008-02-12-70800.nc:   0%|          | 0.00/1.13M [00:00<?, ?B/s]"
      ]
     },
     "metadata": {},
     "output_type": "display_data"
    },
    {
     "data": {
      "application/vnd.jupyter.widget-view+json": {
       "model_id": "d08aecd558aa4975940d37b9fbf52afd",
       "version_major": 2,
       "version_minor": 0
      },
      "text/plain": [
       "E3SM-MMF.mlo.0008-02-12-72000.nc:   0%|          | 0.00/1.13M [00:00<?, ?B/s]"
      ]
     },
     "metadata": {},
     "output_type": "display_data"
    },
    {
     "data": {
      "application/vnd.jupyter.widget-view+json": {
       "model_id": "4ab6421829cb48bb99a0250c1252fd6c",
       "version_major": 2,
       "version_minor": 0
      },
      "text/plain": [
       "E3SM-MMF.mlo.0008-02-12-73200.nc:   0%|          | 0.00/1.13M [00:00<?, ?B/s]"
      ]
     },
     "metadata": {},
     "output_type": "display_data"
    },
    {
     "data": {
      "application/vnd.jupyter.widget-view+json": {
       "model_id": "f5cbfe6e8d1e484d97bbaa9e8167a22d",
       "version_major": 2,
       "version_minor": 0
      },
      "text/plain": [
       "E3SM-MMF.mlo.0008-02-12-74400.nc:   0%|          | 0.00/1.13M [00:00<?, ?B/s]"
      ]
     },
     "metadata": {},
     "output_type": "display_data"
    },
    {
     "data": {
      "application/vnd.jupyter.widget-view+json": {
       "model_id": "04721ae3071e4eb1a1a401b9a3b476f1",
       "version_major": 2,
       "version_minor": 0
      },
      "text/plain": [
       "E3SM-MMF.mlo.0008-02-12-75600.nc:   0%|          | 0.00/1.13M [00:00<?, ?B/s]"
      ]
     },
     "metadata": {},
     "output_type": "display_data"
    },
    {
     "data": {
      "application/vnd.jupyter.widget-view+json": {
       "model_id": "9de310bc3bf0454fb0fff6733193096a",
       "version_major": 2,
       "version_minor": 0
      },
      "text/plain": [
       "E3SM-MMF.mlo.0008-02-12-76800.nc:   0%|          | 0.00/1.13M [00:00<?, ?B/s]"
      ]
     },
     "metadata": {},
     "output_type": "display_data"
    },
    {
     "data": {
      "application/vnd.jupyter.widget-view+json": {
       "model_id": "68dfc29c42b749fe8d6a144de93baedd",
       "version_major": 2,
       "version_minor": 0
      },
      "text/plain": [
       "E3SM-MMF.mlo.0008-02-12-78000.nc:   0%|          | 0.00/1.13M [00:00<?, ?B/s]"
      ]
     },
     "metadata": {},
     "output_type": "display_data"
    },
    {
     "data": {
      "application/vnd.jupyter.widget-view+json": {
       "model_id": "96760bd2dbf84dd58228ad2f54ed6b3a",
       "version_major": 2,
       "version_minor": 0
      },
      "text/plain": [
       "E3SM-MMF.mlo.0008-02-12-79200.nc:   0%|          | 0.00/1.13M [00:00<?, ?B/s]"
      ]
     },
     "metadata": {},
     "output_type": "display_data"
    },
    {
     "data": {
      "application/vnd.jupyter.widget-view+json": {
       "model_id": "4eb5f899540e444c956c20ec1f119dac",
       "version_major": 2,
       "version_minor": 0
      },
      "text/plain": [
       "E3SM-MMF.mlo.0008-02-12-80400.nc:   0%|          | 0.00/1.13M [00:00<?, ?B/s]"
      ]
     },
     "metadata": {},
     "output_type": "display_data"
    },
    {
     "data": {
      "application/vnd.jupyter.widget-view+json": {
       "model_id": "faad72b4a7a44a02aa207fe429f9dee8",
       "version_major": 2,
       "version_minor": 0
      },
      "text/plain": [
       "E3SM-MMF.mlo.0008-02-12-81600.nc:   0%|          | 0.00/1.13M [00:00<?, ?B/s]"
      ]
     },
     "metadata": {},
     "output_type": "display_data"
    },
    {
     "data": {
      "application/vnd.jupyter.widget-view+json": {
       "model_id": "8abd827d8c6a4a68a2685194939591ba",
       "version_major": 2,
       "version_minor": 0
      },
      "text/plain": [
       "E3SM-MMF.mlo.0008-02-12-82800.nc:   0%|          | 0.00/1.13M [00:00<?, ?B/s]"
      ]
     },
     "metadata": {},
     "output_type": "display_data"
    },
    {
     "data": {
      "application/vnd.jupyter.widget-view+json": {
       "model_id": "6a566daec86a48bb9231e4ae94e8bf61",
       "version_major": 2,
       "version_minor": 0
      },
      "text/plain": [
       "E3SM-MMF.mlo.0008-02-12-84000.nc:   0%|          | 0.00/1.13M [00:00<?, ?B/s]"
      ]
     },
     "metadata": {},
     "output_type": "display_data"
    },
    {
     "data": {
      "application/vnd.jupyter.widget-view+json": {
       "model_id": "1400f284f8974f348f54f7b2e4131118",
       "version_major": 2,
       "version_minor": 0
      },
      "text/plain": [
       "E3SM-MMF.mlo.0008-02-12-85200.nc:   0%|          | 0.00/1.13M [00:00<?, ?B/s]"
      ]
     },
     "metadata": {},
     "output_type": "display_data"
    },
    {
     "data": {
      "application/vnd.jupyter.widget-view+json": {
       "model_id": "b0ae3fe99f9c490a9445555b5114fccf",
       "version_major": 2,
       "version_minor": 0
      },
      "text/plain": [
       "E3SM-MMF.mlo.0008-02-13-00000.nc:   0%|          | 0.00/1.13M [00:00<?, ?B/s]"
      ]
     },
     "metadata": {},
     "output_type": "display_data"
    },
    {
     "data": {
      "application/vnd.jupyter.widget-view+json": {
       "model_id": "85021e39d29241469086a1df68fa910b",
       "version_major": 2,
       "version_minor": 0
      },
      "text/plain": [
       "E3SM-MMF.mlo.0008-02-13-01200.nc:   0%|          | 0.00/1.13M [00:00<?, ?B/s]"
      ]
     },
     "metadata": {},
     "output_type": "display_data"
    },
    {
     "data": {
      "application/vnd.jupyter.widget-view+json": {
       "model_id": "bf64934440c4482b995ff76fe1bf2972",
       "version_major": 2,
       "version_minor": 0
      },
      "text/plain": [
       "E3SM-MMF.mlo.0008-02-13-02400.nc:   0%|          | 0.00/1.13M [00:00<?, ?B/s]"
      ]
     },
     "metadata": {},
     "output_type": "display_data"
    },
    {
     "data": {
      "application/vnd.jupyter.widget-view+json": {
       "model_id": "679e3a8a61cd4824b97d56a61dd9ea24",
       "version_major": 2,
       "version_minor": 0
      },
      "text/plain": [
       "E3SM-MMF.mlo.0008-02-13-03600.nc:   0%|          | 0.00/1.13M [00:00<?, ?B/s]"
      ]
     },
     "metadata": {},
     "output_type": "display_data"
    },
    {
     "data": {
      "application/vnd.jupyter.widget-view+json": {
       "model_id": "babf03fce80946eda42ca73f20efb97c",
       "version_major": 2,
       "version_minor": 0
      },
      "text/plain": [
       "E3SM-MMF.mlo.0008-02-13-04800.nc:   0%|          | 0.00/1.13M [00:00<?, ?B/s]"
      ]
     },
     "metadata": {},
     "output_type": "display_data"
    },
    {
     "data": {
      "application/vnd.jupyter.widget-view+json": {
       "model_id": "102ab3dffc064b51bcbc0d49c6246ddd",
       "version_major": 2,
       "version_minor": 0
      },
      "text/plain": [
       "E3SM-MMF.mlo.0008-02-13-06000.nc:   0%|          | 0.00/1.13M [00:00<?, ?B/s]"
      ]
     },
     "metadata": {},
     "output_type": "display_data"
    },
    {
     "data": {
      "application/vnd.jupyter.widget-view+json": {
       "model_id": "60f6c4a742364173b551586ea859e4a0",
       "version_major": 2,
       "version_minor": 0
      },
      "text/plain": [
       "E3SM-MMF.mlo.0008-02-13-07200.nc:   0%|          | 0.00/1.13M [00:00<?, ?B/s]"
      ]
     },
     "metadata": {},
     "output_type": "display_data"
    },
    {
     "data": {
      "application/vnd.jupyter.widget-view+json": {
       "model_id": "6a559648d4f5451f92a943de6c73fd80",
       "version_major": 2,
       "version_minor": 0
      },
      "text/plain": [
       "E3SM-MMF.mlo.0008-02-13-08400.nc:   0%|          | 0.00/1.13M [00:00<?, ?B/s]"
      ]
     },
     "metadata": {},
     "output_type": "display_data"
    },
    {
     "data": {
      "application/vnd.jupyter.widget-view+json": {
       "model_id": "1e34821297064f209264706cfcb7719d",
       "version_major": 2,
       "version_minor": 0
      },
      "text/plain": [
       "E3SM-MMF.mlo.0008-02-13-09600.nc:   0%|          | 0.00/1.13M [00:00<?, ?B/s]"
      ]
     },
     "metadata": {},
     "output_type": "display_data"
    },
    {
     "data": {
      "application/vnd.jupyter.widget-view+json": {
       "model_id": "75463b9e7bb249aea69a023956063145",
       "version_major": 2,
       "version_minor": 0
      },
      "text/plain": [
       "E3SM-MMF.mlo.0008-02-13-10800.nc:   0%|          | 0.00/1.13M [00:00<?, ?B/s]"
      ]
     },
     "metadata": {},
     "output_type": "display_data"
    },
    {
     "data": {
      "application/vnd.jupyter.widget-view+json": {
       "model_id": "0fe11c1946b74393b8d041f10ac72d97",
       "version_major": 2,
       "version_minor": 0
      },
      "text/plain": [
       "E3SM-MMF.mlo.0008-02-13-12000.nc:   0%|          | 0.00/1.13M [00:00<?, ?B/s]"
      ]
     },
     "metadata": {},
     "output_type": "display_data"
    },
    {
     "data": {
      "application/vnd.jupyter.widget-view+json": {
       "model_id": "0d518be835034541a31d13e5058b93ec",
       "version_major": 2,
       "version_minor": 0
      },
      "text/plain": [
       "E3SM-MMF.mlo.0008-02-13-13200.nc:   0%|          | 0.00/1.13M [00:00<?, ?B/s]"
      ]
     },
     "metadata": {},
     "output_type": "display_data"
    },
    {
     "data": {
      "application/vnd.jupyter.widget-view+json": {
       "model_id": "c8db45eaf16d46898ed6c57ecb9a8980",
       "version_major": 2,
       "version_minor": 0
      },
      "text/plain": [
       "E3SM-MMF.mlo.0008-02-13-14400.nc:   0%|          | 0.00/1.13M [00:00<?, ?B/s]"
      ]
     },
     "metadata": {},
     "output_type": "display_data"
    },
    {
     "data": {
      "application/vnd.jupyter.widget-view+json": {
       "model_id": "3b94827685c345d2b9448263e5414309",
       "version_major": 2,
       "version_minor": 0
      },
      "text/plain": [
       "E3SM-MMF.mlo.0008-02-13-15600.nc:   0%|          | 0.00/1.13M [00:00<?, ?B/s]"
      ]
     },
     "metadata": {},
     "output_type": "display_data"
    },
    {
     "data": {
      "application/vnd.jupyter.widget-view+json": {
       "model_id": "d5196435185a457e919a2eb54d45da11",
       "version_major": 2,
       "version_minor": 0
      },
      "text/plain": [
       "E3SM-MMF.mlo.0008-02-13-16800.nc:   0%|          | 0.00/1.13M [00:00<?, ?B/s]"
      ]
     },
     "metadata": {},
     "output_type": "display_data"
    },
    {
     "data": {
      "application/vnd.jupyter.widget-view+json": {
       "model_id": "77fb7b513cbe43e782dbd200cdb48629",
       "version_major": 2,
       "version_minor": 0
      },
      "text/plain": [
       "E3SM-MMF.mlo.0008-02-13-18000.nc:   0%|          | 0.00/1.13M [00:00<?, ?B/s]"
      ]
     },
     "metadata": {},
     "output_type": "display_data"
    },
    {
     "data": {
      "application/vnd.jupyter.widget-view+json": {
       "model_id": "51bb24f2828a4026847015d56c94d499",
       "version_major": 2,
       "version_minor": 0
      },
      "text/plain": [
       "E3SM-MMF.mlo.0008-02-13-19200.nc:   0%|          | 0.00/1.13M [00:00<?, ?B/s]"
      ]
     },
     "metadata": {},
     "output_type": "display_data"
    },
    {
     "data": {
      "application/vnd.jupyter.widget-view+json": {
       "model_id": "4f62c7b964254506b52594a0e1c1b9d7",
       "version_major": 2,
       "version_minor": 0
      },
      "text/plain": [
       "E3SM-MMF.mlo.0008-02-13-20400.nc:   0%|          | 0.00/1.13M [00:00<?, ?B/s]"
      ]
     },
     "metadata": {},
     "output_type": "display_data"
    },
    {
     "data": {
      "application/vnd.jupyter.widget-view+json": {
       "model_id": "ff3b16b523dd4ae6a38d6632dcf87cd1",
       "version_major": 2,
       "version_minor": 0
      },
      "text/plain": [
       "E3SM-MMF.mlo.0008-02-13-21600.nc:   0%|          | 0.00/1.13M [00:00<?, ?B/s]"
      ]
     },
     "metadata": {},
     "output_type": "display_data"
    },
    {
     "data": {
      "application/vnd.jupyter.widget-view+json": {
       "model_id": "23690a44a907449b8f28a5f55589dfbe",
       "version_major": 2,
       "version_minor": 0
      },
      "text/plain": [
       "E3SM-MMF.mlo.0008-02-13-22800.nc:   0%|          | 0.00/1.13M [00:00<?, ?B/s]"
      ]
     },
     "metadata": {},
     "output_type": "display_data"
    },
    {
     "data": {
      "application/vnd.jupyter.widget-view+json": {
       "model_id": "30404c1e9d674cbdb5cdc99b0374257d",
       "version_major": 2,
       "version_minor": 0
      },
      "text/plain": [
       "E3SM-MMF.mlo.0008-02-13-24000.nc:   0%|          | 0.00/1.13M [00:00<?, ?B/s]"
      ]
     },
     "metadata": {},
     "output_type": "display_data"
    },
    {
     "data": {
      "application/vnd.jupyter.widget-view+json": {
       "model_id": "e1a2bdaab00b4a3092ceb0c06ab7904a",
       "version_major": 2,
       "version_minor": 0
      },
      "text/plain": [
       "E3SM-MMF.mlo.0008-02-13-25200.nc:   0%|          | 0.00/1.13M [00:00<?, ?B/s]"
      ]
     },
     "metadata": {},
     "output_type": "display_data"
    },
    {
     "data": {
      "application/vnd.jupyter.widget-view+json": {
       "model_id": "922fb4dfb14b42558eb72d08ba61e7fe",
       "version_major": 2,
       "version_minor": 0
      },
      "text/plain": [
       "E3SM-MMF.mlo.0008-02-13-26400.nc:   0%|          | 0.00/1.13M [00:00<?, ?B/s]"
      ]
     },
     "metadata": {},
     "output_type": "display_data"
    },
    {
     "data": {
      "application/vnd.jupyter.widget-view+json": {
       "model_id": "f832401eb95c46b4b5c5f8c6d7567d72",
       "version_major": 2,
       "version_minor": 0
      },
      "text/plain": [
       "E3SM-MMF.mlo.0008-02-13-27600.nc:   0%|          | 0.00/1.13M [00:00<?, ?B/s]"
      ]
     },
     "metadata": {},
     "output_type": "display_data"
    },
    {
     "data": {
      "application/vnd.jupyter.widget-view+json": {
       "model_id": "71bb0ec982b44d48a4eacbdf005235bd",
       "version_major": 2,
       "version_minor": 0
      },
      "text/plain": [
       "E3SM-MMF.mlo.0008-02-13-28800.nc:   0%|          | 0.00/1.13M [00:00<?, ?B/s]"
      ]
     },
     "metadata": {},
     "output_type": "display_data"
    },
    {
     "data": {
      "application/vnd.jupyter.widget-view+json": {
       "model_id": "6b2cdf4c9ffe4c3092da6ceb4b3733e1",
       "version_major": 2,
       "version_minor": 0
      },
      "text/plain": [
       "E3SM-MMF.mlo.0008-02-13-30000.nc:   0%|          | 0.00/1.13M [00:00<?, ?B/s]"
      ]
     },
     "metadata": {},
     "output_type": "display_data"
    },
    {
     "data": {
      "application/vnd.jupyter.widget-view+json": {
       "model_id": "efbf9141d611484384f54c71f8667a9e",
       "version_major": 2,
       "version_minor": 0
      },
      "text/plain": [
       "E3SM-MMF.mlo.0008-02-13-31200.nc:   0%|          | 0.00/1.13M [00:00<?, ?B/s]"
      ]
     },
     "metadata": {},
     "output_type": "display_data"
    },
    {
     "data": {
      "application/vnd.jupyter.widget-view+json": {
       "model_id": "fc739fdb22aa4b71b98eb665bf8b8769",
       "version_major": 2,
       "version_minor": 0
      },
      "text/plain": [
       "E3SM-MMF.mlo.0008-02-13-32400.nc:   0%|          | 0.00/1.13M [00:00<?, ?B/s]"
      ]
     },
     "metadata": {},
     "output_type": "display_data"
    },
    {
     "data": {
      "application/vnd.jupyter.widget-view+json": {
       "model_id": "ab22f8e03373427bb1b28738bc5d3253",
       "version_major": 2,
       "version_minor": 0
      },
      "text/plain": [
       "E3SM-MMF.mlo.0008-02-13-33600.nc:   0%|          | 0.00/1.13M [00:00<?, ?B/s]"
      ]
     },
     "metadata": {},
     "output_type": "display_data"
    },
    {
     "data": {
      "application/vnd.jupyter.widget-view+json": {
       "model_id": "ba173672f52a4a4486d647216d1bf29b",
       "version_major": 2,
       "version_minor": 0
      },
      "text/plain": [
       "E3SM-MMF.mlo.0008-02-13-34800.nc:   0%|          | 0.00/1.13M [00:00<?, ?B/s]"
      ]
     },
     "metadata": {},
     "output_type": "display_data"
    },
    {
     "data": {
      "application/vnd.jupyter.widget-view+json": {
       "model_id": "49847865dee34e5bb8ccaf5df1e435b6",
       "version_major": 2,
       "version_minor": 0
      },
      "text/plain": [
       "E3SM-MMF.mlo.0008-02-13-36000.nc:   0%|          | 0.00/1.13M [00:00<?, ?B/s]"
      ]
     },
     "metadata": {},
     "output_type": "display_data"
    },
    {
     "data": {
      "application/vnd.jupyter.widget-view+json": {
       "model_id": "b6bcc1e1f65b462d8b6cb58c8ef3a6ad",
       "version_major": 2,
       "version_minor": 0
      },
      "text/plain": [
       "E3SM-MMF.mlo.0008-02-13-37200.nc:   0%|          | 0.00/1.13M [00:00<?, ?B/s]"
      ]
     },
     "metadata": {},
     "output_type": "display_data"
    },
    {
     "data": {
      "application/vnd.jupyter.widget-view+json": {
       "model_id": "c80f29d4cc0d41c5b8f5c742dcf98920",
       "version_major": 2,
       "version_minor": 0
      },
      "text/plain": [
       "E3SM-MMF.mlo.0008-02-13-38400.nc:   0%|          | 0.00/1.13M [00:00<?, ?B/s]"
      ]
     },
     "metadata": {},
     "output_type": "display_data"
    },
    {
     "data": {
      "application/vnd.jupyter.widget-view+json": {
       "model_id": "9022173c08634bbe8e6c8685fa540650",
       "version_major": 2,
       "version_minor": 0
      },
      "text/plain": [
       "E3SM-MMF.mlo.0008-02-13-39600.nc:   0%|          | 0.00/1.13M [00:00<?, ?B/s]"
      ]
     },
     "metadata": {},
     "output_type": "display_data"
    },
    {
     "data": {
      "application/vnd.jupyter.widget-view+json": {
       "model_id": "e40d76551e844728826ab30c67b14c59",
       "version_major": 2,
       "version_minor": 0
      },
      "text/plain": [
       "E3SM-MMF.mlo.0008-02-13-40800.nc:   0%|          | 0.00/1.13M [00:00<?, ?B/s]"
      ]
     },
     "metadata": {},
     "output_type": "display_data"
    },
    {
     "data": {
      "application/vnd.jupyter.widget-view+json": {
       "model_id": "554057d764e2422aa6237eaf4dac8558",
       "version_major": 2,
       "version_minor": 0
      },
      "text/plain": [
       "E3SM-MMF.mlo.0008-02-13-42000.nc:   0%|          | 0.00/1.13M [00:00<?, ?B/s]"
      ]
     },
     "metadata": {},
     "output_type": "display_data"
    },
    {
     "data": {
      "application/vnd.jupyter.widget-view+json": {
       "model_id": "ffeb2a8b26e042b2a38deef5af1b982f",
       "version_major": 2,
       "version_minor": 0
      },
      "text/plain": [
       "E3SM-MMF.mlo.0008-02-13-43200.nc:   0%|          | 0.00/1.13M [00:00<?, ?B/s]"
      ]
     },
     "metadata": {},
     "output_type": "display_data"
    },
    {
     "data": {
      "application/vnd.jupyter.widget-view+json": {
       "model_id": "e2d43b5d9d09490b87e5e20efe81796a",
       "version_major": 2,
       "version_minor": 0
      },
      "text/plain": [
       "E3SM-MMF.mlo.0008-02-13-44400.nc:   0%|          | 0.00/1.13M [00:00<?, ?B/s]"
      ]
     },
     "metadata": {},
     "output_type": "display_data"
    },
    {
     "data": {
      "application/vnd.jupyter.widget-view+json": {
       "model_id": "60b2da3baa854ed889afe67229f4075e",
       "version_major": 2,
       "version_minor": 0
      },
      "text/plain": [
       "E3SM-MMF.mlo.0008-02-13-45600.nc:   0%|          | 0.00/1.13M [00:00<?, ?B/s]"
      ]
     },
     "metadata": {},
     "output_type": "display_data"
    },
    {
     "data": {
      "application/vnd.jupyter.widget-view+json": {
       "model_id": "4c7ff1bfdf8544dabea210e25b89057f",
       "version_major": 2,
       "version_minor": 0
      },
      "text/plain": [
       "E3SM-MMF.mlo.0008-02-13-46800.nc:   0%|          | 0.00/1.13M [00:00<?, ?B/s]"
      ]
     },
     "metadata": {},
     "output_type": "display_data"
    },
    {
     "data": {
      "application/vnd.jupyter.widget-view+json": {
       "model_id": "532021d117a54873b4e0f5d43e17718b",
       "version_major": 2,
       "version_minor": 0
      },
      "text/plain": [
       "E3SM-MMF.mlo.0008-02-13-48000.nc:   0%|          | 0.00/1.13M [00:00<?, ?B/s]"
      ]
     },
     "metadata": {},
     "output_type": "display_data"
    },
    {
     "data": {
      "application/vnd.jupyter.widget-view+json": {
       "model_id": "129d039fb5e24865a10f0d8449b519b1",
       "version_major": 2,
       "version_minor": 0
      },
      "text/plain": [
       "E3SM-MMF.mlo.0008-02-13-49200.nc:   0%|          | 0.00/1.13M [00:00<?, ?B/s]"
      ]
     },
     "metadata": {},
     "output_type": "display_data"
    },
    {
     "data": {
      "application/vnd.jupyter.widget-view+json": {
       "model_id": "52b734b20cb0497da80ad820f0fa3882",
       "version_major": 2,
       "version_minor": 0
      },
      "text/plain": [
       "E3SM-MMF.mlo.0008-02-13-50400.nc:   0%|          | 0.00/1.13M [00:00<?, ?B/s]"
      ]
     },
     "metadata": {},
     "output_type": "display_data"
    },
    {
     "data": {
      "application/vnd.jupyter.widget-view+json": {
       "model_id": "926e616bfc3143b2a659e75c48f001f6",
       "version_major": 2,
       "version_minor": 0
      },
      "text/plain": [
       "E3SM-MMF.mlo.0008-02-13-51600.nc:   0%|          | 0.00/1.13M [00:00<?, ?B/s]"
      ]
     },
     "metadata": {},
     "output_type": "display_data"
    },
    {
     "data": {
      "application/vnd.jupyter.widget-view+json": {
       "model_id": "016b98d467de4afa8347d7d27b415bc6",
       "version_major": 2,
       "version_minor": 0
      },
      "text/plain": [
       "E3SM-MMF.mlo.0008-02-13-52800.nc:   0%|          | 0.00/1.13M [00:00<?, ?B/s]"
      ]
     },
     "metadata": {},
     "output_type": "display_data"
    },
    {
     "data": {
      "application/vnd.jupyter.widget-view+json": {
       "model_id": "cbfe4364e34d436c94c0bfb1e7fbcd1e",
       "version_major": 2,
       "version_minor": 0
      },
      "text/plain": [
       "E3SM-MMF.mlo.0008-02-13-54000.nc:   0%|          | 0.00/1.13M [00:00<?, ?B/s]"
      ]
     },
     "metadata": {},
     "output_type": "display_data"
    },
    {
     "data": {
      "application/vnd.jupyter.widget-view+json": {
       "model_id": "05395578a60f4c7d9d2c27ab27a45284",
       "version_major": 2,
       "version_minor": 0
      },
      "text/plain": [
       "E3SM-MMF.mlo.0008-02-13-55200.nc:   0%|          | 0.00/1.13M [00:00<?, ?B/s]"
      ]
     },
     "metadata": {},
     "output_type": "display_data"
    },
    {
     "data": {
      "application/vnd.jupyter.widget-view+json": {
       "model_id": "5cf477317ac140ba8bb6b011ca16f9bd",
       "version_major": 2,
       "version_minor": 0
      },
      "text/plain": [
       "E3SM-MMF.mlo.0008-02-13-56400.nc:   0%|          | 0.00/1.13M [00:00<?, ?B/s]"
      ]
     },
     "metadata": {},
     "output_type": "display_data"
    },
    {
     "data": {
      "application/vnd.jupyter.widget-view+json": {
       "model_id": "875c337945cd4b5b979a0247eb527fd8",
       "version_major": 2,
       "version_minor": 0
      },
      "text/plain": [
       "E3SM-MMF.mlo.0008-02-13-57600.nc:   0%|          | 0.00/1.13M [00:00<?, ?B/s]"
      ]
     },
     "metadata": {},
     "output_type": "display_data"
    },
    {
     "data": {
      "application/vnd.jupyter.widget-view+json": {
       "model_id": "f018680fca7b4d9a9cf0d300e2f94149",
       "version_major": 2,
       "version_minor": 0
      },
      "text/plain": [
       "E3SM-MMF.mlo.0008-02-13-58800.nc:   0%|          | 0.00/1.13M [00:00<?, ?B/s]"
      ]
     },
     "metadata": {},
     "output_type": "display_data"
    },
    {
     "data": {
      "application/vnd.jupyter.widget-view+json": {
       "model_id": "c000ec01ab504536a245fd836fcc7f11",
       "version_major": 2,
       "version_minor": 0
      },
      "text/plain": [
       "E3SM-MMF.mlo.0008-02-13-60000.nc:   0%|          | 0.00/1.13M [00:00<?, ?B/s]"
      ]
     },
     "metadata": {},
     "output_type": "display_data"
    },
    {
     "data": {
      "application/vnd.jupyter.widget-view+json": {
       "model_id": "2ffc3ca36da44c0c846c2ad15c987592",
       "version_major": 2,
       "version_minor": 0
      },
      "text/plain": [
       "E3SM-MMF.mlo.0008-02-13-61200.nc:   0%|          | 0.00/1.13M [00:00<?, ?B/s]"
      ]
     },
     "metadata": {},
     "output_type": "display_data"
    },
    {
     "data": {
      "application/vnd.jupyter.widget-view+json": {
       "model_id": "709dab3f6adf4594a3c7f4518bac2ca2",
       "version_major": 2,
       "version_minor": 0
      },
      "text/plain": [
       "E3SM-MMF.mlo.0008-02-13-62400.nc:   0%|          | 0.00/1.13M [00:00<?, ?B/s]"
      ]
     },
     "metadata": {},
     "output_type": "display_data"
    },
    {
     "data": {
      "application/vnd.jupyter.widget-view+json": {
       "model_id": "7157236a734249878d5697ffac567ec8",
       "version_major": 2,
       "version_minor": 0
      },
      "text/plain": [
       "E3SM-MMF.mlo.0008-02-13-63600.nc:   0%|          | 0.00/1.13M [00:00<?, ?B/s]"
      ]
     },
     "metadata": {},
     "output_type": "display_data"
    },
    {
     "data": {
      "application/vnd.jupyter.widget-view+json": {
       "model_id": "69d60dad454a4cc9b95ec4f67de5e7b9",
       "version_major": 2,
       "version_minor": 0
      },
      "text/plain": [
       "E3SM-MMF.mlo.0008-02-13-64800.nc:   0%|          | 0.00/1.13M [00:00<?, ?B/s]"
      ]
     },
     "metadata": {},
     "output_type": "display_data"
    },
    {
     "data": {
      "application/vnd.jupyter.widget-view+json": {
       "model_id": "604e2bbc2a684b439be78ea92be7124f",
       "version_major": 2,
       "version_minor": 0
      },
      "text/plain": [
       "E3SM-MMF.mlo.0008-02-13-66000.nc:   0%|          | 0.00/1.13M [00:00<?, ?B/s]"
      ]
     },
     "metadata": {},
     "output_type": "display_data"
    },
    {
     "data": {
      "application/vnd.jupyter.widget-view+json": {
       "model_id": "f5d6fe16361b4a9d87c75f81ee24bd02",
       "version_major": 2,
       "version_minor": 0
      },
      "text/plain": [
       "E3SM-MMF.mlo.0008-02-13-67200.nc:   0%|          | 0.00/1.13M [00:00<?, ?B/s]"
      ]
     },
     "metadata": {},
     "output_type": "display_data"
    },
    {
     "data": {
      "application/vnd.jupyter.widget-view+json": {
       "model_id": "379fd7bb175d4d1d8cb06d5c4b9f8ba6",
       "version_major": 2,
       "version_minor": 0
      },
      "text/plain": [
       "E3SM-MMF.mlo.0008-02-13-68400.nc:   0%|          | 0.00/1.13M [00:00<?, ?B/s]"
      ]
     },
     "metadata": {},
     "output_type": "display_data"
    },
    {
     "data": {
      "application/vnd.jupyter.widget-view+json": {
       "model_id": "d64edbe2c16941609538f2efc8b9e8a8",
       "version_major": 2,
       "version_minor": 0
      },
      "text/plain": [
       "E3SM-MMF.mlo.0008-02-13-69600.nc:   0%|          | 0.00/1.13M [00:00<?, ?B/s]"
      ]
     },
     "metadata": {},
     "output_type": "display_data"
    },
    {
     "data": {
      "application/vnd.jupyter.widget-view+json": {
       "model_id": "afadda17b50e4718b9414f4579ee4984",
       "version_major": 2,
       "version_minor": 0
      },
      "text/plain": [
       "E3SM-MMF.mlo.0008-02-13-70800.nc:   0%|          | 0.00/1.13M [00:00<?, ?B/s]"
      ]
     },
     "metadata": {},
     "output_type": "display_data"
    },
    {
     "data": {
      "application/vnd.jupyter.widget-view+json": {
       "model_id": "531bd00720b242a0a67d80b7838b67c1",
       "version_major": 2,
       "version_minor": 0
      },
      "text/plain": [
       "E3SM-MMF.mlo.0008-02-13-72000.nc:   0%|          | 0.00/1.13M [00:00<?, ?B/s]"
      ]
     },
     "metadata": {},
     "output_type": "display_data"
    },
    {
     "data": {
      "application/vnd.jupyter.widget-view+json": {
       "model_id": "b398d3db33934cb9b6593f68881811f2",
       "version_major": 2,
       "version_minor": 0
      },
      "text/plain": [
       "E3SM-MMF.mlo.0008-02-13-73200.nc:   0%|          | 0.00/1.13M [00:00<?, ?B/s]"
      ]
     },
     "metadata": {},
     "output_type": "display_data"
    },
    {
     "data": {
      "application/vnd.jupyter.widget-view+json": {
       "model_id": "90f8e5e947e74ac09f956680098aca0f",
       "version_major": 2,
       "version_minor": 0
      },
      "text/plain": [
       "E3SM-MMF.mlo.0008-02-13-74400.nc:   0%|          | 0.00/1.13M [00:00<?, ?B/s]"
      ]
     },
     "metadata": {},
     "output_type": "display_data"
    },
    {
     "data": {
      "application/vnd.jupyter.widget-view+json": {
       "model_id": "aff74f483e5a4d2fb513c3a85a6a83e9",
       "version_major": 2,
       "version_minor": 0
      },
      "text/plain": [
       "E3SM-MMF.mlo.0008-02-13-75600.nc:   0%|          | 0.00/1.13M [00:00<?, ?B/s]"
      ]
     },
     "metadata": {},
     "output_type": "display_data"
    },
    {
     "data": {
      "application/vnd.jupyter.widget-view+json": {
       "model_id": "264487c2646243ef9ca09ea5f18061e0",
       "version_major": 2,
       "version_minor": 0
      },
      "text/plain": [
       "E3SM-MMF.mlo.0008-02-13-76800.nc:   0%|          | 0.00/1.13M [00:00<?, ?B/s]"
      ]
     },
     "metadata": {},
     "output_type": "display_data"
    },
    {
     "data": {
      "application/vnd.jupyter.widget-view+json": {
       "model_id": "151fb57ae68f43d0beff1080ff35cd68",
       "version_major": 2,
       "version_minor": 0
      },
      "text/plain": [
       "E3SM-MMF.mlo.0008-02-13-78000.nc:   0%|          | 0.00/1.13M [00:00<?, ?B/s]"
      ]
     },
     "metadata": {},
     "output_type": "display_data"
    },
    {
     "data": {
      "application/vnd.jupyter.widget-view+json": {
       "model_id": "43a98ec951684ee593c41cc10c22fb9a",
       "version_major": 2,
       "version_minor": 0
      },
      "text/plain": [
       "E3SM-MMF.mlo.0008-02-13-79200.nc:   0%|          | 0.00/1.13M [00:00<?, ?B/s]"
      ]
     },
     "metadata": {},
     "output_type": "display_data"
    },
    {
     "data": {
      "application/vnd.jupyter.widget-view+json": {
       "model_id": "693a87404e74481098045fa2ce99bdc3",
       "version_major": 2,
       "version_minor": 0
      },
      "text/plain": [
       "E3SM-MMF.mlo.0008-02-13-80400.nc:   0%|          | 0.00/1.13M [00:00<?, ?B/s]"
      ]
     },
     "metadata": {},
     "output_type": "display_data"
    },
    {
     "data": {
      "application/vnd.jupyter.widget-view+json": {
       "model_id": "1bb686c7a63142b196dd083202164d4a",
       "version_major": 2,
       "version_minor": 0
      },
      "text/plain": [
       "E3SM-MMF.mlo.0008-02-13-81600.nc:   0%|          | 0.00/1.13M [00:00<?, ?B/s]"
      ]
     },
     "metadata": {},
     "output_type": "display_data"
    },
    {
     "data": {
      "application/vnd.jupyter.widget-view+json": {
       "model_id": "9b2d70c7d53649adb1e2cba1b9930b3d",
       "version_major": 2,
       "version_minor": 0
      },
      "text/plain": [
       "E3SM-MMF.mlo.0008-02-13-82800.nc:   0%|          | 0.00/1.13M [00:00<?, ?B/s]"
      ]
     },
     "metadata": {},
     "output_type": "display_data"
    },
    {
     "data": {
      "application/vnd.jupyter.widget-view+json": {
       "model_id": "2a698c9376f64a62b4837cfc8703a93d",
       "version_major": 2,
       "version_minor": 0
      },
      "text/plain": [
       "E3SM-MMF.mlo.0008-02-13-84000.nc:   0%|          | 0.00/1.13M [00:00<?, ?B/s]"
      ]
     },
     "metadata": {},
     "output_type": "display_data"
    },
    {
     "data": {
      "application/vnd.jupyter.widget-view+json": {
       "model_id": "829acb320ebd4c7e92d99a86f7df4d09",
       "version_major": 2,
       "version_minor": 0
      },
      "text/plain": [
       "E3SM-MMF.mlo.0008-02-13-85200.nc:   0%|          | 0.00/1.13M [00:00<?, ?B/s]"
      ]
     },
     "metadata": {},
     "output_type": "display_data"
    },
    {
     "data": {
      "application/vnd.jupyter.widget-view+json": {
       "model_id": "31b09051d3de47f787d8ef1db11b6b5a",
       "version_major": 2,
       "version_minor": 0
      },
      "text/plain": [
       "E3SM-MMF.mlo.0008-02-14-00000.nc:   0%|          | 0.00/1.13M [00:00<?, ?B/s]"
      ]
     },
     "metadata": {},
     "output_type": "display_data"
    },
    {
     "data": {
      "application/vnd.jupyter.widget-view+json": {
       "model_id": "3810d5e6224d4191ae26441010964874",
       "version_major": 2,
       "version_minor": 0
      },
      "text/plain": [
       "E3SM-MMF.mlo.0008-02-14-01200.nc:   0%|          | 0.00/1.13M [00:00<?, ?B/s]"
      ]
     },
     "metadata": {},
     "output_type": "display_data"
    },
    {
     "data": {
      "application/vnd.jupyter.widget-view+json": {
       "model_id": "90c33708e9224d11969a60692ccfd1d2",
       "version_major": 2,
       "version_minor": 0
      },
      "text/plain": [
       "E3SM-MMF.mlo.0008-02-14-02400.nc:   0%|          | 0.00/1.13M [00:00<?, ?B/s]"
      ]
     },
     "metadata": {},
     "output_type": "display_data"
    },
    {
     "data": {
      "application/vnd.jupyter.widget-view+json": {
       "model_id": "923e8551d858437f932cb92f2129b106",
       "version_major": 2,
       "version_minor": 0
      },
      "text/plain": [
       "E3SM-MMF.mlo.0008-02-14-03600.nc:   0%|          | 0.00/1.13M [00:00<?, ?B/s]"
      ]
     },
     "metadata": {},
     "output_type": "display_data"
    },
    {
     "data": {
      "application/vnd.jupyter.widget-view+json": {
       "model_id": "f472cd5fcda44f7985f7b3d62fbc1295",
       "version_major": 2,
       "version_minor": 0
      },
      "text/plain": [
       "E3SM-MMF.mlo.0008-02-14-04800.nc:   0%|          | 0.00/1.13M [00:00<?, ?B/s]"
      ]
     },
     "metadata": {},
     "output_type": "display_data"
    },
    {
     "data": {
      "application/vnd.jupyter.widget-view+json": {
       "model_id": "9038d99deb834c3eaf4965776aab7f12",
       "version_major": 2,
       "version_minor": 0
      },
      "text/plain": [
       "E3SM-MMF.mlo.0008-02-14-06000.nc:   0%|          | 0.00/1.13M [00:00<?, ?B/s]"
      ]
     },
     "metadata": {},
     "output_type": "display_data"
    },
    {
     "data": {
      "application/vnd.jupyter.widget-view+json": {
       "model_id": "e3bfff40a74647a398e7965aebbe521e",
       "version_major": 2,
       "version_minor": 0
      },
      "text/plain": [
       "E3SM-MMF.mlo.0008-02-14-07200.nc:   0%|          | 0.00/1.13M [00:00<?, ?B/s]"
      ]
     },
     "metadata": {},
     "output_type": "display_data"
    },
    {
     "data": {
      "application/vnd.jupyter.widget-view+json": {
       "model_id": "627c72b41471482184adef8e539bfff0",
       "version_major": 2,
       "version_minor": 0
      },
      "text/plain": [
       "E3SM-MMF.mlo.0008-02-14-08400.nc:   0%|          | 0.00/1.13M [00:00<?, ?B/s]"
      ]
     },
     "metadata": {},
     "output_type": "display_data"
    },
    {
     "data": {
      "application/vnd.jupyter.widget-view+json": {
       "model_id": "72f8769e08c94ab4acf283f506f844dd",
       "version_major": 2,
       "version_minor": 0
      },
      "text/plain": [
       "E3SM-MMF.mlo.0008-02-14-09600.nc:   0%|          | 0.00/1.13M [00:00<?, ?B/s]"
      ]
     },
     "metadata": {},
     "output_type": "display_data"
    },
    {
     "data": {
      "application/vnd.jupyter.widget-view+json": {
       "model_id": "6c3f1f18f4d1419e99ae3bb242b8ff9b",
       "version_major": 2,
       "version_minor": 0
      },
      "text/plain": [
       "E3SM-MMF.mlo.0008-02-14-10800.nc:   0%|          | 0.00/1.13M [00:00<?, ?B/s]"
      ]
     },
     "metadata": {},
     "output_type": "display_data"
    },
    {
     "data": {
      "application/vnd.jupyter.widget-view+json": {
       "model_id": "29b62f5fb25f4c1babeae9bce5ad8ac5",
       "version_major": 2,
       "version_minor": 0
      },
      "text/plain": [
       "E3SM-MMF.mlo.0008-02-14-12000.nc:   0%|          | 0.00/1.13M [00:00<?, ?B/s]"
      ]
     },
     "metadata": {},
     "output_type": "display_data"
    },
    {
     "data": {
      "application/vnd.jupyter.widget-view+json": {
       "model_id": "5f9b3d27e9264c27ab995f01b7d7bca6",
       "version_major": 2,
       "version_minor": 0
      },
      "text/plain": [
       "E3SM-MMF.mlo.0008-02-14-13200.nc:   0%|          | 0.00/1.13M [00:00<?, ?B/s]"
      ]
     },
     "metadata": {},
     "output_type": "display_data"
    },
    {
     "data": {
      "application/vnd.jupyter.widget-view+json": {
       "model_id": "a3bd49ad634e4190aa14d2e99fbd0ce8",
       "version_major": 2,
       "version_minor": 0
      },
      "text/plain": [
       "E3SM-MMF.mlo.0008-02-14-14400.nc:   0%|          | 0.00/1.13M [00:00<?, ?B/s]"
      ]
     },
     "metadata": {},
     "output_type": "display_data"
    },
    {
     "data": {
      "application/vnd.jupyter.widget-view+json": {
       "model_id": "67253fe12442408ebc9ae9aa9393dbc9",
       "version_major": 2,
       "version_minor": 0
      },
      "text/plain": [
       "E3SM-MMF.mlo.0008-02-14-15600.nc:   0%|          | 0.00/1.13M [00:00<?, ?B/s]"
      ]
     },
     "metadata": {},
     "output_type": "display_data"
    },
    {
     "data": {
      "application/vnd.jupyter.widget-view+json": {
       "model_id": "ccd004bf6fff4249875fda6c75d6b8c9",
       "version_major": 2,
       "version_minor": 0
      },
      "text/plain": [
       "E3SM-MMF.mlo.0008-02-14-16800.nc:   0%|          | 0.00/1.13M [00:00<?, ?B/s]"
      ]
     },
     "metadata": {},
     "output_type": "display_data"
    },
    {
     "data": {
      "application/vnd.jupyter.widget-view+json": {
       "model_id": "4eed44e678154259909976b0582b7912",
       "version_major": 2,
       "version_minor": 0
      },
      "text/plain": [
       "E3SM-MMF.mlo.0008-02-14-18000.nc:   0%|          | 0.00/1.13M [00:00<?, ?B/s]"
      ]
     },
     "metadata": {},
     "output_type": "display_data"
    },
    {
     "data": {
      "application/vnd.jupyter.widget-view+json": {
       "model_id": "f9e7f90c09294333bfd11dbeb7135b03",
       "version_major": 2,
       "version_minor": 0
      },
      "text/plain": [
       "E3SM-MMF.mlo.0008-02-14-19200.nc:   0%|          | 0.00/1.13M [00:00<?, ?B/s]"
      ]
     },
     "metadata": {},
     "output_type": "display_data"
    },
    {
     "data": {
      "application/vnd.jupyter.widget-view+json": {
       "model_id": "1e1a0ad4ed594ff7bf4e842d8ba609b5",
       "version_major": 2,
       "version_minor": 0
      },
      "text/plain": [
       "E3SM-MMF.mlo.0008-02-14-20400.nc:   0%|          | 0.00/1.13M [00:00<?, ?B/s]"
      ]
     },
     "metadata": {},
     "output_type": "display_data"
    },
    {
     "data": {
      "application/vnd.jupyter.widget-view+json": {
       "model_id": "6198378bf19d41399df4f3ef4a460516",
       "version_major": 2,
       "version_minor": 0
      },
      "text/plain": [
       "E3SM-MMF.mlo.0008-02-14-21600.nc:   0%|          | 0.00/1.13M [00:00<?, ?B/s]"
      ]
     },
     "metadata": {},
     "output_type": "display_data"
    },
    {
     "data": {
      "application/vnd.jupyter.widget-view+json": {
       "model_id": "aa0720f01ba74ad2ba1bab6d1c2221f0",
       "version_major": 2,
       "version_minor": 0
      },
      "text/plain": [
       "E3SM-MMF.mlo.0008-02-14-22800.nc:   0%|          | 0.00/1.13M [00:00<?, ?B/s]"
      ]
     },
     "metadata": {},
     "output_type": "display_data"
    },
    {
     "data": {
      "application/vnd.jupyter.widget-view+json": {
       "model_id": "0c7aaa0379674e92af21e34647cb45fe",
       "version_major": 2,
       "version_minor": 0
      },
      "text/plain": [
       "E3SM-MMF.mlo.0008-02-14-24000.nc:   0%|          | 0.00/1.13M [00:00<?, ?B/s]"
      ]
     },
     "metadata": {},
     "output_type": "display_data"
    },
    {
     "data": {
      "application/vnd.jupyter.widget-view+json": {
       "model_id": "1136363028634220a19738d0683f6eba",
       "version_major": 2,
       "version_minor": 0
      },
      "text/plain": [
       "E3SM-MMF.mlo.0008-02-14-25200.nc:   0%|          | 0.00/1.13M [00:00<?, ?B/s]"
      ]
     },
     "metadata": {},
     "output_type": "display_data"
    },
    {
     "data": {
      "application/vnd.jupyter.widget-view+json": {
       "model_id": "c6db31f0baaf481191b1fd9a2a4f57f2",
       "version_major": 2,
       "version_minor": 0
      },
      "text/plain": [
       "E3SM-MMF.mlo.0008-02-14-26400.nc:   0%|          | 0.00/1.13M [00:00<?, ?B/s]"
      ]
     },
     "metadata": {},
     "output_type": "display_data"
    },
    {
     "data": {
      "application/vnd.jupyter.widget-view+json": {
       "model_id": "c84d1c00f53d430795cd3f03f3b89959",
       "version_major": 2,
       "version_minor": 0
      },
      "text/plain": [
       "E3SM-MMF.mlo.0008-02-14-27600.nc:   0%|          | 0.00/1.13M [00:00<?, ?B/s]"
      ]
     },
     "metadata": {},
     "output_type": "display_data"
    },
    {
     "data": {
      "application/vnd.jupyter.widget-view+json": {
       "model_id": "6a4bc40660cb4df089b2d3929b74736c",
       "version_major": 2,
       "version_minor": 0
      },
      "text/plain": [
       "E3SM-MMF.mlo.0008-02-14-28800.nc:   0%|          | 0.00/1.13M [00:00<?, ?B/s]"
      ]
     },
     "metadata": {},
     "output_type": "display_data"
    },
    {
     "data": {
      "application/vnd.jupyter.widget-view+json": {
       "model_id": "d52766c1c7f0409aa0d68c109e095b64",
       "version_major": 2,
       "version_minor": 0
      },
      "text/plain": [
       "E3SM-MMF.mlo.0008-02-14-30000.nc:   0%|          | 0.00/1.13M [00:00<?, ?B/s]"
      ]
     },
     "metadata": {},
     "output_type": "display_data"
    },
    {
     "data": {
      "application/vnd.jupyter.widget-view+json": {
       "model_id": "35e1f7e4dd734a179a76f7857c0e53a7",
       "version_major": 2,
       "version_minor": 0
      },
      "text/plain": [
       "E3SM-MMF.mlo.0008-02-14-31200.nc:   0%|          | 0.00/1.13M [00:00<?, ?B/s]"
      ]
     },
     "metadata": {},
     "output_type": "display_data"
    },
    {
     "data": {
      "application/vnd.jupyter.widget-view+json": {
       "model_id": "a8d59144ea9845709fb1544356a45e39",
       "version_major": 2,
       "version_minor": 0
      },
      "text/plain": [
       "E3SM-MMF.mlo.0008-02-14-32400.nc:   0%|          | 0.00/1.13M [00:00<?, ?B/s]"
      ]
     },
     "metadata": {},
     "output_type": "display_data"
    },
    {
     "data": {
      "application/vnd.jupyter.widget-view+json": {
       "model_id": "bfec5d606d7e419fb3cdca939107c854",
       "version_major": 2,
       "version_minor": 0
      },
      "text/plain": [
       "E3SM-MMF.mlo.0008-02-14-33600.nc:   0%|          | 0.00/1.13M [00:00<?, ?B/s]"
      ]
     },
     "metadata": {},
     "output_type": "display_data"
    },
    {
     "data": {
      "application/vnd.jupyter.widget-view+json": {
       "model_id": "a3351d9eeeb645da8efc1d98c6ac4922",
       "version_major": 2,
       "version_minor": 0
      },
      "text/plain": [
       "E3SM-MMF.mlo.0008-02-14-34800.nc:   0%|          | 0.00/1.13M [00:00<?, ?B/s]"
      ]
     },
     "metadata": {},
     "output_type": "display_data"
    },
    {
     "data": {
      "application/vnd.jupyter.widget-view+json": {
       "model_id": "6820f357ca804100b960e307b76e58e5",
       "version_major": 2,
       "version_minor": 0
      },
      "text/plain": [
       "E3SM-MMF.mlo.0008-02-14-36000.nc:   0%|          | 0.00/1.13M [00:00<?, ?B/s]"
      ]
     },
     "metadata": {},
     "output_type": "display_data"
    },
    {
     "data": {
      "application/vnd.jupyter.widget-view+json": {
       "model_id": "dd03e6b83f93465f9ae49ff754caad78",
       "version_major": 2,
       "version_minor": 0
      },
      "text/plain": [
       "E3SM-MMF.mlo.0008-02-14-37200.nc:   0%|          | 0.00/1.13M [00:00<?, ?B/s]"
      ]
     },
     "metadata": {},
     "output_type": "display_data"
    },
    {
     "data": {
      "application/vnd.jupyter.widget-view+json": {
       "model_id": "549026fecfec43be9a6448e7be55beaf",
       "version_major": 2,
       "version_minor": 0
      },
      "text/plain": [
       "E3SM-MMF.mlo.0008-02-14-38400.nc:   0%|          | 0.00/1.13M [00:00<?, ?B/s]"
      ]
     },
     "metadata": {},
     "output_type": "display_data"
    },
    {
     "data": {
      "application/vnd.jupyter.widget-view+json": {
       "model_id": "1e241053698c449ab28d33b0e6dcf40d",
       "version_major": 2,
       "version_minor": 0
      },
      "text/plain": [
       "E3SM-MMF.mlo.0008-02-14-39600.nc:   0%|          | 0.00/1.13M [00:00<?, ?B/s]"
      ]
     },
     "metadata": {},
     "output_type": "display_data"
    },
    {
     "data": {
      "application/vnd.jupyter.widget-view+json": {
       "model_id": "9e12d218d323483cbefdee51bf317228",
       "version_major": 2,
       "version_minor": 0
      },
      "text/plain": [
       "E3SM-MMF.mlo.0008-02-14-40800.nc:   0%|          | 0.00/1.13M [00:00<?, ?B/s]"
      ]
     },
     "metadata": {},
     "output_type": "display_data"
    },
    {
     "data": {
      "application/vnd.jupyter.widget-view+json": {
       "model_id": "2bf339e7238e47418238b2a8b800e5ab",
       "version_major": 2,
       "version_minor": 0
      },
      "text/plain": [
       "E3SM-MMF.mlo.0008-02-14-42000.nc:   0%|          | 0.00/1.13M [00:00<?, ?B/s]"
      ]
     },
     "metadata": {},
     "output_type": "display_data"
    },
    {
     "data": {
      "application/vnd.jupyter.widget-view+json": {
       "model_id": "29aa497552ba4a379a2a67c763fc44f1",
       "version_major": 2,
       "version_minor": 0
      },
      "text/plain": [
       "E3SM-MMF.mlo.0008-02-14-43200.nc:   0%|          | 0.00/1.13M [00:00<?, ?B/s]"
      ]
     },
     "metadata": {},
     "output_type": "display_data"
    },
    {
     "data": {
      "application/vnd.jupyter.widget-view+json": {
       "model_id": "4681e30a6249433c8d5bf8daf0a0b78e",
       "version_major": 2,
       "version_minor": 0
      },
      "text/plain": [
       "E3SM-MMF.mlo.0008-02-14-44400.nc:   0%|          | 0.00/1.13M [00:00<?, ?B/s]"
      ]
     },
     "metadata": {},
     "output_type": "display_data"
    },
    {
     "data": {
      "application/vnd.jupyter.widget-view+json": {
       "model_id": "248b7ce4fd384550a18139474bb950ce",
       "version_major": 2,
       "version_minor": 0
      },
      "text/plain": [
       "E3SM-MMF.mlo.0008-02-14-45600.nc:   0%|          | 0.00/1.13M [00:00<?, ?B/s]"
      ]
     },
     "metadata": {},
     "output_type": "display_data"
    },
    {
     "data": {
      "application/vnd.jupyter.widget-view+json": {
       "model_id": "8ede2a30532746e3ba4bc95a7639a6b1",
       "version_major": 2,
       "version_minor": 0
      },
      "text/plain": [
       "E3SM-MMF.mlo.0008-02-14-46800.nc:   0%|          | 0.00/1.13M [00:00<?, ?B/s]"
      ]
     },
     "metadata": {},
     "output_type": "display_data"
    },
    {
     "data": {
      "application/vnd.jupyter.widget-view+json": {
       "model_id": "847c241a2b29422ea15f1522e024be11",
       "version_major": 2,
       "version_minor": 0
      },
      "text/plain": [
       "E3SM-MMF.mlo.0008-02-14-48000.nc:   0%|          | 0.00/1.13M [00:00<?, ?B/s]"
      ]
     },
     "metadata": {},
     "output_type": "display_data"
    },
    {
     "data": {
      "application/vnd.jupyter.widget-view+json": {
       "model_id": "8512a4588827485b89d55358557f324e",
       "version_major": 2,
       "version_minor": 0
      },
      "text/plain": [
       "E3SM-MMF.mlo.0008-02-14-49200.nc:   0%|          | 0.00/1.13M [00:00<?, ?B/s]"
      ]
     },
     "metadata": {},
     "output_type": "display_data"
    },
    {
     "data": {
      "application/vnd.jupyter.widget-view+json": {
       "model_id": "8c6667b46cda494581214f07169e2ce8",
       "version_major": 2,
       "version_minor": 0
      },
      "text/plain": [
       "E3SM-MMF.mlo.0008-02-14-50400.nc:   0%|          | 0.00/1.13M [00:00<?, ?B/s]"
      ]
     },
     "metadata": {},
     "output_type": "display_data"
    },
    {
     "data": {
      "application/vnd.jupyter.widget-view+json": {
       "model_id": "0ec27093cc354a06adcbebdcdba11d7a",
       "version_major": 2,
       "version_minor": 0
      },
      "text/plain": [
       "E3SM-MMF.mlo.0008-02-14-51600.nc:   0%|          | 0.00/1.13M [00:00<?, ?B/s]"
      ]
     },
     "metadata": {},
     "output_type": "display_data"
    },
    {
     "data": {
      "application/vnd.jupyter.widget-view+json": {
       "model_id": "a7b6b978ac304fb28ce74cd37d5e8843",
       "version_major": 2,
       "version_minor": 0
      },
      "text/plain": [
       "E3SM-MMF.mlo.0008-02-14-52800.nc:   0%|          | 0.00/1.13M [00:00<?, ?B/s]"
      ]
     },
     "metadata": {},
     "output_type": "display_data"
    },
    {
     "data": {
      "application/vnd.jupyter.widget-view+json": {
       "model_id": "25bb19178b8140cab05bb2e715e375ab",
       "version_major": 2,
       "version_minor": 0
      },
      "text/plain": [
       "E3SM-MMF.mlo.0008-02-14-54000.nc:   0%|          | 0.00/1.13M [00:00<?, ?B/s]"
      ]
     },
     "metadata": {},
     "output_type": "display_data"
    },
    {
     "data": {
      "application/vnd.jupyter.widget-view+json": {
       "model_id": "97ae65eeed164fb2baa8bd454157f376",
       "version_major": 2,
       "version_minor": 0
      },
      "text/plain": [
       "E3SM-MMF.mlo.0008-02-14-55200.nc:   0%|          | 0.00/1.13M [00:00<?, ?B/s]"
      ]
     },
     "metadata": {},
     "output_type": "display_data"
    },
    {
     "data": {
      "application/vnd.jupyter.widget-view+json": {
       "model_id": "45bce67e16354920a6d7cf39e07f6064",
       "version_major": 2,
       "version_minor": 0
      },
      "text/plain": [
       "E3SM-MMF.mlo.0008-02-14-56400.nc:   0%|          | 0.00/1.13M [00:00<?, ?B/s]"
      ]
     },
     "metadata": {},
     "output_type": "display_data"
    },
    {
     "data": {
      "application/vnd.jupyter.widget-view+json": {
       "model_id": "7012a80e4c894ae59a688da01a8f6344",
       "version_major": 2,
       "version_minor": 0
      },
      "text/plain": [
       "E3SM-MMF.mlo.0008-02-14-57600.nc:   0%|          | 0.00/1.13M [00:00<?, ?B/s]"
      ]
     },
     "metadata": {},
     "output_type": "display_data"
    },
    {
     "data": {
      "application/vnd.jupyter.widget-view+json": {
       "model_id": "be9262ab18764cf094d27445f08528fd",
       "version_major": 2,
       "version_minor": 0
      },
      "text/plain": [
       "E3SM-MMF.mlo.0008-02-14-58800.nc:   0%|          | 0.00/1.13M [00:00<?, ?B/s]"
      ]
     },
     "metadata": {},
     "output_type": "display_data"
    },
    {
     "data": {
      "application/vnd.jupyter.widget-view+json": {
       "model_id": "c3f96b2e72c340a3aa5c9a6a4d575b73",
       "version_major": 2,
       "version_minor": 0
      },
      "text/plain": [
       "E3SM-MMF.mlo.0008-02-14-60000.nc:   0%|          | 0.00/1.13M [00:00<?, ?B/s]"
      ]
     },
     "metadata": {},
     "output_type": "display_data"
    },
    {
     "data": {
      "application/vnd.jupyter.widget-view+json": {
       "model_id": "24837ca9d57148e79de52eb4e6241dd1",
       "version_major": 2,
       "version_minor": 0
      },
      "text/plain": [
       "E3SM-MMF.mlo.0008-02-14-61200.nc:   0%|          | 0.00/1.13M [00:00<?, ?B/s]"
      ]
     },
     "metadata": {},
     "output_type": "display_data"
    },
    {
     "data": {
      "application/vnd.jupyter.widget-view+json": {
       "model_id": "a5d38c0dba2e4bb59e1bf06ecaf7926c",
       "version_major": 2,
       "version_minor": 0
      },
      "text/plain": [
       "E3SM-MMF.mlo.0008-02-14-62400.nc:   0%|          | 0.00/1.13M [00:00<?, ?B/s]"
      ]
     },
     "metadata": {},
     "output_type": "display_data"
    },
    {
     "data": {
      "application/vnd.jupyter.widget-view+json": {
       "model_id": "d9c58ebe1f3f4589b10b1c8de30bb73d",
       "version_major": 2,
       "version_minor": 0
      },
      "text/plain": [
       "E3SM-MMF.mlo.0008-02-14-63600.nc:   0%|          | 0.00/1.13M [00:00<?, ?B/s]"
      ]
     },
     "metadata": {},
     "output_type": "display_data"
    },
    {
     "data": {
      "application/vnd.jupyter.widget-view+json": {
       "model_id": "4b0e1f8d6b9641489f20a2ac9c4aebca",
       "version_major": 2,
       "version_minor": 0
      },
      "text/plain": [
       "E3SM-MMF.mlo.0008-02-14-64800.nc:   0%|          | 0.00/1.13M [00:00<?, ?B/s]"
      ]
     },
     "metadata": {},
     "output_type": "display_data"
    },
    {
     "data": {
      "application/vnd.jupyter.widget-view+json": {
       "model_id": "6bbcf54792654b7b81ac2beec9479401",
       "version_major": 2,
       "version_minor": 0
      },
      "text/plain": [
       "E3SM-MMF.mlo.0008-02-14-66000.nc:   0%|          | 0.00/1.13M [00:00<?, ?B/s]"
      ]
     },
     "metadata": {},
     "output_type": "display_data"
    },
    {
     "data": {
      "application/vnd.jupyter.widget-view+json": {
       "model_id": "2d26895cd0584af4a7c9fcec2dea4164",
       "version_major": 2,
       "version_minor": 0
      },
      "text/plain": [
       "E3SM-MMF.mlo.0008-02-14-67200.nc:   0%|          | 0.00/1.13M [00:00<?, ?B/s]"
      ]
     },
     "metadata": {},
     "output_type": "display_data"
    },
    {
     "data": {
      "application/vnd.jupyter.widget-view+json": {
       "model_id": "e76b41b3c05b49d5a7c199d313715c2f",
       "version_major": 2,
       "version_minor": 0
      },
      "text/plain": [
       "E3SM-MMF.mlo.0008-02-14-68400.nc:   0%|          | 0.00/1.13M [00:00<?, ?B/s]"
      ]
     },
     "metadata": {},
     "output_type": "display_data"
    },
    {
     "data": {
      "application/vnd.jupyter.widget-view+json": {
       "model_id": "a9e438293fcd481ca17dce3ac56c6f32",
       "version_major": 2,
       "version_minor": 0
      },
      "text/plain": [
       "E3SM-MMF.mlo.0008-02-14-69600.nc:   0%|          | 0.00/1.13M [00:00<?, ?B/s]"
      ]
     },
     "metadata": {},
     "output_type": "display_data"
    },
    {
     "data": {
      "application/vnd.jupyter.widget-view+json": {
       "model_id": "dc6847c80c654bcc9fdcabfcd0dc176c",
       "version_major": 2,
       "version_minor": 0
      },
      "text/plain": [
       "E3SM-MMF.mlo.0008-02-14-70800.nc:   0%|          | 0.00/1.13M [00:00<?, ?B/s]"
      ]
     },
     "metadata": {},
     "output_type": "display_data"
    },
    {
     "data": {
      "application/vnd.jupyter.widget-view+json": {
       "model_id": "d24779cc2cbd4b9794c260733ed5942c",
       "version_major": 2,
       "version_minor": 0
      },
      "text/plain": [
       "E3SM-MMF.mlo.0008-02-14-72000.nc:   0%|          | 0.00/1.13M [00:00<?, ?B/s]"
      ]
     },
     "metadata": {},
     "output_type": "display_data"
    },
    {
     "data": {
      "application/vnd.jupyter.widget-view+json": {
       "model_id": "7065475dd8984e5bb612b128bf8ebcee",
       "version_major": 2,
       "version_minor": 0
      },
      "text/plain": [
       "E3SM-MMF.mlo.0008-02-14-73200.nc:   0%|          | 0.00/1.13M [00:00<?, ?B/s]"
      ]
     },
     "metadata": {},
     "output_type": "display_data"
    },
    {
     "data": {
      "application/vnd.jupyter.widget-view+json": {
       "model_id": "5a67588be5e1477ab6e76c118bd05b1d",
       "version_major": 2,
       "version_minor": 0
      },
      "text/plain": [
       "E3SM-MMF.mlo.0008-02-14-74400.nc:   0%|          | 0.00/1.13M [00:00<?, ?B/s]"
      ]
     },
     "metadata": {},
     "output_type": "display_data"
    },
    {
     "data": {
      "application/vnd.jupyter.widget-view+json": {
       "model_id": "f8dd7352b5ae44759aa9e1151362fb7d",
       "version_major": 2,
       "version_minor": 0
      },
      "text/plain": [
       "E3SM-MMF.mlo.0008-02-14-75600.nc:   0%|          | 0.00/1.13M [00:00<?, ?B/s]"
      ]
     },
     "metadata": {},
     "output_type": "display_data"
    },
    {
     "data": {
      "application/vnd.jupyter.widget-view+json": {
       "model_id": "1a1c905c316f484b9e2d216a55c0f03f",
       "version_major": 2,
       "version_minor": 0
      },
      "text/plain": [
       "E3SM-MMF.mlo.0008-02-14-76800.nc:   0%|          | 0.00/1.13M [00:00<?, ?B/s]"
      ]
     },
     "metadata": {},
     "output_type": "display_data"
    },
    {
     "data": {
      "application/vnd.jupyter.widget-view+json": {
       "model_id": "2a62c247b4d2484b8f98489324a0ad8c",
       "version_major": 2,
       "version_minor": 0
      },
      "text/plain": [
       "E3SM-MMF.mlo.0008-02-14-78000.nc:   0%|          | 0.00/1.13M [00:00<?, ?B/s]"
      ]
     },
     "metadata": {},
     "output_type": "display_data"
    },
    {
     "data": {
      "application/vnd.jupyter.widget-view+json": {
       "model_id": "133a1c44f71c49469ccfcb1f01b0384d",
       "version_major": 2,
       "version_minor": 0
      },
      "text/plain": [
       "E3SM-MMF.mlo.0008-02-14-79200.nc:   0%|          | 0.00/1.13M [00:00<?, ?B/s]"
      ]
     },
     "metadata": {},
     "output_type": "display_data"
    },
    {
     "data": {
      "application/vnd.jupyter.widget-view+json": {
       "model_id": "27d7cce07f2e4843a3440f567b38111d",
       "version_major": 2,
       "version_minor": 0
      },
      "text/plain": [
       "E3SM-MMF.mlo.0008-02-14-80400.nc:   0%|          | 0.00/1.13M [00:00<?, ?B/s]"
      ]
     },
     "metadata": {},
     "output_type": "display_data"
    },
    {
     "data": {
      "application/vnd.jupyter.widget-view+json": {
       "model_id": "00012e9eb4fd47019db0fc9ae0f8e92c",
       "version_major": 2,
       "version_minor": 0
      },
      "text/plain": [
       "E3SM-MMF.mlo.0008-02-14-81600.nc:   0%|          | 0.00/1.13M [00:00<?, ?B/s]"
      ]
     },
     "metadata": {},
     "output_type": "display_data"
    },
    {
     "data": {
      "application/vnd.jupyter.widget-view+json": {
       "model_id": "8addc35bc4b544828ef13234b0de9461",
       "version_major": 2,
       "version_minor": 0
      },
      "text/plain": [
       "E3SM-MMF.mlo.0008-02-14-82800.nc:   0%|          | 0.00/1.13M [00:00<?, ?B/s]"
      ]
     },
     "metadata": {},
     "output_type": "display_data"
    },
    {
     "data": {
      "application/vnd.jupyter.widget-view+json": {
       "model_id": "352acfc03fbe42a9b2aea02f4c193235",
       "version_major": 2,
       "version_minor": 0
      },
      "text/plain": [
       "E3SM-MMF.mlo.0008-02-14-84000.nc:   0%|          | 0.00/1.13M [00:00<?, ?B/s]"
      ]
     },
     "metadata": {},
     "output_type": "display_data"
    },
    {
     "data": {
      "application/vnd.jupyter.widget-view+json": {
       "model_id": "dc2ba7133b3d46c9ac0af7a08a1c317d",
       "version_major": 2,
       "version_minor": 0
      },
      "text/plain": [
       "E3SM-MMF.mlo.0008-02-14-85200.nc:   0%|          | 0.00/1.13M [00:00<?, ?B/s]"
      ]
     },
     "metadata": {},
     "output_type": "display_data"
    },
    {
     "data": {
      "application/vnd.jupyter.widget-view+json": {
       "model_id": "05f4a91436fe47a98dbcbb3eb3303a19",
       "version_major": 2,
       "version_minor": 0
      },
      "text/plain": [
       "E3SM-MMF.mlo.0008-02-15-00000.nc:   0%|          | 0.00/1.13M [00:00<?, ?B/s]"
      ]
     },
     "metadata": {},
     "output_type": "display_data"
    },
    {
     "data": {
      "application/vnd.jupyter.widget-view+json": {
       "model_id": "8322fa25ccb24b898477dde997bcc7d8",
       "version_major": 2,
       "version_minor": 0
      },
      "text/plain": [
       "E3SM-MMF.mlo.0008-02-15-01200.nc:   0%|          | 0.00/1.13M [00:00<?, ?B/s]"
      ]
     },
     "metadata": {},
     "output_type": "display_data"
    },
    {
     "data": {
      "application/vnd.jupyter.widget-view+json": {
       "model_id": "97c85f3699ab45ff9da9b590aebf281b",
       "version_major": 2,
       "version_minor": 0
      },
      "text/plain": [
       "E3SM-MMF.mlo.0008-02-15-02400.nc:   0%|          | 0.00/1.13M [00:00<?, ?B/s]"
      ]
     },
     "metadata": {},
     "output_type": "display_data"
    },
    {
     "data": {
      "application/vnd.jupyter.widget-view+json": {
       "model_id": "7c141cfa5c754f15a7eaa4094b4a7d4a",
       "version_major": 2,
       "version_minor": 0
      },
      "text/plain": [
       "E3SM-MMF.mlo.0008-02-15-03600.nc:   0%|          | 0.00/1.13M [00:00<?, ?B/s]"
      ]
     },
     "metadata": {},
     "output_type": "display_data"
    },
    {
     "data": {
      "application/vnd.jupyter.widget-view+json": {
       "model_id": "113df47e7b084af4b1b163da1537fe0a",
       "version_major": 2,
       "version_minor": 0
      },
      "text/plain": [
       "E3SM-MMF.mlo.0008-02-15-04800.nc:   0%|          | 0.00/1.13M [00:00<?, ?B/s]"
      ]
     },
     "metadata": {},
     "output_type": "display_data"
    },
    {
     "data": {
      "application/vnd.jupyter.widget-view+json": {
       "model_id": "4418c5822ed6491983a71625a076def0",
       "version_major": 2,
       "version_minor": 0
      },
      "text/plain": [
       "E3SM-MMF.mlo.0008-02-15-06000.nc:   0%|          | 0.00/1.13M [00:00<?, ?B/s]"
      ]
     },
     "metadata": {},
     "output_type": "display_data"
    },
    {
     "data": {
      "application/vnd.jupyter.widget-view+json": {
       "model_id": "104ff8b30ab44ea6bcdb5f36d2b93885",
       "version_major": 2,
       "version_minor": 0
      },
      "text/plain": [
       "E3SM-MMF.mlo.0008-02-15-07200.nc:   0%|          | 0.00/1.13M [00:00<?, ?B/s]"
      ]
     },
     "metadata": {},
     "output_type": "display_data"
    },
    {
     "data": {
      "application/vnd.jupyter.widget-view+json": {
       "model_id": "513a88b0441743a695e4c3226a64ba7e",
       "version_major": 2,
       "version_minor": 0
      },
      "text/plain": [
       "E3SM-MMF.mlo.0008-02-15-08400.nc:   0%|          | 0.00/1.13M [00:00<?, ?B/s]"
      ]
     },
     "metadata": {},
     "output_type": "display_data"
    },
    {
     "data": {
      "application/vnd.jupyter.widget-view+json": {
       "model_id": "78c06663cc9d4e36a32a982eaab8e03a",
       "version_major": 2,
       "version_minor": 0
      },
      "text/plain": [
       "E3SM-MMF.mlo.0008-02-15-09600.nc:   0%|          | 0.00/1.13M [00:00<?, ?B/s]"
      ]
     },
     "metadata": {},
     "output_type": "display_data"
    },
    {
     "data": {
      "application/vnd.jupyter.widget-view+json": {
       "model_id": "fdde3c0e7bf949cbb4889863fcbaabfc",
       "version_major": 2,
       "version_minor": 0
      },
      "text/plain": [
       "E3SM-MMF.mlo.0008-02-15-10800.nc:   0%|          | 0.00/1.13M [00:00<?, ?B/s]"
      ]
     },
     "metadata": {},
     "output_type": "display_data"
    },
    {
     "data": {
      "application/vnd.jupyter.widget-view+json": {
       "model_id": "87063cf80bcd469285570aed6a54b847",
       "version_major": 2,
       "version_minor": 0
      },
      "text/plain": [
       "E3SM-MMF.mlo.0008-02-15-12000.nc:   0%|          | 0.00/1.13M [00:00<?, ?B/s]"
      ]
     },
     "metadata": {},
     "output_type": "display_data"
    },
    {
     "data": {
      "application/vnd.jupyter.widget-view+json": {
       "model_id": "8e884aae3cc64eb280a8c1a8b6e06207",
       "version_major": 2,
       "version_minor": 0
      },
      "text/plain": [
       "E3SM-MMF.mlo.0008-02-15-13200.nc:   0%|          | 0.00/1.13M [00:00<?, ?B/s]"
      ]
     },
     "metadata": {},
     "output_type": "display_data"
    },
    {
     "data": {
      "application/vnd.jupyter.widget-view+json": {
       "model_id": "c515315b57664c8dbe0be49730978b36",
       "version_major": 2,
       "version_minor": 0
      },
      "text/plain": [
       "E3SM-MMF.mlo.0008-02-15-14400.nc:   0%|          | 0.00/1.13M [00:00<?, ?B/s]"
      ]
     },
     "metadata": {},
     "output_type": "display_data"
    },
    {
     "data": {
      "application/vnd.jupyter.widget-view+json": {
       "model_id": "ce46447762ef4d8db12900b58f7ca02a",
       "version_major": 2,
       "version_minor": 0
      },
      "text/plain": [
       "E3SM-MMF.mlo.0008-02-15-15600.nc:   0%|          | 0.00/1.13M [00:00<?, ?B/s]"
      ]
     },
     "metadata": {},
     "output_type": "display_data"
    },
    {
     "data": {
      "application/vnd.jupyter.widget-view+json": {
       "model_id": "661555e03b034f5892d46f2435ed4e0a",
       "version_major": 2,
       "version_minor": 0
      },
      "text/plain": [
       "E3SM-MMF.mlo.0008-02-15-16800.nc:   0%|          | 0.00/1.13M [00:00<?, ?B/s]"
      ]
     },
     "metadata": {},
     "output_type": "display_data"
    },
    {
     "data": {
      "application/vnd.jupyter.widget-view+json": {
       "model_id": "abc0b15b2def473aa9bac902853a442f",
       "version_major": 2,
       "version_minor": 0
      },
      "text/plain": [
       "E3SM-MMF.mlo.0008-02-15-18000.nc:   0%|          | 0.00/1.13M [00:00<?, ?B/s]"
      ]
     },
     "metadata": {},
     "output_type": "display_data"
    },
    {
     "data": {
      "application/vnd.jupyter.widget-view+json": {
       "model_id": "06c714cfb33c40aca23e49ea042d0a2d",
       "version_major": 2,
       "version_minor": 0
      },
      "text/plain": [
       "E3SM-MMF.mlo.0008-02-15-19200.nc:   0%|          | 0.00/1.13M [00:00<?, ?B/s]"
      ]
     },
     "metadata": {},
     "output_type": "display_data"
    },
    {
     "data": {
      "application/vnd.jupyter.widget-view+json": {
       "model_id": "52a263c0b3044f2e8cde3c06fabdcfd6",
       "version_major": 2,
       "version_minor": 0
      },
      "text/plain": [
       "E3SM-MMF.mlo.0008-02-15-20400.nc:   0%|          | 0.00/1.13M [00:00<?, ?B/s]"
      ]
     },
     "metadata": {},
     "output_type": "display_data"
    },
    {
     "data": {
      "application/vnd.jupyter.widget-view+json": {
       "model_id": "92af3c7027af4679915b9782c50854df",
       "version_major": 2,
       "version_minor": 0
      },
      "text/plain": [
       "E3SM-MMF.mlo.0008-02-15-21600.nc:   0%|          | 0.00/1.13M [00:00<?, ?B/s]"
      ]
     },
     "metadata": {},
     "output_type": "display_data"
    },
    {
     "data": {
      "application/vnd.jupyter.widget-view+json": {
       "model_id": "33112b9134f944a0847bb96eea837d99",
       "version_major": 2,
       "version_minor": 0
      },
      "text/plain": [
       "E3SM-MMF.mlo.0008-02-15-22800.nc:   0%|          | 0.00/1.13M [00:00<?, ?B/s]"
      ]
     },
     "metadata": {},
     "output_type": "display_data"
    },
    {
     "data": {
      "application/vnd.jupyter.widget-view+json": {
       "model_id": "5accd0cc34104861836854e63111b85e",
       "version_major": 2,
       "version_minor": 0
      },
      "text/plain": [
       "E3SM-MMF.mlo.0008-02-15-24000.nc:   0%|          | 0.00/1.13M [00:00<?, ?B/s]"
      ]
     },
     "metadata": {},
     "output_type": "display_data"
    },
    {
     "data": {
      "application/vnd.jupyter.widget-view+json": {
       "model_id": "9fa775df913b451aa9ced98622f663a5",
       "version_major": 2,
       "version_minor": 0
      },
      "text/plain": [
       "E3SM-MMF.mlo.0008-02-15-25200.nc:   0%|          | 0.00/1.13M [00:00<?, ?B/s]"
      ]
     },
     "metadata": {},
     "output_type": "display_data"
    },
    {
     "data": {
      "application/vnd.jupyter.widget-view+json": {
       "model_id": "65f37017c4c14f22ac64aa0f3d9eaa09",
       "version_major": 2,
       "version_minor": 0
      },
      "text/plain": [
       "E3SM-MMF.mlo.0008-02-15-26400.nc:   0%|          | 0.00/1.13M [00:00<?, ?B/s]"
      ]
     },
     "metadata": {},
     "output_type": "display_data"
    },
    {
     "data": {
      "application/vnd.jupyter.widget-view+json": {
       "model_id": "702468fb7e7d4c338c6e95c387c8c87e",
       "version_major": 2,
       "version_minor": 0
      },
      "text/plain": [
       "E3SM-MMF.mlo.0008-02-15-27600.nc:   0%|          | 0.00/1.13M [00:00<?, ?B/s]"
      ]
     },
     "metadata": {},
     "output_type": "display_data"
    },
    {
     "data": {
      "application/vnd.jupyter.widget-view+json": {
       "model_id": "5db902b879a74e80b6439faa77b1ffa6",
       "version_major": 2,
       "version_minor": 0
      },
      "text/plain": [
       "E3SM-MMF.mlo.0008-02-15-28800.nc:   0%|          | 0.00/1.13M [00:00<?, ?B/s]"
      ]
     },
     "metadata": {},
     "output_type": "display_data"
    },
    {
     "data": {
      "application/vnd.jupyter.widget-view+json": {
       "model_id": "53f46a7232c34a438070b20109ef879a",
       "version_major": 2,
       "version_minor": 0
      },
      "text/plain": [
       "E3SM-MMF.mlo.0008-02-15-30000.nc:   0%|          | 0.00/1.13M [00:00<?, ?B/s]"
      ]
     },
     "metadata": {},
     "output_type": "display_data"
    },
    {
     "data": {
      "application/vnd.jupyter.widget-view+json": {
       "model_id": "426af2cb70544a9398a04fddf36c34ca",
       "version_major": 2,
       "version_minor": 0
      },
      "text/plain": [
       "E3SM-MMF.mlo.0008-02-15-31200.nc:   0%|          | 0.00/1.13M [00:00<?, ?B/s]"
      ]
     },
     "metadata": {},
     "output_type": "display_data"
    },
    {
     "data": {
      "application/vnd.jupyter.widget-view+json": {
       "model_id": "2cc56f88533342aebc8c132ee211fab5",
       "version_major": 2,
       "version_minor": 0
      },
      "text/plain": [
       "E3SM-MMF.mlo.0008-02-15-32400.nc:   0%|          | 0.00/1.13M [00:00<?, ?B/s]"
      ]
     },
     "metadata": {},
     "output_type": "display_data"
    },
    {
     "data": {
      "application/vnd.jupyter.widget-view+json": {
       "model_id": "70b9516c5cc04677b553b5c8bc979521",
       "version_major": 2,
       "version_minor": 0
      },
      "text/plain": [
       "E3SM-MMF.mlo.0008-02-15-33600.nc:   0%|          | 0.00/1.13M [00:00<?, ?B/s]"
      ]
     },
     "metadata": {},
     "output_type": "display_data"
    },
    {
     "data": {
      "application/vnd.jupyter.widget-view+json": {
       "model_id": "16446b9bc0d4490fbd2efc8116a67479",
       "version_major": 2,
       "version_minor": 0
      },
      "text/plain": [
       "E3SM-MMF.mlo.0008-02-15-34800.nc:   0%|          | 0.00/1.13M [00:00<?, ?B/s]"
      ]
     },
     "metadata": {},
     "output_type": "display_data"
    },
    {
     "data": {
      "application/vnd.jupyter.widget-view+json": {
       "model_id": "4f99a033a2944ec5b5a73c790c271c48",
       "version_major": 2,
       "version_minor": 0
      },
      "text/plain": [
       "E3SM-MMF.mlo.0008-02-15-36000.nc:   0%|          | 0.00/1.13M [00:00<?, ?B/s]"
      ]
     },
     "metadata": {},
     "output_type": "display_data"
    },
    {
     "data": {
      "application/vnd.jupyter.widget-view+json": {
       "model_id": "05fb42303d4e48e2b4e7eb09e0d7e6fc",
       "version_major": 2,
       "version_minor": 0
      },
      "text/plain": [
       "E3SM-MMF.mlo.0008-02-15-37200.nc:   0%|          | 0.00/1.13M [00:00<?, ?B/s]"
      ]
     },
     "metadata": {},
     "output_type": "display_data"
    },
    {
     "data": {
      "application/vnd.jupyter.widget-view+json": {
       "model_id": "42a5ec4daff646649e3f09e4bd868014",
       "version_major": 2,
       "version_minor": 0
      },
      "text/plain": [
       "E3SM-MMF.mlo.0008-02-15-38400.nc:   0%|          | 0.00/1.13M [00:00<?, ?B/s]"
      ]
     },
     "metadata": {},
     "output_type": "display_data"
    },
    {
     "data": {
      "application/vnd.jupyter.widget-view+json": {
       "model_id": "a3354e64b9844976a65e5b05f855b637",
       "version_major": 2,
       "version_minor": 0
      },
      "text/plain": [
       "E3SM-MMF.mlo.0008-02-15-39600.nc:   0%|          | 0.00/1.13M [00:00<?, ?B/s]"
      ]
     },
     "metadata": {},
     "output_type": "display_data"
    },
    {
     "data": {
      "application/vnd.jupyter.widget-view+json": {
       "model_id": "cd93043cb04e412f973c9337c35b7d6b",
       "version_major": 2,
       "version_minor": 0
      },
      "text/plain": [
       "E3SM-MMF.mlo.0008-02-15-40800.nc:   0%|          | 0.00/1.13M [00:00<?, ?B/s]"
      ]
     },
     "metadata": {},
     "output_type": "display_data"
    },
    {
     "data": {
      "application/vnd.jupyter.widget-view+json": {
       "model_id": "4490652cd3f74ac09b9f6aa89a41934d",
       "version_major": 2,
       "version_minor": 0
      },
      "text/plain": [
       "E3SM-MMF.mlo.0008-02-15-42000.nc:   0%|          | 0.00/1.13M [00:00<?, ?B/s]"
      ]
     },
     "metadata": {},
     "output_type": "display_data"
    },
    {
     "data": {
      "application/vnd.jupyter.widget-view+json": {
       "model_id": "6d395f182b4f4edf9c06682892d36aae",
       "version_major": 2,
       "version_minor": 0
      },
      "text/plain": [
       "E3SM-MMF.mlo.0008-02-15-43200.nc:   0%|          | 0.00/1.13M [00:00<?, ?B/s]"
      ]
     },
     "metadata": {},
     "output_type": "display_data"
    },
    {
     "data": {
      "application/vnd.jupyter.widget-view+json": {
       "model_id": "39da6a80247745a9b72efd9a85176fc6",
       "version_major": 2,
       "version_minor": 0
      },
      "text/plain": [
       "E3SM-MMF.mlo.0008-02-15-44400.nc:   0%|          | 0.00/1.13M [00:00<?, ?B/s]"
      ]
     },
     "metadata": {},
     "output_type": "display_data"
    },
    {
     "data": {
      "application/vnd.jupyter.widget-view+json": {
       "model_id": "6e24470a7cfd4c368b3d82e5d597f791",
       "version_major": 2,
       "version_minor": 0
      },
      "text/plain": [
       "E3SM-MMF.mlo.0008-02-15-45600.nc:   0%|          | 0.00/1.13M [00:00<?, ?B/s]"
      ]
     },
     "metadata": {},
     "output_type": "display_data"
    },
    {
     "data": {
      "application/vnd.jupyter.widget-view+json": {
       "model_id": "d50dabdb11374a1a89802b257325cc8c",
       "version_major": 2,
       "version_minor": 0
      },
      "text/plain": [
       "E3SM-MMF.mlo.0008-02-15-46800.nc:   0%|          | 0.00/1.13M [00:00<?, ?B/s]"
      ]
     },
     "metadata": {},
     "output_type": "display_data"
    },
    {
     "data": {
      "application/vnd.jupyter.widget-view+json": {
       "model_id": "272c441c1ef2473fb15d2b1b0c96e88a",
       "version_major": 2,
       "version_minor": 0
      },
      "text/plain": [
       "E3SM-MMF.mlo.0008-02-15-48000.nc:   0%|          | 0.00/1.13M [00:00<?, ?B/s]"
      ]
     },
     "metadata": {},
     "output_type": "display_data"
    },
    {
     "data": {
      "application/vnd.jupyter.widget-view+json": {
       "model_id": "bdd78b661fbc4b459c640ba0dc658953",
       "version_major": 2,
       "version_minor": 0
      },
      "text/plain": [
       "E3SM-MMF.mlo.0008-02-15-49200.nc:   0%|          | 0.00/1.13M [00:00<?, ?B/s]"
      ]
     },
     "metadata": {},
     "output_type": "display_data"
    },
    {
     "data": {
      "application/vnd.jupyter.widget-view+json": {
       "model_id": "d4f66efbadfc4ad6a25b41088fdd5d24",
       "version_major": 2,
       "version_minor": 0
      },
      "text/plain": [
       "E3SM-MMF.mlo.0008-02-15-50400.nc:   0%|          | 0.00/1.13M [00:00<?, ?B/s]"
      ]
     },
     "metadata": {},
     "output_type": "display_data"
    },
    {
     "data": {
      "application/vnd.jupyter.widget-view+json": {
       "model_id": "e766e731b5304dff8182d7b24d4701c1",
       "version_major": 2,
       "version_minor": 0
      },
      "text/plain": [
       "E3SM-MMF.mlo.0008-02-15-51600.nc:   0%|          | 0.00/1.13M [00:00<?, ?B/s]"
      ]
     },
     "metadata": {},
     "output_type": "display_data"
    },
    {
     "data": {
      "application/vnd.jupyter.widget-view+json": {
       "model_id": "26f6f47218754ec89991e83287bc292e",
       "version_major": 2,
       "version_minor": 0
      },
      "text/plain": [
       "E3SM-MMF.mlo.0008-02-15-52800.nc:   0%|          | 0.00/1.13M [00:00<?, ?B/s]"
      ]
     },
     "metadata": {},
     "output_type": "display_data"
    },
    {
     "data": {
      "application/vnd.jupyter.widget-view+json": {
       "model_id": "9964ad003c3c48cc87216aab68015827",
       "version_major": 2,
       "version_minor": 0
      },
      "text/plain": [
       "E3SM-MMF.mlo.0008-02-15-54000.nc:   0%|          | 0.00/1.13M [00:00<?, ?B/s]"
      ]
     },
     "metadata": {},
     "output_type": "display_data"
    },
    {
     "data": {
      "application/vnd.jupyter.widget-view+json": {
       "model_id": "1b468171774c4a9da99da69f1b980b1d",
       "version_major": 2,
       "version_minor": 0
      },
      "text/plain": [
       "E3SM-MMF.mlo.0008-02-15-55200.nc:   0%|          | 0.00/1.13M [00:00<?, ?B/s]"
      ]
     },
     "metadata": {},
     "output_type": "display_data"
    },
    {
     "data": {
      "application/vnd.jupyter.widget-view+json": {
       "model_id": "63382fe093c544a7a2abb2ac1ddb2fd5",
       "version_major": 2,
       "version_minor": 0
      },
      "text/plain": [
       "E3SM-MMF.mlo.0008-02-15-56400.nc:   0%|          | 0.00/1.13M [00:00<?, ?B/s]"
      ]
     },
     "metadata": {},
     "output_type": "display_data"
    },
    {
     "data": {
      "application/vnd.jupyter.widget-view+json": {
       "model_id": "ba617827a0c642839e738ebeb212361c",
       "version_major": 2,
       "version_minor": 0
      },
      "text/plain": [
       "E3SM-MMF.mlo.0008-02-15-57600.nc:   0%|          | 0.00/1.13M [00:00<?, ?B/s]"
      ]
     },
     "metadata": {},
     "output_type": "display_data"
    },
    {
     "data": {
      "application/vnd.jupyter.widget-view+json": {
       "model_id": "a3e9e561aba342e88c4715a8e1607e44",
       "version_major": 2,
       "version_minor": 0
      },
      "text/plain": [
       "E3SM-MMF.mlo.0008-02-15-58800.nc:   0%|          | 0.00/1.13M [00:00<?, ?B/s]"
      ]
     },
     "metadata": {},
     "output_type": "display_data"
    },
    {
     "data": {
      "application/vnd.jupyter.widget-view+json": {
       "model_id": "538a8fecd31f498b990d0723ad1af3c3",
       "version_major": 2,
       "version_minor": 0
      },
      "text/plain": [
       "E3SM-MMF.mlo.0008-02-15-60000.nc:   0%|          | 0.00/1.13M [00:00<?, ?B/s]"
      ]
     },
     "metadata": {},
     "output_type": "display_data"
    },
    {
     "data": {
      "application/vnd.jupyter.widget-view+json": {
       "model_id": "dd68cae83f6f438686e3f1bc4fa2e032",
       "version_major": 2,
       "version_minor": 0
      },
      "text/plain": [
       "E3SM-MMF.mlo.0008-02-15-61200.nc:   0%|          | 0.00/1.13M [00:00<?, ?B/s]"
      ]
     },
     "metadata": {},
     "output_type": "display_data"
    },
    {
     "data": {
      "application/vnd.jupyter.widget-view+json": {
       "model_id": "7253021fd5774f388ed81b4eaec0e2f4",
       "version_major": 2,
       "version_minor": 0
      },
      "text/plain": [
       "E3SM-MMF.mlo.0008-02-15-62400.nc:   0%|          | 0.00/1.13M [00:00<?, ?B/s]"
      ]
     },
     "metadata": {},
     "output_type": "display_data"
    },
    {
     "data": {
      "application/vnd.jupyter.widget-view+json": {
       "model_id": "c4bd33dbc0284244887027b1bf5880e2",
       "version_major": 2,
       "version_minor": 0
      },
      "text/plain": [
       "E3SM-MMF.mlo.0008-02-15-63600.nc:   0%|          | 0.00/1.13M [00:00<?, ?B/s]"
      ]
     },
     "metadata": {},
     "output_type": "display_data"
    },
    {
     "data": {
      "application/vnd.jupyter.widget-view+json": {
       "model_id": "def838c6383642398f863eaf4ec7de75",
       "version_major": 2,
       "version_minor": 0
      },
      "text/plain": [
       "E3SM-MMF.mlo.0008-02-15-64800.nc:   0%|          | 0.00/1.13M [00:00<?, ?B/s]"
      ]
     },
     "metadata": {},
     "output_type": "display_data"
    },
    {
     "data": {
      "application/vnd.jupyter.widget-view+json": {
       "model_id": "da33890b2c1249c987c4bf7e7aacadb9",
       "version_major": 2,
       "version_minor": 0
      },
      "text/plain": [
       "E3SM-MMF.mlo.0008-02-15-66000.nc:   0%|          | 0.00/1.13M [00:00<?, ?B/s]"
      ]
     },
     "metadata": {},
     "output_type": "display_data"
    },
    {
     "data": {
      "application/vnd.jupyter.widget-view+json": {
       "model_id": "63228d8408d742a39029acc2574feb66",
       "version_major": 2,
       "version_minor": 0
      },
      "text/plain": [
       "E3SM-MMF.mlo.0008-02-15-67200.nc:   0%|          | 0.00/1.13M [00:00<?, ?B/s]"
      ]
     },
     "metadata": {},
     "output_type": "display_data"
    },
    {
     "data": {
      "application/vnd.jupyter.widget-view+json": {
       "model_id": "ffd21d3b768b44b387f7f64316e662fd",
       "version_major": 2,
       "version_minor": 0
      },
      "text/plain": [
       "E3SM-MMF.mlo.0008-02-15-68400.nc:   0%|          | 0.00/1.13M [00:00<?, ?B/s]"
      ]
     },
     "metadata": {},
     "output_type": "display_data"
    },
    {
     "data": {
      "application/vnd.jupyter.widget-view+json": {
       "model_id": "2a62fb870be34da4bbf4235c380e3402",
       "version_major": 2,
       "version_minor": 0
      },
      "text/plain": [
       "E3SM-MMF.mlo.0008-02-15-69600.nc:   0%|          | 0.00/1.13M [00:00<?, ?B/s]"
      ]
     },
     "metadata": {},
     "output_type": "display_data"
    },
    {
     "data": {
      "application/vnd.jupyter.widget-view+json": {
       "model_id": "fbd381f0dd804e19a066c33c4c0fc998",
       "version_major": 2,
       "version_minor": 0
      },
      "text/plain": [
       "E3SM-MMF.mlo.0008-02-15-70800.nc:   0%|          | 0.00/1.13M [00:00<?, ?B/s]"
      ]
     },
     "metadata": {},
     "output_type": "display_data"
    },
    {
     "data": {
      "application/vnd.jupyter.widget-view+json": {
       "model_id": "940141daab78409ea82cb399cdf3e54a",
       "version_major": 2,
       "version_minor": 0
      },
      "text/plain": [
       "E3SM-MMF.mlo.0008-02-15-72000.nc:   0%|          | 0.00/1.13M [00:00<?, ?B/s]"
      ]
     },
     "metadata": {},
     "output_type": "display_data"
    },
    {
     "data": {
      "application/vnd.jupyter.widget-view+json": {
       "model_id": "3572ea6a09c2424c8f39a864b5b3de86",
       "version_major": 2,
       "version_minor": 0
      },
      "text/plain": [
       "E3SM-MMF.mlo.0008-02-15-73200.nc:   0%|          | 0.00/1.13M [00:00<?, ?B/s]"
      ]
     },
     "metadata": {},
     "output_type": "display_data"
    },
    {
     "data": {
      "application/vnd.jupyter.widget-view+json": {
       "model_id": "c64ecd866ac64406ab9ce7c62f743d3d",
       "version_major": 2,
       "version_minor": 0
      },
      "text/plain": [
       "E3SM-MMF.mlo.0008-02-15-74400.nc:   0%|          | 0.00/1.13M [00:00<?, ?B/s]"
      ]
     },
     "metadata": {},
     "output_type": "display_data"
    },
    {
     "data": {
      "application/vnd.jupyter.widget-view+json": {
       "model_id": "38a6117d31034366b1f69643d825f857",
       "version_major": 2,
       "version_minor": 0
      },
      "text/plain": [
       "E3SM-MMF.mlo.0008-02-15-75600.nc:   0%|          | 0.00/1.13M [00:00<?, ?B/s]"
      ]
     },
     "metadata": {},
     "output_type": "display_data"
    },
    {
     "data": {
      "application/vnd.jupyter.widget-view+json": {
       "model_id": "8aa3a755a7544be5baab7b77cb1a3795",
       "version_major": 2,
       "version_minor": 0
      },
      "text/plain": [
       "E3SM-MMF.mlo.0008-02-15-76800.nc:   0%|          | 0.00/1.13M [00:00<?, ?B/s]"
      ]
     },
     "metadata": {},
     "output_type": "display_data"
    },
    {
     "data": {
      "application/vnd.jupyter.widget-view+json": {
       "model_id": "2ac9547112f442c797a6158f8a5fdc96",
       "version_major": 2,
       "version_minor": 0
      },
      "text/plain": [
       "E3SM-MMF.mlo.0008-02-15-78000.nc:   0%|          | 0.00/1.13M [00:00<?, ?B/s]"
      ]
     },
     "metadata": {},
     "output_type": "display_data"
    },
    {
     "data": {
      "application/vnd.jupyter.widget-view+json": {
       "model_id": "4f302166e44a42eab059a6fa808ecbae",
       "version_major": 2,
       "version_minor": 0
      },
      "text/plain": [
       "E3SM-MMF.mlo.0008-02-15-79200.nc:   0%|          | 0.00/1.13M [00:00<?, ?B/s]"
      ]
     },
     "metadata": {},
     "output_type": "display_data"
    },
    {
     "data": {
      "application/vnd.jupyter.widget-view+json": {
       "model_id": "b9354c4007e3465ea9239931a3c14f36",
       "version_major": 2,
       "version_minor": 0
      },
      "text/plain": [
       "E3SM-MMF.mlo.0008-02-15-80400.nc:   0%|          | 0.00/1.13M [00:00<?, ?B/s]"
      ]
     },
     "metadata": {},
     "output_type": "display_data"
    },
    {
     "data": {
      "application/vnd.jupyter.widget-view+json": {
       "model_id": "9527eea371d14ba7b9bde838aa00ad93",
       "version_major": 2,
       "version_minor": 0
      },
      "text/plain": [
       "E3SM-MMF.mlo.0008-02-15-81600.nc:   0%|          | 0.00/1.13M [00:00<?, ?B/s]"
      ]
     },
     "metadata": {},
     "output_type": "display_data"
    },
    {
     "data": {
      "application/vnd.jupyter.widget-view+json": {
       "model_id": "5a775c25de5748b69493001e62d154a2",
       "version_major": 2,
       "version_minor": 0
      },
      "text/plain": [
       "E3SM-MMF.mlo.0008-02-15-82800.nc:   0%|          | 0.00/1.13M [00:00<?, ?B/s]"
      ]
     },
     "metadata": {},
     "output_type": "display_data"
    },
    {
     "data": {
      "application/vnd.jupyter.widget-view+json": {
       "model_id": "45f825b8441044ab9567386c9a511bf8",
       "version_major": 2,
       "version_minor": 0
      },
      "text/plain": [
       "E3SM-MMF.mlo.0008-02-15-84000.nc:   0%|          | 0.00/1.13M [00:00<?, ?B/s]"
      ]
     },
     "metadata": {},
     "output_type": "display_data"
    },
    {
     "data": {
      "application/vnd.jupyter.widget-view+json": {
       "model_id": "4628e0f9638a4a639a7eaaa0c16dc72e",
       "version_major": 2,
       "version_minor": 0
      },
      "text/plain": [
       "E3SM-MMF.mlo.0008-02-15-85200.nc:   0%|          | 0.00/1.13M [00:00<?, ?B/s]"
      ]
     },
     "metadata": {},
     "output_type": "display_data"
    },
    {
     "data": {
      "application/vnd.jupyter.widget-view+json": {
       "model_id": "671ffd060655463880e5305c98cb8a58",
       "version_major": 2,
       "version_minor": 0
      },
      "text/plain": [
       "E3SM-MMF.mlo.0008-02-16-00000.nc:   0%|          | 0.00/1.13M [00:00<?, ?B/s]"
      ]
     },
     "metadata": {},
     "output_type": "display_data"
    },
    {
     "data": {
      "application/vnd.jupyter.widget-view+json": {
       "model_id": "f7c1502fda9c45e18fafcbad6d777c29",
       "version_major": 2,
       "version_minor": 0
      },
      "text/plain": [
       "E3SM-MMF.mlo.0008-02-16-01200.nc:   0%|          | 0.00/1.13M [00:00<?, ?B/s]"
      ]
     },
     "metadata": {},
     "output_type": "display_data"
    },
    {
     "data": {
      "application/vnd.jupyter.widget-view+json": {
       "model_id": "83bacb58088c4fffbdb8775add617b39",
       "version_major": 2,
       "version_minor": 0
      },
      "text/plain": [
       "E3SM-MMF.mlo.0008-02-16-02400.nc:   0%|          | 0.00/1.13M [00:00<?, ?B/s]"
      ]
     },
     "metadata": {},
     "output_type": "display_data"
    },
    {
     "data": {
      "application/vnd.jupyter.widget-view+json": {
       "model_id": "a112700580b14d80a5992e6450a35023",
       "version_major": 2,
       "version_minor": 0
      },
      "text/plain": [
       "E3SM-MMF.mlo.0008-02-16-03600.nc:   0%|          | 0.00/1.13M [00:00<?, ?B/s]"
      ]
     },
     "metadata": {},
     "output_type": "display_data"
    },
    {
     "data": {
      "application/vnd.jupyter.widget-view+json": {
       "model_id": "54c3bc483776436faacf9fbecbb12f13",
       "version_major": 2,
       "version_minor": 0
      },
      "text/plain": [
       "E3SM-MMF.mlo.0008-02-16-04800.nc:   0%|          | 0.00/1.13M [00:00<?, ?B/s]"
      ]
     },
     "metadata": {},
     "output_type": "display_data"
    },
    {
     "data": {
      "application/vnd.jupyter.widget-view+json": {
       "model_id": "5529c5938f5041be8b2a5f8e24345f3c",
       "version_major": 2,
       "version_minor": 0
      },
      "text/plain": [
       "E3SM-MMF.mlo.0008-02-16-06000.nc:   0%|          | 0.00/1.13M [00:00<?, ?B/s]"
      ]
     },
     "metadata": {},
     "output_type": "display_data"
    },
    {
     "data": {
      "application/vnd.jupyter.widget-view+json": {
       "model_id": "7a20624ee8604568810fbb3134a30be4",
       "version_major": 2,
       "version_minor": 0
      },
      "text/plain": [
       "E3SM-MMF.mlo.0008-02-16-07200.nc:   0%|          | 0.00/1.13M [00:00<?, ?B/s]"
      ]
     },
     "metadata": {},
     "output_type": "display_data"
    },
    {
     "data": {
      "application/vnd.jupyter.widget-view+json": {
       "model_id": "36d7006962934ef8884b6c3b42fa416a",
       "version_major": 2,
       "version_minor": 0
      },
      "text/plain": [
       "E3SM-MMF.mlo.0008-02-16-08400.nc:   0%|          | 0.00/1.13M [00:00<?, ?B/s]"
      ]
     },
     "metadata": {},
     "output_type": "display_data"
    },
    {
     "data": {
      "application/vnd.jupyter.widget-view+json": {
       "model_id": "5979e630fbc745bc89a3965b04afefc0",
       "version_major": 2,
       "version_minor": 0
      },
      "text/plain": [
       "E3SM-MMF.mlo.0008-02-16-09600.nc:   0%|          | 0.00/1.13M [00:00<?, ?B/s]"
      ]
     },
     "metadata": {},
     "output_type": "display_data"
    },
    {
     "data": {
      "application/vnd.jupyter.widget-view+json": {
       "model_id": "9b9c2492f7a14b20b8ae5b552cf14856",
       "version_major": 2,
       "version_minor": 0
      },
      "text/plain": [
       "E3SM-MMF.mlo.0008-02-16-10800.nc:   0%|          | 0.00/1.13M [00:00<?, ?B/s]"
      ]
     },
     "metadata": {},
     "output_type": "display_data"
    },
    {
     "data": {
      "application/vnd.jupyter.widget-view+json": {
       "model_id": "ba91f192df754639b56a9d4ac6965075",
       "version_major": 2,
       "version_minor": 0
      },
      "text/plain": [
       "E3SM-MMF.mlo.0008-02-16-12000.nc:   0%|          | 0.00/1.13M [00:00<?, ?B/s]"
      ]
     },
     "metadata": {},
     "output_type": "display_data"
    },
    {
     "data": {
      "application/vnd.jupyter.widget-view+json": {
       "model_id": "4eda709e6696453a9298e4b7dc421208",
       "version_major": 2,
       "version_minor": 0
      },
      "text/plain": [
       "E3SM-MMF.mlo.0008-02-16-13200.nc:   0%|          | 0.00/1.13M [00:00<?, ?B/s]"
      ]
     },
     "metadata": {},
     "output_type": "display_data"
    },
    {
     "data": {
      "application/vnd.jupyter.widget-view+json": {
       "model_id": "fb996b03fe844e52a406cc14e6939681",
       "version_major": 2,
       "version_minor": 0
      },
      "text/plain": [
       "E3SM-MMF.mlo.0008-02-16-14400.nc:   0%|          | 0.00/1.13M [00:00<?, ?B/s]"
      ]
     },
     "metadata": {},
     "output_type": "display_data"
    },
    {
     "data": {
      "application/vnd.jupyter.widget-view+json": {
       "model_id": "02e226a817ee4fb1b47e06ab6e3d9d8a",
       "version_major": 2,
       "version_minor": 0
      },
      "text/plain": [
       "E3SM-MMF.mlo.0008-02-16-15600.nc:   0%|          | 0.00/1.13M [00:00<?, ?B/s]"
      ]
     },
     "metadata": {},
     "output_type": "display_data"
    },
    {
     "data": {
      "application/vnd.jupyter.widget-view+json": {
       "model_id": "4e1e1d539581466bae8471be95548cba",
       "version_major": 2,
       "version_minor": 0
      },
      "text/plain": [
       "E3SM-MMF.mlo.0008-02-16-16800.nc:   0%|          | 0.00/1.13M [00:00<?, ?B/s]"
      ]
     },
     "metadata": {},
     "output_type": "display_data"
    },
    {
     "data": {
      "application/vnd.jupyter.widget-view+json": {
       "model_id": "fccfca2631b64bc395ed79f75a181ea7",
       "version_major": 2,
       "version_minor": 0
      },
      "text/plain": [
       "E3SM-MMF.mlo.0008-02-16-18000.nc:   0%|          | 0.00/1.13M [00:00<?, ?B/s]"
      ]
     },
     "metadata": {},
     "output_type": "display_data"
    },
    {
     "data": {
      "application/vnd.jupyter.widget-view+json": {
       "model_id": "32a91b8e8bcd4a60923387f6d68e9b30",
       "version_major": 2,
       "version_minor": 0
      },
      "text/plain": [
       "E3SM-MMF.mlo.0008-02-16-19200.nc:   0%|          | 0.00/1.13M [00:00<?, ?B/s]"
      ]
     },
     "metadata": {},
     "output_type": "display_data"
    },
    {
     "data": {
      "application/vnd.jupyter.widget-view+json": {
       "model_id": "c10b438d0ef84aa4858151a5d9753ac6",
       "version_major": 2,
       "version_minor": 0
      },
      "text/plain": [
       "E3SM-MMF.mlo.0008-02-16-20400.nc:   0%|          | 0.00/1.13M [00:00<?, ?B/s]"
      ]
     },
     "metadata": {},
     "output_type": "display_data"
    },
    {
     "data": {
      "application/vnd.jupyter.widget-view+json": {
       "model_id": "d862de1c6344469aaf806447692ceaa2",
       "version_major": 2,
       "version_minor": 0
      },
      "text/plain": [
       "E3SM-MMF.mlo.0008-02-16-21600.nc:   0%|          | 0.00/1.13M [00:00<?, ?B/s]"
      ]
     },
     "metadata": {},
     "output_type": "display_data"
    },
    {
     "data": {
      "application/vnd.jupyter.widget-view+json": {
       "model_id": "76370f79e40846a9bac84849d6057692",
       "version_major": 2,
       "version_minor": 0
      },
      "text/plain": [
       "E3SM-MMF.mlo.0008-02-16-22800.nc:   0%|          | 0.00/1.13M [00:00<?, ?B/s]"
      ]
     },
     "metadata": {},
     "output_type": "display_data"
    },
    {
     "data": {
      "application/vnd.jupyter.widget-view+json": {
       "model_id": "5823ab8ec89a4316a0eb0f03e42826a2",
       "version_major": 2,
       "version_minor": 0
      },
      "text/plain": [
       "E3SM-MMF.mlo.0008-02-16-24000.nc:   0%|          | 0.00/1.13M [00:00<?, ?B/s]"
      ]
     },
     "metadata": {},
     "output_type": "display_data"
    },
    {
     "data": {
      "application/vnd.jupyter.widget-view+json": {
       "model_id": "a595ad9c1c344ab2bfc160a5680ee874",
       "version_major": 2,
       "version_minor": 0
      },
      "text/plain": [
       "E3SM-MMF.mlo.0008-02-16-25200.nc:   0%|          | 0.00/1.13M [00:00<?, ?B/s]"
      ]
     },
     "metadata": {},
     "output_type": "display_data"
    },
    {
     "data": {
      "application/vnd.jupyter.widget-view+json": {
       "model_id": "a6a36d07f6f7450d8bde4352e0ff0a31",
       "version_major": 2,
       "version_minor": 0
      },
      "text/plain": [
       "E3SM-MMF.mlo.0008-02-16-26400.nc:   0%|          | 0.00/1.13M [00:00<?, ?B/s]"
      ]
     },
     "metadata": {},
     "output_type": "display_data"
    },
    {
     "data": {
      "application/vnd.jupyter.widget-view+json": {
       "model_id": "b8139dd5513e4ea289d6065950dcf36e",
       "version_major": 2,
       "version_minor": 0
      },
      "text/plain": [
       "E3SM-MMF.mlo.0008-02-16-27600.nc:   0%|          | 0.00/1.13M [00:00<?, ?B/s]"
      ]
     },
     "metadata": {},
     "output_type": "display_data"
    },
    {
     "data": {
      "application/vnd.jupyter.widget-view+json": {
       "model_id": "9ec44943fe3c417592444a4a2d87e8af",
       "version_major": 2,
       "version_minor": 0
      },
      "text/plain": [
       "E3SM-MMF.mlo.0008-02-16-28800.nc:   0%|          | 0.00/1.13M [00:00<?, ?B/s]"
      ]
     },
     "metadata": {},
     "output_type": "display_data"
    },
    {
     "data": {
      "application/vnd.jupyter.widget-view+json": {
       "model_id": "5061e28c64bd4844ad865f3859bc88fd",
       "version_major": 2,
       "version_minor": 0
      },
      "text/plain": [
       "E3SM-MMF.mlo.0008-02-16-30000.nc:   0%|          | 0.00/1.13M [00:00<?, ?B/s]"
      ]
     },
     "metadata": {},
     "output_type": "display_data"
    },
    {
     "data": {
      "application/vnd.jupyter.widget-view+json": {
       "model_id": "7bae938280df4ca49347daa712978a3a",
       "version_major": 2,
       "version_minor": 0
      },
      "text/plain": [
       "E3SM-MMF.mlo.0008-02-16-31200.nc:   0%|          | 0.00/1.13M [00:00<?, ?B/s]"
      ]
     },
     "metadata": {},
     "output_type": "display_data"
    },
    {
     "data": {
      "application/vnd.jupyter.widget-view+json": {
       "model_id": "fa1fb1306cf5452da40fbb1a4c4f13e7",
       "version_major": 2,
       "version_minor": 0
      },
      "text/plain": [
       "E3SM-MMF.mlo.0008-02-16-32400.nc:   0%|          | 0.00/1.13M [00:00<?, ?B/s]"
      ]
     },
     "metadata": {},
     "output_type": "display_data"
    },
    {
     "data": {
      "application/vnd.jupyter.widget-view+json": {
       "model_id": "e81ae337ce334cb2942c53007fb716d9",
       "version_major": 2,
       "version_minor": 0
      },
      "text/plain": [
       "E3SM-MMF.mlo.0008-02-16-33600.nc:   0%|          | 0.00/1.13M [00:00<?, ?B/s]"
      ]
     },
     "metadata": {},
     "output_type": "display_data"
    },
    {
     "data": {
      "application/vnd.jupyter.widget-view+json": {
       "model_id": "21ae64a9f4964290a75cf8659493f38d",
       "version_major": 2,
       "version_minor": 0
      },
      "text/plain": [
       "E3SM-MMF.mlo.0008-02-16-34800.nc:   0%|          | 0.00/1.13M [00:00<?, ?B/s]"
      ]
     },
     "metadata": {},
     "output_type": "display_data"
    },
    {
     "data": {
      "application/vnd.jupyter.widget-view+json": {
       "model_id": "19896e713b3a4a3a84a13806fef16efd",
       "version_major": 2,
       "version_minor": 0
      },
      "text/plain": [
       "E3SM-MMF.mlo.0008-02-16-36000.nc:   0%|          | 0.00/1.13M [00:00<?, ?B/s]"
      ]
     },
     "metadata": {},
     "output_type": "display_data"
    },
    {
     "data": {
      "application/vnd.jupyter.widget-view+json": {
       "model_id": "dcefea1f7c464aa492cf59949571e934",
       "version_major": 2,
       "version_minor": 0
      },
      "text/plain": [
       "E3SM-MMF.mlo.0008-02-16-37200.nc:   0%|          | 0.00/1.13M [00:00<?, ?B/s]"
      ]
     },
     "metadata": {},
     "output_type": "display_data"
    },
    {
     "data": {
      "application/vnd.jupyter.widget-view+json": {
       "model_id": "a185e917643d488987db04c645059520",
       "version_major": 2,
       "version_minor": 0
      },
      "text/plain": [
       "E3SM-MMF.mlo.0008-02-16-38400.nc:   0%|          | 0.00/1.13M [00:00<?, ?B/s]"
      ]
     },
     "metadata": {},
     "output_type": "display_data"
    },
    {
     "data": {
      "application/vnd.jupyter.widget-view+json": {
       "model_id": "63df3c06ae92431d86192e648afac835",
       "version_major": 2,
       "version_minor": 0
      },
      "text/plain": [
       "E3SM-MMF.mlo.0008-02-16-39600.nc:   0%|          | 0.00/1.13M [00:00<?, ?B/s]"
      ]
     },
     "metadata": {},
     "output_type": "display_data"
    },
    {
     "data": {
      "application/vnd.jupyter.widget-view+json": {
       "model_id": "53106c6684d749f2ad357b564e28c1e7",
       "version_major": 2,
       "version_minor": 0
      },
      "text/plain": [
       "E3SM-MMF.mlo.0008-02-16-40800.nc:   0%|          | 0.00/1.13M [00:00<?, ?B/s]"
      ]
     },
     "metadata": {},
     "output_type": "display_data"
    },
    {
     "data": {
      "application/vnd.jupyter.widget-view+json": {
       "model_id": "309c1634b8fe4293af358bd30a2ec555",
       "version_major": 2,
       "version_minor": 0
      },
      "text/plain": [
       "E3SM-MMF.mlo.0008-02-16-42000.nc:   0%|          | 0.00/1.13M [00:00<?, ?B/s]"
      ]
     },
     "metadata": {},
     "output_type": "display_data"
    },
    {
     "data": {
      "application/vnd.jupyter.widget-view+json": {
       "model_id": "570a652e69304c85ad62841793f4ce1f",
       "version_major": 2,
       "version_minor": 0
      },
      "text/plain": [
       "E3SM-MMF.mlo.0008-02-16-43200.nc:   0%|          | 0.00/1.13M [00:00<?, ?B/s]"
      ]
     },
     "metadata": {},
     "output_type": "display_data"
    },
    {
     "data": {
      "application/vnd.jupyter.widget-view+json": {
       "model_id": "1c35ef1a1fdb4e6a83eeb7251db5fd29",
       "version_major": 2,
       "version_minor": 0
      },
      "text/plain": [
       "E3SM-MMF.mlo.0008-02-16-44400.nc:   0%|          | 0.00/1.13M [00:00<?, ?B/s]"
      ]
     },
     "metadata": {},
     "output_type": "display_data"
    },
    {
     "data": {
      "application/vnd.jupyter.widget-view+json": {
       "model_id": "c099eb445dc246699a93524236e3993d",
       "version_major": 2,
       "version_minor": 0
      },
      "text/plain": [
       "E3SM-MMF.mlo.0008-02-16-45600.nc:   0%|          | 0.00/1.13M [00:00<?, ?B/s]"
      ]
     },
     "metadata": {},
     "output_type": "display_data"
    },
    {
     "data": {
      "application/vnd.jupyter.widget-view+json": {
       "model_id": "09881a55899f4490b12ca40b42782b59",
       "version_major": 2,
       "version_minor": 0
      },
      "text/plain": [
       "E3SM-MMF.mlo.0008-02-16-46800.nc:   0%|          | 0.00/1.13M [00:00<?, ?B/s]"
      ]
     },
     "metadata": {},
     "output_type": "display_data"
    },
    {
     "data": {
      "application/vnd.jupyter.widget-view+json": {
       "model_id": "83e10c43025a4a7bbfbb9727f311ecf5",
       "version_major": 2,
       "version_minor": 0
      },
      "text/plain": [
       "E3SM-MMF.mlo.0008-02-16-48000.nc:   0%|          | 0.00/1.13M [00:00<?, ?B/s]"
      ]
     },
     "metadata": {},
     "output_type": "display_data"
    },
    {
     "data": {
      "application/vnd.jupyter.widget-view+json": {
       "model_id": "05edc2bbbc4542f98de6189a48dacc59",
       "version_major": 2,
       "version_minor": 0
      },
      "text/plain": [
       "E3SM-MMF.mlo.0008-02-16-49200.nc:   0%|          | 0.00/1.13M [00:00<?, ?B/s]"
      ]
     },
     "metadata": {},
     "output_type": "display_data"
    },
    {
     "data": {
      "application/vnd.jupyter.widget-view+json": {
       "model_id": "611cdc2e469c4c318982cdf71bc9e5df",
       "version_major": 2,
       "version_minor": 0
      },
      "text/plain": [
       "E3SM-MMF.mlo.0008-02-16-50400.nc:   0%|          | 0.00/1.13M [00:00<?, ?B/s]"
      ]
     },
     "metadata": {},
     "output_type": "display_data"
    },
    {
     "data": {
      "application/vnd.jupyter.widget-view+json": {
       "model_id": "26ca3dd2da2c44ac89480711df8f00fd",
       "version_major": 2,
       "version_minor": 0
      },
      "text/plain": [
       "E3SM-MMF.mlo.0008-02-16-51600.nc:   0%|          | 0.00/1.13M [00:00<?, ?B/s]"
      ]
     },
     "metadata": {},
     "output_type": "display_data"
    },
    {
     "data": {
      "application/vnd.jupyter.widget-view+json": {
       "model_id": "557b650cabeb46428e68df5025254557",
       "version_major": 2,
       "version_minor": 0
      },
      "text/plain": [
       "E3SM-MMF.mlo.0008-02-16-52800.nc:   0%|          | 0.00/1.13M [00:00<?, ?B/s]"
      ]
     },
     "metadata": {},
     "output_type": "display_data"
    },
    {
     "data": {
      "application/vnd.jupyter.widget-view+json": {
       "model_id": "0a5a5b2357b84f8e9ebedd6be1c3960c",
       "version_major": 2,
       "version_minor": 0
      },
      "text/plain": [
       "E3SM-MMF.mlo.0008-02-16-54000.nc:   0%|          | 0.00/1.13M [00:00<?, ?B/s]"
      ]
     },
     "metadata": {},
     "output_type": "display_data"
    },
    {
     "data": {
      "application/vnd.jupyter.widget-view+json": {
       "model_id": "ec968e280b484696af1c9510552e67de",
       "version_major": 2,
       "version_minor": 0
      },
      "text/plain": [
       "E3SM-MMF.mlo.0008-02-16-55200.nc:   0%|          | 0.00/1.13M [00:00<?, ?B/s]"
      ]
     },
     "metadata": {},
     "output_type": "display_data"
    },
    {
     "data": {
      "application/vnd.jupyter.widget-view+json": {
       "model_id": "4a00f80de21141c6b89108d0fc928471",
       "version_major": 2,
       "version_minor": 0
      },
      "text/plain": [
       "E3SM-MMF.mlo.0008-02-16-56400.nc:   0%|          | 0.00/1.13M [00:00<?, ?B/s]"
      ]
     },
     "metadata": {},
     "output_type": "display_data"
    },
    {
     "data": {
      "application/vnd.jupyter.widget-view+json": {
       "model_id": "76d7b8f1dee847549e617eb57d4c3484",
       "version_major": 2,
       "version_minor": 0
      },
      "text/plain": [
       "E3SM-MMF.mlo.0008-02-16-57600.nc:   0%|          | 0.00/1.13M [00:00<?, ?B/s]"
      ]
     },
     "metadata": {},
     "output_type": "display_data"
    },
    {
     "data": {
      "application/vnd.jupyter.widget-view+json": {
       "model_id": "72bcc43def76459cbb038f4f61f40818",
       "version_major": 2,
       "version_minor": 0
      },
      "text/plain": [
       "E3SM-MMF.mlo.0008-02-16-58800.nc:   0%|          | 0.00/1.13M [00:00<?, ?B/s]"
      ]
     },
     "metadata": {},
     "output_type": "display_data"
    },
    {
     "data": {
      "application/vnd.jupyter.widget-view+json": {
       "model_id": "a01bc35e180b45bea4b17f3b5b0cc88b",
       "version_major": 2,
       "version_minor": 0
      },
      "text/plain": [
       "E3SM-MMF.mlo.0008-02-16-60000.nc:   0%|          | 0.00/1.13M [00:00<?, ?B/s]"
      ]
     },
     "metadata": {},
     "output_type": "display_data"
    },
    {
     "data": {
      "application/vnd.jupyter.widget-view+json": {
       "model_id": "0396cffbabad4afb9024135ef5f8b5d6",
       "version_major": 2,
       "version_minor": 0
      },
      "text/plain": [
       "E3SM-MMF.mlo.0008-02-16-61200.nc:   0%|          | 0.00/1.13M [00:00<?, ?B/s]"
      ]
     },
     "metadata": {},
     "output_type": "display_data"
    },
    {
     "data": {
      "application/vnd.jupyter.widget-view+json": {
       "model_id": "0cdfb38a03b24ef0a95ba814311f4c72",
       "version_major": 2,
       "version_minor": 0
      },
      "text/plain": [
       "E3SM-MMF.mlo.0008-02-16-62400.nc:   0%|          | 0.00/1.13M [00:00<?, ?B/s]"
      ]
     },
     "metadata": {},
     "output_type": "display_data"
    },
    {
     "data": {
      "application/vnd.jupyter.widget-view+json": {
       "model_id": "6fa8eb477b9b45368ba98cc0c478f459",
       "version_major": 2,
       "version_minor": 0
      },
      "text/plain": [
       "E3SM-MMF.mlo.0008-02-16-63600.nc:   0%|          | 0.00/1.13M [00:00<?, ?B/s]"
      ]
     },
     "metadata": {},
     "output_type": "display_data"
    },
    {
     "data": {
      "application/vnd.jupyter.widget-view+json": {
       "model_id": "da2a126c9ddc49af81548d6818a507c5",
       "version_major": 2,
       "version_minor": 0
      },
      "text/plain": [
       "E3SM-MMF.mlo.0008-02-16-64800.nc:   0%|          | 0.00/1.13M [00:00<?, ?B/s]"
      ]
     },
     "metadata": {},
     "output_type": "display_data"
    },
    {
     "data": {
      "application/vnd.jupyter.widget-view+json": {
       "model_id": "0c5585d832ea4890be1d9ebb6171bb48",
       "version_major": 2,
       "version_minor": 0
      },
      "text/plain": [
       "E3SM-MMF.mlo.0008-02-16-66000.nc:   0%|          | 0.00/1.13M [00:00<?, ?B/s]"
      ]
     },
     "metadata": {},
     "output_type": "display_data"
    },
    {
     "data": {
      "application/vnd.jupyter.widget-view+json": {
       "model_id": "84c9d31bf63b48fea27590e5ada43299",
       "version_major": 2,
       "version_minor": 0
      },
      "text/plain": [
       "E3SM-MMF.mlo.0008-02-16-67200.nc:   0%|          | 0.00/1.13M [00:00<?, ?B/s]"
      ]
     },
     "metadata": {},
     "output_type": "display_data"
    },
    {
     "data": {
      "application/vnd.jupyter.widget-view+json": {
       "model_id": "21c1eab8ca57467cb7d5badb2b74a3b5",
       "version_major": 2,
       "version_minor": 0
      },
      "text/plain": [
       "E3SM-MMF.mlo.0008-02-16-68400.nc:   0%|          | 0.00/1.13M [00:00<?, ?B/s]"
      ]
     },
     "metadata": {},
     "output_type": "display_data"
    },
    {
     "data": {
      "application/vnd.jupyter.widget-view+json": {
       "model_id": "049212a4ca2344978465227eef7b4c0f",
       "version_major": 2,
       "version_minor": 0
      },
      "text/plain": [
       "E3SM-MMF.mlo.0008-02-16-69600.nc:   0%|          | 0.00/1.13M [00:00<?, ?B/s]"
      ]
     },
     "metadata": {},
     "output_type": "display_data"
    },
    {
     "data": {
      "application/vnd.jupyter.widget-view+json": {
       "model_id": "be2cb8409bc8453aa4f78470e478dfcc",
       "version_major": 2,
       "version_minor": 0
      },
      "text/plain": [
       "E3SM-MMF.mlo.0008-02-16-70800.nc:   0%|          | 0.00/1.13M [00:00<?, ?B/s]"
      ]
     },
     "metadata": {},
     "output_type": "display_data"
    },
    {
     "data": {
      "application/vnd.jupyter.widget-view+json": {
       "model_id": "a3be3b77daea48bb9253b2b8a399c38e",
       "version_major": 2,
       "version_minor": 0
      },
      "text/plain": [
       "E3SM-MMF.mlo.0008-02-16-72000.nc:   0%|          | 0.00/1.13M [00:00<?, ?B/s]"
      ]
     },
     "metadata": {},
     "output_type": "display_data"
    },
    {
     "data": {
      "application/vnd.jupyter.widget-view+json": {
       "model_id": "cfb28b039bc64c048cc81da68bcff64e",
       "version_major": 2,
       "version_minor": 0
      },
      "text/plain": [
       "E3SM-MMF.mlo.0008-02-16-73200.nc:   0%|          | 0.00/1.13M [00:00<?, ?B/s]"
      ]
     },
     "metadata": {},
     "output_type": "display_data"
    },
    {
     "data": {
      "application/vnd.jupyter.widget-view+json": {
       "model_id": "cb7ee1480ec247209cadf7967fd784c6",
       "version_major": 2,
       "version_minor": 0
      },
      "text/plain": [
       "E3SM-MMF.mlo.0008-02-16-74400.nc:   0%|          | 0.00/1.13M [00:00<?, ?B/s]"
      ]
     },
     "metadata": {},
     "output_type": "display_data"
    },
    {
     "data": {
      "application/vnd.jupyter.widget-view+json": {
       "model_id": "922be5232a1a48b5aa0025be5bddbf7a",
       "version_major": 2,
       "version_minor": 0
      },
      "text/plain": [
       "E3SM-MMF.mlo.0008-02-16-75600.nc:   0%|          | 0.00/1.13M [00:00<?, ?B/s]"
      ]
     },
     "metadata": {},
     "output_type": "display_data"
    },
    {
     "data": {
      "application/vnd.jupyter.widget-view+json": {
       "model_id": "ab3efc7433b841b2b9144a21546d5355",
       "version_major": 2,
       "version_minor": 0
      },
      "text/plain": [
       "E3SM-MMF.mlo.0008-02-16-76800.nc:   0%|          | 0.00/1.13M [00:00<?, ?B/s]"
      ]
     },
     "metadata": {},
     "output_type": "display_data"
    },
    {
     "data": {
      "application/vnd.jupyter.widget-view+json": {
       "model_id": "451ca36ff3d448248595d8ba331c59d3",
       "version_major": 2,
       "version_minor": 0
      },
      "text/plain": [
       "E3SM-MMF.mlo.0008-02-16-78000.nc:   0%|          | 0.00/1.13M [00:00<?, ?B/s]"
      ]
     },
     "metadata": {},
     "output_type": "display_data"
    },
    {
     "data": {
      "application/vnd.jupyter.widget-view+json": {
       "model_id": "eee6d12704024b8b84aa1f5cc3fca768",
       "version_major": 2,
       "version_minor": 0
      },
      "text/plain": [
       "E3SM-MMF.mlo.0008-02-16-79200.nc:   0%|          | 0.00/1.13M [00:00<?, ?B/s]"
      ]
     },
     "metadata": {},
     "output_type": "display_data"
    },
    {
     "data": {
      "application/vnd.jupyter.widget-view+json": {
       "model_id": "32e1dc4d10d2435cba3197c0f88e0978",
       "version_major": 2,
       "version_minor": 0
      },
      "text/plain": [
       "E3SM-MMF.mlo.0008-02-16-80400.nc:   0%|          | 0.00/1.13M [00:00<?, ?B/s]"
      ]
     },
     "metadata": {},
     "output_type": "display_data"
    },
    {
     "data": {
      "application/vnd.jupyter.widget-view+json": {
       "model_id": "01eae7f1fd7444bdb1d266221a48a0af",
       "version_major": 2,
       "version_minor": 0
      },
      "text/plain": [
       "E3SM-MMF.mlo.0008-02-16-81600.nc:   0%|          | 0.00/1.13M [00:00<?, ?B/s]"
      ]
     },
     "metadata": {},
     "output_type": "display_data"
    },
    {
     "data": {
      "application/vnd.jupyter.widget-view+json": {
       "model_id": "13a6eb3f05eb40dba879e4e6cb850f30",
       "version_major": 2,
       "version_minor": 0
      },
      "text/plain": [
       "E3SM-MMF.mlo.0008-02-16-82800.nc:   0%|          | 0.00/1.13M [00:00<?, ?B/s]"
      ]
     },
     "metadata": {},
     "output_type": "display_data"
    },
    {
     "data": {
      "application/vnd.jupyter.widget-view+json": {
       "model_id": "630216e4c2324a51946d991f26510348",
       "version_major": 2,
       "version_minor": 0
      },
      "text/plain": [
       "E3SM-MMF.mlo.0008-02-16-84000.nc:   0%|          | 0.00/1.13M [00:00<?, ?B/s]"
      ]
     },
     "metadata": {},
     "output_type": "display_data"
    },
    {
     "data": {
      "application/vnd.jupyter.widget-view+json": {
       "model_id": "f01c7e22ffac468da1b99e6f8de7f9ef",
       "version_major": 2,
       "version_minor": 0
      },
      "text/plain": [
       "E3SM-MMF.mlo.0008-02-16-85200.nc:   0%|          | 0.00/1.13M [00:00<?, ?B/s]"
      ]
     },
     "metadata": {},
     "output_type": "display_data"
    },
    {
     "data": {
      "application/vnd.jupyter.widget-view+json": {
       "model_id": "7b31842debc54fa8a0693dbace6ce295",
       "version_major": 2,
       "version_minor": 0
      },
      "text/plain": [
       "E3SM-MMF.mlo.0008-02-17-00000.nc:   0%|          | 0.00/1.13M [00:00<?, ?B/s]"
      ]
     },
     "metadata": {},
     "output_type": "display_data"
    },
    {
     "data": {
      "application/vnd.jupyter.widget-view+json": {
       "model_id": "4e32fae09889468e81ced4c2de84c85b",
       "version_major": 2,
       "version_minor": 0
      },
      "text/plain": [
       "E3SM-MMF.mlo.0008-02-17-01200.nc:   0%|          | 0.00/1.13M [00:00<?, ?B/s]"
      ]
     },
     "metadata": {},
     "output_type": "display_data"
    },
    {
     "data": {
      "application/vnd.jupyter.widget-view+json": {
       "model_id": "183ba9b0b70549d58c5b5c22d18df078",
       "version_major": 2,
       "version_minor": 0
      },
      "text/plain": [
       "E3SM-MMF.mlo.0008-02-17-02400.nc:   0%|          | 0.00/1.13M [00:00<?, ?B/s]"
      ]
     },
     "metadata": {},
     "output_type": "display_data"
    },
    {
     "data": {
      "application/vnd.jupyter.widget-view+json": {
       "model_id": "7170578a2a554e598451310ea8d05dbb",
       "version_major": 2,
       "version_minor": 0
      },
      "text/plain": [
       "E3SM-MMF.mlo.0008-02-17-03600.nc:   0%|          | 0.00/1.13M [00:00<?, ?B/s]"
      ]
     },
     "metadata": {},
     "output_type": "display_data"
    },
    {
     "data": {
      "application/vnd.jupyter.widget-view+json": {
       "model_id": "b61f19864c84469c8b6ad09f48f16c74",
       "version_major": 2,
       "version_minor": 0
      },
      "text/plain": [
       "E3SM-MMF.mlo.0008-02-17-04800.nc:   0%|          | 0.00/1.13M [00:00<?, ?B/s]"
      ]
     },
     "metadata": {},
     "output_type": "display_data"
    },
    {
     "data": {
      "application/vnd.jupyter.widget-view+json": {
       "model_id": "14a0ab6f506a4daa8273f573e2353b42",
       "version_major": 2,
       "version_minor": 0
      },
      "text/plain": [
       "E3SM-MMF.mlo.0008-02-17-06000.nc:   0%|          | 0.00/1.13M [00:00<?, ?B/s]"
      ]
     },
     "metadata": {},
     "output_type": "display_data"
    },
    {
     "data": {
      "application/vnd.jupyter.widget-view+json": {
       "model_id": "f45567d62e1c45bfa042255fef924c8f",
       "version_major": 2,
       "version_minor": 0
      },
      "text/plain": [
       "E3SM-MMF.mlo.0008-02-17-07200.nc:   0%|          | 0.00/1.13M [00:00<?, ?B/s]"
      ]
     },
     "metadata": {},
     "output_type": "display_data"
    },
    {
     "data": {
      "application/vnd.jupyter.widget-view+json": {
       "model_id": "5829e44489984eb1a4622cbdc854c0a4",
       "version_major": 2,
       "version_minor": 0
      },
      "text/plain": [
       "E3SM-MMF.mlo.0008-02-17-08400.nc:   0%|          | 0.00/1.13M [00:00<?, ?B/s]"
      ]
     },
     "metadata": {},
     "output_type": "display_data"
    },
    {
     "data": {
      "application/vnd.jupyter.widget-view+json": {
       "model_id": "beb7fb0555cd49e28b43eedd106dd152",
       "version_major": 2,
       "version_minor": 0
      },
      "text/plain": [
       "E3SM-MMF.mlo.0008-02-17-09600.nc:   0%|          | 0.00/1.13M [00:00<?, ?B/s]"
      ]
     },
     "metadata": {},
     "output_type": "display_data"
    },
    {
     "data": {
      "application/vnd.jupyter.widget-view+json": {
       "model_id": "39bae5acccd9426cbbf23930497686d5",
       "version_major": 2,
       "version_minor": 0
      },
      "text/plain": [
       "E3SM-MMF.mlo.0008-02-17-10800.nc:   0%|          | 0.00/1.13M [00:00<?, ?B/s]"
      ]
     },
     "metadata": {},
     "output_type": "display_data"
    },
    {
     "data": {
      "application/vnd.jupyter.widget-view+json": {
       "model_id": "c5d420f0aafc409c979dce40f2fd7394",
       "version_major": 2,
       "version_minor": 0
      },
      "text/plain": [
       "E3SM-MMF.mlo.0008-02-17-12000.nc:   0%|          | 0.00/1.13M [00:00<?, ?B/s]"
      ]
     },
     "metadata": {},
     "output_type": "display_data"
    },
    {
     "data": {
      "application/vnd.jupyter.widget-view+json": {
       "model_id": "1e411aaed38e472a9454a9539677fff8",
       "version_major": 2,
       "version_minor": 0
      },
      "text/plain": [
       "E3SM-MMF.mlo.0008-02-17-13200.nc:   0%|          | 0.00/1.13M [00:00<?, ?B/s]"
      ]
     },
     "metadata": {},
     "output_type": "display_data"
    },
    {
     "data": {
      "application/vnd.jupyter.widget-view+json": {
       "model_id": "3833a4fe9318439f814502e039ce0214",
       "version_major": 2,
       "version_minor": 0
      },
      "text/plain": [
       "E3SM-MMF.mlo.0008-02-17-14400.nc:   0%|          | 0.00/1.13M [00:00<?, ?B/s]"
      ]
     },
     "metadata": {},
     "output_type": "display_data"
    },
    {
     "data": {
      "application/vnd.jupyter.widget-view+json": {
       "model_id": "62a8891bbc2c4d46ba1c918d3ce92230",
       "version_major": 2,
       "version_minor": 0
      },
      "text/plain": [
       "E3SM-MMF.mlo.0008-02-17-15600.nc:   0%|          | 0.00/1.13M [00:00<?, ?B/s]"
      ]
     },
     "metadata": {},
     "output_type": "display_data"
    },
    {
     "data": {
      "application/vnd.jupyter.widget-view+json": {
       "model_id": "595ea0e853444c66916d02aa92a0a6ec",
       "version_major": 2,
       "version_minor": 0
      },
      "text/plain": [
       "E3SM-MMF.mlo.0008-02-17-16800.nc:   0%|          | 0.00/1.13M [00:00<?, ?B/s]"
      ]
     },
     "metadata": {},
     "output_type": "display_data"
    },
    {
     "data": {
      "application/vnd.jupyter.widget-view+json": {
       "model_id": "0caf43764b984747823c7c74b11f1d08",
       "version_major": 2,
       "version_minor": 0
      },
      "text/plain": [
       "E3SM-MMF.mlo.0008-02-17-18000.nc:   0%|          | 0.00/1.13M [00:00<?, ?B/s]"
      ]
     },
     "metadata": {},
     "output_type": "display_data"
    },
    {
     "data": {
      "application/vnd.jupyter.widget-view+json": {
       "model_id": "3e2873fe5a06433c82dc69959d08e1c1",
       "version_major": 2,
       "version_minor": 0
      },
      "text/plain": [
       "E3SM-MMF.mlo.0008-02-17-19200.nc:   0%|          | 0.00/1.13M [00:00<?, ?B/s]"
      ]
     },
     "metadata": {},
     "output_type": "display_data"
    },
    {
     "data": {
      "application/vnd.jupyter.widget-view+json": {
       "model_id": "53616c1e11c44bdab0e74c9e26a3d88a",
       "version_major": 2,
       "version_minor": 0
      },
      "text/plain": [
       "E3SM-MMF.mlo.0008-02-17-20400.nc:   0%|          | 0.00/1.13M [00:00<?, ?B/s]"
      ]
     },
     "metadata": {},
     "output_type": "display_data"
    },
    {
     "data": {
      "application/vnd.jupyter.widget-view+json": {
       "model_id": "4ec3b885f62745aab2920cf3f33899a3",
       "version_major": 2,
       "version_minor": 0
      },
      "text/plain": [
       "E3SM-MMF.mlo.0008-02-17-21600.nc:   0%|          | 0.00/1.13M [00:00<?, ?B/s]"
      ]
     },
     "metadata": {},
     "output_type": "display_data"
    },
    {
     "data": {
      "application/vnd.jupyter.widget-view+json": {
       "model_id": "afbcbfcfaee746e6bc1da831d2647a3d",
       "version_major": 2,
       "version_minor": 0
      },
      "text/plain": [
       "E3SM-MMF.mlo.0008-02-17-22800.nc:   0%|          | 0.00/1.13M [00:00<?, ?B/s]"
      ]
     },
     "metadata": {},
     "output_type": "display_data"
    },
    {
     "data": {
      "application/vnd.jupyter.widget-view+json": {
       "model_id": "3dc31799793e4589b19515606dada3d8",
       "version_major": 2,
       "version_minor": 0
      },
      "text/plain": [
       "E3SM-MMF.mlo.0008-02-17-24000.nc:   0%|          | 0.00/1.13M [00:00<?, ?B/s]"
      ]
     },
     "metadata": {},
     "output_type": "display_data"
    },
    {
     "data": {
      "application/vnd.jupyter.widget-view+json": {
       "model_id": "8e92a8153e8b48a59fdb7f7dd8fdbc76",
       "version_major": 2,
       "version_minor": 0
      },
      "text/plain": [
       "E3SM-MMF.mlo.0008-02-17-25200.nc:   0%|          | 0.00/1.13M [00:00<?, ?B/s]"
      ]
     },
     "metadata": {},
     "output_type": "display_data"
    },
    {
     "data": {
      "application/vnd.jupyter.widget-view+json": {
       "model_id": "78a75cfa99cf4c9b87a34e0083f9f20e",
       "version_major": 2,
       "version_minor": 0
      },
      "text/plain": [
       "E3SM-MMF.mlo.0008-02-17-26400.nc:   0%|          | 0.00/1.13M [00:00<?, ?B/s]"
      ]
     },
     "metadata": {},
     "output_type": "display_data"
    },
    {
     "data": {
      "application/vnd.jupyter.widget-view+json": {
       "model_id": "a8abc19a17144b87995734ec958c79b5",
       "version_major": 2,
       "version_minor": 0
      },
      "text/plain": [
       "E3SM-MMF.mlo.0008-02-17-27600.nc:   0%|          | 0.00/1.13M [00:00<?, ?B/s]"
      ]
     },
     "metadata": {},
     "output_type": "display_data"
    },
    {
     "data": {
      "application/vnd.jupyter.widget-view+json": {
       "model_id": "6d69e04d19804eafb4a2328511d7b8f8",
       "version_major": 2,
       "version_minor": 0
      },
      "text/plain": [
       "E3SM-MMF.mlo.0008-02-17-28800.nc:   0%|          | 0.00/1.13M [00:00<?, ?B/s]"
      ]
     },
     "metadata": {},
     "output_type": "display_data"
    },
    {
     "data": {
      "application/vnd.jupyter.widget-view+json": {
       "model_id": "784f8dfe8ff9477d95950ed7a90d23f0",
       "version_major": 2,
       "version_minor": 0
      },
      "text/plain": [
       "E3SM-MMF.mlo.0008-02-17-30000.nc:   0%|          | 0.00/1.13M [00:00<?, ?B/s]"
      ]
     },
     "metadata": {},
     "output_type": "display_data"
    },
    {
     "data": {
      "application/vnd.jupyter.widget-view+json": {
       "model_id": "053b87dd248c4dab8d0751fc2adccaa5",
       "version_major": 2,
       "version_minor": 0
      },
      "text/plain": [
       "E3SM-MMF.mlo.0008-02-17-31200.nc:   0%|          | 0.00/1.13M [00:00<?, ?B/s]"
      ]
     },
     "metadata": {},
     "output_type": "display_data"
    },
    {
     "data": {
      "application/vnd.jupyter.widget-view+json": {
       "model_id": "6509776981fe458f8b221ca59517495c",
       "version_major": 2,
       "version_minor": 0
      },
      "text/plain": [
       "E3SM-MMF.mlo.0008-02-17-32400.nc:   0%|          | 0.00/1.13M [00:00<?, ?B/s]"
      ]
     },
     "metadata": {},
     "output_type": "display_data"
    },
    {
     "data": {
      "application/vnd.jupyter.widget-view+json": {
       "model_id": "8481d87cbe0e408f8c98ef5ac706a452",
       "version_major": 2,
       "version_minor": 0
      },
      "text/plain": [
       "E3SM-MMF.mlo.0008-02-17-33600.nc:   0%|          | 0.00/1.13M [00:00<?, ?B/s]"
      ]
     },
     "metadata": {},
     "output_type": "display_data"
    },
    {
     "data": {
      "application/vnd.jupyter.widget-view+json": {
       "model_id": "f94b5a99e812480e9690fe4aeba0d742",
       "version_major": 2,
       "version_minor": 0
      },
      "text/plain": [
       "E3SM-MMF.mlo.0008-02-17-34800.nc:   0%|          | 0.00/1.13M [00:00<?, ?B/s]"
      ]
     },
     "metadata": {},
     "output_type": "display_data"
    },
    {
     "data": {
      "application/vnd.jupyter.widget-view+json": {
       "model_id": "580b3b483e734694aae46657a7397f53",
       "version_major": 2,
       "version_minor": 0
      },
      "text/plain": [
       "E3SM-MMF.mlo.0008-02-17-36000.nc:   0%|          | 0.00/1.13M [00:00<?, ?B/s]"
      ]
     },
     "metadata": {},
     "output_type": "display_data"
    },
    {
     "data": {
      "application/vnd.jupyter.widget-view+json": {
       "model_id": "a1177a2d5fcd43b5ab899e8af3cd0d18",
       "version_major": 2,
       "version_minor": 0
      },
      "text/plain": [
       "E3SM-MMF.mlo.0008-02-17-37200.nc:   0%|          | 0.00/1.13M [00:00<?, ?B/s]"
      ]
     },
     "metadata": {},
     "output_type": "display_data"
    },
    {
     "data": {
      "application/vnd.jupyter.widget-view+json": {
       "model_id": "d005d18f48af49069c2d0fd135d77596",
       "version_major": 2,
       "version_minor": 0
      },
      "text/plain": [
       "E3SM-MMF.mlo.0008-02-17-38400.nc:   0%|          | 0.00/1.13M [00:00<?, ?B/s]"
      ]
     },
     "metadata": {},
     "output_type": "display_data"
    },
    {
     "data": {
      "application/vnd.jupyter.widget-view+json": {
       "model_id": "9de9bef3d0254092adb2814529c41183",
       "version_major": 2,
       "version_minor": 0
      },
      "text/plain": [
       "E3SM-MMF.mlo.0008-02-17-39600.nc:   0%|          | 0.00/1.13M [00:00<?, ?B/s]"
      ]
     },
     "metadata": {},
     "output_type": "display_data"
    },
    {
     "data": {
      "application/vnd.jupyter.widget-view+json": {
       "model_id": "874f9b820a43417aa63b324cee02de31",
       "version_major": 2,
       "version_minor": 0
      },
      "text/plain": [
       "E3SM-MMF.mlo.0008-02-17-40800.nc:   0%|          | 0.00/1.13M [00:00<?, ?B/s]"
      ]
     },
     "metadata": {},
     "output_type": "display_data"
    },
    {
     "data": {
      "application/vnd.jupyter.widget-view+json": {
       "model_id": "14fefd9475c74f1399705eb0cff2d468",
       "version_major": 2,
       "version_minor": 0
      },
      "text/plain": [
       "E3SM-MMF.mlo.0008-02-17-42000.nc:   0%|          | 0.00/1.13M [00:00<?, ?B/s]"
      ]
     },
     "metadata": {},
     "output_type": "display_data"
    },
    {
     "data": {
      "application/vnd.jupyter.widget-view+json": {
       "model_id": "bbcc35c951a640e48242f9cce297842e",
       "version_major": 2,
       "version_minor": 0
      },
      "text/plain": [
       "E3SM-MMF.mlo.0008-02-17-43200.nc:   0%|          | 0.00/1.13M [00:00<?, ?B/s]"
      ]
     },
     "metadata": {},
     "output_type": "display_data"
    },
    {
     "data": {
      "application/vnd.jupyter.widget-view+json": {
       "model_id": "a85f9980f364432da603f6accdae4e2d",
       "version_major": 2,
       "version_minor": 0
      },
      "text/plain": [
       "E3SM-MMF.mlo.0008-02-17-44400.nc:   0%|          | 0.00/1.13M [00:00<?, ?B/s]"
      ]
     },
     "metadata": {},
     "output_type": "display_data"
    },
    {
     "data": {
      "application/vnd.jupyter.widget-view+json": {
       "model_id": "8ccd9ff04e0f4eb4bfded50faa13788c",
       "version_major": 2,
       "version_minor": 0
      },
      "text/plain": [
       "E3SM-MMF.mlo.0008-02-17-45600.nc:   0%|          | 0.00/1.13M [00:00<?, ?B/s]"
      ]
     },
     "metadata": {},
     "output_type": "display_data"
    },
    {
     "data": {
      "application/vnd.jupyter.widget-view+json": {
       "model_id": "7830ec259a404e458dca7dbc31215593",
       "version_major": 2,
       "version_minor": 0
      },
      "text/plain": [
       "E3SM-MMF.mlo.0008-02-17-46800.nc:   0%|          | 0.00/1.13M [00:00<?, ?B/s]"
      ]
     },
     "metadata": {},
     "output_type": "display_data"
    },
    {
     "data": {
      "application/vnd.jupyter.widget-view+json": {
       "model_id": "05a6ffb408e7474dbe9413b0d5ea06ca",
       "version_major": 2,
       "version_minor": 0
      },
      "text/plain": [
       "E3SM-MMF.mlo.0008-02-17-48000.nc:   0%|          | 0.00/1.13M [00:00<?, ?B/s]"
      ]
     },
     "metadata": {},
     "output_type": "display_data"
    },
    {
     "data": {
      "application/vnd.jupyter.widget-view+json": {
       "model_id": "3af692460a9e4bd8ab19fef2586ec1c4",
       "version_major": 2,
       "version_minor": 0
      },
      "text/plain": [
       "E3SM-MMF.mlo.0008-02-17-49200.nc:   0%|          | 0.00/1.13M [00:00<?, ?B/s]"
      ]
     },
     "metadata": {},
     "output_type": "display_data"
    },
    {
     "data": {
      "application/vnd.jupyter.widget-view+json": {
       "model_id": "4acde8e99cd247c9963d6ea450251976",
       "version_major": 2,
       "version_minor": 0
      },
      "text/plain": [
       "E3SM-MMF.mlo.0008-02-17-50400.nc:   0%|          | 0.00/1.13M [00:00<?, ?B/s]"
      ]
     },
     "metadata": {},
     "output_type": "display_data"
    },
    {
     "data": {
      "application/vnd.jupyter.widget-view+json": {
       "model_id": "44b30272645e441ab46bc888714f4a7b",
       "version_major": 2,
       "version_minor": 0
      },
      "text/plain": [
       "E3SM-MMF.mlo.0008-02-17-51600.nc:   0%|          | 0.00/1.13M [00:00<?, ?B/s]"
      ]
     },
     "metadata": {},
     "output_type": "display_data"
    },
    {
     "data": {
      "application/vnd.jupyter.widget-view+json": {
       "model_id": "c0c32264213642a0958b7f69a8e8340a",
       "version_major": 2,
       "version_minor": 0
      },
      "text/plain": [
       "E3SM-MMF.mlo.0008-02-17-52800.nc:   0%|          | 0.00/1.13M [00:00<?, ?B/s]"
      ]
     },
     "metadata": {},
     "output_type": "display_data"
    },
    {
     "data": {
      "application/vnd.jupyter.widget-view+json": {
       "model_id": "01b8e7d7c3244807b9fbbb0ec8a24a09",
       "version_major": 2,
       "version_minor": 0
      },
      "text/plain": [
       "E3SM-MMF.mlo.0008-02-17-54000.nc:   0%|          | 0.00/1.13M [00:00<?, ?B/s]"
      ]
     },
     "metadata": {},
     "output_type": "display_data"
    },
    {
     "data": {
      "application/vnd.jupyter.widget-view+json": {
       "model_id": "ed2d8551f9294729b991b4677840d737",
       "version_major": 2,
       "version_minor": 0
      },
      "text/plain": [
       "E3SM-MMF.mlo.0008-02-17-55200.nc:   0%|          | 0.00/1.13M [00:00<?, ?B/s]"
      ]
     },
     "metadata": {},
     "output_type": "display_data"
    },
    {
     "data": {
      "application/vnd.jupyter.widget-view+json": {
       "model_id": "ee1a080a56814a859c59c54310dac760",
       "version_major": 2,
       "version_minor": 0
      },
      "text/plain": [
       "E3SM-MMF.mlo.0008-02-17-56400.nc:   0%|          | 0.00/1.13M [00:00<?, ?B/s]"
      ]
     },
     "metadata": {},
     "output_type": "display_data"
    },
    {
     "data": {
      "application/vnd.jupyter.widget-view+json": {
       "model_id": "e08e21337bdf492f9d1ad59d2f1f27e9",
       "version_major": 2,
       "version_minor": 0
      },
      "text/plain": [
       "E3SM-MMF.mlo.0008-02-17-57600.nc:   0%|          | 0.00/1.13M [00:00<?, ?B/s]"
      ]
     },
     "metadata": {},
     "output_type": "display_data"
    },
    {
     "data": {
      "application/vnd.jupyter.widget-view+json": {
       "model_id": "792aab726127457aad626f07e72c90d3",
       "version_major": 2,
       "version_minor": 0
      },
      "text/plain": [
       "E3SM-MMF.mlo.0008-02-17-58800.nc:   0%|          | 0.00/1.13M [00:00<?, ?B/s]"
      ]
     },
     "metadata": {},
     "output_type": "display_data"
    },
    {
     "data": {
      "application/vnd.jupyter.widget-view+json": {
       "model_id": "88f171981adc4c43bc7964d85e57e7c1",
       "version_major": 2,
       "version_minor": 0
      },
      "text/plain": [
       "E3SM-MMF.mlo.0008-02-17-60000.nc:   0%|          | 0.00/1.13M [00:00<?, ?B/s]"
      ]
     },
     "metadata": {},
     "output_type": "display_data"
    },
    {
     "data": {
      "application/vnd.jupyter.widget-view+json": {
       "model_id": "12f78b946a8a4b47bd15bdd630364965",
       "version_major": 2,
       "version_minor": 0
      },
      "text/plain": [
       "E3SM-MMF.mlo.0008-02-17-61200.nc:   0%|          | 0.00/1.13M [00:00<?, ?B/s]"
      ]
     },
     "metadata": {},
     "output_type": "display_data"
    },
    {
     "data": {
      "application/vnd.jupyter.widget-view+json": {
       "model_id": "3e98d3f6a1b743258712f2d340714e94",
       "version_major": 2,
       "version_minor": 0
      },
      "text/plain": [
       "E3SM-MMF.mlo.0008-02-17-62400.nc:   0%|          | 0.00/1.13M [00:00<?, ?B/s]"
      ]
     },
     "metadata": {},
     "output_type": "display_data"
    },
    {
     "data": {
      "application/vnd.jupyter.widget-view+json": {
       "model_id": "c82ab7c3b5d9450a85bf05a6f8f6cc6c",
       "version_major": 2,
       "version_minor": 0
      },
      "text/plain": [
       "E3SM-MMF.mlo.0008-02-17-63600.nc:   0%|          | 0.00/1.13M [00:00<?, ?B/s]"
      ]
     },
     "metadata": {},
     "output_type": "display_data"
    },
    {
     "data": {
      "application/vnd.jupyter.widget-view+json": {
       "model_id": "61c588d733c04173b20d400887ea9c56",
       "version_major": 2,
       "version_minor": 0
      },
      "text/plain": [
       "E3SM-MMF.mlo.0008-02-17-64800.nc:   0%|          | 0.00/1.13M [00:00<?, ?B/s]"
      ]
     },
     "metadata": {},
     "output_type": "display_data"
    },
    {
     "data": {
      "application/vnd.jupyter.widget-view+json": {
       "model_id": "cbc4e446203141f8be4f8632fed303f2",
       "version_major": 2,
       "version_minor": 0
      },
      "text/plain": [
       "E3SM-MMF.mlo.0008-02-17-66000.nc:   0%|          | 0.00/1.13M [00:00<?, ?B/s]"
      ]
     },
     "metadata": {},
     "output_type": "display_data"
    },
    {
     "data": {
      "application/vnd.jupyter.widget-view+json": {
       "model_id": "6a8957f01ef84d339065bf9132107cfc",
       "version_major": 2,
       "version_minor": 0
      },
      "text/plain": [
       "E3SM-MMF.mlo.0008-02-17-67200.nc:   0%|          | 0.00/1.13M [00:00<?, ?B/s]"
      ]
     },
     "metadata": {},
     "output_type": "display_data"
    },
    {
     "data": {
      "application/vnd.jupyter.widget-view+json": {
       "model_id": "529007ac915e4b93ad96f769ccabbcbc",
       "version_major": 2,
       "version_minor": 0
      },
      "text/plain": [
       "E3SM-MMF.mlo.0008-02-17-68400.nc:   0%|          | 0.00/1.13M [00:00<?, ?B/s]"
      ]
     },
     "metadata": {},
     "output_type": "display_data"
    },
    {
     "data": {
      "application/vnd.jupyter.widget-view+json": {
       "model_id": "52e6b1423f3a40a5b0893f0dc29e150d",
       "version_major": 2,
       "version_minor": 0
      },
      "text/plain": [
       "E3SM-MMF.mlo.0008-02-17-69600.nc:   0%|          | 0.00/1.13M [00:00<?, ?B/s]"
      ]
     },
     "metadata": {},
     "output_type": "display_data"
    },
    {
     "data": {
      "application/vnd.jupyter.widget-view+json": {
       "model_id": "b7de88c69ed94208b013a9b5c0169769",
       "version_major": 2,
       "version_minor": 0
      },
      "text/plain": [
       "E3SM-MMF.mlo.0008-02-17-70800.nc:   0%|          | 0.00/1.13M [00:00<?, ?B/s]"
      ]
     },
     "metadata": {},
     "output_type": "display_data"
    },
    {
     "data": {
      "application/vnd.jupyter.widget-view+json": {
       "model_id": "17f199a6849d457fa337d11a760ef871",
       "version_major": 2,
       "version_minor": 0
      },
      "text/plain": [
       "E3SM-MMF.mlo.0008-02-17-72000.nc:   0%|          | 0.00/1.13M [00:00<?, ?B/s]"
      ]
     },
     "metadata": {},
     "output_type": "display_data"
    },
    {
     "data": {
      "application/vnd.jupyter.widget-view+json": {
       "model_id": "1850d006b8a04d38baa18cbcc6050b19",
       "version_major": 2,
       "version_minor": 0
      },
      "text/plain": [
       "E3SM-MMF.mlo.0008-02-17-73200.nc:   0%|          | 0.00/1.13M [00:00<?, ?B/s]"
      ]
     },
     "metadata": {},
     "output_type": "display_data"
    },
    {
     "data": {
      "application/vnd.jupyter.widget-view+json": {
       "model_id": "850c547ef6db49cbb6edeacb86e52bb1",
       "version_major": 2,
       "version_minor": 0
      },
      "text/plain": [
       "E3SM-MMF.mlo.0008-02-17-74400.nc:   0%|          | 0.00/1.13M [00:00<?, ?B/s]"
      ]
     },
     "metadata": {},
     "output_type": "display_data"
    },
    {
     "data": {
      "application/vnd.jupyter.widget-view+json": {
       "model_id": "f328aeff22de40129ae6570edbb6cfd1",
       "version_major": 2,
       "version_minor": 0
      },
      "text/plain": [
       "E3SM-MMF.mlo.0008-02-17-75600.nc:   0%|          | 0.00/1.13M [00:00<?, ?B/s]"
      ]
     },
     "metadata": {},
     "output_type": "display_data"
    },
    {
     "data": {
      "application/vnd.jupyter.widget-view+json": {
       "model_id": "1461d5651fb049c29556c7a70f3b5b5d",
       "version_major": 2,
       "version_minor": 0
      },
      "text/plain": [
       "E3SM-MMF.mlo.0008-02-17-76800.nc:   0%|          | 0.00/1.13M [00:00<?, ?B/s]"
      ]
     },
     "metadata": {},
     "output_type": "display_data"
    },
    {
     "data": {
      "application/vnd.jupyter.widget-view+json": {
       "model_id": "80a0ae6b15be4842841d615a92d071d1",
       "version_major": 2,
       "version_minor": 0
      },
      "text/plain": [
       "E3SM-MMF.mlo.0008-02-17-78000.nc:   0%|          | 0.00/1.13M [00:00<?, ?B/s]"
      ]
     },
     "metadata": {},
     "output_type": "display_data"
    },
    {
     "data": {
      "application/vnd.jupyter.widget-view+json": {
       "model_id": "81f07003f10b43ec8b5bb030a93589a9",
       "version_major": 2,
       "version_minor": 0
      },
      "text/plain": [
       "E3SM-MMF.mlo.0008-02-17-79200.nc:   0%|          | 0.00/1.13M [00:00<?, ?B/s]"
      ]
     },
     "metadata": {},
     "output_type": "display_data"
    },
    {
     "data": {
      "application/vnd.jupyter.widget-view+json": {
       "model_id": "7446bbc811d444119c3034c282e26403",
       "version_major": 2,
       "version_minor": 0
      },
      "text/plain": [
       "E3SM-MMF.mlo.0008-02-17-80400.nc:   0%|          | 0.00/1.13M [00:00<?, ?B/s]"
      ]
     },
     "metadata": {},
     "output_type": "display_data"
    },
    {
     "data": {
      "application/vnd.jupyter.widget-view+json": {
       "model_id": "a15020d8beb240a195a0e84d3e4ec8ff",
       "version_major": 2,
       "version_minor": 0
      },
      "text/plain": [
       "E3SM-MMF.mlo.0008-02-17-81600.nc:   0%|          | 0.00/1.13M [00:00<?, ?B/s]"
      ]
     },
     "metadata": {},
     "output_type": "display_data"
    },
    {
     "data": {
      "application/vnd.jupyter.widget-view+json": {
       "model_id": "2a931d38fe0d407eb297d1fe229d5437",
       "version_major": 2,
       "version_minor": 0
      },
      "text/plain": [
       "E3SM-MMF.mlo.0008-02-17-82800.nc:   0%|          | 0.00/1.13M [00:00<?, ?B/s]"
      ]
     },
     "metadata": {},
     "output_type": "display_data"
    },
    {
     "data": {
      "application/vnd.jupyter.widget-view+json": {
       "model_id": "c7c76af8fb99478f8f5472fb08f556cf",
       "version_major": 2,
       "version_minor": 0
      },
      "text/plain": [
       "E3SM-MMF.mlo.0008-02-17-84000.nc:   0%|          | 0.00/1.13M [00:00<?, ?B/s]"
      ]
     },
     "metadata": {},
     "output_type": "display_data"
    },
    {
     "data": {
      "application/vnd.jupyter.widget-view+json": {
       "model_id": "4435161419874452b4e1ac7a2e6f9d9c",
       "version_major": 2,
       "version_minor": 0
      },
      "text/plain": [
       "E3SM-MMF.mlo.0008-02-17-85200.nc:   0%|          | 0.00/1.13M [00:00<?, ?B/s]"
      ]
     },
     "metadata": {},
     "output_type": "display_data"
    },
    {
     "data": {
      "application/vnd.jupyter.widget-view+json": {
       "model_id": "fa0c9a24f894417288a44e151082cdb6",
       "version_major": 2,
       "version_minor": 0
      },
      "text/plain": [
       "E3SM-MMF.mlo.0008-02-18-00000.nc:   0%|          | 0.00/1.13M [00:00<?, ?B/s]"
      ]
     },
     "metadata": {},
     "output_type": "display_data"
    },
    {
     "data": {
      "application/vnd.jupyter.widget-view+json": {
       "model_id": "7e36542119614bfbb27f0e01b9fef54d",
       "version_major": 2,
       "version_minor": 0
      },
      "text/plain": [
       "E3SM-MMF.mlo.0008-02-18-01200.nc:   0%|          | 0.00/1.13M [00:00<?, ?B/s]"
      ]
     },
     "metadata": {},
     "output_type": "display_data"
    },
    {
     "data": {
      "application/vnd.jupyter.widget-view+json": {
       "model_id": "a505ee2269004fd68b6059a5ecc6e7a8",
       "version_major": 2,
       "version_minor": 0
      },
      "text/plain": [
       "E3SM-MMF.mlo.0008-02-18-02400.nc:   0%|          | 0.00/1.13M [00:00<?, ?B/s]"
      ]
     },
     "metadata": {},
     "output_type": "display_data"
    },
    {
     "data": {
      "application/vnd.jupyter.widget-view+json": {
       "model_id": "d69d826e04044837a4c38cd6e4f270c2",
       "version_major": 2,
       "version_minor": 0
      },
      "text/plain": [
       "E3SM-MMF.mlo.0008-02-18-03600.nc:   0%|          | 0.00/1.13M [00:00<?, ?B/s]"
      ]
     },
     "metadata": {},
     "output_type": "display_data"
    },
    {
     "data": {
      "application/vnd.jupyter.widget-view+json": {
       "model_id": "fa827815fd2e453b992995e60664d091",
       "version_major": 2,
       "version_minor": 0
      },
      "text/plain": [
       "E3SM-MMF.mlo.0008-02-18-04800.nc:   0%|          | 0.00/1.13M [00:00<?, ?B/s]"
      ]
     },
     "metadata": {},
     "output_type": "display_data"
    },
    {
     "data": {
      "application/vnd.jupyter.widget-view+json": {
       "model_id": "f7d287c3277c4a6d963180e841453ccf",
       "version_major": 2,
       "version_minor": 0
      },
      "text/plain": [
       "E3SM-MMF.mlo.0008-02-18-06000.nc:   0%|          | 0.00/1.13M [00:00<?, ?B/s]"
      ]
     },
     "metadata": {},
     "output_type": "display_data"
    },
    {
     "data": {
      "application/vnd.jupyter.widget-view+json": {
       "model_id": "2e61cdafe40443ed83f0977cd4519b00",
       "version_major": 2,
       "version_minor": 0
      },
      "text/plain": [
       "E3SM-MMF.mlo.0008-02-18-07200.nc:   0%|          | 0.00/1.13M [00:00<?, ?B/s]"
      ]
     },
     "metadata": {},
     "output_type": "display_data"
    },
    {
     "data": {
      "application/vnd.jupyter.widget-view+json": {
       "model_id": "cd4fbaf7b11a4928bf33af000820c9b6",
       "version_major": 2,
       "version_minor": 0
      },
      "text/plain": [
       "E3SM-MMF.mlo.0008-02-18-08400.nc:   0%|          | 0.00/1.13M [00:00<?, ?B/s]"
      ]
     },
     "metadata": {},
     "output_type": "display_data"
    },
    {
     "data": {
      "application/vnd.jupyter.widget-view+json": {
       "model_id": "fa837425452a489f9a2c6edb6992a7c0",
       "version_major": 2,
       "version_minor": 0
      },
      "text/plain": [
       "E3SM-MMF.mlo.0008-02-18-09600.nc:   0%|          | 0.00/1.13M [00:00<?, ?B/s]"
      ]
     },
     "metadata": {},
     "output_type": "display_data"
    },
    {
     "data": {
      "application/vnd.jupyter.widget-view+json": {
       "model_id": "99aa14a71f0c41b28ea09801942ea8b4",
       "version_major": 2,
       "version_minor": 0
      },
      "text/plain": [
       "E3SM-MMF.mlo.0008-02-18-10800.nc:   0%|          | 0.00/1.13M [00:00<?, ?B/s]"
      ]
     },
     "metadata": {},
     "output_type": "display_data"
    },
    {
     "data": {
      "application/vnd.jupyter.widget-view+json": {
       "model_id": "df35d918a5e547c4933538782bd69623",
       "version_major": 2,
       "version_minor": 0
      },
      "text/plain": [
       "E3SM-MMF.mlo.0008-02-18-12000.nc:   0%|          | 0.00/1.13M [00:00<?, ?B/s]"
      ]
     },
     "metadata": {},
     "output_type": "display_data"
    },
    {
     "data": {
      "application/vnd.jupyter.widget-view+json": {
       "model_id": "d37602d405804fd6916dc61541c13875",
       "version_major": 2,
       "version_minor": 0
      },
      "text/plain": [
       "E3SM-MMF.mlo.0008-02-18-13200.nc:   0%|          | 0.00/1.13M [00:00<?, ?B/s]"
      ]
     },
     "metadata": {},
     "output_type": "display_data"
    },
    {
     "data": {
      "application/vnd.jupyter.widget-view+json": {
       "model_id": "165c078fd8b64e41956073bba4b50cf1",
       "version_major": 2,
       "version_minor": 0
      },
      "text/plain": [
       "E3SM-MMF.mlo.0008-02-18-14400.nc:   0%|          | 0.00/1.13M [00:00<?, ?B/s]"
      ]
     },
     "metadata": {},
     "output_type": "display_data"
    },
    {
     "data": {
      "application/vnd.jupyter.widget-view+json": {
       "model_id": "613db147fe724d399c303563f99b34f6",
       "version_major": 2,
       "version_minor": 0
      },
      "text/plain": [
       "E3SM-MMF.mlo.0008-02-18-15600.nc:   0%|          | 0.00/1.13M [00:00<?, ?B/s]"
      ]
     },
     "metadata": {},
     "output_type": "display_data"
    },
    {
     "data": {
      "application/vnd.jupyter.widget-view+json": {
       "model_id": "a6ef917700ee4ee795337ff3d33a0e0f",
       "version_major": 2,
       "version_minor": 0
      },
      "text/plain": [
       "E3SM-MMF.mlo.0008-02-18-16800.nc:   0%|          | 0.00/1.13M [00:00<?, ?B/s]"
      ]
     },
     "metadata": {},
     "output_type": "display_data"
    },
    {
     "data": {
      "application/vnd.jupyter.widget-view+json": {
       "model_id": "5fe00ee49d654f47bbc4f1bbc7fdd2d8",
       "version_major": 2,
       "version_minor": 0
      },
      "text/plain": [
       "E3SM-MMF.mlo.0008-02-18-18000.nc:   0%|          | 0.00/1.13M [00:00<?, ?B/s]"
      ]
     },
     "metadata": {},
     "output_type": "display_data"
    },
    {
     "data": {
      "application/vnd.jupyter.widget-view+json": {
       "model_id": "0c693abe9fef4276914d72dfefb96325",
       "version_major": 2,
       "version_minor": 0
      },
      "text/plain": [
       "E3SM-MMF.mlo.0008-02-18-19200.nc:   0%|          | 0.00/1.13M [00:00<?, ?B/s]"
      ]
     },
     "metadata": {},
     "output_type": "display_data"
    },
    {
     "data": {
      "application/vnd.jupyter.widget-view+json": {
       "model_id": "7abac2e644ab4b30a8afeb52df3a8a04",
       "version_major": 2,
       "version_minor": 0
      },
      "text/plain": [
       "E3SM-MMF.mlo.0008-02-18-20400.nc:   0%|          | 0.00/1.13M [00:00<?, ?B/s]"
      ]
     },
     "metadata": {},
     "output_type": "display_data"
    },
    {
     "data": {
      "application/vnd.jupyter.widget-view+json": {
       "model_id": "76e62176baf347a69b90b0e8df51e787",
       "version_major": 2,
       "version_minor": 0
      },
      "text/plain": [
       "E3SM-MMF.mlo.0008-02-18-21600.nc:   0%|          | 0.00/1.13M [00:00<?, ?B/s]"
      ]
     },
     "metadata": {},
     "output_type": "display_data"
    },
    {
     "data": {
      "application/vnd.jupyter.widget-view+json": {
       "model_id": "c69a383c4ea54c3f96c55f633b60cec7",
       "version_major": 2,
       "version_minor": 0
      },
      "text/plain": [
       "E3SM-MMF.mlo.0008-02-18-22800.nc:   0%|          | 0.00/1.13M [00:00<?, ?B/s]"
      ]
     },
     "metadata": {},
     "output_type": "display_data"
    },
    {
     "data": {
      "application/vnd.jupyter.widget-view+json": {
       "model_id": "1d26fad84ec64beca834b217fd9937ec",
       "version_major": 2,
       "version_minor": 0
      },
      "text/plain": [
       "E3SM-MMF.mlo.0008-02-18-24000.nc:   0%|          | 0.00/1.13M [00:00<?, ?B/s]"
      ]
     },
     "metadata": {},
     "output_type": "display_data"
    },
    {
     "data": {
      "application/vnd.jupyter.widget-view+json": {
       "model_id": "b074570db3ff47608ebadd1cd79d27bf",
       "version_major": 2,
       "version_minor": 0
      },
      "text/plain": [
       "E3SM-MMF.mlo.0008-02-18-25200.nc:   0%|          | 0.00/1.13M [00:00<?, ?B/s]"
      ]
     },
     "metadata": {},
     "output_type": "display_data"
    },
    {
     "data": {
      "application/vnd.jupyter.widget-view+json": {
       "model_id": "10310d4e827c46c58a06133c0169d146",
       "version_major": 2,
       "version_minor": 0
      },
      "text/plain": [
       "E3SM-MMF.mlo.0008-02-18-26400.nc:   0%|          | 0.00/1.13M [00:00<?, ?B/s]"
      ]
     },
     "metadata": {},
     "output_type": "display_data"
    },
    {
     "data": {
      "application/vnd.jupyter.widget-view+json": {
       "model_id": "d7bc071e30d24e3eb30cf6cee78e86bc",
       "version_major": 2,
       "version_minor": 0
      },
      "text/plain": [
       "E3SM-MMF.mlo.0008-02-18-27600.nc:   0%|          | 0.00/1.13M [00:00<?, ?B/s]"
      ]
     },
     "metadata": {},
     "output_type": "display_data"
    },
    {
     "data": {
      "application/vnd.jupyter.widget-view+json": {
       "model_id": "dde323ed9dbc4953a6c94f95f2888ea4",
       "version_major": 2,
       "version_minor": 0
      },
      "text/plain": [
       "E3SM-MMF.mlo.0008-02-18-28800.nc:   0%|          | 0.00/1.13M [00:00<?, ?B/s]"
      ]
     },
     "metadata": {},
     "output_type": "display_data"
    },
    {
     "data": {
      "application/vnd.jupyter.widget-view+json": {
       "model_id": "204a53bb67c64643b945eeb27674d1a2",
       "version_major": 2,
       "version_minor": 0
      },
      "text/plain": [
       "E3SM-MMF.mlo.0008-02-18-30000.nc:   0%|          | 0.00/1.13M [00:00<?, ?B/s]"
      ]
     },
     "metadata": {},
     "output_type": "display_data"
    },
    {
     "data": {
      "application/vnd.jupyter.widget-view+json": {
       "model_id": "ce8c9c3e02614a56b6570616dc3bbac4",
       "version_major": 2,
       "version_minor": 0
      },
      "text/plain": [
       "E3SM-MMF.mlo.0008-02-18-31200.nc:   0%|          | 0.00/1.13M [00:00<?, ?B/s]"
      ]
     },
     "metadata": {},
     "output_type": "display_data"
    },
    {
     "data": {
      "application/vnd.jupyter.widget-view+json": {
       "model_id": "222fed6930d747219d12966e8e4a1f1c",
       "version_major": 2,
       "version_minor": 0
      },
      "text/plain": [
       "E3SM-MMF.mlo.0008-02-18-32400.nc:   0%|          | 0.00/1.13M [00:00<?, ?B/s]"
      ]
     },
     "metadata": {},
     "output_type": "display_data"
    },
    {
     "data": {
      "application/vnd.jupyter.widget-view+json": {
       "model_id": "5ab5a4590c60442ca039cfc3193d45a9",
       "version_major": 2,
       "version_minor": 0
      },
      "text/plain": [
       "E3SM-MMF.mlo.0008-02-18-33600.nc:   0%|          | 0.00/1.13M [00:00<?, ?B/s]"
      ]
     },
     "metadata": {},
     "output_type": "display_data"
    },
    {
     "data": {
      "application/vnd.jupyter.widget-view+json": {
       "model_id": "c7fd233a5c8147a99a2f6bf9a354432f",
       "version_major": 2,
       "version_minor": 0
      },
      "text/plain": [
       "E3SM-MMF.mlo.0008-02-18-34800.nc:   0%|          | 0.00/1.13M [00:00<?, ?B/s]"
      ]
     },
     "metadata": {},
     "output_type": "display_data"
    },
    {
     "data": {
      "application/vnd.jupyter.widget-view+json": {
       "model_id": "56fce0f971de4daf85e20ef852409446",
       "version_major": 2,
       "version_minor": 0
      },
      "text/plain": [
       "E3SM-MMF.mlo.0008-02-18-36000.nc:   0%|          | 0.00/1.13M [00:00<?, ?B/s]"
      ]
     },
     "metadata": {},
     "output_type": "display_data"
    },
    {
     "data": {
      "application/vnd.jupyter.widget-view+json": {
       "model_id": "61ca1c1cfe644547a6bab5a5f9b53f9d",
       "version_major": 2,
       "version_minor": 0
      },
      "text/plain": [
       "E3SM-MMF.mlo.0008-02-18-37200.nc:   0%|          | 0.00/1.13M [00:00<?, ?B/s]"
      ]
     },
     "metadata": {},
     "output_type": "display_data"
    },
    {
     "data": {
      "application/vnd.jupyter.widget-view+json": {
       "model_id": "d0155f274e1b4bc0aaa7cc9fa08a194f",
       "version_major": 2,
       "version_minor": 0
      },
      "text/plain": [
       "E3SM-MMF.mlo.0008-02-18-38400.nc:   0%|          | 0.00/1.13M [00:00<?, ?B/s]"
      ]
     },
     "metadata": {},
     "output_type": "display_data"
    },
    {
     "data": {
      "application/vnd.jupyter.widget-view+json": {
       "model_id": "88b88d6e0afd43a3a55ba4f94efb06c9",
       "version_major": 2,
       "version_minor": 0
      },
      "text/plain": [
       "E3SM-MMF.mlo.0008-02-18-39600.nc:   0%|          | 0.00/1.13M [00:00<?, ?B/s]"
      ]
     },
     "metadata": {},
     "output_type": "display_data"
    },
    {
     "data": {
      "application/vnd.jupyter.widget-view+json": {
       "model_id": "a81c2f6e3b1f4685809f7f43432ee729",
       "version_major": 2,
       "version_minor": 0
      },
      "text/plain": [
       "E3SM-MMF.mlo.0008-02-18-40800.nc:   0%|          | 0.00/1.13M [00:00<?, ?B/s]"
      ]
     },
     "metadata": {},
     "output_type": "display_data"
    },
    {
     "data": {
      "application/vnd.jupyter.widget-view+json": {
       "model_id": "2d7e03064b2a4b37a658e55caec82740",
       "version_major": 2,
       "version_minor": 0
      },
      "text/plain": [
       "E3SM-MMF.mlo.0008-02-18-42000.nc:   0%|          | 0.00/1.13M [00:00<?, ?B/s]"
      ]
     },
     "metadata": {},
     "output_type": "display_data"
    },
    {
     "data": {
      "application/vnd.jupyter.widget-view+json": {
       "model_id": "571f0044ec0441769e68e1962e7e6fa0",
       "version_major": 2,
       "version_minor": 0
      },
      "text/plain": [
       "E3SM-MMF.mlo.0008-02-18-43200.nc:   0%|          | 0.00/1.13M [00:00<?, ?B/s]"
      ]
     },
     "metadata": {},
     "output_type": "display_data"
    },
    {
     "data": {
      "application/vnd.jupyter.widget-view+json": {
       "model_id": "b439830f36ae4152bd3db594fa100121",
       "version_major": 2,
       "version_minor": 0
      },
      "text/plain": [
       "E3SM-MMF.mlo.0008-02-18-44400.nc:   0%|          | 0.00/1.13M [00:00<?, ?B/s]"
      ]
     },
     "metadata": {},
     "output_type": "display_data"
    },
    {
     "data": {
      "application/vnd.jupyter.widget-view+json": {
       "model_id": "db1b4ba94daa4c30badeaa2057721664",
       "version_major": 2,
       "version_minor": 0
      },
      "text/plain": [
       "E3SM-MMF.mlo.0008-02-18-45600.nc:   0%|          | 0.00/1.13M [00:00<?, ?B/s]"
      ]
     },
     "metadata": {},
     "output_type": "display_data"
    },
    {
     "data": {
      "application/vnd.jupyter.widget-view+json": {
       "model_id": "aca800023e704b5f9bf6101202cd5c73",
       "version_major": 2,
       "version_minor": 0
      },
      "text/plain": [
       "E3SM-MMF.mlo.0008-02-18-46800.nc:   0%|          | 0.00/1.13M [00:00<?, ?B/s]"
      ]
     },
     "metadata": {},
     "output_type": "display_data"
    },
    {
     "data": {
      "application/vnd.jupyter.widget-view+json": {
       "model_id": "0678b4e93ec340dda6a3d246ed12d1ae",
       "version_major": 2,
       "version_minor": 0
      },
      "text/plain": [
       "E3SM-MMF.mlo.0008-02-18-48000.nc:   0%|          | 0.00/1.13M [00:00<?, ?B/s]"
      ]
     },
     "metadata": {},
     "output_type": "display_data"
    },
    {
     "data": {
      "application/vnd.jupyter.widget-view+json": {
       "model_id": "0430eb776e824faa80eec001be36298a",
       "version_major": 2,
       "version_minor": 0
      },
      "text/plain": [
       "E3SM-MMF.mlo.0008-02-18-49200.nc:   0%|          | 0.00/1.13M [00:00<?, ?B/s]"
      ]
     },
     "metadata": {},
     "output_type": "display_data"
    },
    {
     "data": {
      "application/vnd.jupyter.widget-view+json": {
       "model_id": "1f056c32883f4ce281f701c10e99b71e",
       "version_major": 2,
       "version_minor": 0
      },
      "text/plain": [
       "E3SM-MMF.mlo.0008-02-18-50400.nc:   0%|          | 0.00/1.13M [00:00<?, ?B/s]"
      ]
     },
     "metadata": {},
     "output_type": "display_data"
    },
    {
     "data": {
      "application/vnd.jupyter.widget-view+json": {
       "model_id": "f9608d36b8204379856306bdeee3032f",
       "version_major": 2,
       "version_minor": 0
      },
      "text/plain": [
       "E3SM-MMF.mlo.0008-02-18-51600.nc:   0%|          | 0.00/1.13M [00:00<?, ?B/s]"
      ]
     },
     "metadata": {},
     "output_type": "display_data"
    },
    {
     "data": {
      "application/vnd.jupyter.widget-view+json": {
       "model_id": "8f949179be874e88aa013a6935ed78bd",
       "version_major": 2,
       "version_minor": 0
      },
      "text/plain": [
       "E3SM-MMF.mlo.0008-02-18-52800.nc:   0%|          | 0.00/1.13M [00:00<?, ?B/s]"
      ]
     },
     "metadata": {},
     "output_type": "display_data"
    },
    {
     "data": {
      "application/vnd.jupyter.widget-view+json": {
       "model_id": "50707524c2bb43788d8119b109be6fee",
       "version_major": 2,
       "version_minor": 0
      },
      "text/plain": [
       "E3SM-MMF.mlo.0008-02-18-54000.nc:   0%|          | 0.00/1.13M [00:00<?, ?B/s]"
      ]
     },
     "metadata": {},
     "output_type": "display_data"
    },
    {
     "data": {
      "application/vnd.jupyter.widget-view+json": {
       "model_id": "f63c008bee93407b8b4710e8eba87264",
       "version_major": 2,
       "version_minor": 0
      },
      "text/plain": [
       "E3SM-MMF.mlo.0008-02-18-55200.nc:   0%|          | 0.00/1.13M [00:00<?, ?B/s]"
      ]
     },
     "metadata": {},
     "output_type": "display_data"
    },
    {
     "data": {
      "application/vnd.jupyter.widget-view+json": {
       "model_id": "737d5a326ad94de985de928b895dbaf0",
       "version_major": 2,
       "version_minor": 0
      },
      "text/plain": [
       "E3SM-MMF.mlo.0008-02-18-56400.nc:   0%|          | 0.00/1.13M [00:00<?, ?B/s]"
      ]
     },
     "metadata": {},
     "output_type": "display_data"
    },
    {
     "data": {
      "application/vnd.jupyter.widget-view+json": {
       "model_id": "2c7bb8de6d9a4baa8398607a70922dbe",
       "version_major": 2,
       "version_minor": 0
      },
      "text/plain": [
       "E3SM-MMF.mlo.0008-02-18-57600.nc:   0%|          | 0.00/1.13M [00:00<?, ?B/s]"
      ]
     },
     "metadata": {},
     "output_type": "display_data"
    },
    {
     "data": {
      "application/vnd.jupyter.widget-view+json": {
       "model_id": "59f9a2f46ada4553a15f617018ff18ad",
       "version_major": 2,
       "version_minor": 0
      },
      "text/plain": [
       "E3SM-MMF.mlo.0008-02-18-58800.nc:   0%|          | 0.00/1.13M [00:00<?, ?B/s]"
      ]
     },
     "metadata": {},
     "output_type": "display_data"
    },
    {
     "data": {
      "application/vnd.jupyter.widget-view+json": {
       "model_id": "10b222f6e66341c8b75cab4ceae1eeda",
       "version_major": 2,
       "version_minor": 0
      },
      "text/plain": [
       "E3SM-MMF.mlo.0008-02-18-60000.nc:   0%|          | 0.00/1.13M [00:00<?, ?B/s]"
      ]
     },
     "metadata": {},
     "output_type": "display_data"
    },
    {
     "data": {
      "application/vnd.jupyter.widget-view+json": {
       "model_id": "91f906a8b64f4599a091e4e454dfc4e0",
       "version_major": 2,
       "version_minor": 0
      },
      "text/plain": [
       "E3SM-MMF.mlo.0008-02-18-61200.nc:   0%|          | 0.00/1.13M [00:00<?, ?B/s]"
      ]
     },
     "metadata": {},
     "output_type": "display_data"
    },
    {
     "data": {
      "application/vnd.jupyter.widget-view+json": {
       "model_id": "8f404b9e4e1440a2b9e5eb7f726a7589",
       "version_major": 2,
       "version_minor": 0
      },
      "text/plain": [
       "E3SM-MMF.mlo.0008-02-18-62400.nc:   0%|          | 0.00/1.13M [00:00<?, ?B/s]"
      ]
     },
     "metadata": {},
     "output_type": "display_data"
    },
    {
     "data": {
      "application/vnd.jupyter.widget-view+json": {
       "model_id": "c1018f0af09d45dd875554739dd99fbc",
       "version_major": 2,
       "version_minor": 0
      },
      "text/plain": [
       "E3SM-MMF.mlo.0008-02-18-63600.nc:   0%|          | 0.00/1.13M [00:00<?, ?B/s]"
      ]
     },
     "metadata": {},
     "output_type": "display_data"
    },
    {
     "data": {
      "application/vnd.jupyter.widget-view+json": {
       "model_id": "584ac9ebcf7b4bb99008d777ddaa0fad",
       "version_major": 2,
       "version_minor": 0
      },
      "text/plain": [
       "E3SM-MMF.mlo.0008-02-18-64800.nc:   0%|          | 0.00/1.13M [00:00<?, ?B/s]"
      ]
     },
     "metadata": {},
     "output_type": "display_data"
    },
    {
     "data": {
      "application/vnd.jupyter.widget-view+json": {
       "model_id": "8be43e7329294213bf552ecdc28ec4a0",
       "version_major": 2,
       "version_minor": 0
      },
      "text/plain": [
       "E3SM-MMF.mlo.0008-02-18-66000.nc:   0%|          | 0.00/1.13M [00:00<?, ?B/s]"
      ]
     },
     "metadata": {},
     "output_type": "display_data"
    },
    {
     "data": {
      "application/vnd.jupyter.widget-view+json": {
       "model_id": "855d21b852e64d1c9e64f976e61605b3",
       "version_major": 2,
       "version_minor": 0
      },
      "text/plain": [
       "E3SM-MMF.mlo.0008-02-18-67200.nc:   0%|          | 0.00/1.13M [00:00<?, ?B/s]"
      ]
     },
     "metadata": {},
     "output_type": "display_data"
    },
    {
     "data": {
      "application/vnd.jupyter.widget-view+json": {
       "model_id": "d9bf73ac887f4214a14103234648e221",
       "version_major": 2,
       "version_minor": 0
      },
      "text/plain": [
       "E3SM-MMF.mlo.0008-02-18-68400.nc:   0%|          | 0.00/1.13M [00:00<?, ?B/s]"
      ]
     },
     "metadata": {},
     "output_type": "display_data"
    },
    {
     "data": {
      "application/vnd.jupyter.widget-view+json": {
       "model_id": "a7e2d966d23b4591bc9b4d5fee555e15",
       "version_major": 2,
       "version_minor": 0
      },
      "text/plain": [
       "E3SM-MMF.mlo.0008-02-18-69600.nc:   0%|          | 0.00/1.13M [00:00<?, ?B/s]"
      ]
     },
     "metadata": {},
     "output_type": "display_data"
    },
    {
     "data": {
      "application/vnd.jupyter.widget-view+json": {
       "model_id": "7872bfebb74f484bbe471008b45a1679",
       "version_major": 2,
       "version_minor": 0
      },
      "text/plain": [
       "E3SM-MMF.mlo.0008-02-18-70800.nc:   0%|          | 0.00/1.13M [00:00<?, ?B/s]"
      ]
     },
     "metadata": {},
     "output_type": "display_data"
    },
    {
     "data": {
      "application/vnd.jupyter.widget-view+json": {
       "model_id": "000fad98364c4d52b0c8daf30dac9254",
       "version_major": 2,
       "version_minor": 0
      },
      "text/plain": [
       "E3SM-MMF.mlo.0008-02-18-72000.nc:   0%|          | 0.00/1.13M [00:00<?, ?B/s]"
      ]
     },
     "metadata": {},
     "output_type": "display_data"
    },
    {
     "data": {
      "application/vnd.jupyter.widget-view+json": {
       "model_id": "9305f031d9154dd2b0769c6c982719e8",
       "version_major": 2,
       "version_minor": 0
      },
      "text/plain": [
       "E3SM-MMF.mlo.0008-02-18-73200.nc:   0%|          | 0.00/1.13M [00:00<?, ?B/s]"
      ]
     },
     "metadata": {},
     "output_type": "display_data"
    },
    {
     "data": {
      "application/vnd.jupyter.widget-view+json": {
       "model_id": "de2fe4d7fdbb4fe5bdd36d274b18bb54",
       "version_major": 2,
       "version_minor": 0
      },
      "text/plain": [
       "E3SM-MMF.mlo.0008-02-18-74400.nc:   0%|          | 0.00/1.13M [00:00<?, ?B/s]"
      ]
     },
     "metadata": {},
     "output_type": "display_data"
    },
    {
     "data": {
      "application/vnd.jupyter.widget-view+json": {
       "model_id": "2417b6f01314437f9385cee23c709ce3",
       "version_major": 2,
       "version_minor": 0
      },
      "text/plain": [
       "E3SM-MMF.mlo.0008-02-18-75600.nc:   0%|          | 0.00/1.13M [00:00<?, ?B/s]"
      ]
     },
     "metadata": {},
     "output_type": "display_data"
    },
    {
     "data": {
      "application/vnd.jupyter.widget-view+json": {
       "model_id": "a9f51bd9de2b4b7b935051e611535893",
       "version_major": 2,
       "version_minor": 0
      },
      "text/plain": [
       "E3SM-MMF.mlo.0008-02-18-76800.nc:   0%|          | 0.00/1.13M [00:00<?, ?B/s]"
      ]
     },
     "metadata": {},
     "output_type": "display_data"
    },
    {
     "data": {
      "application/vnd.jupyter.widget-view+json": {
       "model_id": "b40f6be01e714dc0a7f892d231d7db7d",
       "version_major": 2,
       "version_minor": 0
      },
      "text/plain": [
       "E3SM-MMF.mlo.0008-02-18-78000.nc:   0%|          | 0.00/1.13M [00:00<?, ?B/s]"
      ]
     },
     "metadata": {},
     "output_type": "display_data"
    },
    {
     "data": {
      "application/vnd.jupyter.widget-view+json": {
       "model_id": "eb8e0ee5b37b4518acc5ba85c8e66b4c",
       "version_major": 2,
       "version_minor": 0
      },
      "text/plain": [
       "E3SM-MMF.mlo.0008-02-18-79200.nc:   0%|          | 0.00/1.13M [00:00<?, ?B/s]"
      ]
     },
     "metadata": {},
     "output_type": "display_data"
    },
    {
     "data": {
      "application/vnd.jupyter.widget-view+json": {
       "model_id": "3107d235f8784ccd90bb5afe88af3285",
       "version_major": 2,
       "version_minor": 0
      },
      "text/plain": [
       "E3SM-MMF.mlo.0008-02-18-80400.nc:   0%|          | 0.00/1.13M [00:00<?, ?B/s]"
      ]
     },
     "metadata": {},
     "output_type": "display_data"
    },
    {
     "data": {
      "application/vnd.jupyter.widget-view+json": {
       "model_id": "7ad48ee5a16c4939b18c24c09876fce8",
       "version_major": 2,
       "version_minor": 0
      },
      "text/plain": [
       "E3SM-MMF.mlo.0008-02-18-81600.nc:   0%|          | 0.00/1.13M [00:00<?, ?B/s]"
      ]
     },
     "metadata": {},
     "output_type": "display_data"
    },
    {
     "data": {
      "application/vnd.jupyter.widget-view+json": {
       "model_id": "3abfca28d16741f6aedd778904982ded",
       "version_major": 2,
       "version_minor": 0
      },
      "text/plain": [
       "E3SM-MMF.mlo.0008-02-18-82800.nc:   0%|          | 0.00/1.13M [00:00<?, ?B/s]"
      ]
     },
     "metadata": {},
     "output_type": "display_data"
    },
    {
     "data": {
      "application/vnd.jupyter.widget-view+json": {
       "model_id": "0c4f155a653844cf89850da00f282486",
       "version_major": 2,
       "version_minor": 0
      },
      "text/plain": [
       "E3SM-MMF.mlo.0008-02-18-84000.nc:   0%|          | 0.00/1.13M [00:00<?, ?B/s]"
      ]
     },
     "metadata": {},
     "output_type": "display_data"
    },
    {
     "data": {
      "application/vnd.jupyter.widget-view+json": {
       "model_id": "f99e43d77c594438871278735c0e5c55",
       "version_major": 2,
       "version_minor": 0
      },
      "text/plain": [
       "E3SM-MMF.mlo.0008-02-18-85200.nc:   0%|          | 0.00/1.13M [00:00<?, ?B/s]"
      ]
     },
     "metadata": {},
     "output_type": "display_data"
    },
    {
     "data": {
      "application/vnd.jupyter.widget-view+json": {
       "model_id": "4c028eb41dd4433d876a6589a1d9a1ed",
       "version_major": 2,
       "version_minor": 0
      },
      "text/plain": [
       "E3SM-MMF.mlo.0008-02-19-00000.nc:   0%|          | 0.00/1.13M [00:00<?, ?B/s]"
      ]
     },
     "metadata": {},
     "output_type": "display_data"
    },
    {
     "data": {
      "application/vnd.jupyter.widget-view+json": {
       "model_id": "ea9e73ca59ba4053bf94378f49c64b1c",
       "version_major": 2,
       "version_minor": 0
      },
      "text/plain": [
       "E3SM-MMF.mlo.0008-02-19-01200.nc:   0%|          | 0.00/1.13M [00:00<?, ?B/s]"
      ]
     },
     "metadata": {},
     "output_type": "display_data"
    },
    {
     "data": {
      "application/vnd.jupyter.widget-view+json": {
       "model_id": "939502d3200042dc867ed37fa6761f41",
       "version_major": 2,
       "version_minor": 0
      },
      "text/plain": [
       "E3SM-MMF.mlo.0008-02-19-02400.nc:   0%|          | 0.00/1.13M [00:00<?, ?B/s]"
      ]
     },
     "metadata": {},
     "output_type": "display_data"
    },
    {
     "data": {
      "application/vnd.jupyter.widget-view+json": {
       "model_id": "2fc471f6883047959b926ff595fb0ac6",
       "version_major": 2,
       "version_minor": 0
      },
      "text/plain": [
       "E3SM-MMF.mlo.0008-02-19-03600.nc:   0%|          | 0.00/1.13M [00:00<?, ?B/s]"
      ]
     },
     "metadata": {},
     "output_type": "display_data"
    },
    {
     "data": {
      "application/vnd.jupyter.widget-view+json": {
       "model_id": "424694e65419415ebb37ba2f8d77e851",
       "version_major": 2,
       "version_minor": 0
      },
      "text/plain": [
       "E3SM-MMF.mlo.0008-02-19-04800.nc:   0%|          | 0.00/1.13M [00:00<?, ?B/s]"
      ]
     },
     "metadata": {},
     "output_type": "display_data"
    },
    {
     "data": {
      "application/vnd.jupyter.widget-view+json": {
       "model_id": "44edb1b665c9451da418b8a097d4b201",
       "version_major": 2,
       "version_minor": 0
      },
      "text/plain": [
       "E3SM-MMF.mlo.0008-02-19-06000.nc:   0%|          | 0.00/1.13M [00:00<?, ?B/s]"
      ]
     },
     "metadata": {},
     "output_type": "display_data"
    },
    {
     "data": {
      "application/vnd.jupyter.widget-view+json": {
       "model_id": "8dbe43af061e48a588a8c763bff6d5cb",
       "version_major": 2,
       "version_minor": 0
      },
      "text/plain": [
       "E3SM-MMF.mlo.0008-02-19-07200.nc:   0%|          | 0.00/1.13M [00:00<?, ?B/s]"
      ]
     },
     "metadata": {},
     "output_type": "display_data"
    },
    {
     "data": {
      "application/vnd.jupyter.widget-view+json": {
       "model_id": "297cb5c9c2514dbca018eaca03dc196c",
       "version_major": 2,
       "version_minor": 0
      },
      "text/plain": [
       "E3SM-MMF.mlo.0008-02-19-08400.nc:   0%|          | 0.00/1.13M [00:00<?, ?B/s]"
      ]
     },
     "metadata": {},
     "output_type": "display_data"
    },
    {
     "data": {
      "application/vnd.jupyter.widget-view+json": {
       "model_id": "3c481099cc3444adab5dbae0ee61a9b6",
       "version_major": 2,
       "version_minor": 0
      },
      "text/plain": [
       "E3SM-MMF.mlo.0008-02-19-09600.nc:   0%|          | 0.00/1.13M [00:00<?, ?B/s]"
      ]
     },
     "metadata": {},
     "output_type": "display_data"
    },
    {
     "data": {
      "application/vnd.jupyter.widget-view+json": {
       "model_id": "dc63e8ca5d93473f95512242132cd33a",
       "version_major": 2,
       "version_minor": 0
      },
      "text/plain": [
       "E3SM-MMF.mlo.0008-02-19-10800.nc:   0%|          | 0.00/1.13M [00:00<?, ?B/s]"
      ]
     },
     "metadata": {},
     "output_type": "display_data"
    },
    {
     "data": {
      "application/vnd.jupyter.widget-view+json": {
       "model_id": "8aeae314abe04d2cb14d908797e7aefd",
       "version_major": 2,
       "version_minor": 0
      },
      "text/plain": [
       "E3SM-MMF.mlo.0008-02-19-12000.nc:   0%|          | 0.00/1.13M [00:00<?, ?B/s]"
      ]
     },
     "metadata": {},
     "output_type": "display_data"
    },
    {
     "data": {
      "application/vnd.jupyter.widget-view+json": {
       "model_id": "c3775802ac074bd49dc300cbb88e6091",
       "version_major": 2,
       "version_minor": 0
      },
      "text/plain": [
       "E3SM-MMF.mlo.0008-02-19-13200.nc:   0%|          | 0.00/1.13M [00:00<?, ?B/s]"
      ]
     },
     "metadata": {},
     "output_type": "display_data"
    },
    {
     "data": {
      "application/vnd.jupyter.widget-view+json": {
       "model_id": "fd7ca3dbde8e46c0b1a96c651a5763bd",
       "version_major": 2,
       "version_minor": 0
      },
      "text/plain": [
       "E3SM-MMF.mlo.0008-02-19-14400.nc:   0%|          | 0.00/1.13M [00:00<?, ?B/s]"
      ]
     },
     "metadata": {},
     "output_type": "display_data"
    },
    {
     "data": {
      "application/vnd.jupyter.widget-view+json": {
       "model_id": "dbf15f0dffc84a21aeb44b2e0952c7a0",
       "version_major": 2,
       "version_minor": 0
      },
      "text/plain": [
       "E3SM-MMF.mlo.0008-02-19-15600.nc:   0%|          | 0.00/1.13M [00:00<?, ?B/s]"
      ]
     },
     "metadata": {},
     "output_type": "display_data"
    },
    {
     "data": {
      "application/vnd.jupyter.widget-view+json": {
       "model_id": "d6ec7c36cc344c439d0db2c4aad9d572",
       "version_major": 2,
       "version_minor": 0
      },
      "text/plain": [
       "E3SM-MMF.mlo.0008-02-19-16800.nc:   0%|          | 0.00/1.13M [00:00<?, ?B/s]"
      ]
     },
     "metadata": {},
     "output_type": "display_data"
    },
    {
     "data": {
      "application/vnd.jupyter.widget-view+json": {
       "model_id": "660fc1f24b92411a8efcc59b6c1a9ba7",
       "version_major": 2,
       "version_minor": 0
      },
      "text/plain": [
       "E3SM-MMF.mlo.0008-02-19-18000.nc:   0%|          | 0.00/1.13M [00:00<?, ?B/s]"
      ]
     },
     "metadata": {},
     "output_type": "display_data"
    },
    {
     "data": {
      "application/vnd.jupyter.widget-view+json": {
       "model_id": "930fdfd8866e4b2086904c7a9776af36",
       "version_major": 2,
       "version_minor": 0
      },
      "text/plain": [
       "E3SM-MMF.mlo.0008-02-19-19200.nc:   0%|          | 0.00/1.13M [00:00<?, ?B/s]"
      ]
     },
     "metadata": {},
     "output_type": "display_data"
    },
    {
     "data": {
      "application/vnd.jupyter.widget-view+json": {
       "model_id": "72791028c46d42d4b31fbf777df5e91c",
       "version_major": 2,
       "version_minor": 0
      },
      "text/plain": [
       "E3SM-MMF.mlo.0008-02-19-20400.nc:   0%|          | 0.00/1.13M [00:00<?, ?B/s]"
      ]
     },
     "metadata": {},
     "output_type": "display_data"
    },
    {
     "data": {
      "application/vnd.jupyter.widget-view+json": {
       "model_id": "8e33ef906cb9476dbdcdff811aea105d",
       "version_major": 2,
       "version_minor": 0
      },
      "text/plain": [
       "E3SM-MMF.mlo.0008-02-19-21600.nc:   0%|          | 0.00/1.13M [00:00<?, ?B/s]"
      ]
     },
     "metadata": {},
     "output_type": "display_data"
    },
    {
     "data": {
      "application/vnd.jupyter.widget-view+json": {
       "model_id": "2583086a84ef4530b1db2f2a94b59efa",
       "version_major": 2,
       "version_minor": 0
      },
      "text/plain": [
       "E3SM-MMF.mlo.0008-02-19-22800.nc:   0%|          | 0.00/1.13M [00:00<?, ?B/s]"
      ]
     },
     "metadata": {},
     "output_type": "display_data"
    },
    {
     "data": {
      "application/vnd.jupyter.widget-view+json": {
       "model_id": "2be3c4a3c34e4434af2e08bc84efe175",
       "version_major": 2,
       "version_minor": 0
      },
      "text/plain": [
       "E3SM-MMF.mlo.0008-02-19-24000.nc:   0%|          | 0.00/1.13M [00:00<?, ?B/s]"
      ]
     },
     "metadata": {},
     "output_type": "display_data"
    },
    {
     "data": {
      "application/vnd.jupyter.widget-view+json": {
       "model_id": "05c77f18a7284d14b186bc5e040f4416",
       "version_major": 2,
       "version_minor": 0
      },
      "text/plain": [
       "E3SM-MMF.mlo.0008-02-19-25200.nc:   0%|          | 0.00/1.13M [00:00<?, ?B/s]"
      ]
     },
     "metadata": {},
     "output_type": "display_data"
    },
    {
     "data": {
      "application/vnd.jupyter.widget-view+json": {
       "model_id": "bfbd647291c84192b05ba5ae9c6b8975",
       "version_major": 2,
       "version_minor": 0
      },
      "text/plain": [
       "E3SM-MMF.mlo.0008-02-19-26400.nc:   0%|          | 0.00/1.13M [00:00<?, ?B/s]"
      ]
     },
     "metadata": {},
     "output_type": "display_data"
    },
    {
     "data": {
      "application/vnd.jupyter.widget-view+json": {
       "model_id": "2a31f493a6d84d9d9c89f6152907b1ab",
       "version_major": 2,
       "version_minor": 0
      },
      "text/plain": [
       "E3SM-MMF.mlo.0008-02-19-27600.nc:   0%|          | 0.00/1.13M [00:00<?, ?B/s]"
      ]
     },
     "metadata": {},
     "output_type": "display_data"
    },
    {
     "data": {
      "application/vnd.jupyter.widget-view+json": {
       "model_id": "446a937352414474ba334ebc402eff05",
       "version_major": 2,
       "version_minor": 0
      },
      "text/plain": [
       "E3SM-MMF.mlo.0008-02-19-28800.nc:   0%|          | 0.00/1.13M [00:00<?, ?B/s]"
      ]
     },
     "metadata": {},
     "output_type": "display_data"
    },
    {
     "data": {
      "application/vnd.jupyter.widget-view+json": {
       "model_id": "b1f653b9fafb487dae596f1f94b5543e",
       "version_major": 2,
       "version_minor": 0
      },
      "text/plain": [
       "E3SM-MMF.mlo.0008-02-19-30000.nc:   0%|          | 0.00/1.13M [00:00<?, ?B/s]"
      ]
     },
     "metadata": {},
     "output_type": "display_data"
    },
    {
     "data": {
      "application/vnd.jupyter.widget-view+json": {
       "model_id": "db2f1ab4efce4e3eacd70071f9366241",
       "version_major": 2,
       "version_minor": 0
      },
      "text/plain": [
       "E3SM-MMF.mlo.0008-02-19-31200.nc:   0%|          | 0.00/1.13M [00:00<?, ?B/s]"
      ]
     },
     "metadata": {},
     "output_type": "display_data"
    },
    {
     "data": {
      "application/vnd.jupyter.widget-view+json": {
       "model_id": "deb5beed2da949f7b7da700ca6da20bd",
       "version_major": 2,
       "version_minor": 0
      },
      "text/plain": [
       "E3SM-MMF.mlo.0008-02-19-32400.nc:   0%|          | 0.00/1.13M [00:00<?, ?B/s]"
      ]
     },
     "metadata": {},
     "output_type": "display_data"
    },
    {
     "data": {
      "application/vnd.jupyter.widget-view+json": {
       "model_id": "eaedce28c2de4cc59db21add44a0a791",
       "version_major": 2,
       "version_minor": 0
      },
      "text/plain": [
       "E3SM-MMF.mlo.0008-02-19-33600.nc:   0%|          | 0.00/1.13M [00:00<?, ?B/s]"
      ]
     },
     "metadata": {},
     "output_type": "display_data"
    },
    {
     "data": {
      "application/vnd.jupyter.widget-view+json": {
       "model_id": "1061ee910c724b97a4ec3df3687b2a3e",
       "version_major": 2,
       "version_minor": 0
      },
      "text/plain": [
       "E3SM-MMF.mlo.0008-02-19-34800.nc:   0%|          | 0.00/1.13M [00:00<?, ?B/s]"
      ]
     },
     "metadata": {},
     "output_type": "display_data"
    },
    {
     "data": {
      "application/vnd.jupyter.widget-view+json": {
       "model_id": "3c7904a9ad8b4b8b91e2ac8de5eed12e",
       "version_major": 2,
       "version_minor": 0
      },
      "text/plain": [
       "E3SM-MMF.mlo.0008-02-19-36000.nc:   0%|          | 0.00/1.13M [00:00<?, ?B/s]"
      ]
     },
     "metadata": {},
     "output_type": "display_data"
    },
    {
     "data": {
      "application/vnd.jupyter.widget-view+json": {
       "model_id": "aa248d9707c64c3da94d283edd5308d6",
       "version_major": 2,
       "version_minor": 0
      },
      "text/plain": [
       "E3SM-MMF.mlo.0008-02-19-37200.nc:   0%|          | 0.00/1.13M [00:00<?, ?B/s]"
      ]
     },
     "metadata": {},
     "output_type": "display_data"
    },
    {
     "data": {
      "application/vnd.jupyter.widget-view+json": {
       "model_id": "e274a7eaaaff4bafbf87c4703b9c34dc",
       "version_major": 2,
       "version_minor": 0
      },
      "text/plain": [
       "E3SM-MMF.mlo.0008-02-19-38400.nc:   0%|          | 0.00/1.13M [00:00<?, ?B/s]"
      ]
     },
     "metadata": {},
     "output_type": "display_data"
    },
    {
     "data": {
      "application/vnd.jupyter.widget-view+json": {
       "model_id": "2cecdcfaf65041bfb1122d7c99954709",
       "version_major": 2,
       "version_minor": 0
      },
      "text/plain": [
       "E3SM-MMF.mlo.0008-02-19-39600.nc:   0%|          | 0.00/1.13M [00:00<?, ?B/s]"
      ]
     },
     "metadata": {},
     "output_type": "display_data"
    },
    {
     "data": {
      "application/vnd.jupyter.widget-view+json": {
       "model_id": "f1c8e0d2734c4cca8713b3eb995eab27",
       "version_major": 2,
       "version_minor": 0
      },
      "text/plain": [
       "E3SM-MMF.mlo.0008-02-19-40800.nc:   0%|          | 0.00/1.13M [00:00<?, ?B/s]"
      ]
     },
     "metadata": {},
     "output_type": "display_data"
    },
    {
     "data": {
      "application/vnd.jupyter.widget-view+json": {
       "model_id": "843c38d9c94840c1954dfaeaeb0ad195",
       "version_major": 2,
       "version_minor": 0
      },
      "text/plain": [
       "E3SM-MMF.mlo.0008-02-19-42000.nc:   0%|          | 0.00/1.13M [00:00<?, ?B/s]"
      ]
     },
     "metadata": {},
     "output_type": "display_data"
    },
    {
     "data": {
      "application/vnd.jupyter.widget-view+json": {
       "model_id": "e297845a3c11413698098dade13645e7",
       "version_major": 2,
       "version_minor": 0
      },
      "text/plain": [
       "E3SM-MMF.mlo.0008-02-19-43200.nc:   0%|          | 0.00/1.13M [00:00<?, ?B/s]"
      ]
     },
     "metadata": {},
     "output_type": "display_data"
    },
    {
     "data": {
      "application/vnd.jupyter.widget-view+json": {
       "model_id": "feef8bd0e40347b5ae5ae1f3c3903195",
       "version_major": 2,
       "version_minor": 0
      },
      "text/plain": [
       "E3SM-MMF.mlo.0008-02-19-44400.nc:   0%|          | 0.00/1.13M [00:00<?, ?B/s]"
      ]
     },
     "metadata": {},
     "output_type": "display_data"
    },
    {
     "data": {
      "application/vnd.jupyter.widget-view+json": {
       "model_id": "1d048080b67d4ed59b09206b6c5c16c7",
       "version_major": 2,
       "version_minor": 0
      },
      "text/plain": [
       "E3SM-MMF.mlo.0008-02-19-45600.nc:   0%|          | 0.00/1.13M [00:00<?, ?B/s]"
      ]
     },
     "metadata": {},
     "output_type": "display_data"
    },
    {
     "data": {
      "application/vnd.jupyter.widget-view+json": {
       "model_id": "125a4668dc9f411999261d42cf4df3b8",
       "version_major": 2,
       "version_minor": 0
      },
      "text/plain": [
       "E3SM-MMF.mlo.0008-02-19-46800.nc:   0%|          | 0.00/1.13M [00:00<?, ?B/s]"
      ]
     },
     "metadata": {},
     "output_type": "display_data"
    },
    {
     "data": {
      "application/vnd.jupyter.widget-view+json": {
       "model_id": "13111f71c9f04a118d8d4b169502f26c",
       "version_major": 2,
       "version_minor": 0
      },
      "text/plain": [
       "E3SM-MMF.mlo.0008-02-19-48000.nc:   0%|          | 0.00/1.13M [00:00<?, ?B/s]"
      ]
     },
     "metadata": {},
     "output_type": "display_data"
    },
    {
     "data": {
      "application/vnd.jupyter.widget-view+json": {
       "model_id": "dcfdb693060948099620cb595b043482",
       "version_major": 2,
       "version_minor": 0
      },
      "text/plain": [
       "E3SM-MMF.mlo.0008-02-19-49200.nc:   0%|          | 0.00/1.13M [00:00<?, ?B/s]"
      ]
     },
     "metadata": {},
     "output_type": "display_data"
    },
    {
     "data": {
      "application/vnd.jupyter.widget-view+json": {
       "model_id": "e5e3d0af9a2f40be8f63e047e4f1fdee",
       "version_major": 2,
       "version_minor": 0
      },
      "text/plain": [
       "E3SM-MMF.mlo.0008-02-19-50400.nc:   0%|          | 0.00/1.13M [00:00<?, ?B/s]"
      ]
     },
     "metadata": {},
     "output_type": "display_data"
    },
    {
     "data": {
      "application/vnd.jupyter.widget-view+json": {
       "model_id": "f65748042af64ebba1a8ccb7a2772327",
       "version_major": 2,
       "version_minor": 0
      },
      "text/plain": [
       "E3SM-MMF.mlo.0008-02-19-51600.nc:   0%|          | 0.00/1.13M [00:00<?, ?B/s]"
      ]
     },
     "metadata": {},
     "output_type": "display_data"
    },
    {
     "data": {
      "application/vnd.jupyter.widget-view+json": {
       "model_id": "c7eaf695b301425196d4406a2d4f01fd",
       "version_major": 2,
       "version_minor": 0
      },
      "text/plain": [
       "E3SM-MMF.mlo.0008-02-19-52800.nc:   0%|          | 0.00/1.13M [00:00<?, ?B/s]"
      ]
     },
     "metadata": {},
     "output_type": "display_data"
    },
    {
     "data": {
      "application/vnd.jupyter.widget-view+json": {
       "model_id": "1a85de63fd344825a8c4ad5da29d244c",
       "version_major": 2,
       "version_minor": 0
      },
      "text/plain": [
       "E3SM-MMF.mlo.0008-02-19-54000.nc:   0%|          | 0.00/1.13M [00:00<?, ?B/s]"
      ]
     },
     "metadata": {},
     "output_type": "display_data"
    },
    {
     "data": {
      "application/vnd.jupyter.widget-view+json": {
       "model_id": "9c701bc90d9e4725b59e74d51e171a9d",
       "version_major": 2,
       "version_minor": 0
      },
      "text/plain": [
       "E3SM-MMF.mlo.0008-02-19-55200.nc:   0%|          | 0.00/1.13M [00:00<?, ?B/s]"
      ]
     },
     "metadata": {},
     "output_type": "display_data"
    },
    {
     "data": {
      "application/vnd.jupyter.widget-view+json": {
       "model_id": "5b4c5c852602432c8241a83c9bf8cac6",
       "version_major": 2,
       "version_minor": 0
      },
      "text/plain": [
       "E3SM-MMF.mlo.0008-02-19-56400.nc:   0%|          | 0.00/1.13M [00:00<?, ?B/s]"
      ]
     },
     "metadata": {},
     "output_type": "display_data"
    },
    {
     "data": {
      "application/vnd.jupyter.widget-view+json": {
       "model_id": "720cec10bc7946b8b6ad85eb9edecf4f",
       "version_major": 2,
       "version_minor": 0
      },
      "text/plain": [
       "E3SM-MMF.mlo.0008-02-19-57600.nc:   0%|          | 0.00/1.13M [00:00<?, ?B/s]"
      ]
     },
     "metadata": {},
     "output_type": "display_data"
    },
    {
     "data": {
      "application/vnd.jupyter.widget-view+json": {
       "model_id": "2a89bc890c9b46b4a5483e40a63d3ba7",
       "version_major": 2,
       "version_minor": 0
      },
      "text/plain": [
       "E3SM-MMF.mlo.0008-02-19-58800.nc:   0%|          | 0.00/1.13M [00:00<?, ?B/s]"
      ]
     },
     "metadata": {},
     "output_type": "display_data"
    },
    {
     "data": {
      "application/vnd.jupyter.widget-view+json": {
       "model_id": "2652f635fa654fb6ab8b2c2e23e483f8",
       "version_major": 2,
       "version_minor": 0
      },
      "text/plain": [
       "E3SM-MMF.mlo.0008-02-19-60000.nc:   0%|          | 0.00/1.13M [00:00<?, ?B/s]"
      ]
     },
     "metadata": {},
     "output_type": "display_data"
    },
    {
     "data": {
      "application/vnd.jupyter.widget-view+json": {
       "model_id": "f58c9b173ee447349d8c70580ac3da6f",
       "version_major": 2,
       "version_minor": 0
      },
      "text/plain": [
       "E3SM-MMF.mlo.0008-02-19-61200.nc:   0%|          | 0.00/1.13M [00:00<?, ?B/s]"
      ]
     },
     "metadata": {},
     "output_type": "display_data"
    },
    {
     "data": {
      "application/vnd.jupyter.widget-view+json": {
       "model_id": "77ee8a61cf7a49b2aa91b7f3fc48608f",
       "version_major": 2,
       "version_minor": 0
      },
      "text/plain": [
       "E3SM-MMF.mlo.0008-02-19-62400.nc:   0%|          | 0.00/1.13M [00:00<?, ?B/s]"
      ]
     },
     "metadata": {},
     "output_type": "display_data"
    },
    {
     "data": {
      "application/vnd.jupyter.widget-view+json": {
       "model_id": "d5b90bb4cfa84262959e86f12f343a8a",
       "version_major": 2,
       "version_minor": 0
      },
      "text/plain": [
       "E3SM-MMF.mlo.0008-02-19-63600.nc:   0%|          | 0.00/1.13M [00:00<?, ?B/s]"
      ]
     },
     "metadata": {},
     "output_type": "display_data"
    },
    {
     "data": {
      "application/vnd.jupyter.widget-view+json": {
       "model_id": "da4ca75fd0d64cf99c6e0660fdc74ece",
       "version_major": 2,
       "version_minor": 0
      },
      "text/plain": [
       "E3SM-MMF.mlo.0008-02-19-64800.nc:   0%|          | 0.00/1.13M [00:00<?, ?B/s]"
      ]
     },
     "metadata": {},
     "output_type": "display_data"
    },
    {
     "data": {
      "application/vnd.jupyter.widget-view+json": {
       "model_id": "919333ee5bbd457993cb9b4fe8a9ee22",
       "version_major": 2,
       "version_minor": 0
      },
      "text/plain": [
       "E3SM-MMF.mlo.0008-02-19-66000.nc:   0%|          | 0.00/1.13M [00:00<?, ?B/s]"
      ]
     },
     "metadata": {},
     "output_type": "display_data"
    },
    {
     "data": {
      "application/vnd.jupyter.widget-view+json": {
       "model_id": "2f7eb93487b440a381e7a2f9bc84fba0",
       "version_major": 2,
       "version_minor": 0
      },
      "text/plain": [
       "E3SM-MMF.mlo.0008-02-19-67200.nc:   0%|          | 0.00/1.13M [00:00<?, ?B/s]"
      ]
     },
     "metadata": {},
     "output_type": "display_data"
    },
    {
     "data": {
      "application/vnd.jupyter.widget-view+json": {
       "model_id": "371c94a474dc468ebabc1d828bb1cda2",
       "version_major": 2,
       "version_minor": 0
      },
      "text/plain": [
       "E3SM-MMF.mlo.0008-02-19-68400.nc:   0%|          | 0.00/1.13M [00:00<?, ?B/s]"
      ]
     },
     "metadata": {},
     "output_type": "display_data"
    },
    {
     "data": {
      "application/vnd.jupyter.widget-view+json": {
       "model_id": "8f5efef7efb849f8a6b04f7760d351f9",
       "version_major": 2,
       "version_minor": 0
      },
      "text/plain": [
       "E3SM-MMF.mlo.0008-02-19-69600.nc:   0%|          | 0.00/1.13M [00:00<?, ?B/s]"
      ]
     },
     "metadata": {},
     "output_type": "display_data"
    },
    {
     "data": {
      "application/vnd.jupyter.widget-view+json": {
       "model_id": "d705e581ca5c4955a46a2066075623f7",
       "version_major": 2,
       "version_minor": 0
      },
      "text/plain": [
       "E3SM-MMF.mlo.0008-02-19-70800.nc:   0%|          | 0.00/1.13M [00:00<?, ?B/s]"
      ]
     },
     "metadata": {},
     "output_type": "display_data"
    },
    {
     "data": {
      "application/vnd.jupyter.widget-view+json": {
       "model_id": "b38f5f76a9454a909e06b08cdb992b8d",
       "version_major": 2,
       "version_minor": 0
      },
      "text/plain": [
       "E3SM-MMF.mlo.0008-02-19-72000.nc:   0%|          | 0.00/1.13M [00:00<?, ?B/s]"
      ]
     },
     "metadata": {},
     "output_type": "display_data"
    },
    {
     "data": {
      "application/vnd.jupyter.widget-view+json": {
       "model_id": "638ee4bf2fb3402c8190dbd36f6ab982",
       "version_major": 2,
       "version_minor": 0
      },
      "text/plain": [
       "E3SM-MMF.mlo.0008-02-19-73200.nc:   0%|          | 0.00/1.13M [00:00<?, ?B/s]"
      ]
     },
     "metadata": {},
     "output_type": "display_data"
    },
    {
     "data": {
      "application/vnd.jupyter.widget-view+json": {
       "model_id": "d665291bb546464680f8aa1e81955bdc",
       "version_major": 2,
       "version_minor": 0
      },
      "text/plain": [
       "E3SM-MMF.mlo.0008-02-19-74400.nc:   0%|          | 0.00/1.13M [00:00<?, ?B/s]"
      ]
     },
     "metadata": {},
     "output_type": "display_data"
    },
    {
     "data": {
      "application/vnd.jupyter.widget-view+json": {
       "model_id": "daed5ed967da466d9baee3b435ec6d3e",
       "version_major": 2,
       "version_minor": 0
      },
      "text/plain": [
       "E3SM-MMF.mlo.0008-02-19-75600.nc:   0%|          | 0.00/1.13M [00:00<?, ?B/s]"
      ]
     },
     "metadata": {},
     "output_type": "display_data"
    },
    {
     "data": {
      "application/vnd.jupyter.widget-view+json": {
       "model_id": "add8f9008efb49198fdb2c960dea57ea",
       "version_major": 2,
       "version_minor": 0
      },
      "text/plain": [
       "E3SM-MMF.mlo.0008-02-19-76800.nc:   0%|          | 0.00/1.13M [00:00<?, ?B/s]"
      ]
     },
     "metadata": {},
     "output_type": "display_data"
    },
    {
     "data": {
      "application/vnd.jupyter.widget-view+json": {
       "model_id": "35931cf401224e6bb1bace53dd988eaf",
       "version_major": 2,
       "version_minor": 0
      },
      "text/plain": [
       "E3SM-MMF.mlo.0008-02-19-78000.nc:   0%|          | 0.00/1.13M [00:00<?, ?B/s]"
      ]
     },
     "metadata": {},
     "output_type": "display_data"
    },
    {
     "data": {
      "application/vnd.jupyter.widget-view+json": {
       "model_id": "4adc2398fea7463198ad44a0545d397d",
       "version_major": 2,
       "version_minor": 0
      },
      "text/plain": [
       "E3SM-MMF.mlo.0008-02-19-79200.nc:   0%|          | 0.00/1.13M [00:00<?, ?B/s]"
      ]
     },
     "metadata": {},
     "output_type": "display_data"
    },
    {
     "data": {
      "application/vnd.jupyter.widget-view+json": {
       "model_id": "23ceb0872f0a4ea7b5c26ee3fb5080de",
       "version_major": 2,
       "version_minor": 0
      },
      "text/plain": [
       "E3SM-MMF.mlo.0008-02-19-80400.nc:   0%|          | 0.00/1.13M [00:00<?, ?B/s]"
      ]
     },
     "metadata": {},
     "output_type": "display_data"
    },
    {
     "data": {
      "application/vnd.jupyter.widget-view+json": {
       "model_id": "cf2b46d6746147f2aca0f3c6b16400d0",
       "version_major": 2,
       "version_minor": 0
      },
      "text/plain": [
       "E3SM-MMF.mlo.0008-02-19-81600.nc:   0%|          | 0.00/1.13M [00:00<?, ?B/s]"
      ]
     },
     "metadata": {},
     "output_type": "display_data"
    },
    {
     "data": {
      "application/vnd.jupyter.widget-view+json": {
       "model_id": "468e6a06855e4df0a5da8363f269c9e9",
       "version_major": 2,
       "version_minor": 0
      },
      "text/plain": [
       "E3SM-MMF.mlo.0008-02-19-82800.nc:   0%|          | 0.00/1.13M [00:00<?, ?B/s]"
      ]
     },
     "metadata": {},
     "output_type": "display_data"
    },
    {
     "data": {
      "application/vnd.jupyter.widget-view+json": {
       "model_id": "6dd114899fb2445fbae59fddd23e32db",
       "version_major": 2,
       "version_minor": 0
      },
      "text/plain": [
       "E3SM-MMF.mlo.0008-02-19-84000.nc:   0%|          | 0.00/1.13M [00:00<?, ?B/s]"
      ]
     },
     "metadata": {},
     "output_type": "display_data"
    },
    {
     "data": {
      "application/vnd.jupyter.widget-view+json": {
       "model_id": "718715e1cf1041d39dd97ddc14497612",
       "version_major": 2,
       "version_minor": 0
      },
      "text/plain": [
       "E3SM-MMF.mlo.0008-02-19-85200.nc:   0%|          | 0.00/1.13M [00:00<?, ?B/s]"
      ]
     },
     "metadata": {},
     "output_type": "display_data"
    },
    {
     "data": {
      "application/vnd.jupyter.widget-view+json": {
       "model_id": "b43a07ab4c7848d28d44f67dbdd232a2",
       "version_major": 2,
       "version_minor": 0
      },
      "text/plain": [
       "E3SM-MMF.mlo.0008-02-20-00000.nc:   0%|          | 0.00/1.13M [00:00<?, ?B/s]"
      ]
     },
     "metadata": {},
     "output_type": "display_data"
    },
    {
     "data": {
      "application/vnd.jupyter.widget-view+json": {
       "model_id": "87b56fe1dcce404882eb0540faa93597",
       "version_major": 2,
       "version_minor": 0
      },
      "text/plain": [
       "E3SM-MMF.mlo.0008-02-20-01200.nc:   0%|          | 0.00/1.13M [00:00<?, ?B/s]"
      ]
     },
     "metadata": {},
     "output_type": "display_data"
    },
    {
     "data": {
      "application/vnd.jupyter.widget-view+json": {
       "model_id": "b017f2805cb845798c5203422eb72a55",
       "version_major": 2,
       "version_minor": 0
      },
      "text/plain": [
       "E3SM-MMF.mlo.0008-02-20-02400.nc:   0%|          | 0.00/1.13M [00:00<?, ?B/s]"
      ]
     },
     "metadata": {},
     "output_type": "display_data"
    },
    {
     "data": {
      "application/vnd.jupyter.widget-view+json": {
       "model_id": "658ce7f979fa4c0c99ea9c995715c15c",
       "version_major": 2,
       "version_minor": 0
      },
      "text/plain": [
       "E3SM-MMF.mlo.0008-02-20-03600.nc:   0%|          | 0.00/1.13M [00:00<?, ?B/s]"
      ]
     },
     "metadata": {},
     "output_type": "display_data"
    },
    {
     "data": {
      "application/vnd.jupyter.widget-view+json": {
       "model_id": "3e8eaecbf635459f801023c57227fa2e",
       "version_major": 2,
       "version_minor": 0
      },
      "text/plain": [
       "E3SM-MMF.mlo.0008-02-20-04800.nc:   0%|          | 0.00/1.13M [00:00<?, ?B/s]"
      ]
     },
     "metadata": {},
     "output_type": "display_data"
    },
    {
     "data": {
      "application/vnd.jupyter.widget-view+json": {
       "model_id": "3095581b1a724ef7bb33ff6be8445c3f",
       "version_major": 2,
       "version_minor": 0
      },
      "text/plain": [
       "E3SM-MMF.mlo.0008-02-20-06000.nc:   0%|          | 0.00/1.13M [00:00<?, ?B/s]"
      ]
     },
     "metadata": {},
     "output_type": "display_data"
    },
    {
     "data": {
      "application/vnd.jupyter.widget-view+json": {
       "model_id": "07951ecb507d4dfc9146dd55ca0714ef",
       "version_major": 2,
       "version_minor": 0
      },
      "text/plain": [
       "E3SM-MMF.mlo.0008-02-20-07200.nc:   0%|          | 0.00/1.13M [00:00<?, ?B/s]"
      ]
     },
     "metadata": {},
     "output_type": "display_data"
    },
    {
     "data": {
      "application/vnd.jupyter.widget-view+json": {
       "model_id": "9c3e4f4c22054abf9d3be746408a32d2",
       "version_major": 2,
       "version_minor": 0
      },
      "text/plain": [
       "E3SM-MMF.mlo.0008-02-20-08400.nc:   0%|          | 0.00/1.13M [00:00<?, ?B/s]"
      ]
     },
     "metadata": {},
     "output_type": "display_data"
    },
    {
     "data": {
      "application/vnd.jupyter.widget-view+json": {
       "model_id": "453ac72a09b64ef9a204bb132fd6ad4b",
       "version_major": 2,
       "version_minor": 0
      },
      "text/plain": [
       "E3SM-MMF.mlo.0008-02-20-09600.nc:   0%|          | 0.00/1.13M [00:00<?, ?B/s]"
      ]
     },
     "metadata": {},
     "output_type": "display_data"
    },
    {
     "data": {
      "application/vnd.jupyter.widget-view+json": {
       "model_id": "f81b84903d9e40f996aff65f00a904fb",
       "version_major": 2,
       "version_minor": 0
      },
      "text/plain": [
       "E3SM-MMF.mlo.0008-02-20-10800.nc:   0%|          | 0.00/1.13M [00:00<?, ?B/s]"
      ]
     },
     "metadata": {},
     "output_type": "display_data"
    },
    {
     "data": {
      "application/vnd.jupyter.widget-view+json": {
       "model_id": "fa4040a156de4352a2cebdbf2c346139",
       "version_major": 2,
       "version_minor": 0
      },
      "text/plain": [
       "E3SM-MMF.mlo.0008-02-20-12000.nc:   0%|          | 0.00/1.13M [00:00<?, ?B/s]"
      ]
     },
     "metadata": {},
     "output_type": "display_data"
    },
    {
     "data": {
      "application/vnd.jupyter.widget-view+json": {
       "model_id": "c09d679cd1054b8e8b5fe6169bf59b82",
       "version_major": 2,
       "version_minor": 0
      },
      "text/plain": [
       "E3SM-MMF.mlo.0008-02-20-13200.nc:   0%|          | 0.00/1.13M [00:00<?, ?B/s]"
      ]
     },
     "metadata": {},
     "output_type": "display_data"
    },
    {
     "data": {
      "application/vnd.jupyter.widget-view+json": {
       "model_id": "f9a393d1535b432a831b7ff90d5d297e",
       "version_major": 2,
       "version_minor": 0
      },
      "text/plain": [
       "E3SM-MMF.mlo.0008-02-20-14400.nc:   0%|          | 0.00/1.13M [00:00<?, ?B/s]"
      ]
     },
     "metadata": {},
     "output_type": "display_data"
    },
    {
     "data": {
      "application/vnd.jupyter.widget-view+json": {
       "model_id": "b897b0b3f905445faebc116a96c9c95a",
       "version_major": 2,
       "version_minor": 0
      },
      "text/plain": [
       "E3SM-MMF.mlo.0008-02-20-15600.nc:   0%|          | 0.00/1.13M [00:00<?, ?B/s]"
      ]
     },
     "metadata": {},
     "output_type": "display_data"
    },
    {
     "data": {
      "application/vnd.jupyter.widget-view+json": {
       "model_id": "1cc3af0048574bef924c425e8d5bbe64",
       "version_major": 2,
       "version_minor": 0
      },
      "text/plain": [
       "E3SM-MMF.mlo.0008-02-20-16800.nc:   0%|          | 0.00/1.13M [00:00<?, ?B/s]"
      ]
     },
     "metadata": {},
     "output_type": "display_data"
    },
    {
     "data": {
      "application/vnd.jupyter.widget-view+json": {
       "model_id": "da509dd33e194aafaeb2e91f667e07a8",
       "version_major": 2,
       "version_minor": 0
      },
      "text/plain": [
       "E3SM-MMF.mlo.0008-02-20-18000.nc:   0%|          | 0.00/1.13M [00:00<?, ?B/s]"
      ]
     },
     "metadata": {},
     "output_type": "display_data"
    },
    {
     "data": {
      "application/vnd.jupyter.widget-view+json": {
       "model_id": "f028db81db5b4b70bc4d8be5fa1fd10a",
       "version_major": 2,
       "version_minor": 0
      },
      "text/plain": [
       "E3SM-MMF.mlo.0008-02-20-19200.nc:   0%|          | 0.00/1.13M [00:00<?, ?B/s]"
      ]
     },
     "metadata": {},
     "output_type": "display_data"
    },
    {
     "data": {
      "application/vnd.jupyter.widget-view+json": {
       "model_id": "51ff4a61b8ac47d49bfcb5ed54bb75bb",
       "version_major": 2,
       "version_minor": 0
      },
      "text/plain": [
       "E3SM-MMF.mlo.0008-02-20-20400.nc:   0%|          | 0.00/1.13M [00:00<?, ?B/s]"
      ]
     },
     "metadata": {},
     "output_type": "display_data"
    },
    {
     "data": {
      "application/vnd.jupyter.widget-view+json": {
       "model_id": "a7e2658b6a714fe58b5f29a440bfa518",
       "version_major": 2,
       "version_minor": 0
      },
      "text/plain": [
       "E3SM-MMF.mlo.0008-02-20-21600.nc:   0%|          | 0.00/1.13M [00:00<?, ?B/s]"
      ]
     },
     "metadata": {},
     "output_type": "display_data"
    },
    {
     "data": {
      "application/vnd.jupyter.widget-view+json": {
       "model_id": "c7e848511d224a858a74d2a84d8bda91",
       "version_major": 2,
       "version_minor": 0
      },
      "text/plain": [
       "E3SM-MMF.mlo.0008-02-20-22800.nc:   0%|          | 0.00/1.13M [00:00<?, ?B/s]"
      ]
     },
     "metadata": {},
     "output_type": "display_data"
    },
    {
     "data": {
      "application/vnd.jupyter.widget-view+json": {
       "model_id": "412e039494d348918f53b6da42e93009",
       "version_major": 2,
       "version_minor": 0
      },
      "text/plain": [
       "E3SM-MMF.mlo.0008-02-20-24000.nc:   0%|          | 0.00/1.13M [00:00<?, ?B/s]"
      ]
     },
     "metadata": {},
     "output_type": "display_data"
    },
    {
     "data": {
      "application/vnd.jupyter.widget-view+json": {
       "model_id": "8c4693ab9b96485f8637b5aec1337e70",
       "version_major": 2,
       "version_minor": 0
      },
      "text/plain": [
       "E3SM-MMF.mlo.0008-02-20-25200.nc:   0%|          | 0.00/1.13M [00:00<?, ?B/s]"
      ]
     },
     "metadata": {},
     "output_type": "display_data"
    },
    {
     "data": {
      "application/vnd.jupyter.widget-view+json": {
       "model_id": "3e50e844ce464a9482f38b887db0e7f3",
       "version_major": 2,
       "version_minor": 0
      },
      "text/plain": [
       "E3SM-MMF.mlo.0008-02-20-26400.nc:   0%|          | 0.00/1.13M [00:00<?, ?B/s]"
      ]
     },
     "metadata": {},
     "output_type": "display_data"
    },
    {
     "data": {
      "application/vnd.jupyter.widget-view+json": {
       "model_id": "edac36fe23b54bcaa26370dff9156d93",
       "version_major": 2,
       "version_minor": 0
      },
      "text/plain": [
       "E3SM-MMF.mlo.0008-02-20-27600.nc:   0%|          | 0.00/1.13M [00:00<?, ?B/s]"
      ]
     },
     "metadata": {},
     "output_type": "display_data"
    },
    {
     "data": {
      "application/vnd.jupyter.widget-view+json": {
       "model_id": "3fa1a69e7b7b4188bddcd1a914001581",
       "version_major": 2,
       "version_minor": 0
      },
      "text/plain": [
       "E3SM-MMF.mlo.0008-02-20-28800.nc:   0%|          | 0.00/1.13M [00:00<?, ?B/s]"
      ]
     },
     "metadata": {},
     "output_type": "display_data"
    },
    {
     "data": {
      "application/vnd.jupyter.widget-view+json": {
       "model_id": "af15cb1f5f8b44a8b00a6a880bc15b57",
       "version_major": 2,
       "version_minor": 0
      },
      "text/plain": [
       "E3SM-MMF.mlo.0008-02-20-30000.nc:   0%|          | 0.00/1.13M [00:00<?, ?B/s]"
      ]
     },
     "metadata": {},
     "output_type": "display_data"
    },
    {
     "data": {
      "application/vnd.jupyter.widget-view+json": {
       "model_id": "c44ec69b3f414d53a16dc2d3849015b9",
       "version_major": 2,
       "version_minor": 0
      },
      "text/plain": [
       "E3SM-MMF.mlo.0008-02-20-31200.nc:   0%|          | 0.00/1.13M [00:00<?, ?B/s]"
      ]
     },
     "metadata": {},
     "output_type": "display_data"
    },
    {
     "data": {
      "application/vnd.jupyter.widget-view+json": {
       "model_id": "ce85ec1655794446b1ee7d96e7b44ca4",
       "version_major": 2,
       "version_minor": 0
      },
      "text/plain": [
       "E3SM-MMF.mlo.0008-02-20-32400.nc:   0%|          | 0.00/1.13M [00:00<?, ?B/s]"
      ]
     },
     "metadata": {},
     "output_type": "display_data"
    },
    {
     "data": {
      "application/vnd.jupyter.widget-view+json": {
       "model_id": "998c7315790f4d79a60a1f15e1c7cdcb",
       "version_major": 2,
       "version_minor": 0
      },
      "text/plain": [
       "E3SM-MMF.mlo.0008-02-20-33600.nc:   0%|          | 0.00/1.13M [00:00<?, ?B/s]"
      ]
     },
     "metadata": {},
     "output_type": "display_data"
    },
    {
     "data": {
      "application/vnd.jupyter.widget-view+json": {
       "model_id": "7c694f6f74464db8a2170c342927d704",
       "version_major": 2,
       "version_minor": 0
      },
      "text/plain": [
       "E3SM-MMF.mlo.0008-02-20-34800.nc:   0%|          | 0.00/1.13M [00:00<?, ?B/s]"
      ]
     },
     "metadata": {},
     "output_type": "display_data"
    },
    {
     "data": {
      "application/vnd.jupyter.widget-view+json": {
       "model_id": "33a8ae519b15405fb6dce82ac2743088",
       "version_major": 2,
       "version_minor": 0
      },
      "text/plain": [
       "E3SM-MMF.mlo.0008-02-20-36000.nc:   0%|          | 0.00/1.13M [00:00<?, ?B/s]"
      ]
     },
     "metadata": {},
     "output_type": "display_data"
    },
    {
     "data": {
      "application/vnd.jupyter.widget-view+json": {
       "model_id": "e711e30341e24a9fb4ba896586e2792d",
       "version_major": 2,
       "version_minor": 0
      },
      "text/plain": [
       "E3SM-MMF.mlo.0008-02-20-37200.nc:   0%|          | 0.00/1.13M [00:00<?, ?B/s]"
      ]
     },
     "metadata": {},
     "output_type": "display_data"
    },
    {
     "data": {
      "application/vnd.jupyter.widget-view+json": {
       "model_id": "4e1684a7d3914663b352ec8cd0f13103",
       "version_major": 2,
       "version_minor": 0
      },
      "text/plain": [
       "E3SM-MMF.mlo.0008-02-20-38400.nc:   0%|          | 0.00/1.13M [00:00<?, ?B/s]"
      ]
     },
     "metadata": {},
     "output_type": "display_data"
    },
    {
     "data": {
      "application/vnd.jupyter.widget-view+json": {
       "model_id": "fb3d24de169042f7bf35c3a15de53d14",
       "version_major": 2,
       "version_minor": 0
      },
      "text/plain": [
       "E3SM-MMF.mlo.0008-02-20-39600.nc:   0%|          | 0.00/1.13M [00:00<?, ?B/s]"
      ]
     },
     "metadata": {},
     "output_type": "display_data"
    },
    {
     "data": {
      "application/vnd.jupyter.widget-view+json": {
       "model_id": "e5cbee89cfbb41378dd4a9691408c490",
       "version_major": 2,
       "version_minor": 0
      },
      "text/plain": [
       "E3SM-MMF.mlo.0008-02-20-40800.nc:   0%|          | 0.00/1.13M [00:00<?, ?B/s]"
      ]
     },
     "metadata": {},
     "output_type": "display_data"
    },
    {
     "data": {
      "application/vnd.jupyter.widget-view+json": {
       "model_id": "bf4535701a7742b8945dd2d293b4ebe4",
       "version_major": 2,
       "version_minor": 0
      },
      "text/plain": [
       "E3SM-MMF.mlo.0008-02-20-42000.nc:   0%|          | 0.00/1.13M [00:00<?, ?B/s]"
      ]
     },
     "metadata": {},
     "output_type": "display_data"
    },
    {
     "data": {
      "application/vnd.jupyter.widget-view+json": {
       "model_id": "a7ea4d66cb2b47abaa2c2d67507309ae",
       "version_major": 2,
       "version_minor": 0
      },
      "text/plain": [
       "E3SM-MMF.mlo.0008-02-20-43200.nc:   0%|          | 0.00/1.13M [00:00<?, ?B/s]"
      ]
     },
     "metadata": {},
     "output_type": "display_data"
    },
    {
     "data": {
      "application/vnd.jupyter.widget-view+json": {
       "model_id": "06e63a48e19e4dd5b9dcd1d3b052d7a1",
       "version_major": 2,
       "version_minor": 0
      },
      "text/plain": [
       "E3SM-MMF.mlo.0008-02-20-44400.nc:   0%|          | 0.00/1.13M [00:00<?, ?B/s]"
      ]
     },
     "metadata": {},
     "output_type": "display_data"
    },
    {
     "data": {
      "application/vnd.jupyter.widget-view+json": {
       "model_id": "dc70c59ab0be45eda191e5172cfbc7a9",
       "version_major": 2,
       "version_minor": 0
      },
      "text/plain": [
       "E3SM-MMF.mlo.0008-02-20-45600.nc:   0%|          | 0.00/1.13M [00:00<?, ?B/s]"
      ]
     },
     "metadata": {},
     "output_type": "display_data"
    },
    {
     "data": {
      "application/vnd.jupyter.widget-view+json": {
       "model_id": "917b8a65a947423593179145101bd8c4",
       "version_major": 2,
       "version_minor": 0
      },
      "text/plain": [
       "E3SM-MMF.mlo.0008-02-20-46800.nc:   0%|          | 0.00/1.13M [00:00<?, ?B/s]"
      ]
     },
     "metadata": {},
     "output_type": "display_data"
    },
    {
     "data": {
      "application/vnd.jupyter.widget-view+json": {
       "model_id": "bcf194b35fdb4fabbfa78e59494fdd3b",
       "version_major": 2,
       "version_minor": 0
      },
      "text/plain": [
       "E3SM-MMF.mlo.0008-02-20-48000.nc:   0%|          | 0.00/1.13M [00:00<?, ?B/s]"
      ]
     },
     "metadata": {},
     "output_type": "display_data"
    },
    {
     "data": {
      "application/vnd.jupyter.widget-view+json": {
       "model_id": "f347e1ab7c914f95bad396a6e740960b",
       "version_major": 2,
       "version_minor": 0
      },
      "text/plain": [
       "E3SM-MMF.mlo.0008-02-20-49200.nc:   0%|          | 0.00/1.13M [00:00<?, ?B/s]"
      ]
     },
     "metadata": {},
     "output_type": "display_data"
    },
    {
     "data": {
      "application/vnd.jupyter.widget-view+json": {
       "model_id": "896c81888dcd47d891e5e949e334bbc7",
       "version_major": 2,
       "version_minor": 0
      },
      "text/plain": [
       "E3SM-MMF.mlo.0008-02-20-50400.nc:   0%|          | 0.00/1.13M [00:00<?, ?B/s]"
      ]
     },
     "metadata": {},
     "output_type": "display_data"
    },
    {
     "data": {
      "application/vnd.jupyter.widget-view+json": {
       "model_id": "8991adcee2164735a92239bc2a59e210",
       "version_major": 2,
       "version_minor": 0
      },
      "text/plain": [
       "E3SM-MMF.mlo.0008-02-20-51600.nc:   0%|          | 0.00/1.13M [00:00<?, ?B/s]"
      ]
     },
     "metadata": {},
     "output_type": "display_data"
    },
    {
     "data": {
      "application/vnd.jupyter.widget-view+json": {
       "model_id": "b2d253ccdc6d4f08b6aee95acaf72d4e",
       "version_major": 2,
       "version_minor": 0
      },
      "text/plain": [
       "E3SM-MMF.mlo.0008-02-20-52800.nc:   0%|          | 0.00/1.13M [00:00<?, ?B/s]"
      ]
     },
     "metadata": {},
     "output_type": "display_data"
    },
    {
     "data": {
      "application/vnd.jupyter.widget-view+json": {
       "model_id": "c6d2a5f91b36431abe7a4e9588df5717",
       "version_major": 2,
       "version_minor": 0
      },
      "text/plain": [
       "E3SM-MMF.mlo.0008-02-20-54000.nc:   0%|          | 0.00/1.13M [00:00<?, ?B/s]"
      ]
     },
     "metadata": {},
     "output_type": "display_data"
    },
    {
     "data": {
      "application/vnd.jupyter.widget-view+json": {
       "model_id": "b122fbdf94244d4f8c673c8cd4fc9e1e",
       "version_major": 2,
       "version_minor": 0
      },
      "text/plain": [
       "E3SM-MMF.mlo.0008-02-20-55200.nc:   0%|          | 0.00/1.13M [00:00<?, ?B/s]"
      ]
     },
     "metadata": {},
     "output_type": "display_data"
    },
    {
     "data": {
      "application/vnd.jupyter.widget-view+json": {
       "model_id": "1a4df5e6ec044d59a818768e747e3631",
       "version_major": 2,
       "version_minor": 0
      },
      "text/plain": [
       "E3SM-MMF.mlo.0008-02-20-56400.nc:   0%|          | 0.00/1.13M [00:00<?, ?B/s]"
      ]
     },
     "metadata": {},
     "output_type": "display_data"
    },
    {
     "data": {
      "application/vnd.jupyter.widget-view+json": {
       "model_id": "c3b9522ace684087af76b27dd3b27224",
       "version_major": 2,
       "version_minor": 0
      },
      "text/plain": [
       "E3SM-MMF.mlo.0008-02-20-57600.nc:   0%|          | 0.00/1.13M [00:00<?, ?B/s]"
      ]
     },
     "metadata": {},
     "output_type": "display_data"
    },
    {
     "data": {
      "application/vnd.jupyter.widget-view+json": {
       "model_id": "47b9b405481f40398ae2dbe9f666771e",
       "version_major": 2,
       "version_minor": 0
      },
      "text/plain": [
       "E3SM-MMF.mlo.0008-02-20-58800.nc:   0%|          | 0.00/1.13M [00:00<?, ?B/s]"
      ]
     },
     "metadata": {},
     "output_type": "display_data"
    },
    {
     "data": {
      "application/vnd.jupyter.widget-view+json": {
       "model_id": "01edd5807d3b4b658e660a5663852de4",
       "version_major": 2,
       "version_minor": 0
      },
      "text/plain": [
       "E3SM-MMF.mlo.0008-02-20-60000.nc:   0%|          | 0.00/1.13M [00:00<?, ?B/s]"
      ]
     },
     "metadata": {},
     "output_type": "display_data"
    },
    {
     "data": {
      "application/vnd.jupyter.widget-view+json": {
       "model_id": "d59594729071472e87fa1c84904b4b7e",
       "version_major": 2,
       "version_minor": 0
      },
      "text/plain": [
       "E3SM-MMF.mlo.0008-02-20-61200.nc:   0%|          | 0.00/1.13M [00:00<?, ?B/s]"
      ]
     },
     "metadata": {},
     "output_type": "display_data"
    },
    {
     "data": {
      "application/vnd.jupyter.widget-view+json": {
       "model_id": "e4d4dc33c3bc489292b4b137485adbe0",
       "version_major": 2,
       "version_minor": 0
      },
      "text/plain": [
       "E3SM-MMF.mlo.0008-02-20-62400.nc:   0%|          | 0.00/1.13M [00:00<?, ?B/s]"
      ]
     },
     "metadata": {},
     "output_type": "display_data"
    },
    {
     "data": {
      "application/vnd.jupyter.widget-view+json": {
       "model_id": "b87660a5ecef41aa93a658dcfd7dfd99",
       "version_major": 2,
       "version_minor": 0
      },
      "text/plain": [
       "E3SM-MMF.mlo.0008-02-20-63600.nc:   0%|          | 0.00/1.13M [00:00<?, ?B/s]"
      ]
     },
     "metadata": {},
     "output_type": "display_data"
    },
    {
     "data": {
      "application/vnd.jupyter.widget-view+json": {
       "model_id": "45b68d893a8542e19defcd97c1754155",
       "version_major": 2,
       "version_minor": 0
      },
      "text/plain": [
       "E3SM-MMF.mlo.0008-02-20-64800.nc:   0%|          | 0.00/1.13M [00:00<?, ?B/s]"
      ]
     },
     "metadata": {},
     "output_type": "display_data"
    },
    {
     "data": {
      "application/vnd.jupyter.widget-view+json": {
       "model_id": "5d5b40ab50444641932e1c2887fa78b5",
       "version_major": 2,
       "version_minor": 0
      },
      "text/plain": [
       "E3SM-MMF.mlo.0008-02-20-66000.nc:   0%|          | 0.00/1.13M [00:00<?, ?B/s]"
      ]
     },
     "metadata": {},
     "output_type": "display_data"
    },
    {
     "data": {
      "application/vnd.jupyter.widget-view+json": {
       "model_id": "0e006b29026942bf92731614753716db",
       "version_major": 2,
       "version_minor": 0
      },
      "text/plain": [
       "E3SM-MMF.mlo.0008-02-20-67200.nc:   0%|          | 0.00/1.13M [00:00<?, ?B/s]"
      ]
     },
     "metadata": {},
     "output_type": "display_data"
    },
    {
     "data": {
      "application/vnd.jupyter.widget-view+json": {
       "model_id": "23afaaa6f9a049808b02c7d4492f6f3f",
       "version_major": 2,
       "version_minor": 0
      },
      "text/plain": [
       "E3SM-MMF.mlo.0008-02-20-68400.nc:   0%|          | 0.00/1.13M [00:00<?, ?B/s]"
      ]
     },
     "metadata": {},
     "output_type": "display_data"
    },
    {
     "data": {
      "application/vnd.jupyter.widget-view+json": {
       "model_id": "0d390e7bd5994ca298208a7bf2b21387",
       "version_major": 2,
       "version_minor": 0
      },
      "text/plain": [
       "E3SM-MMF.mlo.0008-02-20-69600.nc:   0%|          | 0.00/1.13M [00:00<?, ?B/s]"
      ]
     },
     "metadata": {},
     "output_type": "display_data"
    },
    {
     "data": {
      "application/vnd.jupyter.widget-view+json": {
       "model_id": "64cab24ce37040fa873ad36d060f892b",
       "version_major": 2,
       "version_minor": 0
      },
      "text/plain": [
       "E3SM-MMF.mlo.0008-02-20-70800.nc:   0%|          | 0.00/1.13M [00:00<?, ?B/s]"
      ]
     },
     "metadata": {},
     "output_type": "display_data"
    },
    {
     "data": {
      "application/vnd.jupyter.widget-view+json": {
       "model_id": "92b009b500b94a4a81671eb4af077979",
       "version_major": 2,
       "version_minor": 0
      },
      "text/plain": [
       "E3SM-MMF.mlo.0008-02-20-72000.nc:   0%|          | 0.00/1.13M [00:00<?, ?B/s]"
      ]
     },
     "metadata": {},
     "output_type": "display_data"
    },
    {
     "data": {
      "application/vnd.jupyter.widget-view+json": {
       "model_id": "658c15bf194d4819baac08b156e1eb5f",
       "version_major": 2,
       "version_minor": 0
      },
      "text/plain": [
       "E3SM-MMF.mlo.0008-02-20-73200.nc:   0%|          | 0.00/1.13M [00:00<?, ?B/s]"
      ]
     },
     "metadata": {},
     "output_type": "display_data"
    },
    {
     "data": {
      "application/vnd.jupyter.widget-view+json": {
       "model_id": "6e827a61219b49d8980c6473cfce647c",
       "version_major": 2,
       "version_minor": 0
      },
      "text/plain": [
       "E3SM-MMF.mlo.0008-02-20-74400.nc:   0%|          | 0.00/1.13M [00:00<?, ?B/s]"
      ]
     },
     "metadata": {},
     "output_type": "display_data"
    },
    {
     "data": {
      "application/vnd.jupyter.widget-view+json": {
       "model_id": "a1e03bf9e35d4c24b222b275702d9ef2",
       "version_major": 2,
       "version_minor": 0
      },
      "text/plain": [
       "E3SM-MMF.mlo.0008-02-20-75600.nc:   0%|          | 0.00/1.13M [00:00<?, ?B/s]"
      ]
     },
     "metadata": {},
     "output_type": "display_data"
    },
    {
     "data": {
      "application/vnd.jupyter.widget-view+json": {
       "model_id": "258d470c76854cd8af03f3862f09188e",
       "version_major": 2,
       "version_minor": 0
      },
      "text/plain": [
       "E3SM-MMF.mlo.0008-02-20-76800.nc:   0%|          | 0.00/1.13M [00:00<?, ?B/s]"
      ]
     },
     "metadata": {},
     "output_type": "display_data"
    },
    {
     "data": {
      "application/vnd.jupyter.widget-view+json": {
       "model_id": "8381c1fd96614b18b8a854a173bc5fa3",
       "version_major": 2,
       "version_minor": 0
      },
      "text/plain": [
       "E3SM-MMF.mlo.0008-02-20-78000.nc:   0%|          | 0.00/1.13M [00:00<?, ?B/s]"
      ]
     },
     "metadata": {},
     "output_type": "display_data"
    },
    {
     "data": {
      "application/vnd.jupyter.widget-view+json": {
       "model_id": "9cb574f5e64a47f0809e32f501be7364",
       "version_major": 2,
       "version_minor": 0
      },
      "text/plain": [
       "E3SM-MMF.mlo.0008-02-20-79200.nc:   0%|          | 0.00/1.13M [00:00<?, ?B/s]"
      ]
     },
     "metadata": {},
     "output_type": "display_data"
    },
    {
     "data": {
      "application/vnd.jupyter.widget-view+json": {
       "model_id": "f348d9da81ae4452942c505df0c8e07b",
       "version_major": 2,
       "version_minor": 0
      },
      "text/plain": [
       "E3SM-MMF.mlo.0008-02-20-80400.nc:   0%|          | 0.00/1.13M [00:00<?, ?B/s]"
      ]
     },
     "metadata": {},
     "output_type": "display_data"
    },
    {
     "data": {
      "application/vnd.jupyter.widget-view+json": {
       "model_id": "5796bc7120e9448599391d82aea17a6e",
       "version_major": 2,
       "version_minor": 0
      },
      "text/plain": [
       "E3SM-MMF.mlo.0008-02-20-81600.nc:   0%|          | 0.00/1.13M [00:00<?, ?B/s]"
      ]
     },
     "metadata": {},
     "output_type": "display_data"
    },
    {
     "data": {
      "application/vnd.jupyter.widget-view+json": {
       "model_id": "88c965596efe4bcfbddaf44dd2ef9d62",
       "version_major": 2,
       "version_minor": 0
      },
      "text/plain": [
       "E3SM-MMF.mlo.0008-02-20-82800.nc:   0%|          | 0.00/1.13M [00:00<?, ?B/s]"
      ]
     },
     "metadata": {},
     "output_type": "display_data"
    },
    {
     "data": {
      "application/vnd.jupyter.widget-view+json": {
       "model_id": "39dacb4d988f49f2b747eac859b2c7f8",
       "version_major": 2,
       "version_minor": 0
      },
      "text/plain": [
       "E3SM-MMF.mlo.0008-02-20-84000.nc:   0%|          | 0.00/1.13M [00:00<?, ?B/s]"
      ]
     },
     "metadata": {},
     "output_type": "display_data"
    },
    {
     "data": {
      "application/vnd.jupyter.widget-view+json": {
       "model_id": "2b9544bd16cc41a0bbace526cf0f60bd",
       "version_major": 2,
       "version_minor": 0
      },
      "text/plain": [
       "E3SM-MMF.mlo.0008-02-20-85200.nc:   0%|          | 0.00/1.13M [00:00<?, ?B/s]"
      ]
     },
     "metadata": {},
     "output_type": "display_data"
    },
    {
     "data": {
      "application/vnd.jupyter.widget-view+json": {
       "model_id": "e8afe09242e0419a845ce8f6422e31a4",
       "version_major": 2,
       "version_minor": 0
      },
      "text/plain": [
       "E3SM-MMF.mlo.0008-02-21-00000.nc:   0%|          | 0.00/1.13M [00:00<?, ?B/s]"
      ]
     },
     "metadata": {},
     "output_type": "display_data"
    },
    {
     "data": {
      "application/vnd.jupyter.widget-view+json": {
       "model_id": "a2d15a208ee642a4a18ef21b1eb75ec4",
       "version_major": 2,
       "version_minor": 0
      },
      "text/plain": [
       "E3SM-MMF.mlo.0008-02-21-01200.nc:   0%|          | 0.00/1.13M [00:00<?, ?B/s]"
      ]
     },
     "metadata": {},
     "output_type": "display_data"
    },
    {
     "data": {
      "application/vnd.jupyter.widget-view+json": {
       "model_id": "70b16c6c2d00418b8f5516b7b1bf631a",
       "version_major": 2,
       "version_minor": 0
      },
      "text/plain": [
       "E3SM-MMF.mlo.0008-02-21-02400.nc:   0%|          | 0.00/1.13M [00:00<?, ?B/s]"
      ]
     },
     "metadata": {},
     "output_type": "display_data"
    },
    {
     "data": {
      "application/vnd.jupyter.widget-view+json": {
       "model_id": "56a3ec58f9e745438ee031151cd9e6dc",
       "version_major": 2,
       "version_minor": 0
      },
      "text/plain": [
       "E3SM-MMF.mlo.0008-02-21-03600.nc:   0%|          | 0.00/1.13M [00:00<?, ?B/s]"
      ]
     },
     "metadata": {},
     "output_type": "display_data"
    },
    {
     "data": {
      "application/vnd.jupyter.widget-view+json": {
       "model_id": "eb373d7096774f868825ae51eca71d23",
       "version_major": 2,
       "version_minor": 0
      },
      "text/plain": [
       "E3SM-MMF.mlo.0008-02-21-04800.nc:   0%|          | 0.00/1.13M [00:00<?, ?B/s]"
      ]
     },
     "metadata": {},
     "output_type": "display_data"
    },
    {
     "data": {
      "application/vnd.jupyter.widget-view+json": {
       "model_id": "231d38e494ad4c7bb7514ed42087b673",
       "version_major": 2,
       "version_minor": 0
      },
      "text/plain": [
       "E3SM-MMF.mlo.0008-02-21-06000.nc:   0%|          | 0.00/1.13M [00:00<?, ?B/s]"
      ]
     },
     "metadata": {},
     "output_type": "display_data"
    },
    {
     "data": {
      "application/vnd.jupyter.widget-view+json": {
       "model_id": "2d11b69d51ff4a7baffd63f9bee18e17",
       "version_major": 2,
       "version_minor": 0
      },
      "text/plain": [
       "E3SM-MMF.mlo.0008-02-21-07200.nc:   0%|          | 0.00/1.13M [00:00<?, ?B/s]"
      ]
     },
     "metadata": {},
     "output_type": "display_data"
    },
    {
     "data": {
      "application/vnd.jupyter.widget-view+json": {
       "model_id": "82a844dd208249d8817c73f5441a51fb",
       "version_major": 2,
       "version_minor": 0
      },
      "text/plain": [
       "E3SM-MMF.mlo.0008-02-21-08400.nc:   0%|          | 0.00/1.13M [00:00<?, ?B/s]"
      ]
     },
     "metadata": {},
     "output_type": "display_data"
    },
    {
     "data": {
      "application/vnd.jupyter.widget-view+json": {
       "model_id": "4f1cde054477444793881e4e51366569",
       "version_major": 2,
       "version_minor": 0
      },
      "text/plain": [
       "E3SM-MMF.mlo.0008-02-21-09600.nc:   0%|          | 0.00/1.13M [00:00<?, ?B/s]"
      ]
     },
     "metadata": {},
     "output_type": "display_data"
    },
    {
     "data": {
      "application/vnd.jupyter.widget-view+json": {
       "model_id": "028ae16055534de08a539e467c119c1f",
       "version_major": 2,
       "version_minor": 0
      },
      "text/plain": [
       "E3SM-MMF.mlo.0008-02-21-10800.nc:   0%|          | 0.00/1.13M [00:00<?, ?B/s]"
      ]
     },
     "metadata": {},
     "output_type": "display_data"
    },
    {
     "data": {
      "application/vnd.jupyter.widget-view+json": {
       "model_id": "f4591d7245fe4e8eb620d8d5f44e94d7",
       "version_major": 2,
       "version_minor": 0
      },
      "text/plain": [
       "E3SM-MMF.mlo.0008-02-21-12000.nc:   0%|          | 0.00/1.13M [00:00<?, ?B/s]"
      ]
     },
     "metadata": {},
     "output_type": "display_data"
    },
    {
     "data": {
      "application/vnd.jupyter.widget-view+json": {
       "model_id": "11b1514192d44360841115515df2daf7",
       "version_major": 2,
       "version_minor": 0
      },
      "text/plain": [
       "E3SM-MMF.mlo.0008-02-21-13200.nc:   0%|          | 0.00/1.13M [00:00<?, ?B/s]"
      ]
     },
     "metadata": {},
     "output_type": "display_data"
    },
    {
     "data": {
      "application/vnd.jupyter.widget-view+json": {
       "model_id": "c33cdb5f50f042bd8cee54f091341b0f",
       "version_major": 2,
       "version_minor": 0
      },
      "text/plain": [
       "E3SM-MMF.mlo.0008-02-21-14400.nc:   0%|          | 0.00/1.13M [00:00<?, ?B/s]"
      ]
     },
     "metadata": {},
     "output_type": "display_data"
    },
    {
     "data": {
      "application/vnd.jupyter.widget-view+json": {
       "model_id": "c3d09614718d41a59486f450b8cf1913",
       "version_major": 2,
       "version_minor": 0
      },
      "text/plain": [
       "E3SM-MMF.mlo.0008-02-21-15600.nc:   0%|          | 0.00/1.13M [00:00<?, ?B/s]"
      ]
     },
     "metadata": {},
     "output_type": "display_data"
    },
    {
     "data": {
      "application/vnd.jupyter.widget-view+json": {
       "model_id": "51f46dfd1c6b4c69a4c8fa8762d0d880",
       "version_major": 2,
       "version_minor": 0
      },
      "text/plain": [
       "E3SM-MMF.mlo.0008-02-21-16800.nc:   0%|          | 0.00/1.13M [00:00<?, ?B/s]"
      ]
     },
     "metadata": {},
     "output_type": "display_data"
    },
    {
     "data": {
      "application/vnd.jupyter.widget-view+json": {
       "model_id": "b1588dc447bc4e60a6027a7b901c7362",
       "version_major": 2,
       "version_minor": 0
      },
      "text/plain": [
       "E3SM-MMF.mlo.0008-02-21-18000.nc:   0%|          | 0.00/1.13M [00:00<?, ?B/s]"
      ]
     },
     "metadata": {},
     "output_type": "display_data"
    },
    {
     "data": {
      "application/vnd.jupyter.widget-view+json": {
       "model_id": "2c5556685e944866bb4574b8be32a26c",
       "version_major": 2,
       "version_minor": 0
      },
      "text/plain": [
       "E3SM-MMF.mlo.0008-02-21-19200.nc:   0%|          | 0.00/1.13M [00:00<?, ?B/s]"
      ]
     },
     "metadata": {},
     "output_type": "display_data"
    },
    {
     "data": {
      "application/vnd.jupyter.widget-view+json": {
       "model_id": "4b5d54ba618748c28d6f84c7584df055",
       "version_major": 2,
       "version_minor": 0
      },
      "text/plain": [
       "E3SM-MMF.mlo.0008-02-21-20400.nc:   0%|          | 0.00/1.13M [00:00<?, ?B/s]"
      ]
     },
     "metadata": {},
     "output_type": "display_data"
    },
    {
     "data": {
      "application/vnd.jupyter.widget-view+json": {
       "model_id": "8ba4c4c1063a4bcb8305f0a656b6aa62",
       "version_major": 2,
       "version_minor": 0
      },
      "text/plain": [
       "E3SM-MMF.mlo.0008-02-21-21600.nc:   0%|          | 0.00/1.13M [00:00<?, ?B/s]"
      ]
     },
     "metadata": {},
     "output_type": "display_data"
    },
    {
     "data": {
      "application/vnd.jupyter.widget-view+json": {
       "model_id": "b8bd8095d89b4e3987f0b02ec24d1b72",
       "version_major": 2,
       "version_minor": 0
      },
      "text/plain": [
       "E3SM-MMF.mlo.0008-02-21-22800.nc:   0%|          | 0.00/1.13M [00:00<?, ?B/s]"
      ]
     },
     "metadata": {},
     "output_type": "display_data"
    },
    {
     "data": {
      "application/vnd.jupyter.widget-view+json": {
       "model_id": "cc8e2b7435fc4315b9f47f882dc0c43f",
       "version_major": 2,
       "version_minor": 0
      },
      "text/plain": [
       "E3SM-MMF.mlo.0008-02-21-24000.nc:   0%|          | 0.00/1.13M [00:00<?, ?B/s]"
      ]
     },
     "metadata": {},
     "output_type": "display_data"
    },
    {
     "data": {
      "application/vnd.jupyter.widget-view+json": {
       "model_id": "dfeb3921fa494616b3e07e25443b600a",
       "version_major": 2,
       "version_minor": 0
      },
      "text/plain": [
       "E3SM-MMF.mlo.0008-02-21-25200.nc:   0%|          | 0.00/1.13M [00:00<?, ?B/s]"
      ]
     },
     "metadata": {},
     "output_type": "display_data"
    },
    {
     "data": {
      "application/vnd.jupyter.widget-view+json": {
       "model_id": "01e67e0d83254fc38f6183edc47e2430",
       "version_major": 2,
       "version_minor": 0
      },
      "text/plain": [
       "E3SM-MMF.mlo.0008-02-21-26400.nc:   0%|          | 0.00/1.13M [00:00<?, ?B/s]"
      ]
     },
     "metadata": {},
     "output_type": "display_data"
    },
    {
     "data": {
      "application/vnd.jupyter.widget-view+json": {
       "model_id": "245bfcc19db441f1bb7a0a169583051d",
       "version_major": 2,
       "version_minor": 0
      },
      "text/plain": [
       "E3SM-MMF.mlo.0008-02-21-27600.nc:   0%|          | 0.00/1.13M [00:00<?, ?B/s]"
      ]
     },
     "metadata": {},
     "output_type": "display_data"
    },
    {
     "data": {
      "application/vnd.jupyter.widget-view+json": {
       "model_id": "549434eb88be41ff911cd689618cdbab",
       "version_major": 2,
       "version_minor": 0
      },
      "text/plain": [
       "E3SM-MMF.mlo.0008-02-21-28800.nc:   0%|          | 0.00/1.13M [00:00<?, ?B/s]"
      ]
     },
     "metadata": {},
     "output_type": "display_data"
    },
    {
     "data": {
      "application/vnd.jupyter.widget-view+json": {
       "model_id": "092ac08a5e904b59baff9e2c8c36d89c",
       "version_major": 2,
       "version_minor": 0
      },
      "text/plain": [
       "E3SM-MMF.mlo.0008-02-21-30000.nc:   0%|          | 0.00/1.13M [00:00<?, ?B/s]"
      ]
     },
     "metadata": {},
     "output_type": "display_data"
    },
    {
     "data": {
      "application/vnd.jupyter.widget-view+json": {
       "model_id": "b2a8568a88b04b289946a453eb905ca9",
       "version_major": 2,
       "version_minor": 0
      },
      "text/plain": [
       "E3SM-MMF.mlo.0008-02-21-31200.nc:   0%|          | 0.00/1.13M [00:00<?, ?B/s]"
      ]
     },
     "metadata": {},
     "output_type": "display_data"
    },
    {
     "data": {
      "application/vnd.jupyter.widget-view+json": {
       "model_id": "3d3a7feba3f34ede9e9fdd820d34a21a",
       "version_major": 2,
       "version_minor": 0
      },
      "text/plain": [
       "E3SM-MMF.mlo.0008-02-21-32400.nc:   0%|          | 0.00/1.13M [00:00<?, ?B/s]"
      ]
     },
     "metadata": {},
     "output_type": "display_data"
    },
    {
     "data": {
      "application/vnd.jupyter.widget-view+json": {
       "model_id": "dfedc635cb1b4218aa25553d684f12ac",
       "version_major": 2,
       "version_minor": 0
      },
      "text/plain": [
       "E3SM-MMF.mlo.0008-02-21-33600.nc:   0%|          | 0.00/1.13M [00:00<?, ?B/s]"
      ]
     },
     "metadata": {},
     "output_type": "display_data"
    },
    {
     "data": {
      "application/vnd.jupyter.widget-view+json": {
       "model_id": "7a63d9bc2761468fb58521ad71b82c0c",
       "version_major": 2,
       "version_minor": 0
      },
      "text/plain": [
       "E3SM-MMF.mlo.0008-02-21-34800.nc:   0%|          | 0.00/1.13M [00:00<?, ?B/s]"
      ]
     },
     "metadata": {},
     "output_type": "display_data"
    },
    {
     "data": {
      "application/vnd.jupyter.widget-view+json": {
       "model_id": "3b0749be49364878af1acf51dceaad72",
       "version_major": 2,
       "version_minor": 0
      },
      "text/plain": [
       "E3SM-MMF.mlo.0008-02-21-36000.nc:   0%|          | 0.00/1.13M [00:00<?, ?B/s]"
      ]
     },
     "metadata": {},
     "output_type": "display_data"
    },
    {
     "data": {
      "application/vnd.jupyter.widget-view+json": {
       "model_id": "9eb5bb5fa9704b7fb9ca920c711bb29e",
       "version_major": 2,
       "version_minor": 0
      },
      "text/plain": [
       "E3SM-MMF.mlo.0008-02-21-37200.nc:   0%|          | 0.00/1.13M [00:00<?, ?B/s]"
      ]
     },
     "metadata": {},
     "output_type": "display_data"
    },
    {
     "data": {
      "application/vnd.jupyter.widget-view+json": {
       "model_id": "a7b3fc5da11c4b91a848b8bb36adc9be",
       "version_major": 2,
       "version_minor": 0
      },
      "text/plain": [
       "E3SM-MMF.mlo.0008-02-21-38400.nc:   0%|          | 0.00/1.13M [00:00<?, ?B/s]"
      ]
     },
     "metadata": {},
     "output_type": "display_data"
    },
    {
     "data": {
      "application/vnd.jupyter.widget-view+json": {
       "model_id": "44642878ec734b959d7b83c65826923a",
       "version_major": 2,
       "version_minor": 0
      },
      "text/plain": [
       "E3SM-MMF.mlo.0008-02-21-39600.nc:   0%|          | 0.00/1.13M [00:00<?, ?B/s]"
      ]
     },
     "metadata": {},
     "output_type": "display_data"
    },
    {
     "data": {
      "application/vnd.jupyter.widget-view+json": {
       "model_id": "337e5f1758804b288681b6aad1f53229",
       "version_major": 2,
       "version_minor": 0
      },
      "text/plain": [
       "E3SM-MMF.mlo.0008-02-21-40800.nc:   0%|          | 0.00/1.13M [00:00<?, ?B/s]"
      ]
     },
     "metadata": {},
     "output_type": "display_data"
    },
    {
     "data": {
      "application/vnd.jupyter.widget-view+json": {
       "model_id": "64e484c1cd8c4b10a87a3afacdd39526",
       "version_major": 2,
       "version_minor": 0
      },
      "text/plain": [
       "E3SM-MMF.mlo.0008-02-21-42000.nc:   0%|          | 0.00/1.13M [00:00<?, ?B/s]"
      ]
     },
     "metadata": {},
     "output_type": "display_data"
    },
    {
     "data": {
      "application/vnd.jupyter.widget-view+json": {
       "model_id": "42879974308b4021940b40311952d550",
       "version_major": 2,
       "version_minor": 0
      },
      "text/plain": [
       "E3SM-MMF.mlo.0008-02-21-43200.nc:   0%|          | 0.00/1.13M [00:00<?, ?B/s]"
      ]
     },
     "metadata": {},
     "output_type": "display_data"
    },
    {
     "data": {
      "application/vnd.jupyter.widget-view+json": {
       "model_id": "7b4d4d4b7c0b403fb28fefdb55e83df0",
       "version_major": 2,
       "version_minor": 0
      },
      "text/plain": [
       "E3SM-MMF.mlo.0008-02-21-44400.nc:   0%|          | 0.00/1.13M [00:00<?, ?B/s]"
      ]
     },
     "metadata": {},
     "output_type": "display_data"
    },
    {
     "data": {
      "application/vnd.jupyter.widget-view+json": {
       "model_id": "f2d851649caf4a3c9a8d7350dedcd609",
       "version_major": 2,
       "version_minor": 0
      },
      "text/plain": [
       "E3SM-MMF.mlo.0008-02-21-45600.nc:   0%|          | 0.00/1.13M [00:00<?, ?B/s]"
      ]
     },
     "metadata": {},
     "output_type": "display_data"
    },
    {
     "data": {
      "application/vnd.jupyter.widget-view+json": {
       "model_id": "47f8c43c31ec4522b2dcc75f9222a791",
       "version_major": 2,
       "version_minor": 0
      },
      "text/plain": [
       "E3SM-MMF.mlo.0008-02-21-46800.nc:   0%|          | 0.00/1.13M [00:00<?, ?B/s]"
      ]
     },
     "metadata": {},
     "output_type": "display_data"
    },
    {
     "data": {
      "application/vnd.jupyter.widget-view+json": {
       "model_id": "57c17b6212024b68a6112a6db8b0d5b5",
       "version_major": 2,
       "version_minor": 0
      },
      "text/plain": [
       "E3SM-MMF.mlo.0008-02-21-48000.nc:   0%|          | 0.00/1.13M [00:00<?, ?B/s]"
      ]
     },
     "metadata": {},
     "output_type": "display_data"
    },
    {
     "data": {
      "application/vnd.jupyter.widget-view+json": {
       "model_id": "ddfdc23252f044aba0f5292b972211aa",
       "version_major": 2,
       "version_minor": 0
      },
      "text/plain": [
       "E3SM-MMF.mlo.0008-02-21-49200.nc:   0%|          | 0.00/1.13M [00:00<?, ?B/s]"
      ]
     },
     "metadata": {},
     "output_type": "display_data"
    },
    {
     "data": {
      "application/vnd.jupyter.widget-view+json": {
       "model_id": "fed01d32a9c9493ea290881c8467ccda",
       "version_major": 2,
       "version_minor": 0
      },
      "text/plain": [
       "E3SM-MMF.mlo.0008-02-21-50400.nc:   0%|          | 0.00/1.13M [00:00<?, ?B/s]"
      ]
     },
     "metadata": {},
     "output_type": "display_data"
    },
    {
     "data": {
      "application/vnd.jupyter.widget-view+json": {
       "model_id": "c80bf760fe99473b9c499a2d224939d4",
       "version_major": 2,
       "version_minor": 0
      },
      "text/plain": [
       "E3SM-MMF.mlo.0008-02-21-51600.nc:   0%|          | 0.00/1.13M [00:00<?, ?B/s]"
      ]
     },
     "metadata": {},
     "output_type": "display_data"
    },
    {
     "data": {
      "application/vnd.jupyter.widget-view+json": {
       "model_id": "20259b39281d4ccda4da57af86ded8e5",
       "version_major": 2,
       "version_minor": 0
      },
      "text/plain": [
       "E3SM-MMF.mlo.0008-02-21-52800.nc:   0%|          | 0.00/1.13M [00:00<?, ?B/s]"
      ]
     },
     "metadata": {},
     "output_type": "display_data"
    },
    {
     "data": {
      "application/vnd.jupyter.widget-view+json": {
       "model_id": "10454d55578f4312bb017dd6100cbd9a",
       "version_major": 2,
       "version_minor": 0
      },
      "text/plain": [
       "E3SM-MMF.mlo.0008-02-21-54000.nc:   0%|          | 0.00/1.13M [00:00<?, ?B/s]"
      ]
     },
     "metadata": {},
     "output_type": "display_data"
    },
    {
     "data": {
      "application/vnd.jupyter.widget-view+json": {
       "model_id": "3575998d7db94e5cad616ecf28180513",
       "version_major": 2,
       "version_minor": 0
      },
      "text/plain": [
       "E3SM-MMF.mlo.0008-02-21-55200.nc:   0%|          | 0.00/1.13M [00:00<?, ?B/s]"
      ]
     },
     "metadata": {},
     "output_type": "display_data"
    },
    {
     "data": {
      "application/vnd.jupyter.widget-view+json": {
       "model_id": "4dc867a9eac04d04b7eabc090de09076",
       "version_major": 2,
       "version_minor": 0
      },
      "text/plain": [
       "E3SM-MMF.mlo.0008-02-21-56400.nc:   0%|          | 0.00/1.13M [00:00<?, ?B/s]"
      ]
     },
     "metadata": {},
     "output_type": "display_data"
    },
    {
     "data": {
      "application/vnd.jupyter.widget-view+json": {
       "model_id": "5438fe6eea6c43c7ae15584a753003bf",
       "version_major": 2,
       "version_minor": 0
      },
      "text/plain": [
       "E3SM-MMF.mlo.0008-02-21-57600.nc:   0%|          | 0.00/1.13M [00:00<?, ?B/s]"
      ]
     },
     "metadata": {},
     "output_type": "display_data"
    },
    {
     "data": {
      "application/vnd.jupyter.widget-view+json": {
       "model_id": "0583f31e1e684014a929786857ba5e09",
       "version_major": 2,
       "version_minor": 0
      },
      "text/plain": [
       "E3SM-MMF.mlo.0008-02-21-58800.nc:   0%|          | 0.00/1.13M [00:00<?, ?B/s]"
      ]
     },
     "metadata": {},
     "output_type": "display_data"
    },
    {
     "data": {
      "application/vnd.jupyter.widget-view+json": {
       "model_id": "5b459a1c80904cdb8fb6336a273e956d",
       "version_major": 2,
       "version_minor": 0
      },
      "text/plain": [
       "E3SM-MMF.mlo.0008-02-21-60000.nc:   0%|          | 0.00/1.13M [00:00<?, ?B/s]"
      ]
     },
     "metadata": {},
     "output_type": "display_data"
    },
    {
     "data": {
      "application/vnd.jupyter.widget-view+json": {
       "model_id": "ab68cfc586e748558f0eeca08605dc75",
       "version_major": 2,
       "version_minor": 0
      },
      "text/plain": [
       "E3SM-MMF.mlo.0008-02-21-61200.nc:   0%|          | 0.00/1.13M [00:00<?, ?B/s]"
      ]
     },
     "metadata": {},
     "output_type": "display_data"
    },
    {
     "data": {
      "application/vnd.jupyter.widget-view+json": {
       "model_id": "fe4cfbe24d884d9eae67cf61bf0d7ff7",
       "version_major": 2,
       "version_minor": 0
      },
      "text/plain": [
       "E3SM-MMF.mlo.0008-02-21-62400.nc:   0%|          | 0.00/1.13M [00:00<?, ?B/s]"
      ]
     },
     "metadata": {},
     "output_type": "display_data"
    },
    {
     "data": {
      "application/vnd.jupyter.widget-view+json": {
       "model_id": "0fab9123921743858e8be3f8522dabe9",
       "version_major": 2,
       "version_minor": 0
      },
      "text/plain": [
       "E3SM-MMF.mlo.0008-02-21-63600.nc:   0%|          | 0.00/1.13M [00:00<?, ?B/s]"
      ]
     },
     "metadata": {},
     "output_type": "display_data"
    },
    {
     "data": {
      "application/vnd.jupyter.widget-view+json": {
       "model_id": "65b8cbb1e52044ff9c95b9fac4b71f54",
       "version_major": 2,
       "version_minor": 0
      },
      "text/plain": [
       "E3SM-MMF.mlo.0008-02-21-64800.nc:   0%|          | 0.00/1.13M [00:00<?, ?B/s]"
      ]
     },
     "metadata": {},
     "output_type": "display_data"
    },
    {
     "data": {
      "application/vnd.jupyter.widget-view+json": {
       "model_id": "29608de992ca46c583617e3fd1cd7753",
       "version_major": 2,
       "version_minor": 0
      },
      "text/plain": [
       "E3SM-MMF.mlo.0008-02-21-66000.nc:   0%|          | 0.00/1.13M [00:00<?, ?B/s]"
      ]
     },
     "metadata": {},
     "output_type": "display_data"
    },
    {
     "data": {
      "application/vnd.jupyter.widget-view+json": {
       "model_id": "6bb189eea6ad4c6faa34f9ed3fffd25d",
       "version_major": 2,
       "version_minor": 0
      },
      "text/plain": [
       "E3SM-MMF.mlo.0008-02-21-67200.nc:   0%|          | 0.00/1.13M [00:00<?, ?B/s]"
      ]
     },
     "metadata": {},
     "output_type": "display_data"
    },
    {
     "data": {
      "application/vnd.jupyter.widget-view+json": {
       "model_id": "379466a1b6b14164a9bf4c54e11b0737",
       "version_major": 2,
       "version_minor": 0
      },
      "text/plain": [
       "E3SM-MMF.mlo.0008-02-21-68400.nc:   0%|          | 0.00/1.13M [00:00<?, ?B/s]"
      ]
     },
     "metadata": {},
     "output_type": "display_data"
    },
    {
     "data": {
      "application/vnd.jupyter.widget-view+json": {
       "model_id": "c2aa91b1db644273b66f686e72086368",
       "version_major": 2,
       "version_minor": 0
      },
      "text/plain": [
       "E3SM-MMF.mlo.0008-02-21-69600.nc:   0%|          | 0.00/1.13M [00:00<?, ?B/s]"
      ]
     },
     "metadata": {},
     "output_type": "display_data"
    },
    {
     "data": {
      "application/vnd.jupyter.widget-view+json": {
       "model_id": "d5475be8eddb4b709088aed23b8b1859",
       "version_major": 2,
       "version_minor": 0
      },
      "text/plain": [
       "E3SM-MMF.mlo.0008-02-21-70800.nc:   0%|          | 0.00/1.13M [00:00<?, ?B/s]"
      ]
     },
     "metadata": {},
     "output_type": "display_data"
    },
    {
     "data": {
      "application/vnd.jupyter.widget-view+json": {
       "model_id": "70fc76694265443695e936e60911e78e",
       "version_major": 2,
       "version_minor": 0
      },
      "text/plain": [
       "E3SM-MMF.mlo.0008-02-21-72000.nc:   0%|          | 0.00/1.13M [00:00<?, ?B/s]"
      ]
     },
     "metadata": {},
     "output_type": "display_data"
    },
    {
     "data": {
      "application/vnd.jupyter.widget-view+json": {
       "model_id": "cdca8635b9304c0a9ce8d5af1ba4996e",
       "version_major": 2,
       "version_minor": 0
      },
      "text/plain": [
       "E3SM-MMF.mlo.0008-02-21-73200.nc:   0%|          | 0.00/1.13M [00:00<?, ?B/s]"
      ]
     },
     "metadata": {},
     "output_type": "display_data"
    },
    {
     "data": {
      "application/vnd.jupyter.widget-view+json": {
       "model_id": "47648780e9954452b52df10462c6b782",
       "version_major": 2,
       "version_minor": 0
      },
      "text/plain": [
       "E3SM-MMF.mlo.0008-02-21-74400.nc:   0%|          | 0.00/1.13M [00:00<?, ?B/s]"
      ]
     },
     "metadata": {},
     "output_type": "display_data"
    },
    {
     "data": {
      "application/vnd.jupyter.widget-view+json": {
       "model_id": "918f5431ab8c4975b6182b52bb1baad5",
       "version_major": 2,
       "version_minor": 0
      },
      "text/plain": [
       "E3SM-MMF.mlo.0008-02-21-75600.nc:   0%|          | 0.00/1.13M [00:00<?, ?B/s]"
      ]
     },
     "metadata": {},
     "output_type": "display_data"
    },
    {
     "data": {
      "application/vnd.jupyter.widget-view+json": {
       "model_id": "d1cd33cb98344f4497a1c1176cb05445",
       "version_major": 2,
       "version_minor": 0
      },
      "text/plain": [
       "E3SM-MMF.mlo.0008-02-21-76800.nc:   0%|          | 0.00/1.13M [00:00<?, ?B/s]"
      ]
     },
     "metadata": {},
     "output_type": "display_data"
    },
    {
     "data": {
      "application/vnd.jupyter.widget-view+json": {
       "model_id": "4b1152cf84794036a56881287574b2c8",
       "version_major": 2,
       "version_minor": 0
      },
      "text/plain": [
       "E3SM-MMF.mlo.0008-02-21-78000.nc:   0%|          | 0.00/1.13M [00:00<?, ?B/s]"
      ]
     },
     "metadata": {},
     "output_type": "display_data"
    },
    {
     "data": {
      "application/vnd.jupyter.widget-view+json": {
       "model_id": "4911fbf727c24a87ab0730d6f734d580",
       "version_major": 2,
       "version_minor": 0
      },
      "text/plain": [
       "E3SM-MMF.mlo.0008-02-21-79200.nc:   0%|          | 0.00/1.13M [00:00<?, ?B/s]"
      ]
     },
     "metadata": {},
     "output_type": "display_data"
    },
    {
     "data": {
      "application/vnd.jupyter.widget-view+json": {
       "model_id": "b897febb5866479ca756ba8025820670",
       "version_major": 2,
       "version_minor": 0
      },
      "text/plain": [
       "E3SM-MMF.mlo.0008-02-21-80400.nc:   0%|          | 0.00/1.13M [00:00<?, ?B/s]"
      ]
     },
     "metadata": {},
     "output_type": "display_data"
    },
    {
     "data": {
      "application/vnd.jupyter.widget-view+json": {
       "model_id": "e21b9c82e36b4cb298c05d25ef77e411",
       "version_major": 2,
       "version_minor": 0
      },
      "text/plain": [
       "E3SM-MMF.mlo.0008-02-21-81600.nc:   0%|          | 0.00/1.13M [00:00<?, ?B/s]"
      ]
     },
     "metadata": {},
     "output_type": "display_data"
    },
    {
     "data": {
      "application/vnd.jupyter.widget-view+json": {
       "model_id": "e79c132a168849d39eb9aeb359987b67",
       "version_major": 2,
       "version_minor": 0
      },
      "text/plain": [
       "E3SM-MMF.mlo.0008-02-21-82800.nc:   0%|          | 0.00/1.13M [00:00<?, ?B/s]"
      ]
     },
     "metadata": {},
     "output_type": "display_data"
    },
    {
     "data": {
      "application/vnd.jupyter.widget-view+json": {
       "model_id": "ba37f1713fc743fca7416ebee467ab60",
       "version_major": 2,
       "version_minor": 0
      },
      "text/plain": [
       "E3SM-MMF.mlo.0008-02-21-84000.nc:   0%|          | 0.00/1.13M [00:00<?, ?B/s]"
      ]
     },
     "metadata": {},
     "output_type": "display_data"
    },
    {
     "data": {
      "application/vnd.jupyter.widget-view+json": {
       "model_id": "109e6bb0a3a34b5c8c9e4937f0012965",
       "version_major": 2,
       "version_minor": 0
      },
      "text/plain": [
       "E3SM-MMF.mlo.0008-02-21-85200.nc:   0%|          | 0.00/1.13M [00:00<?, ?B/s]"
      ]
     },
     "metadata": {},
     "output_type": "display_data"
    },
    {
     "data": {
      "application/vnd.jupyter.widget-view+json": {
       "model_id": "87906fe9c1f54e7d8072b4a2866aa041",
       "version_major": 2,
       "version_minor": 0
      },
      "text/plain": [
       "E3SM-MMF.mlo.0008-02-22-00000.nc:   0%|          | 0.00/1.13M [00:00<?, ?B/s]"
      ]
     },
     "metadata": {},
     "output_type": "display_data"
    },
    {
     "data": {
      "application/vnd.jupyter.widget-view+json": {
       "model_id": "73000693c3b24da78bd7c846e13d2bf9",
       "version_major": 2,
       "version_minor": 0
      },
      "text/plain": [
       "E3SM-MMF.mlo.0008-02-22-01200.nc:   0%|          | 0.00/1.13M [00:00<?, ?B/s]"
      ]
     },
     "metadata": {},
     "output_type": "display_data"
    },
    {
     "data": {
      "application/vnd.jupyter.widget-view+json": {
       "model_id": "c2581ad1427940489ad4ced90c802c5c",
       "version_major": 2,
       "version_minor": 0
      },
      "text/plain": [
       "E3SM-MMF.mlo.0008-02-22-02400.nc:   0%|          | 0.00/1.13M [00:00<?, ?B/s]"
      ]
     },
     "metadata": {},
     "output_type": "display_data"
    },
    {
     "data": {
      "application/vnd.jupyter.widget-view+json": {
       "model_id": "bac01f6fd9af4cd48d59cee05a8bbd6d",
       "version_major": 2,
       "version_minor": 0
      },
      "text/plain": [
       "E3SM-MMF.mlo.0008-02-22-03600.nc:   0%|          | 0.00/1.13M [00:00<?, ?B/s]"
      ]
     },
     "metadata": {},
     "output_type": "display_data"
    },
    {
     "data": {
      "application/vnd.jupyter.widget-view+json": {
       "model_id": "ac917b9486744291ad6f702dd49cd7e0",
       "version_major": 2,
       "version_minor": 0
      },
      "text/plain": [
       "E3SM-MMF.mlo.0008-02-22-04800.nc:   0%|          | 0.00/1.13M [00:00<?, ?B/s]"
      ]
     },
     "metadata": {},
     "output_type": "display_data"
    },
    {
     "data": {
      "application/vnd.jupyter.widget-view+json": {
       "model_id": "ecbf0ec09674477fb73c4aad0b7068b9",
       "version_major": 2,
       "version_minor": 0
      },
      "text/plain": [
       "E3SM-MMF.mlo.0008-02-22-06000.nc:   0%|          | 0.00/1.13M [00:00<?, ?B/s]"
      ]
     },
     "metadata": {},
     "output_type": "display_data"
    },
    {
     "data": {
      "application/vnd.jupyter.widget-view+json": {
       "model_id": "555b444ee1c348709bcfc9689dccbe39",
       "version_major": 2,
       "version_minor": 0
      },
      "text/plain": [
       "E3SM-MMF.mlo.0008-02-22-07200.nc:   0%|          | 0.00/1.13M [00:00<?, ?B/s]"
      ]
     },
     "metadata": {},
     "output_type": "display_data"
    },
    {
     "data": {
      "application/vnd.jupyter.widget-view+json": {
       "model_id": "018ca7be996843c499fce2b419bc0420",
       "version_major": 2,
       "version_minor": 0
      },
      "text/plain": [
       "E3SM-MMF.mlo.0008-02-22-08400.nc:   0%|          | 0.00/1.13M [00:00<?, ?B/s]"
      ]
     },
     "metadata": {},
     "output_type": "display_data"
    },
    {
     "data": {
      "application/vnd.jupyter.widget-view+json": {
       "model_id": "97cebeb0f3f846acb24f3c25cb245fa3",
       "version_major": 2,
       "version_minor": 0
      },
      "text/plain": [
       "E3SM-MMF.mlo.0008-02-22-09600.nc:   0%|          | 0.00/1.13M [00:00<?, ?B/s]"
      ]
     },
     "metadata": {},
     "output_type": "display_data"
    },
    {
     "data": {
      "application/vnd.jupyter.widget-view+json": {
       "model_id": "1aec21a1af5c42408e349f66b1fa08e8",
       "version_major": 2,
       "version_minor": 0
      },
      "text/plain": [
       "E3SM-MMF.mlo.0008-02-22-10800.nc:   0%|          | 0.00/1.13M [00:00<?, ?B/s]"
      ]
     },
     "metadata": {},
     "output_type": "display_data"
    },
    {
     "data": {
      "application/vnd.jupyter.widget-view+json": {
       "model_id": "c327d3d5c23e4d1fb75fb99fbcf01a30",
       "version_major": 2,
       "version_minor": 0
      },
      "text/plain": [
       "E3SM-MMF.mlo.0008-02-22-12000.nc:   0%|          | 0.00/1.13M [00:00<?, ?B/s]"
      ]
     },
     "metadata": {},
     "output_type": "display_data"
    },
    {
     "data": {
      "application/vnd.jupyter.widget-view+json": {
       "model_id": "b5da6c2a8cc844c881cc6477cb576da7",
       "version_major": 2,
       "version_minor": 0
      },
      "text/plain": [
       "E3SM-MMF.mlo.0008-02-22-13200.nc:   0%|          | 0.00/1.13M [00:00<?, ?B/s]"
      ]
     },
     "metadata": {},
     "output_type": "display_data"
    },
    {
     "data": {
      "application/vnd.jupyter.widget-view+json": {
       "model_id": "e16cc54b3e344ce6a42f9fff12ff7a04",
       "version_major": 2,
       "version_minor": 0
      },
      "text/plain": [
       "E3SM-MMF.mlo.0008-02-22-14400.nc:   0%|          | 0.00/1.13M [00:00<?, ?B/s]"
      ]
     },
     "metadata": {},
     "output_type": "display_data"
    },
    {
     "data": {
      "application/vnd.jupyter.widget-view+json": {
       "model_id": "565b635dfe834a15ae43db9647f1b77a",
       "version_major": 2,
       "version_minor": 0
      },
      "text/plain": [
       "E3SM-MMF.mlo.0008-02-22-15600.nc:   0%|          | 0.00/1.13M [00:00<?, ?B/s]"
      ]
     },
     "metadata": {},
     "output_type": "display_data"
    },
    {
     "data": {
      "application/vnd.jupyter.widget-view+json": {
       "model_id": "76a216974c9e48b7807fdf6b194d9ba5",
       "version_major": 2,
       "version_minor": 0
      },
      "text/plain": [
       "E3SM-MMF.mlo.0008-02-22-16800.nc:   0%|          | 0.00/1.13M [00:00<?, ?B/s]"
      ]
     },
     "metadata": {},
     "output_type": "display_data"
    },
    {
     "data": {
      "application/vnd.jupyter.widget-view+json": {
       "model_id": "39b0ba456cda4d4dbf457555f50c3a1e",
       "version_major": 2,
       "version_minor": 0
      },
      "text/plain": [
       "E3SM-MMF.mlo.0008-02-22-18000.nc:   0%|          | 0.00/1.13M [00:00<?, ?B/s]"
      ]
     },
     "metadata": {},
     "output_type": "display_data"
    },
    {
     "data": {
      "application/vnd.jupyter.widget-view+json": {
       "model_id": "0aa4e3bd41934c6a9745a9ea84b572c3",
       "version_major": 2,
       "version_minor": 0
      },
      "text/plain": [
       "E3SM-MMF.mlo.0008-02-22-19200.nc:   0%|          | 0.00/1.13M [00:00<?, ?B/s]"
      ]
     },
     "metadata": {},
     "output_type": "display_data"
    },
    {
     "data": {
      "application/vnd.jupyter.widget-view+json": {
       "model_id": "e87ce7b51e7e42c7a43d185b15caf321",
       "version_major": 2,
       "version_minor": 0
      },
      "text/plain": [
       "E3SM-MMF.mlo.0008-02-22-20400.nc:   0%|          | 0.00/1.13M [00:00<?, ?B/s]"
      ]
     },
     "metadata": {},
     "output_type": "display_data"
    },
    {
     "data": {
      "application/vnd.jupyter.widget-view+json": {
       "model_id": "2d2a943d5ffd43da9a9e6b03f3c7dc57",
       "version_major": 2,
       "version_minor": 0
      },
      "text/plain": [
       "E3SM-MMF.mlo.0008-02-22-21600.nc:   0%|          | 0.00/1.13M [00:00<?, ?B/s]"
      ]
     },
     "metadata": {},
     "output_type": "display_data"
    },
    {
     "data": {
      "application/vnd.jupyter.widget-view+json": {
       "model_id": "d44dc0e8a019494a99f4a8d7adc6a6f1",
       "version_major": 2,
       "version_minor": 0
      },
      "text/plain": [
       "E3SM-MMF.mlo.0008-02-22-22800.nc:   0%|          | 0.00/1.13M [00:00<?, ?B/s]"
      ]
     },
     "metadata": {},
     "output_type": "display_data"
    },
    {
     "data": {
      "application/vnd.jupyter.widget-view+json": {
       "model_id": "d400301f42d64b539471bb99e795d695",
       "version_major": 2,
       "version_minor": 0
      },
      "text/plain": [
       "E3SM-MMF.mlo.0008-02-22-24000.nc:   0%|          | 0.00/1.13M [00:00<?, ?B/s]"
      ]
     },
     "metadata": {},
     "output_type": "display_data"
    },
    {
     "data": {
      "application/vnd.jupyter.widget-view+json": {
       "model_id": "ccae94a8e8da476fa2a86226b379d5fc",
       "version_major": 2,
       "version_minor": 0
      },
      "text/plain": [
       "E3SM-MMF.mlo.0008-02-22-25200.nc:   0%|          | 0.00/1.13M [00:00<?, ?B/s]"
      ]
     },
     "metadata": {},
     "output_type": "display_data"
    },
    {
     "data": {
      "application/vnd.jupyter.widget-view+json": {
       "model_id": "448657ac8ee94981a75f3566351aec78",
       "version_major": 2,
       "version_minor": 0
      },
      "text/plain": [
       "E3SM-MMF.mlo.0008-02-22-26400.nc:   0%|          | 0.00/1.13M [00:00<?, ?B/s]"
      ]
     },
     "metadata": {},
     "output_type": "display_data"
    },
    {
     "data": {
      "application/vnd.jupyter.widget-view+json": {
       "model_id": "44abe2a24a55441e90c5646eef87b904",
       "version_major": 2,
       "version_minor": 0
      },
      "text/plain": [
       "E3SM-MMF.mlo.0008-02-22-27600.nc:   0%|          | 0.00/1.13M [00:00<?, ?B/s]"
      ]
     },
     "metadata": {},
     "output_type": "display_data"
    },
    {
     "data": {
      "application/vnd.jupyter.widget-view+json": {
       "model_id": "5745718dfc1b4f0b826fd996aa976503",
       "version_major": 2,
       "version_minor": 0
      },
      "text/plain": [
       "E3SM-MMF.mlo.0008-02-22-28800.nc:   0%|          | 0.00/1.13M [00:00<?, ?B/s]"
      ]
     },
     "metadata": {},
     "output_type": "display_data"
    },
    {
     "data": {
      "application/vnd.jupyter.widget-view+json": {
       "model_id": "05559b6f6e7244ae9119cdc212fff6d9",
       "version_major": 2,
       "version_minor": 0
      },
      "text/plain": [
       "E3SM-MMF.mlo.0008-02-22-30000.nc:   0%|          | 0.00/1.13M [00:00<?, ?B/s]"
      ]
     },
     "metadata": {},
     "output_type": "display_data"
    },
    {
     "data": {
      "application/vnd.jupyter.widget-view+json": {
       "model_id": "0df48965938340eaa92d62f673630dc1",
       "version_major": 2,
       "version_minor": 0
      },
      "text/plain": [
       "E3SM-MMF.mlo.0008-02-22-31200.nc:   0%|          | 0.00/1.13M [00:00<?, ?B/s]"
      ]
     },
     "metadata": {},
     "output_type": "display_data"
    },
    {
     "data": {
      "application/vnd.jupyter.widget-view+json": {
       "model_id": "6cd102d5d5524631906e2d5dc75f94a1",
       "version_major": 2,
       "version_minor": 0
      },
      "text/plain": [
       "E3SM-MMF.mlo.0008-02-22-32400.nc:   0%|          | 0.00/1.13M [00:00<?, ?B/s]"
      ]
     },
     "metadata": {},
     "output_type": "display_data"
    },
    {
     "data": {
      "application/vnd.jupyter.widget-view+json": {
       "model_id": "1bda2f3373f14e99aad080b29ed35b6e",
       "version_major": 2,
       "version_minor": 0
      },
      "text/plain": [
       "E3SM-MMF.mlo.0008-02-22-33600.nc:   0%|          | 0.00/1.13M [00:00<?, ?B/s]"
      ]
     },
     "metadata": {},
     "output_type": "display_data"
    },
    {
     "data": {
      "application/vnd.jupyter.widget-view+json": {
       "model_id": "03729c47e7304ce18e58b0d397769e99",
       "version_major": 2,
       "version_minor": 0
      },
      "text/plain": [
       "E3SM-MMF.mlo.0008-02-22-34800.nc:   0%|          | 0.00/1.13M [00:00<?, ?B/s]"
      ]
     },
     "metadata": {},
     "output_type": "display_data"
    },
    {
     "data": {
      "application/vnd.jupyter.widget-view+json": {
       "model_id": "f613a11ec0af48c3a7fb11bef0296fb1",
       "version_major": 2,
       "version_minor": 0
      },
      "text/plain": [
       "E3SM-MMF.mlo.0008-02-22-36000.nc:   0%|          | 0.00/1.13M [00:00<?, ?B/s]"
      ]
     },
     "metadata": {},
     "output_type": "display_data"
    },
    {
     "data": {
      "application/vnd.jupyter.widget-view+json": {
       "model_id": "98216264b9bc4effa0988e9a7168da4e",
       "version_major": 2,
       "version_minor": 0
      },
      "text/plain": [
       "E3SM-MMF.mlo.0008-02-22-37200.nc:   0%|          | 0.00/1.13M [00:00<?, ?B/s]"
      ]
     },
     "metadata": {},
     "output_type": "display_data"
    },
    {
     "data": {
      "application/vnd.jupyter.widget-view+json": {
       "model_id": "d0b1dfc0f3f24c2786964f11248ec2f5",
       "version_major": 2,
       "version_minor": 0
      },
      "text/plain": [
       "E3SM-MMF.mlo.0008-02-22-38400.nc:   0%|          | 0.00/1.13M [00:00<?, ?B/s]"
      ]
     },
     "metadata": {},
     "output_type": "display_data"
    },
    {
     "data": {
      "application/vnd.jupyter.widget-view+json": {
       "model_id": "9f96f91b38e64409b301bcff346660b8",
       "version_major": 2,
       "version_minor": 0
      },
      "text/plain": [
       "E3SM-MMF.mlo.0008-02-22-39600.nc:   0%|          | 0.00/1.13M [00:00<?, ?B/s]"
      ]
     },
     "metadata": {},
     "output_type": "display_data"
    },
    {
     "data": {
      "application/vnd.jupyter.widget-view+json": {
       "model_id": "5ab5fe6fdec04759803b7d44c63c40a2",
       "version_major": 2,
       "version_minor": 0
      },
      "text/plain": [
       "E3SM-MMF.mlo.0008-02-22-40800.nc:   0%|          | 0.00/1.13M [00:00<?, ?B/s]"
      ]
     },
     "metadata": {},
     "output_type": "display_data"
    },
    {
     "data": {
      "application/vnd.jupyter.widget-view+json": {
       "model_id": "c3ad145c2daa47dcad7153f69a7ceb3c",
       "version_major": 2,
       "version_minor": 0
      },
      "text/plain": [
       "E3SM-MMF.mlo.0008-02-22-42000.nc:   0%|          | 0.00/1.13M [00:00<?, ?B/s]"
      ]
     },
     "metadata": {},
     "output_type": "display_data"
    },
    {
     "data": {
      "application/vnd.jupyter.widget-view+json": {
       "model_id": "aeda72b081f244848cfa8a2076d9956f",
       "version_major": 2,
       "version_minor": 0
      },
      "text/plain": [
       "E3SM-MMF.mlo.0008-02-22-43200.nc:   0%|          | 0.00/1.13M [00:00<?, ?B/s]"
      ]
     },
     "metadata": {},
     "output_type": "display_data"
    },
    {
     "data": {
      "application/vnd.jupyter.widget-view+json": {
       "model_id": "99760274f3bb43a8b4c7dab9c7c1e89d",
       "version_major": 2,
       "version_minor": 0
      },
      "text/plain": [
       "E3SM-MMF.mlo.0008-02-22-44400.nc:   0%|          | 0.00/1.13M [00:00<?, ?B/s]"
      ]
     },
     "metadata": {},
     "output_type": "display_data"
    },
    {
     "data": {
      "application/vnd.jupyter.widget-view+json": {
       "model_id": "eb3784f8197d486fb5e075992f467c6c",
       "version_major": 2,
       "version_minor": 0
      },
      "text/plain": [
       "E3SM-MMF.mlo.0008-02-22-45600.nc:   0%|          | 0.00/1.13M [00:00<?, ?B/s]"
      ]
     },
     "metadata": {},
     "output_type": "display_data"
    },
    {
     "data": {
      "application/vnd.jupyter.widget-view+json": {
       "model_id": "c8f2efa3f5064626884ec29909eaaff5",
       "version_major": 2,
       "version_minor": 0
      },
      "text/plain": [
       "E3SM-MMF.mlo.0008-02-22-46800.nc:   0%|          | 0.00/1.13M [00:00<?, ?B/s]"
      ]
     },
     "metadata": {},
     "output_type": "display_data"
    },
    {
     "data": {
      "application/vnd.jupyter.widget-view+json": {
       "model_id": "f41ffb02b9cd4bd2b486b228435c1000",
       "version_major": 2,
       "version_minor": 0
      },
      "text/plain": [
       "E3SM-MMF.mlo.0008-02-22-48000.nc:   0%|          | 0.00/1.13M [00:00<?, ?B/s]"
      ]
     },
     "metadata": {},
     "output_type": "display_data"
    },
    {
     "data": {
      "application/vnd.jupyter.widget-view+json": {
       "model_id": "9aff4823573d4b48b08dae7319e97f11",
       "version_major": 2,
       "version_minor": 0
      },
      "text/plain": [
       "E3SM-MMF.mlo.0008-02-22-49200.nc:   0%|          | 0.00/1.13M [00:00<?, ?B/s]"
      ]
     },
     "metadata": {},
     "output_type": "display_data"
    },
    {
     "data": {
      "application/vnd.jupyter.widget-view+json": {
       "model_id": "b611cfff5e344d1d80d09184065390a6",
       "version_major": 2,
       "version_minor": 0
      },
      "text/plain": [
       "E3SM-MMF.mlo.0008-02-22-50400.nc:   0%|          | 0.00/1.13M [00:00<?, ?B/s]"
      ]
     },
     "metadata": {},
     "output_type": "display_data"
    },
    {
     "data": {
      "application/vnd.jupyter.widget-view+json": {
       "model_id": "4b8ee8dc43b44bf19fbedd3124de1080",
       "version_major": 2,
       "version_minor": 0
      },
      "text/plain": [
       "E3SM-MMF.mlo.0008-02-22-51600.nc:   0%|          | 0.00/1.13M [00:00<?, ?B/s]"
      ]
     },
     "metadata": {},
     "output_type": "display_data"
    },
    {
     "data": {
      "application/vnd.jupyter.widget-view+json": {
       "model_id": "917837f211414f67afee8410245b6d2c",
       "version_major": 2,
       "version_minor": 0
      },
      "text/plain": [
       "E3SM-MMF.mlo.0008-02-22-52800.nc:   0%|          | 0.00/1.13M [00:00<?, ?B/s]"
      ]
     },
     "metadata": {},
     "output_type": "display_data"
    },
    {
     "data": {
      "application/vnd.jupyter.widget-view+json": {
       "model_id": "d0034473eeb34ecf8171e945fceeae75",
       "version_major": 2,
       "version_minor": 0
      },
      "text/plain": [
       "E3SM-MMF.mlo.0008-02-22-54000.nc:   0%|          | 0.00/1.13M [00:00<?, ?B/s]"
      ]
     },
     "metadata": {},
     "output_type": "display_data"
    },
    {
     "data": {
      "application/vnd.jupyter.widget-view+json": {
       "model_id": "7553e3e76f3e4a73bd7bbdd57f182912",
       "version_major": 2,
       "version_minor": 0
      },
      "text/plain": [
       "E3SM-MMF.mlo.0008-02-22-55200.nc:   0%|          | 0.00/1.13M [00:00<?, ?B/s]"
      ]
     },
     "metadata": {},
     "output_type": "display_data"
    },
    {
     "data": {
      "application/vnd.jupyter.widget-view+json": {
       "model_id": "8fe6140bfa0a4df3b9d34e93e88799bb",
       "version_major": 2,
       "version_minor": 0
      },
      "text/plain": [
       "E3SM-MMF.mlo.0008-02-22-56400.nc:   0%|          | 0.00/1.13M [00:00<?, ?B/s]"
      ]
     },
     "metadata": {},
     "output_type": "display_data"
    },
    {
     "data": {
      "application/vnd.jupyter.widget-view+json": {
       "model_id": "c4282fa44d4746858afdab5106cd31e3",
       "version_major": 2,
       "version_minor": 0
      },
      "text/plain": [
       "E3SM-MMF.mlo.0008-02-22-57600.nc:   0%|          | 0.00/1.13M [00:00<?, ?B/s]"
      ]
     },
     "metadata": {},
     "output_type": "display_data"
    },
    {
     "data": {
      "application/vnd.jupyter.widget-view+json": {
       "model_id": "21359195eb5e4249b2d94101e0bd2ddd",
       "version_major": 2,
       "version_minor": 0
      },
      "text/plain": [
       "E3SM-MMF.mlo.0008-02-22-58800.nc:   0%|          | 0.00/1.13M [00:00<?, ?B/s]"
      ]
     },
     "metadata": {},
     "output_type": "display_data"
    },
    {
     "data": {
      "application/vnd.jupyter.widget-view+json": {
       "model_id": "83ffd6ca60cd429d8d27d8b17e11f470",
       "version_major": 2,
       "version_minor": 0
      },
      "text/plain": [
       "E3SM-MMF.mlo.0008-02-22-60000.nc:   0%|          | 0.00/1.13M [00:00<?, ?B/s]"
      ]
     },
     "metadata": {},
     "output_type": "display_data"
    },
    {
     "data": {
      "application/vnd.jupyter.widget-view+json": {
       "model_id": "5a153c038ed94588bd0d9a36c48a2c1a",
       "version_major": 2,
       "version_minor": 0
      },
      "text/plain": [
       "E3SM-MMF.mlo.0008-02-22-61200.nc:   0%|          | 0.00/1.13M [00:00<?, ?B/s]"
      ]
     },
     "metadata": {},
     "output_type": "display_data"
    },
    {
     "data": {
      "application/vnd.jupyter.widget-view+json": {
       "model_id": "d98ca3592aa44dab9a716837e7b99e51",
       "version_major": 2,
       "version_minor": 0
      },
      "text/plain": [
       "E3SM-MMF.mlo.0008-02-22-62400.nc:   0%|          | 0.00/1.13M [00:00<?, ?B/s]"
      ]
     },
     "metadata": {},
     "output_type": "display_data"
    },
    {
     "data": {
      "application/vnd.jupyter.widget-view+json": {
       "model_id": "af2b2a48afb44d01a74687bbf7adc9ad",
       "version_major": 2,
       "version_minor": 0
      },
      "text/plain": [
       "E3SM-MMF.mlo.0008-02-22-63600.nc:   0%|          | 0.00/1.13M [00:00<?, ?B/s]"
      ]
     },
     "metadata": {},
     "output_type": "display_data"
    },
    {
     "data": {
      "application/vnd.jupyter.widget-view+json": {
       "model_id": "4da76ad5b7de418b938b53b5b28c7f4a",
       "version_major": 2,
       "version_minor": 0
      },
      "text/plain": [
       "E3SM-MMF.mlo.0008-02-22-64800.nc:   0%|          | 0.00/1.13M [00:00<?, ?B/s]"
      ]
     },
     "metadata": {},
     "output_type": "display_data"
    },
    {
     "data": {
      "application/vnd.jupyter.widget-view+json": {
       "model_id": "1a8b5d2e9a6d4013b6d26930de312f6c",
       "version_major": 2,
       "version_minor": 0
      },
      "text/plain": [
       "E3SM-MMF.mlo.0008-02-22-66000.nc:   0%|          | 0.00/1.13M [00:00<?, ?B/s]"
      ]
     },
     "metadata": {},
     "output_type": "display_data"
    },
    {
     "data": {
      "application/vnd.jupyter.widget-view+json": {
       "model_id": "6fe6e2cc8f034e0792a8be784b5ba650",
       "version_major": 2,
       "version_minor": 0
      },
      "text/plain": [
       "E3SM-MMF.mlo.0008-02-22-67200.nc:   0%|          | 0.00/1.13M [00:00<?, ?B/s]"
      ]
     },
     "metadata": {},
     "output_type": "display_data"
    },
    {
     "data": {
      "application/vnd.jupyter.widget-view+json": {
       "model_id": "0dc2dafc798c4261a12c66e3e63a12be",
       "version_major": 2,
       "version_minor": 0
      },
      "text/plain": [
       "E3SM-MMF.mlo.0008-02-22-68400.nc:   0%|          | 0.00/1.13M [00:00<?, ?B/s]"
      ]
     },
     "metadata": {},
     "output_type": "display_data"
    },
    {
     "data": {
      "application/vnd.jupyter.widget-view+json": {
       "model_id": "7d2303d1c07641f4945aefb77a9b9bc6",
       "version_major": 2,
       "version_minor": 0
      },
      "text/plain": [
       "E3SM-MMF.mlo.0008-02-22-69600.nc:   0%|          | 0.00/1.13M [00:00<?, ?B/s]"
      ]
     },
     "metadata": {},
     "output_type": "display_data"
    },
    {
     "data": {
      "application/vnd.jupyter.widget-view+json": {
       "model_id": "930ff10f44a74514975105eac479b3d3",
       "version_major": 2,
       "version_minor": 0
      },
      "text/plain": [
       "E3SM-MMF.mlo.0008-02-22-70800.nc:   0%|          | 0.00/1.13M [00:00<?, ?B/s]"
      ]
     },
     "metadata": {},
     "output_type": "display_data"
    },
    {
     "data": {
      "application/vnd.jupyter.widget-view+json": {
       "model_id": "4c04dac51757404e9cb93664f4eaaa7d",
       "version_major": 2,
       "version_minor": 0
      },
      "text/plain": [
       "E3SM-MMF.mlo.0008-02-22-72000.nc:   0%|          | 0.00/1.13M [00:00<?, ?B/s]"
      ]
     },
     "metadata": {},
     "output_type": "display_data"
    },
    {
     "data": {
      "application/vnd.jupyter.widget-view+json": {
       "model_id": "6abe8e609f334977b477f0f15dd81c20",
       "version_major": 2,
       "version_minor": 0
      },
      "text/plain": [
       "E3SM-MMF.mlo.0008-02-22-73200.nc:   0%|          | 0.00/1.13M [00:00<?, ?B/s]"
      ]
     },
     "metadata": {},
     "output_type": "display_data"
    },
    {
     "data": {
      "application/vnd.jupyter.widget-view+json": {
       "model_id": "4126b0eda7d9464089ef60bebe196303",
       "version_major": 2,
       "version_minor": 0
      },
      "text/plain": [
       "E3SM-MMF.mlo.0008-02-22-74400.nc:   0%|          | 0.00/1.13M [00:00<?, ?B/s]"
      ]
     },
     "metadata": {},
     "output_type": "display_data"
    },
    {
     "data": {
      "application/vnd.jupyter.widget-view+json": {
       "model_id": "a275654da19349e98509ac365b6da686",
       "version_major": 2,
       "version_minor": 0
      },
      "text/plain": [
       "E3SM-MMF.mlo.0008-02-22-75600.nc:   0%|          | 0.00/1.13M [00:00<?, ?B/s]"
      ]
     },
     "metadata": {},
     "output_type": "display_data"
    },
    {
     "data": {
      "application/vnd.jupyter.widget-view+json": {
       "model_id": "add3c174c0764e16a28de5aed8c7f470",
       "version_major": 2,
       "version_minor": 0
      },
      "text/plain": [
       "E3SM-MMF.mlo.0008-02-22-76800.nc:   0%|          | 0.00/1.13M [00:00<?, ?B/s]"
      ]
     },
     "metadata": {},
     "output_type": "display_data"
    },
    {
     "data": {
      "application/vnd.jupyter.widget-view+json": {
       "model_id": "183c02e8a6584f86a6f15b1b78996ad2",
       "version_major": 2,
       "version_minor": 0
      },
      "text/plain": [
       "E3SM-MMF.mlo.0008-02-22-78000.nc:   0%|          | 0.00/1.13M [00:00<?, ?B/s]"
      ]
     },
     "metadata": {},
     "output_type": "display_data"
    },
    {
     "data": {
      "application/vnd.jupyter.widget-view+json": {
       "model_id": "c1aa784980a548a9b27792cdd01d612c",
       "version_major": 2,
       "version_minor": 0
      },
      "text/plain": [
       "E3SM-MMF.mlo.0008-02-22-79200.nc:   0%|          | 0.00/1.13M [00:00<?, ?B/s]"
      ]
     },
     "metadata": {},
     "output_type": "display_data"
    },
    {
     "data": {
      "application/vnd.jupyter.widget-view+json": {
       "model_id": "0c640500582248e2be0a2bbb9e1c92b5",
       "version_major": 2,
       "version_minor": 0
      },
      "text/plain": [
       "E3SM-MMF.mlo.0008-02-22-80400.nc:   0%|          | 0.00/1.13M [00:00<?, ?B/s]"
      ]
     },
     "metadata": {},
     "output_type": "display_data"
    },
    {
     "data": {
      "application/vnd.jupyter.widget-view+json": {
       "model_id": "5af2f6c94ef5499f8788d7500823cce3",
       "version_major": 2,
       "version_minor": 0
      },
      "text/plain": [
       "E3SM-MMF.mlo.0008-02-22-81600.nc:   0%|          | 0.00/1.13M [00:00<?, ?B/s]"
      ]
     },
     "metadata": {},
     "output_type": "display_data"
    },
    {
     "data": {
      "application/vnd.jupyter.widget-view+json": {
       "model_id": "f4046a64028e4e3b99175bf9f9186233",
       "version_major": 2,
       "version_minor": 0
      },
      "text/plain": [
       "E3SM-MMF.mlo.0008-02-22-82800.nc:   0%|          | 0.00/1.13M [00:00<?, ?B/s]"
      ]
     },
     "metadata": {},
     "output_type": "display_data"
    },
    {
     "data": {
      "application/vnd.jupyter.widget-view+json": {
       "model_id": "38e31dccfe864d149a09414140fb994b",
       "version_major": 2,
       "version_minor": 0
      },
      "text/plain": [
       "E3SM-MMF.mlo.0008-02-22-84000.nc:   0%|          | 0.00/1.13M [00:00<?, ?B/s]"
      ]
     },
     "metadata": {},
     "output_type": "display_data"
    },
    {
     "data": {
      "application/vnd.jupyter.widget-view+json": {
       "model_id": "8dfaf23ab86742a287bf1fbd0eac7b95",
       "version_major": 2,
       "version_minor": 0
      },
      "text/plain": [
       "E3SM-MMF.mlo.0008-02-22-85200.nc:   0%|          | 0.00/1.13M [00:00<?, ?B/s]"
      ]
     },
     "metadata": {},
     "output_type": "display_data"
    },
    {
     "data": {
      "application/vnd.jupyter.widget-view+json": {
       "model_id": "a1f35ef766924b4ea180498110fdf764",
       "version_major": 2,
       "version_minor": 0
      },
      "text/plain": [
       "E3SM-MMF.mlo.0008-02-23-00000.nc:   0%|          | 0.00/1.13M [00:00<?, ?B/s]"
      ]
     },
     "metadata": {},
     "output_type": "display_data"
    },
    {
     "data": {
      "application/vnd.jupyter.widget-view+json": {
       "model_id": "7c8586a601cf443cb39212fbd96fcdbe",
       "version_major": 2,
       "version_minor": 0
      },
      "text/plain": [
       "E3SM-MMF.mlo.0008-02-23-01200.nc:   0%|          | 0.00/1.13M [00:00<?, ?B/s]"
      ]
     },
     "metadata": {},
     "output_type": "display_data"
    },
    {
     "data": {
      "application/vnd.jupyter.widget-view+json": {
       "model_id": "95b7f3f49821463fbb70e003e95e8e1f",
       "version_major": 2,
       "version_minor": 0
      },
      "text/plain": [
       "E3SM-MMF.mlo.0008-02-23-02400.nc:   0%|          | 0.00/1.13M [00:00<?, ?B/s]"
      ]
     },
     "metadata": {},
     "output_type": "display_data"
    },
    {
     "data": {
      "application/vnd.jupyter.widget-view+json": {
       "model_id": "5bd6688f397c4c8780cb8e652024283c",
       "version_major": 2,
       "version_minor": 0
      },
      "text/plain": [
       "E3SM-MMF.mlo.0008-02-23-03600.nc:   0%|          | 0.00/1.13M [00:00<?, ?B/s]"
      ]
     },
     "metadata": {},
     "output_type": "display_data"
    },
    {
     "data": {
      "application/vnd.jupyter.widget-view+json": {
       "model_id": "17f2481fb2e54d83aa8c82392e8b6edb",
       "version_major": 2,
       "version_minor": 0
      },
      "text/plain": [
       "E3SM-MMF.mlo.0008-02-23-04800.nc:   0%|          | 0.00/1.13M [00:00<?, ?B/s]"
      ]
     },
     "metadata": {},
     "output_type": "display_data"
    },
    {
     "data": {
      "application/vnd.jupyter.widget-view+json": {
       "model_id": "f958737a51be406e9d890da95f7f7151",
       "version_major": 2,
       "version_minor": 0
      },
      "text/plain": [
       "E3SM-MMF.mlo.0008-02-23-06000.nc:   0%|          | 0.00/1.13M [00:00<?, ?B/s]"
      ]
     },
     "metadata": {},
     "output_type": "display_data"
    },
    {
     "data": {
      "application/vnd.jupyter.widget-view+json": {
       "model_id": "8e3005647e894b9e96b02a2177e0d96a",
       "version_major": 2,
       "version_minor": 0
      },
      "text/plain": [
       "E3SM-MMF.mlo.0008-02-23-07200.nc:   0%|          | 0.00/1.13M [00:00<?, ?B/s]"
      ]
     },
     "metadata": {},
     "output_type": "display_data"
    },
    {
     "data": {
      "application/vnd.jupyter.widget-view+json": {
       "model_id": "7851ba03596e4c7ab328b41abd3e2557",
       "version_major": 2,
       "version_minor": 0
      },
      "text/plain": [
       "E3SM-MMF.mlo.0008-02-23-08400.nc:   0%|          | 0.00/1.13M [00:00<?, ?B/s]"
      ]
     },
     "metadata": {},
     "output_type": "display_data"
    },
    {
     "data": {
      "application/vnd.jupyter.widget-view+json": {
       "model_id": "68447ca6dffa43e480ad6c955a180ae4",
       "version_major": 2,
       "version_minor": 0
      },
      "text/plain": [
       "E3SM-MMF.mlo.0008-02-23-09600.nc:   0%|          | 0.00/1.13M [00:00<?, ?B/s]"
      ]
     },
     "metadata": {},
     "output_type": "display_data"
    },
    {
     "data": {
      "application/vnd.jupyter.widget-view+json": {
       "model_id": "599fca1b70604d8d8795a9014ad9e021",
       "version_major": 2,
       "version_minor": 0
      },
      "text/plain": [
       "E3SM-MMF.mlo.0008-02-23-10800.nc:   0%|          | 0.00/1.13M [00:00<?, ?B/s]"
      ]
     },
     "metadata": {},
     "output_type": "display_data"
    },
    {
     "data": {
      "application/vnd.jupyter.widget-view+json": {
       "model_id": "ab070af28d6c4ae88fbc4b064b64a467",
       "version_major": 2,
       "version_minor": 0
      },
      "text/plain": [
       "E3SM-MMF.mlo.0008-02-23-12000.nc:   0%|          | 0.00/1.13M [00:00<?, ?B/s]"
      ]
     },
     "metadata": {},
     "output_type": "display_data"
    },
    {
     "data": {
      "application/vnd.jupyter.widget-view+json": {
       "model_id": "b93acc66086e40578257ff6b718a1a06",
       "version_major": 2,
       "version_minor": 0
      },
      "text/plain": [
       "E3SM-MMF.mlo.0008-02-23-13200.nc:   0%|          | 0.00/1.13M [00:00<?, ?B/s]"
      ]
     },
     "metadata": {},
     "output_type": "display_data"
    },
    {
     "data": {
      "application/vnd.jupyter.widget-view+json": {
       "model_id": "e791a8822a1e404eb93746ea2f6d815b",
       "version_major": 2,
       "version_minor": 0
      },
      "text/plain": [
       "E3SM-MMF.mlo.0008-02-23-14400.nc:   0%|          | 0.00/1.13M [00:00<?, ?B/s]"
      ]
     },
     "metadata": {},
     "output_type": "display_data"
    },
    {
     "data": {
      "application/vnd.jupyter.widget-view+json": {
       "model_id": "e98a97cbeb8a4c41b64579d2dc059faa",
       "version_major": 2,
       "version_minor": 0
      },
      "text/plain": [
       "E3SM-MMF.mlo.0008-02-23-15600.nc:   0%|          | 0.00/1.13M [00:00<?, ?B/s]"
      ]
     },
     "metadata": {},
     "output_type": "display_data"
    },
    {
     "data": {
      "application/vnd.jupyter.widget-view+json": {
       "model_id": "bf1db5a61e0440f0812356024701b796",
       "version_major": 2,
       "version_minor": 0
      },
      "text/plain": [
       "E3SM-MMF.mlo.0008-02-23-16800.nc:   0%|          | 0.00/1.13M [00:00<?, ?B/s]"
      ]
     },
     "metadata": {},
     "output_type": "display_data"
    },
    {
     "data": {
      "application/vnd.jupyter.widget-view+json": {
       "model_id": "42f8f4f179f74217aae659bbf1604e78",
       "version_major": 2,
       "version_minor": 0
      },
      "text/plain": [
       "E3SM-MMF.mlo.0008-02-23-18000.nc:   0%|          | 0.00/1.13M [00:00<?, ?B/s]"
      ]
     },
     "metadata": {},
     "output_type": "display_data"
    },
    {
     "data": {
      "application/vnd.jupyter.widget-view+json": {
       "model_id": "f660194959fe4fed92e1b3f00eff8761",
       "version_major": 2,
       "version_minor": 0
      },
      "text/plain": [
       "E3SM-MMF.mlo.0008-02-23-19200.nc:   0%|          | 0.00/1.13M [00:00<?, ?B/s]"
      ]
     },
     "metadata": {},
     "output_type": "display_data"
    },
    {
     "data": {
      "application/vnd.jupyter.widget-view+json": {
       "model_id": "16aee13954864db9b3b4eab06f6dd13a",
       "version_major": 2,
       "version_minor": 0
      },
      "text/plain": [
       "E3SM-MMF.mlo.0008-02-23-20400.nc:   0%|          | 0.00/1.13M [00:00<?, ?B/s]"
      ]
     },
     "metadata": {},
     "output_type": "display_data"
    },
    {
     "data": {
      "application/vnd.jupyter.widget-view+json": {
       "model_id": "eb8fd2e8027b4c8ab3305b43101a789d",
       "version_major": 2,
       "version_minor": 0
      },
      "text/plain": [
       "E3SM-MMF.mlo.0008-02-23-21600.nc:   0%|          | 0.00/1.13M [00:00<?, ?B/s]"
      ]
     },
     "metadata": {},
     "output_type": "display_data"
    },
    {
     "data": {
      "application/vnd.jupyter.widget-view+json": {
       "model_id": "198521b832c043088b3ba85b8ae344c2",
       "version_major": 2,
       "version_minor": 0
      },
      "text/plain": [
       "E3SM-MMF.mlo.0008-02-23-22800.nc:   0%|          | 0.00/1.13M [00:00<?, ?B/s]"
      ]
     },
     "metadata": {},
     "output_type": "display_data"
    },
    {
     "data": {
      "application/vnd.jupyter.widget-view+json": {
       "model_id": "ebe62b3fb0ba46f8b5b086dd3508a208",
       "version_major": 2,
       "version_minor": 0
      },
      "text/plain": [
       "E3SM-MMF.mlo.0008-02-23-24000.nc:   0%|          | 0.00/1.13M [00:00<?, ?B/s]"
      ]
     },
     "metadata": {},
     "output_type": "display_data"
    },
    {
     "data": {
      "application/vnd.jupyter.widget-view+json": {
       "model_id": "4ee84ca07a404cc0bdc8d51af025c241",
       "version_major": 2,
       "version_minor": 0
      },
      "text/plain": [
       "E3SM-MMF.mlo.0008-02-23-25200.nc:   0%|          | 0.00/1.13M [00:00<?, ?B/s]"
      ]
     },
     "metadata": {},
     "output_type": "display_data"
    },
    {
     "data": {
      "application/vnd.jupyter.widget-view+json": {
       "model_id": "9ec3ac1c694e489e83c4ccfc3cea228c",
       "version_major": 2,
       "version_minor": 0
      },
      "text/plain": [
       "E3SM-MMF.mlo.0008-02-23-26400.nc:   0%|          | 0.00/1.13M [00:00<?, ?B/s]"
      ]
     },
     "metadata": {},
     "output_type": "display_data"
    },
    {
     "data": {
      "application/vnd.jupyter.widget-view+json": {
       "model_id": "2e1ac8e36be7436a9021393da53bac5c",
       "version_major": 2,
       "version_minor": 0
      },
      "text/plain": [
       "E3SM-MMF.mlo.0008-02-23-27600.nc:   0%|          | 0.00/1.13M [00:00<?, ?B/s]"
      ]
     },
     "metadata": {},
     "output_type": "display_data"
    },
    {
     "data": {
      "application/vnd.jupyter.widget-view+json": {
       "model_id": "589910ce463e4dea933291ed176d063a",
       "version_major": 2,
       "version_minor": 0
      },
      "text/plain": [
       "E3SM-MMF.mlo.0008-02-23-28800.nc:   0%|          | 0.00/1.13M [00:00<?, ?B/s]"
      ]
     },
     "metadata": {},
     "output_type": "display_data"
    },
    {
     "data": {
      "application/vnd.jupyter.widget-view+json": {
       "model_id": "af8453fc58774653830ba4db397b59cc",
       "version_major": 2,
       "version_minor": 0
      },
      "text/plain": [
       "E3SM-MMF.mlo.0008-02-23-30000.nc:   0%|          | 0.00/1.13M [00:00<?, ?B/s]"
      ]
     },
     "metadata": {},
     "output_type": "display_data"
    },
    {
     "data": {
      "application/vnd.jupyter.widget-view+json": {
       "model_id": "4fb7a565797640479fd10a2d8a7a34da",
       "version_major": 2,
       "version_minor": 0
      },
      "text/plain": [
       "E3SM-MMF.mlo.0008-02-23-31200.nc:   0%|          | 0.00/1.13M [00:00<?, ?B/s]"
      ]
     },
     "metadata": {},
     "output_type": "display_data"
    },
    {
     "data": {
      "application/vnd.jupyter.widget-view+json": {
       "model_id": "7057de2b759448e1919b9abebfcb8f12",
       "version_major": 2,
       "version_minor": 0
      },
      "text/plain": [
       "E3SM-MMF.mlo.0008-02-23-32400.nc:   0%|          | 0.00/1.13M [00:00<?, ?B/s]"
      ]
     },
     "metadata": {},
     "output_type": "display_data"
    },
    {
     "data": {
      "application/vnd.jupyter.widget-view+json": {
       "model_id": "a0cb06c78fff4a4abed38e5e86ed1b4b",
       "version_major": 2,
       "version_minor": 0
      },
      "text/plain": [
       "E3SM-MMF.mlo.0008-02-23-33600.nc:   0%|          | 0.00/1.13M [00:00<?, ?B/s]"
      ]
     },
     "metadata": {},
     "output_type": "display_data"
    },
    {
     "data": {
      "application/vnd.jupyter.widget-view+json": {
       "model_id": "629b4d2b5192457db6f5ebd14c004c2b",
       "version_major": 2,
       "version_minor": 0
      },
      "text/plain": [
       "E3SM-MMF.mlo.0008-02-23-34800.nc:   0%|          | 0.00/1.13M [00:00<?, ?B/s]"
      ]
     },
     "metadata": {},
     "output_type": "display_data"
    },
    {
     "data": {
      "application/vnd.jupyter.widget-view+json": {
       "model_id": "bab452fb1639494ea4b5c0abb0aaa905",
       "version_major": 2,
       "version_minor": 0
      },
      "text/plain": [
       "E3SM-MMF.mlo.0008-02-23-36000.nc:   0%|          | 0.00/1.13M [00:00<?, ?B/s]"
      ]
     },
     "metadata": {},
     "output_type": "display_data"
    },
    {
     "data": {
      "application/vnd.jupyter.widget-view+json": {
       "model_id": "c4f451f9181e458eab36c35810c2e356",
       "version_major": 2,
       "version_minor": 0
      },
      "text/plain": [
       "E3SM-MMF.mlo.0008-02-23-37200.nc:   0%|          | 0.00/1.13M [00:00<?, ?B/s]"
      ]
     },
     "metadata": {},
     "output_type": "display_data"
    },
    {
     "data": {
      "application/vnd.jupyter.widget-view+json": {
       "model_id": "3027b675564a42cc80ae146769e68d93",
       "version_major": 2,
       "version_minor": 0
      },
      "text/plain": [
       "E3SM-MMF.mlo.0008-02-23-38400.nc:   0%|          | 0.00/1.13M [00:00<?, ?B/s]"
      ]
     },
     "metadata": {},
     "output_type": "display_data"
    },
    {
     "data": {
      "application/vnd.jupyter.widget-view+json": {
       "model_id": "222c26acc5e041d6bba92620451d88ce",
       "version_major": 2,
       "version_minor": 0
      },
      "text/plain": [
       "E3SM-MMF.mlo.0008-02-23-39600.nc:   0%|          | 0.00/1.13M [00:00<?, ?B/s]"
      ]
     },
     "metadata": {},
     "output_type": "display_data"
    },
    {
     "data": {
      "application/vnd.jupyter.widget-view+json": {
       "model_id": "39f11ffd2fd0466bad1ee997d6943c37",
       "version_major": 2,
       "version_minor": 0
      },
      "text/plain": [
       "E3SM-MMF.mlo.0008-02-23-40800.nc:   0%|          | 0.00/1.13M [00:00<?, ?B/s]"
      ]
     },
     "metadata": {},
     "output_type": "display_data"
    },
    {
     "data": {
      "application/vnd.jupyter.widget-view+json": {
       "model_id": "73a4873639dc4b1dbced59559ff1d56e",
       "version_major": 2,
       "version_minor": 0
      },
      "text/plain": [
       "E3SM-MMF.mlo.0008-02-23-42000.nc:   0%|          | 0.00/1.13M [00:00<?, ?B/s]"
      ]
     },
     "metadata": {},
     "output_type": "display_data"
    },
    {
     "data": {
      "application/vnd.jupyter.widget-view+json": {
       "model_id": "f75f4fc006324179a93d5312c66a7d12",
       "version_major": 2,
       "version_minor": 0
      },
      "text/plain": [
       "E3SM-MMF.mlo.0008-02-23-43200.nc:   0%|          | 0.00/1.13M [00:00<?, ?B/s]"
      ]
     },
     "metadata": {},
     "output_type": "display_data"
    },
    {
     "data": {
      "application/vnd.jupyter.widget-view+json": {
       "model_id": "91cf039be0ab41b6a0d1e91d236e4790",
       "version_major": 2,
       "version_minor": 0
      },
      "text/plain": [
       "E3SM-MMF.mlo.0008-02-23-44400.nc:   0%|          | 0.00/1.13M [00:00<?, ?B/s]"
      ]
     },
     "metadata": {},
     "output_type": "display_data"
    },
    {
     "data": {
      "application/vnd.jupyter.widget-view+json": {
       "model_id": "d5a42a4eb5bc4fe99c93c283c7dc48fb",
       "version_major": 2,
       "version_minor": 0
      },
      "text/plain": [
       "E3SM-MMF.mlo.0008-02-23-45600.nc:   0%|          | 0.00/1.13M [00:00<?, ?B/s]"
      ]
     },
     "metadata": {},
     "output_type": "display_data"
    },
    {
     "data": {
      "application/vnd.jupyter.widget-view+json": {
       "model_id": "745423f043294cc4af5aac339a725c6b",
       "version_major": 2,
       "version_minor": 0
      },
      "text/plain": [
       "E3SM-MMF.mlo.0008-02-23-46800.nc:   0%|          | 0.00/1.13M [00:00<?, ?B/s]"
      ]
     },
     "metadata": {},
     "output_type": "display_data"
    },
    {
     "data": {
      "application/vnd.jupyter.widget-view+json": {
       "model_id": "a71ce5b2b8234a2086a170923df7646d",
       "version_major": 2,
       "version_minor": 0
      },
      "text/plain": [
       "E3SM-MMF.mlo.0008-02-23-48000.nc:   0%|          | 0.00/1.13M [00:00<?, ?B/s]"
      ]
     },
     "metadata": {},
     "output_type": "display_data"
    },
    {
     "data": {
      "application/vnd.jupyter.widget-view+json": {
       "model_id": "5489cd05ae1a44be88e1784ed1dfbbbc",
       "version_major": 2,
       "version_minor": 0
      },
      "text/plain": [
       "E3SM-MMF.mlo.0008-02-23-49200.nc:   0%|          | 0.00/1.13M [00:00<?, ?B/s]"
      ]
     },
     "metadata": {},
     "output_type": "display_data"
    },
    {
     "data": {
      "application/vnd.jupyter.widget-view+json": {
       "model_id": "860cad0d78014e5ab86bb6d8e89e366a",
       "version_major": 2,
       "version_minor": 0
      },
      "text/plain": [
       "E3SM-MMF.mlo.0008-02-23-50400.nc:   0%|          | 0.00/1.13M [00:00<?, ?B/s]"
      ]
     },
     "metadata": {},
     "output_type": "display_data"
    },
    {
     "data": {
      "application/vnd.jupyter.widget-view+json": {
       "model_id": "722c1d9fc56c4edebf3c641871681295",
       "version_major": 2,
       "version_minor": 0
      },
      "text/plain": [
       "E3SM-MMF.mlo.0008-02-23-51600.nc:   0%|          | 0.00/1.13M [00:00<?, ?B/s]"
      ]
     },
     "metadata": {},
     "output_type": "display_data"
    },
    {
     "data": {
      "application/vnd.jupyter.widget-view+json": {
       "model_id": "f1d1e5e66aca41eb9bb6015ad500ab11",
       "version_major": 2,
       "version_minor": 0
      },
      "text/plain": [
       "E3SM-MMF.mlo.0008-02-23-52800.nc:   0%|          | 0.00/1.13M [00:00<?, ?B/s]"
      ]
     },
     "metadata": {},
     "output_type": "display_data"
    },
    {
     "data": {
      "application/vnd.jupyter.widget-view+json": {
       "model_id": "ea347bc2b909419b85b47f3bac41d618",
       "version_major": 2,
       "version_minor": 0
      },
      "text/plain": [
       "E3SM-MMF.mlo.0008-02-23-54000.nc:   0%|          | 0.00/1.13M [00:00<?, ?B/s]"
      ]
     },
     "metadata": {},
     "output_type": "display_data"
    },
    {
     "data": {
      "application/vnd.jupyter.widget-view+json": {
       "model_id": "5ffb842dd0f64dbe815369a04e264c2c",
       "version_major": 2,
       "version_minor": 0
      },
      "text/plain": [
       "E3SM-MMF.mlo.0008-02-23-55200.nc:   0%|          | 0.00/1.13M [00:00<?, ?B/s]"
      ]
     },
     "metadata": {},
     "output_type": "display_data"
    },
    {
     "data": {
      "application/vnd.jupyter.widget-view+json": {
       "model_id": "860b39c3a70242a29f123160a4f2cb3d",
       "version_major": 2,
       "version_minor": 0
      },
      "text/plain": [
       "E3SM-MMF.mlo.0008-02-23-56400.nc:   0%|          | 0.00/1.13M [00:00<?, ?B/s]"
      ]
     },
     "metadata": {},
     "output_type": "display_data"
    },
    {
     "data": {
      "application/vnd.jupyter.widget-view+json": {
       "model_id": "be9d626b2bd64cd0b52713df4157364f",
       "version_major": 2,
       "version_minor": 0
      },
      "text/plain": [
       "E3SM-MMF.mlo.0008-02-23-57600.nc:   0%|          | 0.00/1.13M [00:00<?, ?B/s]"
      ]
     },
     "metadata": {},
     "output_type": "display_data"
    },
    {
     "data": {
      "application/vnd.jupyter.widget-view+json": {
       "model_id": "c19732243c734eda9b13d67883064d60",
       "version_major": 2,
       "version_minor": 0
      },
      "text/plain": [
       "E3SM-MMF.mlo.0008-02-23-58800.nc:   0%|          | 0.00/1.13M [00:00<?, ?B/s]"
      ]
     },
     "metadata": {},
     "output_type": "display_data"
    },
    {
     "data": {
      "application/vnd.jupyter.widget-view+json": {
       "model_id": "87616103b53845eea0fb8001a90e23a6",
       "version_major": 2,
       "version_minor": 0
      },
      "text/plain": [
       "E3SM-MMF.mlo.0008-02-23-60000.nc:   0%|          | 0.00/1.13M [00:00<?, ?B/s]"
      ]
     },
     "metadata": {},
     "output_type": "display_data"
    },
    {
     "data": {
      "application/vnd.jupyter.widget-view+json": {
       "model_id": "cbd9c8af1e8d4b179e594d79ba064e77",
       "version_major": 2,
       "version_minor": 0
      },
      "text/plain": [
       "E3SM-MMF.mlo.0008-02-23-61200.nc:   0%|          | 0.00/1.13M [00:00<?, ?B/s]"
      ]
     },
     "metadata": {},
     "output_type": "display_data"
    },
    {
     "data": {
      "application/vnd.jupyter.widget-view+json": {
       "model_id": "71916c3912dc4bc881ef87d16fd8f696",
       "version_major": 2,
       "version_minor": 0
      },
      "text/plain": [
       "E3SM-MMF.mlo.0008-02-23-62400.nc:   0%|          | 0.00/1.13M [00:00<?, ?B/s]"
      ]
     },
     "metadata": {},
     "output_type": "display_data"
    },
    {
     "data": {
      "application/vnd.jupyter.widget-view+json": {
       "model_id": "6da1aa6dc4ed408e9e6fdad7bedaebbf",
       "version_major": 2,
       "version_minor": 0
      },
      "text/plain": [
       "E3SM-MMF.mlo.0008-02-23-63600.nc:   0%|          | 0.00/1.13M [00:00<?, ?B/s]"
      ]
     },
     "metadata": {},
     "output_type": "display_data"
    },
    {
     "data": {
      "application/vnd.jupyter.widget-view+json": {
       "model_id": "97586fb8a6e6424d9f4d2e81674a577a",
       "version_major": 2,
       "version_minor": 0
      },
      "text/plain": [
       "E3SM-MMF.mlo.0008-02-23-64800.nc:   0%|          | 0.00/1.13M [00:00<?, ?B/s]"
      ]
     },
     "metadata": {},
     "output_type": "display_data"
    },
    {
     "data": {
      "application/vnd.jupyter.widget-view+json": {
       "model_id": "2f2381ed6c4246869e7f5edfbd6585fd",
       "version_major": 2,
       "version_minor": 0
      },
      "text/plain": [
       "E3SM-MMF.mlo.0008-02-23-66000.nc:   0%|          | 0.00/1.13M [00:00<?, ?B/s]"
      ]
     },
     "metadata": {},
     "output_type": "display_data"
    },
    {
     "data": {
      "application/vnd.jupyter.widget-view+json": {
       "model_id": "9ae90680527b482c8cccfb7eb53391f8",
       "version_major": 2,
       "version_minor": 0
      },
      "text/plain": [
       "E3SM-MMF.mlo.0008-02-23-67200.nc:   0%|          | 0.00/1.13M [00:00<?, ?B/s]"
      ]
     },
     "metadata": {},
     "output_type": "display_data"
    },
    {
     "data": {
      "application/vnd.jupyter.widget-view+json": {
       "model_id": "0d95a5e2ed664ec6aba8a9e68469396c",
       "version_major": 2,
       "version_minor": 0
      },
      "text/plain": [
       "E3SM-MMF.mlo.0008-02-23-68400.nc:   0%|          | 0.00/1.13M [00:00<?, ?B/s]"
      ]
     },
     "metadata": {},
     "output_type": "display_data"
    },
    {
     "data": {
      "application/vnd.jupyter.widget-view+json": {
       "model_id": "058c99f65f774a349d92bdb5c61383aa",
       "version_major": 2,
       "version_minor": 0
      },
      "text/plain": [
       "E3SM-MMF.mlo.0008-02-23-69600.nc:   0%|          | 0.00/1.13M [00:00<?, ?B/s]"
      ]
     },
     "metadata": {},
     "output_type": "display_data"
    },
    {
     "data": {
      "application/vnd.jupyter.widget-view+json": {
       "model_id": "a023744fe2814c87a16dfa1fefda22c9",
       "version_major": 2,
       "version_minor": 0
      },
      "text/plain": [
       "E3SM-MMF.mlo.0008-02-23-70800.nc:   0%|          | 0.00/1.13M [00:00<?, ?B/s]"
      ]
     },
     "metadata": {},
     "output_type": "display_data"
    },
    {
     "data": {
      "application/vnd.jupyter.widget-view+json": {
       "model_id": "cec3cb89f96940858792eb3d19761eac",
       "version_major": 2,
       "version_minor": 0
      },
      "text/plain": [
       "E3SM-MMF.mlo.0008-02-23-72000.nc:   0%|          | 0.00/1.13M [00:00<?, ?B/s]"
      ]
     },
     "metadata": {},
     "output_type": "display_data"
    },
    {
     "data": {
      "application/vnd.jupyter.widget-view+json": {
       "model_id": "f8bf0a93d2d140f385b3386d9dc22eb6",
       "version_major": 2,
       "version_minor": 0
      },
      "text/plain": [
       "E3SM-MMF.mlo.0008-02-23-73200.nc:   0%|          | 0.00/1.13M [00:00<?, ?B/s]"
      ]
     },
     "metadata": {},
     "output_type": "display_data"
    },
    {
     "data": {
      "application/vnd.jupyter.widget-view+json": {
       "model_id": "4812249d6d6c4c6c81b537b8a1b411cc",
       "version_major": 2,
       "version_minor": 0
      },
      "text/plain": [
       "E3SM-MMF.mlo.0008-02-23-74400.nc:   0%|          | 0.00/1.13M [00:00<?, ?B/s]"
      ]
     },
     "metadata": {},
     "output_type": "display_data"
    },
    {
     "data": {
      "application/vnd.jupyter.widget-view+json": {
       "model_id": "30195d8b6bbe432db10484a0d73367a4",
       "version_major": 2,
       "version_minor": 0
      },
      "text/plain": [
       "E3SM-MMF.mlo.0008-02-23-75600.nc:   0%|          | 0.00/1.13M [00:00<?, ?B/s]"
      ]
     },
     "metadata": {},
     "output_type": "display_data"
    },
    {
     "data": {
      "application/vnd.jupyter.widget-view+json": {
       "model_id": "52f331f6d5104fb49abb48669e2e7686",
       "version_major": 2,
       "version_minor": 0
      },
      "text/plain": [
       "E3SM-MMF.mlo.0008-02-23-76800.nc:   0%|          | 0.00/1.13M [00:00<?, ?B/s]"
      ]
     },
     "metadata": {},
     "output_type": "display_data"
    },
    {
     "data": {
      "application/vnd.jupyter.widget-view+json": {
       "model_id": "fd50adbe1ef04dd7b84407a4e1160ca2",
       "version_major": 2,
       "version_minor": 0
      },
      "text/plain": [
       "E3SM-MMF.mlo.0008-02-23-78000.nc:   0%|          | 0.00/1.13M [00:00<?, ?B/s]"
      ]
     },
     "metadata": {},
     "output_type": "display_data"
    },
    {
     "data": {
      "application/vnd.jupyter.widget-view+json": {
       "model_id": "c681b45187554ac381f402acf0fae6b9",
       "version_major": 2,
       "version_minor": 0
      },
      "text/plain": [
       "E3SM-MMF.mlo.0008-02-23-79200.nc:   0%|          | 0.00/1.13M [00:00<?, ?B/s]"
      ]
     },
     "metadata": {},
     "output_type": "display_data"
    },
    {
     "data": {
      "application/vnd.jupyter.widget-view+json": {
       "model_id": "7e5660ff62b94c1ab020e6a26a25c071",
       "version_major": 2,
       "version_minor": 0
      },
      "text/plain": [
       "E3SM-MMF.mlo.0008-02-23-80400.nc:   0%|          | 0.00/1.13M [00:00<?, ?B/s]"
      ]
     },
     "metadata": {},
     "output_type": "display_data"
    },
    {
     "data": {
      "application/vnd.jupyter.widget-view+json": {
       "model_id": "153251c417ba450fac6d21ec183510c7",
       "version_major": 2,
       "version_minor": 0
      },
      "text/plain": [
       "E3SM-MMF.mlo.0008-02-23-81600.nc:   0%|          | 0.00/1.13M [00:00<?, ?B/s]"
      ]
     },
     "metadata": {},
     "output_type": "display_data"
    },
    {
     "data": {
      "application/vnd.jupyter.widget-view+json": {
       "model_id": "3810be810ac64b1884d9f5385036b635",
       "version_major": 2,
       "version_minor": 0
      },
      "text/plain": [
       "E3SM-MMF.mlo.0008-02-23-82800.nc:   0%|          | 0.00/1.13M [00:00<?, ?B/s]"
      ]
     },
     "metadata": {},
     "output_type": "display_data"
    },
    {
     "data": {
      "application/vnd.jupyter.widget-view+json": {
       "model_id": "9195bec6bc26494f9a0294234141fca4",
       "version_major": 2,
       "version_minor": 0
      },
      "text/plain": [
       "E3SM-MMF.mlo.0008-02-23-84000.nc:   0%|          | 0.00/1.13M [00:00<?, ?B/s]"
      ]
     },
     "metadata": {},
     "output_type": "display_data"
    },
    {
     "data": {
      "application/vnd.jupyter.widget-view+json": {
       "model_id": "1f2f69cdda9e4ebda14692842edbf384",
       "version_major": 2,
       "version_minor": 0
      },
      "text/plain": [
       "E3SM-MMF.mlo.0008-02-23-85200.nc:   0%|          | 0.00/1.13M [00:00<?, ?B/s]"
      ]
     },
     "metadata": {},
     "output_type": "display_data"
    },
    {
     "data": {
      "application/vnd.jupyter.widget-view+json": {
       "model_id": "cd063881a979425f874364da51753f6e",
       "version_major": 2,
       "version_minor": 0
      },
      "text/plain": [
       "E3SM-MMF.mlo.0008-02-24-00000.nc:   0%|          | 0.00/1.13M [00:00<?, ?B/s]"
      ]
     },
     "metadata": {},
     "output_type": "display_data"
    },
    {
     "data": {
      "application/vnd.jupyter.widget-view+json": {
       "model_id": "3fa1651915f5410586a15d814db5c0c5",
       "version_major": 2,
       "version_minor": 0
      },
      "text/plain": [
       "E3SM-MMF.mlo.0008-02-24-01200.nc:   0%|          | 0.00/1.13M [00:00<?, ?B/s]"
      ]
     },
     "metadata": {},
     "output_type": "display_data"
    },
    {
     "data": {
      "application/vnd.jupyter.widget-view+json": {
       "model_id": "0291ec53bda94f61b5806902b032b8ef",
       "version_major": 2,
       "version_minor": 0
      },
      "text/plain": [
       "E3SM-MMF.mlo.0008-02-24-02400.nc:   0%|          | 0.00/1.13M [00:00<?, ?B/s]"
      ]
     },
     "metadata": {},
     "output_type": "display_data"
    },
    {
     "data": {
      "application/vnd.jupyter.widget-view+json": {
       "model_id": "42775db7e65c475f9ff786d0d4d427db",
       "version_major": 2,
       "version_minor": 0
      },
      "text/plain": [
       "E3SM-MMF.mlo.0008-02-24-03600.nc:   0%|          | 0.00/1.13M [00:00<?, ?B/s]"
      ]
     },
     "metadata": {},
     "output_type": "display_data"
    },
    {
     "data": {
      "application/vnd.jupyter.widget-view+json": {
       "model_id": "81d2aa8d60d74a0dbdf084e739d25003",
       "version_major": 2,
       "version_minor": 0
      },
      "text/plain": [
       "E3SM-MMF.mlo.0008-02-24-04800.nc:   0%|          | 0.00/1.13M [00:00<?, ?B/s]"
      ]
     },
     "metadata": {},
     "output_type": "display_data"
    },
    {
     "data": {
      "application/vnd.jupyter.widget-view+json": {
       "model_id": "ceb9d2cb920847d59994d20bfe7b021b",
       "version_major": 2,
       "version_minor": 0
      },
      "text/plain": [
       "E3SM-MMF.mlo.0008-02-24-06000.nc:   0%|          | 0.00/1.13M [00:00<?, ?B/s]"
      ]
     },
     "metadata": {},
     "output_type": "display_data"
    },
    {
     "data": {
      "application/vnd.jupyter.widget-view+json": {
       "model_id": "9da4054517dc4fbbb8f10183784108b0",
       "version_major": 2,
       "version_minor": 0
      },
      "text/plain": [
       "E3SM-MMF.mlo.0008-02-24-07200.nc:   0%|          | 0.00/1.13M [00:00<?, ?B/s]"
      ]
     },
     "metadata": {},
     "output_type": "display_data"
    },
    {
     "data": {
      "application/vnd.jupyter.widget-view+json": {
       "model_id": "66c8aa3517194007b60d3bd434e28761",
       "version_major": 2,
       "version_minor": 0
      },
      "text/plain": [
       "E3SM-MMF.mlo.0008-02-24-08400.nc:   0%|          | 0.00/1.13M [00:00<?, ?B/s]"
      ]
     },
     "metadata": {},
     "output_type": "display_data"
    },
    {
     "data": {
      "application/vnd.jupyter.widget-view+json": {
       "model_id": "a9e8964964e44cb78a2079d713b13119",
       "version_major": 2,
       "version_minor": 0
      },
      "text/plain": [
       "E3SM-MMF.mlo.0008-02-24-09600.nc:   0%|          | 0.00/1.13M [00:00<?, ?B/s]"
      ]
     },
     "metadata": {},
     "output_type": "display_data"
    },
    {
     "data": {
      "application/vnd.jupyter.widget-view+json": {
       "model_id": "b7a853635232413eb2126031f1058afb",
       "version_major": 2,
       "version_minor": 0
      },
      "text/plain": [
       "E3SM-MMF.mlo.0008-02-24-10800.nc:   0%|          | 0.00/1.13M [00:00<?, ?B/s]"
      ]
     },
     "metadata": {},
     "output_type": "display_data"
    },
    {
     "data": {
      "application/vnd.jupyter.widget-view+json": {
       "model_id": "e99efc59e3174be39d6dcfa2708bb706",
       "version_major": 2,
       "version_minor": 0
      },
      "text/plain": [
       "E3SM-MMF.mlo.0008-02-24-12000.nc:   0%|          | 0.00/1.13M [00:00<?, ?B/s]"
      ]
     },
     "metadata": {},
     "output_type": "display_data"
    },
    {
     "data": {
      "application/vnd.jupyter.widget-view+json": {
       "model_id": "ca1868723a8a43bc95ac2c27475f47b6",
       "version_major": 2,
       "version_minor": 0
      },
      "text/plain": [
       "E3SM-MMF.mlo.0008-02-24-13200.nc:   0%|          | 0.00/1.13M [00:00<?, ?B/s]"
      ]
     },
     "metadata": {},
     "output_type": "display_data"
    },
    {
     "data": {
      "application/vnd.jupyter.widget-view+json": {
       "model_id": "03b1500b1d124fd3ad2c0761bc7af199",
       "version_major": 2,
       "version_minor": 0
      },
      "text/plain": [
       "E3SM-MMF.mlo.0008-02-24-14400.nc:   0%|          | 0.00/1.13M [00:00<?, ?B/s]"
      ]
     },
     "metadata": {},
     "output_type": "display_data"
    },
    {
     "data": {
      "application/vnd.jupyter.widget-view+json": {
       "model_id": "e17e45e392ef411e892f6eacb2f5674b",
       "version_major": 2,
       "version_minor": 0
      },
      "text/plain": [
       "E3SM-MMF.mlo.0008-02-24-15600.nc:   0%|          | 0.00/1.13M [00:00<?, ?B/s]"
      ]
     },
     "metadata": {},
     "output_type": "display_data"
    },
    {
     "data": {
      "application/vnd.jupyter.widget-view+json": {
       "model_id": "e39f54fbdbaf4b09958dcaaa416a88cb",
       "version_major": 2,
       "version_minor": 0
      },
      "text/plain": [
       "E3SM-MMF.mlo.0008-02-24-16800.nc:   0%|          | 0.00/1.13M [00:00<?, ?B/s]"
      ]
     },
     "metadata": {},
     "output_type": "display_data"
    },
    {
     "data": {
      "application/vnd.jupyter.widget-view+json": {
       "model_id": "e995fd9df6474c0589023cca8922078f",
       "version_major": 2,
       "version_minor": 0
      },
      "text/plain": [
       "E3SM-MMF.mlo.0008-02-24-18000.nc:   0%|          | 0.00/1.13M [00:00<?, ?B/s]"
      ]
     },
     "metadata": {},
     "output_type": "display_data"
    },
    {
     "data": {
      "application/vnd.jupyter.widget-view+json": {
       "model_id": "ed53822ba73b44d491968fe65560df15",
       "version_major": 2,
       "version_minor": 0
      },
      "text/plain": [
       "E3SM-MMF.mlo.0008-02-24-19200.nc:   0%|          | 0.00/1.13M [00:00<?, ?B/s]"
      ]
     },
     "metadata": {},
     "output_type": "display_data"
    },
    {
     "data": {
      "application/vnd.jupyter.widget-view+json": {
       "model_id": "651ba60ce7764cb0bdc838dd282691b9",
       "version_major": 2,
       "version_minor": 0
      },
      "text/plain": [
       "E3SM-MMF.mlo.0008-02-24-20400.nc:   0%|          | 0.00/1.13M [00:00<?, ?B/s]"
      ]
     },
     "metadata": {},
     "output_type": "display_data"
    },
    {
     "data": {
      "application/vnd.jupyter.widget-view+json": {
       "model_id": "ce16e2a35fd94dbbbdb627320e14f045",
       "version_major": 2,
       "version_minor": 0
      },
      "text/plain": [
       "E3SM-MMF.mlo.0008-02-24-21600.nc:   0%|          | 0.00/1.13M [00:00<?, ?B/s]"
      ]
     },
     "metadata": {},
     "output_type": "display_data"
    },
    {
     "data": {
      "application/vnd.jupyter.widget-view+json": {
       "model_id": "6c203ad4f7c042569d474e99683f2c4d",
       "version_major": 2,
       "version_minor": 0
      },
      "text/plain": [
       "E3SM-MMF.mlo.0008-02-24-22800.nc:   0%|          | 0.00/1.13M [00:00<?, ?B/s]"
      ]
     },
     "metadata": {},
     "output_type": "display_data"
    },
    {
     "data": {
      "application/vnd.jupyter.widget-view+json": {
       "model_id": "446c413ff44849adb096bbc13d034a67",
       "version_major": 2,
       "version_minor": 0
      },
      "text/plain": [
       "E3SM-MMF.mlo.0008-02-24-24000.nc:   0%|          | 0.00/1.13M [00:00<?, ?B/s]"
      ]
     },
     "metadata": {},
     "output_type": "display_data"
    },
    {
     "data": {
      "application/vnd.jupyter.widget-view+json": {
       "model_id": "2fba83bdf0c94e18be819c32fab73a30",
       "version_major": 2,
       "version_minor": 0
      },
      "text/plain": [
       "E3SM-MMF.mlo.0008-02-24-25200.nc:   0%|          | 0.00/1.13M [00:00<?, ?B/s]"
      ]
     },
     "metadata": {},
     "output_type": "display_data"
    },
    {
     "data": {
      "application/vnd.jupyter.widget-view+json": {
       "model_id": "a0995d7ade644357bb4d0906b3818158",
       "version_major": 2,
       "version_minor": 0
      },
      "text/plain": [
       "E3SM-MMF.mlo.0008-02-24-26400.nc:   0%|          | 0.00/1.13M [00:00<?, ?B/s]"
      ]
     },
     "metadata": {},
     "output_type": "display_data"
    },
    {
     "data": {
      "application/vnd.jupyter.widget-view+json": {
       "model_id": "1c362fa8641e4ab2a21b3af760bb2056",
       "version_major": 2,
       "version_minor": 0
      },
      "text/plain": [
       "E3SM-MMF.mlo.0008-02-24-27600.nc:   0%|          | 0.00/1.13M [00:00<?, ?B/s]"
      ]
     },
     "metadata": {},
     "output_type": "display_data"
    },
    {
     "data": {
      "application/vnd.jupyter.widget-view+json": {
       "model_id": "523f075da9e34621b3885f3fa33b42b2",
       "version_major": 2,
       "version_minor": 0
      },
      "text/plain": [
       "E3SM-MMF.mlo.0008-02-24-28800.nc:   0%|          | 0.00/1.13M [00:00<?, ?B/s]"
      ]
     },
     "metadata": {},
     "output_type": "display_data"
    },
    {
     "data": {
      "application/vnd.jupyter.widget-view+json": {
       "model_id": "63a1cc9d306045469215290512e3abed",
       "version_major": 2,
       "version_minor": 0
      },
      "text/plain": [
       "E3SM-MMF.mlo.0008-02-24-30000.nc:   0%|          | 0.00/1.13M [00:00<?, ?B/s]"
      ]
     },
     "metadata": {},
     "output_type": "display_data"
    },
    {
     "data": {
      "application/vnd.jupyter.widget-view+json": {
       "model_id": "b525ebc5682d405d87d3673fc7166bde",
       "version_major": 2,
       "version_minor": 0
      },
      "text/plain": [
       "E3SM-MMF.mlo.0008-02-24-31200.nc:   0%|          | 0.00/1.13M [00:00<?, ?B/s]"
      ]
     },
     "metadata": {},
     "output_type": "display_data"
    },
    {
     "data": {
      "application/vnd.jupyter.widget-view+json": {
       "model_id": "72f286c14edc44009a3597a6e916a41a",
       "version_major": 2,
       "version_minor": 0
      },
      "text/plain": [
       "E3SM-MMF.mlo.0008-02-24-32400.nc:   0%|          | 0.00/1.13M [00:00<?, ?B/s]"
      ]
     },
     "metadata": {},
     "output_type": "display_data"
    },
    {
     "data": {
      "application/vnd.jupyter.widget-view+json": {
       "model_id": "1ee56e36f9b444afbee4ee9f628c1fde",
       "version_major": 2,
       "version_minor": 0
      },
      "text/plain": [
       "E3SM-MMF.mlo.0008-02-24-33600.nc:   0%|          | 0.00/1.13M [00:00<?, ?B/s]"
      ]
     },
     "metadata": {},
     "output_type": "display_data"
    },
    {
     "data": {
      "application/vnd.jupyter.widget-view+json": {
       "model_id": "72fe4b127230441f8889ec38c08fb63a",
       "version_major": 2,
       "version_minor": 0
      },
      "text/plain": [
       "E3SM-MMF.mlo.0008-02-24-34800.nc:   0%|          | 0.00/1.13M [00:00<?, ?B/s]"
      ]
     },
     "metadata": {},
     "output_type": "display_data"
    },
    {
     "data": {
      "application/vnd.jupyter.widget-view+json": {
       "model_id": "ca055e743c0442fbbb697f5fa9454c18",
       "version_major": 2,
       "version_minor": 0
      },
      "text/plain": [
       "E3SM-MMF.mlo.0008-02-24-36000.nc:   0%|          | 0.00/1.13M [00:00<?, ?B/s]"
      ]
     },
     "metadata": {},
     "output_type": "display_data"
    },
    {
     "data": {
      "application/vnd.jupyter.widget-view+json": {
       "model_id": "1b20fc6779a64fcb959c8c5bc6725f6f",
       "version_major": 2,
       "version_minor": 0
      },
      "text/plain": [
       "E3SM-MMF.mlo.0008-02-24-37200.nc:   0%|          | 0.00/1.13M [00:00<?, ?B/s]"
      ]
     },
     "metadata": {},
     "output_type": "display_data"
    },
    {
     "data": {
      "application/vnd.jupyter.widget-view+json": {
       "model_id": "387cbd631be04029a5abc1dcabb003a2",
       "version_major": 2,
       "version_minor": 0
      },
      "text/plain": [
       "E3SM-MMF.mlo.0008-02-24-38400.nc:   0%|          | 0.00/1.13M [00:00<?, ?B/s]"
      ]
     },
     "metadata": {},
     "output_type": "display_data"
    },
    {
     "data": {
      "application/vnd.jupyter.widget-view+json": {
       "model_id": "9bb8f5e9781b4fb7899001f6d02de719",
       "version_major": 2,
       "version_minor": 0
      },
      "text/plain": [
       "E3SM-MMF.mlo.0008-02-24-39600.nc:   0%|          | 0.00/1.13M [00:00<?, ?B/s]"
      ]
     },
     "metadata": {},
     "output_type": "display_data"
    },
    {
     "data": {
      "application/vnd.jupyter.widget-view+json": {
       "model_id": "d2b2129bb13d4729beaed60b9d742c0b",
       "version_major": 2,
       "version_minor": 0
      },
      "text/plain": [
       "E3SM-MMF.mlo.0008-02-24-40800.nc:   0%|          | 0.00/1.13M [00:00<?, ?B/s]"
      ]
     },
     "metadata": {},
     "output_type": "display_data"
    },
    {
     "data": {
      "application/vnd.jupyter.widget-view+json": {
       "model_id": "53b61381aa9c4c3a81aed974756ceda3",
       "version_major": 2,
       "version_minor": 0
      },
      "text/plain": [
       "E3SM-MMF.mlo.0008-02-24-42000.nc:   0%|          | 0.00/1.13M [00:00<?, ?B/s]"
      ]
     },
     "metadata": {},
     "output_type": "display_data"
    },
    {
     "data": {
      "application/vnd.jupyter.widget-view+json": {
       "model_id": "3fd49b573a444988a7e34079f181c13d",
       "version_major": 2,
       "version_minor": 0
      },
      "text/plain": [
       "E3SM-MMF.mlo.0008-02-24-43200.nc:   0%|          | 0.00/1.13M [00:00<?, ?B/s]"
      ]
     },
     "metadata": {},
     "output_type": "display_data"
    },
    {
     "data": {
      "application/vnd.jupyter.widget-view+json": {
       "model_id": "7d0d0d227ea9461a975cf340d650806d",
       "version_major": 2,
       "version_minor": 0
      },
      "text/plain": [
       "E3SM-MMF.mlo.0008-02-24-44400.nc:   0%|          | 0.00/1.13M [00:00<?, ?B/s]"
      ]
     },
     "metadata": {},
     "output_type": "display_data"
    },
    {
     "data": {
      "application/vnd.jupyter.widget-view+json": {
       "model_id": "86ba6c5278d54aa4988adf1c06896297",
       "version_major": 2,
       "version_minor": 0
      },
      "text/plain": [
       "E3SM-MMF.mlo.0008-02-24-45600.nc:   0%|          | 0.00/1.13M [00:00<?, ?B/s]"
      ]
     },
     "metadata": {},
     "output_type": "display_data"
    },
    {
     "data": {
      "application/vnd.jupyter.widget-view+json": {
       "model_id": "e333dc1907834b9daf5237d844dbd828",
       "version_major": 2,
       "version_minor": 0
      },
      "text/plain": [
       "E3SM-MMF.mlo.0008-02-24-46800.nc:   0%|          | 0.00/1.13M [00:00<?, ?B/s]"
      ]
     },
     "metadata": {},
     "output_type": "display_data"
    },
    {
     "data": {
      "application/vnd.jupyter.widget-view+json": {
       "model_id": "22d829536d1145768418a7c16c40c8e1",
       "version_major": 2,
       "version_minor": 0
      },
      "text/plain": [
       "E3SM-MMF.mlo.0008-02-24-48000.nc:   0%|          | 0.00/1.13M [00:00<?, ?B/s]"
      ]
     },
     "metadata": {},
     "output_type": "display_data"
    },
    {
     "data": {
      "application/vnd.jupyter.widget-view+json": {
       "model_id": "7bfe036d18cd4ed6a105639e7198546f",
       "version_major": 2,
       "version_minor": 0
      },
      "text/plain": [
       "E3SM-MMF.mlo.0008-02-24-49200.nc:   0%|          | 0.00/1.13M [00:00<?, ?B/s]"
      ]
     },
     "metadata": {},
     "output_type": "display_data"
    },
    {
     "data": {
      "application/vnd.jupyter.widget-view+json": {
       "model_id": "bfa903814d3b49199b160bb919a024a4",
       "version_major": 2,
       "version_minor": 0
      },
      "text/plain": [
       "E3SM-MMF.mlo.0008-02-24-50400.nc:   0%|          | 0.00/1.13M [00:00<?, ?B/s]"
      ]
     },
     "metadata": {},
     "output_type": "display_data"
    },
    {
     "data": {
      "application/vnd.jupyter.widget-view+json": {
       "model_id": "0c17f9d1846f4be7892b7ae0e05d3b59",
       "version_major": 2,
       "version_minor": 0
      },
      "text/plain": [
       "E3SM-MMF.mlo.0008-02-24-51600.nc:   0%|          | 0.00/1.13M [00:00<?, ?B/s]"
      ]
     },
     "metadata": {},
     "output_type": "display_data"
    },
    {
     "data": {
      "application/vnd.jupyter.widget-view+json": {
       "model_id": "56b7b3d4755e4ba089856aaeac73e9a6",
       "version_major": 2,
       "version_minor": 0
      },
      "text/plain": [
       "E3SM-MMF.mlo.0008-02-24-52800.nc:   0%|          | 0.00/1.13M [00:00<?, ?B/s]"
      ]
     },
     "metadata": {},
     "output_type": "display_data"
    },
    {
     "data": {
      "application/vnd.jupyter.widget-view+json": {
       "model_id": "04e448f4be5f4c87867ba1fcf7bdcf66",
       "version_major": 2,
       "version_minor": 0
      },
      "text/plain": [
       "E3SM-MMF.mlo.0008-02-24-54000.nc:   0%|          | 0.00/1.13M [00:00<?, ?B/s]"
      ]
     },
     "metadata": {},
     "output_type": "display_data"
    },
    {
     "data": {
      "application/vnd.jupyter.widget-view+json": {
       "model_id": "393deccadc1142e4aff6961b31386f45",
       "version_major": 2,
       "version_minor": 0
      },
      "text/plain": [
       "E3SM-MMF.mlo.0008-02-24-55200.nc:   0%|          | 0.00/1.13M [00:00<?, ?B/s]"
      ]
     },
     "metadata": {},
     "output_type": "display_data"
    },
    {
     "data": {
      "application/vnd.jupyter.widget-view+json": {
       "model_id": "d391bacb97644dc9a53f8c438b089129",
       "version_major": 2,
       "version_minor": 0
      },
      "text/plain": [
       "E3SM-MMF.mlo.0008-02-24-56400.nc:   0%|          | 0.00/1.13M [00:00<?, ?B/s]"
      ]
     },
     "metadata": {},
     "output_type": "display_data"
    },
    {
     "data": {
      "application/vnd.jupyter.widget-view+json": {
       "model_id": "c1ca7005746b4769bb3dd57017ffb36c",
       "version_major": 2,
       "version_minor": 0
      },
      "text/plain": [
       "E3SM-MMF.mlo.0008-02-24-57600.nc:   0%|          | 0.00/1.13M [00:00<?, ?B/s]"
      ]
     },
     "metadata": {},
     "output_type": "display_data"
    },
    {
     "data": {
      "application/vnd.jupyter.widget-view+json": {
       "model_id": "de9c4f50dee5480fb77fb6ce80555978",
       "version_major": 2,
       "version_minor": 0
      },
      "text/plain": [
       "E3SM-MMF.mlo.0008-02-24-58800.nc:   0%|          | 0.00/1.13M [00:00<?, ?B/s]"
      ]
     },
     "metadata": {},
     "output_type": "display_data"
    },
    {
     "data": {
      "application/vnd.jupyter.widget-view+json": {
       "model_id": "e9e90f7b178b4e8c94e2fb750cbc9e13",
       "version_major": 2,
       "version_minor": 0
      },
      "text/plain": [
       "E3SM-MMF.mlo.0008-02-24-60000.nc:   0%|          | 0.00/1.13M [00:00<?, ?B/s]"
      ]
     },
     "metadata": {},
     "output_type": "display_data"
    },
    {
     "data": {
      "application/vnd.jupyter.widget-view+json": {
       "model_id": "910dbe3175ee4974bfee00881b892f2e",
       "version_major": 2,
       "version_minor": 0
      },
      "text/plain": [
       "E3SM-MMF.mlo.0008-02-24-61200.nc:   0%|          | 0.00/1.13M [00:00<?, ?B/s]"
      ]
     },
     "metadata": {},
     "output_type": "display_data"
    },
    {
     "data": {
      "application/vnd.jupyter.widget-view+json": {
       "model_id": "fd296bc193a74a4ba66cf73339c2f7d5",
       "version_major": 2,
       "version_minor": 0
      },
      "text/plain": [
       "E3SM-MMF.mlo.0008-02-24-62400.nc:   0%|          | 0.00/1.13M [00:00<?, ?B/s]"
      ]
     },
     "metadata": {},
     "output_type": "display_data"
    },
    {
     "data": {
      "application/vnd.jupyter.widget-view+json": {
       "model_id": "d61aee6fd014411383fc8216fdce3619",
       "version_major": 2,
       "version_minor": 0
      },
      "text/plain": [
       "E3SM-MMF.mlo.0008-02-24-63600.nc:   0%|          | 0.00/1.13M [00:00<?, ?B/s]"
      ]
     },
     "metadata": {},
     "output_type": "display_data"
    },
    {
     "data": {
      "application/vnd.jupyter.widget-view+json": {
       "model_id": "11fbfea4e5334aa5b799fd16c1cbf547",
       "version_major": 2,
       "version_minor": 0
      },
      "text/plain": [
       "E3SM-MMF.mlo.0008-02-24-64800.nc:   0%|          | 0.00/1.13M [00:00<?, ?B/s]"
      ]
     },
     "metadata": {},
     "output_type": "display_data"
    },
    {
     "data": {
      "application/vnd.jupyter.widget-view+json": {
       "model_id": "b7d2f0552f694ba88ff5da59eb96a81e",
       "version_major": 2,
       "version_minor": 0
      },
      "text/plain": [
       "E3SM-MMF.mlo.0008-02-24-66000.nc:   0%|          | 0.00/1.13M [00:00<?, ?B/s]"
      ]
     },
     "metadata": {},
     "output_type": "display_data"
    },
    {
     "data": {
      "application/vnd.jupyter.widget-view+json": {
       "model_id": "2fc9eb7a509241a9bc23e7042c8cf676",
       "version_major": 2,
       "version_minor": 0
      },
      "text/plain": [
       "E3SM-MMF.mlo.0008-02-24-67200.nc:   0%|          | 0.00/1.13M [00:00<?, ?B/s]"
      ]
     },
     "metadata": {},
     "output_type": "display_data"
    },
    {
     "data": {
      "application/vnd.jupyter.widget-view+json": {
       "model_id": "9ae6fc0028864ee2b18c134f268fda4f",
       "version_major": 2,
       "version_minor": 0
      },
      "text/plain": [
       "E3SM-MMF.mlo.0008-02-24-68400.nc:   0%|          | 0.00/1.13M [00:00<?, ?B/s]"
      ]
     },
     "metadata": {},
     "output_type": "display_data"
    },
    {
     "data": {
      "application/vnd.jupyter.widget-view+json": {
       "model_id": "c8280115f01a423b80c33820c99fc16d",
       "version_major": 2,
       "version_minor": 0
      },
      "text/plain": [
       "E3SM-MMF.mlo.0008-02-24-69600.nc:   0%|          | 0.00/1.13M [00:00<?, ?B/s]"
      ]
     },
     "metadata": {},
     "output_type": "display_data"
    },
    {
     "data": {
      "application/vnd.jupyter.widget-view+json": {
       "model_id": "b11e0cd0b7af474fbf4a43c3dc0c3eb9",
       "version_major": 2,
       "version_minor": 0
      },
      "text/plain": [
       "E3SM-MMF.mlo.0008-02-24-70800.nc:   0%|          | 0.00/1.13M [00:00<?, ?B/s]"
      ]
     },
     "metadata": {},
     "output_type": "display_data"
    },
    {
     "data": {
      "application/vnd.jupyter.widget-view+json": {
       "model_id": "5ba6eb1756254f699495400bcc2f7f62",
       "version_major": 2,
       "version_minor": 0
      },
      "text/plain": [
       "E3SM-MMF.mlo.0008-02-24-72000.nc:   0%|          | 0.00/1.13M [00:00<?, ?B/s]"
      ]
     },
     "metadata": {},
     "output_type": "display_data"
    },
    {
     "data": {
      "application/vnd.jupyter.widget-view+json": {
       "model_id": "5c69defcaf4b4dcb8f4862e8d8eec13c",
       "version_major": 2,
       "version_minor": 0
      },
      "text/plain": [
       "E3SM-MMF.mlo.0008-02-24-73200.nc:   0%|          | 0.00/1.13M [00:00<?, ?B/s]"
      ]
     },
     "metadata": {},
     "output_type": "display_data"
    },
    {
     "data": {
      "application/vnd.jupyter.widget-view+json": {
       "model_id": "02fd84f405f548aca4ca062d651335b9",
       "version_major": 2,
       "version_minor": 0
      },
      "text/plain": [
       "E3SM-MMF.mlo.0008-02-24-74400.nc:   0%|          | 0.00/1.13M [00:00<?, ?B/s]"
      ]
     },
     "metadata": {},
     "output_type": "display_data"
    },
    {
     "data": {
      "application/vnd.jupyter.widget-view+json": {
       "model_id": "78ed304e7dea4f0f92f4e80a94c62094",
       "version_major": 2,
       "version_minor": 0
      },
      "text/plain": [
       "E3SM-MMF.mlo.0008-02-24-75600.nc:   0%|          | 0.00/1.13M [00:00<?, ?B/s]"
      ]
     },
     "metadata": {},
     "output_type": "display_data"
    },
    {
     "data": {
      "application/vnd.jupyter.widget-view+json": {
       "model_id": "ed13ed365cdc4512bfebf75a5a88dffc",
       "version_major": 2,
       "version_minor": 0
      },
      "text/plain": [
       "E3SM-MMF.mlo.0008-02-24-76800.nc:   0%|          | 0.00/1.13M [00:00<?, ?B/s]"
      ]
     },
     "metadata": {},
     "output_type": "display_data"
    },
    {
     "data": {
      "application/vnd.jupyter.widget-view+json": {
       "model_id": "3a7ba95b0bc94dca8254bcfc8cf8f487",
       "version_major": 2,
       "version_minor": 0
      },
      "text/plain": [
       "E3SM-MMF.mlo.0008-02-24-78000.nc:   0%|          | 0.00/1.13M [00:00<?, ?B/s]"
      ]
     },
     "metadata": {},
     "output_type": "display_data"
    },
    {
     "data": {
      "application/vnd.jupyter.widget-view+json": {
       "model_id": "eb64f9f50e4b46c7927a4d81ef751fd2",
       "version_major": 2,
       "version_minor": 0
      },
      "text/plain": [
       "E3SM-MMF.mlo.0008-02-24-79200.nc:   0%|          | 0.00/1.13M [00:00<?, ?B/s]"
      ]
     },
     "metadata": {},
     "output_type": "display_data"
    },
    {
     "data": {
      "application/vnd.jupyter.widget-view+json": {
       "model_id": "0384ae4efbb3484f8d2b46008dfcc878",
       "version_major": 2,
       "version_minor": 0
      },
      "text/plain": [
       "E3SM-MMF.mlo.0008-02-24-80400.nc:   0%|          | 0.00/1.13M [00:00<?, ?B/s]"
      ]
     },
     "metadata": {},
     "output_type": "display_data"
    },
    {
     "data": {
      "application/vnd.jupyter.widget-view+json": {
       "model_id": "82c41d82d6894624b3bc532ba3034694",
       "version_major": 2,
       "version_minor": 0
      },
      "text/plain": [
       "E3SM-MMF.mlo.0008-02-24-81600.nc:   0%|          | 0.00/1.13M [00:00<?, ?B/s]"
      ]
     },
     "metadata": {},
     "output_type": "display_data"
    },
    {
     "data": {
      "application/vnd.jupyter.widget-view+json": {
       "model_id": "90f13e407ad443a3a6bdacccfd9c54fc",
       "version_major": 2,
       "version_minor": 0
      },
      "text/plain": [
       "E3SM-MMF.mlo.0008-02-24-82800.nc:   0%|          | 0.00/1.13M [00:00<?, ?B/s]"
      ]
     },
     "metadata": {},
     "output_type": "display_data"
    },
    {
     "data": {
      "application/vnd.jupyter.widget-view+json": {
       "model_id": "1a56c7c0a270483b82c12f42655e8649",
       "version_major": 2,
       "version_minor": 0
      },
      "text/plain": [
       "E3SM-MMF.mlo.0008-02-24-84000.nc:   0%|          | 0.00/1.13M [00:00<?, ?B/s]"
      ]
     },
     "metadata": {},
     "output_type": "display_data"
    },
    {
     "data": {
      "application/vnd.jupyter.widget-view+json": {
       "model_id": "a7b0aa6a50e1439f8106ff8c3a97bb36",
       "version_major": 2,
       "version_minor": 0
      },
      "text/plain": [
       "E3SM-MMF.mlo.0008-02-24-85200.nc:   0%|          | 0.00/1.13M [00:00<?, ?B/s]"
      ]
     },
     "metadata": {},
     "output_type": "display_data"
    },
    {
     "data": {
      "application/vnd.jupyter.widget-view+json": {
       "model_id": "fb69caac3bd742ca921bf23862d1ee92",
       "version_major": 2,
       "version_minor": 0
      },
      "text/plain": [
       "E3SM-MMF.mlo.0008-02-25-00000.nc:   0%|          | 0.00/1.13M [00:00<?, ?B/s]"
      ]
     },
     "metadata": {},
     "output_type": "display_data"
    },
    {
     "data": {
      "application/vnd.jupyter.widget-view+json": {
       "model_id": "b709dc5cbe9e46cc8440564b0790489f",
       "version_major": 2,
       "version_minor": 0
      },
      "text/plain": [
       "E3SM-MMF.mlo.0008-02-25-01200.nc:   0%|          | 0.00/1.13M [00:00<?, ?B/s]"
      ]
     },
     "metadata": {},
     "output_type": "display_data"
    },
    {
     "data": {
      "application/vnd.jupyter.widget-view+json": {
       "model_id": "e57c0cd806434dc69bbf63c63c5b767a",
       "version_major": 2,
       "version_minor": 0
      },
      "text/plain": [
       "E3SM-MMF.mlo.0008-02-25-02400.nc:   0%|          | 0.00/1.13M [00:00<?, ?B/s]"
      ]
     },
     "metadata": {},
     "output_type": "display_data"
    },
    {
     "data": {
      "application/vnd.jupyter.widget-view+json": {
       "model_id": "778ebbc3314240ebb5a92e5e90fb3482",
       "version_major": 2,
       "version_minor": 0
      },
      "text/plain": [
       "E3SM-MMF.mlo.0008-02-25-03600.nc:   0%|          | 0.00/1.13M [00:00<?, ?B/s]"
      ]
     },
     "metadata": {},
     "output_type": "display_data"
    },
    {
     "data": {
      "application/vnd.jupyter.widget-view+json": {
       "model_id": "69d3f0cb1d8542b7b3c29d2bb26c192d",
       "version_major": 2,
       "version_minor": 0
      },
      "text/plain": [
       "E3SM-MMF.mlo.0008-02-25-04800.nc:   0%|          | 0.00/1.13M [00:00<?, ?B/s]"
      ]
     },
     "metadata": {},
     "output_type": "display_data"
    },
    {
     "data": {
      "application/vnd.jupyter.widget-view+json": {
       "model_id": "9d85220b58e54013a773e0c777aa9aeb",
       "version_major": 2,
       "version_minor": 0
      },
      "text/plain": [
       "E3SM-MMF.mlo.0008-02-25-06000.nc:   0%|          | 0.00/1.13M [00:00<?, ?B/s]"
      ]
     },
     "metadata": {},
     "output_type": "display_data"
    },
    {
     "data": {
      "application/vnd.jupyter.widget-view+json": {
       "model_id": "95fb26fd5c254312bb4222c624a2de2d",
       "version_major": 2,
       "version_minor": 0
      },
      "text/plain": [
       "E3SM-MMF.mlo.0008-02-25-07200.nc:   0%|          | 0.00/1.13M [00:00<?, ?B/s]"
      ]
     },
     "metadata": {},
     "output_type": "display_data"
    },
    {
     "data": {
      "application/vnd.jupyter.widget-view+json": {
       "model_id": "60e00e83319e4daca9fc5ae2aef8e5e9",
       "version_major": 2,
       "version_minor": 0
      },
      "text/plain": [
       "E3SM-MMF.mlo.0008-02-25-08400.nc:   0%|          | 0.00/1.13M [00:00<?, ?B/s]"
      ]
     },
     "metadata": {},
     "output_type": "display_data"
    },
    {
     "data": {
      "application/vnd.jupyter.widget-view+json": {
       "model_id": "18cf472c96904993888c724804765f56",
       "version_major": 2,
       "version_minor": 0
      },
      "text/plain": [
       "E3SM-MMF.mlo.0008-02-25-09600.nc:   0%|          | 0.00/1.13M [00:00<?, ?B/s]"
      ]
     },
     "metadata": {},
     "output_type": "display_data"
    },
    {
     "data": {
      "application/vnd.jupyter.widget-view+json": {
       "model_id": "3c51f00466eb4aa1a76846d827e98cdd",
       "version_major": 2,
       "version_minor": 0
      },
      "text/plain": [
       "E3SM-MMF.mlo.0008-02-25-10800.nc:   0%|          | 0.00/1.13M [00:00<?, ?B/s]"
      ]
     },
     "metadata": {},
     "output_type": "display_data"
    },
    {
     "data": {
      "application/vnd.jupyter.widget-view+json": {
       "model_id": "2297299eb6554a68b2482364284fb93e",
       "version_major": 2,
       "version_minor": 0
      },
      "text/plain": [
       "E3SM-MMF.mlo.0008-02-25-12000.nc:   0%|          | 0.00/1.13M [00:00<?, ?B/s]"
      ]
     },
     "metadata": {},
     "output_type": "display_data"
    },
    {
     "data": {
      "application/vnd.jupyter.widget-view+json": {
       "model_id": "fa2986fd365b485390a39ffca25af51e",
       "version_major": 2,
       "version_minor": 0
      },
      "text/plain": [
       "E3SM-MMF.mlo.0008-02-25-13200.nc:   0%|          | 0.00/1.13M [00:00<?, ?B/s]"
      ]
     },
     "metadata": {},
     "output_type": "display_data"
    },
    {
     "data": {
      "application/vnd.jupyter.widget-view+json": {
       "model_id": "377b6fd4336a479ebd75c30549d5c3ed",
       "version_major": 2,
       "version_minor": 0
      },
      "text/plain": [
       "E3SM-MMF.mlo.0008-02-25-14400.nc:   0%|          | 0.00/1.13M [00:00<?, ?B/s]"
      ]
     },
     "metadata": {},
     "output_type": "display_data"
    },
    {
     "data": {
      "application/vnd.jupyter.widget-view+json": {
       "model_id": "53fd38ab256549c79067b57eafc591c1",
       "version_major": 2,
       "version_minor": 0
      },
      "text/plain": [
       "E3SM-MMF.mlo.0008-02-25-15600.nc:   0%|          | 0.00/1.13M [00:00<?, ?B/s]"
      ]
     },
     "metadata": {},
     "output_type": "display_data"
    },
    {
     "data": {
      "application/vnd.jupyter.widget-view+json": {
       "model_id": "4b4c223792644d86b40db54dbbcd3ddd",
       "version_major": 2,
       "version_minor": 0
      },
      "text/plain": [
       "E3SM-MMF.mlo.0008-02-25-16800.nc:   0%|          | 0.00/1.13M [00:00<?, ?B/s]"
      ]
     },
     "metadata": {},
     "output_type": "display_data"
    },
    {
     "data": {
      "application/vnd.jupyter.widget-view+json": {
       "model_id": "cff8a676967b4cafad6884459d2f8e39",
       "version_major": 2,
       "version_minor": 0
      },
      "text/plain": [
       "E3SM-MMF.mlo.0008-02-25-18000.nc:   0%|          | 0.00/1.13M [00:00<?, ?B/s]"
      ]
     },
     "metadata": {},
     "output_type": "display_data"
    },
    {
     "data": {
      "application/vnd.jupyter.widget-view+json": {
       "model_id": "9841fb49038c4c8c8b09d80b88eb6563",
       "version_major": 2,
       "version_minor": 0
      },
      "text/plain": [
       "E3SM-MMF.mlo.0008-02-25-19200.nc:   0%|          | 0.00/1.13M [00:00<?, ?B/s]"
      ]
     },
     "metadata": {},
     "output_type": "display_data"
    },
    {
     "data": {
      "application/vnd.jupyter.widget-view+json": {
       "model_id": "4b49487cdc22462a9aba5226126c8519",
       "version_major": 2,
       "version_minor": 0
      },
      "text/plain": [
       "E3SM-MMF.mlo.0008-02-25-20400.nc:   0%|          | 0.00/1.13M [00:00<?, ?B/s]"
      ]
     },
     "metadata": {},
     "output_type": "display_data"
    },
    {
     "data": {
      "application/vnd.jupyter.widget-view+json": {
       "model_id": "33319c05769f4a3bae354a26741d8cae",
       "version_major": 2,
       "version_minor": 0
      },
      "text/plain": [
       "E3SM-MMF.mlo.0008-02-25-21600.nc:   0%|          | 0.00/1.13M [00:00<?, ?B/s]"
      ]
     },
     "metadata": {},
     "output_type": "display_data"
    },
    {
     "data": {
      "application/vnd.jupyter.widget-view+json": {
       "model_id": "8bb2fa40ae2d441583b010acbbfb35dc",
       "version_major": 2,
       "version_minor": 0
      },
      "text/plain": [
       "E3SM-MMF.mlo.0008-02-25-22800.nc:   0%|          | 0.00/1.13M [00:00<?, ?B/s]"
      ]
     },
     "metadata": {},
     "output_type": "display_data"
    },
    {
     "data": {
      "application/vnd.jupyter.widget-view+json": {
       "model_id": "d86a8a403c704ca69ec9092565ca74a1",
       "version_major": 2,
       "version_minor": 0
      },
      "text/plain": [
       "E3SM-MMF.mlo.0008-02-25-24000.nc:   0%|          | 0.00/1.13M [00:00<?, ?B/s]"
      ]
     },
     "metadata": {},
     "output_type": "display_data"
    },
    {
     "data": {
      "application/vnd.jupyter.widget-view+json": {
       "model_id": "49068bb5cc084e358f89dc54fba5f2d9",
       "version_major": 2,
       "version_minor": 0
      },
      "text/plain": [
       "E3SM-MMF.mlo.0008-02-25-25200.nc:   0%|          | 0.00/1.13M [00:00<?, ?B/s]"
      ]
     },
     "metadata": {},
     "output_type": "display_data"
    },
    {
     "data": {
      "application/vnd.jupyter.widget-view+json": {
       "model_id": "064b135fe2fa49bba9e1e787079eeb11",
       "version_major": 2,
       "version_minor": 0
      },
      "text/plain": [
       "E3SM-MMF.mlo.0008-02-25-26400.nc:   0%|          | 0.00/1.13M [00:00<?, ?B/s]"
      ]
     },
     "metadata": {},
     "output_type": "display_data"
    },
    {
     "data": {
      "application/vnd.jupyter.widget-view+json": {
       "model_id": "d33a7d249e314254a504c4fad4b9e351",
       "version_major": 2,
       "version_minor": 0
      },
      "text/plain": [
       "E3SM-MMF.mlo.0008-02-25-27600.nc:   0%|          | 0.00/1.13M [00:00<?, ?B/s]"
      ]
     },
     "metadata": {},
     "output_type": "display_data"
    },
    {
     "data": {
      "application/vnd.jupyter.widget-view+json": {
       "model_id": "28cd2b1ce3464a6e836f2b93d929205c",
       "version_major": 2,
       "version_minor": 0
      },
      "text/plain": [
       "E3SM-MMF.mlo.0008-02-25-28800.nc:   0%|          | 0.00/1.13M [00:00<?, ?B/s]"
      ]
     },
     "metadata": {},
     "output_type": "display_data"
    },
    {
     "data": {
      "application/vnd.jupyter.widget-view+json": {
       "model_id": "ab31b03e003346d0ace1a511f1688d1d",
       "version_major": 2,
       "version_minor": 0
      },
      "text/plain": [
       "E3SM-MMF.mlo.0008-02-25-30000.nc:   0%|          | 0.00/1.13M [00:00<?, ?B/s]"
      ]
     },
     "metadata": {},
     "output_type": "display_data"
    },
    {
     "data": {
      "application/vnd.jupyter.widget-view+json": {
       "model_id": "137610d554af484690eb15321cc879fc",
       "version_major": 2,
       "version_minor": 0
      },
      "text/plain": [
       "E3SM-MMF.mlo.0008-02-25-31200.nc:   0%|          | 0.00/1.13M [00:00<?, ?B/s]"
      ]
     },
     "metadata": {},
     "output_type": "display_data"
    },
    {
     "data": {
      "application/vnd.jupyter.widget-view+json": {
       "model_id": "e0dbb49d9e5e414a959590b7869ffa6a",
       "version_major": 2,
       "version_minor": 0
      },
      "text/plain": [
       "E3SM-MMF.mlo.0008-02-25-32400.nc:   0%|          | 0.00/1.13M [00:00<?, ?B/s]"
      ]
     },
     "metadata": {},
     "output_type": "display_data"
    },
    {
     "data": {
      "application/vnd.jupyter.widget-view+json": {
       "model_id": "8dc62a4adca54de8815669e0e710d9cb",
       "version_major": 2,
       "version_minor": 0
      },
      "text/plain": [
       "E3SM-MMF.mlo.0008-02-25-33600.nc:   0%|          | 0.00/1.13M [00:00<?, ?B/s]"
      ]
     },
     "metadata": {},
     "output_type": "display_data"
    },
    {
     "data": {
      "application/vnd.jupyter.widget-view+json": {
       "model_id": "0cf4392adab64165bfe12dc3bf00002b",
       "version_major": 2,
       "version_minor": 0
      },
      "text/plain": [
       "E3SM-MMF.mlo.0008-02-25-34800.nc:   0%|          | 0.00/1.13M [00:00<?, ?B/s]"
      ]
     },
     "metadata": {},
     "output_type": "display_data"
    },
    {
     "data": {
      "application/vnd.jupyter.widget-view+json": {
       "model_id": "241d9d7066624910bc19b682b0e27fe4",
       "version_major": 2,
       "version_minor": 0
      },
      "text/plain": [
       "E3SM-MMF.mlo.0008-02-25-36000.nc:   0%|          | 0.00/1.13M [00:00<?, ?B/s]"
      ]
     },
     "metadata": {},
     "output_type": "display_data"
    },
    {
     "data": {
      "application/vnd.jupyter.widget-view+json": {
       "model_id": "460f6f7f38cc4754ba5e48acb9b2464a",
       "version_major": 2,
       "version_minor": 0
      },
      "text/plain": [
       "E3SM-MMF.mlo.0008-02-25-37200.nc:   0%|          | 0.00/1.13M [00:00<?, ?B/s]"
      ]
     },
     "metadata": {},
     "output_type": "display_data"
    },
    {
     "data": {
      "application/vnd.jupyter.widget-view+json": {
       "model_id": "fb59069f6d3e4d5587968e998df0a170",
       "version_major": 2,
       "version_minor": 0
      },
      "text/plain": [
       "E3SM-MMF.mlo.0008-02-25-38400.nc:   0%|          | 0.00/1.13M [00:00<?, ?B/s]"
      ]
     },
     "metadata": {},
     "output_type": "display_data"
    },
    {
     "data": {
      "application/vnd.jupyter.widget-view+json": {
       "model_id": "4af7305a0f254457b2c6cacdb8fe27ff",
       "version_major": 2,
       "version_minor": 0
      },
      "text/plain": [
       "E3SM-MMF.mlo.0008-02-25-39600.nc:   0%|          | 0.00/1.13M [00:00<?, ?B/s]"
      ]
     },
     "metadata": {},
     "output_type": "display_data"
    },
    {
     "data": {
      "application/vnd.jupyter.widget-view+json": {
       "model_id": "45fdd92240904c979604b1f87096b8bd",
       "version_major": 2,
       "version_minor": 0
      },
      "text/plain": [
       "E3SM-MMF.mlo.0008-02-25-40800.nc:   0%|          | 0.00/1.13M [00:00<?, ?B/s]"
      ]
     },
     "metadata": {},
     "output_type": "display_data"
    },
    {
     "data": {
      "application/vnd.jupyter.widget-view+json": {
       "model_id": "76eaa7af098a4898ba25e776d63a0c11",
       "version_major": 2,
       "version_minor": 0
      },
      "text/plain": [
       "E3SM-MMF.mlo.0008-02-25-42000.nc:   0%|          | 0.00/1.13M [00:00<?, ?B/s]"
      ]
     },
     "metadata": {},
     "output_type": "display_data"
    },
    {
     "data": {
      "application/vnd.jupyter.widget-view+json": {
       "model_id": "24ef9b8136464dcba1ce4e5dece42caf",
       "version_major": 2,
       "version_minor": 0
      },
      "text/plain": [
       "E3SM-MMF.mlo.0008-02-25-43200.nc:   0%|          | 0.00/1.13M [00:00<?, ?B/s]"
      ]
     },
     "metadata": {},
     "output_type": "display_data"
    },
    {
     "data": {
      "application/vnd.jupyter.widget-view+json": {
       "model_id": "f0ff9abb870f4f4498243551fc974fba",
       "version_major": 2,
       "version_minor": 0
      },
      "text/plain": [
       "E3SM-MMF.mlo.0008-02-25-44400.nc:   0%|          | 0.00/1.13M [00:00<?, ?B/s]"
      ]
     },
     "metadata": {},
     "output_type": "display_data"
    },
    {
     "data": {
      "application/vnd.jupyter.widget-view+json": {
       "model_id": "aa97d9fa78c341acab77c2b09ba9dfad",
       "version_major": 2,
       "version_minor": 0
      },
      "text/plain": [
       "E3SM-MMF.mlo.0008-02-25-45600.nc:   0%|          | 0.00/1.13M [00:00<?, ?B/s]"
      ]
     },
     "metadata": {},
     "output_type": "display_data"
    },
    {
     "data": {
      "application/vnd.jupyter.widget-view+json": {
       "model_id": "95fd587d5ae34886a53f461892b27690",
       "version_major": 2,
       "version_minor": 0
      },
      "text/plain": [
       "E3SM-MMF.mlo.0008-02-25-46800.nc:   0%|          | 0.00/1.13M [00:00<?, ?B/s]"
      ]
     },
     "metadata": {},
     "output_type": "display_data"
    },
    {
     "data": {
      "application/vnd.jupyter.widget-view+json": {
       "model_id": "ae1ccff184cf4785ab15158d3e17a8e9",
       "version_major": 2,
       "version_minor": 0
      },
      "text/plain": [
       "E3SM-MMF.mlo.0008-02-25-48000.nc:   0%|          | 0.00/1.13M [00:00<?, ?B/s]"
      ]
     },
     "metadata": {},
     "output_type": "display_data"
    },
    {
     "data": {
      "application/vnd.jupyter.widget-view+json": {
       "model_id": "3038c3d656a8413d8d2ad9c938aee64d",
       "version_major": 2,
       "version_minor": 0
      },
      "text/plain": [
       "E3SM-MMF.mlo.0008-02-25-49200.nc:   0%|          | 0.00/1.13M [00:00<?, ?B/s]"
      ]
     },
     "metadata": {},
     "output_type": "display_data"
    },
    {
     "data": {
      "application/vnd.jupyter.widget-view+json": {
       "model_id": "bd3a55426d49423c8d993c65f070676a",
       "version_major": 2,
       "version_minor": 0
      },
      "text/plain": [
       "E3SM-MMF.mlo.0008-02-25-50400.nc:   0%|          | 0.00/1.13M [00:00<?, ?B/s]"
      ]
     },
     "metadata": {},
     "output_type": "display_data"
    },
    {
     "data": {
      "application/vnd.jupyter.widget-view+json": {
       "model_id": "9ccd57b7ca13446f9522faa65fcf04c1",
       "version_major": 2,
       "version_minor": 0
      },
      "text/plain": [
       "E3SM-MMF.mlo.0008-02-25-51600.nc:   0%|          | 0.00/1.13M [00:00<?, ?B/s]"
      ]
     },
     "metadata": {},
     "output_type": "display_data"
    },
    {
     "data": {
      "application/vnd.jupyter.widget-view+json": {
       "model_id": "adf949b2afd54bc38b66a04f581f4fa2",
       "version_major": 2,
       "version_minor": 0
      },
      "text/plain": [
       "E3SM-MMF.mlo.0008-02-25-52800.nc:   0%|          | 0.00/1.13M [00:00<?, ?B/s]"
      ]
     },
     "metadata": {},
     "output_type": "display_data"
    },
    {
     "data": {
      "application/vnd.jupyter.widget-view+json": {
       "model_id": "45622f99af814058b1f2f59e62f0ffdb",
       "version_major": 2,
       "version_minor": 0
      },
      "text/plain": [
       "E3SM-MMF.mlo.0008-02-25-54000.nc:   0%|          | 0.00/1.13M [00:00<?, ?B/s]"
      ]
     },
     "metadata": {},
     "output_type": "display_data"
    },
    {
     "data": {
      "application/vnd.jupyter.widget-view+json": {
       "model_id": "58b884e781354769b0f16bc0a7c0d34a",
       "version_major": 2,
       "version_minor": 0
      },
      "text/plain": [
       "E3SM-MMF.mlo.0008-02-25-55200.nc:   0%|          | 0.00/1.13M [00:00<?, ?B/s]"
      ]
     },
     "metadata": {},
     "output_type": "display_data"
    },
    {
     "data": {
      "application/vnd.jupyter.widget-view+json": {
       "model_id": "11fae5b7ee8141548534b8ad4a46666b",
       "version_major": 2,
       "version_minor": 0
      },
      "text/plain": [
       "E3SM-MMF.mlo.0008-02-25-56400.nc:   0%|          | 0.00/1.13M [00:00<?, ?B/s]"
      ]
     },
     "metadata": {},
     "output_type": "display_data"
    },
    {
     "data": {
      "application/vnd.jupyter.widget-view+json": {
       "model_id": "e39bab1d4e914646a2836643547f46cf",
       "version_major": 2,
       "version_minor": 0
      },
      "text/plain": [
       "E3SM-MMF.mlo.0008-02-25-57600.nc:   0%|          | 0.00/1.13M [00:00<?, ?B/s]"
      ]
     },
     "metadata": {},
     "output_type": "display_data"
    },
    {
     "data": {
      "application/vnd.jupyter.widget-view+json": {
       "model_id": "12936ee56ab54d0e8b8d284fb206ae22",
       "version_major": 2,
       "version_minor": 0
      },
      "text/plain": [
       "E3SM-MMF.mlo.0008-02-25-58800.nc:   0%|          | 0.00/1.13M [00:00<?, ?B/s]"
      ]
     },
     "metadata": {},
     "output_type": "display_data"
    },
    {
     "data": {
      "application/vnd.jupyter.widget-view+json": {
       "model_id": "cf7fb7d7a7fa429d85406ea267e46d58",
       "version_major": 2,
       "version_minor": 0
      },
      "text/plain": [
       "E3SM-MMF.mlo.0008-02-25-60000.nc:   0%|          | 0.00/1.13M [00:00<?, ?B/s]"
      ]
     },
     "metadata": {},
     "output_type": "display_data"
    },
    {
     "data": {
      "application/vnd.jupyter.widget-view+json": {
       "model_id": "27ed911856a04d3cb81c37bf817bdc40",
       "version_major": 2,
       "version_minor": 0
      },
      "text/plain": [
       "E3SM-MMF.mlo.0008-02-25-61200.nc:   0%|          | 0.00/1.13M [00:00<?, ?B/s]"
      ]
     },
     "metadata": {},
     "output_type": "display_data"
    },
    {
     "data": {
      "application/vnd.jupyter.widget-view+json": {
       "model_id": "109267517f7548cd8e06faa0ce4c42f1",
       "version_major": 2,
       "version_minor": 0
      },
      "text/plain": [
       "E3SM-MMF.mlo.0008-02-25-62400.nc:   0%|          | 0.00/1.13M [00:00<?, ?B/s]"
      ]
     },
     "metadata": {},
     "output_type": "display_data"
    },
    {
     "data": {
      "application/vnd.jupyter.widget-view+json": {
       "model_id": "32fa45c8892b4dc1a7a66a28784cc466",
       "version_major": 2,
       "version_minor": 0
      },
      "text/plain": [
       "E3SM-MMF.mlo.0008-02-25-63600.nc:   0%|          | 0.00/1.13M [00:00<?, ?B/s]"
      ]
     },
     "metadata": {},
     "output_type": "display_data"
    },
    {
     "data": {
      "application/vnd.jupyter.widget-view+json": {
       "model_id": "4c6ef77d328c4206a67481a9b1c54579",
       "version_major": 2,
       "version_minor": 0
      },
      "text/plain": [
       "E3SM-MMF.mlo.0008-02-25-64800.nc:   0%|          | 0.00/1.13M [00:00<?, ?B/s]"
      ]
     },
     "metadata": {},
     "output_type": "display_data"
    },
    {
     "data": {
      "application/vnd.jupyter.widget-view+json": {
       "model_id": "fb5a04dc95fe4ca08c919730e3cc71ec",
       "version_major": 2,
       "version_minor": 0
      },
      "text/plain": [
       "E3SM-MMF.mlo.0008-02-25-66000.nc:   0%|          | 0.00/1.13M [00:00<?, ?B/s]"
      ]
     },
     "metadata": {},
     "output_type": "display_data"
    },
    {
     "data": {
      "application/vnd.jupyter.widget-view+json": {
       "model_id": "aa8fedde65b8401e81595827ee0930e7",
       "version_major": 2,
       "version_minor": 0
      },
      "text/plain": [
       "E3SM-MMF.mlo.0008-02-25-67200.nc:   0%|          | 0.00/1.13M [00:00<?, ?B/s]"
      ]
     },
     "metadata": {},
     "output_type": "display_data"
    },
    {
     "data": {
      "application/vnd.jupyter.widget-view+json": {
       "model_id": "0e4b713f3c784024a6f6d5c9dfb0aeb1",
       "version_major": 2,
       "version_minor": 0
      },
      "text/plain": [
       "E3SM-MMF.mlo.0008-02-25-68400.nc:   0%|          | 0.00/1.13M [00:00<?, ?B/s]"
      ]
     },
     "metadata": {},
     "output_type": "display_data"
    },
    {
     "data": {
      "application/vnd.jupyter.widget-view+json": {
       "model_id": "02b6bb143fd241949b92cf0e464ac3c0",
       "version_major": 2,
       "version_minor": 0
      },
      "text/plain": [
       "E3SM-MMF.mlo.0008-02-25-69600.nc:   0%|          | 0.00/1.13M [00:00<?, ?B/s]"
      ]
     },
     "metadata": {},
     "output_type": "display_data"
    },
    {
     "data": {
      "application/vnd.jupyter.widget-view+json": {
       "model_id": "7c5aa295798b4c5a8eeed4a75556a416",
       "version_major": 2,
       "version_minor": 0
      },
      "text/plain": [
       "E3SM-MMF.mlo.0008-02-25-70800.nc:   0%|          | 0.00/1.13M [00:00<?, ?B/s]"
      ]
     },
     "metadata": {},
     "output_type": "display_data"
    },
    {
     "data": {
      "application/vnd.jupyter.widget-view+json": {
       "model_id": "b15ad91ce3a446dba9a3459835bc00b7",
       "version_major": 2,
       "version_minor": 0
      },
      "text/plain": [
       "E3SM-MMF.mlo.0008-02-25-72000.nc:   0%|          | 0.00/1.13M [00:00<?, ?B/s]"
      ]
     },
     "metadata": {},
     "output_type": "display_data"
    },
    {
     "data": {
      "application/vnd.jupyter.widget-view+json": {
       "model_id": "419646c8868b46649df32e71195d8313",
       "version_major": 2,
       "version_minor": 0
      },
      "text/plain": [
       "E3SM-MMF.mlo.0008-02-25-73200.nc:   0%|          | 0.00/1.13M [00:00<?, ?B/s]"
      ]
     },
     "metadata": {},
     "output_type": "display_data"
    },
    {
     "data": {
      "application/vnd.jupyter.widget-view+json": {
       "model_id": "301eb54cb13d4c6c86442280e3987a76",
       "version_major": 2,
       "version_minor": 0
      },
      "text/plain": [
       "E3SM-MMF.mlo.0008-02-25-74400.nc:   0%|          | 0.00/1.13M [00:00<?, ?B/s]"
      ]
     },
     "metadata": {},
     "output_type": "display_data"
    },
    {
     "data": {
      "application/vnd.jupyter.widget-view+json": {
       "model_id": "4bb056cbe3d6482f83779be4540cb921",
       "version_major": 2,
       "version_minor": 0
      },
      "text/plain": [
       "E3SM-MMF.mlo.0008-02-25-75600.nc:   0%|          | 0.00/1.13M [00:00<?, ?B/s]"
      ]
     },
     "metadata": {},
     "output_type": "display_data"
    },
    {
     "data": {
      "application/vnd.jupyter.widget-view+json": {
       "model_id": "a1d6a79589e642f7ac499407c1044c3d",
       "version_major": 2,
       "version_minor": 0
      },
      "text/plain": [
       "E3SM-MMF.mlo.0008-02-25-76800.nc:   0%|          | 0.00/1.13M [00:00<?, ?B/s]"
      ]
     },
     "metadata": {},
     "output_type": "display_data"
    },
    {
     "data": {
      "application/vnd.jupyter.widget-view+json": {
       "model_id": "0a97b37873c346199fe5e19a788c18d8",
       "version_major": 2,
       "version_minor": 0
      },
      "text/plain": [
       "E3SM-MMF.mlo.0008-02-25-78000.nc:   0%|          | 0.00/1.13M [00:00<?, ?B/s]"
      ]
     },
     "metadata": {},
     "output_type": "display_data"
    },
    {
     "data": {
      "application/vnd.jupyter.widget-view+json": {
       "model_id": "00c934ad3d6d4c3e88b040437527ce46",
       "version_major": 2,
       "version_minor": 0
      },
      "text/plain": [
       "E3SM-MMF.mlo.0008-02-25-79200.nc:   0%|          | 0.00/1.13M [00:00<?, ?B/s]"
      ]
     },
     "metadata": {},
     "output_type": "display_data"
    },
    {
     "data": {
      "application/vnd.jupyter.widget-view+json": {
       "model_id": "793a182d0cf54c0e9ef99ba1075b6f83",
       "version_major": 2,
       "version_minor": 0
      },
      "text/plain": [
       "E3SM-MMF.mlo.0008-02-25-80400.nc:   0%|          | 0.00/1.13M [00:00<?, ?B/s]"
      ]
     },
     "metadata": {},
     "output_type": "display_data"
    },
    {
     "data": {
      "application/vnd.jupyter.widget-view+json": {
       "model_id": "2697c4b33ee44c27a8aef4925a57937c",
       "version_major": 2,
       "version_minor": 0
      },
      "text/plain": [
       "E3SM-MMF.mlo.0008-02-25-81600.nc:   0%|          | 0.00/1.13M [00:00<?, ?B/s]"
      ]
     },
     "metadata": {},
     "output_type": "display_data"
    },
    {
     "data": {
      "application/vnd.jupyter.widget-view+json": {
       "model_id": "16c7db27523b49bbba6d7e89fb4eea26",
       "version_major": 2,
       "version_minor": 0
      },
      "text/plain": [
       "E3SM-MMF.mlo.0008-02-25-82800.nc:   0%|          | 0.00/1.13M [00:00<?, ?B/s]"
      ]
     },
     "metadata": {},
     "output_type": "display_data"
    },
    {
     "data": {
      "application/vnd.jupyter.widget-view+json": {
       "model_id": "d1b8eec90b424da4b1a16fd7f67c8817",
       "version_major": 2,
       "version_minor": 0
      },
      "text/plain": [
       "E3SM-MMF.mlo.0008-02-25-84000.nc:   0%|          | 0.00/1.13M [00:00<?, ?B/s]"
      ]
     },
     "metadata": {},
     "output_type": "display_data"
    },
    {
     "data": {
      "application/vnd.jupyter.widget-view+json": {
       "model_id": "eb89f5bddfa243fc8c4eb8c73b2d28af",
       "version_major": 2,
       "version_minor": 0
      },
      "text/plain": [
       "E3SM-MMF.mlo.0008-02-25-85200.nc:   0%|          | 0.00/1.13M [00:00<?, ?B/s]"
      ]
     },
     "metadata": {},
     "output_type": "display_data"
    },
    {
     "data": {
      "application/vnd.jupyter.widget-view+json": {
       "model_id": "45f7fe9ff4d54543a9386a3ea37f7da4",
       "version_major": 2,
       "version_minor": 0
      },
      "text/plain": [
       "E3SM-MMF.mlo.0008-02-26-00000.nc:   0%|          | 0.00/1.13M [00:00<?, ?B/s]"
      ]
     },
     "metadata": {},
     "output_type": "display_data"
    },
    {
     "data": {
      "application/vnd.jupyter.widget-view+json": {
       "model_id": "38fbe54b10fe44b481bdb69c8d63c22d",
       "version_major": 2,
       "version_minor": 0
      },
      "text/plain": [
       "E3SM-MMF.mlo.0008-02-26-01200.nc:   0%|          | 0.00/1.13M [00:00<?, ?B/s]"
      ]
     },
     "metadata": {},
     "output_type": "display_data"
    },
    {
     "data": {
      "application/vnd.jupyter.widget-view+json": {
       "model_id": "eff350b993b842708d4a6264bbda5c14",
       "version_major": 2,
       "version_minor": 0
      },
      "text/plain": [
       "E3SM-MMF.mlo.0008-02-26-02400.nc:   0%|          | 0.00/1.13M [00:00<?, ?B/s]"
      ]
     },
     "metadata": {},
     "output_type": "display_data"
    },
    {
     "data": {
      "application/vnd.jupyter.widget-view+json": {
       "model_id": "54bd1ee3cfad4993a6c5541d54f3626b",
       "version_major": 2,
       "version_minor": 0
      },
      "text/plain": [
       "E3SM-MMF.mlo.0008-02-26-03600.nc:   0%|          | 0.00/1.13M [00:00<?, ?B/s]"
      ]
     },
     "metadata": {},
     "output_type": "display_data"
    },
    {
     "data": {
      "application/vnd.jupyter.widget-view+json": {
       "model_id": "f7b3e394f39a4a729ca1ba4e0ed475dd",
       "version_major": 2,
       "version_minor": 0
      },
      "text/plain": [
       "E3SM-MMF.mlo.0008-02-26-04800.nc:   0%|          | 0.00/1.13M [00:00<?, ?B/s]"
      ]
     },
     "metadata": {},
     "output_type": "display_data"
    },
    {
     "data": {
      "application/vnd.jupyter.widget-view+json": {
       "model_id": "7313b2f6a97d40d9af34151b1b9bb145",
       "version_major": 2,
       "version_minor": 0
      },
      "text/plain": [
       "E3SM-MMF.mlo.0008-02-26-06000.nc:   0%|          | 0.00/1.13M [00:00<?, ?B/s]"
      ]
     },
     "metadata": {},
     "output_type": "display_data"
    },
    {
     "data": {
      "application/vnd.jupyter.widget-view+json": {
       "model_id": "8b7e7c4d015e4cc19a00be3943743ad4",
       "version_major": 2,
       "version_minor": 0
      },
      "text/plain": [
       "E3SM-MMF.mlo.0008-02-26-07200.nc:   0%|          | 0.00/1.13M [00:00<?, ?B/s]"
      ]
     },
     "metadata": {},
     "output_type": "display_data"
    },
    {
     "data": {
      "application/vnd.jupyter.widget-view+json": {
       "model_id": "55d4677e9ea24838ae6ee8f51cff6630",
       "version_major": 2,
       "version_minor": 0
      },
      "text/plain": [
       "E3SM-MMF.mlo.0008-02-26-08400.nc:   0%|          | 0.00/1.13M [00:00<?, ?B/s]"
      ]
     },
     "metadata": {},
     "output_type": "display_data"
    },
    {
     "data": {
      "application/vnd.jupyter.widget-view+json": {
       "model_id": "053fd250a9be4465b3493adb3a38bb0e",
       "version_major": 2,
       "version_minor": 0
      },
      "text/plain": [
       "E3SM-MMF.mlo.0008-02-26-09600.nc:   0%|          | 0.00/1.13M [00:00<?, ?B/s]"
      ]
     },
     "metadata": {},
     "output_type": "display_data"
    },
    {
     "data": {
      "application/vnd.jupyter.widget-view+json": {
       "model_id": "3f66ce2c87ae45a5a187d063869242b6",
       "version_major": 2,
       "version_minor": 0
      },
      "text/plain": [
       "E3SM-MMF.mlo.0008-02-26-10800.nc:   0%|          | 0.00/1.13M [00:00<?, ?B/s]"
      ]
     },
     "metadata": {},
     "output_type": "display_data"
    },
    {
     "data": {
      "application/vnd.jupyter.widget-view+json": {
       "model_id": "cecb216742d04607a37a444c51d35748",
       "version_major": 2,
       "version_minor": 0
      },
      "text/plain": [
       "E3SM-MMF.mlo.0008-02-26-12000.nc:   0%|          | 0.00/1.13M [00:00<?, ?B/s]"
      ]
     },
     "metadata": {},
     "output_type": "display_data"
    },
    {
     "data": {
      "application/vnd.jupyter.widget-view+json": {
       "model_id": "ec1b5dd085834b519f884498053ab15c",
       "version_major": 2,
       "version_minor": 0
      },
      "text/plain": [
       "E3SM-MMF.mlo.0008-02-26-13200.nc:   0%|          | 0.00/1.13M [00:00<?, ?B/s]"
      ]
     },
     "metadata": {},
     "output_type": "display_data"
    },
    {
     "data": {
      "application/vnd.jupyter.widget-view+json": {
       "model_id": "6e91526b73dd4a85a8f54e7c7fcd682c",
       "version_major": 2,
       "version_minor": 0
      },
      "text/plain": [
       "E3SM-MMF.mlo.0008-02-26-14400.nc:   0%|          | 0.00/1.13M [00:00<?, ?B/s]"
      ]
     },
     "metadata": {},
     "output_type": "display_data"
    },
    {
     "data": {
      "application/vnd.jupyter.widget-view+json": {
       "model_id": "a008bc91cc614f739549cc0f6648f1b8",
       "version_major": 2,
       "version_minor": 0
      },
      "text/plain": [
       "E3SM-MMF.mlo.0008-02-26-15600.nc:   0%|          | 0.00/1.13M [00:00<?, ?B/s]"
      ]
     },
     "metadata": {},
     "output_type": "display_data"
    },
    {
     "data": {
      "application/vnd.jupyter.widget-view+json": {
       "model_id": "beafc56041914118bb98b588c842e340",
       "version_major": 2,
       "version_minor": 0
      },
      "text/plain": [
       "E3SM-MMF.mlo.0008-02-26-16800.nc:   0%|          | 0.00/1.13M [00:00<?, ?B/s]"
      ]
     },
     "metadata": {},
     "output_type": "display_data"
    },
    {
     "data": {
      "application/vnd.jupyter.widget-view+json": {
       "model_id": "283aaf5979f64dd4aef0643583c10918",
       "version_major": 2,
       "version_minor": 0
      },
      "text/plain": [
       "E3SM-MMF.mlo.0008-02-26-18000.nc:   0%|          | 0.00/1.13M [00:00<?, ?B/s]"
      ]
     },
     "metadata": {},
     "output_type": "display_data"
    },
    {
     "data": {
      "application/vnd.jupyter.widget-view+json": {
       "model_id": "fbb99f3617534ecf85ed7b0646e47917",
       "version_major": 2,
       "version_minor": 0
      },
      "text/plain": [
       "E3SM-MMF.mlo.0008-02-26-19200.nc:   0%|          | 0.00/1.13M [00:00<?, ?B/s]"
      ]
     },
     "metadata": {},
     "output_type": "display_data"
    },
    {
     "data": {
      "application/vnd.jupyter.widget-view+json": {
       "model_id": "b8a3ce4d54284f7d8b627f532218e6eb",
       "version_major": 2,
       "version_minor": 0
      },
      "text/plain": [
       "E3SM-MMF.mlo.0008-02-26-20400.nc:   0%|          | 0.00/1.13M [00:00<?, ?B/s]"
      ]
     },
     "metadata": {},
     "output_type": "display_data"
    },
    {
     "data": {
      "application/vnd.jupyter.widget-view+json": {
       "model_id": "62045594bfbb4c4d8ad55a21266256d7",
       "version_major": 2,
       "version_minor": 0
      },
      "text/plain": [
       "E3SM-MMF.mlo.0008-02-26-21600.nc:   0%|          | 0.00/1.13M [00:00<?, ?B/s]"
      ]
     },
     "metadata": {},
     "output_type": "display_data"
    },
    {
     "data": {
      "application/vnd.jupyter.widget-view+json": {
       "model_id": "0f2496a4f85b4743ae3aa4a3fa439f90",
       "version_major": 2,
       "version_minor": 0
      },
      "text/plain": [
       "E3SM-MMF.mlo.0008-02-26-22800.nc:   0%|          | 0.00/1.13M [00:00<?, ?B/s]"
      ]
     },
     "metadata": {},
     "output_type": "display_data"
    },
    {
     "data": {
      "application/vnd.jupyter.widget-view+json": {
       "model_id": "6d07026b1b2d45979c3c4a9702f0d43b",
       "version_major": 2,
       "version_minor": 0
      },
      "text/plain": [
       "E3SM-MMF.mlo.0008-02-26-24000.nc:   0%|          | 0.00/1.13M [00:00<?, ?B/s]"
      ]
     },
     "metadata": {},
     "output_type": "display_data"
    },
    {
     "data": {
      "application/vnd.jupyter.widget-view+json": {
       "model_id": "45a401cc3e134b9f9488d69b2e43eb48",
       "version_major": 2,
       "version_minor": 0
      },
      "text/plain": [
       "E3SM-MMF.mlo.0008-02-26-25200.nc:   0%|          | 0.00/1.13M [00:00<?, ?B/s]"
      ]
     },
     "metadata": {},
     "output_type": "display_data"
    },
    {
     "data": {
      "application/vnd.jupyter.widget-view+json": {
       "model_id": "ab7f2a8dc01748c08bf9244ef205820b",
       "version_major": 2,
       "version_minor": 0
      },
      "text/plain": [
       "E3SM-MMF.mlo.0008-02-26-26400.nc:   0%|          | 0.00/1.13M [00:00<?, ?B/s]"
      ]
     },
     "metadata": {},
     "output_type": "display_data"
    },
    {
     "data": {
      "application/vnd.jupyter.widget-view+json": {
       "model_id": "8ffee6c306774c419e9d0bc73928b3b2",
       "version_major": 2,
       "version_minor": 0
      },
      "text/plain": [
       "E3SM-MMF.mlo.0008-02-26-27600.nc:   0%|          | 0.00/1.13M [00:00<?, ?B/s]"
      ]
     },
     "metadata": {},
     "output_type": "display_data"
    },
    {
     "data": {
      "application/vnd.jupyter.widget-view+json": {
       "model_id": "93344176ce08484592e67b05307f7f94",
       "version_major": 2,
       "version_minor": 0
      },
      "text/plain": [
       "E3SM-MMF.mlo.0008-02-26-28800.nc:   0%|          | 0.00/1.13M [00:00<?, ?B/s]"
      ]
     },
     "metadata": {},
     "output_type": "display_data"
    },
    {
     "data": {
      "application/vnd.jupyter.widget-view+json": {
       "model_id": "a86d302a46cc4e6fa88b4be840bbb17d",
       "version_major": 2,
       "version_minor": 0
      },
      "text/plain": [
       "E3SM-MMF.mlo.0008-02-26-30000.nc:   0%|          | 0.00/1.13M [00:00<?, ?B/s]"
      ]
     },
     "metadata": {},
     "output_type": "display_data"
    },
    {
     "data": {
      "application/vnd.jupyter.widget-view+json": {
       "model_id": "55198bda38594c9e8ad05b8d21fb9600",
       "version_major": 2,
       "version_minor": 0
      },
      "text/plain": [
       "E3SM-MMF.mlo.0008-02-26-31200.nc:   0%|          | 0.00/1.13M [00:00<?, ?B/s]"
      ]
     },
     "metadata": {},
     "output_type": "display_data"
    },
    {
     "data": {
      "application/vnd.jupyter.widget-view+json": {
       "model_id": "cc7c6f670ef848c3a8cfc9e3a6c67416",
       "version_major": 2,
       "version_minor": 0
      },
      "text/plain": [
       "E3SM-MMF.mlo.0008-02-26-32400.nc:   0%|          | 0.00/1.13M [00:00<?, ?B/s]"
      ]
     },
     "metadata": {},
     "output_type": "display_data"
    },
    {
     "data": {
      "application/vnd.jupyter.widget-view+json": {
       "model_id": "2fbf7c1f7b92451db035e59f65affca5",
       "version_major": 2,
       "version_minor": 0
      },
      "text/plain": [
       "E3SM-MMF.mlo.0008-02-26-33600.nc:   0%|          | 0.00/1.13M [00:00<?, ?B/s]"
      ]
     },
     "metadata": {},
     "output_type": "display_data"
    },
    {
     "data": {
      "application/vnd.jupyter.widget-view+json": {
       "model_id": "ff84b2be9ad94af8bc83705dfe5bf5d5",
       "version_major": 2,
       "version_minor": 0
      },
      "text/plain": [
       "E3SM-MMF.mlo.0008-02-26-34800.nc:   0%|          | 0.00/1.13M [00:00<?, ?B/s]"
      ]
     },
     "metadata": {},
     "output_type": "display_data"
    },
    {
     "data": {
      "application/vnd.jupyter.widget-view+json": {
       "model_id": "7866615583a642bfb0e26e41dc78c300",
       "version_major": 2,
       "version_minor": 0
      },
      "text/plain": [
       "E3SM-MMF.mlo.0008-02-26-36000.nc:   0%|          | 0.00/1.13M [00:00<?, ?B/s]"
      ]
     },
     "metadata": {},
     "output_type": "display_data"
    },
    {
     "data": {
      "application/vnd.jupyter.widget-view+json": {
       "model_id": "12b9e66a392d433e8a377d132d1be2dc",
       "version_major": 2,
       "version_minor": 0
      },
      "text/plain": [
       "E3SM-MMF.mlo.0008-02-26-37200.nc:   0%|          | 0.00/1.13M [00:00<?, ?B/s]"
      ]
     },
     "metadata": {},
     "output_type": "display_data"
    },
    {
     "data": {
      "application/vnd.jupyter.widget-view+json": {
       "model_id": "b160a2a4adf147b1b22ab5d313617335",
       "version_major": 2,
       "version_minor": 0
      },
      "text/plain": [
       "E3SM-MMF.mlo.0008-02-26-38400.nc:   0%|          | 0.00/1.13M [00:00<?, ?B/s]"
      ]
     },
     "metadata": {},
     "output_type": "display_data"
    },
    {
     "data": {
      "application/vnd.jupyter.widget-view+json": {
       "model_id": "d2d36886cc7a424292bac9299a7383fb",
       "version_major": 2,
       "version_minor": 0
      },
      "text/plain": [
       "E3SM-MMF.mlo.0008-02-26-39600.nc:   0%|          | 0.00/1.13M [00:00<?, ?B/s]"
      ]
     },
     "metadata": {},
     "output_type": "display_data"
    },
    {
     "data": {
      "application/vnd.jupyter.widget-view+json": {
       "model_id": "9c6ea96387004dabaac4561ecd26cf71",
       "version_major": 2,
       "version_minor": 0
      },
      "text/plain": [
       "E3SM-MMF.mlo.0008-02-26-40800.nc:   0%|          | 0.00/1.13M [00:00<?, ?B/s]"
      ]
     },
     "metadata": {},
     "output_type": "display_data"
    },
    {
     "data": {
      "application/vnd.jupyter.widget-view+json": {
       "model_id": "88a200acb1d94e3f89b36aa985af3413",
       "version_major": 2,
       "version_minor": 0
      },
      "text/plain": [
       "E3SM-MMF.mlo.0008-02-26-42000.nc:   0%|          | 0.00/1.13M [00:00<?, ?B/s]"
      ]
     },
     "metadata": {},
     "output_type": "display_data"
    },
    {
     "data": {
      "application/vnd.jupyter.widget-view+json": {
       "model_id": "305dfc2c3d5645039cc8046ca1170430",
       "version_major": 2,
       "version_minor": 0
      },
      "text/plain": [
       "E3SM-MMF.mlo.0008-02-26-43200.nc:   0%|          | 0.00/1.13M [00:00<?, ?B/s]"
      ]
     },
     "metadata": {},
     "output_type": "display_data"
    },
    {
     "data": {
      "application/vnd.jupyter.widget-view+json": {
       "model_id": "89263613bc0e443eb72c21bed73c8929",
       "version_major": 2,
       "version_minor": 0
      },
      "text/plain": [
       "E3SM-MMF.mlo.0008-02-26-44400.nc:   0%|          | 0.00/1.13M [00:00<?, ?B/s]"
      ]
     },
     "metadata": {},
     "output_type": "display_data"
    },
    {
     "data": {
      "application/vnd.jupyter.widget-view+json": {
       "model_id": "106f74d12af44a1c94f6c995bee8b299",
       "version_major": 2,
       "version_minor": 0
      },
      "text/plain": [
       "E3SM-MMF.mlo.0008-02-26-45600.nc:   0%|          | 0.00/1.13M [00:00<?, ?B/s]"
      ]
     },
     "metadata": {},
     "output_type": "display_data"
    },
    {
     "data": {
      "application/vnd.jupyter.widget-view+json": {
       "model_id": "ce6d7b7a2f7748de863ce54644540d38",
       "version_major": 2,
       "version_minor": 0
      },
      "text/plain": [
       "E3SM-MMF.mlo.0008-02-26-46800.nc:   0%|          | 0.00/1.13M [00:00<?, ?B/s]"
      ]
     },
     "metadata": {},
     "output_type": "display_data"
    },
    {
     "data": {
      "application/vnd.jupyter.widget-view+json": {
       "model_id": "9c865c9cb1774d59b469d64df0e740c0",
       "version_major": 2,
       "version_minor": 0
      },
      "text/plain": [
       "E3SM-MMF.mlo.0008-02-26-48000.nc:   0%|          | 0.00/1.13M [00:00<?, ?B/s]"
      ]
     },
     "metadata": {},
     "output_type": "display_data"
    },
    {
     "data": {
      "application/vnd.jupyter.widget-view+json": {
       "model_id": "c77e2dd98cbc419bbf15b92d84cf2b87",
       "version_major": 2,
       "version_minor": 0
      },
      "text/plain": [
       "E3SM-MMF.mlo.0008-02-26-49200.nc:   0%|          | 0.00/1.13M [00:00<?, ?B/s]"
      ]
     },
     "metadata": {},
     "output_type": "display_data"
    },
    {
     "data": {
      "application/vnd.jupyter.widget-view+json": {
       "model_id": "7aa1919137c24eadb31f48bec3ff32e8",
       "version_major": 2,
       "version_minor": 0
      },
      "text/plain": [
       "E3SM-MMF.mlo.0008-02-26-50400.nc:   0%|          | 0.00/1.13M [00:00<?, ?B/s]"
      ]
     },
     "metadata": {},
     "output_type": "display_data"
    },
    {
     "data": {
      "application/vnd.jupyter.widget-view+json": {
       "model_id": "8b4f6be81b2647bca66e51ca14609f40",
       "version_major": 2,
       "version_minor": 0
      },
      "text/plain": [
       "E3SM-MMF.mlo.0008-02-26-51600.nc:   0%|          | 0.00/1.13M [00:00<?, ?B/s]"
      ]
     },
     "metadata": {},
     "output_type": "display_data"
    },
    {
     "data": {
      "application/vnd.jupyter.widget-view+json": {
       "model_id": "b872d0d6992b41aa803731d3f9f103b2",
       "version_major": 2,
       "version_minor": 0
      },
      "text/plain": [
       "E3SM-MMF.mlo.0008-02-26-52800.nc:   0%|          | 0.00/1.13M [00:00<?, ?B/s]"
      ]
     },
     "metadata": {},
     "output_type": "display_data"
    },
    {
     "data": {
      "application/vnd.jupyter.widget-view+json": {
       "model_id": "1bdfdbb668564b9b921e557069e14940",
       "version_major": 2,
       "version_minor": 0
      },
      "text/plain": [
       "E3SM-MMF.mlo.0008-02-26-54000.nc:   0%|          | 0.00/1.13M [00:00<?, ?B/s]"
      ]
     },
     "metadata": {},
     "output_type": "display_data"
    },
    {
     "data": {
      "application/vnd.jupyter.widget-view+json": {
       "model_id": "13826fb0e067460c809a6025a8bb0448",
       "version_major": 2,
       "version_minor": 0
      },
      "text/plain": [
       "E3SM-MMF.mlo.0008-02-26-55200.nc:   0%|          | 0.00/1.13M [00:00<?, ?B/s]"
      ]
     },
     "metadata": {},
     "output_type": "display_data"
    },
    {
     "data": {
      "application/vnd.jupyter.widget-view+json": {
       "model_id": "6ab890a65f9840da967398eaaba642b9",
       "version_major": 2,
       "version_minor": 0
      },
      "text/plain": [
       "E3SM-MMF.mlo.0008-02-26-56400.nc:   0%|          | 0.00/1.13M [00:00<?, ?B/s]"
      ]
     },
     "metadata": {},
     "output_type": "display_data"
    },
    {
     "data": {
      "application/vnd.jupyter.widget-view+json": {
       "model_id": "445f99735ee94e10a01c445a33c75377",
       "version_major": 2,
       "version_minor": 0
      },
      "text/plain": [
       "E3SM-MMF.mlo.0008-02-26-57600.nc:   0%|          | 0.00/1.13M [00:00<?, ?B/s]"
      ]
     },
     "metadata": {},
     "output_type": "display_data"
    },
    {
     "data": {
      "application/vnd.jupyter.widget-view+json": {
       "model_id": "7edf7a95b810400192f0d87404bedcd8",
       "version_major": 2,
       "version_minor": 0
      },
      "text/plain": [
       "E3SM-MMF.mlo.0008-02-26-58800.nc:   0%|          | 0.00/1.13M [00:00<?, ?B/s]"
      ]
     },
     "metadata": {},
     "output_type": "display_data"
    },
    {
     "data": {
      "application/vnd.jupyter.widget-view+json": {
       "model_id": "e54fdbd5f371442a88fc5b44ea080c4b",
       "version_major": 2,
       "version_minor": 0
      },
      "text/plain": [
       "E3SM-MMF.mlo.0008-02-26-60000.nc:   0%|          | 0.00/1.13M [00:00<?, ?B/s]"
      ]
     },
     "metadata": {},
     "output_type": "display_data"
    },
    {
     "data": {
      "application/vnd.jupyter.widget-view+json": {
       "model_id": "94ed10d98fd14b9ab1d1ff5fa33abd84",
       "version_major": 2,
       "version_minor": 0
      },
      "text/plain": [
       "E3SM-MMF.mlo.0008-02-26-61200.nc:   0%|          | 0.00/1.13M [00:00<?, ?B/s]"
      ]
     },
     "metadata": {},
     "output_type": "display_data"
    },
    {
     "data": {
      "application/vnd.jupyter.widget-view+json": {
       "model_id": "f42d076cfa6846558f20f93dc41a1c35",
       "version_major": 2,
       "version_minor": 0
      },
      "text/plain": [
       "E3SM-MMF.mlo.0008-02-26-62400.nc:   0%|          | 0.00/1.13M [00:00<?, ?B/s]"
      ]
     },
     "metadata": {},
     "output_type": "display_data"
    },
    {
     "data": {
      "application/vnd.jupyter.widget-view+json": {
       "model_id": "607b403e5a1840bd9f68fd466fae6789",
       "version_major": 2,
       "version_minor": 0
      },
      "text/plain": [
       "E3SM-MMF.mlo.0008-02-26-63600.nc:   0%|          | 0.00/1.13M [00:00<?, ?B/s]"
      ]
     },
     "metadata": {},
     "output_type": "display_data"
    },
    {
     "data": {
      "application/vnd.jupyter.widget-view+json": {
       "model_id": "ec82e0d605d14c4c906bb935fe5a3bb3",
       "version_major": 2,
       "version_minor": 0
      },
      "text/plain": [
       "E3SM-MMF.mlo.0008-02-26-64800.nc:   0%|          | 0.00/1.13M [00:00<?, ?B/s]"
      ]
     },
     "metadata": {},
     "output_type": "display_data"
    },
    {
     "data": {
      "application/vnd.jupyter.widget-view+json": {
       "model_id": "f0dfd9809bac4d62b83f693c50d7664f",
       "version_major": 2,
       "version_minor": 0
      },
      "text/plain": [
       "E3SM-MMF.mlo.0008-02-26-66000.nc:   0%|          | 0.00/1.13M [00:00<?, ?B/s]"
      ]
     },
     "metadata": {},
     "output_type": "display_data"
    },
    {
     "data": {
      "application/vnd.jupyter.widget-view+json": {
       "model_id": "048d710439204a2a91d940052d4d9d6a",
       "version_major": 2,
       "version_minor": 0
      },
      "text/plain": [
       "E3SM-MMF.mlo.0008-02-26-67200.nc:   0%|          | 0.00/1.13M [00:00<?, ?B/s]"
      ]
     },
     "metadata": {},
     "output_type": "display_data"
    },
    {
     "data": {
      "application/vnd.jupyter.widget-view+json": {
       "model_id": "c2b624c0e6af48b8a289f93639b652c6",
       "version_major": 2,
       "version_minor": 0
      },
      "text/plain": [
       "E3SM-MMF.mlo.0008-02-26-68400.nc:   0%|          | 0.00/1.13M [00:00<?, ?B/s]"
      ]
     },
     "metadata": {},
     "output_type": "display_data"
    },
    {
     "data": {
      "application/vnd.jupyter.widget-view+json": {
       "model_id": "3e523939fbe245e9b8cb6a78cc734104",
       "version_major": 2,
       "version_minor": 0
      },
      "text/plain": [
       "E3SM-MMF.mlo.0008-02-26-69600.nc:   0%|          | 0.00/1.13M [00:00<?, ?B/s]"
      ]
     },
     "metadata": {},
     "output_type": "display_data"
    },
    {
     "data": {
      "application/vnd.jupyter.widget-view+json": {
       "model_id": "8b4b4764648349ddbed795f1b6ade32e",
       "version_major": 2,
       "version_minor": 0
      },
      "text/plain": [
       "E3SM-MMF.mlo.0008-02-26-70800.nc:   0%|          | 0.00/1.13M [00:00<?, ?B/s]"
      ]
     },
     "metadata": {},
     "output_type": "display_data"
    },
    {
     "data": {
      "application/vnd.jupyter.widget-view+json": {
       "model_id": "28d9f8b495d0419fa61da9d33f288ce1",
       "version_major": 2,
       "version_minor": 0
      },
      "text/plain": [
       "E3SM-MMF.mlo.0008-02-26-72000.nc:   0%|          | 0.00/1.13M [00:00<?, ?B/s]"
      ]
     },
     "metadata": {},
     "output_type": "display_data"
    },
    {
     "data": {
      "application/vnd.jupyter.widget-view+json": {
       "model_id": "ed240fba58834ad2a3067416f80392f0",
       "version_major": 2,
       "version_minor": 0
      },
      "text/plain": [
       "E3SM-MMF.mlo.0008-02-26-73200.nc:   0%|          | 0.00/1.13M [00:00<?, ?B/s]"
      ]
     },
     "metadata": {},
     "output_type": "display_data"
    },
    {
     "data": {
      "application/vnd.jupyter.widget-view+json": {
       "model_id": "dadf54bd841a4a978526d3e5a8a9b508",
       "version_major": 2,
       "version_minor": 0
      },
      "text/plain": [
       "E3SM-MMF.mlo.0008-02-26-74400.nc:   0%|          | 0.00/1.13M [00:00<?, ?B/s]"
      ]
     },
     "metadata": {},
     "output_type": "display_data"
    },
    {
     "data": {
      "application/vnd.jupyter.widget-view+json": {
       "model_id": "50dca074450b488a8d96208a22478814",
       "version_major": 2,
       "version_minor": 0
      },
      "text/plain": [
       "E3SM-MMF.mlo.0008-02-26-75600.nc:   0%|          | 0.00/1.13M [00:00<?, ?B/s]"
      ]
     },
     "metadata": {},
     "output_type": "display_data"
    },
    {
     "data": {
      "application/vnd.jupyter.widget-view+json": {
       "model_id": "41007e4fe9144f1eac98e29f4c30d56b",
       "version_major": 2,
       "version_minor": 0
      },
      "text/plain": [
       "E3SM-MMF.mlo.0008-02-26-76800.nc:   0%|          | 0.00/1.13M [00:00<?, ?B/s]"
      ]
     },
     "metadata": {},
     "output_type": "display_data"
    },
    {
     "data": {
      "application/vnd.jupyter.widget-view+json": {
       "model_id": "715fb11aa8444a188f2c010499510070",
       "version_major": 2,
       "version_minor": 0
      },
      "text/plain": [
       "E3SM-MMF.mlo.0008-02-26-78000.nc:   0%|          | 0.00/1.13M [00:00<?, ?B/s]"
      ]
     },
     "metadata": {},
     "output_type": "display_data"
    },
    {
     "data": {
      "application/vnd.jupyter.widget-view+json": {
       "model_id": "b57a9ed4d8f74307a290756fbafc7ff6",
       "version_major": 2,
       "version_minor": 0
      },
      "text/plain": [
       "E3SM-MMF.mlo.0008-02-26-79200.nc:   0%|          | 0.00/1.13M [00:00<?, ?B/s]"
      ]
     },
     "metadata": {},
     "output_type": "display_data"
    },
    {
     "data": {
      "application/vnd.jupyter.widget-view+json": {
       "model_id": "f7647c8fb9fd43fc85546e1df34d12fe",
       "version_major": 2,
       "version_minor": 0
      },
      "text/plain": [
       "E3SM-MMF.mlo.0008-02-26-80400.nc:   0%|          | 0.00/1.13M [00:00<?, ?B/s]"
      ]
     },
     "metadata": {},
     "output_type": "display_data"
    },
    {
     "data": {
      "application/vnd.jupyter.widget-view+json": {
       "model_id": "23977fb446144c56b375022bc0369c01",
       "version_major": 2,
       "version_minor": 0
      },
      "text/plain": [
       "E3SM-MMF.mlo.0008-02-26-81600.nc:   0%|          | 0.00/1.13M [00:00<?, ?B/s]"
      ]
     },
     "metadata": {},
     "output_type": "display_data"
    },
    {
     "data": {
      "application/vnd.jupyter.widget-view+json": {
       "model_id": "eb8cbf4a9bf34c77b18fd9c1206d9582",
       "version_major": 2,
       "version_minor": 0
      },
      "text/plain": [
       "E3SM-MMF.mlo.0008-02-26-82800.nc:   0%|          | 0.00/1.13M [00:00<?, ?B/s]"
      ]
     },
     "metadata": {},
     "output_type": "display_data"
    },
    {
     "data": {
      "application/vnd.jupyter.widget-view+json": {
       "model_id": "927a95fec698448aac539996c0511601",
       "version_major": 2,
       "version_minor": 0
      },
      "text/plain": [
       "E3SM-MMF.mlo.0008-02-26-84000.nc:   0%|          | 0.00/1.13M [00:00<?, ?B/s]"
      ]
     },
     "metadata": {},
     "output_type": "display_data"
    },
    {
     "data": {
      "application/vnd.jupyter.widget-view+json": {
       "model_id": "4a825450fffe4e5e94fa767da94234eb",
       "version_major": 2,
       "version_minor": 0
      },
      "text/plain": [
       "E3SM-MMF.mlo.0008-02-26-85200.nc:   0%|          | 0.00/1.13M [00:00<?, ?B/s]"
      ]
     },
     "metadata": {},
     "output_type": "display_data"
    },
    {
     "data": {
      "application/vnd.jupyter.widget-view+json": {
       "model_id": "b6b8425a58f745aca9d73da19c4792c1",
       "version_major": 2,
       "version_minor": 0
      },
      "text/plain": [
       "E3SM-MMF.mlo.0008-02-27-00000.nc:   0%|          | 0.00/1.13M [00:00<?, ?B/s]"
      ]
     },
     "metadata": {},
     "output_type": "display_data"
    },
    {
     "data": {
      "application/vnd.jupyter.widget-view+json": {
       "model_id": "d3c24c43cd6f4e0b9d9af2d6f540df51",
       "version_major": 2,
       "version_minor": 0
      },
      "text/plain": [
       "E3SM-MMF.mlo.0008-02-27-01200.nc:   0%|          | 0.00/1.13M [00:00<?, ?B/s]"
      ]
     },
     "metadata": {},
     "output_type": "display_data"
    },
    {
     "data": {
      "application/vnd.jupyter.widget-view+json": {
       "model_id": "830ebdfb599a4c5abff5f5672ebdadd4",
       "version_major": 2,
       "version_minor": 0
      },
      "text/plain": [
       "E3SM-MMF.mlo.0008-02-27-02400.nc:   0%|          | 0.00/1.13M [00:00<?, ?B/s]"
      ]
     },
     "metadata": {},
     "output_type": "display_data"
    },
    {
     "data": {
      "application/vnd.jupyter.widget-view+json": {
       "model_id": "b969fe6eefd84887a35f0ed7649c5f44",
       "version_major": 2,
       "version_minor": 0
      },
      "text/plain": [
       "E3SM-MMF.mlo.0008-02-27-03600.nc:   0%|          | 0.00/1.13M [00:00<?, ?B/s]"
      ]
     },
     "metadata": {},
     "output_type": "display_data"
    },
    {
     "data": {
      "application/vnd.jupyter.widget-view+json": {
       "model_id": "967826c7e9444ee6ac73640d927048ae",
       "version_major": 2,
       "version_minor": 0
      },
      "text/plain": [
       "E3SM-MMF.mlo.0008-02-27-04800.nc:   0%|          | 0.00/1.13M [00:00<?, ?B/s]"
      ]
     },
     "metadata": {},
     "output_type": "display_data"
    },
    {
     "data": {
      "application/vnd.jupyter.widget-view+json": {
       "model_id": "e645a34d510448ff9089aa5379c1cd5a",
       "version_major": 2,
       "version_minor": 0
      },
      "text/plain": [
       "E3SM-MMF.mlo.0008-02-27-06000.nc:   0%|          | 0.00/1.13M [00:00<?, ?B/s]"
      ]
     },
     "metadata": {},
     "output_type": "display_data"
    },
    {
     "data": {
      "application/vnd.jupyter.widget-view+json": {
       "model_id": "d45fba143bdc4f3d936ed9dd145452c4",
       "version_major": 2,
       "version_minor": 0
      },
      "text/plain": [
       "E3SM-MMF.mlo.0008-02-27-07200.nc:   0%|          | 0.00/1.13M [00:00<?, ?B/s]"
      ]
     },
     "metadata": {},
     "output_type": "display_data"
    },
    {
     "data": {
      "application/vnd.jupyter.widget-view+json": {
       "model_id": "27ca5a9cc49e40399f6e99dd9ba2f462",
       "version_major": 2,
       "version_minor": 0
      },
      "text/plain": [
       "E3SM-MMF.mlo.0008-02-27-08400.nc:   0%|          | 0.00/1.13M [00:00<?, ?B/s]"
      ]
     },
     "metadata": {},
     "output_type": "display_data"
    },
    {
     "data": {
      "application/vnd.jupyter.widget-view+json": {
       "model_id": "f4bcb67f67bf4a23844a99d3853df7f3",
       "version_major": 2,
       "version_minor": 0
      },
      "text/plain": [
       "E3SM-MMF.mlo.0008-02-27-09600.nc:   0%|          | 0.00/1.13M [00:00<?, ?B/s]"
      ]
     },
     "metadata": {},
     "output_type": "display_data"
    },
    {
     "data": {
      "application/vnd.jupyter.widget-view+json": {
       "model_id": "590f3b27f2dc43d69c9d32a5190395ab",
       "version_major": 2,
       "version_minor": 0
      },
      "text/plain": [
       "E3SM-MMF.mlo.0008-02-27-10800.nc:   0%|          | 0.00/1.13M [00:00<?, ?B/s]"
      ]
     },
     "metadata": {},
     "output_type": "display_data"
    },
    {
     "data": {
      "application/vnd.jupyter.widget-view+json": {
       "model_id": "01ed44f3f05246b2a448e1971dc8c7d3",
       "version_major": 2,
       "version_minor": 0
      },
      "text/plain": [
       "E3SM-MMF.mlo.0008-02-27-12000.nc:   0%|          | 0.00/1.13M [00:00<?, ?B/s]"
      ]
     },
     "metadata": {},
     "output_type": "display_data"
    },
    {
     "data": {
      "application/vnd.jupyter.widget-view+json": {
       "model_id": "f0aa31abaa6549828197d5011bfdc8cf",
       "version_major": 2,
       "version_minor": 0
      },
      "text/plain": [
       "E3SM-MMF.mlo.0008-02-27-13200.nc:   0%|          | 0.00/1.13M [00:00<?, ?B/s]"
      ]
     },
     "metadata": {},
     "output_type": "display_data"
    },
    {
     "data": {
      "application/vnd.jupyter.widget-view+json": {
       "model_id": "fb549844d16840aab48531fa6fddc02b",
       "version_major": 2,
       "version_minor": 0
      },
      "text/plain": [
       "E3SM-MMF.mlo.0008-02-27-14400.nc:   0%|          | 0.00/1.13M [00:00<?, ?B/s]"
      ]
     },
     "metadata": {},
     "output_type": "display_data"
    },
    {
     "data": {
      "application/vnd.jupyter.widget-view+json": {
       "model_id": "6c5a0de6527d40fa99435f3f811db188",
       "version_major": 2,
       "version_minor": 0
      },
      "text/plain": [
       "E3SM-MMF.mlo.0008-02-27-15600.nc:   0%|          | 0.00/1.13M [00:00<?, ?B/s]"
      ]
     },
     "metadata": {},
     "output_type": "display_data"
    },
    {
     "data": {
      "application/vnd.jupyter.widget-view+json": {
       "model_id": "4961073a72334ee9981aeb2c5c5daa4e",
       "version_major": 2,
       "version_minor": 0
      },
      "text/plain": [
       "E3SM-MMF.mlo.0008-02-27-16800.nc:   0%|          | 0.00/1.13M [00:00<?, ?B/s]"
      ]
     },
     "metadata": {},
     "output_type": "display_data"
    },
    {
     "data": {
      "application/vnd.jupyter.widget-view+json": {
       "model_id": "d58339622cd74ba7a4e577fca2a12e14",
       "version_major": 2,
       "version_minor": 0
      },
      "text/plain": [
       "E3SM-MMF.mlo.0008-02-27-18000.nc:   0%|          | 0.00/1.13M [00:00<?, ?B/s]"
      ]
     },
     "metadata": {},
     "output_type": "display_data"
    },
    {
     "data": {
      "application/vnd.jupyter.widget-view+json": {
       "model_id": "2aaf6103cfad46869e0015cd5205b3d0",
       "version_major": 2,
       "version_minor": 0
      },
      "text/plain": [
       "E3SM-MMF.mlo.0008-02-27-19200.nc:   0%|          | 0.00/1.13M [00:00<?, ?B/s]"
      ]
     },
     "metadata": {},
     "output_type": "display_data"
    },
    {
     "data": {
      "application/vnd.jupyter.widget-view+json": {
       "model_id": "c454a6618a074cd6a997e0d51dc2f3fb",
       "version_major": 2,
       "version_minor": 0
      },
      "text/plain": [
       "E3SM-MMF.mlo.0008-02-27-20400.nc:   0%|          | 0.00/1.13M [00:00<?, ?B/s]"
      ]
     },
     "metadata": {},
     "output_type": "display_data"
    },
    {
     "data": {
      "application/vnd.jupyter.widget-view+json": {
       "model_id": "23909d06fea746db877bdf4f76a0bd22",
       "version_major": 2,
       "version_minor": 0
      },
      "text/plain": [
       "E3SM-MMF.mlo.0008-02-27-21600.nc:   0%|          | 0.00/1.13M [00:00<?, ?B/s]"
      ]
     },
     "metadata": {},
     "output_type": "display_data"
    },
    {
     "data": {
      "application/vnd.jupyter.widget-view+json": {
       "model_id": "fbf3f0f59d164d8d82f9d2f72fe17a8b",
       "version_major": 2,
       "version_minor": 0
      },
      "text/plain": [
       "E3SM-MMF.mlo.0008-02-27-22800.nc:   0%|          | 0.00/1.13M [00:00<?, ?B/s]"
      ]
     },
     "metadata": {},
     "output_type": "display_data"
    },
    {
     "data": {
      "application/vnd.jupyter.widget-view+json": {
       "model_id": "b122fef87e64427c9d998da44739cf62",
       "version_major": 2,
       "version_minor": 0
      },
      "text/plain": [
       "E3SM-MMF.mlo.0008-02-27-24000.nc:   0%|          | 0.00/1.13M [00:00<?, ?B/s]"
      ]
     },
     "metadata": {},
     "output_type": "display_data"
    },
    {
     "data": {
      "application/vnd.jupyter.widget-view+json": {
       "model_id": "8c2941880eb54ee4ba88b654dc07ce6d",
       "version_major": 2,
       "version_minor": 0
      },
      "text/plain": [
       "E3SM-MMF.mlo.0008-02-27-25200.nc:   0%|          | 0.00/1.13M [00:00<?, ?B/s]"
      ]
     },
     "metadata": {},
     "output_type": "display_data"
    },
    {
     "data": {
      "application/vnd.jupyter.widget-view+json": {
       "model_id": "36c54c4f7bd74187969d4761427b9368",
       "version_major": 2,
       "version_minor": 0
      },
      "text/plain": [
       "E3SM-MMF.mlo.0008-02-27-26400.nc:   0%|          | 0.00/1.13M [00:00<?, ?B/s]"
      ]
     },
     "metadata": {},
     "output_type": "display_data"
    },
    {
     "data": {
      "application/vnd.jupyter.widget-view+json": {
       "model_id": "eb185fee3c06450b83ecf2f12f1f14b2",
       "version_major": 2,
       "version_minor": 0
      },
      "text/plain": [
       "E3SM-MMF.mlo.0008-02-27-27600.nc:   0%|          | 0.00/1.13M [00:00<?, ?B/s]"
      ]
     },
     "metadata": {},
     "output_type": "display_data"
    },
    {
     "data": {
      "application/vnd.jupyter.widget-view+json": {
       "model_id": "d6f05667bafb4eeabc16be9a02ff5576",
       "version_major": 2,
       "version_minor": 0
      },
      "text/plain": [
       "E3SM-MMF.mlo.0008-02-27-28800.nc:   0%|          | 0.00/1.13M [00:00<?, ?B/s]"
      ]
     },
     "metadata": {},
     "output_type": "display_data"
    },
    {
     "data": {
      "application/vnd.jupyter.widget-view+json": {
       "model_id": "74bd6be5223a463b95dcd84fd00ddc71",
       "version_major": 2,
       "version_minor": 0
      },
      "text/plain": [
       "E3SM-MMF.mlo.0008-02-27-30000.nc:   0%|          | 0.00/1.13M [00:00<?, ?B/s]"
      ]
     },
     "metadata": {},
     "output_type": "display_data"
    },
    {
     "data": {
      "application/vnd.jupyter.widget-view+json": {
       "model_id": "bdab21babba14d07a1bf55cf330e194f",
       "version_major": 2,
       "version_minor": 0
      },
      "text/plain": [
       "E3SM-MMF.mlo.0008-02-27-31200.nc:   0%|          | 0.00/1.13M [00:00<?, ?B/s]"
      ]
     },
     "metadata": {},
     "output_type": "display_data"
    },
    {
     "data": {
      "application/vnd.jupyter.widget-view+json": {
       "model_id": "c9019986cb014478bd7d98226f648736",
       "version_major": 2,
       "version_minor": 0
      },
      "text/plain": [
       "E3SM-MMF.mlo.0008-02-27-32400.nc:   0%|          | 0.00/1.13M [00:00<?, ?B/s]"
      ]
     },
     "metadata": {},
     "output_type": "display_data"
    },
    {
     "data": {
      "application/vnd.jupyter.widget-view+json": {
       "model_id": "794ab2a5da53429cb2583c7ec092cdf7",
       "version_major": 2,
       "version_minor": 0
      },
      "text/plain": [
       "E3SM-MMF.mlo.0008-02-27-33600.nc:   0%|          | 0.00/1.13M [00:00<?, ?B/s]"
      ]
     },
     "metadata": {},
     "output_type": "display_data"
    },
    {
     "data": {
      "application/vnd.jupyter.widget-view+json": {
       "model_id": "a1573b5288594be09ab6c15ce07b8a1f",
       "version_major": 2,
       "version_minor": 0
      },
      "text/plain": [
       "E3SM-MMF.mlo.0008-02-27-34800.nc:   0%|          | 0.00/1.13M [00:00<?, ?B/s]"
      ]
     },
     "metadata": {},
     "output_type": "display_data"
    },
    {
     "data": {
      "application/vnd.jupyter.widget-view+json": {
       "model_id": "d0d90c235d9e4941ae4c0dbfdc5bd059",
       "version_major": 2,
       "version_minor": 0
      },
      "text/plain": [
       "E3SM-MMF.mlo.0008-02-27-36000.nc:   0%|          | 0.00/1.13M [00:00<?, ?B/s]"
      ]
     },
     "metadata": {},
     "output_type": "display_data"
    },
    {
     "data": {
      "application/vnd.jupyter.widget-view+json": {
       "model_id": "65c85dd7b27747c2a415f75bfba87392",
       "version_major": 2,
       "version_minor": 0
      },
      "text/plain": [
       "E3SM-MMF.mlo.0008-02-27-37200.nc:   0%|          | 0.00/1.13M [00:00<?, ?B/s]"
      ]
     },
     "metadata": {},
     "output_type": "display_data"
    },
    {
     "data": {
      "application/vnd.jupyter.widget-view+json": {
       "model_id": "eaecce2260f840c49ecd135dd3884513",
       "version_major": 2,
       "version_minor": 0
      },
      "text/plain": [
       "E3SM-MMF.mlo.0008-02-27-38400.nc:   0%|          | 0.00/1.13M [00:00<?, ?B/s]"
      ]
     },
     "metadata": {},
     "output_type": "display_data"
    },
    {
     "data": {
      "application/vnd.jupyter.widget-view+json": {
       "model_id": "32031b83abcb4a93982f02777978fd53",
       "version_major": 2,
       "version_minor": 0
      },
      "text/plain": [
       "E3SM-MMF.mlo.0008-02-27-39600.nc:   0%|          | 0.00/1.13M [00:00<?, ?B/s]"
      ]
     },
     "metadata": {},
     "output_type": "display_data"
    },
    {
     "data": {
      "application/vnd.jupyter.widget-view+json": {
       "model_id": "df92dee6aee74efe854a69424b66054f",
       "version_major": 2,
       "version_minor": 0
      },
      "text/plain": [
       "E3SM-MMF.mlo.0008-02-27-40800.nc:   0%|          | 0.00/1.13M [00:00<?, ?B/s]"
      ]
     },
     "metadata": {},
     "output_type": "display_data"
    },
    {
     "data": {
      "application/vnd.jupyter.widget-view+json": {
       "model_id": "73bf34a0850a4ca2a715a069d33a26b1",
       "version_major": 2,
       "version_minor": 0
      },
      "text/plain": [
       "E3SM-MMF.mlo.0008-02-27-42000.nc:   0%|          | 0.00/1.13M [00:00<?, ?B/s]"
      ]
     },
     "metadata": {},
     "output_type": "display_data"
    },
    {
     "data": {
      "application/vnd.jupyter.widget-view+json": {
       "model_id": "1ab14662235d49a5a49f06d66c5f3585",
       "version_major": 2,
       "version_minor": 0
      },
      "text/plain": [
       "E3SM-MMF.mlo.0008-02-27-43200.nc:   0%|          | 0.00/1.13M [00:00<?, ?B/s]"
      ]
     },
     "metadata": {},
     "output_type": "display_data"
    },
    {
     "data": {
      "application/vnd.jupyter.widget-view+json": {
       "model_id": "44ac859e52794348b228c019e3b84e48",
       "version_major": 2,
       "version_minor": 0
      },
      "text/plain": [
       "E3SM-MMF.mlo.0008-02-27-44400.nc:   0%|          | 0.00/1.13M [00:00<?, ?B/s]"
      ]
     },
     "metadata": {},
     "output_type": "display_data"
    },
    {
     "data": {
      "application/vnd.jupyter.widget-view+json": {
       "model_id": "f4185c97efdb44f49e9bb4150dcc6574",
       "version_major": 2,
       "version_minor": 0
      },
      "text/plain": [
       "E3SM-MMF.mlo.0008-02-27-45600.nc:   0%|          | 0.00/1.13M [00:00<?, ?B/s]"
      ]
     },
     "metadata": {},
     "output_type": "display_data"
    },
    {
     "data": {
      "application/vnd.jupyter.widget-view+json": {
       "model_id": "a7717cb9c86243eeb6b9e45dde7f9899",
       "version_major": 2,
       "version_minor": 0
      },
      "text/plain": [
       "E3SM-MMF.mlo.0008-02-27-46800.nc:   0%|          | 0.00/1.13M [00:00<?, ?B/s]"
      ]
     },
     "metadata": {},
     "output_type": "display_data"
    },
    {
     "data": {
      "application/vnd.jupyter.widget-view+json": {
       "model_id": "8ab905a66ff44cbc8824f66307c2fcf8",
       "version_major": 2,
       "version_minor": 0
      },
      "text/plain": [
       "E3SM-MMF.mlo.0008-02-27-48000.nc:   0%|          | 0.00/1.13M [00:00<?, ?B/s]"
      ]
     },
     "metadata": {},
     "output_type": "display_data"
    },
    {
     "data": {
      "application/vnd.jupyter.widget-view+json": {
       "model_id": "af4378fd000f431fb99ddbf1ebe01796",
       "version_major": 2,
       "version_minor": 0
      },
      "text/plain": [
       "E3SM-MMF.mlo.0008-02-27-49200.nc:   0%|          | 0.00/1.13M [00:00<?, ?B/s]"
      ]
     },
     "metadata": {},
     "output_type": "display_data"
    },
    {
     "data": {
      "application/vnd.jupyter.widget-view+json": {
       "model_id": "f2b2da69e18246cba507787a8507a25f",
       "version_major": 2,
       "version_minor": 0
      },
      "text/plain": [
       "E3SM-MMF.mlo.0008-02-27-50400.nc:   0%|          | 0.00/1.13M [00:00<?, ?B/s]"
      ]
     },
     "metadata": {},
     "output_type": "display_data"
    },
    {
     "data": {
      "application/vnd.jupyter.widget-view+json": {
       "model_id": "03dd82b2189d429ab2a7859568067468",
       "version_major": 2,
       "version_minor": 0
      },
      "text/plain": [
       "E3SM-MMF.mlo.0008-02-27-51600.nc:   0%|          | 0.00/1.13M [00:00<?, ?B/s]"
      ]
     },
     "metadata": {},
     "output_type": "display_data"
    },
    {
     "data": {
      "application/vnd.jupyter.widget-view+json": {
       "model_id": "b4a2aeda3a124d608fd68baadd769b46",
       "version_major": 2,
       "version_minor": 0
      },
      "text/plain": [
       "E3SM-MMF.mlo.0008-02-27-52800.nc:   0%|          | 0.00/1.13M [00:00<?, ?B/s]"
      ]
     },
     "metadata": {},
     "output_type": "display_data"
    },
    {
     "data": {
      "application/vnd.jupyter.widget-view+json": {
       "model_id": "c3d06227188346118142141dd37872f0",
       "version_major": 2,
       "version_minor": 0
      },
      "text/plain": [
       "E3SM-MMF.mlo.0008-02-27-54000.nc:   0%|          | 0.00/1.13M [00:00<?, ?B/s]"
      ]
     },
     "metadata": {},
     "output_type": "display_data"
    },
    {
     "data": {
      "application/vnd.jupyter.widget-view+json": {
       "model_id": "3cbac5a11a544f5e87d1379f9263db82",
       "version_major": 2,
       "version_minor": 0
      },
      "text/plain": [
       "E3SM-MMF.mlo.0008-02-27-55200.nc:   0%|          | 0.00/1.13M [00:00<?, ?B/s]"
      ]
     },
     "metadata": {},
     "output_type": "display_data"
    },
    {
     "data": {
      "application/vnd.jupyter.widget-view+json": {
       "model_id": "a670e8c20d80404c820aa50d994e154f",
       "version_major": 2,
       "version_minor": 0
      },
      "text/plain": [
       "E3SM-MMF.mlo.0008-02-27-56400.nc:   0%|          | 0.00/1.13M [00:00<?, ?B/s]"
      ]
     },
     "metadata": {},
     "output_type": "display_data"
    },
    {
     "data": {
      "application/vnd.jupyter.widget-view+json": {
       "model_id": "09b016c6a6f64dd7b7bd40d26c6abff6",
       "version_major": 2,
       "version_minor": 0
      },
      "text/plain": [
       "E3SM-MMF.mlo.0008-02-27-57600.nc:   0%|          | 0.00/1.13M [00:00<?, ?B/s]"
      ]
     },
     "metadata": {},
     "output_type": "display_data"
    },
    {
     "data": {
      "application/vnd.jupyter.widget-view+json": {
       "model_id": "e6a11fcc66ff43a69d6d75c143fd7250",
       "version_major": 2,
       "version_minor": 0
      },
      "text/plain": [
       "E3SM-MMF.mlo.0008-02-27-58800.nc:   0%|          | 0.00/1.13M [00:00<?, ?B/s]"
      ]
     },
     "metadata": {},
     "output_type": "display_data"
    },
    {
     "data": {
      "application/vnd.jupyter.widget-view+json": {
       "model_id": "fb5e1db2846e4f1aa7f62a6d2e054d85",
       "version_major": 2,
       "version_minor": 0
      },
      "text/plain": [
       "E3SM-MMF.mlo.0008-02-27-60000.nc:   0%|          | 0.00/1.13M [00:00<?, ?B/s]"
      ]
     },
     "metadata": {},
     "output_type": "display_data"
    },
    {
     "data": {
      "application/vnd.jupyter.widget-view+json": {
       "model_id": "96029cbad64c42ae8fa54662fb496e4e",
       "version_major": 2,
       "version_minor": 0
      },
      "text/plain": [
       "E3SM-MMF.mlo.0008-02-27-61200.nc:   0%|          | 0.00/1.13M [00:00<?, ?B/s]"
      ]
     },
     "metadata": {},
     "output_type": "display_data"
    },
    {
     "data": {
      "application/vnd.jupyter.widget-view+json": {
       "model_id": "f1c8d899050d416681484cd10cd23ae4",
       "version_major": 2,
       "version_minor": 0
      },
      "text/plain": [
       "E3SM-MMF.mlo.0008-02-27-62400.nc:   0%|          | 0.00/1.13M [00:00<?, ?B/s]"
      ]
     },
     "metadata": {},
     "output_type": "display_data"
    },
    {
     "data": {
      "application/vnd.jupyter.widget-view+json": {
       "model_id": "494be751381a40a4b07406f09af73518",
       "version_major": 2,
       "version_minor": 0
      },
      "text/plain": [
       "E3SM-MMF.mlo.0008-02-27-63600.nc:   0%|          | 0.00/1.13M [00:00<?, ?B/s]"
      ]
     },
     "metadata": {},
     "output_type": "display_data"
    },
    {
     "data": {
      "application/vnd.jupyter.widget-view+json": {
       "model_id": "e4430f0d39364abca1035ccfe0bee884",
       "version_major": 2,
       "version_minor": 0
      },
      "text/plain": [
       "E3SM-MMF.mlo.0008-02-27-64800.nc:   0%|          | 0.00/1.13M [00:00<?, ?B/s]"
      ]
     },
     "metadata": {},
     "output_type": "display_data"
    },
    {
     "data": {
      "application/vnd.jupyter.widget-view+json": {
       "model_id": "b87ab2d8a8a540ec928de389a062ea86",
       "version_major": 2,
       "version_minor": 0
      },
      "text/plain": [
       "E3SM-MMF.mlo.0008-02-27-66000.nc:   0%|          | 0.00/1.13M [00:00<?, ?B/s]"
      ]
     },
     "metadata": {},
     "output_type": "display_data"
    },
    {
     "data": {
      "application/vnd.jupyter.widget-view+json": {
       "model_id": "a8b9b774019441baac4049735b552048",
       "version_major": 2,
       "version_minor": 0
      },
      "text/plain": [
       "E3SM-MMF.mlo.0008-02-27-67200.nc:   0%|          | 0.00/1.13M [00:00<?, ?B/s]"
      ]
     },
     "metadata": {},
     "output_type": "display_data"
    },
    {
     "data": {
      "application/vnd.jupyter.widget-view+json": {
       "model_id": "894c7ccc294b4ea5ad6c28c34ee6b797",
       "version_major": 2,
       "version_minor": 0
      },
      "text/plain": [
       "E3SM-MMF.mlo.0008-02-27-68400.nc:   0%|          | 0.00/1.13M [00:00<?, ?B/s]"
      ]
     },
     "metadata": {},
     "output_type": "display_data"
    },
    {
     "data": {
      "application/vnd.jupyter.widget-view+json": {
       "model_id": "55358a07bf0a409da19b590fe9ec1499",
       "version_major": 2,
       "version_minor": 0
      },
      "text/plain": [
       "E3SM-MMF.mlo.0008-02-27-69600.nc:   0%|          | 0.00/1.13M [00:00<?, ?B/s]"
      ]
     },
     "metadata": {},
     "output_type": "display_data"
    },
    {
     "data": {
      "application/vnd.jupyter.widget-view+json": {
       "model_id": "06c136c4c9664838bd455020ced3bb1f",
       "version_major": 2,
       "version_minor": 0
      },
      "text/plain": [
       "E3SM-MMF.mlo.0008-02-27-70800.nc:   0%|          | 0.00/1.13M [00:00<?, ?B/s]"
      ]
     },
     "metadata": {},
     "output_type": "display_data"
    },
    {
     "data": {
      "application/vnd.jupyter.widget-view+json": {
       "model_id": "bd575cafed7f4d4bb840929eae71e996",
       "version_major": 2,
       "version_minor": 0
      },
      "text/plain": [
       "E3SM-MMF.mlo.0008-02-27-72000.nc:   0%|          | 0.00/1.13M [00:00<?, ?B/s]"
      ]
     },
     "metadata": {},
     "output_type": "display_data"
    },
    {
     "data": {
      "application/vnd.jupyter.widget-view+json": {
       "model_id": "e09f2045e6e74ea59a7e3c9aef6f32c6",
       "version_major": 2,
       "version_minor": 0
      },
      "text/plain": [
       "E3SM-MMF.mlo.0008-02-27-73200.nc:   0%|          | 0.00/1.13M [00:00<?, ?B/s]"
      ]
     },
     "metadata": {},
     "output_type": "display_data"
    },
    {
     "data": {
      "application/vnd.jupyter.widget-view+json": {
       "model_id": "4a1f17f02670451a945fbf17c35ef5a5",
       "version_major": 2,
       "version_minor": 0
      },
      "text/plain": [
       "E3SM-MMF.mlo.0008-02-27-74400.nc:   0%|          | 0.00/1.13M [00:00<?, ?B/s]"
      ]
     },
     "metadata": {},
     "output_type": "display_data"
    },
    {
     "data": {
      "application/vnd.jupyter.widget-view+json": {
       "model_id": "5f44cf1eac624b3887fcace98bbabdea",
       "version_major": 2,
       "version_minor": 0
      },
      "text/plain": [
       "E3SM-MMF.mlo.0008-02-27-75600.nc:   0%|          | 0.00/1.13M [00:00<?, ?B/s]"
      ]
     },
     "metadata": {},
     "output_type": "display_data"
    },
    {
     "data": {
      "application/vnd.jupyter.widget-view+json": {
       "model_id": "1148aa9b258a427faf4253b74c79411b",
       "version_major": 2,
       "version_minor": 0
      },
      "text/plain": [
       "E3SM-MMF.mlo.0008-02-27-76800.nc:   0%|          | 0.00/1.13M [00:00<?, ?B/s]"
      ]
     },
     "metadata": {},
     "output_type": "display_data"
    },
    {
     "data": {
      "application/vnd.jupyter.widget-view+json": {
       "model_id": "8aa27cdf37ea4a4c9f2645ce6a4a3931",
       "version_major": 2,
       "version_minor": 0
      },
      "text/plain": [
       "E3SM-MMF.mlo.0008-02-27-78000.nc:   0%|          | 0.00/1.13M [00:00<?, ?B/s]"
      ]
     },
     "metadata": {},
     "output_type": "display_data"
    },
    {
     "data": {
      "application/vnd.jupyter.widget-view+json": {
       "model_id": "9d4d4982c52441728baf285a49c46cb5",
       "version_major": 2,
       "version_minor": 0
      },
      "text/plain": [
       "E3SM-MMF.mlo.0008-02-27-79200.nc:   0%|          | 0.00/1.13M [00:00<?, ?B/s]"
      ]
     },
     "metadata": {},
     "output_type": "display_data"
    },
    {
     "data": {
      "application/vnd.jupyter.widget-view+json": {
       "model_id": "a360be5e00c64e30999db057494203bb",
       "version_major": 2,
       "version_minor": 0
      },
      "text/plain": [
       "E3SM-MMF.mlo.0008-02-27-80400.nc:   0%|          | 0.00/1.13M [00:00<?, ?B/s]"
      ]
     },
     "metadata": {},
     "output_type": "display_data"
    },
    {
     "data": {
      "application/vnd.jupyter.widget-view+json": {
       "model_id": "ac1212c9c6424b5aa264a77c48c4a1aa",
       "version_major": 2,
       "version_minor": 0
      },
      "text/plain": [
       "E3SM-MMF.mlo.0008-02-27-81600.nc:   0%|          | 0.00/1.13M [00:00<?, ?B/s]"
      ]
     },
     "metadata": {},
     "output_type": "display_data"
    },
    {
     "data": {
      "application/vnd.jupyter.widget-view+json": {
       "model_id": "e95ecccaa62c4e70aafd7ae9e2f7eff0",
       "version_major": 2,
       "version_minor": 0
      },
      "text/plain": [
       "E3SM-MMF.mlo.0008-02-27-82800.nc:   0%|          | 0.00/1.13M [00:00<?, ?B/s]"
      ]
     },
     "metadata": {},
     "output_type": "display_data"
    },
    {
     "data": {
      "application/vnd.jupyter.widget-view+json": {
       "model_id": "9975d861d8f94ba3bf54f49958e09598",
       "version_major": 2,
       "version_minor": 0
      },
      "text/plain": [
       "E3SM-MMF.mlo.0008-02-27-84000.nc:   0%|          | 0.00/1.13M [00:00<?, ?B/s]"
      ]
     },
     "metadata": {},
     "output_type": "display_data"
    },
    {
     "data": {
      "application/vnd.jupyter.widget-view+json": {
       "model_id": "3665adff8a4044d0b01efd9fa1c959e4",
       "version_major": 2,
       "version_minor": 0
      },
      "text/plain": [
       "E3SM-MMF.mlo.0008-02-27-85200.nc:   0%|          | 0.00/1.13M [00:00<?, ?B/s]"
      ]
     },
     "metadata": {},
     "output_type": "display_data"
    },
    {
     "data": {
      "application/vnd.jupyter.widget-view+json": {
       "model_id": "5fa619e9be564c4c92d2bec92144f7f4",
       "version_major": 2,
       "version_minor": 0
      },
      "text/plain": [
       "E3SM-MMF.mlo.0008-02-28-00000.nc:   0%|          | 0.00/1.13M [00:00<?, ?B/s]"
      ]
     },
     "metadata": {},
     "output_type": "display_data"
    },
    {
     "data": {
      "application/vnd.jupyter.widget-view+json": {
       "model_id": "3db514d7b350445a863d1e0d63cb9127",
       "version_major": 2,
       "version_minor": 0
      },
      "text/plain": [
       "E3SM-MMF.mlo.0008-02-28-01200.nc:   0%|          | 0.00/1.13M [00:00<?, ?B/s]"
      ]
     },
     "metadata": {},
     "output_type": "display_data"
    },
    {
     "data": {
      "application/vnd.jupyter.widget-view+json": {
       "model_id": "9e409da01f11466cb4e0923740a347f0",
       "version_major": 2,
       "version_minor": 0
      },
      "text/plain": [
       "E3SM-MMF.mlo.0008-02-28-02400.nc:   0%|          | 0.00/1.13M [00:00<?, ?B/s]"
      ]
     },
     "metadata": {},
     "output_type": "display_data"
    },
    {
     "data": {
      "application/vnd.jupyter.widget-view+json": {
       "model_id": "efe57b0961bd41b681b1c07ba4deb5ed",
       "version_major": 2,
       "version_minor": 0
      },
      "text/plain": [
       "E3SM-MMF.mlo.0008-02-28-03600.nc:   0%|          | 0.00/1.13M [00:00<?, ?B/s]"
      ]
     },
     "metadata": {},
     "output_type": "display_data"
    },
    {
     "data": {
      "application/vnd.jupyter.widget-view+json": {
       "model_id": "5b0c90a7ed62427c94f3141ee230535a",
       "version_major": 2,
       "version_minor": 0
      },
      "text/plain": [
       "E3SM-MMF.mlo.0008-02-28-04800.nc:   0%|          | 0.00/1.13M [00:00<?, ?B/s]"
      ]
     },
     "metadata": {},
     "output_type": "display_data"
    },
    {
     "data": {
      "application/vnd.jupyter.widget-view+json": {
       "model_id": "8ea3d1b5ab28478494404e6bf45d25a2",
       "version_major": 2,
       "version_minor": 0
      },
      "text/plain": [
       "E3SM-MMF.mlo.0008-02-28-06000.nc:   0%|          | 0.00/1.13M [00:00<?, ?B/s]"
      ]
     },
     "metadata": {},
     "output_type": "display_data"
    },
    {
     "data": {
      "application/vnd.jupyter.widget-view+json": {
       "model_id": "4466e17f471c4c94b620ffb6fd7336b6",
       "version_major": 2,
       "version_minor": 0
      },
      "text/plain": [
       "E3SM-MMF.mlo.0008-02-28-07200.nc:   0%|          | 0.00/1.13M [00:00<?, ?B/s]"
      ]
     },
     "metadata": {},
     "output_type": "display_data"
    },
    {
     "data": {
      "application/vnd.jupyter.widget-view+json": {
       "model_id": "3916653a926d4cc3803f014302ad2b4e",
       "version_major": 2,
       "version_minor": 0
      },
      "text/plain": [
       "E3SM-MMF.mlo.0008-02-28-08400.nc:   0%|          | 0.00/1.13M [00:00<?, ?B/s]"
      ]
     },
     "metadata": {},
     "output_type": "display_data"
    },
    {
     "data": {
      "application/vnd.jupyter.widget-view+json": {
       "model_id": "96171a0f5f0c45b1a72df1aa426f4827",
       "version_major": 2,
       "version_minor": 0
      },
      "text/plain": [
       "E3SM-MMF.mlo.0008-02-28-09600.nc:   0%|          | 0.00/1.13M [00:00<?, ?B/s]"
      ]
     },
     "metadata": {},
     "output_type": "display_data"
    },
    {
     "data": {
      "application/vnd.jupyter.widget-view+json": {
       "model_id": "03774f9bd02d4eaf92de4d666a3f8c0b",
       "version_major": 2,
       "version_minor": 0
      },
      "text/plain": [
       "E3SM-MMF.mlo.0008-02-28-10800.nc:   0%|          | 0.00/1.13M [00:00<?, ?B/s]"
      ]
     },
     "metadata": {},
     "output_type": "display_data"
    },
    {
     "data": {
      "application/vnd.jupyter.widget-view+json": {
       "model_id": "0835199f584a414180246325b5d10f46",
       "version_major": 2,
       "version_minor": 0
      },
      "text/plain": [
       "E3SM-MMF.mlo.0008-02-28-12000.nc:   0%|          | 0.00/1.13M [00:00<?, ?B/s]"
      ]
     },
     "metadata": {},
     "output_type": "display_data"
    },
    {
     "data": {
      "application/vnd.jupyter.widget-view+json": {
       "model_id": "fb12f53297054d3ca68ed27445000996",
       "version_major": 2,
       "version_minor": 0
      },
      "text/plain": [
       "E3SM-MMF.mlo.0008-02-28-13200.nc:   0%|          | 0.00/1.13M [00:00<?, ?B/s]"
      ]
     },
     "metadata": {},
     "output_type": "display_data"
    },
    {
     "data": {
      "application/vnd.jupyter.widget-view+json": {
       "model_id": "f12a190c38fb4e16ba04f47a3ceaf2a5",
       "version_major": 2,
       "version_minor": 0
      },
      "text/plain": [
       "E3SM-MMF.mlo.0008-02-28-14400.nc:   0%|          | 0.00/1.13M [00:00<?, ?B/s]"
      ]
     },
     "metadata": {},
     "output_type": "display_data"
    },
    {
     "data": {
      "application/vnd.jupyter.widget-view+json": {
       "model_id": "93dbafb7095d4fc6bb49df70b36c3cd4",
       "version_major": 2,
       "version_minor": 0
      },
      "text/plain": [
       "E3SM-MMF.mlo.0008-02-28-15600.nc:   0%|          | 0.00/1.13M [00:00<?, ?B/s]"
      ]
     },
     "metadata": {},
     "output_type": "display_data"
    },
    {
     "data": {
      "application/vnd.jupyter.widget-view+json": {
       "model_id": "094897c5a0d44875b3fe574d024529e7",
       "version_major": 2,
       "version_minor": 0
      },
      "text/plain": [
       "E3SM-MMF.mlo.0008-02-28-16800.nc:   0%|          | 0.00/1.13M [00:00<?, ?B/s]"
      ]
     },
     "metadata": {},
     "output_type": "display_data"
    },
    {
     "data": {
      "application/vnd.jupyter.widget-view+json": {
       "model_id": "ef62b8b0e1ca45c591962376d3c21f92",
       "version_major": 2,
       "version_minor": 0
      },
      "text/plain": [
       "E3SM-MMF.mlo.0008-02-28-18000.nc:   0%|          | 0.00/1.13M [00:00<?, ?B/s]"
      ]
     },
     "metadata": {},
     "output_type": "display_data"
    },
    {
     "data": {
      "application/vnd.jupyter.widget-view+json": {
       "model_id": "08f96af5733b41b7976ca4b0f20fc11c",
       "version_major": 2,
       "version_minor": 0
      },
      "text/plain": [
       "E3SM-MMF.mlo.0008-02-28-19200.nc:   0%|          | 0.00/1.13M [00:00<?, ?B/s]"
      ]
     },
     "metadata": {},
     "output_type": "display_data"
    },
    {
     "data": {
      "application/vnd.jupyter.widget-view+json": {
       "model_id": "e0aa1bcab1f24f18966e7c76c2a03818",
       "version_major": 2,
       "version_minor": 0
      },
      "text/plain": [
       "E3SM-MMF.mlo.0008-02-28-20400.nc:   0%|          | 0.00/1.13M [00:00<?, ?B/s]"
      ]
     },
     "metadata": {},
     "output_type": "display_data"
    },
    {
     "data": {
      "application/vnd.jupyter.widget-view+json": {
       "model_id": "1b142c95568d44c297d646658607f544",
       "version_major": 2,
       "version_minor": 0
      },
      "text/plain": [
       "E3SM-MMF.mlo.0008-02-28-21600.nc:   0%|          | 0.00/1.13M [00:00<?, ?B/s]"
      ]
     },
     "metadata": {},
     "output_type": "display_data"
    },
    {
     "data": {
      "application/vnd.jupyter.widget-view+json": {
       "model_id": "23c690243db64aed85d0deaac15fac02",
       "version_major": 2,
       "version_minor": 0
      },
      "text/plain": [
       "E3SM-MMF.mlo.0008-02-28-22800.nc:   0%|          | 0.00/1.13M [00:00<?, ?B/s]"
      ]
     },
     "metadata": {},
     "output_type": "display_data"
    },
    {
     "data": {
      "application/vnd.jupyter.widget-view+json": {
       "model_id": "116d131690344345835141045107177b",
       "version_major": 2,
       "version_minor": 0
      },
      "text/plain": [
       "E3SM-MMF.mlo.0008-02-28-24000.nc:   0%|          | 0.00/1.13M [00:00<?, ?B/s]"
      ]
     },
     "metadata": {},
     "output_type": "display_data"
    },
    {
     "data": {
      "application/vnd.jupyter.widget-view+json": {
       "model_id": "34123591bc564f149ac704af27867dcd",
       "version_major": 2,
       "version_minor": 0
      },
      "text/plain": [
       "E3SM-MMF.mlo.0008-02-28-25200.nc:   0%|          | 0.00/1.13M [00:00<?, ?B/s]"
      ]
     },
     "metadata": {},
     "output_type": "display_data"
    },
    {
     "data": {
      "application/vnd.jupyter.widget-view+json": {
       "model_id": "88c97acd68304fdf811c621330f57b5e",
       "version_major": 2,
       "version_minor": 0
      },
      "text/plain": [
       "E3SM-MMF.mlo.0008-02-28-26400.nc:   0%|          | 0.00/1.13M [00:00<?, ?B/s]"
      ]
     },
     "metadata": {},
     "output_type": "display_data"
    },
    {
     "data": {
      "application/vnd.jupyter.widget-view+json": {
       "model_id": "f6b57dd667054647a9b88909e2f591ec",
       "version_major": 2,
       "version_minor": 0
      },
      "text/plain": [
       "E3SM-MMF.mlo.0008-02-28-27600.nc:   0%|          | 0.00/1.13M [00:00<?, ?B/s]"
      ]
     },
     "metadata": {},
     "output_type": "display_data"
    },
    {
     "data": {
      "application/vnd.jupyter.widget-view+json": {
       "model_id": "0fd13804e0784ae382aea4deb9c58752",
       "version_major": 2,
       "version_minor": 0
      },
      "text/plain": [
       "E3SM-MMF.mlo.0008-02-28-28800.nc:   0%|          | 0.00/1.13M [00:00<?, ?B/s]"
      ]
     },
     "metadata": {},
     "output_type": "display_data"
    },
    {
     "data": {
      "application/vnd.jupyter.widget-view+json": {
       "model_id": "3d60ef8783404922a0f5521416f814d6",
       "version_major": 2,
       "version_minor": 0
      },
      "text/plain": [
       "E3SM-MMF.mlo.0008-02-28-30000.nc:   0%|          | 0.00/1.13M [00:00<?, ?B/s]"
      ]
     },
     "metadata": {},
     "output_type": "display_data"
    },
    {
     "data": {
      "application/vnd.jupyter.widget-view+json": {
       "model_id": "2542cfcc2437420c9c1b2f4119c95ffe",
       "version_major": 2,
       "version_minor": 0
      },
      "text/plain": [
       "E3SM-MMF.mlo.0008-02-28-31200.nc:   0%|          | 0.00/1.13M [00:00<?, ?B/s]"
      ]
     },
     "metadata": {},
     "output_type": "display_data"
    },
    {
     "data": {
      "application/vnd.jupyter.widget-view+json": {
       "model_id": "db528296fcd0427b9a72198955b1203e",
       "version_major": 2,
       "version_minor": 0
      },
      "text/plain": [
       "E3SM-MMF.mlo.0008-02-28-32400.nc:   0%|          | 0.00/1.13M [00:00<?, ?B/s]"
      ]
     },
     "metadata": {},
     "output_type": "display_data"
    },
    {
     "data": {
      "application/vnd.jupyter.widget-view+json": {
       "model_id": "b3656640f9b74cdc848d5974fd78d944",
       "version_major": 2,
       "version_minor": 0
      },
      "text/plain": [
       "E3SM-MMF.mlo.0008-02-28-33600.nc:   0%|          | 0.00/1.13M [00:00<?, ?B/s]"
      ]
     },
     "metadata": {},
     "output_type": "display_data"
    },
    {
     "data": {
      "application/vnd.jupyter.widget-view+json": {
       "model_id": "06ecf9f1eb9f426d8d59e0bd8a07be43",
       "version_major": 2,
       "version_minor": 0
      },
      "text/plain": [
       "E3SM-MMF.mlo.0008-02-28-34800.nc:   0%|          | 0.00/1.13M [00:00<?, ?B/s]"
      ]
     },
     "metadata": {},
     "output_type": "display_data"
    },
    {
     "data": {
      "application/vnd.jupyter.widget-view+json": {
       "model_id": "69f3ca4720054f89b62843ced6d8c966",
       "version_major": 2,
       "version_minor": 0
      },
      "text/plain": [
       "E3SM-MMF.mlo.0008-02-28-36000.nc:   0%|          | 0.00/1.13M [00:00<?, ?B/s]"
      ]
     },
     "metadata": {},
     "output_type": "display_data"
    },
    {
     "data": {
      "application/vnd.jupyter.widget-view+json": {
       "model_id": "61661d9e79b84f85a0650b7c3f31ade1",
       "version_major": 2,
       "version_minor": 0
      },
      "text/plain": [
       "E3SM-MMF.mlo.0008-02-28-37200.nc:   0%|          | 0.00/1.13M [00:00<?, ?B/s]"
      ]
     },
     "metadata": {},
     "output_type": "display_data"
    },
    {
     "data": {
      "application/vnd.jupyter.widget-view+json": {
       "model_id": "98e9c322592e439f99797847a2f57c8e",
       "version_major": 2,
       "version_minor": 0
      },
      "text/plain": [
       "E3SM-MMF.mlo.0008-02-28-38400.nc:   0%|          | 0.00/1.13M [00:00<?, ?B/s]"
      ]
     },
     "metadata": {},
     "output_type": "display_data"
    },
    {
     "data": {
      "application/vnd.jupyter.widget-view+json": {
       "model_id": "fb2f1ce7afa440e188695d894a063232",
       "version_major": 2,
       "version_minor": 0
      },
      "text/plain": [
       "E3SM-MMF.mlo.0008-02-28-39600.nc:   0%|          | 0.00/1.13M [00:00<?, ?B/s]"
      ]
     },
     "metadata": {},
     "output_type": "display_data"
    },
    {
     "data": {
      "application/vnd.jupyter.widget-view+json": {
       "model_id": "aad6cc8500cd4dde8d1aaaed23725040",
       "version_major": 2,
       "version_minor": 0
      },
      "text/plain": [
       "E3SM-MMF.mlo.0008-02-28-40800.nc:   0%|          | 0.00/1.13M [00:00<?, ?B/s]"
      ]
     },
     "metadata": {},
     "output_type": "display_data"
    },
    {
     "data": {
      "application/vnd.jupyter.widget-view+json": {
       "model_id": "c19ad60f633840fbb682aef199e13e9e",
       "version_major": 2,
       "version_minor": 0
      },
      "text/plain": [
       "E3SM-MMF.mlo.0008-02-28-42000.nc:   0%|          | 0.00/1.13M [00:00<?, ?B/s]"
      ]
     },
     "metadata": {},
     "output_type": "display_data"
    },
    {
     "data": {
      "application/vnd.jupyter.widget-view+json": {
       "model_id": "ee24f281ade242c4944092a527ea278b",
       "version_major": 2,
       "version_minor": 0
      },
      "text/plain": [
       "E3SM-MMF.mlo.0008-02-28-43200.nc:   0%|          | 0.00/1.13M [00:00<?, ?B/s]"
      ]
     },
     "metadata": {},
     "output_type": "display_data"
    },
    {
     "data": {
      "application/vnd.jupyter.widget-view+json": {
       "model_id": "c7db7cb0deeb4075880d2ae98fa9c6e6",
       "version_major": 2,
       "version_minor": 0
      },
      "text/plain": [
       "E3SM-MMF.mlo.0008-02-28-44400.nc:   0%|          | 0.00/1.13M [00:00<?, ?B/s]"
      ]
     },
     "metadata": {},
     "output_type": "display_data"
    },
    {
     "data": {
      "application/vnd.jupyter.widget-view+json": {
       "model_id": "7493d0d87b6c496bb22f088c6e269ed7",
       "version_major": 2,
       "version_minor": 0
      },
      "text/plain": [
       "E3SM-MMF.mlo.0008-02-28-45600.nc:   0%|          | 0.00/1.13M [00:00<?, ?B/s]"
      ]
     },
     "metadata": {},
     "output_type": "display_data"
    },
    {
     "data": {
      "application/vnd.jupyter.widget-view+json": {
       "model_id": "e3855006d7894ee4ba2800a62df8c790",
       "version_major": 2,
       "version_minor": 0
      },
      "text/plain": [
       "E3SM-MMF.mlo.0008-02-28-46800.nc:   0%|          | 0.00/1.13M [00:00<?, ?B/s]"
      ]
     },
     "metadata": {},
     "output_type": "display_data"
    },
    {
     "data": {
      "application/vnd.jupyter.widget-view+json": {
       "model_id": "b3ba321af65645c6821ea04ed3a80e12",
       "version_major": 2,
       "version_minor": 0
      },
      "text/plain": [
       "E3SM-MMF.mlo.0008-02-28-48000.nc:   0%|          | 0.00/1.13M [00:00<?, ?B/s]"
      ]
     },
     "metadata": {},
     "output_type": "display_data"
    },
    {
     "data": {
      "application/vnd.jupyter.widget-view+json": {
       "model_id": "5863046df91642318943f44b2c058355",
       "version_major": 2,
       "version_minor": 0
      },
      "text/plain": [
       "E3SM-MMF.mlo.0008-02-28-49200.nc:   0%|          | 0.00/1.13M [00:00<?, ?B/s]"
      ]
     },
     "metadata": {},
     "output_type": "display_data"
    },
    {
     "data": {
      "application/vnd.jupyter.widget-view+json": {
       "model_id": "df2f1f5924664a17a0e4f640eb06174f",
       "version_major": 2,
       "version_minor": 0
      },
      "text/plain": [
       "E3SM-MMF.mlo.0008-02-28-50400.nc:   0%|          | 0.00/1.13M [00:00<?, ?B/s]"
      ]
     },
     "metadata": {},
     "output_type": "display_data"
    },
    {
     "data": {
      "application/vnd.jupyter.widget-view+json": {
       "model_id": "d58c1d5f1bf1417eaabd3d2d2cfaa489",
       "version_major": 2,
       "version_minor": 0
      },
      "text/plain": [
       "E3SM-MMF.mlo.0008-02-28-51600.nc:   0%|          | 0.00/1.13M [00:00<?, ?B/s]"
      ]
     },
     "metadata": {},
     "output_type": "display_data"
    },
    {
     "data": {
      "application/vnd.jupyter.widget-view+json": {
       "model_id": "fe0c9f3bafcf4097ae1ad551fabb715f",
       "version_major": 2,
       "version_minor": 0
      },
      "text/plain": [
       "E3SM-MMF.mlo.0008-02-28-52800.nc:   0%|          | 0.00/1.13M [00:00<?, ?B/s]"
      ]
     },
     "metadata": {},
     "output_type": "display_data"
    },
    {
     "data": {
      "application/vnd.jupyter.widget-view+json": {
       "model_id": "b93a505ad7d347c28c5a1bb597c25530",
       "version_major": 2,
       "version_minor": 0
      },
      "text/plain": [
       "E3SM-MMF.mlo.0008-02-28-54000.nc:   0%|          | 0.00/1.13M [00:00<?, ?B/s]"
      ]
     },
     "metadata": {},
     "output_type": "display_data"
    },
    {
     "data": {
      "application/vnd.jupyter.widget-view+json": {
       "model_id": "5387a33a55014e2799a6220e718efeaf",
       "version_major": 2,
       "version_minor": 0
      },
      "text/plain": [
       "E3SM-MMF.mlo.0008-02-28-55200.nc:   0%|          | 0.00/1.13M [00:00<?, ?B/s]"
      ]
     },
     "metadata": {},
     "output_type": "display_data"
    },
    {
     "data": {
      "application/vnd.jupyter.widget-view+json": {
       "model_id": "6ec8ae73944e4a8f9981eef05f3a77f6",
       "version_major": 2,
       "version_minor": 0
      },
      "text/plain": [
       "E3SM-MMF.mlo.0008-02-28-56400.nc:   0%|          | 0.00/1.13M [00:00<?, ?B/s]"
      ]
     },
     "metadata": {},
     "output_type": "display_data"
    },
    {
     "data": {
      "application/vnd.jupyter.widget-view+json": {
       "model_id": "4fabc896df6849e9b16b2b4cded09c15",
       "version_major": 2,
       "version_minor": 0
      },
      "text/plain": [
       "E3SM-MMF.mlo.0008-02-28-57600.nc:   0%|          | 0.00/1.13M [00:00<?, ?B/s]"
      ]
     },
     "metadata": {},
     "output_type": "display_data"
    },
    {
     "data": {
      "application/vnd.jupyter.widget-view+json": {
       "model_id": "38c5bc3fb6d344f384db4361c74752ce",
       "version_major": 2,
       "version_minor": 0
      },
      "text/plain": [
       "E3SM-MMF.mlo.0008-02-28-58800.nc:   0%|          | 0.00/1.13M [00:00<?, ?B/s]"
      ]
     },
     "metadata": {},
     "output_type": "display_data"
    },
    {
     "data": {
      "application/vnd.jupyter.widget-view+json": {
       "model_id": "b137160cf07842098513712fb8adb8c2",
       "version_major": 2,
       "version_minor": 0
      },
      "text/plain": [
       "E3SM-MMF.mlo.0008-02-28-60000.nc:   0%|          | 0.00/1.13M [00:00<?, ?B/s]"
      ]
     },
     "metadata": {},
     "output_type": "display_data"
    },
    {
     "data": {
      "application/vnd.jupyter.widget-view+json": {
       "model_id": "7f149953e10c4a63acf352dcd4d0ddac",
       "version_major": 2,
       "version_minor": 0
      },
      "text/plain": [
       "E3SM-MMF.mlo.0008-02-28-61200.nc:   0%|          | 0.00/1.13M [00:00<?, ?B/s]"
      ]
     },
     "metadata": {},
     "output_type": "display_data"
    },
    {
     "data": {
      "application/vnd.jupyter.widget-view+json": {
       "model_id": "c1c117a72a0246ea94ac0ab1c77ba34a",
       "version_major": 2,
       "version_minor": 0
      },
      "text/plain": [
       "E3SM-MMF.mlo.0008-02-28-62400.nc:   0%|          | 0.00/1.13M [00:00<?, ?B/s]"
      ]
     },
     "metadata": {},
     "output_type": "display_data"
    },
    {
     "data": {
      "application/vnd.jupyter.widget-view+json": {
       "model_id": "bf6d18e0258a4801a55bc3edef5eab02",
       "version_major": 2,
       "version_minor": 0
      },
      "text/plain": [
       "E3SM-MMF.mlo.0008-02-28-63600.nc:   0%|          | 0.00/1.13M [00:00<?, ?B/s]"
      ]
     },
     "metadata": {},
     "output_type": "display_data"
    },
    {
     "data": {
      "application/vnd.jupyter.widget-view+json": {
       "model_id": "a2af83767e7f45719a1ceb7d69388d6d",
       "version_major": 2,
       "version_minor": 0
      },
      "text/plain": [
       "E3SM-MMF.mlo.0008-02-28-64800.nc:   0%|          | 0.00/1.13M [00:00<?, ?B/s]"
      ]
     },
     "metadata": {},
     "output_type": "display_data"
    },
    {
     "data": {
      "application/vnd.jupyter.widget-view+json": {
       "model_id": "cfb642788c49432caeae1100853f062f",
       "version_major": 2,
       "version_minor": 0
      },
      "text/plain": [
       "E3SM-MMF.mlo.0008-02-28-66000.nc:   0%|          | 0.00/1.13M [00:00<?, ?B/s]"
      ]
     },
     "metadata": {},
     "output_type": "display_data"
    },
    {
     "data": {
      "application/vnd.jupyter.widget-view+json": {
       "model_id": "f3e528ce91ff46d1a5a40dd6e2cbfa2e",
       "version_major": 2,
       "version_minor": 0
      },
      "text/plain": [
       "E3SM-MMF.mlo.0008-02-28-67200.nc:   0%|          | 0.00/1.13M [00:00<?, ?B/s]"
      ]
     },
     "metadata": {},
     "output_type": "display_data"
    },
    {
     "data": {
      "application/vnd.jupyter.widget-view+json": {
       "model_id": "764a6f6d94524e6ab1d3c3edc4052f74",
       "version_major": 2,
       "version_minor": 0
      },
      "text/plain": [
       "E3SM-MMF.mlo.0008-02-28-68400.nc:   0%|          | 0.00/1.13M [00:00<?, ?B/s]"
      ]
     },
     "metadata": {},
     "output_type": "display_data"
    },
    {
     "data": {
      "application/vnd.jupyter.widget-view+json": {
       "model_id": "edff1291010a4c949d952ffb96f73c7b",
       "version_major": 2,
       "version_minor": 0
      },
      "text/plain": [
       "E3SM-MMF.mlo.0008-02-28-69600.nc:   0%|          | 0.00/1.13M [00:00<?, ?B/s]"
      ]
     },
     "metadata": {},
     "output_type": "display_data"
    },
    {
     "data": {
      "application/vnd.jupyter.widget-view+json": {
       "model_id": "932cd41939f7439c94f26f2ef408076e",
       "version_major": 2,
       "version_minor": 0
      },
      "text/plain": [
       "E3SM-MMF.mlo.0008-02-28-70800.nc:   0%|          | 0.00/1.13M [00:00<?, ?B/s]"
      ]
     },
     "metadata": {},
     "output_type": "display_data"
    },
    {
     "data": {
      "application/vnd.jupyter.widget-view+json": {
       "model_id": "a4e0e551252b4473a52af1be3ca603ce",
       "version_major": 2,
       "version_minor": 0
      },
      "text/plain": [
       "E3SM-MMF.mlo.0008-02-28-72000.nc:   0%|          | 0.00/1.13M [00:00<?, ?B/s]"
      ]
     },
     "metadata": {},
     "output_type": "display_data"
    },
    {
     "data": {
      "application/vnd.jupyter.widget-view+json": {
       "model_id": "c56b684d403749d99e7279d047e27e45",
       "version_major": 2,
       "version_minor": 0
      },
      "text/plain": [
       "E3SM-MMF.mlo.0008-02-28-73200.nc:   0%|          | 0.00/1.13M [00:00<?, ?B/s]"
      ]
     },
     "metadata": {},
     "output_type": "display_data"
    },
    {
     "data": {
      "application/vnd.jupyter.widget-view+json": {
       "model_id": "c8759dfa7b11419ab9e44a7c84fc381c",
       "version_major": 2,
       "version_minor": 0
      },
      "text/plain": [
       "E3SM-MMF.mlo.0008-02-28-74400.nc:   0%|          | 0.00/1.13M [00:00<?, ?B/s]"
      ]
     },
     "metadata": {},
     "output_type": "display_data"
    },
    {
     "data": {
      "application/vnd.jupyter.widget-view+json": {
       "model_id": "8a0dad394d334e2ca32326071260ae1f",
       "version_major": 2,
       "version_minor": 0
      },
      "text/plain": [
       "E3SM-MMF.mlo.0008-02-28-75600.nc:   0%|          | 0.00/1.13M [00:00<?, ?B/s]"
      ]
     },
     "metadata": {},
     "output_type": "display_data"
    },
    {
     "data": {
      "application/vnd.jupyter.widget-view+json": {
       "model_id": "6399fb50a1774c0891d4a054464440ff",
       "version_major": 2,
       "version_minor": 0
      },
      "text/plain": [
       "E3SM-MMF.mlo.0008-02-28-76800.nc:   0%|          | 0.00/1.13M [00:00<?, ?B/s]"
      ]
     },
     "metadata": {},
     "output_type": "display_data"
    },
    {
     "data": {
      "application/vnd.jupyter.widget-view+json": {
       "model_id": "29a1ced7a6e640f2abb270849c69dba8",
       "version_major": 2,
       "version_minor": 0
      },
      "text/plain": [
       "E3SM-MMF.mlo.0008-02-28-78000.nc:   0%|          | 0.00/1.13M [00:00<?, ?B/s]"
      ]
     },
     "metadata": {},
     "output_type": "display_data"
    },
    {
     "data": {
      "application/vnd.jupyter.widget-view+json": {
       "model_id": "34498fadf31a47e7a33b6d411738ed04",
       "version_major": 2,
       "version_minor": 0
      },
      "text/plain": [
       "E3SM-MMF.mlo.0008-02-28-79200.nc:   0%|          | 0.00/1.13M [00:00<?, ?B/s]"
      ]
     },
     "metadata": {},
     "output_type": "display_data"
    },
    {
     "data": {
      "application/vnd.jupyter.widget-view+json": {
       "model_id": "242f3fd22d1e47b49b8c6b06ee1925a3",
       "version_major": 2,
       "version_minor": 0
      },
      "text/plain": [
       "E3SM-MMF.mlo.0008-02-28-80400.nc:   0%|          | 0.00/1.13M [00:00<?, ?B/s]"
      ]
     },
     "metadata": {},
     "output_type": "display_data"
    },
    {
     "data": {
      "application/vnd.jupyter.widget-view+json": {
       "model_id": "6fc07f075a56467594506694d0f03804",
       "version_major": 2,
       "version_minor": 0
      },
      "text/plain": [
       "E3SM-MMF.mlo.0008-02-28-81600.nc:   0%|          | 0.00/1.13M [00:00<?, ?B/s]"
      ]
     },
     "metadata": {},
     "output_type": "display_data"
    },
    {
     "data": {
      "application/vnd.jupyter.widget-view+json": {
       "model_id": "1b4c6d909339423db778ab6f0a6ce0de",
       "version_major": 2,
       "version_minor": 0
      },
      "text/plain": [
       "E3SM-MMF.mlo.0008-02-28-82800.nc:   0%|          | 0.00/1.13M [00:00<?, ?B/s]"
      ]
     },
     "metadata": {},
     "output_type": "display_data"
    },
    {
     "data": {
      "application/vnd.jupyter.widget-view+json": {
       "model_id": "6d22ca48ec9045598024e81efb0c787d",
       "version_major": 2,
       "version_minor": 0
      },
      "text/plain": [
       "E3SM-MMF.mlo.0008-02-28-84000.nc:   0%|          | 0.00/1.13M [00:00<?, ?B/s]"
      ]
     },
     "metadata": {},
     "output_type": "display_data"
    },
    {
     "data": {
      "application/vnd.jupyter.widget-view+json": {
       "model_id": "b91afb93eae74efe9130c2d26ebf093a",
       "version_major": 2,
       "version_minor": 0
      },
      "text/plain": [
       "E3SM-MMF.mlo.0008-02-28-85200.nc:   0%|          | 0.00/1.13M [00:00<?, ?B/s]"
      ]
     },
     "metadata": {},
     "output_type": "display_data"
    }
   ],
   "source": [
    "#Set your own local directory\n",
    "local_dir = r\"C:\\Users\\wangj\\Desktop\\ClimSim\\retrieved_data\"\n",
    "#Download train data from huggingface\n",
    "#download_nc(training_period, local_dir)\n",
    "#Download validation data from huggingface\n",
    "download_nc(validation_period, local_dir)"
   ]
  },
  {
   "cell_type": "markdown",
   "metadata": {},
   "source": [
    "### Instantiating class"
   ]
  },
  {
   "cell_type": "code",
   "execution_count": 5,
   "metadata": {
    "ExecuteTime": {
     "end_time": "2023-11-01T23:47:03.067207Z",
     "start_time": "2023-11-01T23:47:02.949338Z"
    }
   },
   "outputs": [],
   "source": [
    "grid_path = 'C:/Users/wangj/Desktop/ClimSim/grid_info/ClimSim_low-res_grid-info.nc'\n",
    "norm_path = 'C:/Users/wangj/Desktop/ClimSim/normalizations/'\n",
    "\n",
    "grid_info = xr.open_dataset(grid_path)\n",
    "input_mean = xr.open_dataset(norm_path + 'inputs/input_mean.nc')\n",
    "input_max = xr.open_dataset(norm_path + 'inputs/input_max.nc')\n",
    "input_min = xr.open_dataset(norm_path + 'inputs/input_min.nc')\n",
    "output_scale = xr.open_dataset(norm_path + 'outputs/output_scale.nc')\n",
    "\n",
    "data = data_utils(grid_info = grid_info, \n",
    "                  input_mean = input_mean, \n",
    "                  input_max = input_max, \n",
    "                  input_min = input_min, \n",
    "                  output_scale = output_scale)"
   ]
  },
  {
   "cell_type": "markdown",
   "metadata": {},
   "source": [
    "### Create training data"
   ]
  },
  {
   "cell_type": "code",
   "execution_count": 7,
   "metadata": {
    "ExecuteTime": {
     "end_time": "2023-11-01T23:49:23.975758Z",
     "start_time": "2023-11-01T23:47:57.413461Z"
    }
   },
   "outputs": [],
   "source": [
    "# set data path\n",
    "data.data_path = \"C:/Users/wangj/Desktop/ClimSim/retrieved_data/train/\"\n",
    "\n",
    "# set inputs and outputs to V1 subset\n",
    "data.set_to_v1_vars()\n",
    "\n",
    "# v1 inputs (name :: description :: dimension :: units): \n",
    "\n",
    "# 'state_t' :: air temperature :: 60 :: K \n",
    "# 'state_q0001' :: specific humidity :: 60 :: kg/kg\n",
    "# 'state_ps' :: surface pressure :: 1 :: Pa\n",
    "# 'pbuf_SOLIN' :: solar insolation :: 1 :: W/m^2\n",
    "# 'pbuf_LHFLX' :: surface latent heat flux :: 1 :: W/m^2\n",
    "# 'pbuf_SHFLX' :: surface sensible heat flux :: 1 :: W/m^2\n",
    "\n",
    "# v1 outputs (name :: description :: dimension :: units): \n",
    "\n",
    "# 'ptend_t' :: heating tendency :: 60 :: K/s \n",
    "# 'ptend_q0001' :: moistening tendency :: 60 :: kg/kg/s\n",
    "# 'cam_out_NETSW' :: net shortwave flux at surface :: 1 :: W/m^2\n",
    "# 'cam_out_FLWDS' :: downward longwave flux at surface :: 1 :: W/m^2 \n",
    "# 'cam_out_PRECSC' :: snow rate (liquid water equivalent) :: 1 :: m/s \n",
    "# 'cam_out_PRECC' :: rain rate :: 1 :: m/s\n",
    "# 'cam_out_SOLS' :: downward visible direct solar flux to surface :: 1 :: W/m^2\n",
    "# 'cam_out_SOLL' :: downward near-infrared direct solar flux to surface :: 1 :: W/m^2\n",
    "# 'cam_out_SOLSD' :: downward diffuse solar flux to surface :: 1 :: W/m^2\n",
    "# 'cam_out_SOLLD' :: downward diffuse near-infrared solar flux to surface :: 1 :: W/m^2\n",
    "\n",
    "# set regular expressions for selecting training data\n",
    "data.set_regexps(data_split = 'train', \n",
    "                 regexps = data_filter[1]) \n",
    "# set temporal subsampling\n",
    "data.set_stride_sample(data_split = 'train', stride_sample = 7)\n",
    "# create list of files to extract data from\n",
    "data.set_filelist(data_split = 'train')\n",
    "# save numpy files of training data\n",
    "data.save_as_npy(data_split = 'train', save_path = '')"
   ]
  },
  {
   "cell_type": "markdown",
   "metadata": {},
   "source": [
    "### Create validation data"
   ]
  },
  {
   "cell_type": "code",
   "execution_count": 16,
   "metadata": {
    "ExecuteTime": {
     "end_time": "2023-11-02T02:28:37.533250Z",
     "start_time": "2023-11-02T02:27:15.802726Z"
    }
   },
   "outputs": [],
   "source": [
    "# set regular expressions for selecting validation data\n",
    "data.set_regexps(data_split = 'val',\n",
    "                 regexps = data_filter[2]) \n",
    "# set temporal subsampling\n",
    "data.set_stride_sample(data_split = 'val', stride_sample = 7)\n",
    "# create list of files to extract data from\n",
    "data.set_filelist(data_split = 'val')\n",
    "# save numpy files of validation data\n",
    "data.save_as_npy(data_split = 'val', save_path = '')"
   ]
  },
  {
   "cell_type": "markdown",
   "metadata": {},
   "source": [
    "### Create scoring data"
   ]
  },
  {
   "cell_type": "code",
   "execution_count": 17,
   "metadata": {
    "ExecuteTime": {
     "end_time": "2023-11-02T02:31:02.883003Z",
     "start_time": "2023-11-02T02:29:02.120298Z"
    }
   },
   "outputs": [],
   "source": [
    "# set regular expressions for selecting scoring data (stride of 6 is needed for daily averaging)\n",
    "data.set_regexps(data_split = 'scoring',\n",
    "                 regexps = data_filter[2]) # first month of year 9\n",
    "# set temporal subsampling\n",
    "data.set_stride_sample(data_split = 'scoring', stride_sample = 6)\n",
    "# create list of files to extract data from\n",
    "data.set_filelist(data_split = 'scoring')\n",
    "# save numpy files of scoring data\n",
    "data.save_as_npy(data_split = 'scoring', save_path = '')"
   ]
  },
  {
   "cell_type": "code",
   "execution_count": 18,
   "metadata": {
    "ExecuteTime": {
     "end_time": "2023-11-02T02:31:47.120304Z",
     "start_time": "2023-11-02T02:31:47.113304Z"
    }
   },
   "outputs": [
    {
     "name": "stdout",
     "output_type": "stream",
     "text": [
      "finished\n"
     ]
    }
   ],
   "source": [
    "print('finished')"
   ]
  }
 ],
 "metadata": {
  "kernelspec": {
   "display_name": "Python 3 (ipykernel)",
   "language": "python",
   "name": "python3"
  },
  "language_info": {
   "codemirror_mode": {
    "name": "ipython",
    "version": 3
   },
   "file_extension": ".py",
   "mimetype": "text/x-python",
   "name": "python",
   "nbconvert_exporter": "python",
   "pygments_lexer": "ipython3",
   "version": "3.9.18"
  }
 },
 "nbformat": 4,
 "nbformat_minor": 2
}
